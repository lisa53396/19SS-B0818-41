{
 "cells": [
  {
   "cell_type": "markdown",
   "metadata": {
    "colab_type": "text",
    "id": "4z_feS2dDwlJ"
   },
   "source": [
    "## Importing Packages Needed"
   ]
  },
  {
   "cell_type": "code",
   "execution_count": 2,
   "metadata": {
    "colab": {},
    "colab_type": "code",
    "id": "zJLqZxwce0pN"
   },
   "outputs": [],
   "source": [
    "import numpy as np\n",
    "import matplotlib.pyplot as py\n",
    "from scipy.optimize import curve_fit\n",
    "import collections as col\n",
    "import statistics\n",
    "from scipy.interpolate import UnivariateSpline\n",
    "import math as mt"
   ]
  },
  {
   "cell_type": "markdown",
   "metadata": {
    "colab_type": "text",
    "id": "FamzMgIcD2xs"
   },
   "source": [
    "## Definition of Named Tuples"
   ]
  },
  {
   "cell_type": "code",
   "execution_count": 3,
   "metadata": {
    "colab": {},
    "colab_type": "code",
    "id": "Uzxt0sq0qeHc"
   },
   "outputs": [],
   "source": [
    "component = col.namedtuple('component','phase intensity')\n",
    "ind_component = col.namedtuple('component','phase intensity width')\n",
    "pulse_component = col.namedtuple('pulse_component','frequency comp1 comp2 errors')\n",
    "component_separation = col.namedtuple('component_separation','frequency separation')"
   ]
  },
  {
   "cell_type": "markdown",
   "metadata": {
    "colab_type": "text",
    "id": "a8CeXWdQIy8b"
   },
   "source": [
    "# Definition of Functions"
   ]
  },
  {
   "cell_type": "markdown",
   "metadata": {
    "colab_type": "text",
    "id": "nOegi6c8I3gu"
   },
   "source": [
    "Gaussian Fitting Functions:"
   ]
  },
  {
   "cell_type": "code",
   "execution_count": 4,
   "metadata": {
    "colab": {},
    "colab_type": "code",
    "id": "Jf6ae6VTR-iR"
   },
   "outputs": [],
   "source": [
    "def gauss(x,amp,cen,sd):\n",
    "    return amp*np.exp(-(x-cen)**2/(2*sd**2))\\\n",
    "\n",
    "def multi_gauss(x, *params):\n",
    "    y = np.zeros_like(x)\n",
    "    for i in range(0, len(params), 3):\n",
    "        a = params[i]\n",
    "        b = params[i+1]\n",
    "        c = params[i+2]\n",
    "        y = y +  a * np.exp( -(((x-b)**2) / (2*c**2)) )\n",
    "    return y"
   ]
  },
  {
   "cell_type": "code",
   "execution_count": 5,
   "metadata": {},
   "outputs": [],
   "source": [
    "\"\"\"\n",
    "    Used to get the parameters, covariance matrix and errors for any number of gaussian fits, through and expected value. \n",
    "\"\"\"\n",
    "def fitting_parameters(x,y,expected):\n",
    "    bound=([],[])\n",
    "    for i in range(len(expected)):\n",
    "        bound[0].append(0)\n",
    "        bound[1].append(np.inf)\n",
    "        \n",
    "    params,cov=curve_fit(multi_gauss,x,y,expected, bounds=bound)\n",
    "    sigma=np.sqrt(np.diag(cov))\n",
    "    return params, cov, sigma"
   ]
  },
  {
   "cell_type": "markdown",
   "metadata": {},
   "source": [
    "Chi Squared functions"
   ]
  },
  {
   "cell_type": "code",
   "execution_count": 6,
   "metadata": {},
   "outputs": [],
   "source": [
    "\"\"\"\n",
    "    Compute the data's chi squared values.\n",
    "\n",
    "    Parameters:\n",
    "    -----------\n",
    "    observed_values: list\n",
    "        A list of floats - the raw data\n",
    "    expected_values: list\n",
    "        A list of floats - the expected data or the fit\n",
    "    err: float/list\n",
    "        The error across all data - standard deviation of the noise\n",
    "\n",
    "    Returns:\n",
    "    --------\n",
    "    test_statistic: float\n",
    "        The chi squared value of the data\n",
    "    \n",
    "    Created by Keegan Smith\n",
    "\"\"\"\n",
    "def chsq(observed_values, expected_values, err):\n",
    "    test_statistic=0\n",
    "    for observed, expected in zip(observed_values, expected_values):\n",
    "        test_statistic+=((float(observed)-float(expected))/float(err))**2\n",
    "    return test_statistic\n",
    "\n",
    "def chsq_err(observed_values, expected_values, err):\n",
    "    #Same as above but used when there is a different error for each point\n",
    "    test_statistic=0\n",
    "    for observed, expected, error in zip(observed_values, expected_values, err):\n",
    "        test_statistic+=((float(observed)-float(expected))/float(error))**2\n",
    "    return test_statistic"
   ]
  },
  {
   "cell_type": "markdown",
   "metadata": {},
   "source": [
    "Error Finding Functions"
   ]
  },
  {
   "cell_type": "code",
   "execution_count": 7,
   "metadata": {},
   "outputs": [],
   "source": [
    "def sigmaClip(data, alpha=3, tol=0.1, ntrials=10):\n",
    "    \"\"\"\n",
    "    Compute the data's median, m, and its standard deviation, sigma.\n",
    "    Keep only the data that falls in the range (m-alpha*sigma,m+alpha*sigma) for some value of alpha, and discard everything else.\n",
    "    This operation is repeated ntrials number of times or until the tolerance level is hit.\n",
    "\n",
    "    Parameters:\n",
    "    -----------\n",
    "    data: list\n",
    "        A list of floats - the data to clip\n",
    "    alpha: float\n",
    "        OPTIONAL - Determines the number of sigmas to use to determine the upper nad lower limits. Default=3\n",
    "    tol: float\n",
    "        OPTIONAL - The fractional change in the standard deviation that determines when the tolerance is hit. Default=0.1\n",
    "    ntrils: int\n",
    "        OPTIONAL - The maximum number of times to apply the operation. Default=10\n",
    "\n",
    "    Returns:\n",
    "    --------\n",
    "    oldstd: float\n",
    "        The std of the clipped data\n",
    "    x: list\n",
    "        The data list that contains only noise, with nans in place of 'real' data\n",
    "    \n",
    "    Created by Nick Swainston\n",
    "    \"\"\"\n",
    "    x = np.copy(data)\n",
    "    oldstd = np.nanstd(x)\n",
    "    #When the x[x<lolim] and x[x>hilim] commands encounter a nan it produces a\n",
    "    #warning. This is expected because it is ignoring flagged data from a\n",
    "    #previous trial so the warning is supressed.\n",
    "    old_settings = np.seterr(all='ignore')\n",
    "    for trial in range(ntrials):\n",
    "        median = np.nanmedian(x)\n",
    "\n",
    "        lolim = median - alpha * oldstd\n",
    "        hilim = median + alpha * oldstd\n",
    "        x[x<lolim] = np.nan\n",
    "        x[x>hilim] = np.nan\n",
    "\n",
    "        newstd = np.nanstd(x)\n",
    "        tollvl = (oldstd - newstd) / newstd\n",
    "\n",
    "        if tollvl <= tol:\n",
    "            np.seterr(**old_settings)\n",
    "            return oldstd, x\n",
    "\n",
    "        if trial + 1 == ntrials:\n",
    "            np.seterr(**old_settings)\n",
    "            return oldstd, x\n",
    "\n",
    "        oldstd = newstd"
   ]
  },
  {
   "cell_type": "code",
   "execution_count": 8,
   "metadata": {},
   "outputs": [],
   "source": [
    "def multi_gauss_ddx(x, *params):\n",
    "    #derivative of gaussian\n",
    "    y = np.zeros_like(x)\n",
    "    for i in range(0, len(params), 3):\n",
    "        a = params[i]\n",
    "        b = params[i+1]\n",
    "        c = params[i+2]\n",
    "        y = y - a/c**2 * (x - b) * np.exp( -(((x-b)**2) / (2*c**2)) )\n",
    "    return y\n",
    "\n",
    "def multi_gauss_d2dx2(x, *params):\n",
    "    #double derivative of gaussian\n",
    "    y = np.zeros_like(x)\n",
    "    for i in range(0, len(params), 3):\n",
    "        a = params[i]\n",
    "        b = params[i+1]\n",
    "        c = params[i+2]\n",
    "        y = y + (multi_gauss(x, a, b, c) / c**2) * (((x - b)**2)/(c**2) - 1)\n",
    "    return y\n",
    "\n",
    "def jacobian_slope(x, *params):\n",
    "    \"\"\"\n",
    "    Evaluates the Jacobian matrix of a gaussian slope at a single point, x\n",
    "\n",
    "    Parameters:\n",
    "    -----------\n",
    "    x: float\n",
    "        The point to evaluate\n",
    "    *params: list\n",
    "        A list containing three parameters per gaussian component in the order: Amp, Mean, Width\n",
    "\n",
    "    Returns:\n",
    "    --------\n",
    "    J: numpy.matrix\n",
    "        The Jacobian matrix\n",
    "    \"\"\"\n",
    "    def dda(a, b, c, x):\n",
    "        return -multi_gauss(x, a, b, c) * (x - b)/(c**2)/a\n",
    "    def ddb(a, b, c, x):\n",
    "        return multi_gauss(x, a, b, c) * (1 - (x - b)**2/(c**2))/c**2\n",
    "    def ddc(a, b, c, x):\n",
    "        return multi_gauss(x, a, b, c) * (x - b)/(c**3) * (2 - (x-b)**2/(c**2))\n",
    "    J = []\n",
    "    for i in range(0, len(params), 3):\n",
    "        a = params[i]\n",
    "        b = params[i+1]\n",
    "        c = params[i+2]\n",
    "        mypars = [a, b, c, x]\n",
    "        J.append(dda(*mypars))\n",
    "        J.append(ddb(*mypars))\n",
    "        J.append(ddc(*mypars))\n",
    "    J = np.asmatrix(J)\n",
    "    return J"
   ]
  },
  {
   "cell_type": "code",
   "execution_count": 9,
   "metadata": {},
   "outputs": [],
   "source": [
    "def find_x_err(x, popt, pcov):\n",
    "    \"\"\"\n",
    "    Finds the error in the horizontal position of a gaussian fit at the point x.\n",
    "    Uses the equation sigma_x = sigma_y/d2ydx2 where:\n",
    "    sigma_x = error in x\n",
    "    d2ydx2 = second derivative of the gaussian function at point x\n",
    "    sigma_y = sqrt.J*C*J_T\n",
    "    J = Jacobian evalutated at point x\n",
    "    C = covariance matrix of gaussian fit\n",
    "    J_T = transposed jacobian\n",
    "\n",
    "    Parameters:\n",
    "    -----------\n",
    "    x: list\n",
    "        A list of points to evaluate the error at\n",
    "    popt: list\n",
    "        The parameters used to describe the gaussian fit\n",
    "    pcov: numpy.matrix\n",
    "        The covariance matrix corresponding to popt\n",
    "\n",
    "    Returns:\n",
    "    --------\n",
    "    x_err: list\n",
    "        The error evaluated at each point, x\n",
    "    \"\"\"\n",
    "    x_err = []\n",
    "    for i, point in enumerate(x):\n",
    "        J = jacobian_slope(point, *popt)\n",
    "        d2dx2 = multi_gauss_d2dx2(point, *popt)\n",
    "        JC = np.matmul(J, pcov)\n",
    "        sigma_y = np.sqrt( np.matmul(JC, np.transpose(J)).item(0) )\n",
    "        x_err.append(sigma_y / abs(d2dx2))\n",
    "    return x_err"
   ]
  },
  {
   "cell_type": "markdown",
   "metadata": {
    "colab_type": "text",
    "id": "Hf__MEBnJEd_"
   },
   "source": [
    "Finding Peak of Fittings Function"
   ]
  },
  {
   "cell_type": "code",
   "execution_count": 10,
   "metadata": {},
   "outputs": [],
   "source": [
    "def find_minima_maxima_gauss(popt, pcov, x_length):\n",
    "    \"\"\"\n",
    "    Finds all peaks of a gaussian function, where the derivative is equal to zero. \n",
    "\n",
    "    Parameters:\n",
    "    -----------\n",
    "    popt: list\n",
    "        A list of length 3N where N is the number of gaussians. This list contains the parameters amp, mean, centre respectively\n",
    "    x_length: int\n",
    "        The length of the list used to fit the gaussian\n",
    "\n",
    "    Returns:\n",
    "    --------\n",
    "    minima: list\n",
    "        A list of the minimum points of the fit\n",
    "    maxima: list\n",
    "        A list of the maximum points of the fit\n",
    "    \"\"\"\n",
    "    #Create the derivative list and spline it to find roots\n",
    "    x = np.linspace(0, x_length-1, x_length)\n",
    "    dy = multi_gauss_ddx(x, *popt)\n",
    "    spline_dy = UnivariateSpline(x, dy, s=0)\n",
    "    roots = spline_dy.roots()\n",
    "    \n",
    "    #Find which are max and min\n",
    "    maxima = []\n",
    "    minima = []\n",
    "    for root in roots:\n",
    "        idx = int(root + 0.5)\n",
    "        if dy[idx-1] > dy[idx]:\n",
    "            maxima.append(root)\n",
    "        else:\n",
    "            minima.append(root)            \n",
    "            \n",
    "    minima_e = find_x_err(minima, popt, pcov)\n",
    "    maxima_e = find_x_err(maxima, popt, pcov)\n",
    "\n",
    "    return minima, maxima, minima_e, maxima_e"
   ]
  },
  {
   "cell_type": "code",
   "execution_count": 11,
   "metadata": {},
   "outputs": [],
   "source": [
    "def gauss_peaks(fit, nofreqband, freqband, pcov, params,freq_low,freq_high):\n",
    "    \"\"\"\n",
    "    Find the peaks of a gaussian fit, take the highest two and create a profile_comp.\n",
    "    Also converts the phase into degrees and the frequency into MHz.\n",
    "    \n",
    "    Parameters:\n",
    "    -----------\n",
    "    fit: list\n",
    "        the gaussian fit to find peaks of\n",
    "    nofreqband: int\n",
    "        total number of frequency bins \n",
    "    freqband: int\n",
    "        current frequency band which has been fit\n",
    "    pcov: list\n",
    "        the covariance matrix from the fit\n",
    "    params: list\n",
    "        the parameters for the fit\n",
    "    freq_low: int\n",
    "        the lower boundary of the frequency range\n",
    "    freq_high: int\n",
    "        the high boundary of the frequency range\n",
    "    Returns:\n",
    "    --------\n",
    "    profile_comp: pulse_component\n",
    "        carrys information about each component at a certain frequency\n",
    "    \"\"\"\n",
    "    \n",
    "    deg_mod=360/len(fit)\n",
    "    \n",
    "    #Find the peaks of the fit, and the intensity at those peaks\n",
    "    minima, peakpos, minima_e, err = find_minima_maxima_gauss(params, pcov, len(fit))\n",
    "    peakint = multi_gauss(peakpos, *params)\n",
    "    \n",
    "    #Removes peaks until only two highest remain - which also have to be the two outer peaks\n",
    "    #If the highest do not correspond to the outer, the frequency band is not used\n",
    "    while len(peakpos)>2:\n",
    "        mn=min(peakint)\n",
    "        peakint = list(peakint)\n",
    "        rm = peakint.index(mn)\n",
    "        if rm!=0 and rm!=len(peakpos)-1:\n",
    "            del peakpos[rm]\n",
    "            del peakint[rm]\n",
    "            del err[rm]\n",
    "        else:\n",
    "            break \n",
    "\n",
    "    #Assign the peaks to the correct component label, also converts phase from bins to degrees\n",
    "    if len(peakpos)==2:\n",
    "        component1 = component(phase=(deg_mod)*peakpos[0], intensity=peakint[0])\n",
    "        component2 = component(phase=(deg_mod)*peakpos[1], intensity=peakint[1])\n",
    "        error = np.array(err)*(deg_mod)\n",
    "    else:\n",
    "        component1 = component(phase=0, intensity=0)\n",
    "        component2 = component(phase=0, intensity=0)\n",
    "        error = 0       \n",
    "   \n",
    "    #Converts the frequency from bins to MHz   \n",
    "    bandlen=((freq_high-freq_low)/nofreqband)\n",
    "    freq=(bandlen*(nofreqband-freqband))+freq_low+(bandlen/2)\n",
    "\n",
    "    profile_comp = pulse_component(frequency=freq, comp1=component1, comp2=component2, errors=error)\n",
    "\n",
    "    return profile_comp"
   ]
  },
  {
   "cell_type": "code",
   "execution_count": 12,
   "metadata": {},
   "outputs": [],
   "source": [
    "\"\"\"\n",
    "    Graphing Sub-pulse operation:\n",
    "    Used to get the correct x, y and error arrays created for graphing the data and finding a fit.\n",
    "\"\"\"\n",
    "def graphing_comp(fit_comp,comp_num):\n",
    "        phase_comp=[]\n",
    "        frequency_comp=[]\n",
    "        comp_err=[]\n",
    "\n",
    "        for i in range(0,len(fit_comp)):\n",
    "            if fit_comp[i][comp_num][0]!=0:\n",
    "                phase_comp.append(fit_comp[i][comp_num][0])\n",
    "                frequency_comp.append(fit_comp[i][0])\n",
    "                comp_err.append(fit_comp[i][3][comp_num-1])\n",
    "\n",
    "        return phase_comp, frequency_comp, comp_err    "
   ]
  },
  {
   "cell_type": "markdown",
   "metadata": {},
   "source": [
    "Removing outliers"
   ]
  },
  {
   "cell_type": "code",
   "execution_count": 13,
   "metadata": {},
   "outputs": [],
   "source": [
    "\"\"\"\n",
    "    Used to remove outliers more than the threshold number of standard deviations from the mean. \n",
    "    Also removes points with high errors (greater than 100 degrees).\n",
    "\"\"\"\n",
    "def detect_outlier(frequency_comp, phase_comp, comp_err , threshold):\n",
    "    phase=[]\n",
    "    frequency=[]\n",
    "    err=[]\n",
    "    \n",
    "    #Find mean and standard deviation of data\n",
    "    mean_1 = np.mean(phase_comp)\n",
    "    std_1 =np.std(phase_comp)\n",
    "    \n",
    "    for i in range(len(phase_comp)):\n",
    "        #Find z score\n",
    "        z_score= (phase_comp[i] - mean_1)/std_1 \n",
    "        #Only include points which have a z score under the threshold value, and with errors less than 100 degrees\n",
    "        if np.abs(z_score) < threshold and comp_err[i]<100:\n",
    "            phase.append(phase_comp[i])\n",
    "            frequency.append(frequency_comp[i])\n",
    "            err.append(comp_err[i])\n",
    "    return frequency, phase, err"
   ]
  },
  {
   "cell_type": "markdown",
   "metadata": {
    "colab_type": "text",
    "id": "4P1qFLYpI9hB"
   },
   "source": [
    "Plotting Fittings Functions"
   ]
  },
  {
   "cell_type": "code",
   "execution_count": 14,
   "metadata": {
    "colab": {},
    "colab_type": "code",
    "id": "gPhqw8WaI8pp"
   },
   "outputs": [],
   "source": [
    "\"\"\"\n",
    "    Plotting functions to plot the gaussian fit, three gaussian fit with the gaussians filled in,\n",
    "    and the peaks of the gaussian fit. \n",
    "\"\"\"\n",
    "def plot_fit(x,y,fit,params,sigma):\n",
    "    py.plot(x, y, lw=1, label='data')\n",
    "    py.plot(x,fit, color='red',lw=3,label='gaussian fit')\n",
    "    py.xlabel('Phase Bin')\n",
    "    py.ylabel('Intensity')\n",
    "    py.legend()\n",
    "    return\n",
    "\n",
    "def plot_fill(x,y,params):\n",
    "    params1 = params[0:3]\n",
    "    params2 = params[3:6]\n",
    "    params3 = params[6:9]\n",
    "    params4 = params[9:12]\n",
    "    gfit1 = gauss(x, *params1)\n",
    "    gfit2 = gauss(x, *params2)\n",
    "    gfit3 = gauss(x, *params3)\n",
    "    gfit4 = gauss(x, *params4)\n",
    "\n",
    "    py.plot(x, y, lw=1, label='data')\n",
    "    py.plot(x,fit,color='red',lw=3,label='gaussian fit')\n",
    "    py.xlabel('Phase Bin')\n",
    "    py.ylabel('Intensity')\n",
    "    py.legend()\n",
    "\n",
    "    py.plot(x, gfit1, \"g\")\n",
    "    py.fill_between(x, gfit1.min(), gfit1, facecolor=\"green\", alpha=0.5)\n",
    "    py.plot(x, gfit2, \"y\")\n",
    "    py.fill_between(x, gfit2.min(), gfit2, facecolor=\"yellow\", alpha=0.5)\n",
    "    py.plot(x, gfit3, \"b\")\n",
    "    py.fill_between(x, gfit3.min(), gfit3, facecolor=\"blue\", alpha=0.5)\n",
    "    py.plot(x, gfit4, \"r\")\n",
    "    py.fill_between(x, gfit3.min(), gfit4, facecolor=\"red\", alpha=0.5)\n",
    "    return \n",
    "\n",
    "def plot_peaks(x,y,profile_comp):\n",
    "    py.plot(x,y, lw=1)\n",
    "    py.plot(x, fit, color='red', lw=3, label='gaussian fit')\n",
    "\n",
    "    x=[profile_comp[i][0] for i in range(1,3)]\n",
    "    y=[profile_comp[i][1] for i in range(1,3)]\n",
    "\n",
    "    py.plot(x, y ,'X', markerfacecolor='black', markeredgecolor='black', label='peaks')\n",
    "\n",
    "    py.xlabel('Phase (deg)')\n",
    "    py.ylabel('Intensity')\n",
    "    py.legend()\n",
    "    return"
   ]
  },
  {
   "cell_type": "markdown",
   "metadata": {
    "colab_type": "text",
    "id": "L_oE3uFcsKkA"
   },
   "source": [
    "Functions for Fitting Separation Data"
   ]
  },
  {
   "cell_type": "code",
   "execution_count": 15,
   "metadata": {
    "colab": {},
    "colab_type": "code",
    "id": "_V1yQ0U5__mq"
   },
   "outputs": [],
   "source": [
    "def thorsett(x, A, alpha, smin):\n",
    "    return (A * (x**(alpha)) + smin)\n",
    "def powerlaw(x, A, alpha):\n",
    "    return (A * (x**(alpha)))"
   ]
  },
  {
   "cell_type": "code",
   "execution_count": 16,
   "metadata": {
    "colab": {},
    "colab_type": "code",
    "id": "EgEnQbxBujiH"
   },
   "outputs": [],
   "source": [
    "\"\"\"\n",
    "    Used to gain separation of components values and the uncertainties. \n",
    "\"\"\"\n",
    "def separation_singleprofile(components_array):\n",
    "    sep_array=[]\n",
    "    uncert=[]\n",
    "\n",
    "    #Go through all the different frequencies\n",
    "    for i in range(0,len(components_array)):\n",
    "        if components_array[i][1][0] != 0 and components_array[i][2][0] != 0:\n",
    "            freq=components_array[i][0]\n",
    "            #Subtract second component from first\n",
    "            sep=(components_array[i][2][0]) - (components_array[i][1][0])\n",
    "            single_sep=component_separation(frequency=freq, separation=sep)\n",
    "            sep_array.append(single_sep)\n",
    "            #Calculate uncertainty\n",
    "            uncert.append(np.sqrt((components_array[i][3][0])**2 + (components_array[i][3][1])**2))\n",
    "    return sep_array, uncert"
   ]
  },
  {
   "cell_type": "markdown",
   "metadata": {
    "colab_type": "text",
    "id": "HsEW4YA0D-QH"
   },
   "source": [
    "# Importing Data"
   ]
  },
  {
   "cell_type": "markdown",
   "metadata": {
    "colab_type": "text",
    "id": "5aCGkE3ZYbBM"
   },
   "source": [
    "Data must be in text file format from software pdv.\n",
    "Also must contain time scrunched data so that the first column of numbers is always 0 (only one pulse). "
   ]
  },
  {
   "cell_type": "markdown",
   "metadata": {},
   "source": [
    "GMRT data"
   ]
  },
  {
   "cell_type": "code",
   "execution_count": 17,
   "metadata": {
    "colab": {},
    "colab_type": "code",
    "id": "4ieR-2IlfGA_"
   },
   "outputs": [],
   "source": [
    "fulldatatype=([('pulse','i8'),('frequency','i8'),('phase','i8'),('intensity','f8')])"
   ]
  },
  {
   "cell_type": "code",
   "execution_count": 18,
   "metadata": {
    "colab": {},
    "colab_type": "code",
    "id": "o9kgY0kqfIrQ"
   },
   "outputs": [],
   "source": [
    "averageprofiles = np.loadtxt(fname='../archivefiles/com_archivefiles/f28/J0820_s_f28_T_pazi.pdv', dtype=fulldatatype)\n",
    "no_freq_bands = max(averageprofiles['frequency'])+1\n",
    "phase_bins = max(averageprofiles['phase'])+1"
   ]
  },
  {
   "cell_type": "markdown",
   "metadata": {},
   "source": [
    "New GMRT data - 256 bins"
   ]
  },
  {
   "cell_type": "code",
   "execution_count": 20,
   "metadata": {},
   "outputs": [],
   "source": [
    "#averageprofiles = np.loadtxt(fname='../new_archive/all_pulse.paz.T.f64.b256.pdv', dtype=fulldatatype)\n",
    "averageprofiles = np.loadtxt(fname='../new_archive/all_pulse.paz.T.T.newDM.DD.f64.b256.pdv', dtype=fulldatatype)\n",
    "no_freq_bands = max(averageprofiles['frequency'])+1\n",
    "phase_bins = max(averageprofiles['phase'])+1"
   ]
  },
  {
   "cell_type": "markdown",
   "metadata": {},
   "source": [
    "MWA data"
   ]
  },
  {
   "cell_type": "code",
   "execution_count": null,
   "metadata": {},
   "outputs": [],
   "source": [
    "averagemprofiles = np.loadtxt(fname='../archivefiles/com_archivefiles/MWA_f256/J0820_MWA_f256_b4.pdv', dtype=fulldatatype)\n",
    "nom_freq_bands = max(averagemprofiles['frequency'])+1\n",
    "phase_binsm = max(averagemprofiles['phase'])+1"
   ]
  },
  {
   "cell_type": "markdown",
   "metadata": {},
   "source": [
    "MWA profiles "
   ]
  },
  {
   "cell_type": "code",
   "execution_count": null,
   "metadata": {},
   "outputs": [],
   "source": [
    "mwaprofile = np.loadtxt(fname='../archivefiles/com_archivefiles/MWA_F/J0820_MWA_F_T.pdv', dtype=fulldatatype)\n",
    "phase_binsm = max(mwaprofile['phase'])+1"
   ]
  },
  {
   "cell_type": "code",
   "execution_count": null,
   "metadata": {},
   "outputs": [],
   "source": [
    "mwaprofile2 = np.loadtxt(fname='../archivefiles/MWA_pdv/MWA_215.68_F.pdv', dtype=fulldatatype)\n",
    "phase_binsm2 = max(mwaprofile2['phase'])+1"
   ]
  },
  {
   "cell_type": "markdown",
   "metadata": {},
   "source": [
    "Parkes profile"
   ]
  },
  {
   "cell_type": "code",
   "execution_count": null,
   "metadata": {},
   "outputs": [],
   "source": [
    "highfrequencyprofile = np.loadtxt(fname='../archivefiles/parkes_pdv/J0820-4114.1400MHz.txt', dtype=fulldatatype)\n",
    "phase_binsp = max(highfrequencyprofile['phase'])+1"
   ]
  },
  {
   "cell_type": "markdown",
   "metadata": {
    "colab_type": "text",
    "id": "eKWvXxMcEIfE"
   },
   "source": [
    "# INDIVIDUAL FREQUENCY BAND"
   ]
  },
  {
   "cell_type": "markdown",
   "metadata": {
    "colab_type": "text",
    "id": "MVQ_pgyRnofm"
   },
   "source": [
    "Following Section is for error checking. It displays how each frequency band is fitted and it's peaks. "
   ]
  },
  {
   "cell_type": "markdown",
   "metadata": {},
   "source": [
    "#### GMRT Data Set"
   ]
  },
  {
   "cell_type": "markdown",
   "metadata": {},
   "source": [
    "GMRT --> 300-500 (400)"
   ]
  },
  {
   "cell_type": "code",
   "execution_count": 21,
   "metadata": {
    "colab": {},
    "colab_type": "code",
    "id": "mcIptVeffJXA"
   },
   "outputs": [],
   "source": [
    "#Takes a single frequency band out of all the profiles for analysis.\n",
    "freqband = 50\n",
    "f = averageprofiles['frequency'] == freqband\n",
    "phase=averageprofiles['phase'][f]\n",
    "intensity=averageprofiles['intensity'][f]\n",
    "x = phase\n",
    "y = intensity\n",
    "\n",
    "#Expected is taken from Peaks and Gaussian fittings of frequency band 73\n",
    "expected=(7,40,7,2,55,3,4,75,10,9,100,5)\n",
    "\n",
    "#Fits three gaussians to the data\n",
    "params, cov, sigma = fitting_parameters(x,y,expected)\n",
    "fit = multi_gauss(x,*params)\n",
    "#Then finds the maxima of the fit. It only takes the largest two (given they are the outer maxima).\n",
    "#Error for the maxima position is calculated by finding the positions of the fit at an intensity-noise level\n",
    "profile_comp = gauss_peaks(fit, no_freq_bands, freqband, cov, params,300,500)"
   ]
  },
  {
   "cell_type": "code",
   "execution_count": 22,
   "metadata": {},
   "outputs": [
    {
     "data": {
      "text/plain": [
       "array([  7.53101235,  39.28086942,   7.70611887,   0.2543342 ,\n",
       "       231.79055583,   9.58348245,   4.44249377,  76.50448834,\n",
       "        22.84916375,  10.9792989 , 102.15302478,   5.57083469])"
      ]
     },
     "execution_count": 22,
     "metadata": {},
     "output_type": "execute_result"
    }
   ],
   "source": [
    "params"
   ]
  },
  {
   "cell_type": "code",
   "execution_count": 23,
   "metadata": {
    "colab": {
     "base_uri": "https://localhost:8080/",
     "height": 279
    },
    "colab_type": "code",
    "id": "vZAjg5geZVkC",
    "outputId": "140132f9-2e27-4888-d3e3-a91c901affe6"
   },
   "outputs": [
    {
     "data": {
      "image/png": "[encoded data removed]",
      "text/plain": [
       "<Figure size 432x288 with 1 Axes>"
      ]
     },
     "metadata": {
      "needs_background": "light"
     },
     "output_type": "display_data"
    }
   ],
   "source": [
    "plot_fill(x,y,params)"
   ]
  },
  {
   "cell_type": "code",
   "execution_count": 24,
   "metadata": {
    "colab": {
     "base_uri": "https://localhost:8080/",
     "height": 279
    },
    "colab_type": "code",
    "id": "mmZe3OBoZ8rn",
    "outputId": "f4fbbdb4-6a61-4b32-a144-7e3e202771b4"
   },
   "outputs": [
    {
     "data": {
      "image/png": "[encoded data removed]",
      "text/plain": [
       "<Figure size 432x288 with 1 Axes>"
      ]
     },
     "metadata": {
      "needs_background": "light"
     },
     "output_type": "display_data"
    }
   ],
   "source": [
    "plot_peaks(x*(360/phase_bins),y,profile_comp)"
   ]
  },
  {
   "cell_type": "markdown",
   "metadata": {},
   "source": [
    "#### EPTA/Parkes data set"
   ]
  },
  {
   "cell_type": "markdown",
   "metadata": {},
   "source": [
    "Parkes --> (??)"
   ]
  },
  {
   "cell_type": "code",
   "execution_count": 25,
   "metadata": {},
   "outputs": [
    {
     "ename": "NameError",
     "evalue": "name 'highfrequencyprofile' is not defined",
     "output_type": "error",
     "traceback": [
      "\u001b[0;31m---------------------------------------------------------------------------\u001b[0m",
      "\u001b[0;31mNameError\u001b[0m                                 Traceback (most recent call last)",
      "\u001b[0;32m<ipython-input-25-860dab39a960>\u001b[0m in \u001b[0;36m<module>\u001b[0;34m\u001b[0m\n\u001b[0;32m----> 1\u001b[0;31m \u001b[0mphase\u001b[0m\u001b[0;34m=\u001b[0m\u001b[0mhighfrequencyprofile\u001b[0m\u001b[0;34m[\u001b[0m\u001b[0;34m'phase'\u001b[0m\u001b[0;34m]\u001b[0m\u001b[0;34m\u001b[0m\u001b[0;34m\u001b[0m\u001b[0m\n\u001b[0m\u001b[1;32m      2\u001b[0m \u001b[0mintensity\u001b[0m\u001b[0;34m=\u001b[0m\u001b[0mhighfrequencyprofile\u001b[0m\u001b[0;34m[\u001b[0m\u001b[0;34m'intensity'\u001b[0m\u001b[0;34m]\u001b[0m\u001b[0;34m\u001b[0m\u001b[0;34m\u001b[0m\u001b[0m\n\u001b[1;32m      3\u001b[0m \u001b[0mx\u001b[0m \u001b[0;34m=\u001b[0m \u001b[0mphase\u001b[0m\u001b[0;34m\u001b[0m\u001b[0;34m\u001b[0m\u001b[0m\n\u001b[1;32m      4\u001b[0m \u001b[0my\u001b[0m\u001b[0;34m=\u001b[0m\u001b[0;34m[\u001b[0m\u001b[0;34m]\u001b[0m\u001b[0;34m\u001b[0m\u001b[0;34m\u001b[0m\u001b[0m\n\u001b[1;32m      5\u001b[0m \u001b[0;34m\u001b[0m\u001b[0m\n",
      "\u001b[0;31mNameError\u001b[0m: name 'highfrequencyprofile' is not defined"
     ]
    }
   ],
   "source": [
    "phase=highfrequencyprofile['phase']\n",
    "intensity=highfrequencyprofile['intensity']\n",
    "x = phase\n",
    "y=[]\n",
    "\n",
    "#Used to bring the data down, to be centred at 0\n",
    "m=statistics.mean(intensity[600:])\n",
    "for i in intensity:\n",
    "    y.append(i-m)\n",
    "\n",
    "#Expected is taken from Peaks and Gaussian fittings of this frequency band\n",
    "expected=(25,270,30,20,370,80,20,470,20)\n",
    "params, cov, sigma = fitting_parameters(x,y,expected)\n",
    "fit = multi_gauss(x,*params)\n",
    "profile_comp = gauss_peaks(fit, 1, 1, cov, params,1396,1397)"
   ]
  },
  {
   "cell_type": "code",
   "execution_count": null,
   "metadata": {},
   "outputs": [],
   "source": [
    "#plot_fill(x,y,params)"
   ]
  },
  {
   "cell_type": "code",
   "execution_count": null,
   "metadata": {},
   "outputs": [],
   "source": [
    "plot_peaks(x*(360/phase_binsp),y,profile_comp)"
   ]
  },
  {
   "cell_type": "markdown",
   "metadata": {},
   "source": [
    "#### MWA Data Set"
   ]
  },
  {
   "cell_type": "code",
   "execution_count": null,
   "metadata": {},
   "outputs": [],
   "source": [
    "freqband = 5\n",
    "f = averagemprofiles['frequency'] == freqband\n",
    "phase=averagemprofiles['phase'][f]\n",
    "intensity=averagemprofiles['intensity'][f]\n",
    "x = phase\n",
    "y = intensity\n",
    "\n",
    "#Expected is taken from Peaks and Gaussian fittings of frequency band 6\n",
    "expected=(0.03,65,9,0.02,90,30,0.07,135,5,0.04,150,9)\n",
    "params,cov,sigma = fitting_parameters(x,y,expected)\n",
    "fit = multi_gauss(x,*params)\n",
    "profile_comp = gauss_peaks(fit, nom_freq_bands, freqband, cov, params,170,200)"
   ]
  },
  {
   "cell_type": "code",
   "execution_count": null,
   "metadata": {},
   "outputs": [],
   "source": [
    "plot_fill(x,y,params)"
   ]
  },
  {
   "cell_type": "code",
   "execution_count": null,
   "metadata": {
    "scrolled": false
   },
   "outputs": [],
   "source": [
    "plot_peaks(x*(360/256),y,profile_comp)"
   ]
  },
  {
   "cell_type": "markdown",
   "metadata": {},
   "source": [
    "#### MWA Profile"
   ]
  },
  {
   "cell_type": "markdown",
   "metadata": {},
   "source": [
    "MWA --> 169.6-200.32 (184.96)\n",
    "MWA2 --> 200.32-231.04 (215.68)"
   ]
  },
  {
   "cell_type": "code",
   "execution_count": null,
   "metadata": {},
   "outputs": [],
   "source": [
    "phase=mwaprofile['phase']\n",
    "intensity=mwaprofile['intensity']\n",
    "x = phase\n",
    "y = intensity\n",
    "\n",
    "#Expected is taken from Peaks and Gaussian fittings of this frequency band\n",
    "expected=(0.04,250,40,0.02,400,100,0.06,550,45,0.02,600,100)\n",
    "params,cov,sigma = fitting_parameters(x,y,expected)\n",
    "fit = multi_gauss(x,*params)\n",
    "profile_comp = gauss_peaks(fit, 1, 1, cov, params,169.6,200.32)"
   ]
  },
  {
   "cell_type": "code",
   "execution_count": null,
   "metadata": {},
   "outputs": [],
   "source": [
    "plot_fill(x,y,params)"
   ]
  },
  {
   "cell_type": "code",
   "execution_count": null,
   "metadata": {},
   "outputs": [],
   "source": [
    "plot_peaks(x*(360/phase_binsm),y,profile_comp)"
   ]
  },
  {
   "cell_type": "code",
   "execution_count": null,
   "metadata": {},
   "outputs": [],
   "source": [
    "phase=mwaprofile2['phase']\n",
    "intensity=mwaprofile2['intensity']\n",
    "x = phase\n",
    "y = intensity\n",
    "\n",
    "#Rearrange the points so that the pulse is in the middle of the window. \n",
    "y = np.concatenate((y[int(phase_binsm2/2):],y[:int(phase_binsm2/2)]))\n",
    "\n",
    "#Expected is taken from Peaks and Gaussian fittings of this frequency band\n",
    "expected=(0.04,15,4,0.02,25,10,0.06,35,4.5,0.02,45,10)\n",
    "params,cov,sigma = fitting_parameters(x,y,expected)\n",
    "fit = multi_gauss(x,*params)\n",
    "profile_comp = gauss_peaks(fit, 1, 1, cov, params,200.32,231.04)"
   ]
  },
  {
   "cell_type": "code",
   "execution_count": null,
   "metadata": {},
   "outputs": [],
   "source": [
    "plot_fill(x,y,params)"
   ]
  },
  {
   "cell_type": "code",
   "execution_count": null,
   "metadata": {},
   "outputs": [],
   "source": [
    "plot_peaks(x*(360/phase_binsm2),y,profile_comp)"
   ]
  },
  {
   "cell_type": "code",
   "execution_count": null,
   "metadata": {},
   "outputs": [],
   "source": [
    "profile_comp"
   ]
  },
  {
   "cell_type": "markdown",
   "metadata": {},
   "source": [
    "# ALL FREQUENCY BANDS"
   ]
  },
  {
   "cell_type": "markdown",
   "metadata": {
    "colab_type": "text",
    "id": "er13GCy-EUTz"
   },
   "source": [
    "# Gaussian Plotting and Finding Peaks of Overall Fit\n"
   ]
  },
  {
   "cell_type": "markdown",
   "metadata": {
    "colab_type": "text",
    "id": "dUDXQCiVhOyH"
   },
   "source": [
    "The following is a looped version of the previous section to find the correct peaks for each pulse profile"
   ]
  },
  {
   "cell_type": "markdown",
   "metadata": {},
   "source": [
    "#### GMRT Data"
   ]
  },
  {
   "cell_type": "code",
   "execution_count": 26,
   "metadata": {
    "colab": {},
    "colab_type": "code",
    "id": "MspZDahR4R4P"
   },
   "outputs": [],
   "source": [
    "fit_components = []\n",
    "#Taken from Peaks and Gaussian fittings of frequency band 73, in the middle\n",
    "#expected=(7,505,30,4,655,80,9,745,20)\n",
    "expected=(7,40,7,2,55,3,4,75,10,9,100,5)\n",
    "\n",
    "#Loop thought all of the frequency bands\n",
    "for i in range(0,no_freq_bands):\n",
    "    freqband = i\n",
    "    f = averageprofiles['frequency'] == freqband\n",
    "    x=averageprofiles['phase'][f]\n",
    "    y=averageprofiles['intensity'][f]\n",
    "\n",
    "    #Fit the gaussians and find peaks and errors, create array with all frequencies\n",
    "    #Resulting frequencies are in MHz and phase in degrees\n",
    "    if len(x)!=0 and len(y)!=0:\n",
    "        params,cov,sigma = fitting_parameters(x,y,expected)\n",
    "        fit = multi_gauss(x,*params)\n",
    "        profile_comp = gauss_peaks(fit, no_freq_bands, freqband, cov, params, 300, 500)\n",
    "  \n",
    "        fit_components.append(profile_comp)"
   ]
  },
  {
   "cell_type": "markdown",
   "metadata": {},
   "source": [
    "#### EPTA Data"
   ]
  },
  {
   "cell_type": "code",
   "execution_count": null,
   "metadata": {},
   "outputs": [],
   "source": [
    "#Do the above but for only one frequency\n",
    "expected=(25,270,30,20,370,80,20,470,20)\n",
    "\n",
    "phase=highfrequencyprofile['phase']\n",
    "intensity=highfrequencyprofile['intensity']\n",
    "x = phase\n",
    "y=[]\n",
    "\n",
    "#Used to bring the data down, to be centred at 0\n",
    "m=statistics.mean(intensity[600:])\n",
    "for i in intensity:\n",
    "    y.append(i-m)\n",
    "\n",
    "#Fit the gaussians and find peaks and errors\n",
    "#Resulting frequencies are in MHz and phase in degrees\n",
    "if len(x)!=0 and len(y)!=0:\n",
    "    params,cov,sigma = fitting_parameters(x,y,expected)\n",
    "    fit = multi_gauss(x,*params)\n",
    "    profile_compsh = gauss_peaks(fit, 1, 1, cov, params,1396,1397)"
   ]
  },
  {
   "cell_type": "markdown",
   "metadata": {},
   "source": [
    "#### MWA Data"
   ]
  },
  {
   "cell_type": "code",
   "execution_count": null,
   "metadata": {},
   "outputs": [],
   "source": [
    "fitm_components = []\n",
    "#Taken from Peaks and Gaussian fittings of frequency band 6, in the middle\n",
    "expected=(0.03,65,9,0.02,90,30,0.07,135,5,0.04,150,9)\n",
    "#Loop thought all of the frequency bands\n",
    "for i in reversed(range(0,nom_freq_bands)):\n",
    "    freqband = i\n",
    "    \n",
    "    f = averagemprofiles['frequency'] == freqband\n",
    "    x=averagemprofiles['phase'][f]\n",
    "    y=averagemprofiles['intensity'][f]\n",
    "    \n",
    "    #Reversing order since MWA pdv file is ordered backwards\n",
    "    freqband = nom_freq_bands-1-i\n",
    "\n",
    "    #Fit the gaussians and find peaks and errors, create array with all frequencies\n",
    "    #Resulting frequencies are in MHz and phase in degrees\n",
    "    if len(x)!=0 and len(y)!=0:\n",
    "        params,cov,sigma = fitting_parameters(x,y,expected)\n",
    "        fit = multi_gauss(x,*params)\n",
    "        profile_comp = gauss_peaks(fit, nom_freq_bands, freqband, cov, params,169.6,200.32)\n",
    "  \n",
    "        fitm_components.append(profile_comp)"
   ]
  },
  {
   "cell_type": "markdown",
   "metadata": {},
   "source": [
    "#### MWA Profile"
   ]
  },
  {
   "cell_type": "code",
   "execution_count": null,
   "metadata": {},
   "outputs": [],
   "source": [
    "#Do the above but for only one frequency\n",
    "expected=(0.04,250,40,0.02,400,100,0.06,550,45,0.02,600,100)\n",
    "\n",
    "phase=mwaprofile['phase']\n",
    "intensity=mwaprofile['intensity']\n",
    "x = phase\n",
    "y = intensity\n",
    "\n",
    "#Fit the gaussians and find peaks and errors\n",
    "#Resulting frequencies are in MHz and phase in degrees\n",
    "if len(x)!=0 and len(y)!=0:\n",
    "    params,cov, sigma = fitting_parameters(x,y,expected)\n",
    "    fit = multi_gauss(x,*params)\n",
    "    profile_compm = gauss_peaks(fit, 1, 1, cov, params,169.6,200.32)"
   ]
  },
  {
   "cell_type": "code",
   "execution_count": null,
   "metadata": {},
   "outputs": [],
   "source": [
    "#Do the above but for only one frequency\n",
    "expected=(0.04,15,4,0.02,25,10,0.06,35,4.5,0.02,45,10)\n",
    "\n",
    "phase=mwaprofile2['phase']\n",
    "intensity=mwaprofile2['intensity']\n",
    "x = phase\n",
    "y = intensity\n",
    "\n",
    "#Rearrange the points so that the pulse is in the middle of the window. \n",
    "y = np.concatenate((y[int(phase_binsm2/2):],y[:int(phase_binsm2/2)]))\n",
    "\n",
    "#Fit the gaussians and find peaks and errors\n",
    "#Resulting frequencies are in MHz and phase in degrees\n",
    "if len(x)!=0 and len(y)!=0:\n",
    "    params,cov,sigma = fitting_parameters(x,y,expected)\n",
    "    fit = multi_gauss(x,*params)\n",
    "    profile_compm2 = gauss_peaks(fit, 1, 1, cov, params,200.32,231.04)"
   ]
  },
  {
   "cell_type": "markdown",
   "metadata": {
    "colab_type": "text",
    "id": "6a03g77-gZa5"
   },
   "source": [
    "# Change of Peak Position over Frequency"
   ]
  },
  {
   "cell_type": "markdown",
   "metadata": {
    "colab_type": "text",
    "id": "KszZ-DmF3pTJ"
   },
   "source": [
    "Starting to graph out all the movement of component phase across frequency"
   ]
  },
  {
   "cell_type": "markdown",
   "metadata": {},
   "source": [
    "## GMRT"
   ]
  },
  {
   "cell_type": "markdown",
   "metadata": {},
   "source": [
    "### Component 1"
   ]
  },
  {
   "cell_type": "code",
   "execution_count": 27,
   "metadata": {
    "colab": {},
    "colab_type": "code",
    "id": "CUJj3cbezRgq"
   },
   "outputs": [
    {
     "data": {
      "text/plain": [
       "<ErrorbarContainer object of 3 artists>"
      ]
     },
     "execution_count": 27,
     "metadata": {},
     "output_type": "execute_result"
    },
    {
     "data": {
      "image/png": "[encoded data removed]",
      "text/plain": [
       "<Figure size 432x288 with 1 Axes>"
      ]
     },
     "metadata": {
      "needs_background": "light"
     },
     "output_type": "display_data"
    }
   ],
   "source": [
    "#Separate the array into x and y axis of phase and frequency which can be graphed\n",
    "phase_comp1, frequency_comp1, comp1_err=graphing_comp(fit_components,1)\n",
    "#Plot points\n",
    "py.errorbar(phase_comp1,frequency_comp1, xerr=comp1_err, fmt='.', lw=0.5, color='red', label='data')\n",
    "py.title('Component 1 - Red Outliers Removed')\n",
    "py.xlabel('Phase (deg))')\n",
    "py.ylabel('Frequency')\n",
    "#Remove outliers which are greater than 'threshold' number of std away from the mean\n",
    "frequency_comp1, phase_comp1, comp1_err = detect_outlier(frequency_comp1, phase_comp1, comp1_err,3)\n",
    "#Plot outlier removed points\n",
    "py.errorbar(phase_comp1,frequency_comp1, xerr=comp1_err, fmt='.', lw=0.5, color='blue',label='data')"
   ]
  },
  {
   "cell_type": "code",
   "execution_count": 28,
   "metadata": {},
   "outputs": [],
   "source": [
    "#Fit the thorsett model to the component position\n",
    "y_range=list(range(290, 510))\n",
    "expect=(500,0.4,16)\n",
    "comp1_params,comp1_cov=curve_fit(thorsett,frequency_comp1,phase_comp1, expect, maxfev=100000, sigma=comp1_err, bounds=([0,-np.inf,0],[np.inf,np.inf,np.inf]))\n",
    "comp1_fit_error=np.sqrt(np.diag(comp1_cov))\n",
    "comp1_fit = thorsett(y_range, *comp1_params)\n",
    "#Fit a powerlaw to component position\n",
    "comp1_paramspl,comp1_covpl=curve_fit(powerlaw,frequency_comp1,phase_comp1, maxfev=10000, sigma=comp1_err)\n",
    "comp1_fit_errorpl=np.sqrt(np.diag(comp1_covpl))\n",
    "comp1_fitpl = powerlaw(y_range, *comp1_paramspl)\n",
    "comp1_fitpl2 = powerlaw(frequency_comp1, *comp1_paramspl)"
   ]
  },
  {
   "cell_type": "code",
   "execution_count": 41,
   "metadata": {},
   "outputs": [
    {
     "data": {
      "image/png": "[encoded data removed]",
      "text/plain": [
       "<Figure size 720x504 with 1 Axes>"
      ]
     },
     "metadata": {
      "needs_background": "light"
     },
     "output_type": "display_data"
    }
   ],
   "source": [
    "#Graph points with the fit ontop\n",
    "py.figure(figsize=(10,7))\n",
    "py.errorbar(phase_comp1,frequency_comp1, xerr=comp1_err, fmt='.', lw=0.5, label='GMRT data', zorder=0)\n",
    "py.plot(comp1_fitpl,y_range, color='red',lw=2, label='power law', zorder=1)\n",
    "py.title('Component 1 - Position')\n",
    "py.xlabel('Phase (deg)')\n",
    "py.ylabel('Frequency (MHz)')\n",
    "py.legend(loc='lower right')\n",
    "py.axis([54,65.5,290,510])\n",
    "py.savefig('figures/Comp1_pos.png')"
   ]
  },
  {
   "cell_type": "code",
   "execution_count": 30,
   "metadata": {},
   "outputs": [
    {
     "name": "stdout",
     "output_type": "stream",
     "text": [
      "The thorsett equation of fit for this pulse is: \t Phase = 373.462 ν^-4.312 + 58.210\n",
      "The errors are 0.0, 7346331.118540132, 0.26062335650439283 \n",
      "\n",
      "The power law equation of fit for this pulse is: \t Phase = 14.670 ν^0.231\n",
      "The errors are 0.761785499378704, 0.008681643042432487\n"
     ]
    }
   ],
   "source": [
    "print(f'The thorsett equation of fit for this pulse is: \\t Phase = {comp1_params[0]:.3f} \\u03BD^{comp1_params[1]:.3f} + {comp1_params[2]:.3f}')\n",
    "print(f'The errors are {comp1_fit_error[0]}, {comp1_fit_error[1]}, {comp1_fit_error[2]} \\n')\n",
    "\n",
    "print(f'The power law equation of fit for this pulse is: \\t Phase = {comp1_paramspl[0]:.3f} \\u03BD^{comp1_paramspl[1]:.3f}')\n",
    "print(f'The errors are {comp1_fit_errorpl[0]}, {comp1_fit_errorpl[1]}')"
   ]
  },
  {
   "cell_type": "code",
   "execution_count": 31,
   "metadata": {},
   "outputs": [
    {
     "name": "stdout",
     "output_type": "stream",
     "text": [
      "The chi squared reduced value is 1.7045779007248993\n"
     ]
    }
   ],
   "source": [
    "print('The chi squared reduced value is', chsq_err(phase_comp1, comp1_fitpl2, comp1_err)/(len(phase_comp1)-2))"
   ]
  },
  {
   "cell_type": "code",
   "execution_count": 32,
   "metadata": {},
   "outputs": [
    {
     "name": "stdout",
     "output_type": "stream",
     "text": [
      "The slope at 400MHz is  0.03370326628653306\n",
      "The phase at 400MHz is  58.43836717457112\n"
     ]
    }
   ],
   "source": [
    "der1=comp1_paramspl[0]*comp1_paramspl[1]*(400)**(comp1_paramspl[1]-1)\n",
    "pha1=comp1_paramspl[0]*(400**comp1_paramspl[1])\n",
    "\n",
    "print('The slope at 400MHz is ', der1)\n",
    "print('The phase at 400MHz is ', pha1)\n",
    "\n"
   ]
  },
  {
   "cell_type": "markdown",
   "metadata": {},
   "source": [
    "### Component 2"
   ]
  },
  {
   "cell_type": "code",
   "execution_count": 33,
   "metadata": {
    "colab": {},
    "colab_type": "code",
    "id": "ylBJ8twuzL8g"
   },
   "outputs": [
    {
     "data": {
      "text/plain": [
       "<ErrorbarContainer object of 3 artists>"
      ]
     },
     "execution_count": 33,
     "metadata": {},
     "output_type": "execute_result"
    },
    {
     "data": {
      "image/png": "[encoded data removed]",
      "text/plain": [
       "<Figure size 432x288 with 1 Axes>"
      ]
     },
     "metadata": {
      "needs_background": "light"
     },
     "output_type": "display_data"
    }
   ],
   "source": [
    "#Separate the array into x and y axis of phase and frequency which can be graphed\n",
    "phase_comp2, frequency_comp2, comp2_err=graphing_comp(fit_components,2)\n",
    "#Plot points\n",
    "py.errorbar(phase_comp2,frequency_comp2, xerr=comp2_err, fmt='.', lw=0.5, color='red', label='data')\n",
    "py.title('Component 2 - Red Outliers Removed')\n",
    "py.xlabel('Phase (deg))')\n",
    "py.ylabel('Frequency')\n",
    "#Remove outliers which are greater than 'threshold' number of std away from the mean\n",
    "frequency_comp2, phase_comp2, comp2_err = detect_outlier(frequency_comp2, phase_comp2, comp2_err,3)\n",
    "#Plot outlier removed points\n",
    "py.errorbar(phase_comp2,frequency_comp2, xerr=comp2_err, fmt='.', lw=0.5, color='blue',label='data')"
   ]
  },
  {
   "cell_type": "code",
   "execution_count": 34,
   "metadata": {},
   "outputs": [],
   "source": [
    "#Fit the thorsett model to the component position\n",
    "expect=(700,0.4,16)\n",
    "comp2_params,comp2_cov=curve_fit(thorsett,frequency_comp2,phase_comp2, expect, maxfev=10000, sigma=comp2_err, bounds=([0,-np.inf,0],[np.inf,np.inf,np.inf]))\n",
    "comp2_fit_error=np.sqrt(np.diag(comp2_cov))\n",
    "comp2_fit = thorsett(y_range, *comp2_params)\n",
    "#Fit a powerlaw to the component position\n",
    "comp2_paramspl,comp2_covpl=curve_fit(powerlaw,frequency_comp2,phase_comp2, maxfev=10000, sigma=comp2_err)\n",
    "comp2_fit_errorpl=np.sqrt(np.diag(comp2_covpl))\n",
    "comp2_fitpl = powerlaw(y_range, *comp2_paramspl)\n",
    "comp2_fitpl2 = powerlaw(frequency_comp2, *comp2_paramspl)"
   ]
  },
  {
   "cell_type": "code",
   "execution_count": 47,
   "metadata": {},
   "outputs": [
    {
     "data": {
      "image/png": "[encoded data removed]",
      "text/plain": [
       "<Figure size 720x504 with 1 Axes>"
      ]
     },
     "metadata": {
      "needs_background": "light"
     },
     "output_type": "display_data"
    }
   ],
   "source": [
    "py.figure(figsize=(10,7))\n",
    "#Graph points with the fit ontop\n",
    "py.errorbar( phase_comp2,frequency_comp2, xerr=comp2_err,color='forestgreen', fmt='.', lw=0.5, label='GMRT data', zorder=0)\n",
    "py.plot(comp2_fitpl,y_range, color='red',lw=2, label='power law', zorder=1)\n",
    "py.title('Component 2 - Position (Zoom)')\n",
    "py.xlabel('Phase (deg)')\n",
    "py.ylabel('Frequency (MHz)')\n",
    "py.legend(loc='lower left')\n",
    "py.axis([136,147.5,290,510])\n",
    "#py.axis([138.8,142.2,290,510])\n",
    "py.savefig('figures/Comp2_pos.png')"
   ]
  },
  {
   "cell_type": "code",
   "execution_count": 36,
   "metadata": {},
   "outputs": [
    {
     "name": "stdout",
     "output_type": "stream",
     "text": [
      "The thorsett equation of fit for this pulse is: \t Phase = 529.353 ν^-0.525 + 118.506\n",
      "The errors are 761.6163080684822, 0.3560228220213249, 15.767555591546548 \n",
      "\n",
      "The power law equation of fit for this pulse is: \t Phase = 236.798 ν^-0.086\n",
      "The errors are 2.342467168183008, 0.0016552446045780922\n"
     ]
    }
   ],
   "source": [
    "print(f'The thorsett equation of fit for this pulse is: \\t Phase = {comp2_params[0]:.3f} \\u03BD^{comp2_params[1]:.3f} + {comp2_params[2]:.3f}')\n",
    "print(f'The errors are {comp2_fit_error[0]}, {comp2_fit_error[1]}, {comp2_fit_error[2]} \\n')\n",
    "\n",
    "print(f'The power law equation of fit for this pulse is: \\t Phase = {comp2_paramspl[0]:.3f} \\u03BD^{comp2_paramspl[1]:.3f}')\n",
    "print(f'The errors are {comp2_fit_errorpl[0]}, {comp2_fit_errorpl[1]}')"
   ]
  },
  {
   "cell_type": "code",
   "execution_count": 37,
   "metadata": {},
   "outputs": [
    {
     "name": "stdout",
     "output_type": "stream",
     "text": [
      "The chi squared reduced value is 1.7318691432442197\n"
     ]
    }
   ],
   "source": [
    "print('The chi squared reduced value is',chsq_err(phase_comp2, comp2_fitpl2, comp2_err)/(len(phase_comp2)-2))"
   ]
  },
  {
   "cell_type": "code",
   "execution_count": 38,
   "metadata": {},
   "outputs": [
    {
     "name": "stdout",
     "output_type": "stream",
     "text": [
      "The slope at 400MHz is  -0.03044679505169558\n",
      "The phase at 400MHz is  141.27478227138076\n"
     ]
    }
   ],
   "source": [
    "der2=comp2_paramspl[0]*comp2_paramspl[1]*(400)**(comp2_paramspl[1]-1)\n",
    "pha2=comp2_paramspl[0]*(400**comp2_paramspl[1])\n",
    "\n",
    "print('The slope at 400MHz is ', der2)\n",
    "print('The phase at 400MHz is ', pha2)"
   ]
  },
  {
   "cell_type": "code",
   "execution_count": 48,
   "metadata": {},
   "outputs": [
    {
     "data": {
      "image/png": "[encoded data removed]",
      "text/plain": [
       "<Figure size 1152x504 with 1 Axes>"
      ]
     },
     "metadata": {
      "needs_background": "light"
     },
     "output_type": "display_data"
    }
   ],
   "source": [
    "py.figure(figsize=(16,7))\n",
    "py.errorbar(phase_comp1,frequency_comp1, xerr=comp1_err, fmt='o', lw=1, label='Component 1', zorder=0)\n",
    "py.plot(comp1_fitpl,y_range, color='red',lw=2, label='power law fits', zorder=1)\n",
    "py.errorbar( phase_comp2,frequency_comp2, xerr=comp2_err,color='forestgreen', fmt='o', lw=1, label='Component 2', zorder=0)\n",
    "py.plot(comp2_fitpl,y_range, color='red',lw=2, zorder=1)\n",
    "py.legend()\n",
    "py.title('Component 1 and 2 Frequency Evolution')\n",
    "py.xlabel('Phase (degrees)')\n",
    "py.ylabel('Frequency (MHz)')\n",
    "py.savefig('figures/C12_FreqEv.png')"
   ]
  },
  {
   "cell_type": "markdown",
   "metadata": {},
   "source": [
    "## Calculations"
   ]
  },
  {
   "cell_type": "code",
   "execution_count": null,
   "metadata": {},
   "outputs": [],
   "source": [
    "print('The width at 400MHz is', (pha2-pha1), (pha2-pha1)/2)"
   ]
  },
  {
   "cell_type": "code",
   "execution_count": null,
   "metadata": {},
   "outputs": [],
   "source": [
    "phi=mt.radians((pha2-pha1)/2)\n",
    "#phi=mt.radians(41)\n",
    "\n",
    "alpha1=mt.radians(11)\n",
    "beta1=mt.radians(-5.4)\n",
    "zeta1=mt.radians(5.6)\n",
    "\n",
    "alpha2=mt.radians(175.4)\n",
    "beta2=mt.radians(-6.9)\n",
    "zeta2=mt.radians(168.5)\n",
    "\n",
    "\n",
    "ap=mt.sin(alpha1)*mt.sin(phi)\n",
    "za=mt.sin(zeta1)*mt.cos(alpha1)\n",
    "zap=mt.cos(zeta1)*mt.sin(alpha1)*mt.cos(phi)\n",
    "tan_psi1=ap/(za-zap)\n",
    "#tan_psi1=(mt.sin(alpha1)*mt.sin(phi))/((mt.sin(zeta1)*mt.cos(alpha1))-(mt.cos(zeta1)*mt.sin(alpha1)*mt.cos(phi)))\n",
    "psi1=mt.atan(tan_psi1)\n",
    "#psi1=mt.radians(mt.degrees(psi1)+180)\n",
    "rat1=mt.sin(psi1)*mt.sin(psi1)\n",
    "\n",
    "\n",
    "tan_psi2=(mt.sin(alpha2)*mt.sin(phi))/((mt.sin(zeta2)*mt.cos(alpha2))-(mt.cos(zeta2)*mt.sin(alpha2)*mt.cos(phi)))\n",
    "psi2=mt.atan(tan_psi2)\n",
    "#psi2=mt.radians(mt.degrees(psi2)+180)\n",
    "rat2=mt.sin(psi2)*mt.sin(psi2)\n",
    "\n",
    "print('The ratio for G1 should be',mt.degrees(psi1),rat1,1/rat1)\n",
    "print('The ratio for G2 should be',mt.degrees(psi2),rat2,1/rat2)"
   ]
  },
  {
   "cell_type": "markdown",
   "metadata": {},
   "source": [
    "## MWA"
   ]
  },
  {
   "cell_type": "markdown",
   "metadata": {},
   "source": [
    "## Component 1"
   ]
  },
  {
   "cell_type": "code",
   "execution_count": null,
   "metadata": {},
   "outputs": [],
   "source": [
    "#Separate the array into x and y axis of phase and frequency which can be graphed\n",
    "phasem_comp1,frequencym_comp1,comp1m_err=graphing_comp(fitm_components,1)\n",
    "\n",
    "#Plot points\n",
    "py.errorbar(phasem_comp1,frequencym_comp1, xerr=comp1m_err, fmt='.', lw=0.5, label='data')\n",
    "py.title('Component 1 - Position')\n",
    "py.xlabel('Phase (deg))')\n",
    "py.ylabel('Frequency')"
   ]
  },
  {
   "cell_type": "code",
   "execution_count": null,
   "metadata": {},
   "outputs": [],
   "source": [
    "#Fit the thorsett model to the component position\n",
    "expect=(500,0.4,16)\n",
    "comp1m_params,comp1m_cov=curve_fit(thorsett,frequencym_comp1,phasem_comp1, maxfev=100000, sigma=comp1m_err)\n",
    "comp1m_fit_error=np.sqrt(np.diag(comp1m_cov))\n",
    "comp1m_fit = thorsett(frequencym_comp1, *comp1m_params)"
   ]
  },
  {
   "cell_type": "markdown",
   "metadata": {},
   "source": [
    "### Component 2"
   ]
  },
  {
   "cell_type": "code",
   "execution_count": null,
   "metadata": {},
   "outputs": [],
   "source": [
    "#Separate the array into x and y axis of phase and frequency which can be graphed\n",
    "phasem_comp2,frequencym_comp2,comp2m_err=graphing_comp(fitm_components,2)\n",
    "\n",
    "#Plot points\n",
    "py.errorbar(phasem_comp2,frequencym_comp2, xerr=comp2m_err, fmt='.', lw=0.5, label='data')\n",
    "py.title('Component 2 - Position')\n",
    "py.xlabel('Phase Bin (deg)')\n",
    "py.ylabel('Frequency')"
   ]
  },
  {
   "cell_type": "code",
   "execution_count": null,
   "metadata": {},
   "outputs": [],
   "source": [
    "#Fit the thorsett model to the component position\n",
    "expect=(700,0.4,16)\n",
    "comp2m_params,comp2m_cov=curve_fit(thorsett,frequencym_comp2,phasem_comp2, maxfev=10000, sigma=comp2m_err, bounds=([0,-1,0],[1000,0.5,np.inf]))\n",
    "comp2m_fit_error=np.sqrt(np.diag(comp2m_cov))\n",
    "comp2m_fit = thorsett(frequencym_comp2, *comp2m_params)"
   ]
  },
  {
   "cell_type": "markdown",
   "metadata": {
    "colab_type": "text",
    "id": "onWmCTwBgzh2"
   },
   "source": [
    "# Fitting Power Laws to Separation "
   ]
  },
  {
   "cell_type": "markdown",
   "metadata": {
    "colab_type": "text",
    "id": "pRvVTEsj_64Q"
   },
   "source": [
    "## Just GMRT"
   ]
  },
  {
   "cell_type": "code",
   "execution_count": null,
   "metadata": {
    "colab": {},
    "colab_type": "code",
    "id": "pacJRC6tIbBS"
   },
   "outputs": [],
   "source": [
    "#Gain component separation values\n",
    "component_sep, sep_error = separation_singleprofile(fit_components)\n",
    "\n",
    "comp_sep=[]\n",
    "frequency_forsep=[]\n",
    "\n",
    "#Put them into arrays for graphing\n",
    "for i in range(0,len(component_sep)):\n",
    "    comp_sep.append(component_sep[i][1])\n",
    "    frequency_forsep.append(component_sep[i][0])"
   ]
  },
  {
   "cell_type": "code",
   "execution_count": null,
   "metadata": {
    "colab": {
     "base_uri": "https://localhost:8080/"
    },
    "colab_type": "code",
    "id": "oE8r2963KMSz",
    "outputId": "25557bf4-1b1c-415d-c785-7fa822a71292"
   },
   "outputs": [],
   "source": [
    "#Plot points\n",
    "py.errorbar(frequency_forsep, comp_sep, yerr=sep_error, color='red', fmt='.', lw=0.5, label='data')\n",
    "py.xlabel('Frequency')\n",
    "py.ylabel('\\u0394\\u03B8 (deg)')\n",
    "\n",
    "#Remove outliers\n",
    "frequency_forsep, comp_sep, sep_error = detect_outlier(frequency_forsep, comp_sep, sep_error, 2.5)\n",
    "\n",
    "#Plot points with outliers removed\n",
    "py.errorbar(frequency_forsep, comp_sep, yerr=sep_error, color='blue', fmt='.', lw=0.5, label='data')\n",
    "py.title('Component Separation - Red Outliers Removed')"
   ]
  },
  {
   "cell_type": "code",
   "execution_count": null,
   "metadata": {
    "colab": {},
    "colab_type": "code",
    "id": "Eb9tysocAfn3"
   },
   "outputs": [],
   "source": [
    "#Create a thorsett fit\n",
    "expect=(703,0.4,16)\n",
    "sep_params,sep_cov=curve_fit(thorsett,frequency_forsep,comp_sep, expect, maxfev=10000, sigma=sep_error, bounds=([0,-1,-np.inf],[np.inf,0.5,np.inf]))\n",
    "sep_fit_error=np.sqrt(np.diag(sep_cov))\n",
    "separation_fit=thorsett(frequency_forsep,*sep_params)"
   ]
  },
  {
   "cell_type": "code",
   "execution_count": null,
   "metadata": {
    "colab": {
     "base_uri": "https://localhost:8080/",
     "height": 300
    },
    "colab_type": "code",
    "id": "oY7ok57vApBN",
    "outputId": "c54100cc-1569-4c6b-fb74-c413acbdf635"
   },
   "outputs": [],
   "source": [
    "#Plot the thorsett fit\n",
    "py.errorbar(frequency_forsep, comp_sep, yerr=sep_error, fmt='.', lw=0.5, label='data',zorder=1)\n",
    "py.plot(frequency_forsep,separation_fit, color='red',lw=2,label='thorsett fit',zorder=2)\n",
    "py.title('Component Separation - Fit Peaks')\n",
    "py.xlabel('Frequency')\n",
    "py.ylabel('\\u0394\\u03B8 (deg)')\n",
    "py.legend(loc='lower left')"
   ]
  },
  {
   "cell_type": "code",
   "execution_count": null,
   "metadata": {},
   "outputs": [],
   "source": [
    "#chi, p = sp.stats.chisquare(comp_sep, separation_fit)\n",
    "print(f'The equation of fit for this pulsar is: \\t \\u0394\\u03B8 = {sep_params[0]:.3f} \\u03BD^{sep_params[1]:.3f} + {sep_params[2]:.3f} \\n')\n",
    "print(f'The errors are {sep_fit_error[0]:.3f}, {sep_fit_error[1]:.3f}, {sep_fit_error[2]:.3f} ')\n",
    "#print('The chi squared value for the fit is: ', chi)\n",
    "print('Units for \\u0394\\u03B8 is degrees and \\u03BD is MHz')\n",
    "print('The chi squared reduced value is',chsq_err(comp_sep, separation_fit, sep_error)/(len(comp_sep)-2))"
   ]
  },
  {
   "cell_type": "markdown",
   "metadata": {},
   "source": [
    "### GMRT, PARKES and MWA Profiles"
   ]
  },
  {
   "cell_type": "code",
   "execution_count": null,
   "metadata": {},
   "outputs": [],
   "source": [
    "#Make a copy of the GMRT data arrays\n",
    "y_sep=comp_sep.copy()\n",
    "x_sep=frequency_forsep.copy()\n",
    "err_sep=sep_error.copy()\n",
    "\n",
    "#Find separation value of Parkes point\n",
    "h_fit_components=[]\n",
    "h_fit_components.insert(0,profile_compsh)\n",
    "h_component_sep,h_sep_error = separation_singleprofile(h_fit_components)\n",
    "\n",
    "#Insert Parkes data into overall arrays\n",
    "y_sep.insert(0,h_component_sep[0][1])\n",
    "x_sep.insert(0,h_component_sep[0][0])\n",
    "err_sep.insert(0, h_sep_error[0])"
   ]
  },
  {
   "cell_type": "code",
   "execution_count": null,
   "metadata": {},
   "outputs": [],
   "source": [
    "#Find separation value of MWA point 2\n",
    "m_fit_components2=[]\n",
    "m_fit_components2.insert(0,profile_compm2)\n",
    "m_component_sep2,m_sep_error2 = separation_singleprofile(m_fit_components2)\n",
    "\n",
    "#Insert Parkes data into overall arrays\n",
    "y_sep.append(m_component_sep2[0][1])\n",
    "x_sep.append(m_component_sep2[0][0])\n",
    "err_sep.append(m_sep_error2[0])"
   ]
  },
  {
   "cell_type": "code",
   "execution_count": null,
   "metadata": {},
   "outputs": [],
   "source": [
    "#Find separation value of MWA point 1\n",
    "m_fit_components=[]\n",
    "m_fit_components.insert(0,profile_compm)\n",
    "m_component_sep,m_sep_error = separation_singleprofile(m_fit_components)\n",
    "\n",
    "#Insert Parkes data into overall arrays\n",
    "y_sep.append(m_component_sep[0][1])\n",
    "x_sep.append(m_component_sep[0][0])\n",
    "err_sep.append(m_sep_error[0])"
   ]
  },
  {
   "cell_type": "code",
   "execution_count": null,
   "metadata": {},
   "outputs": [],
   "source": [
    "#Find a thorsett fit\n",
    "expect=(703,0.4,16)\n",
    "sep_params,sep_cov=curve_fit(thorsett,x_sep,y_sep, expect, sigma=err_sep, maxfev=10000,  bounds=([0,-np.inf,-np.inf],[np.inf,0.5,np.inf]))\n",
    "sep_fit_error=np.sqrt(np.diag(sep_cov))\n",
    "y_fit=thorsett(x_sep,*sep_params)"
   ]
  },
  {
   "cell_type": "code",
   "execution_count": null,
   "metadata": {},
   "outputs": [],
   "source": [
    "#Create an ongoing fit which spans the full range of values\n",
    "sepa_fit=[]\n",
    "x_sepa_fit=list(range(100,1500))\n",
    "sepa_fit_errors=[]\n",
    "for i in x_sepa_fit:\n",
    "    sepa_fit.append(sep_params[0]*(i**(sep_params[1]))+sep_params[2])\n",
    "    sepa_fit_errors.append(np.sqrt(((i**(sep_params[1])*(sep_fit_error[0]))**2)+(((np.log(i)*sep_params[0]*i**(sep_params[1]))*(sep_fit_error[1]))**2)+((1*(sep_fit_error[2]))**2)))"
   ]
  },
  {
   "cell_type": "code",
   "execution_count": null,
   "metadata": {},
   "outputs": [],
   "source": [
    "#Plot all points and overall fit\n",
    "py.errorbar(frequency_forsep, comp_sep, yerr=sep_error, fmt='.', lw=0.5, label='GMRT data')\n",
    "py.errorbar(h_component_sep[0][0], h_component_sep[0][1], yerr=h_sep_error[0], fmt='^', lw=0.5, label='Parkes data')\n",
    "py.errorbar(m_component_sep[0][0], m_component_sep[0][1], yerr=m_sep_error[0], color='green', fmt='v', lw=0.5, label='MWA data')\n",
    "py.errorbar(m_component_sep2[0][0], m_component_sep2[0][1], yerr=m_sep_error2[0], color='green', fmt='v', lw=0.5)\n",
    "py.plot(x_sepa_fit,sepa_fit, color='red',lw=2,label='Thorsett fit')\n",
    "#py.axis((290,500,70,95))\n",
    "#py.axis((160,500,70,110))\n",
    "py.axis((120,1500,62,105))\n",
    "py.title('Component Separation - Fit Peaks')\n",
    "py.xlabel('Frequency')\n",
    "py.ylabel('\\u0394\\u03B8 (deg)')\n",
    "py.legend(loc='upper right')\n",
    "py.savefig('figures/Sep_nofillA.png')\n",
    "#py.axis((290,500,70,95))\n",
    "py.savefig('figures/Sep_nofillB.png')"
   ]
  },
  {
   "cell_type": "code",
   "execution_count": null,
   "metadata": {
    "scrolled": false
   },
   "outputs": [],
   "source": [
    "#Plot with errors taken from curve fit\n",
    "py.errorbar(frequency_forsep, comp_sep, yerr=sep_error, fmt='.', lw=0.5, label='GMRT data')\n",
    "py.errorbar(h_component_sep[0][0], h_component_sep[0][1], yerr=h_sep_error[0], fmt='^', lw=0.5, label='Parkes data')\n",
    "py.errorbar(m_component_sep[0][0], m_component_sep[0][1], yerr=m_sep_error[0], fmt='v', lw=0.5, label='MWA data')\n",
    "py.plot(x_sepa_fit,sepa_fit, color='red',lw=2,label='thorsett fit')\n",
    "py.fill_between(x_sepa_fit, np.array(sepa_fit) - np.array(sepa_fit_errors), np.array(sepa_fit) + np.array(sepa_fit_errors), facecolor='yellow', alpha=0.3)\n",
    "#py.axis((160,500,70,110))\n",
    "py.axis((125,1500,62,110))\n",
    "py.title('Component Separation - Fit Peaks')\n",
    "py.xlabel('Frequency')\n",
    "py.ylabel('\\u0394\\u03B8 (deg)')\n",
    "py.legend(loc='upper right')\n",
    "py.savefig('figures/SepA.png')\n",
    "py.axis((290,500,70,95))\n",
    "py.savefig('figures/SepB.png')"
   ]
  },
  {
   "cell_type": "code",
   "execution_count": null,
   "metadata": {},
   "outputs": [],
   "source": [
    "print(f'The equation of fit for this pulsar is: \\t \\u0394\\u03B8 = {sep_params[0]:.3f} \\u03BD^{sep_params[1]:.3f} + {sep_params[2]:.3f} \\n')\n",
    "print(f'The errors are {sep_fit_error[0]:.3f}, {sep_fit_error[1]:.3f}, {sep_fit_error[2]:.3f} ')\n",
    "print('Units for \\u0394\\u03B8 is degrees and \\u03BD is MHz')"
   ]
  },
  {
   "cell_type": "code",
   "execution_count": null,
   "metadata": {},
   "outputs": [],
   "source": [
    "print('The chi squared reduced value is',chsq_err(y_sep, y_fit, err_sep)/(len(phase_comp2)-2))"
   ]
  },
  {
   "cell_type": "markdown",
   "metadata": {
    "colab_type": "text",
    "id": "e6XHCJRCjogM"
   },
   "source": [
    "# Change in Intensity over Frequency for GMRT"
   ]
  },
  {
   "cell_type": "markdown",
   "metadata": {
    "colab_type": "text",
    "id": "S8Wdb29Jkmx7"
   },
   "source": [
    "## Fit Peaks (fit_components)"
   ]
  },
  {
   "cell_type": "code",
   "execution_count": null,
   "metadata": {
    "colab": {},
    "colab_type": "code",
    "id": "qLKpI3HvjyrZ"
   },
   "outputs": [],
   "source": [
    "#Find intensity of components at each frequency and graph\n",
    "intensity_comp1=[]\n",
    "frequency_comp1=[]\n",
    "\n",
    "for i in range(0,len(fit_components)):\n",
    "  if fit_components[i][1][0] != 0:\n",
    "    intensity_comp1.append(fit_components[i][1][1])\n",
    "    frequency_comp1.append(fit_components[i][0])\n",
    "    \n",
    "py.plot(frequency_comp1,intensity_comp1, '.')\n",
    "py.title('Component 1')\n",
    "py.xlabel('Frequency')\n",
    "py.ylabel('Intensity')"
   ]
  },
  {
   "cell_type": "code",
   "execution_count": null,
   "metadata": {
    "colab": {},
    "colab_type": "code",
    "id": "IDYE2r0PksL3"
   },
   "outputs": [],
   "source": [
    "#Find intensity of components at each frequency and graph\n",
    "intensity_comp2=[]\n",
    "frequency_comp2=[]\n",
    "\n",
    "for i in range(0,len(fit_components)):\n",
    "  if fit_components[i][1][0] != 0:\n",
    "    intensity_comp2.append(fit_components[i][2][1])\n",
    "    frequency_comp2.append(fit_components[i][0])\n",
    "\n",
    "py.plot(frequency_comp2,intensity_comp2, '.')\n",
    "py.title('Component 2')\n",
    "py.xlabel('Frequency')\n",
    "py.ylabel('Intensity')"
   ]
  },
  {
   "cell_type": "code",
   "execution_count": null,
   "metadata": {},
   "outputs": [],
   "source": []
  }
 ],
 "metadata": {
  "colab": {
   "collapsed_sections": [
    "4z_feS2dDwlJ",
    "FamzMgIcD2xs",
    "HsEW4YA0D-QH",
    "eKWvXxMcEIfE",
    "er13GCy-EUTz",
    "6a03g77-gZa5",
    "IGeyAoMhEduw",
    "Y1RZQ9SHcgOZ",
    "pccDpOhFgn-A",
    "KZFBrw4AEiXX",
    "jBHxooGJctvn",
    "S8Wdb29Jkmx7",
    "G6J_t2-wlTKi",
    "8WslQQJrq_Aj",
    "-PbPFKZBj1oi",
    "BAAAMssWpRQc"
   ],
   "name": "Component Separation - RFI Removed.ipynb",
   "provenance": []
  },
  "kernelspec": {
   "display_name": "Python 3",
   "language": "python",
   "name": "python3"
  },
  "language_info": {
   "codemirror_mode": {
    "name": "ipython",
    "version": 3
   },
   "file_extension": ".py",
   "mimetype": "text/x-python",
   "name": "python",
   "nbconvert_exporter": "python",
   "pygments_lexer": "ipython3",
   "version": "3.8.5"
  }
 },
 "nbformat": 4,
 "nbformat_minor": 1
}
