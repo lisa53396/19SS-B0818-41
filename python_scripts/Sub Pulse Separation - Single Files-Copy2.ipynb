{
 "cells": [
  {
   "cell_type": "markdown",
   "metadata": {
    "colab_type": "text",
    "id": "4z_feS2dDwlJ"
   },
   "source": [
    "# Importing Packages Needed"
   ]
  },
  {
   "cell_type": "code",
   "execution_count": 1,
   "metadata": {
    "colab": {},
    "colab_type": "code",
    "id": "zJLqZxwce0pN"
   },
   "outputs": [],
   "source": [
    "import numpy as np"
   ]
  },
  {
   "cell_type": "code",
   "execution_count": 2,
   "metadata": {
    "colab": {},
    "colab_type": "code",
    "id": "I-sMZfzHe87d"
   },
   "outputs": [],
   "source": [
    "import scipy as sp"
   ]
  },
  {
   "cell_type": "code",
   "execution_count": 3,
   "metadata": {
    "colab": {},
    "colab_type": "code",
    "id": "osUA_fqWfB8I"
   },
   "outputs": [],
   "source": [
    "import matplotlib.pyplot as py"
   ]
  },
  {
   "cell_type": "code",
   "execution_count": 4,
   "metadata": {
    "colab": {},
    "colab_type": "code",
    "id": "EI8CExhqOkaC"
   },
   "outputs": [],
   "source": [
    "from scipy.optimize import curve_fit"
   ]
  },
  {
   "cell_type": "code",
   "execution_count": 5,
   "metadata": {
    "colab": {},
    "colab_type": "code",
    "id": "FTNsckCiZ_s4"
   },
   "outputs": [],
   "source": [
    "from scipy.signal import find_peaks"
   ]
  },
  {
   "cell_type": "code",
   "execution_count": 6,
   "metadata": {
    "colab": {},
    "colab_type": "code",
    "id": "PUtMS_hIaHat"
   },
   "outputs": [],
   "source": [
    "import collections as col"
   ]
  },
  {
   "cell_type": "markdown",
   "metadata": {
    "colab_type": "text",
    "id": "FamzMgIcD2xs"
   },
   "source": [
    "# Definition of Named Tuples"
   ]
  },
  {
   "cell_type": "code",
   "execution_count": 7,
   "metadata": {
    "colab": {},
    "colab_type": "code",
    "id": "Uzxt0sq0qeHc"
   },
   "outputs": [],
   "source": [
    "component = col.namedtuple('component','phase intensity')"
   ]
  },
  {
   "cell_type": "code",
   "execution_count": 8,
   "metadata": {
    "colab": {},
    "colab_type": "code",
    "id": "dX49jpTnTzy0"
   },
   "outputs": [],
   "source": [
    "ind_sub = col.namedtuple('ind_sub','phase intensity width')"
   ]
  },
  {
   "cell_type": "code",
   "execution_count": 9,
   "metadata": {},
   "outputs": [],
   "source": [
    "pulse_sub = col.namedtuple('pulse_sub','frequency sub1 sub2, errors')"
   ]
  },
  {
   "cell_type": "code",
   "execution_count": 10,
   "metadata": {
    "colab": {},
    "colab_type": "code",
    "id": "xDOdqB5tIrt5"
   },
   "outputs": [],
   "source": [
    "sub_separation = col.namedtuple('sub_separation','frequency separation')"
   ]
  },
  {
   "cell_type": "markdown",
   "metadata": {
    "colab_type": "text",
    "id": "a8CeXWdQIy8b"
   },
   "source": [
    "# Definition of Functions"
   ]
  },
  {
   "cell_type": "code",
   "execution_count": 12,
   "metadata": {},
   "outputs": [],
   "source": [
    "def chsq(observed_values, expected_values, err):\n",
    "    \"\"\"\n",
    "    Chi Squared operation:\n",
    "    Compute the data's chi squared values.\n",
    "    \n",
    "    Parameters:\n",
    "    -----------\n",
    "    observed_values: list\n",
    "        A list of floats - the raw data\n",
    "    expected_values: list\n",
    "        A list of floats - the expected data or the fit\n",
    "    err: float\n",
    "        The error across all data - standard deviation of the noise\n",
    "\n",
    "    Returns:\n",
    "    --------\n",
    "    test_statistic: float\n",
    "        The chi squared value of the data\n",
    "    \n",
    "    Created by Keegan Smith\n",
    "    \"\"\"\n",
    "    test_statistic=0\n",
    "    for observed, expected in zip(observed_values, expected_values):\n",
    "        test_statistic+=((float(observed)-float(expected))/float(err))**2\n",
    "    return test_statistic"
   ]
  },
  {
   "cell_type": "code",
   "execution_count": 13,
   "metadata": {},
   "outputs": [],
   "source": [
    "def sigmaClip(data, alpha=3, tol=0.1, ntrials=10):\n",
    "    \"\"\"\n",
    "    Sigma clipping operation:\n",
    "    Compute the data's median, m, and its standard deviation, sigma.\n",
    "    Keep only the data that falls in the range (m-alpha*sigma,m+alpha*sigma) for some value of alpha, and discard everything else.\n",
    "\n",
    "    This operation is repeated ntrials number of times or until the tolerance level is hit.\n",
    "\n",
    "    Parameters:\n",
    "    -----------\n",
    "    data: list\n",
    "        A list of floats - the data to clip\n",
    "    alpha: float\n",
    "        OPTIONAL - Determines the number of sigmas to use to determine the upper nad lower limits. Default=3\n",
    "    tol: float\n",
    "        OPTIONAL - The fractional change in the standard deviation that determines when the tolerance is hit. Default=0.1\n",
    "    ntrils: int\n",
    "        OPTIONAL - The maximum number of times to apply the operation. Default=10\n",
    "\n",
    "    Returns:\n",
    "    --------\n",
    "    oldstd: float\n",
    "        The std of the clipped data\n",
    "    x: list\n",
    "        The data list that contains only noise, with nans in place of 'real' data\n",
    "    \n",
    "    Created by Keegan Smith\n",
    "    \"\"\"\n",
    "    x = np.copy(data)\n",
    "    oldstd = np.nanstd(x)\n",
    "    #When the x[x<lolim] and x[x>hilim] commands encounter a nan it produces a\n",
    "    #warning. This is expected because it is ignoring flagged data from a\n",
    "    #previous trial so the warning is supressed.\n",
    "    old_settings = np.seterr(all='ignore')\n",
    "    for trial in range(ntrials):\n",
    "        median = np.nanmedian(x)\n",
    "\n",
    "        lolim = median - alpha * oldstd\n",
    "        hilim = median + alpha * oldstd\n",
    "        x[x<lolim] = np.nan\n",
    "        x[x>hilim] = np.nan\n",
    "\n",
    "        newstd = np.nanstd(x)\n",
    "        tollvl = (oldstd - newstd) / newstd\n",
    "\n",
    "        if tollvl <= tol:\n",
    "            print(\"Took {0} trials to reach tolerance\".format(trial+1))\n",
    "            np.seterr(**old_settings)\n",
    "            return oldstd, x\n",
    "\n",
    "        if trial + 1 == ntrials:\n",
    "            print(\"Reached number of trials without reaching tolerance level\")\n",
    "            np.seterr(**old_settings)\n",
    "            return oldstd, x\n",
    "\n",
    "        oldstd = newstd"
   ]
  },
  {
   "cell_type": "markdown",
   "metadata": {
    "colab_type": "text",
    "id": "nOegi6c8I3gu"
   },
   "source": [
    "Gaussian Fitting Functions:"
   ]
  },
  {
   "cell_type": "code",
   "execution_count": 14,
   "metadata": {
    "colab": {},
    "colab_type": "code",
    "id": "Jf6ae6VTR-iR"
   },
   "outputs": [],
   "source": [
    "\"\"\"\n",
    "Definitions of gaussian equations - single, double and triple\n",
    "\"\"\"\n",
    "\n",
    "def gauss(x,cen,sd,amp):\n",
    "    return amp*np.exp(-(x-cen)**2/2/sd**2)\n",
    "\n",
    "def twogauss(x,cen1,sd1,amp1,cen2,sd2,amp2):\n",
    "    return gauss(x,cen1,sd1,amp1)+gauss(x,cen2,sd2,amp2)\n",
    "\n",
    "def threegauss(x,cen1,sd1,amp1,cen2,sd2,amp2,cen3,sd3,amp3):\n",
    "    return gauss(x,cen1,sd1,amp1)+gauss(x,cen2,sd2,amp2)+gauss(x,cen3,sd3,amp3)"
   ]
  },
  {
   "cell_type": "code",
   "execution_count": 15,
   "metadata": {},
   "outputs": [],
   "source": [
    "\"\"\"\n",
    "Fitting data into the above gaussian equations. \n",
    "\n",
    "Parameters:\n",
    "    -----------\n",
    "    x,y: list, list\n",
    "        A list of floats - the data \n",
    "    error: float\n",
    "        The error across all data - standard deviation of the noise\n",
    "    expect: list\n",
    "        The expected parameters for the gaussian equation\n",
    "\n",
    "    Returns:\n",
    "    --------\n",
    "    params: list\n",
    "        The parameters (x, cen, sd) of the fit\n",
    "    cov: list\n",
    "        The covariance of the fit\n",
    "    fit: list\n",
    "        The y data of the actual fit (parameters have been put back into the equation)\n",
    "    chi: float\n",
    "        The chi squared value\n",
    "\"\"\"\n",
    "\n",
    "def single_fit(x, y, error, expect):\n",
    "    params,cov=curve_fit(gauss,x,y,expect,bounds=([-np.inf,-np.inf,0],[np.inf,np.inf,np.inf]))\n",
    "    fit=gauss(x,*params)\n",
    "    \n",
    "    chi=chsq(y, fit, error)\n",
    "    chir=chi/(len(y)-1)\n",
    "        \n",
    "    return params, cov, fit, chi\n",
    "\n",
    "def double_fit(x, y, error, expect):\n",
    "    params,cov=curve_fit(twogauss,x,y,expect,bounds=([-np.inf,-np.inf,0,-np.inf,-np.inf,0],[np.inf,np.inf,np.inf,np.inf,np.inf,np.inf]))\n",
    "    fit=twogauss(x,*params)\n",
    "\n",
    "    chi=chsq(y, fit, error)\n",
    "    chir=chi/(len(y)-1)\n",
    "    \n",
    "    return params, cov, fit, chi\n",
    "\n",
    "def triple_fit(x, y, error, expect):\n",
    "    params,cov=curve_fit(threegauss,x,y,expect,bounds=([-np.inf,-np.inf,0,-np.inf,-np.inf,0,-np.inf,-np.inf,0],[np.inf,np.inf,np.inf,np.inf,np.inf,np.inf,np.inf,np.inf,np.inf]))\n",
    "    fit=threegauss(x,*params)\n",
    "    \n",
    "    chi=chsq(y, fit, error)\n",
    "    chir=chi/(len(y)-1)\n",
    "    \n",
    "    return params, cov, fit, chi"
   ]
  },
  {
   "cell_type": "code",
   "execution_count": 16,
   "metadata": {},
   "outputs": [
    {
     "data": {
      "text/plain": [
       "'\\ndef finding_single_fit(x,y, error):\\n    \\n    status=100\\n    \\n    expect=[500,75,50]\\n    try:\\n        params1, cov1, fit1, chi1 = single_fit(x, y, error, expect)\\n    except:\\n        chi1=np.inf\\n        diff1=np.inf\\n    \\n    expect.extend((750,75,50))\\n    try:\\n        params2, cov2, fit2, chi2 = double_fit(x, y, error, expect)\\n    except:\\n        chi2=np.inf\\n        diff2=np.inf\\n\\n    if chi1<=chi2 and chi1!=np.inf: \\n        status=1\\n\\n    elif chi2<=chi1 and chi2!=np.inf:\\n        status=2\\n        \\n    if chi1==np.inf and chi2==np.inf: \\n        status=0\\n    \\n    return status\\n    \\n'"
      ]
     },
     "execution_count": 16,
     "metadata": {},
     "output_type": "execute_result"
    }
   ],
   "source": [
    "\"\"\"\n",
    "def finding_single_fit(x,y, error):\n",
    "    \n",
    "    status=100\n",
    "    \n",
    "    expect=[500,75,50]\n",
    "    try:\n",
    "        params1, cov1, fit1, chi1 = single_fit(x, y, error, expect)\n",
    "    except:\n",
    "        chi1=np.inf\n",
    "        diff1=np.inf\n",
    "    \n",
    "    expect.extend((750,75,50))\n",
    "    try:\n",
    "        params2, cov2, fit2, chi2 = double_fit(x, y, error, expect)\n",
    "    except:\n",
    "        chi2=np.inf\n",
    "        diff2=np.inf\n",
    "\n",
    "    if chi1<=chi2 and chi1!=np.inf: \n",
    "        status=1\n",
    "\n",
    "    elif chi2<=chi1 and chi2!=np.inf:\n",
    "        status=2\n",
    "        \n",
    "    if chi1==np.inf and chi2==np.inf: \n",
    "        status=0\n",
    "    \n",
    "    return status\n",
    "    \n",
    "\"\"\""
   ]
  },
  {
   "cell_type": "code",
   "execution_count": 52,
   "metadata": {
    "colab": {},
    "colab_type": "code",
    "id": "zWylwCBKV8SL"
   },
   "outputs": [],
   "source": [
    "\"\"\"\n",
    "    Fitting Gaussians operation:\n",
    "    Creates the best fit for the data out of the above mentioned gaussian equations.\n",
    "    First attempts a double fit, and if this fails it then attempts a single fit. If this also fails create a no fit.\n",
    "    \n",
    "    Then checks if a double fit is created, the chi value and if over 1100, replaces it with a single fit instead. \n",
    "    If chi of a single fit is still above 1100 then replaces it with a no fit. \n",
    "\n",
    "    Parameters:\n",
    "    -----------\n",
    "    x, y: list, list\n",
    "        A list of floats - the data \n",
    "    error: float\n",
    "        The error across all data - standard deviation of the noise\n",
    "        \n",
    "    Returns:\n",
    "    --------\n",
    "    fit: list\n",
    "        The y data of the best fit \n",
    "    params: list\n",
    "        The parameters (x, cen, sd) of the best fit\n",
    "    sigma: list\n",
    "        List of the errors in the parameters\n",
    "    chi: float\n",
    "        The chi squared value\n",
    "\"\"\" \n",
    "\n",
    "def fitting_gaussians(x,y, error):\n",
    "    py.plot(x,y,lw=0.1)\n",
    "    \n",
    "    try:\n",
    "        expect=[500,75,50]\n",
    "        params, cov, fit, chi = single_fit(x, y, error, expect)\n",
    "        sigma=np.sqrt(np.diag(cov))\n",
    "        py.plot(x,fit, color='red')\n",
    "        fitting=1\n",
    "    except:\n",
    "        params=0\n",
    "        cov=0\n",
    "        fit=[]\n",
    "        chi=np.inf\n",
    "        sigma=0\n",
    "        fitting=0\n",
    "        print('No fit')\n",
    "            \n",
    "        \n",
    "    if chi>1100 and chi!=np.inf:\n",
    "        params=0\n",
    "        cov=0\n",
    "        fit=[]\n",
    "        chi=np.inf\n",
    "        sigma=0\n",
    "        fitting=0\n",
    "        print('Other fit too high chi')\n",
    "        print(chi)\n",
    "        \n",
    "    print(fitting)\n",
    "        \n",
    "    return fit, params, sigma, chi"
   ]
  },
  {
   "cell_type": "markdown",
   "metadata": {
    "colab_type": "text",
    "id": "Hf__MEBnJEd_"
   },
   "source": [
    "Finding Peak of Fittings Function"
   ]
  },
  {
   "cell_type": "code",
   "execution_count": 57,
   "metadata": {
    "colab": {},
    "colab_type": "code",
    "id": "iIp9ZS-sZYIZ"
   },
   "outputs": [],
   "source": [
    "def gauss_peaks(fit, nofreqband, freqband, sigma):\n",
    "    component1=0\n",
    "    component2=0   \n",
    "    i=0\n",
    "    \n",
    "    freq=(((500-300)/nofreqband)*(nofreqband-freqband))+300\n",
    "\n",
    "    peakpos = find_peaks(fit, prominence=0.2)[0]\n",
    "    print(peakpos)\n",
    "    \n",
    "    if (peakpos[0]>=250 and peakpos[0]<=400): \n",
    "        i=1\n",
    "        comp1u=((sigma[0], sigma[1], sigma[2]))\n",
    "    elif (peakpos[0]>=550 and peakpos[0]<=700):\n",
    "        i=2\n",
    "        comp2u=((sigma[0], sigma[1], sigma[2]))\n",
    "    else:\n",
    "        i=0\n",
    "\n",
    "    if i==1:\n",
    "        component1 = component(phase=(360/1024)*peakpos[0], intensity=fit[peakpos[0]])\n",
    "        component2 = component(phase=0, intensity=0)\n",
    "        comp2u=((0, 0, 0))\n",
    "    elif i==2:\n",
    "        component2 = component(phase=(360/1024)*peakpos[0], intensity=fit[peakpos[0]])\n",
    "        component1 = component(phase=0, intensity=0)\n",
    "        comp1u=((0, 0, 0))\n",
    "    elif i==0:\n",
    "        component1 = component(phase=0, intensity=0)\n",
    "        comp1u=((0, 0, 0))\n",
    "        component2 = component(phase=0, intensity=0)\n",
    "        comp2u=((0, 0, 0))\n",
    "        \n",
    "    errors = (*comp1u,*comp2u)\n",
    "        \n",
    "    pulse_subp = pulse_sub(frequency=freq, sub1=component1, sub2=component2, errors=sigma)\n",
    "        \n",
    "    return pulse_subp"
   ]
  },
  {
   "cell_type": "markdown",
   "metadata": {
    "colab_type": "text",
    "id": "4P1qFLYpI9hB"
   },
   "source": [
    "Plotting Fittings Functions"
   ]
  },
  {
   "cell_type": "code",
   "execution_count": 19,
   "metadata": {
    "colab": {},
    "colab_type": "code",
    "id": "gPhqw8WaI8pp"
   },
   "outputs": [],
   "source": [
    "def plot_fit(x,y,fit,params,sigma):\n",
    "    py.plot(x, y, lw=0.5, label='data')\n",
    "    py.plot(x,fit, color='red',lw=3,label='gaussian fit')\n",
    "    py.xlabel('Phase Bin')\n",
    "    py.ylabel('Intensity')\n",
    "    py.legend()\n",
    "    return"
   ]
  },
  {
   "cell_type": "code",
   "execution_count": 20,
   "metadata": {
    "colab": {},
    "colab_type": "code",
    "id": "NmHjFzTFith2"
   },
   "outputs": [],
   "source": [
    "def plot_fill(x,y,params):\n",
    "    params1 = params[0:3]\n",
    "    params2 = params[3:6]\n",
    "    gfit1 = gauss(x, *params1)\n",
    "    gfit2 = gauss(x, *params2)\n",
    "    \n",
    "    py.plot(x, y, lw=0.5, label='data')\n",
    "    py.plot(x,fit,color='red',lw=3,label='gaussian fit')\n",
    "    py.xlabel('Phase Bin')\n",
    "    py.ylabel('Intensity')\n",
    "    py.legend()\n",
    "\n",
    "    py.plot(x, gfit1, \"g\")\n",
    "    py.fill_between(x, gfit1.min(), gfit1, facecolor=\"green\", alpha=0.5)\n",
    "  \n",
    "    py.plot(x, gfit2, \"y\")\n",
    "    py.fill_between(x, gfit2.min(), gfit2, facecolor=\"yellow\", alpha=0.5)\n",
    "\n",
    "    return "
   ]
  },
  {
   "cell_type": "code",
   "execution_count": 21,
   "metadata": {
    "colab": {},
    "colab_type": "code",
    "id": "b6Y_oMHJbEEz"
   },
   "outputs": [],
   "source": [
    "def plot_peaks(x,y,profile_comp):\n",
    "    py.plot((360/1024)*x,y, lw=0.5)\n",
    "    py.plot((360/1024)*x, fit, color='red', lw=3, label='gaussian fit')\n",
    "\n",
    "    x=[profile_comp[i][0] for i in range(1,3)]\n",
    "    y=[profile_comp[i][1] for i in range(1,3)]\n",
    "\n",
    "    py.plot(x, y ,'X', markerfacecolor='black', markeredgecolor='black', label='peaks')\n",
    "\n",
    "    py.xlabel('Phase (deg)')\n",
    "    py.ylabel('Intensity')\n",
    "    py.legend()\n",
    "    return"
   ]
  },
  {
   "cell_type": "markdown",
   "metadata": {
    "colab_type": "text",
    "id": "L_oE3uFcsKkA"
   },
   "source": [
    "Functions for Fitting Separation Data"
   ]
  },
  {
   "cell_type": "code",
   "execution_count": 22,
   "metadata": {
    "colab": {},
    "colab_type": "code",
    "id": "_V1yQ0U5__mq"
   },
   "outputs": [],
   "source": [
    "def powerlaw(x, A, alpha, smin):\n",
    "  return (A * (x**(-alpha)) + smin)"
   ]
  },
  {
   "cell_type": "code",
   "execution_count": 23,
   "metadata": {
    "colab": {},
    "colab_type": "code",
    "id": "wxmh_C8uszSX"
   },
   "outputs": [],
   "source": [
    "def powerlawp(x, A, alpha, smin):\n",
    "  return (A * (x**(alpha)) + smin)"
   ]
  },
  {
   "cell_type": "markdown",
   "metadata": {
    "colab_type": "text",
    "id": "HsEW4YA0D-QH"
   },
   "source": [
    "# Importing Data"
   ]
  },
  {
   "cell_type": "markdown",
   "metadata": {
    "colab_type": "text",
    "id": "5aCGkE3ZYbBM"
   },
   "source": [
    "Data must be in text file format from software pdv.\n",
    "Also must contain time scrunched data so that the first column of numbers is always 0 (only one pulse). "
   ]
  },
  {
   "cell_type": "code",
   "execution_count": 24,
   "metadata": {
    "colab": {},
    "colab_type": "code",
    "id": "4ieR-2IlfGA_"
   },
   "outputs": [],
   "source": [
    "fulldatatype=([('pulse','i8'),('frequency','i8'),('phase','i8'),('intensity','f8')])"
   ]
  },
  {
   "cell_type": "code",
   "execution_count": 25,
   "metadata": {
    "colab": {},
    "colab_type": "code",
    "id": "o9kgY0kqfIrQ"
   },
   "outputs": [],
   "source": [
    "single_pulse = np.loadtxt(fname='../archivefiles/s_archivefiles/f256/pdv/pulse_1503960531.pdv', dtype=fulldatatype)"
   ]
  },
  {
   "cell_type": "code",
   "execution_count": 26,
   "metadata": {
    "colab": {},
    "colab_type": "code",
    "id": "Wfp5R_xond9z"
   },
   "outputs": [],
   "source": [
    "no_freq_bands = max(single_pulse['frequency'])+1"
   ]
  },
  {
   "cell_type": "markdown",
   "metadata": {
    "colab_type": "text",
    "id": "eKWvXxMcEIfE"
   },
   "source": [
    "# Gaussian Plotting of Individual Frequency Band - Used for error checking individual frequency bands"
   ]
  },
  {
   "cell_type": "markdown",
   "metadata": {
    "colab_type": "text",
    "id": "MVQ_pgyRnofm"
   },
   "source": [
    "Choosing Frequency Band. Following Section is for error checking:"
   ]
  },
  {
   "cell_type": "code",
   "execution_count": 27,
   "metadata": {
    "colab": {},
    "colab_type": "code",
    "id": "mcIptVeffJXA"
   },
   "outputs": [],
   "source": [
    "freqband = 1\n",
    "f = single_pulse['frequency'] == freqband\n",
    "\n",
    "phase=single_pulse['phase'][f]\n",
    "intensity=single_pulse['intensity'][f]\n",
    "x = phase\n",
    "y = intensity"
   ]
  },
  {
   "cell_type": "code",
   "execution_count": 28,
   "metadata": {},
   "outputs": [
    {
     "data": {
      "text/plain": [
       "1024"
      ]
     },
     "execution_count": 28,
     "metadata": {},
     "output_type": "execute_result"
    }
   ],
   "source": [
    "len(y)"
   ]
  },
  {
   "cell_type": "code",
   "execution_count": 29,
   "metadata": {
    "colab": {},
    "colab_type": "code",
    "id": "o9L0EPsL2JrT"
   },
   "outputs": [
    {
     "data": {
      "text/plain": [
       "[<matplotlib.lines.Line2D at 0x7f6f969cdac8>]"
      ]
     },
     "execution_count": 29,
     "metadata": {},
     "output_type": "execute_result"
    },
    {
     "data": {
      "image/png": "[encoded data removed]",
      "text/plain": [
       "<matplotlib.figure.Figure at 0x7f6f96c0e048>"
      ]
     },
     "metadata": {},
     "output_type": "display_data"
    }
   ],
   "source": [
    "py.plot(x,y)"
   ]
  },
  {
   "cell_type": "code",
   "execution_count": 30,
   "metadata": {},
   "outputs": [
    {
     "name": "stdout",
     "output_type": "stream",
     "text": [
      "Took 1 trials to reach tolerance\n",
      "11.2528875706175\n"
     ]
    }
   ],
   "source": [
    "noise = sigmaClip(y)\n",
    "error = np.nanstd(noise[1])\n",
    "print(error)"
   ]
  },
  {
   "cell_type": "markdown",
   "metadata": {
    "colab_type": "text",
    "id": "2hhQErp8ntli"
   },
   "source": [
    "Gaussian Plots"
   ]
  },
  {
   "cell_type": "code",
   "execution_count": 54,
   "metadata": {
    "colab": {},
    "colab_type": "code",
    "id": "nvTDzWP-WMAh"
   },
   "outputs": [
    {
     "name": "stdout",
     "output_type": "stream",
     "text": [
      "1\n"
     ]
    },
    {
     "data": {
      "image/png": "[encoded data removed]",
      "text/plain": [
       "<matplotlib.figure.Figure at 0x7f6f910cf048>"
      ]
     },
     "metadata": {},
     "output_type": "display_data"
    }
   ],
   "source": [
    "fit, params, sigma, chi=fitting_gaussians(x,y,error)"
   ]
  },
  {
   "cell_type": "code",
   "execution_count": 55,
   "metadata": {},
   "outputs": [
    {
     "data": {
      "text/plain": [
       "[<matplotlib.lines.Line2D at 0x7f6f90fb7470>]"
      ]
     },
     "execution_count": 55,
     "metadata": {},
     "output_type": "execute_result"
    },
    {
     "data": {
      "image/png": "[encoded data removed]",
      "text/plain": [
       "<matplotlib.figure.Figure at 0x7f6f910c7710>"
      ]
     },
     "metadata": {},
     "output_type": "display_data"
    }
   ],
   "source": [
    "expect=[500,75,50]\n",
    "params, cov, fit, chi = single_fit(x, y, error, expect)\n",
    "\n",
    "py.plot(x,y,lw=0.2)\n",
    "py.plot(x,fit, color='red')"
   ]
  },
  {
   "cell_type": "code",
   "execution_count": 58,
   "metadata": {},
   "outputs": [
    {
     "name": "stdout",
     "output_type": "stream",
     "text": [
      "[380]\n"
     ]
    },
    {
     "name": "stderr",
     "output_type": "stream",
     "text": [
      "/usr/lib/python3/dist-packages/ipykernel_launcher.py:1: DeprecationWarning: elementwise comparison failed; this will raise an error in the future.\n",
      "  \"\"\"Entry point for launching an IPython kernel.\n"
     ]
    },
    {
     "data": {
      "image/png": "[encoded data removed]",
      "text/plain": [
       "<matplotlib.figure.Figure at 0x7f6f90ebf780>"
      ]
     },
     "metadata": {},
     "output_type": "display_data"
    }
   ],
   "source": [
    "if fit!=[]:\n",
    "    pulse_subp = gauss_peaks(fit, no_freq_bands, freqband, sigma)\n",
    "    plot_peaks(x,y, pulse_subp)"
   ]
  },
  {
   "cell_type": "markdown",
   "metadata": {
    "colab_type": "text",
    "id": "er13GCy-EUTz"
   },
   "source": [
    "# Gaussian Plotting and Finding Peaks of Overall Fit Data (fit_components) and Individual Fit Data (ind_components)\n"
   ]
  },
  {
   "cell_type": "markdown",
   "metadata": {
    "colab_type": "text",
    "id": "dUDXQCiVhOyH"
   },
   "source": [
    "The following is a looped version of the previous section to find the correct peaks for each pulse profile"
   ]
  },
  {
   "cell_type": "code",
   "execution_count": 59,
   "metadata": {
    "colab": {},
    "colab_type": "code",
    "id": "vJ4G8wv8tQOe"
   },
   "outputs": [],
   "source": [
    "fit_spulse = []"
   ]
  },
  {
   "cell_type": "code",
   "execution_count": 60,
   "metadata": {},
   "outputs": [
    {
     "name": "stderr",
     "output_type": "stream",
     "text": [
      "/home/lisasmith/.local/lib/python3.6/site-packages/numpy/lib/nanfunctions.py:1666: RuntimeWarning: Degrees of freedom <= 0 for slice.\n",
      "  keepdims=keepdims)\n",
      "/home/lisasmith/.local/lib/python3.6/site-packages/numpy/lib/nanfunctions.py:1112: RuntimeWarning: Mean of empty slice\n",
      "  return np.nanmean(a, axis, out=out, keepdims=keepdims)\n",
      "/usr/lib/python3/dist-packages/ipykernel_launcher.py:15: DeprecationWarning: elementwise comparison failed; this will raise an error in the future.\n",
      "  from ipykernel import kernelapp as app\n"
     ]
    },
    {
     "name": "stdout",
     "output_type": "stream",
     "text": [
      "Reached number of trials without reaching tolerance level\n",
      "No fit\n",
      "0\n",
      "Took 1 trials to reach tolerance\n",
      "1\n",
      "[688]\n",
      "Took 1 trials to reach tolerance\n",
      "1\n",
      "[464]\n",
      "Took 1 trials to reach tolerance\n",
      "1\n",
      "[497]\n",
      "Took 1 trials to reach tolerance\n",
      "1\n",
      "[522]\n",
      "Took 2 trials to reach tolerance\n",
      "1\n",
      "[425]\n",
      "Took 2 trials to reach tolerance\n",
      "1\n",
      "[392]\n",
      "Took 1 trials to reach tolerance\n",
      "Other fit too high chi\n",
      "inf\n",
      "0\n",
      "Took 2 trials to reach tolerance\n",
      "Other fit too high chi\n",
      "inf\n",
      "0\n",
      "Took 2 trials to reach tolerance\n",
      "1\n",
      "[389]\n",
      "Reached number of trials without reaching tolerance level\n",
      "No fit\n",
      "0\n",
      "Took 1 trials to reach tolerance\n",
      "1\n",
      "[660]\n",
      "Took 2 trials to reach tolerance\n",
      "1\n",
      "[632]\n",
      "Took 2 trials to reach tolerance\n",
      "1\n",
      "[440]\n",
      "Took 2 trials to reach tolerance\n",
      "1\n",
      "[380]\n"
     ]
    },
    {
     "data": {
      "image/png": "[encoded data removed]",
      "text/plain": [
       "<matplotlib.figure.Figure at 0x7f6f90f05128>"
      ]
     },
     "metadata": {},
     "output_type": "display_data"
    }
   ],
   "source": [
    "for i in range(no_freq_bands):\n",
    "    \n",
    "    freqband = i\n",
    "  \n",
    "    f = single_pulse['frequency'] == freqband\n",
    "\n",
    "    x=single_pulse['phase'][f]\n",
    "    y=single_pulse['intensity'][f]\n",
    "    \n",
    "    noise = sigmaClip(y)\n",
    "    error = np.nanstd(noise[1])\n",
    "    \n",
    "    fit, params, sigma, chi=fitting_gaussians(x,y,error)\n",
    "        \n",
    "    if fit!=[]:\n",
    "        pulse_subp = gauss_peaks(fit, no_freq_bands, freqband, sigma)\n",
    "        fit_spulse.append(pulse_subp)\n",
    "    "
   ]
  },
  {
   "cell_type": "markdown",
   "metadata": {
    "colab_type": "text",
    "id": "6a03g77-gZa5"
   },
   "source": [
    "# Change of Peak Position over Frequency"
   ]
  },
  {
   "cell_type": "markdown",
   "metadata": {
    "colab_type": "text",
    "id": "IGeyAoMhEduw"
   },
   "source": [
    "## Fit Peaks (fit_components)"
   ]
  },
  {
   "cell_type": "markdown",
   "metadata": {
    "colab_type": "text",
    "id": "KszZ-DmF3pTJ"
   },
   "source": [
    "Starting to graph out all the movement of component phase across frequency\n",
    "\n",
    "---\n",
    "\n"
   ]
  },
  {
   "cell_type": "code",
   "execution_count": 61,
   "metadata": {
    "colab": {},
    "colab_type": "code",
    "id": "CUJj3cbezRgq"
   },
   "outputs": [],
   "source": [
    "phase_comp1=[]\n",
    "frequency_comp1=[]\n",
    "\n",
    "for i in range(0,len(fit_spulse)):\n",
    "    if fit_spulse[i][1][0] != 0:\n",
    "        phase_comp1.append(fit_spulse[i][1][0])\n",
    "        frequency_comp1.append(fit_spulse[i][0])"
   ]
  },
  {
   "cell_type": "code",
   "execution_count": 62,
   "metadata": {
    "colab": {
     "base_uri": "https://localhost:8080/"
    },
    "colab_type": "code",
    "id": "N8lXroZey117",
    "outputId": "8321d6fb-90a5-49c6-bda7-b25cc8ee3845"
   },
   "outputs": [
    {
     "data": {
      "text/plain": [
       "Text(0,0.5,'Frequency')"
      ]
     },
     "execution_count": 62,
     "metadata": {},
     "output_type": "execute_result"
    },
    {
     "data": {
      "image/png": "[encoded data removed]",
      "text/plain": [
       "<matplotlib.figure.Figure at 0x7f6f90e2dba8>"
      ]
     },
     "metadata": {},
     "output_type": "display_data"
    }
   ],
   "source": [
    "py.plot(phase_comp1,frequency_comp1, '.')\n",
    "py.title('Component 1 - Fit Peaks')\n",
    "py.xlabel('Phase (deg)')\n",
    "py.ylabel('Frequency')"
   ]
  },
  {
   "cell_type": "code",
   "execution_count": 63,
   "metadata": {
    "colab": {},
    "colab_type": "code",
    "id": "ylBJ8twuzL8g"
   },
   "outputs": [],
   "source": [
    "phase_comp2=[]\n",
    "frequency_comp2=[]\n",
    "\n",
    "for i in range(0,len(fit_spulse)):\n",
    "    if fit_spulse[i][2][0] != 0:\n",
    "        phase_comp2.append(fit_spulse[i][2][0])\n",
    "        frequency_comp2.append(fit_spulse[i][0])"
   ]
  },
  {
   "cell_type": "code",
   "execution_count": 64,
   "metadata": {
    "colab": {
     "base_uri": "https://localhost:8080/"
    },
    "colab_type": "code",
    "id": "BaWU8_f424bZ",
    "outputId": "cf955db3-63ae-4a41-ee12-bf4ea0d269d1"
   },
   "outputs": [
    {
     "data": {
      "text/plain": [
       "Text(0,0.5,'Frequency')"
      ]
     },
     "execution_count": 64,
     "metadata": {},
     "output_type": "execute_result"
    },
    {
     "data": {
      "image/png": "[encoded data removed]",
      "text/plain": [
       "<matplotlib.figure.Figure at 0x7f6f90d19278>"
      ]
     },
     "metadata": {},
     "output_type": "display_data"
    }
   ],
   "source": [
    "py.plot(phase_comp2,frequency_comp2, '.')\n",
    "py.title('Component 2 - Fit Peaks')\n",
    "py.xlabel('Phase Bin (deg)')\n",
    "py.ylabel('Frequency')"
   ]
  },
  {
   "cell_type": "markdown",
   "metadata": {
    "colab_type": "text",
    "id": "onWmCTwBgzh2"
   },
   "source": [
    "# Fitting Power Laws to Position"
   ]
  },
  {
   "cell_type": "markdown",
   "metadata": {
    "colab_type": "text",
    "id": "pRvVTEsj_64Q"
   },
   "source": [
    "## Component 1"
   ]
  },
  {
   "cell_type": "code",
   "execution_count": 65,
   "metadata": {
    "colab": {},
    "colab_type": "code",
    "id": "yvPpIl1dbfkG"
   },
   "outputs": [],
   "source": [
    "#To use in weightings: sigma=inv_var\n",
    "#inv_var = []\n",
    "\n",
    "#for i in range(len(sep_error)):\n",
    "  #temp = 1/(sep_error[i]*sep_error[i])\n",
    "  #inv_var.append(temp)"
   ]
  },
  {
   "cell_type": "code",
   "execution_count": 66,
   "metadata": {
    "colab": {},
    "colab_type": "code",
    "id": "Eb9tysocAfn3"
   },
   "outputs": [
    {
     "name": "stderr",
     "output_type": "stream",
     "text": [
      "/usr/lib/python3/dist-packages/ipykernel_launcher.py:2: RuntimeWarning: overflow encountered in power\n",
      "  \n",
      "/home/lisasmith/.local/lib/python3.6/site-packages/scipy/optimize/minpack.py:795: OptimizeWarning: Covariance of the parameters could not be estimated\n",
      "  category=OptimizeWarning)\n"
     ]
    }
   ],
   "source": [
    "#expect=(703,0.4,16)\n",
    "mov_params1,mov_cov1=curve_fit(powerlaw,frequency_comp1,phase_comp1, maxfev=100000)\n",
    "mov_fit_error1=np.sqrt(np.diag(mov_cov1))"
   ]
  },
  {
   "cell_type": "code",
   "execution_count": 67,
   "metadata": {
    "colab": {
     "base_uri": "https://localhost:8080/",
     "height": 53
    },
    "colab_type": "code",
    "id": "hCGGghN8A7BA",
    "outputId": "eaa7f557-4804-425e-96ae-83056ba13eca"
   },
   "outputs": [
    {
     "name": "stdout",
     "output_type": "stream",
     "text": [
      "[ 9.13794368e+03 -1.59027014e-03 -9.08816567e+03]\n",
      "[inf inf inf]\n"
     ]
    }
   ],
   "source": [
    "print(mov_params1)\n",
    "print(mov_fit_error1)\n",
    "mov_fit1 = powerlaw(frequency_comp1, *mov_params1)"
   ]
  },
  {
   "cell_type": "code",
   "execution_count": 68,
   "metadata": {
    "colab": {
     "base_uri": "https://localhost:8080/",
     "height": 300
    },
    "colab_type": "code",
    "id": "oY7ok57vApBN",
    "outputId": "c54100cc-1569-4c6b-fb74-c413acbdf635"
   },
   "outputs": [
    {
     "data": {
      "text/plain": [
       "Text(0,0.5,'Phase (deg)')"
      ]
     },
     "execution_count": 68,
     "metadata": {},
     "output_type": "execute_result"
    },
    {
     "data": {
      "image/png": "[encoded data removed]",
      "text/plain": [
       "<matplotlib.figure.Figure at 0x7f6f90d2dac8>"
      ]
     },
     "metadata": {},
     "output_type": "display_data"
    }
   ],
   "source": [
    "py.plot(frequency_comp1,phase_comp1, '.', label='data')\n",
    "py.plot(frequency_comp1,mov_fit1, color='red',lw=1,label='power fit')\n",
    "py.xlabel('Frequency')\n",
    "py.ylabel('Phase (deg)')"
   ]
  },
  {
   "cell_type": "code",
   "execution_count": 69,
   "metadata": {
    "colab": {
     "base_uri": "https://localhost:8080/",
     "height": 107
    },
    "colab_type": "code",
    "id": "l11_3C1ODT_d",
    "outputId": "ad79532a-bd1b-457e-afde-75b291f318c1"
   },
   "outputs": [
    {
     "name": "stdout",
     "output_type": "stream",
     "text": [
      "The equation of fit for this pulse is: \t Phase = 9137.944 ν^-0.002 + -9088.166 \n",
      "\n",
      "The chi squared value for the fit is:  0.0007054910604660432\n",
      "Units for Δθ is degrees and ν is MHz\n"
     ]
    }
   ],
   "source": [
    "chi, p = sp.stats.chisquare(phase_comp1, mov_fit1)\n",
    "print(f'The equation of fit for this pulse is: \\t Phase = {mov_params1[0]:.3f} \\u03BD^{mov_params1[1]:.3f} + {mov_params1[2]:.3f} \\n')\n",
    "#print(f'The errors are {sep_fit_error[0]:.3f}, {sep_fit_error[1]:.3f}, {sep_fit_error[2]:.3f} ')\n",
    "print('The chi squared value for the fit is: ', chi)\n",
    "print('Units for \\u0394\\u03B8 is degrees and \\u03BD is MHz')"
   ]
  },
  {
   "cell_type": "markdown",
   "metadata": {},
   "source": [
    "## Component 2"
   ]
  },
  {
   "cell_type": "code",
   "execution_count": 70,
   "metadata": {},
   "outputs": [
    {
     "name": "stderr",
     "output_type": "stream",
     "text": [
      "/usr/lib/python3/dist-packages/ipykernel_launcher.py:2: RuntimeWarning: overflow encountered in power\n",
      "  \n",
      "/home/lisasmith/.local/lib/python3.6/site-packages/scipy/optimize/minpack.py:795: OptimizeWarning: Covariance of the parameters could not be estimated\n",
      "  category=OptimizeWarning)\n"
     ]
    }
   ],
   "source": [
    "mov_params2,mov_cov2=curve_fit(powerlaw,frequency_comp2,phase_comp2, maxfev=100000)\n",
    "mov_fit_error2=np.sqrt(np.diag(mov_cov2))"
   ]
  },
  {
   "cell_type": "code",
   "execution_count": 71,
   "metadata": {},
   "outputs": [
    {
     "name": "stdout",
     "output_type": "stream",
     "text": [
      "[ 2.26301327e+04 -1.98803249e-03 -2.26678943e+04]\n",
      "[inf inf inf]\n"
     ]
    }
   ],
   "source": [
    "print(mov_params2)\n",
    "print(mov_fit_error2)\n",
    "mov_fit2 = powerlaw(frequency_comp2, *mov_params2)"
   ]
  },
  {
   "cell_type": "code",
   "execution_count": 72,
   "metadata": {},
   "outputs": [
    {
     "data": {
      "text/plain": [
       "Text(0,0.5,'Phase (deg)')"
      ]
     },
     "execution_count": 72,
     "metadata": {},
     "output_type": "execute_result"
    },
    {
     "data": {
      "image/png": "[encoded data removed]",
      "text/plain": [
       "<matplotlib.figure.Figure at 0x7f6f90da2dd8>"
      ]
     },
     "metadata": {},
     "output_type": "display_data"
    }
   ],
   "source": [
    "py.plot(frequency_comp2,phase_comp2, '.', label='data')\n",
    "py.plot(frequency_comp2,mov_fit2, color='red',lw=1,label='power fit')\n",
    "py.xlabel('Frequency')\n",
    "py.ylabel('Phase (deg)')"
   ]
  },
  {
   "cell_type": "code",
   "execution_count": 48,
   "metadata": {},
   "outputs": [
    {
     "name": "stdout",
     "output_type": "stream",
     "text": [
      "The equation of fit for this pulse is: \t Phase = 21111.954 ν^0.001 + -20756.921 \n",
      "\n",
      "The chi squared value for the fit is:  5.11393247953893\n",
      "Units for Δθ is degrees and ν is MHz\n"
     ]
    }
   ],
   "source": [
    "chi, p = sp.stats.chisquare(phase_comp2, mov_fit2)\n",
    "print(f'The equation of fit for this pulse is: \\t Phase = {mov_params2[0]:.3f} \\u03BD^{mov_params2[1]:.3f} + {mov_params2[2]:.3f} \\n')\n",
    "#print(f'The errors are {sep_fit_error[0]:.3f}, {sep_fit_error[1]:.3f}, {sep_fit_error[2]:.3f} ')\n",
    "print('The chi squared value for the fit is: ', chi)\n",
    "print('Units for \\u0394\\u03B8 is degrees and \\u03BD is MHz')"
   ]
  },
  {
   "cell_type": "markdown",
   "metadata": {},
   "source": [
    "### Component 2 - Linear"
   ]
  },
  {
   "cell_type": "code",
   "execution_count": 49,
   "metadata": {},
   "outputs": [],
   "source": [
    "def linear(x, a, b):\n",
    "    return (a*x)+b"
   ]
  },
  {
   "cell_type": "code",
   "execution_count": 50,
   "metadata": {},
   "outputs": [],
   "source": [
    "mov_lin_params2,mov_lin_cov2=curve_fit(linear,frequency_comp2,phase_comp2, maxfev=100000)\n",
    "mov_lin_error2=np.sqrt(np.diag(mov_lin_cov2))"
   ]
  },
  {
   "cell_type": "code",
   "execution_count": 51,
   "metadata": {},
   "outputs": [
    {
     "name": "stdout",
     "output_type": "stream",
     "text": [
      "[-7.43931492e-02  2.38683738e+02]\n",
      "[  0.32892774 122.08624496]\n"
     ]
    },
    {
     "ename": "TypeError",
     "evalue": "can't multiply sequence by non-int of type 'numpy.float64'",
     "output_type": "error",
     "traceback": [
      "\u001b[0;31m---------------------------------------------------------------------------\u001b[0m",
      "\u001b[0;31mTypeError\u001b[0m                                 Traceback (most recent call last)",
      "\u001b[0;32m<ipython-input-51-1081b7174308>\u001b[0m in \u001b[0;36m<module>\u001b[0;34m()\u001b[0m\n\u001b[1;32m      1\u001b[0m \u001b[0mprint\u001b[0m\u001b[0;34m(\u001b[0m\u001b[0mmov_lin_params2\u001b[0m\u001b[0;34m)\u001b[0m\u001b[0;34m\u001b[0m\u001b[0;34m\u001b[0m\u001b[0m\n\u001b[1;32m      2\u001b[0m \u001b[0mprint\u001b[0m\u001b[0;34m(\u001b[0m\u001b[0mmov_lin_error2\u001b[0m\u001b[0;34m)\u001b[0m\u001b[0;34m\u001b[0m\u001b[0;34m\u001b[0m\u001b[0m\n\u001b[0;32m----> 3\u001b[0;31m \u001b[0mmov_lin_fit2\u001b[0m \u001b[0;34m=\u001b[0m \u001b[0mlinear\u001b[0m\u001b[0;34m(\u001b[0m\u001b[0mfrequency_comp2\u001b[0m\u001b[0;34m,\u001b[0m \u001b[0;34m*\u001b[0m\u001b[0mmov_lin_params2\u001b[0m\u001b[0;34m)\u001b[0m\u001b[0;34m\u001b[0m\u001b[0;34m\u001b[0m\u001b[0m\n\u001b[0m",
      "\u001b[0;32m<ipython-input-49-0b61b932d172>\u001b[0m in \u001b[0;36mlinear\u001b[0;34m(x, a, b)\u001b[0m\n\u001b[1;32m      1\u001b[0m \u001b[0;32mdef\u001b[0m \u001b[0mlinear\u001b[0m\u001b[0;34m(\u001b[0m\u001b[0mx\u001b[0m\u001b[0;34m,\u001b[0m \u001b[0ma\u001b[0m\u001b[0;34m,\u001b[0m \u001b[0mb\u001b[0m\u001b[0;34m)\u001b[0m\u001b[0;34m:\u001b[0m\u001b[0;34m\u001b[0m\u001b[0;34m\u001b[0m\u001b[0m\n\u001b[0;32m----> 2\u001b[0;31m     \u001b[0;32mreturn\u001b[0m \u001b[0;34m(\u001b[0m\u001b[0ma\u001b[0m\u001b[0;34m*\u001b[0m\u001b[0mx\u001b[0m\u001b[0;34m)\u001b[0m\u001b[0;34m+\u001b[0m\u001b[0mb\u001b[0m\u001b[0;34m\u001b[0m\u001b[0;34m\u001b[0m\u001b[0m\n\u001b[0m",
      "\u001b[0;31mTypeError\u001b[0m: can't multiply sequence by non-int of type 'numpy.float64'"
     ]
    }
   ],
   "source": [
    "print(mov_lin_params2)\n",
    "print(mov_lin_error2)\n",
    "mov_lin_fit2 = linear(frequency_comp2, *mov_lin_params2)"
   ]
  },
  {
   "cell_type": "code",
   "execution_count": null,
   "metadata": {},
   "outputs": [],
   "source": [
    "py.plot(frequency_comp2,phase_comp2, '.', label='data')\n",
    "py.plot(frequency_comp2,mov_lin_fit2, color='red',lw=1,label='power fit')\n",
    "py.xlabel('Frequency')\n",
    "py.ylabel('Phase (deg)')"
   ]
  },
  {
   "cell_type": "markdown",
   "metadata": {
    "colab_type": "text",
    "id": "e6XHCJRCjogM"
   },
   "source": [
    "# Change in Intensity over Frequency"
   ]
  },
  {
   "cell_type": "markdown",
   "metadata": {
    "colab_type": "text",
    "id": "S8Wdb29Jkmx7"
   },
   "source": [
    "## Fit Peaks (fit_components)"
   ]
  },
  {
   "cell_type": "code",
   "execution_count": null,
   "metadata": {
    "colab": {},
    "colab_type": "code",
    "id": "qLKpI3HvjyrZ"
   },
   "outputs": [],
   "source": [
    "intensity_comp1=[]\n",
    "frequency_comp1=[]\n",
    "\n",
    "for i in range(0,len(fit_components)):\n",
    "  if fit_components[i][1][0] != 0:\n",
    "    intensity_comp1.append(fit_components[i][1][1])\n",
    "    frequency_comp1.append(fit_components[i][0])"
   ]
  },
  {
   "cell_type": "code",
   "execution_count": null,
   "metadata": {
    "colab": {
     "base_uri": "https://localhost:8080/",
     "height": 313
    },
    "colab_type": "code",
    "id": "ClLSoQOukVjN",
    "outputId": "8433b698-caef-4650-93e6-5b78f85c2c08"
   },
   "outputs": [],
   "source": [
    "py.plot(frequency_comp1,intensity_comp1, '.')\n",
    "py.title('Component 1 - Fit Peaks')\n",
    "py.xlabel('Frequency')\n",
    "py.ylabel('Intensity')"
   ]
  },
  {
   "cell_type": "code",
   "execution_count": null,
   "metadata": {
    "colab": {},
    "colab_type": "code",
    "id": "IDYE2r0PksL3"
   },
   "outputs": [],
   "source": [
    "intensity_comp2=[]\n",
    "frequency_comp2=[]\n",
    "\n",
    "for i in range(0,len(fit_components)):\n",
    "  if fit_components[i][1][0] != 0:\n",
    "    intensity_comp2.append(fit_components[i][2][1])\n",
    "    frequency_comp2.append(fit_components[i][0])"
   ]
  },
  {
   "cell_type": "code",
   "execution_count": null,
   "metadata": {
    "colab": {
     "base_uri": "https://localhost:8080/",
     "height": 313
    },
    "colab_type": "code",
    "id": "jGLPcnDqk0np",
    "outputId": "bd26b629-ab7c-40fa-a969-8662d0976f6c"
   },
   "outputs": [],
   "source": [
    "py.plot(frequency_comp2,intensity_comp2, '.')\n",
    "py.title('Component 2 - Fit Peaks')\n",
    "py.xlabel('Frequency')\n",
    "py.ylabel('Intensity')"
   ]
  },
  {
   "cell_type": "markdown",
   "metadata": {
    "colab_type": "text",
    "id": "G6J_t2-wlTKi"
   },
   "source": [
    "## Individual Peaks (ind_components)"
   ]
  },
  {
   "cell_type": "code",
   "execution_count": null,
   "metadata": {
    "colab": {},
    "colab_type": "code",
    "id": "HKnQQ8wxlu8A"
   },
   "outputs": [],
   "source": [
    "intensity_ind1=[]\n",
    "frequency_ind1=[]\n",
    "\n",
    "for i in range(0,len(ind_components)):\n",
    "  if ind_components[i][1][0] != 0:\n",
    "    intensity_ind1.append(ind_components[i][1][1])\n",
    "    frequency_ind1.append(ind_components[i][0])"
   ]
  },
  {
   "cell_type": "code",
   "execution_count": null,
   "metadata": {
    "colab": {
     "base_uri": "https://localhost:8080/",
     "height": 313
    },
    "colab_type": "code",
    "id": "XwtPZ6jVmkYc",
    "outputId": "226e3e67-310d-4a1e-9409-473d6227079e"
   },
   "outputs": [],
   "source": [
    "py.plot(frequency_ind1,intensity_ind1, '.')\n",
    "py.title('Component 1 - Individual Peaks')\n",
    "py.xlabel('Frequency')\n",
    "py.ylabel('Intensity')"
   ]
  },
  {
   "cell_type": "code",
   "execution_count": null,
   "metadata": {
    "colab": {},
    "colab_type": "code",
    "id": "0ueyKA35mr0G"
   },
   "outputs": [],
   "source": [
    "intensity_ind2=[]\n",
    "frequency_ind2=[]\n",
    "\n",
    "for i in range(0,len(ind_components)):\n",
    "  if ind_components[i][1][0] != 0:\n",
    "    intensity_ind2.append(ind_components[i][2][1])\n",
    "    frequency_ind2.append(ind_components[i][0])"
   ]
  },
  {
   "cell_type": "code",
   "execution_count": null,
   "metadata": {
    "colab": {
     "base_uri": "https://localhost:8080/",
     "height": 313
    },
    "colab_type": "code",
    "id": "SG8-hd3AmsB-",
    "outputId": "9e8e3a91-d3ea-4068-a123-897a0ac5601c"
   },
   "outputs": [],
   "source": [
    "py.plot(frequency_ind2,intensity_ind2, '.')\n",
    "py.title('Component 2 - Individual Peaks')\n",
    "py.xlabel('Frequency')\n",
    "py.ylabel('Intensity')"
   ]
  },
  {
   "cell_type": "markdown",
   "metadata": {
    "colab_type": "text",
    "id": "8WslQQJrq_Aj"
   },
   "source": [
    "# Intensity Fitting"
   ]
  },
  {
   "cell_type": "code",
   "execution_count": null,
   "metadata": {
    "colab": {
     "base_uri": "https://localhost:8080/",
     "height": 53
    },
    "colab_type": "code",
    "id": "C2CXJX1YrCIF",
    "outputId": "b87d98c9-f115-4cb3-9893-683cb2945316"
   },
   "outputs": [],
   "source": [
    "int1_params,int1_cov=curve_fit(powerlaw,frequency_ind1,intensity_ind1, maxfev=10000)\n",
    "int1_error=np.sqrt(np.diag(int1_cov))"
   ]
  },
  {
   "cell_type": "code",
   "execution_count": null,
   "metadata": {
    "colab": {},
    "colab_type": "code",
    "id": "Df5TE1oXruhI"
   },
   "outputs": [],
   "source": [
    "int1_fit = powerlaw(frequency_ind1, *int1_params)"
   ]
  },
  {
   "cell_type": "code",
   "execution_count": null,
   "metadata": {
    "colab": {
     "base_uri": "https://localhost:8080/",
     "height": 298
    },
    "colab_type": "code",
    "id": "ItsZl2eQsHCB",
    "outputId": "e39d757f-1db5-4da5-e690-314222d382cd"
   },
   "outputs": [],
   "source": [
    "py.plot(frequency_ind1, intensity_ind1, lw=0.5, label='data')\n",
    "py.plot(frequency_ind1, int1_fit, color='red',lw=1,label='power fit')\n",
    "py.xlabel('Frequency')\n",
    "py.ylabel('\\u0394\\u03B8 (deg)')"
   ]
  },
  {
   "cell_type": "code",
   "execution_count": null,
   "metadata": {
    "colab": {
     "base_uri": "https://localhost:8080/",
     "height": 53
    },
    "colab_type": "code",
    "id": "jU-N5gKTsPze",
    "outputId": "26a373b0-e821-46a7-cf00-cbda986e1430"
   },
   "outputs": [],
   "source": [
    "int2_params,int2_cov=curve_fit(powerlaw,frequency_ind2,intensity_ind2, maxfev=10000)\n",
    "int2_error=np.sqrt(np.diag(int2_cov))"
   ]
  },
  {
   "cell_type": "code",
   "execution_count": null,
   "metadata": {
    "colab": {},
    "colab_type": "code",
    "id": "iMqSq1_esQGd"
   },
   "outputs": [],
   "source": [
    "int2_fit = powerlaw(frequency_ind2, *int2_params)"
   ]
  },
  {
   "cell_type": "code",
   "execution_count": null,
   "metadata": {
    "colab": {
     "base_uri": "https://localhost:8080/",
     "height": 300
    },
    "colab_type": "code",
    "id": "rdSnhd1ssQWm",
    "outputId": "69e5793a-ed42-4930-c1cc-a0476fb10b6b"
   },
   "outputs": [],
   "source": [
    "py.plot(frequency_ind2, intensity_ind2, lw=0.5, label='data')\n",
    "py.plot(frequency_ind2, int1_fit, color='red',lw=1,label='power fit')\n",
    "py.xlabel('Frequency')\n",
    "py.ylabel('\\u0394\\u03B8 (deg)')"
   ]
  },
  {
   "cell_type": "markdown",
   "metadata": {
    "colab_type": "text",
    "id": "-PbPFKZBj1oi"
   },
   "source": [
    "# Change in Width over Frequency"
   ]
  },
  {
   "cell_type": "code",
   "execution_count": null,
   "metadata": {
    "colab": {},
    "colab_type": "code",
    "id": "Fp9gIoKskGAq"
   },
   "outputs": [],
   "source": [
    "width_ind1=[]\n",
    "frequency_ind1=[]\n",
    "\n",
    "for i in range(0,len(ind_components)):\n",
    "  if ind_components[i][1][0] != 0:\n",
    "    width_ind1.append(ind_components[i][1][2])\n",
    "    frequency_ind1.append(ind_components[i][0])"
   ]
  },
  {
   "cell_type": "code",
   "execution_count": null,
   "metadata": {
    "colab": {
     "base_uri": "https://localhost:8080/",
     "height": 313
    },
    "colab_type": "code",
    "id": "N0BRkmb4j4RM",
    "outputId": "c4f89daf-d63a-4363-b1e8-469e6816a028"
   },
   "outputs": [],
   "source": [
    "py.plot(frequency_ind1,width_ind1, '.')\n",
    "py.title('Component 1 - Individual Peaks')\n",
    "py.xlabel('Frequency')\n",
    "py.ylabel('Width (deg)')"
   ]
  },
  {
   "cell_type": "code",
   "execution_count": null,
   "metadata": {
    "colab": {},
    "colab_type": "code",
    "id": "LPYL5iqTpivf"
   },
   "outputs": [],
   "source": [
    "width_ind2=[]\n",
    "frequency_ind2=[]\n",
    "\n",
    "for i in range(0,len(ind_components)):\n",
    "  if ind_components[i][1][0] != 0:\n",
    "    width_ind2.append(ind_components[i][2][2])\n",
    "    frequency_ind2.append(ind_components[i][0])"
   ]
  },
  {
   "cell_type": "code",
   "execution_count": null,
   "metadata": {
    "colab": {
     "base_uri": "https://localhost:8080/",
     "height": 313
    },
    "colab_type": "code",
    "id": "O4ClDRp9prUD",
    "outputId": "1f270b92-4fea-4fbf-b9eb-6cd4c742dbff"
   },
   "outputs": [],
   "source": [
    "py.plot(frequency_ind2,width_ind2, '.')\n",
    "py.title('Component 2 - Individual Peaks')\n",
    "py.xlabel('Frequency')\n",
    "py.ylabel('Width (deg)')"
   ]
  },
  {
   "cell_type": "markdown",
   "metadata": {
    "colab_type": "text",
    "id": "BAAAMssWpRQc"
   },
   "source": [
    "# Width Fitting"
   ]
  },
  {
   "cell_type": "code",
   "execution_count": null,
   "metadata": {
    "colab": {
     "base_uri": "https://localhost:8080/",
     "height": 89
    },
    "colab_type": "code",
    "id": "GiInt3EknqMN",
    "outputId": "448dfb77-0559-4150-dcaa-adf0de3c01a9"
   },
   "outputs": [],
   "source": [
    "wid1_params,wid1_cov=curve_fit(powerlaw,frequency_ind1,width_ind1, maxfev=10000)\n",
    "wid1_error=np.sqrt(np.diag(wid1_cov))"
   ]
  },
  {
   "cell_type": "code",
   "execution_count": null,
   "metadata": {
    "colab": {},
    "colab_type": "code",
    "id": "3IjiWqhDo_YD"
   },
   "outputs": [],
   "source": [
    "wid1_fit = powerlaw(frequency_ind1, *wid1_params)"
   ]
  },
  {
   "cell_type": "code",
   "execution_count": null,
   "metadata": {
    "colab": {
     "base_uri": "https://localhost:8080/",
     "height": 300
    },
    "colab_type": "code",
    "id": "EHXb2PFVoweo",
    "outputId": "ee270068-c470-490d-d0b7-ba92b2cebd29"
   },
   "outputs": [],
   "source": [
    "py.plot(frequency_ind1, width_ind1, lw=0.5, label='data')\n",
    "py.plot(frequency_ind1,wid1_fit, color='red',lw=1,label='power fit')\n",
    "py.xlabel('Frequency')\n",
    "py.ylabel('\\u0394\\u03B8 (deg)')"
   ]
  },
  {
   "cell_type": "code",
   "execution_count": null,
   "metadata": {
    "colab": {
     "base_uri": "https://localhost:8080/",
     "height": 53
    },
    "colab_type": "code",
    "id": "U20gSvfWpuE7",
    "outputId": "aa9795dd-48b5-4606-b07d-827dbb0fbbd4"
   },
   "outputs": [],
   "source": [
    "wid2_params,wid2_cov=curve_fit(powerlaw,frequency_ind2,width_ind2, maxfev=10000)\n",
    "wid2_error=np.sqrt(np.diag(wid2_cov))"
   ]
  },
  {
   "cell_type": "code",
   "execution_count": null,
   "metadata": {
    "colab": {},
    "colab_type": "code",
    "id": "X_Io0XJjpvY0"
   },
   "outputs": [],
   "source": [
    "wid2_fit = powerlaw(frequency_ind2, *wid2_params)"
   ]
  },
  {
   "cell_type": "code",
   "execution_count": null,
   "metadata": {
    "colab": {
     "base_uri": "https://localhost:8080/",
     "height": 297
    },
    "colab_type": "code",
    "id": "bCaNRt8EpyDl",
    "outputId": "342a3205-0048-4c84-d305-8bf6055c7bbd"
   },
   "outputs": [],
   "source": [
    "py.plot(frequency_ind2, width_ind2, lw=0.5, label='data')\n",
    "py.plot(frequency_ind2, wid2_fit, color='red',lw=1,label='power fit')\n",
    "py.xlabel('Frequency')\n",
    "py.ylabel('\\u0394\\u03B8 (deg)')"
   ]
  },
  {
   "cell_type": "code",
   "execution_count": null,
   "metadata": {
    "colab": {},
    "colab_type": "code",
    "id": "hBjyTDjgp133"
   },
   "outputs": [],
   "source": []
  }
 ],
 "metadata": {
  "colab": {
   "collapsed_sections": [
    "4z_feS2dDwlJ",
    "FamzMgIcD2xs",
    "HsEW4YA0D-QH",
    "eKWvXxMcEIfE",
    "er13GCy-EUTz",
    "6a03g77-gZa5",
    "IGeyAoMhEduw",
    "Y1RZQ9SHcgOZ",
    "pccDpOhFgn-A",
    "KZFBrw4AEiXX",
    "jBHxooGJctvn",
    "S8Wdb29Jkmx7",
    "G6J_t2-wlTKi",
    "8WslQQJrq_Aj",
    "-PbPFKZBj1oi",
    "BAAAMssWpRQc"
   ],
   "name": "Component Separation - RFI Removed.ipynb",
   "provenance": []
  },
  "kernelspec": {
   "display_name": "Python 3",
   "language": "python",
   "name": "python3"
  },
  "language_info": {
   "codemirror_mode": {
    "name": "ipython",
    "version": 3
   },
   "file_extension": ".py",
   "mimetype": "text/x-python",
   "name": "python",
   "nbconvert_exporter": "python",
   "pygments_lexer": "ipython3",
   "version": "3.6.8"
  }
 },
 "nbformat": 4,
 "nbformat_minor": 1
}
