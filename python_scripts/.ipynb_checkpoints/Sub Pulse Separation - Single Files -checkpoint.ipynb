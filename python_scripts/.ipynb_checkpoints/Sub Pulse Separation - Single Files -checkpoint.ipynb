{
 "cells": [
  {
   "cell_type": "markdown",
   "metadata": {
    "colab_type": "text",
    "id": "4z_feS2dDwlJ"
   },
   "source": [
    "# Importing Packages Needed"
   ]
  },
  {
   "cell_type": "code",
   "execution_count": 1,
   "metadata": {
    "colab": {},
    "colab_type": "code",
    "id": "zJLqZxwce0pN"
   },
   "outputs": [],
   "source": [
    "import numpy as np\n",
    "import scipy as sp\n",
    "import matplotlib.pyplot as py\n",
    "from scipy.optimize import curve_fit\n",
    "import collections as col\n",
    "from scipy.interpolate import UnivariateSpline\n",
    "import glob "
   ]
  },
  {
   "cell_type": "markdown",
   "metadata": {
    "colab_type": "text",
    "id": "FamzMgIcD2xs"
   },
   "source": [
    "# Definition of Named Tuples"
   ]
  },
  {
   "cell_type": "code",
   "execution_count": 2,
   "metadata": {
    "colab": {},
    "colab_type": "code",
    "id": "Uzxt0sq0qeHc"
   },
   "outputs": [],
   "source": [
    "subpulse = col.namedtuple('subpulse','phase intensity')\n",
    "ind_sub = col.namedtuple('ind_sub','phase intensity width')\n",
    "pulse_sub = col.namedtuple('pulse_sub','frequency sub1 mid1 mid2 sub2, errors')\n",
    "pulse_fits = col.namedtuple('pulse_fits','thorsett, powerlaw, linear')\n",
    "one_fit = col.namedtuple('one_fit','params, errors, cov, chir')\n",
    "pl_av = col.namedtuple('pl_av', 'frequency, phase')"
   ]
  },
  {
   "cell_type": "markdown",
   "metadata": {
    "colab_type": "text",
    "id": "a8CeXWdQIy8b"
   },
   "source": [
    "# Definition of Functions"
   ]
  },
  {
   "cell_type": "markdown",
   "metadata": {},
   "source": [
    "Functions needed to calculate chi squared values and find error in pulse data"
   ]
  },
  {
   "cell_type": "code",
   "execution_count": 3,
   "metadata": {},
   "outputs": [],
   "source": [
    "def chsq(observed_values, expected_values, err):\n",
    "    \"\"\"\n",
    "    Compute the data's chi squared values.\n",
    "    \n",
    "    Parameters:\n",
    "    -----------\n",
    "    observed_values: list\n",
    "        A list of floats - the raw data\n",
    "    expected_values: list\n",
    "        A list of floats - the expected data or the fit\n",
    "    err: float\n",
    "        The error across all data - standard deviation of the noise\n",
    "\n",
    "    Returns:\n",
    "    --------\n",
    "    test_statistic: float\n",
    "        The chi squared value of the data\n",
    "    \n",
    "    Created by Keegan Smith\n",
    "    \"\"\"\n",
    "    test_statistic=0\n",
    "    for observed, expected in zip(observed_values, expected_values):\n",
    "        test_statistic+=((float(observed)-float(expected))/float(err))**2\n",
    "    return test_statistic\n",
    "\n",
    "def chsq_err(observed_values, expected_values, err):\n",
    "    #Same as above but used when there is a different error for each point\n",
    "    test_statistic=0\n",
    "    for observed, expected, error in zip(observed_values, expected_values, err):\n",
    "        test_statistic+=((float(observed)-float(expected))/float(error))**2\n",
    "    return test_statistic"
   ]
  },
  {
   "cell_type": "code",
   "execution_count": 4,
   "metadata": {},
   "outputs": [],
   "source": [
    "def sigmaClip(data, alpha=3, tol=0.1, ntrials=10):\n",
    "    \"\"\"\n",
    "    Compute the data's median, m, and its standard deviation, sigma.\n",
    "    Keep only the data that falls in the range (m-alpha*sigma,m+alpha*sigma) for some value of alpha, and discard everything else.\n",
    "\n",
    "    This operation is repeated ntrials number of times or until the tolerance level is hit.\n",
    "\n",
    "    Parameters:\n",
    "    -----------\n",
    "    data: list\n",
    "        A list of floats - the data to clip\n",
    "    alpha: float\n",
    "        OPTIONAL - Determines the number of sigmas to use to determine the upper nad lower limits. Default=3\n",
    "    tol: float\n",
    "        OPTIONAL - The fractional change in the standard deviation that determines when the tolerance is hit. Default=0.1\n",
    "    ntrils: int\n",
    "        OPTIONAL - The maximum number of times to apply the operation. Default=10\n",
    "\n",
    "    Returns:\n",
    "    --------\n",
    "    oldstd: float\n",
    "        The std of the clipped data\n",
    "    x: list\n",
    "        The data list that contains only noise, with nans in place of 'real' data\n",
    "    \n",
    "    Created by Nick Swainston\n",
    "    \"\"\"\n",
    "    \n",
    "    x = np.copy(data)\n",
    "    oldstd = np.nanstd(x)\n",
    "    #When the x[x<lolim] and x[x>hilim] commands encounter a nan it produces a\n",
    "    #warning. This is expected because it is ignoring flagged data from a\n",
    "    #previous trial so the warning is supressed.\n",
    "    old_settings = np.seterr(all='ignore')\n",
    "    for trial in range(ntrials):\n",
    "        median = np.nanmedian(x)\n",
    "\n",
    "        lolim = median - alpha * oldstd\n",
    "        hilim = median + alpha * oldstd\n",
    "        x[x<lolim] = np.nan\n",
    "        x[x>hilim] = np.nan\n",
    "\n",
    "        newstd = np.nanstd(x)\n",
    "        tollvl = (oldstd - newstd) / newstd\n",
    "\n",
    "        if tollvl <= tol:\n",
    "            #print(\"Took {0} trials to reach tolerance\".format(trial+1))\n",
    "            np.seterr(**old_settings)\n",
    "            return oldstd, x\n",
    "\n",
    "        if trial + 1 == ntrials:\n",
    "            #print(\"Reached number of trials without reaching tolerance level\")\n",
    "            np.seterr(**old_settings)\n",
    "            return oldstd, x\n",
    "\n",
    "        oldstd = newstd"
   ]
  },
  {
   "cell_type": "markdown",
   "metadata": {
    "colab_type": "text",
    "id": "nOegi6c8I3gu"
   },
   "source": [
    "Gaussian Fitting Functions:"
   ]
  },
  {
   "cell_type": "code",
   "execution_count": 5,
   "metadata": {
    "colab": {},
    "colab_type": "code",
    "id": "Jf6ae6VTR-iR"
   },
   "outputs": [],
   "source": [
    "\"\"\"\n",
    "Definitions of gaussian equations. \n",
    "\"\"\"\n",
    "def gauss(x,amp,cen,sd):\n",
    "    return amp*np.exp(-(x-cen)**2/(2*sd**2))\n",
    "\n",
    "def multi_gauss(x, *params):\n",
    "    y = np.zeros_like(x)\n",
    "    for i in range(0, len(params), 3):\n",
    "        a = params[i]\n",
    "        b = params[i+1]\n",
    "        c = params[i+2]\n",
    "        y = y +  a * np.exp( -(((x-b)**2) / (2*c**2)) )\n",
    "    return y\n",
    "\n",
    "\"\"\"\n",
    "Fitting data into the above gaussian equations. Number of gaussians is dependent on expected value and bounds.\n",
    "\"\"\"\n",
    "def multi_fit(x, y, error, expect, bound):\n",
    "    params,cov=curve_fit(multi_gauss,x,y,expect,bounds=bound)\n",
    "    fit=multi_gauss(x,*params)\n",
    "    \n",
    "    chi=chsq(y, fit, error)\n",
    "    chir=chi/(len(y)-len(params))\n",
    "    \n",
    "    return params, cov, fit, chir"
   ]
  },
  {
   "cell_type": "code",
   "execution_count": 6,
   "metadata": {
    "colab": {},
    "colab_type": "code",
    "id": "zWylwCBKV8SL"
   },
   "outputs": [],
   "source": [
    "\"\"\"\n",
    "    Creates a four gaussian fit for the full frequency scrunched data.\n",
    "    Uses the peak of data to creat an expected value, attempts a fit, and if the chi squared reduced is below 1.1\n",
    "    it returns the fit.\n",
    "\"\"\" \n",
    "\n",
    "def fitting_ave_gaussians(x,y, error):   \n",
    "    #Finding peak of the data\n",
    "    mx=max(y)\n",
    "    yl=list(y)\n",
    "    mx_ind=yl.index(mx)\n",
    "    mx_ph=x[mx_ind]\n",
    "    \n",
    "    #Attempts to use the peak of the data as an expected value, if it is in the correct range\n",
    "    if mx_ph>300 and mx_ph<550:\n",
    "        expect=[mx,mx_ph,10, 15,500,5,15,550,5, 25,650,10]\n",
    "    elif mx_ph>550 and mx_ph<700:\n",
    "        expect=[25,400,10, 15,500,5,15,550,5, mx,mx_ph,10]\n",
    "    else:\n",
    "        expect=[25,400,10,15,500,5,15,550,5,25,650,10]\n",
    "\n",
    "    bound=([0,0,0,0,460,0,0,460,0,0,570,0],[np.inf,460,30,np.inf,570,30,np.inf,570,30,np.inf,np.inf,30])\n",
    "    \n",
    "    #Trys to create a four gaussian fit\n",
    "    try:\n",
    "        params, cov, fit, chir = multi_fit(x, y, error, expect, bound)\n",
    "        sigma=np.sqrt(np.diag(cov))\n",
    "    except Exception as e:\n",
    "        params=0\n",
    "        fit=[]\n",
    "        chir=5000\n",
    "        sigma=0\n",
    "        cov=0\n",
    "    \n",
    "    #If the data has a chi squared reduced above 1.1 then don't use the pulse\n",
    "    if chir>1.1:\n",
    "        params=0\n",
    "        fit=[]\n",
    "        chir=5000\n",
    "        sigma=0\n",
    "        cov=0        \n",
    "        \n",
    "    return fit, params, sigma, cov, chir"
   ]
  },
  {
   "cell_type": "code",
   "execution_count": 7,
   "metadata": {},
   "outputs": [],
   "source": [
    "\"\"\"\n",
    "    Based off the parameters of the fitting on the frequency scrunched profile, it creates an expected value for gaussian fits.\n",
    "    Detects how many peaks are above 15 intensity, and that is the number of expected gaussians.\n",
    "    If the maximum peak has a signal to noise less than 3.5, don't include this pulse. \n",
    "\"\"\" \n",
    "def find_expected(ax,ay,aerror):\n",
    "    #Find the gaussian fit on the frequency scrunched profile\n",
    "    fit, params, sigma, cov, chir=fitting_ave_gaussians(ax,ay, aerror)\n",
    "    expect=[]\n",
    "    \n",
    "    if fit!=[]:\n",
    "        #Find the peaks of the fit\n",
    "        minima,maxima,mine,maxe=find_minima_maxima_gauss(params, cov, len(ax))\n",
    "        maxy=multi_gauss(maxima,*params)\n",
    "        peaks=[]\n",
    "        peaky=[]\n",
    "        #Only include profiles where the max peak has a signal/noise greater than 3.5\n",
    "        if (max(maxy)/aerror)>3.5:\n",
    "            for i in range(len(maxima)):\n",
    "                #Only include peaks which are greater than 15\n",
    "                if maxy[i]>15:\n",
    "                    expect.extend([(maxy[i]+5),maxima[i],5])\n",
    "                    peaks.append(maxima[i])\n",
    "                    peaky.append(maxy[i])\n",
    "    if expect==[]:\n",
    "        print('Pulse too noisey')\n",
    "          \n",
    "    return expect"
   ]
  },
  {
   "cell_type": "code",
   "execution_count": 8,
   "metadata": {},
   "outputs": [],
   "source": [
    "\"\"\"\n",
    "    Creates a gaussian fit for the data based on the expected value gained from the full frequency scrunched profile.\n",
    "\"\"\" \n",
    "def fitting_gaussians(x,y, error, expect):   \n",
    "    #Only includes frequency bands with error smaller than 30\n",
    "    if error<30 and expect!=[]:\n",
    "        #Attempts to use the peak of the data as an expected value, if it is in the correct range\n",
    "        mx=max(y)\n",
    "        yl=list(y)\n",
    "        mx_ind=yl.index(mx)\n",
    "        mx_ph=x[mx_ind]\n",
    "        if mx_ph>300 and mx_ph<550:\n",
    "            expect[0]=mx\n",
    "        elif mx_ph>550 and mx_ph<700:\n",
    "            expect[-3]=mx\n",
    "        #Assigns the correct bounds, depending on number of gaussians\n",
    "        bound=([],[])\n",
    "        for i in range(0, len(expect), 3):\n",
    "            bound[0].extend([0,0,0])\n",
    "            bound[1].extend([np.inf,np.inf,30])\n",
    "        #Attempts to create a fit for the data using the expected and bounds\n",
    "        try:\n",
    "            params, cov, fit, chir = multi_fit(x, y, error, expect,bound)\n",
    "            sigma=np.sqrt(np.diag(cov))\n",
    "        except:\n",
    "            params=0\n",
    "            fit=[]\n",
    "            chir=5000\n",
    "            sigma=0\n",
    "            cov=0 \n",
    "    else:\n",
    "        params=0\n",
    "        fit=[]\n",
    "        chir=5000\n",
    "        sigma=0\n",
    "        cov=0   \n",
    "    return fit, params, sigma, cov, chir"
   ]
  },
  {
   "cell_type": "markdown",
   "metadata": {
    "colab_type": "text",
    "id": "Hf__MEBnJEd_"
   },
   "source": [
    "Finding Peak of Gaussian Fittings Function"
   ]
  },
  {
   "cell_type": "code",
   "execution_count": 9,
   "metadata": {},
   "outputs": [],
   "source": [
    "def multi_gauss_ddx(x, *params):\n",
    "    #derivative of gaussian\n",
    "    y = np.zeros_like(x)\n",
    "    for i in range(0, len(params), 3):\n",
    "        a = params[i]\n",
    "        b = params[i+1]\n",
    "        c = params[i+2]\n",
    "        y = y - a/c**2 * (x - b) * np.exp( -(((x-b)**2) / (2*c**2)) )\n",
    "    return y\n",
    "\n",
    "def multi_gauss_d2dx2(x, *params):\n",
    "    #double derivative of gaussian\n",
    "    y = np.zeros_like(x)\n",
    "    for i in range(0, len(params), 3):\n",
    "        a = params[i]\n",
    "        b = params[i+1]\n",
    "        c = params[i+2]\n",
    "        y = y + (multi_gauss(x, a, b, c) / c**2) * (((x - b)**2)/(c**2) - 1)\n",
    "    return y\n",
    "\n",
    "def jacobian_slope(x, *params):\n",
    "    \"\"\"\n",
    "    Evaluates the Jacobian matrix of a gaussian slope at a single point, x\n",
    "    Parameters:\n",
    "    -----------\n",
    "    x: float\n",
    "        The point to evaluate\n",
    "    *params: list\n",
    "        A list containing three parameters per gaussian component in the order: Amp, Mean, Width\n",
    "\n",
    "    Returns:\n",
    "    --------\n",
    "    J: numpy.matrix\n",
    "        The Jacobian matrix\n",
    "    Created by Keegan Smith\n",
    "    \"\"\"\n",
    "    def dda(a, b, c, x):\n",
    "        return -multi_gauss(x, a, b, c) * (x - b)/(c**2)/a\n",
    "    def ddb(a, b, c, x):\n",
    "        return multi_gauss(x, a, b, c) * (1 - (x - b)**2/(c**2))/c**2\n",
    "    def ddc(a, b, c, x):\n",
    "        return multi_gauss(x, a, b, c) * (x - b)/(c**3) * (2 - (x-b)**2/(c**2))\n",
    "    J = []\n",
    "    for i in range(0, len(params), 3):\n",
    "        a = params[i]\n",
    "        b = params[i+1]\n",
    "        c = params[i+2]\n",
    "        mypars = [a, b, c, x]\n",
    "        J.append(dda(*mypars))\n",
    "        J.append(ddb(*mypars))\n",
    "        J.append(ddc(*mypars))\n",
    "    J = np.asmatrix(J)\n",
    "    return J"
   ]
  },
  {
   "cell_type": "code",
   "execution_count": 10,
   "metadata": {},
   "outputs": [],
   "source": [
    "def find_x_err(x, popt, pcov):\n",
    "    \"\"\"\n",
    "    Finds the error in the horizontal position of a gaussian fit at the point x.\n",
    "    Uses the equation sigma_x = sigma_y/d2ydx2 where:\n",
    "    sigma_x = error in x\n",
    "    d2ydx2 = second derivative of the gaussian function at point x\n",
    "    sigma_y = sqrt.J*C*J_T\n",
    "    J = Jacobian evalutated at point x\n",
    "    C = covariance matrix of gaussian fit\n",
    "    J_T = transposed jacobian\n",
    "    Parameters:\n",
    "    -----------\n",
    "    x: list\n",
    "        A list of points to evaluate the error at\n",
    "    popt: list\n",
    "        The parameters used to describe the gaussian fit\n",
    "    pcov: numpy.matrix\n",
    "        The covariance matrix corresponding to popt\n",
    "\n",
    "    Returns:\n",
    "    --------\n",
    "    x_err: list\n",
    "        The error evaluated at each point, x\n",
    "    \"\"\"\n",
    "    x_err = []\n",
    "    for i, point in enumerate(x):\n",
    "        J = jacobian_slope(point, *popt)\n",
    "        d2dx2 = multi_gauss_d2dx2(point, *popt)\n",
    "        JC = np.matmul(J, pcov)\n",
    "        sigma_y = np.sqrt( np.matmul(JC, np.transpose(J)).item(0) )\n",
    "        x_err.append(sigma_y / abs(d2dx2))\n",
    "    return x_err"
   ]
  },
  {
   "cell_type": "code",
   "execution_count": 11,
   "metadata": {},
   "outputs": [],
   "source": [
    "def find_minima_maxima_gauss(popt, pcov, x_length):\n",
    "    \"\"\"\n",
    "    Finds all roots of a gaussian function\n",
    "    Parameters:\n",
    "    -----------\n",
    "    popt: list\n",
    "        A list of length 3N where N is the number of gaussians. This list contains the parameters amp, mean, centre respectively\n",
    "    x_length: int\n",
    "        The length of the list used to fit the gaussian\n",
    "\n",
    "    Returns:\n",
    "    --------\n",
    "    minima: list\n",
    "        A list of the minimum points of the fit\n",
    "    maxima: list\n",
    "        A list of the maximum points of the fit\n",
    "    \"\"\"\n",
    "    #Create the derivative list and spline it to find roots\n",
    "    x = np.linspace(0, x_length-1, x_length)\n",
    "    dy = multi_gauss_ddx(x, *popt)\n",
    "    spline_dy = UnivariateSpline(x, dy, s=0)\n",
    "    roots = spline_dy.roots()\n",
    "    \n",
    "    #Find which are max and min\n",
    "    maxima = []\n",
    "    minima = []\n",
    "    for root in roots:\n",
    "        idx = int(root + 0.5)\n",
    "        if dy[idx-1] > dy[idx]:\n",
    "            maxima.append(root)\n",
    "        else:\n",
    "            minima.append(root)            \n",
    "    #Find max and min errors\n",
    "    minima_e = find_x_err(minima, popt, pcov)\n",
    "    maxima_e = find_x_err(maxima, popt, pcov)\n",
    "\n",
    "    return minima, maxima, minima_e, maxima_e"
   ]
  },
  {
   "cell_type": "code",
   "execution_count": 12,
   "metadata": {},
   "outputs": [],
   "source": [
    "def gauss_peaksn(fit, nofreqband, freqband, cov, params,freq_low,freq_high,noise):\n",
    "    \"\"\"\n",
    "    Find the peaks of a gaussian fit, take the highest two and create a profile_comp.\n",
    "    Also converts the phase into degrees and the frequency into MHz.\n",
    "    Parameters:\n",
    "    -----------\n",
    "    fit: list\n",
    "        the gaussian fit to find peaks of\n",
    "    nofreqband: int\n",
    "        total number of frequency bins \n",
    "    freqband: int\n",
    "        current frequency band which has been fit\n",
    "    noise_std: int\n",
    "        the standard deviation of the noise - the error of the data\n",
    "    params: list\n",
    "        the parameters for the fit\n",
    "    freq_low: int\n",
    "        the lower boundary of the frequency range\n",
    "    freq_high: int\n",
    "        the high boundary of the frequency range\n",
    "    Returns:\n",
    "    --------\n",
    "    profile_comp: pulse_component\n",
    "        carrys information about each component at a certain frequency\n",
    "    \"\"\"\n",
    "    #Used to convert phase bins into degrees\n",
    "    deg_mod=360/len(fit)\n",
    "    \n",
    "    #Find the peaks of the fit, and the intensity at those peaks\n",
    "    minima, peakpos, minima_e, err=find_minima_maxima_gauss(params, cov, len(fit))\n",
    "    peakint = multi_gauss(peakpos, *params)\n",
    "    \n",
    "    pul1=subpulse(phase=0, intensity=0)\n",
    "    mi1=subpulse(phase=0, intensity=0)\n",
    "    mi2=subpulse(phase=0, intensity=0)\n",
    "    pul2=subpulse(phase=0, intensity=0)\n",
    "    error=[0,0,0,0]\n",
    "    \n",
    "    #Assign the peaks to be either subpulse 1 or 2, or mid 1 or 2, also converts phase from bins to degrees\n",
    "    if len(peakpos)!=0:\n",
    "        for i in range(len(peakpos)):\n",
    "            if peakpos[i]<455 and peakpos[i]>285 and (peakint[i]/noise)>2.5 and peakint[i]>pul1[1]:\n",
    "                pul1=subpulse(phase=(deg_mod)*peakpos[i], intensity=peakint[i])\n",
    "                error[0]=(err[i]*(deg_mod))\n",
    "            elif peakpos[i]<520 and peakpos[i]>455 and (peakint[i]/noise)>1.5 and peakint[i]>mi1[1]:\n",
    "                mi1=subpulse(phase=(deg_mod)*peakpos[i], intensity=peakint[i])\n",
    "                error[1]=(err[i]*(deg_mod))\n",
    "            elif peakpos[i]<570 and peakpos[i]>520 and (peakint[i]/noise)>1.5 and peakint[i]>mi2[1]:\n",
    "                mi2=subpulse(phase=(deg_mod)*peakpos[i], intensity=peakint[i])\n",
    "                error[2]=(err[i]*(deg_mod))        \n",
    "            elif peakpos[i]<850 and peakpos[i]>570 and (peakint[i]/noise)>2.5 and peakint[i]>pul2[1]:\n",
    "                pul2=subpulse(phase=(deg_mod)*peakpos[i], intensity=peakint[i])\n",
    "                error[3]=(err[i]*(deg_mod))\n",
    "\n",
    "    #Converts the frequency from bins to MHz    \n",
    "    freq=(((freq_high-freq_low)/nofreqband)*(nofreqband-freqband))+freq_low\n",
    "    profile_comp = pulse_sub(frequency=freq, sub1=pul1, mid1=mi1, mid2=mi2, sub2=pul2, errors=error)\n",
    "\n",
    "    return profile_comp"
   ]
  },
  {
   "cell_type": "markdown",
   "metadata": {
    "colab_type": "text",
    "id": "4P1qFLYpI9hB"
   },
   "source": [
    "Plotting Fittings Functions"
   ]
  },
  {
   "cell_type": "code",
   "execution_count": 13,
   "metadata": {
    "colab": {},
    "colab_type": "code",
    "id": "gPhqw8WaI8pp"
   },
   "outputs": [],
   "source": [
    "\"\"\"\n",
    "    Used to make different plots of the fits, their components and peaks.\n",
    "\"\"\"\n",
    "def plot_fit(x,y,fit,params,sigma):\n",
    "    py.plot(x, y, lw=0.5, label='data')\n",
    "    py.plot(x,fit, color='red',lw=3,label='gaussian fit')\n",
    "    py.xlabel('Phase Bin')\n",
    "    py.ylabel('Intensity')\n",
    "    py.legend()\n",
    "    return\n",
    "\n",
    "def plot_fill(x,y,params):\n",
    "    params1 = params[0:3]\n",
    "    params2 = params[3:6]\n",
    "    gfit1 = gauss(x, *params1)\n",
    "    gfit2 = gauss(x, *params2)\n",
    "    \n",
    "    py.plot(x, y, lw=0.5, label='data')\n",
    "    py.plot(x,fit,color='red',lw=3,label='gaussian fit')\n",
    "    py.xlabel('Phase Bin')\n",
    "    py.ylabel('Intensity')\n",
    "    py.legend()\n",
    "\n",
    "    py.plot(x, gfit1, \"g\")\n",
    "    py.fill_between(x, gfit1.min(), gfit1, facecolor=\"green\", alpha=0.5)\n",
    "  \n",
    "    py.plot(x, gfit2, \"y\")\n",
    "    py.fill_between(x, gfit2.min(), gfit2, facecolor=\"yellow\", alpha=0.5)\n",
    "    return \n",
    "\n",
    "def plot_peaks(x,y,profile_comp):\n",
    "    py.plot((360/1024)*x,y, lw=0.5)\n",
    "    py.plot((360/1024)*x, fit, color='red', lw=3, label='gaussian fit')\n",
    "\n",
    "    x=[]\n",
    "    y=[]\n",
    "    for i in range(1,5):\n",
    "        if profile_comp[i][0]!=0:\n",
    "            x.append(profile_comp[i][0])\n",
    "            y.append(profile_comp[i][1])\n",
    "\n",
    "    py.plot(x, y ,'X', markerfacecolor='black', markeredgecolor='black', label='peaks')\n",
    "\n",
    "    py.xlabel('Phase (deg)')\n",
    "    py.ylabel('Intensity')\n",
    "    py.legend()\n",
    "    return"
   ]
  },
  {
   "cell_type": "markdown",
   "metadata": {},
   "source": [
    "Finding powerlaw and thorsett fits for data points"
   ]
  },
  {
   "cell_type": "code",
   "execution_count": 14,
   "metadata": {
    "colab": {},
    "colab_type": "code",
    "id": "_V1yQ0U5__mq"
   },
   "outputs": [],
   "source": [
    "def thorsett(x, A, alpha, smin):\n",
    "    return (A * (x**(alpha)) + smin)\n",
    "def powerlaw(x, A, alpha):\n",
    "    return (A * (x**(alpha)))\n",
    "def linear(x, m, c):\n",
    "    return (x * m+c)"
   ]
  },
  {
   "cell_type": "code",
   "execution_count": 15,
   "metadata": {},
   "outputs": [],
   "source": [
    "\"\"\"\n",
    "    Attempts to fit a thorsett, power law and linear equation to the data. Also calculates chi squared and reduced \n",
    "\"\"\"\n",
    "def three_fits(frequency_comp, phase_comp, comp_err, num): \n",
    "    try:\n",
    "        #Sets the expected values based on the subpulse number\n",
    "        if num==1 or num==2:\n",
    "            expect=[100,0.1,0.1]\n",
    "        elif num==3 or num==4:\n",
    "            expect=[200,0.01,0.1]\n",
    "        #Create the thorsett fit\n",
    "        thorsett_params,thorsett_cov=curve_fit(thorsett,frequency_comp,phase_comp, expect, sigma=comp_err, maxfev=100000)\n",
    "        thorsett_fit_error=np.sqrt(np.diag(thorsett_cov))\n",
    "        thorsettf = thorsett(frequency_comp, *thorsett_params)\n",
    "        #Find the chi squared values\n",
    "        ch=chsq_err(phase_comp,thorsettf, comp_err)\n",
    "        chre=ch/(len(phase_comp)-3)\n",
    "\n",
    "        thorsett_fit=one_fit(params=thorsett_params, errors=thorsett_fit_error, cov=thorsett_cov, chir=chre)  \n",
    "    except:\n",
    "        print('No thorsett for component')\n",
    "        thorsett_fit=0\n",
    "\n",
    "    try:\n",
    "        #Sets the expected values based on the subpulse number\n",
    "        if num==1 or num==2:\n",
    "            expect=[100,0.1]\n",
    "        elif num==3 or num==4:\n",
    "            expect=[200,0.01]\n",
    "        #Create the powerlaw fit\n",
    "        pl_params,pl_cov=curve_fit(powerlaw,frequency_comp,phase_comp,expect, sigma=comp_err, maxfev=100000)\n",
    "        pl_fit_error=np.sqrt(np.diag(pl_cov))\n",
    "        powerlawf = powerlaw(frequency_comp, *pl_params)\n",
    "        #Find the chi squared values\n",
    "        ch=chsq_err(phase_comp,powerlawf, comp_err)\n",
    "        chre=ch/(len(phase_comp)-2)\n",
    "        \n",
    "        pl_fit=one_fit(params=pl_params, errors=pl_fit_error, cov=pl_cov, chir=chre)\n",
    "    except:\n",
    "        print('No power law for component')\n",
    "        pl_fit=0\n",
    "\n",
    "    try:\n",
    "        #Sets the expected values based on the subpulse number\n",
    "        if num==1 or num==2:\n",
    "            expect=[0.05,130]\n",
    "        elif num==3 or num==4:\n",
    "            expect=[0.01,230]\n",
    "        #Create the linear fit\n",
    "        lin_params,lin_cov=curve_fit(linear,frequency_comp,phase_comp,expect, sigma=comp_err)\n",
    "        lin_fit_error=np.sqrt(np.diag(lin_cov))\n",
    "        linearf = linear(np.array(frequency_comp), *lin_params)\n",
    "        #Find the chi squared values\n",
    "        ch=chsq_err(phase_comp,linearf, comp_err)\n",
    "        chre=ch/(len(phase_comp)-2)\n",
    "        \n",
    "        lin_fit=one_fit(params=lin_params, errors=lin_fit_error, cov=lin_cov, chir=chre)\n",
    "    except:\n",
    "        print('No linear for component')\n",
    "        lin_fit=0\n",
    "        \n",
    "    pulse_fit=pulse_fits(thorsett=thorsett_fit, powerlaw=pl_fit, linear=lin_fit)\n",
    "    \n",
    "    return pulse_fit"
   ]
  },
  {
   "cell_type": "code",
   "execution_count": 16,
   "metadata": {},
   "outputs": [],
   "source": [
    "def find_fits(fit_spulse):\n",
    "    \"\"\"\n",
    "    Create the fits for each subpulse 1 through to 4\n",
    "    \"\"\"\n",
    "    sfit1=0\n",
    "    sfit2=0\n",
    "    sfit3=0\n",
    "    sfit4=0\n",
    "    \n",
    "    #Find the movement of pulse across frequency for sub pulse 1, converting into graphable arrays\n",
    "    p1, f1, e1=graphing_spulse(fit_spulse,1)\n",
    "    #Remove outliers\n",
    "    if p1!=[]:\n",
    "        f1, p1, e1 = detect_outlier(f1, p1, e1,2)\n",
    "        #Only include if there are 4 or more points, and if their range is no greater than 17\n",
    "        if len(p1)>3 and (max(p1)-min(p1))<17:\n",
    "            sfit1=three_fits(f1, p1, e1,1)\n",
    "            \n",
    "    #Find the movement of pulse across frequency for sub pulse 2, converting into graphable arrays\n",
    "    p2, f2, e2=graphing_spulse(fit_spulse,2)\n",
    "    #Remove outliers\n",
    "    if p2!=[]:\n",
    "        f2, p2, e2 = detect_outlier(f2, p2, e2,2)\n",
    "        #Only include if there are 4 or more points, and if their range is no greater than 10\n",
    "        if len(p2)>3 and (max(p2)-min(p2))<10:\n",
    "            sfit2=three_fits(f2, p2, e2,2)\n",
    "            \n",
    "    #Find the movement of pulse across frequency for sub pulse 3, converting into graphable arrays\n",
    "    p3, f3, e3=graphing_spulse(fit_spulse,3)\n",
    "    #Remove outliers\n",
    "    if p3!=[]:\n",
    "        f3, p3, e3 = detect_outlier(f3, p3, e3,2)\n",
    "        #Only include if there are 4 or more points, and if their range is no greater than 10\n",
    "        if len(p3)>3 and (max(p3)-min(p3))<10:\n",
    "            sfit3=three_fits(f3, p3, e3,3)\n",
    "\n",
    "    #Find the movement of pulse across frequency for sub pulse 4, converting into graphable arrays\n",
    "    p4, f4, e4=graphing_spulse(fit_spulse,4)\n",
    "    #Remove outliers\n",
    "    if p4!=[]:\n",
    "        f4, p4, e4 = detect_outlier(f4, p4, e4, 2)\n",
    "        #Only include if there are 4 or more points, and if their range is no greater than 5\n",
    "        if len(p4)>3 and (max(p4)-min(p4))<5:\n",
    "            sfit4=three_fits(f4, p4, e4,4)\n",
    "     \n",
    "    all_fits=[sfit1, sfit2, sfit3, sfit4] \n",
    "    return all_fits"
   ]
  },
  {
   "cell_type": "markdown",
   "metadata": {
    "colab_type": "text",
    "id": "L_oE3uFcsKkA"
   },
   "source": [
    "Averaging all single pulse movement"
   ]
  },
  {
   "cell_type": "code",
   "execution_count": 17,
   "metadata": {},
   "outputs": [],
   "source": [
    "def jacobian_slope_pl(length,x, *params):\n",
    "    \"\"\"\n",
    "    Evaluates the Jacobian matrix of a gaussian slope at a single point, x\n",
    "    Parameters:\n",
    "    -----------\n",
    "    x: float\n",
    "        The point to evaluate\n",
    "    *params: list\n",
    "        A list containing three parameters per gaussian component in the order: Amp, Mean, Width\n",
    "\n",
    "    Returns:\n",
    "    --------\n",
    "    J: numpy.matrix\n",
    "        The Jacobian matrix\n",
    "    \"\"\"\n",
    "    def ddA(A, alpha, x):\n",
    "        return (1/length)*x**alpha\n",
    "    def ddalpha(A, alpha, x):\n",
    "        return (1/length)*alpha*A*x**(alpha-1)\n",
    "    J = []\n",
    "    for i in range(0, len(params), 2):\n",
    "        A = params[i]\n",
    "        alpha = params[i+1]\n",
    "        mypars = [A, alpha, x]\n",
    "        J.append(ddA(*mypars))\n",
    "        J.append(ddalpha(*mypars))\n",
    "    J = np.asmatrix(J)\n",
    "    return J"
   ]
  },
  {
   "cell_type": "code",
   "execution_count": 18,
   "metadata": {},
   "outputs": [],
   "source": [
    "def find_y_err_pl(x, popt, pcov):\n",
    "    \"\"\"\n",
    "    Finds the error in the averaged power laws point x, based on all averaged together errors.\n",
    "    x=list of all frequencys. \n",
    "    popt = parameter list across all pulses. \n",
    "    pcov=covarience matrix for all pulses\n",
    "    sigma_y = sqrt.J*C*J_T\n",
    "    \"\"\"\n",
    "    #Combine multiple cov matrices into one\n",
    "    cov=np.zeros((len(pcov)*2,len(pcov)*2))\n",
    "    for i, c in enumerate(pcov):\n",
    "        cov[i*2][i*2]=c[0][0]\n",
    "        cov[i*2][i*2+1]=c[0][1]\n",
    "        cov[i*2+1][i*2]=c[1][0]\n",
    "        cov[i*2+1][i*2+1]=c[1][1]\n",
    "    err=[]\n",
    "    #Finding the error - sqrt.J*C*J_T\n",
    "    for i, point in enumerate(x):\n",
    "        J = jacobian_slope_pl(len(x),point, *popt)\n",
    "        JC = np.matmul(J, cov)\n",
    "        sigma_y = np.sqrt( np.matmul(JC, np.transpose(J)).item(0) )\n",
    "        err.append(sigma_y)\n",
    "    return err\n",
    "#returns a list of errors"
   ]
  },
  {
   "cell_type": "code",
   "execution_count": 19,
   "metadata": {},
   "outputs": [],
   "source": [
    "\"\"\"\n",
    "    Functions used to get an average value of a list, the average of a list of parameters \n",
    "    and create a continuous powerlaw - x and y arrays.\n",
    "\"\"\"\n",
    "def average(num_list):\n",
    "    sum_num=0\n",
    "    for n in num_list:\n",
    "        sum_num=sum_num+n\n",
    "    avg=sum_num/len(num_list)\n",
    "    return avg\n",
    "\n",
    "def average_plfits(comp_params):\n",
    "    param1=[]\n",
    "    param2=[]\n",
    "    for i, fit in enumerate(comp_params):\n",
    "        param1.append(fit[0][0])\n",
    "        param2.append(fit[0][1])\n",
    "\n",
    "    av_param1=average(param1)\n",
    "    av_param2=average(param2)\n",
    "    return av_param1, av_param2\n",
    "\n",
    "def create_pl_fit(lower,upper,param1,param2):\n",
    "    x=list(range(lower,upper))\n",
    "    y=[]\n",
    "    for freq in x:\n",
    "        y.append(param1 * (freq**(param2)))\n",
    "    return x,y"
   ]
  },
  {
   "cell_type": "markdown",
   "metadata": {},
   "source": [
    "Extra Stuff"
   ]
  },
  {
   "cell_type": "code",
   "execution_count": 20,
   "metadata": {},
   "outputs": [],
   "source": [
    "\"\"\"\n",
    "    Used to get the correct x, y and error arrays created for graphing the data and finding a fit.\n",
    "\"\"\"\n",
    "def graphing_spulse(fit_spulse,spulse_num):\n",
    "        phase_comp=[]\n",
    "        frequency_comp=[]\n",
    "        comp_err=[]\n",
    "\n",
    "        for i in range(0,len(fit_spulse)):\n",
    "            if fit_spulse[i][spulse_num][0]!=0:\n",
    "                phase_comp.append(fit_spulse[i][spulse_num][0])\n",
    "                frequency_comp.append(fit_spulse[i][0])\n",
    "                comp_err.append(fit_spulse[i][5][spulse_num-1])\n",
    "\n",
    "        return phase_comp, frequency_comp, comp_err    "
   ]
  },
  {
   "cell_type": "code",
   "execution_count": 21,
   "metadata": {},
   "outputs": [],
   "source": [
    "\"\"\"\n",
    "    Used to remove outliers more than the threshold number of standard deviations from the mean. \n",
    "    Also removes points with high errors.\n",
    "\"\"\"\n",
    "def detect_outlier(frequency_comp, phase_comp, comp_err , threshold):\n",
    "    phase=[]\n",
    "    frequency=[]\n",
    "    err=[]\n",
    "    \n",
    "    #Find mean and standard deviation of data\n",
    "    mean_1 = np.mean(phase_comp)\n",
    "    std_1 =np.std(phase_comp)\n",
    "    \n",
    "    \n",
    "    for i in range(len(phase_comp)):\n",
    "        #Find z score\n",
    "        z_score= (phase_comp[i] - mean_1)/std_1 \n",
    "        #Only include points which have a z score under the threshold value, and with errors less than 100 degrees\n",
    "        if np.abs(z_score) < threshold and comp_err[i]<100:\n",
    "            phase.append(phase_comp[i])\n",
    "            frequency.append(frequency_comp[i])\n",
    "            err.append(comp_err[i])\n",
    "    return frequency, phase, err"
   ]
  },
  {
   "cell_type": "markdown",
   "metadata": {
    "colab_type": "text",
    "id": "eKWvXxMcEIfE"
   },
   "source": [
    "# INDIVIDUAL FREQUENCY BANDS"
   ]
  },
  {
   "cell_type": "markdown",
   "metadata": {},
   "source": [
    "This section is mainly used for error checking the individual frequency bands of a pulse."
   ]
  },
  {
   "cell_type": "markdown",
   "metadata": {
    "colab_type": "text",
    "id": "HsEW4YA0D-QH"
   },
   "source": [
    "## Importing Data"
   ]
  },
  {
   "cell_type": "markdown",
   "metadata": {
    "colab_type": "text",
    "id": "5aCGkE3ZYbBM"
   },
   "source": [
    "Data must be in text file format from software pdv.\n",
    "Also must contain time scrunched data so that the first column of numbers is always 0 (only one pulse). "
   ]
  },
  {
   "cell_type": "code",
   "execution_count": 22,
   "metadata": {
    "colab": {},
    "colab_type": "code",
    "id": "4ieR-2IlfGA_"
   },
   "outputs": [],
   "source": [
    "fulldatatype=([('pulse','i8'),('frequency','i8'),('phase','i8'),('intensity','f8')])\n",
    "single_pulse = np.loadtxt(fname='/home/lisasmith/sspulsar/archivefiles/s_archivefiles/f256/full_pdv/pulse_1503961235.pazi.pdv', dtype=fulldatatype)\n",
    "no_freq_bands = max(single_pulse['frequency'])+1\n",
    "scrunched_pulse = np.loadtxt(fname='/home/lisasmith/sspulsar/archivefiles/s_archivefiles/F/pulse_1503961235.F.pdv', dtype=fulldatatype)"
   ]
  },
  {
   "cell_type": "markdown",
   "metadata": {},
   "source": [
    "## Gaussian Fitting - Broken Down for Each Frequency"
   ]
  },
  {
   "cell_type": "markdown",
   "metadata": {},
   "source": [
    "From all the frequency profiles it takes only the one frequency band. "
   ]
  },
  {
   "cell_type": "code",
   "execution_count": 23,
   "metadata": {},
   "outputs": [
    {
     "name": "stderr",
     "output_type": "stream",
     "text": [
      "/usr/lib/python3/dist-packages/ipykernel_launcher.py:11: DeprecationWarning: elementwise comparison failed; this will raise an error in the future.\n",
      "  # This is added back by InteractiveShellApp.init_path()\n",
      "/usr/lib/python3/dist-packages/ipykernel_launcher.py:31: RuntimeWarning: invalid value encountered in double_scalars\n"
     ]
    }
   ],
   "source": [
    "#Create arrays for full frequency scrunched pulse\n",
    "ax=scrunched_pulse['phase']\n",
    "ay=scrunched_pulse['intensity']\n",
    "noise = sigmaClip(ay)\n",
    "aerror = np.nanstd(noise[1])\n",
    "\n",
    "#Find expected gaussian parameters based off frequency scrunched profile\n",
    "expect=find_expected(ax,ay,aerror)"
   ]
  },
  {
   "cell_type": "code",
   "execution_count": 24,
   "metadata": {
    "colab": {},
    "colab_type": "code",
    "id": "mcIptVeffJXA"
   },
   "outputs": [],
   "source": [
    "#Isolating a single frequency for a pulse\n",
    "freqband = 9\n",
    "f = single_pulse['frequency'] == freqband\n",
    "\n",
    "x=single_pulse['phase'][f]\n",
    "y=single_pulse['intensity'][f]\n",
    "noise = sigmaClip(y)\n",
    "error = np.nanstd(noise[1])"
   ]
  },
  {
   "cell_type": "code",
   "execution_count": 25,
   "metadata": {},
   "outputs": [
    {
     "name": "stderr",
     "output_type": "stream",
     "text": [
      "/usr/lib/python3/dist-packages/ipykernel_launcher.py:5: DeprecationWarning: elementwise comparison failed; this will raise an error in the future.\n",
      "  \"\"\"\n",
      "/usr/lib/python3/dist-packages/ipykernel_launcher.py:31: RuntimeWarning: invalid value encountered in double_scalars\n"
     ]
    },
    {
     "data": {
      "image/png": "[encoded data removed]",
      "text/plain": [
       "<matplotlib.figure.Figure at 0x7f7303882fd0>"
      ]
     },
     "metadata": {},
     "output_type": "display_data"
    }
   ],
   "source": [
    "#Uses expected parameters and returns a fit for the frequency band\n",
    "fit, params, sigma, cov, chir=fitting_gaussians(x,y,error, expect)\n",
    "#If there is a fit, finds peaks where derivative is equal to zero\n",
    "#Also classifys it as subpulse 1, 2, 3 or 4 depending on location\n",
    "if fit!=[] and expect!=[]:\n",
    "    pulse_subp = gauss_peaksn(fit, no_freq_bands, freqband, cov, params, 300, 500,error)\n",
    "    plot_peaks(x,y, pulse_subp)\n",
    "elif fit==[]:\n",
    "    print('No fit')\n",
    "elif expect==[]:\n",
    "    print('No expect')"
   ]
  },
  {
   "cell_type": "markdown",
   "metadata": {
    "colab_type": "text",
    "id": "er13GCy-EUTz"
   },
   "source": [
    "# INDIVIDUAL PULSE"
   ]
  },
  {
   "cell_type": "markdown",
   "metadata": {},
   "source": [
    "This section is mainly used for error checking the fit across frequency for an individual pulse."
   ]
  },
  {
   "cell_type": "markdown",
   "metadata": {},
   "source": [
    "## Gaussian Fitting "
   ]
  },
  {
   "cell_type": "markdown",
   "metadata": {
    "colab_type": "text",
    "id": "dUDXQCiVhOyH"
   },
   "source": [
    "The following is a looped version of the previous section to find the correct peaks for each frequency profile"
   ]
  },
  {
   "cell_type": "code",
   "execution_count": 26,
   "metadata": {},
   "outputs": [
    {
     "name": "stderr",
     "output_type": "stream",
     "text": [
      "/usr/lib/python3/dist-packages/ipykernel_launcher.py:11: DeprecationWarning: elementwise comparison failed; this will raise an error in the future.\n",
      "  # This is added back by InteractiveShellApp.init_path()\n",
      "/usr/lib/python3/dist-packages/ipykernel_launcher.py:31: RuntimeWarning: invalid value encountered in double_scalars\n"
     ]
    }
   ],
   "source": [
    "fit_spulse = []\n",
    "#Create arrays for full frequency scrunched pulse\n",
    "ax=scrunched_pulse['phase']\n",
    "ay=scrunched_pulse['intensity']\n",
    "noise = sigmaClip(ay)\n",
    "aerror = np.nanstd(noise[1])\n",
    "#Find expected gaussian parameters based off frequency scrunched profile\n",
    "expect=find_expected(ax,ay,aerror)"
   ]
  },
  {
   "cell_type": "code",
   "execution_count": 27,
   "metadata": {},
   "outputs": [
    {
     "name": "stderr",
     "output_type": "stream",
     "text": [
      "/home/lisasmith/.local/lib/python3.6/site-packages/numpy/lib/nanfunctions.py:1667: RuntimeWarning: Degrees of freedom <= 0 for slice.\n",
      "  keepdims=keepdims)\n",
      "/home/lisasmith/.local/lib/python3.6/site-packages/numpy/lib/nanfunctions.py:1113: RuntimeWarning: Mean of empty slice\n",
      "  return np.nanmean(a, axis, out=out, keepdims=keepdims)\n",
      "/usr/lib/python3/dist-packages/ipykernel_launcher.py:15: DeprecationWarning: elementwise comparison failed; this will raise an error in the future.\n",
      "  from ipykernel import kernelapp as app\n",
      "/usr/lib/python3/dist-packages/ipykernel_launcher.py:31: RuntimeWarning: invalid value encountered in double_scalars\n"
     ]
    }
   ],
   "source": [
    "for i in range(no_freq_bands):\n",
    "    #Creating arrays for pulse and finding frequency band noise\n",
    "    freqband = i\n",
    "    f = single_pulse['frequency'] == freqband\n",
    "    x=single_pulse['phase'][f]\n",
    "    y=single_pulse['intensity'][f]\n",
    "    \n",
    "    noise = sigmaClip(y)\n",
    "    error = np.nanstd(noise[1])\n",
    "    \n",
    "    #Try creating a gaussian fit, based on expected valyes from F scrunched profile\n",
    "    if len(y)!=0:\n",
    "        fit, params, sigma, cov, chir=fitting_gaussians(x,y,error,expect)\n",
    "    #If a fit was created find peaks and separate into subpulse categories\n",
    "    if len(y)!=0 and fit!=[] and expect!=[]:\n",
    "        pulse_subp = gauss_peaksn(fit, no_freq_bands, freqband, cov, params, 300, 500, error) \n",
    "        fit_spulse.append(pulse_subp)"
   ]
  },
  {
   "cell_type": "markdown",
   "metadata": {
    "colab_type": "text",
    "id": "6a03g77-gZa5"
   },
   "source": [
    "## Change of Peak Position over Frequency"
   ]
  },
  {
   "cell_type": "markdown",
   "metadata": {
    "colab_type": "text",
    "id": "KszZ-DmF3pTJ"
   },
   "source": [
    "Used to visually show the movement of of each subpulse across frequency, this is looped later on for all pulses\n"
   ]
  },
  {
   "cell_type": "code",
   "execution_count": 28,
   "metadata": {},
   "outputs": [
    {
     "name": "stdout",
     "output_type": "stream",
     "text": [
      "The power law equation of fit for this pulse is: \t Phase = 127.682 ν^0.020\n",
      "The errors are 4.204909149834002, 0.005465728578097763\n",
      "The chi squared reduced is -1.4342085975274923, and the chi squared is 3.3947484148350453\n",
      "\n"
     ]
    },
    {
     "data": {
      "image/png": "[encoded data removed]",
      "text/plain": [
       "<matplotlib.figure.Figure at 0x7f73037f9128>"
      ]
     },
     "metadata": {},
     "output_type": "display_data"
    }
   ],
   "source": [
    "#Create graphable arrays for subpulse 1\n",
    "p1, f1, e1=graphing_spulse(fit_spulse,1)\n",
    "#Graph points and removed outliers\n",
    "if p1!=[]:\n",
    "    py.errorbar(p1,f1, xerr=e1, fmt='.', color='red', lw=1, label='data')\n",
    "    py.title('Sub-Pulse 1 - Red Outliers Removed')\n",
    "    py.xlabel('Phase (deg)')\n",
    "    py.ylabel('Frequency')\n",
    "    f1, p1, e1 = detect_outlier(f1, p1, e1,2)\n",
    "    #Only include if there are 4 points or more, and range is less than 17\n",
    "    if len(p1)>3 and (max(p1)-min(p1))<17:\n",
    "        py.errorbar(p1,f1, xerr=e1, fmt='.', color='blue', lw=1, label='data')\n",
    "        py.xlabel('Phase (deg)')\n",
    "        py.ylabel('Frequency')\n",
    "#Create a powerlaw fit and graph\n",
    "try:\n",
    "    pl_p1,pl_c1=curve_fit(powerlaw,f1,p1, maxfev=100000, sigma=e1)\n",
    "    pl_e1=np.sqrt(np.diag(pl_c1))\n",
    "    powerlaw1 = powerlaw(f1, *pl_p1)\n",
    "\n",
    "    py.plot(powerlaw1,f1, color='orange',lw=2,label='powerlaw')\n",
    "        \n",
    "    ch=chsq_err(p1,powerlaw1, e1)\n",
    "    chre=ch/len(p1)-2\n",
    "    print(f'The power law equation of fit for this pulse is: \\t Phase = {pl_p1[0]:.3f} \\u03BD^{pl_p1[1]:.3f}')\n",
    "    print(f'The errors are {pl_e1[0]}, {pl_e1[1]}')\n",
    "    print(f'The chi squared reduced is {chre}, and the chi squared is {ch}\\n')\n",
    "except:\n",
    "    print('No power law for component 1')"
   ]
  },
  {
   "cell_type": "code",
   "execution_count": 29,
   "metadata": {},
   "outputs": [
    {
     "name": "stdout",
     "output_type": "stream",
     "text": [
      "No power law for component 2\n"
     ]
    }
   ],
   "source": [
    "#Create graphable arrays for subpulse 2\n",
    "p2, f2, e2=graphing_spulse(fit_spulse,2)\n",
    "#Graph points and removed outliers\n",
    "if p2!=[]:\n",
    "    py.errorbar(p2,f2, xerr=e2, fmt='.', color='red', lw=1, label='data')\n",
    "    py.title('Sub-Pulse 2 - Red Outliers Removed')\n",
    "    py.xlabel('Phase (deg)')\n",
    "    py.ylabel('Frequency')\n",
    "    f2, p2, e2 = detect_outlier(f2, p2, e2,1.5)\n",
    "    #Only include if there are 4 points or more, and range is less than 10\n",
    "    if len(p2)>3 and (max(p2)-min(p2))<10:\n",
    "        py.errorbar(p2,f2, xerr=e2, fmt='.', color='blue', lw=1, label='data')\n",
    "        py.xlabel('Phase (deg)')\n",
    "        py.ylabel('Frequency')\n",
    "#Create a powerlaw fit and graph\n",
    "try:\n",
    "    pl_p2,pl_c2=curve_fit(powerlaw,f2,p2, maxfev=100000)\n",
    "    pl_e2=np.sqrt(np.diag(pl_c2))\n",
    "    powerlaw2 = powerlaw(f2, *pl_p2)\n",
    "\n",
    "    py.plot(powerlaw2,f2, color='orange',lw=2,label='powerlaw')\n",
    "        \n",
    "    ch=chsq_err(p2,powerlaw2, e2)\n",
    "    chre=ch/len(p2)-2\n",
    "    print(f'The power law equation of fit for this pulse is: \\t Phase = {pl_p2[0]:.3f} \\u03BD^{pl_p2[1]:.3f}')\n",
    "    print(f'The errors are {pl_e2[0]}, {pl_e2[1]}')\n",
    "    print(f'The chi squared reduced is {chre}, and the chi squared is {ch}\\n')\n",
    "except:\n",
    "    print('No power law for component 2')"
   ]
  },
  {
   "cell_type": "code",
   "execution_count": 30,
   "metadata": {},
   "outputs": [
    {
     "name": "stdout",
     "output_type": "stream",
     "text": [
      "No power law for component 3\n"
     ]
    }
   ],
   "source": [
    "#Create graphable arrays for subpulse 3\n",
    "p3, f3, e3=graphing_spulse(fit_spulse,3)\n",
    "#Graph points and removed outliers\n",
    "if p3!=[]:\n",
    "    py.errorbar(p3,f3, xerr=e3, fmt='.', color='red', lw=1, label='data')\n",
    "    py.title('Sub-Pulse 3 - Red Outliers Removed')\n",
    "    py.xlabel('Phase (deg)')\n",
    "    py.ylabel('Frequency')\n",
    "    f3, p3, e3 = detect_outlier(f3, p3, e3,1.5)\n",
    "    #Only include if there are 4 points or more, and range is less than 10\n",
    "    if len(p3)>3 and (max(p3)-min(p3))<10:\n",
    "        py.errorbar(p3,f3, xerr=e3, fmt='.', color='blue', lw=1, label='data')\n",
    "        py.xlabel('Phase (deg)')\n",
    "        py.ylabel('Frequency')\n",
    "#Create a powerlaw fit and graph\n",
    "try:\n",
    "    pl_p3,pl_c3=curve_fit(powerlaw,f3,p3, maxfev=100000, sigma=e3)\n",
    "    pl_e3=np.sqrt(np.diag(pl_c3))\n",
    "    powerlaw3 = powerlaw(f3, *pl_p3)\n",
    "\n",
    "    py.plot(powerlaw3,f3, color='orange',lw=2,label='powerlaw')\n",
    "        \n",
    "    ch=chsq_err(p3,powerlaw3, e3)\n",
    "    chre=ch/len(p3)-2\n",
    "    print(f'The power law equation of fit for this pulse is: \\t Phase = {pl_p3[0]:.3f} \\u03BD^{pl_p3[1]:.3f}')\n",
    "    print(f'The errors are {pl_e3[0]}, {pl_e3[1]}')\n",
    "    print(f'The chi squared reduced is {chre}, and the chi squared is {ch}\\n')\n",
    "except:\n",
    "    print('No power law for component 3')"
   ]
  },
  {
   "cell_type": "code",
   "execution_count": 31,
   "metadata": {},
   "outputs": [
    {
     "name": "stdout",
     "output_type": "stream",
     "text": [
      "No power law for component 4\n"
     ]
    }
   ],
   "source": [
    "#Create graphable arrays for subpulse 4\n",
    "p4, f4, e4=graphing_spulse(fit_spulse,4)\n",
    "#Graph points and removed outliers\n",
    "if p4!=[]:\n",
    "    py.errorbar(p4,f4, xerr=e4, fmt='.', color='red', lw=1, label='data')\n",
    "    py.title('Sub-Pulse 4 - Red Outliers Removed')\n",
    "    py.xlabel('Phase (deg)')\n",
    "    py.ylabel('Frequency')\n",
    "    f4, p4, e4 = detect_outlier(f4, p4, e4,2)\n",
    "    #Only include if there are 4 points or more, and range is less than 5\n",
    "    if len(p4)>3 and (max(p4)-min(p4))<5:\n",
    "        py.errorbar(p4,f4, xerr=e4, fmt='.', color='blue', lw=1, label='data')\n",
    "        py.xlabel('Phase (deg)')\n",
    "        py.ylabel('Frequency')\n",
    "#Create a powerlaw fit and graph\n",
    "try:\n",
    "    expect=[100,0.1]\n",
    "    pl_p4,pl_c4=curve_fit(powerlaw,f4,p4, expect, maxfev=100000, sigma=e4)\n",
    "    pl_e4=np.sqrt(np.diag(pl_c4))\n",
    "    powerlaw4 = powerlaw(f4, *pl_p4)\n",
    "\n",
    "    py.plot(powerlaw4,f4, color='orange',lw=2,label='powerlaw')\n",
    "        \n",
    "    ch=chsq_err(p4,powerlaw4, e4)\n",
    "    chre=ch/len(p4)-2\n",
    "    print(f'The power law equation of fit for this pulse is: \\t Phase = {pl_p4[0]:.3f} \\u03BD^{pl_p4[1]:.3f}')\n",
    "    print(f'The errors are {pl_e4[0]}, {pl_e4[1]}')\n",
    "    print(f'The chi squared reduced is {chre}, and the chi squared is {ch}\\n')\n",
    "except:\n",
    "    print('No power law for component 4')"
   ]
  },
  {
   "cell_type": "markdown",
   "metadata": {},
   "source": [
    "# ALL PULSES"
   ]
  },
  {
   "cell_type": "code",
   "execution_count": 32,
   "metadata": {},
   "outputs": [],
   "source": [
    "\"\"\"\n",
    "Manually removing fits which visually look inaccurate, too spread, or don't match the profile.\n",
    "\"\"\"\n",
    "def manual_removal(pulse_num, fits):\n",
    "    if pulse_num==21 or pulse_num==62 or pulse_num==486 or pulse_num==554 or pulse_num==584 or pulse_num==694 or pulse_num==752 or pulse_num==1247:\n",
    "        fits[0]=0\n",
    "    if pulse_num==36 or pulse_num==175 or pulse_num==251:\n",
    "        fits[1]=0\n",
    "    if pulse_num==100 or pulse_num==133 or pulse_num==251 or pulse_num==287 or pulse_num==290 or pulse_num==291 or pulse_num==368 or pulse_num==513 or pulse_num==1116:\n",
    "        fits[2]=0\n",
    "    if pulse_num==31 or pulse_num==36 or pulse_num==263 or pulse_num==368 or pulse_num==479 or pulse_num==615 or pulse_num==635 or pulse_num==718 or pulse_num==832 or pulse_num==1128 or pulse_num==1256:\n",
    "        fits[3]=0\n",
    "    return fits"
   ]
  },
  {
   "cell_type": "code",
   "execution_count": null,
   "metadata": {},
   "outputs": [],
   "source": [
    "#Import names of files into an array\n",
    "pulse_names = glob.glob(\"/home/lisasmith/sspulsar/archivefiles/s_archivefiles/f256/full_pdv/pulse*\")\n",
    "ave_names = glob.glob(\"/home/lisasmith/sspulsar/archivefiles/s_archivefiles/F/pulse*\")\n",
    "#Sort the names in order\n",
    "pulse_names=sorted(pulse_names)\n",
    "ave_names=sorted(ave_names)"
   ]
  },
  {
   "cell_type": "code",
   "execution_count": null,
   "metadata": {
    "scrolled": true
   },
   "outputs": [
    {
     "name": "stdout",
     "output_type": "stream",
     "text": [
      "0 1503960507\n"
     ]
    },
    {
     "name": "stderr",
     "output_type": "stream",
     "text": [
      "/usr/lib/python3/dist-packages/ipykernel_launcher.py:11: DeprecationWarning: elementwise comparison failed; this will raise an error in the future.\n",
      "  # This is added back by InteractiveShellApp.init_path()\n",
      "/home/lisasmith/.local/lib/python3.6/site-packages/numpy/lib/nanfunctions.py:1667: RuntimeWarning: Degrees of freedom <= 0 for slice.\n",
      "  keepdims=keepdims)\n",
      "/home/lisasmith/.local/lib/python3.6/site-packages/numpy/lib/nanfunctions.py:1113: RuntimeWarning: Mean of empty slice\n",
      "  return np.nanmean(a, axis, out=out, keepdims=keepdims)\n",
      "/usr/lib/python3/dist-packages/ipykernel_launcher.py:45: DeprecationWarning: elementwise comparison failed; this will raise an error in the future.\n",
      "/usr/lib/python3/dist-packages/ipykernel_launcher.py:31: RuntimeWarning: invalid value encountered in double_scalars\n"
     ]
    },
    {
     "name": "stdout",
     "output_type": "stream",
     "text": [
      "1 1503960508\n"
     ]
    },
    {
     "name": "stderr",
     "output_type": "stream",
     "text": [
      "/usr/lib/python3/dist-packages/ipykernel_launcher.py:17: RuntimeWarning: invalid value encountered in double_scalars\n"
     ]
    },
    {
     "name": "stdout",
     "output_type": "stream",
     "text": [
      "2 1503960509\n",
      "3 1503960510\n",
      "Pulse too noisey\n",
      "4 1503960511\n",
      "5 1503960512\n",
      "Pulse too noisey\n",
      "6 1503960513\n",
      "Plot 1\n",
      "7 1503960514\n",
      "Plot 1\n",
      "8 1503960515\n",
      "9 1503960516\n",
      "Pulse too noisey\n",
      "10 1503960517\n",
      "Pulse too noisey\n",
      "11 1503960518\n",
      "Plot 4\n",
      "12 1503960519\n",
      "Pulse too noisey\n",
      "13 1503960520\n",
      "14 1503960521\n",
      "15 1503960522\n",
      "16 1503960523\n",
      "Plot 4\n",
      "17 1503960524\n",
      "18 1503960525\n",
      "Pulse too noisey\n",
      "19 1503960526\n",
      "Plot 1\n",
      "20 1503960527\n",
      "Plot 1\n",
      "21 1503960528\n"
     ]
    },
    {
     "name": "stderr",
     "output_type": "stream",
     "text": [
      "/home/lisasmith/.local/lib/python3.6/site-packages/scipy/optimize/minpack.py:795: OptimizeWarning: Covariance of the parameters could not be estimated\n",
      "  category=OptimizeWarning)\n"
     ]
    },
    {
     "name": "stdout",
     "output_type": "stream",
     "text": [
      "22 1503960529\n",
      "Plot 1\n",
      "23 1503960530\n",
      "24 1503960531\n"
     ]
    },
    {
     "name": "stderr",
     "output_type": "stream",
     "text": [
      "/usr/lib/python3/dist-packages/ipykernel_launcher.py:13: RuntimeWarning: invalid value encountered in sqrt\n",
      "  del sys.path[0]\n"
     ]
    },
    {
     "name": "stdout",
     "output_type": "stream",
     "text": [
      "Plot 1\n",
      "25 1503960532\n",
      "Pulse too noisey\n",
      "26 1503960533\n",
      "Pulse too noisey\n",
      "27 1503960534\n",
      "Pulse too noisey\n",
      "28 1503960535\n",
      "Pulse too noisey\n",
      "29 1503960536\n",
      "30 1503960537\n",
      "31 1503960538\n",
      "32 1503960539\n",
      "Plot 4\n",
      "33 1503960540\n",
      "Plot 4\n",
      "34 1503960541\n",
      "Pulse too noisey\n",
      "35 1503960542\n",
      "Pulse too noisey\n",
      "36 1503960543\n",
      "37 1503960544\n",
      "Plot 2\n",
      "Plot 4\n",
      "38 1503960545\n",
      "Pulse too noisey\n",
      "39 1503960546\n",
      "Pulse too noisey\n",
      "40 1503960547\n",
      "Pulse too noisey\n",
      "41 1503960548\n",
      "Pulse too noisey\n",
      "42 1503960549\n",
      "Pulse too noisey\n",
      "43 1503960550\n",
      "Pulse too noisey\n",
      "44 1503960551\n",
      "Pulse too noisey\n",
      "45 1503960552\n",
      "Plot 1\n",
      "Plot 3\n",
      "46 1503960553\n",
      "Pulse too noisey\n",
      "47 1503960554\n",
      "Pulse too noisey\n",
      "48 1503960555\n",
      "Pulse too noisey\n",
      "49 1503960556\n",
      "Pulse too noisey\n",
      "50 1503960557\n",
      "Plot 4\n",
      "51 1503960558\n",
      "Plot 4\n",
      "52 1503960559\n",
      "Plot 4\n",
      "53 1503960560\n",
      "Pulse too noisey\n",
      "54 1503960561\n",
      "55 1503960562\n",
      "56 1503960563\n",
      "Pulse too noisey\n",
      "57 1503960564\n",
      "Pulse too noisey\n",
      "58 1503960565\n",
      "59 1503960566\n",
      "60 1503960567\n",
      "Plot 1\n",
      "61 1503960568\n",
      "Pulse too noisey\n",
      "62 1503960569\n",
      "63 1503960570\n",
      "Pulse too noisey\n",
      "64 1503960571\n",
      "Pulse too noisey\n",
      "65 1503960572\n",
      "Pulse too noisey\n",
      "66 1503960573\n",
      "Pulse too noisey\n",
      "67 1503960574\n",
      "Pulse too noisey\n",
      "68 1503960575\n",
      "Pulse too noisey\n",
      "69 1503960576\n",
      "Pulse too noisey\n",
      "70 1503960577\n",
      "Plot 3\n",
      "71 1503960578\n",
      "Plot 4\n",
      "72 1503960579\n",
      "Plot 4\n",
      "73 1503960580\n",
      "Plot 4\n",
      "74 1503960581\n",
      "Plot 4\n",
      "75 1503960582\n",
      "Plot 4\n",
      "76 1503960583\n",
      "77 1503960584\n",
      "Plot 4\n",
      "78 1503960585\n",
      "Plot 4\n",
      "79 1503960586\n",
      "80 1503960587\n",
      "81 1503960588\n",
      "82 1503960589\n",
      "Pulse too noisey\n",
      "83 1503960590\n",
      "Plot 1\n",
      "84 1503960591\n",
      "Plot 1\n",
      "Plot 3\n",
      "85 1503960592\n",
      "Plot 1\n",
      "86 1503960593\n",
      "Plot 1\n",
      "87 1503960594\n",
      "88 1503960595\n",
      "89 1503960596\n",
      "90 1503960597\n",
      "Pulse too noisey\n",
      "91 1503960598\n",
      "92 1503960599\n",
      "93 1503960600\n",
      "94 1503960601\n",
      "Pulse too noisey\n",
      "95 1503960602\n",
      "96 1503960603\n",
      "Plot 4\n",
      "97 1503960604\n",
      "98 1503960605\n",
      "99 1503960606\n",
      "Plot 4\n",
      "100 1503960607\n",
      "Plot 4\n",
      "101 1503960608\n",
      "Pulse too noisey\n",
      "102 1503960609\n",
      "103 1503960610\n",
      "104 1503960611\n",
      "Plot 1\n",
      "105 1503960612\n",
      "Pulse too noisey\n",
      "106 1503960613\n",
      "107 1503960614\n",
      "108 1503960615\n",
      "Pulse too noisey\n",
      "109 1503960616\n",
      "Pulse too noisey\n",
      "110 1503960617\n",
      "Plot 4\n",
      "111 1503960618\n",
      "Pulse too noisey\n",
      "112 1503960619\n",
      "113 1503960620\n",
      "Pulse too noisey\n",
      "114 1503960621\n",
      "115 1503960622\n",
      "116 1503960623\n",
      "Plot 4\n",
      "117 1503960624\n",
      "Plot 4\n",
      "118 1503960625\n",
      "119 1503960626\n",
      "120 1503960627\n",
      "121 1503960628\n",
      "Pulse too noisey\n",
      "122 1503960629\n",
      "Pulse too noisey\n",
      "123 1503960630\n",
      "124 1503960631\n",
      "Pulse too noisey\n",
      "125 1503960632\n",
      "126 1503960633\n",
      "Pulse too noisey\n",
      "127 1503960634\n",
      "Plot 1\n",
      "128 1503960635\n",
      "Plot 1\n",
      "129 1503960636\n",
      "130 1503960637\n",
      "Pulse too noisey\n",
      "131 1503960638\n"
     ]
    }
   ],
   "source": [
    "#Create empty arrays to be used when calculating averages of all fits\n",
    "sp_params=[]\n",
    "sp_cov=[]\n",
    "sp_ave=[]\n",
    "sp_f=list(range(300, 501, 5))\n",
    "for fq in sp_f:\n",
    "    sp_ave.append(pl_av(frequency=fq,phase=[]))\n",
    "    \n",
    "#Graph what the average components are doing\n",
    "ax1,ay1=create_pl_fit(300,500,74.480,0.147)\n",
    "#py.plot((np.array(ay1)-36),ax1,lw=4,color='black', label='average component movement', zorder=100000)   \n",
    "ax2,ay2=create_pl_fit(300,500,267.242,-0.004)\n",
    "#py.plot((np.array(ay2)-36),ax2,lw=4,color='black', zorder=100000)    \n",
    "\n",
    "for a in range(1500):\n",
    "    #Load in a pulse at a time\n",
    "    print(a,pulse_names[a][-19:-9])\n",
    "    single_pulse = np.loadtxt(fname=pulse_names[a], dtype=fulldatatype)\n",
    "    scrunched_pulse = np.loadtxt(fname=ave_names[a], dtype=fulldatatype)\n",
    "    no_freq_bands = max(single_pulse['frequency'])+1\n",
    "\n",
    "    fit_spulse = []\n",
    "\n",
    "    #Get expected values for the gaussian fit through fitting gaussians to the average F scrunched profile\n",
    "    ax=scrunched_pulse['phase']\n",
    "    ay=scrunched_pulse['intensity']\n",
    "    noise = sigmaClip(ay)\n",
    "    aerror = np.nanstd(noise[1])\n",
    "    expect=find_expected(ax,ay,aerror)\n",
    "    \n",
    "    #Look at one frequency at a time\n",
    "    for b in range(no_freq_bands):\n",
    "        freqband = b\n",
    "        f = single_pulse['frequency'] == freqband\n",
    "        x=single_pulse['phase'][f]\n",
    "        y=single_pulse['intensity'][f]\n",
    "        noise = sigmaClip(y)\n",
    "        error = np.nanstd(noise[1])\n",
    "        \n",
    "        #Fit gaussians to each frequency channel\n",
    "        if len(y)!=0:\n",
    "            fit, params, sigma, cov, chir=fitting_gaussians(x,y,error,expect)\n",
    "    \n",
    "        #Find the peaks at each frequency and add to an array\n",
    "        if fit!=[] and len(y)!=0 and expect!=[]:\n",
    "            pulse_subp = gauss_peaksn(fit, no_freq_bands, freqband, cov, params, 300, 500, error)\n",
    "            fit_spulse.append(pulse_subp)\n",
    "            \n",
    "\n",
    "    #Find the movement of pulse across frequency and fit equations to them\n",
    "    all_fits = find_fits(fit_spulse)\n",
    "    #Manually remove pulses which have been visually tested\n",
    "    all_fits = manual_removal(a, all_fits)\n",
    "\n",
    "    #For all pulses with a fit, graph the powerlaw equation\n",
    "    for v, fits in enumerate(all_fits):\n",
    "        if fits!=0 and fits[1]!=0:\n",
    "            x1,y1=create_pl_fit(300,500,fits[1][0][0],fits[1][0][1])\n",
    "            py.plot(y1,x1, lw=0.7)\n",
    "            print('Plot',v+1)\n",
    "            #print(fits[1][0][0],fits[1][0][1])\n",
    "            sp_params.extend(fits[1][0])\n",
    "            sp_cov.append(fits[1][2])\n",
    "            for i,fq in enumerate(sp_f):\n",
    "                sp_ave[i][1].append(powerlaw(fq,fits[1][0][0],fits[1][0][1]))\n",
    "\n",
    "#Set up the graphing axis and titles  \n",
    "py.legend()\n",
    "py.title('Power Law Fits For Single Pulses')\n",
    "py.xlabel('Phase(deg)')\n",
    "py.ylabel('Frequency (MHz)')\n",
    "py.savefig('figures/spulse1500.png')"
   ]
  },
  {
   "cell_type": "code",
   "execution_count": null,
   "metadata": {},
   "outputs": [],
   "source": [
    "averages=[[] for i in range(20)]\n",
    "errors=[[] for i in range(20)]\n",
    "for i,n in enumerate(range(100,300,10)):\n",
    "    ave_vals=[]\n",
    "    cov_vals=[]\n",
    "    param_vals=[]\n",
    "    indices=np.where(np.logical_and(np.array(sp_ave[0][1])>=n, np.array(sp_ave[0][1])<(n+10)))\n",
    "    if len(indices[0])!=0:\n",
    "        for j in indices[0]:\n",
    "            cov_vals.append(sp_cov[j])\n",
    "            param_vals.append(sp_params[j*2])\n",
    "            param_vals.append(sp_params[(j*2)+1])\n",
    "\n",
    "        for fq in range(len(sp_ave)):\n",
    "            ave_vals=[sp_ave[fq][1][m] for m in np.array(indices[0])]\n",
    "            averages[i].append(average(ave_vals))\n",
    "        errors[i]=find_y_err_pl(sp_f, param_vals, cov_vals)\n",
    "        py.errorbar(averages[i],sp_f,xerr=errors[i], color='blue')\n",
    "\n",
    "ax1,ay1=create_pl_fit(300,500,74.480,0.147)\n",
    "py.plot((np.array(ay1)-36),ax1,lw=4,color='black',label='average component movement', zorder=10)   \n",
    "ax2,ay2=create_pl_fit(300,500,267.242,-0.004)\n",
    "py.plot((np.array(ay2)-36),ax2,lw=4,color='black', zorder=10)  \n",
    "\n",
    "py.legend()\n",
    "py.title('Average Power Law Fits For Single Pulses')\n",
    "py.xlabel('Phase(deg)')\n",
    "py.ylabel('Frequency (MHz)')\n",
    "py.savefig('figures/spulse21500.png')\n",
    "#py.axis([170,185,300,500])"
   ]
  }
 ],
 "metadata": {
  "colab": {
   "collapsed_sections": [
    "4z_feS2dDwlJ",
    "FamzMgIcD2xs",
    "HsEW4YA0D-QH",
    "eKWvXxMcEIfE",
    "er13GCy-EUTz",
    "6a03g77-gZa5",
    "IGeyAoMhEduw",
    "Y1RZQ9SHcgOZ",
    "pccDpOhFgn-A",
    "KZFBrw4AEiXX",
    "jBHxooGJctvn",
    "S8Wdb29Jkmx7",
    "G6J_t2-wlTKi",
    "8WslQQJrq_Aj",
    "-PbPFKZBj1oi",
    "BAAAMssWpRQc"
   ],
   "name": "Component Separation - RFI Removed.ipynb",
   "provenance": []
  },
  "kernelspec": {
   "display_name": "Python 3",
   "language": "python",
   "name": "python3"
  },
  "language_info": {
   "codemirror_mode": {
    "name": "ipython",
    "version": 3
   },
   "file_extension": ".py",
   "mimetype": "text/x-python",
   "name": "python",
   "nbconvert_exporter": "python",
   "pygments_lexer": "ipython3",
   "version": "3.6.8"
  }
 },
 "nbformat": 4,
 "nbformat_minor": 1
}
