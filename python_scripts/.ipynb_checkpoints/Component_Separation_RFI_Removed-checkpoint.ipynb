{
 "cells": [
  {
   "cell_type": "markdown",
   "metadata": {
    "colab_type": "text",
    "id": "4z_feS2dDwlJ"
   },
   "source": [
    "# Importing Packages Needed"
   ]
  },
  {
   "cell_type": "code",
   "execution_count": 1,
   "metadata": {
    "colab": {},
    "colab_type": "code",
    "id": "zJLqZxwce0pN"
   },
   "outputs": [],
   "source": [
    "import numpy as np"
   ]
  },
  {
   "cell_type": "code",
   "execution_count": 2,
   "metadata": {
    "colab": {},
    "colab_type": "code",
    "id": "I-sMZfzHe87d"
   },
   "outputs": [],
   "source": [
    "import scipy as sp"
   ]
  },
  {
   "cell_type": "code",
   "execution_count": 3,
   "metadata": {
    "colab": {},
    "colab_type": "code",
    "id": "osUA_fqWfB8I"
   },
   "outputs": [],
   "source": [
    "import matplotlib.pyplot as py"
   ]
  },
  {
   "cell_type": "code",
   "execution_count": 4,
   "metadata": {
    "colab": {},
    "colab_type": "code",
    "id": "EI8CExhqOkaC"
   },
   "outputs": [],
   "source": [
    "from scipy.optimize import curve_fit"
   ]
  },
  {
   "cell_type": "code",
   "execution_count": 5,
   "metadata": {
    "colab": {},
    "colab_type": "code",
    "id": "FTNsckCiZ_s4"
   },
   "outputs": [],
   "source": [
    "from scipy.signal import find_peaks"
   ]
  },
  {
   "cell_type": "code",
   "execution_count": 6,
   "metadata": {
    "colab": {},
    "colab_type": "code",
    "id": "PUtMS_hIaHat"
   },
   "outputs": [],
   "source": [
    "import collections as col"
   ]
  },
  {
   "cell_type": "markdown",
   "metadata": {
    "colab_type": "text",
    "id": "FamzMgIcD2xs"
   },
   "source": [
    "# Definition of Named Tuples"
   ]
  },
  {
   "cell_type": "code",
   "execution_count": 7,
   "metadata": {
    "colab": {},
    "colab_type": "code",
    "id": "Uzxt0sq0qeHc"
   },
   "outputs": [],
   "source": [
    "component = col.namedtuple('component','phase intensity')"
   ]
  },
  {
   "cell_type": "code",
   "execution_count": 8,
   "metadata": {
    "colab": {},
    "colab_type": "code",
    "id": "MdsAp5qWIre5"
   },
   "outputs": [],
   "source": [
    "pulse_component = col.namedtuple('pulse_component','frequency comp1 comp2')"
   ]
  },
  {
   "cell_type": "code",
   "execution_count": 9,
   "metadata": {
    "colab": {},
    "colab_type": "code",
    "id": "xDOdqB5tIrt5"
   },
   "outputs": [],
   "source": [
    "component_separation = col.namedtuple('component_separation','frequency separation')"
   ]
  },
  {
   "cell_type": "markdown",
   "metadata": {
    "colab_type": "text",
    "id": "a8CeXWdQIy8b"
   },
   "source": [
    "# Definition of Functions"
   ]
  },
  {
   "cell_type": "markdown",
   "metadata": {
    "colab_type": "text",
    "id": "nOegi6c8I3gu"
   },
   "source": [
    "## Gaussian Fitting Functions:"
   ]
  },
  {
   "cell_type": "code",
   "execution_count": 10,
   "metadata": {
    "colab": {},
    "colab_type": "code",
    "id": "Jf6ae6VTR-iR"
   },
   "outputs": [],
   "source": [
    "def gauss(x,cen,sd,amp):\n",
    "    return amp*np.exp(-(x-cen)**2/2/sd**2)\n",
    "\n",
    "def threegauss(x,cen1,sd1,amp1,cen2,sd2,amp2,cen3,sd3,amp3):\n",
    "    return gauss(x,cen1,sd1,amp1)+gauss(x,cen2,sd2,amp2)+gauss(x,cen3,sd3,amp3)"
   ]
  },
  {
   "cell_type": "code",
   "execution_count": 11,
   "metadata": {
    "colab": {},
    "colab_type": "code",
    "id": "zWylwCBKV8SL"
   },
   "outputs": [],
   "source": [
    "def fitting_parameters(x,y,expected):\n",
    "  params,cov=curve_fit(threegauss,x,y,expected)\n",
    "  sigma=np.sqrt(np.diag(cov))\n",
    "  return params, sigma\n",
    "\n",
    "def gauss_fit(x,params):\n",
    "  return threegauss(x,*params)"
   ]
  },
  {
   "cell_type": "markdown",
   "metadata": {
    "colab_type": "text",
    "id": "Hf__MEBnJEd_"
   },
   "source": [
    "## Finding Peak of Fittings Function"
   ]
  },
  {
   "cell_type": "code",
   "execution_count": 12,
   "metadata": {
    "colab": {},
    "colab_type": "code",
    "id": "iIp9ZS-sZYIZ"
   },
   "outputs": [],
   "source": [
    "def gauss_peaks(fit, nofreqband, freqband):\n",
    "  status='starting'\n",
    "  \n",
    "  i=3\n",
    "  peakpos = find_peaks(fit, prominence=i, distance=50, height=i)[0]\n",
    "\n",
    "  while len(peakpos) !=2 and i>=1 and i<5:\n",
    "    if len(peakpos) < 2:\n",
    "      i=i-0.5\n",
    "      peakpos = find_peaks(fit, prominence=i, distance=50, height=1)[0]\n",
    "\n",
    "    elif len(peakpos) > 2:\n",
    "      i=i+0.5\n",
    "      peakpos = find_peaks(fit, prominence=i, distance=50, height=2)[0]\n",
    "    \n",
    "  #Can be used for error checking\n",
    "  #else:\n",
    "    #print('Loop done')\n",
    "    #print(i)\n",
    "\n",
    "  if len(peakpos) == 2:\n",
    "    status='pending'\n",
    "\n",
    "    if peakpos[0]>=300 and peakpos[0]<=535 and peakpos[1]>=650 and peakpos[1]<=800:\n",
    "      status='complete'\n",
    "    else:\n",
    "      status='error'\n",
    "\n",
    "  else:\n",
    "    status='error'\n",
    "\n",
    "\n",
    "  if status=='complete':\n",
    "    component1 = component(phase=(360/1024)*peakpos[0], intensity=fit[peakpos[0]])\n",
    "    component2 = component(phase=(360/1024)*peakpos[1], intensity=fit[peakpos[1]])\n",
    "  \n",
    "  elif status=='error':\n",
    "    component1 = component(phase=0, intensity=0)\n",
    "    component2 = component(phase=0, intensity=0)\n",
    "\n",
    "  else:\n",
    "    print(\"Error: Something not complete in peak finding\")\n",
    "\n",
    "  freq=(((500-300)/nofreqband)*(nofreqband-freqband))+300 \n",
    "\n",
    "  profile_comp = pulse_component(frequency=freq, comp1=component1, comp2=component2)\n",
    "\n",
    "  #Can be used for error checking\n",
    "  #if status != 'error':\n",
    "    #plot_peaks(x,y,profile_comp)\n",
    "\n",
    "  return profile_comp"
   ]
  },
  {
   "cell_type": "markdown",
   "metadata": {
    "colab_type": "text",
    "id": "4P1qFLYpI9hB"
   },
   "source": [
    "## Plotting Fittings Functions"
   ]
  },
  {
   "cell_type": "code",
   "execution_count": 13,
   "metadata": {
    "colab": {},
    "colab_type": "code",
    "id": "gPhqw8WaI8pp"
   },
   "outputs": [],
   "source": [
    "def plot_fit(x,y,fit,params,sigma):\n",
    "  py.plot(x, y, lw=0.5, label='data')\n",
    "  py.plot(x,fit, color='red',lw=3,label='gaussian fit')\n",
    "  py.xlabel('Phase Bin')\n",
    "  py.ylabel('Intensity')\n",
    "  py.legend()\n",
    "  return"
   ]
  },
  {
   "cell_type": "code",
   "execution_count": 14,
   "metadata": {
    "colab": {},
    "colab_type": "code",
    "id": "NmHjFzTFith2"
   },
   "outputs": [],
   "source": [
    "def plot_fill(x,y,params):\n",
    "  params1 = params[0:3]\n",
    "  params2 = params[3:6]\n",
    "  params3 = params[6:9]\n",
    "  gfit1 = gauss(x, *params1)\n",
    "  gfit2 = gauss(x, *params2)\n",
    "  gfit3 = gauss(x, *params3)\n",
    "\n",
    "\n",
    "  py.plot(x, y, lw=0.5, label='data')\n",
    "  py.plot(x,fit,color='red',lw=3,label='gaussian fit')\n",
    "  py.xlabel('Phase Bin')\n",
    "  py.ylabel('Intensity')\n",
    "  py.legend()\n",
    "\n",
    "  py.plot(x, gfit1, \"g\")\n",
    "  py.fill_between(x, gfit1.min(), gfit1, facecolor=\"green\", alpha=0.5)\n",
    "  \n",
    "  py.plot(x, gfit2, \"y\")\n",
    "  py.fill_between(x, gfit2.min(), gfit2, facecolor=\"yellow\", alpha=0.5)\n",
    "\n",
    "  py.plot(x, gfit3, \"b\")\n",
    "  py.fill_between(x, gfit3.min(), gfit3, facecolor=\"blue\", alpha=0.5)\n",
    "\n",
    "  return "
   ]
  },
  {
   "cell_type": "code",
   "execution_count": 15,
   "metadata": {
    "colab": {},
    "colab_type": "code",
    "id": "b6Y_oMHJbEEz"
   },
   "outputs": [],
   "source": [
    "def plot_peaks(x,y,profile_comp):\n",
    "  py.plot(x,y, lw=0.5)\n",
    "  py.plot(x, fit, color='red', lw=3, label='gaussian fit')\n",
    "\n",
    "  x=[profile_comp[i][0] for i in range(1,3)]\n",
    "  y=[profile_comp[i][1] for i in range(1,3)]\n",
    "\n",
    "  py.plot(x, y ,'X', markerfacecolor='black', markeredgecolor='black', label='peaks')\n",
    "\n",
    "  py.xlabel('Phase (deg)')\n",
    "  py.ylabel('Intensity')\n",
    "  py.legend()\n",
    "  return"
   ]
  },
  {
   "cell_type": "markdown",
   "metadata": {
    "colab_type": "text",
    "id": "L_oE3uFcsKkA"
   },
   "source": [
    "## Functions for Fitting Separation Data"
   ]
  },
  {
   "cell_type": "code",
   "execution_count": 16,
   "metadata": {
    "colab": {},
    "colab_type": "code",
    "id": "_V1yQ0U5__mq"
   },
   "outputs": [],
   "source": [
    "def powerlaw(x, A, alpha, smin):\n",
    "  return (A * (x**(-alpha)) + smin)"
   ]
  },
  {
   "cell_type": "markdown",
   "metadata": {
    "colab_type": "text",
    "id": "HsEW4YA0D-QH"
   },
   "source": [
    "# Importing Data"
   ]
  },
  {
   "cell_type": "markdown",
   "metadata": {
    "colab_type": "text",
    "id": "5aCGkE3ZYbBM"
   },
   "source": [
    "Data must be in text file format from software pdv.\n",
    "Also must contain time scrunched data so that the first column of numbers is always 0 (only one pulse). "
   ]
  },
  {
   "cell_type": "code",
   "execution_count": 17,
   "metadata": {
    "colab": {},
    "colab_type": "code",
    "id": "4ieR-2IlfGA_"
   },
   "outputs": [],
   "source": [
    "fulldatatype=([('pulse','i8'),('frequency','i8'),('phase','i8'),('intensity','f8')])"
   ]
  },
  {
   "cell_type": "code",
   "execution_count": 49,
   "metadata": {
    "colab": {},
    "colab_type": "code",
    "id": "o9kgY0kqfIrQ"
   },
   "outputs": [],
   "source": [
    "averageprofiles = np.loadtxt(fname='../archivefiles/com_archivefiles/pdv/J0820_s_f28_T_pazi.pdv', dtype=fulldatatype)"
   ]
  },
  {
   "cell_type": "code",
   "execution_count": 21,
   "metadata": {
    "colab": {},
    "colab_type": "code",
    "id": "Wfp5R_xond9z"
   },
   "outputs": [],
   "source": [
    "no_freq_bands = max(averageprofiles['frequency'])+1"
   ]
  },
  {
   "cell_type": "markdown",
   "metadata": {
    "colab_type": "text",
    "id": "eKWvXxMcEIfE"
   },
   "source": [
    "# Gaussian Plotting of Individual Frequency Band - Used for error checking individual frequency bands"
   ]
  },
  {
   "cell_type": "markdown",
   "metadata": {
    "colab_type": "text",
    "id": "MVQ_pgyRnofm"
   },
   "source": [
    "Choosing Frequency Band. Following Section is for error checking:"
   ]
  },
  {
   "cell_type": "code",
   "execution_count": 22,
   "metadata": {
    "colab": {},
    "colab_type": "code",
    "id": "mcIptVeffJXA"
   },
   "outputs": [],
   "source": [
    "freqband = 8\n",
    "f = averageprofiles['frequency'] == freqband"
   ]
  },
  {
   "cell_type": "code",
   "execution_count": 23,
   "metadata": {
    "colab": {},
    "colab_type": "code",
    "id": "o9L0EPsL2JrT"
   },
   "outputs": [],
   "source": [
    "phase=averageprofiles['phase'][f]\n",
    "intensity=averageprofiles['intensity'][f]"
   ]
  },
  {
   "cell_type": "markdown",
   "metadata": {
    "colab_type": "text",
    "id": "2hhQErp8ntli"
   },
   "source": [
    "Gaussian Plots"
   ]
  },
  {
   "cell_type": "code",
   "execution_count": 24,
   "metadata": {
    "colab": {},
    "colab_type": "code",
    "id": "MvBudOjXY1DT"
   },
   "outputs": [],
   "source": [
    "x = phase\n",
    "y = intensity"
   ]
  },
  {
   "cell_type": "code",
   "execution_count": 25,
   "metadata": {
    "colab": {
     "base_uri": "https://localhost:8080/"
    },
    "colab_type": "code",
    "id": "-I5g-Wtoqa_l",
    "outputId": "f337b02e-a51b-4245-b9ff-3685745b7b71"
   },
   "outputs": [
    {
     "data": {
      "text/plain": [
       "1024"
      ]
     },
     "execution_count": 25,
     "metadata": {},
     "output_type": "execute_result"
    }
   ],
   "source": [
    "len(y)"
   ]
  },
  {
   "cell_type": "code",
   "execution_count": 26,
   "metadata": {
    "colab": {},
    "colab_type": "code",
    "id": "dFRIxynhSAws"
   },
   "outputs": [],
   "source": [
    "#Taken from Peaks and Gaussian fittings of frequency band 73\n",
    "expected=(501,30,8.02,655,80,4.07,741,20,11.29)"
   ]
  },
  {
   "cell_type": "code",
   "execution_count": 27,
   "metadata": {
    "colab": {},
    "colab_type": "code",
    "id": "nvTDzWP-WMAh"
   },
   "outputs": [],
   "source": [
    "params,sigma = fitting_parameters(x,y,expected)\n",
    "fit = gauss_fit(x, params)\n",
    "profile_comp = gauss_peaks(fit,no_freq_bands,freqband)"
   ]
  },
  {
   "cell_type": "code",
   "execution_count": 28,
   "metadata": {
    "colab": {
     "base_uri": "https://localhost:8080/"
    },
    "colab_type": "code",
    "id": "3im4-cMCZVSR",
    "outputId": "11784528-39db-49d6-97ea-ac9556ed16db"
   },
   "outputs": [
    {
     "data": {
      "image/png": "[encoded data removed]",
      "text/plain": [
       "<matplotlib.figure.Figure at 0x7f7a2e1e7748>"
      ]
     },
     "metadata": {},
     "output_type": "display_data"
    }
   ],
   "source": [
    "plot_fit(x,y,fit,params,sigma)"
   ]
  },
  {
   "cell_type": "code",
   "execution_count": 29,
   "metadata": {
    "colab": {
     "base_uri": "https://localhost:8080/"
    },
    "colab_type": "code",
    "id": "vZAjg5geZVkC",
    "outputId": "8f4a8d0a-34b0-4ff0-9a5a-ad7cf44e9d8f"
   },
   "outputs": [
    {
     "data": {
      "image/png": "[encoded data removed]",
      "text/plain": [
       "<matplotlib.figure.Figure at 0x7f7a2e483828>"
      ]
     },
     "metadata": {},
     "output_type": "display_data"
    }
   ],
   "source": [
    "plot_fill(x,y,params)"
   ]
  },
  {
   "cell_type": "code",
   "execution_count": 30,
   "metadata": {
    "colab": {
     "base_uri": "https://localhost:8080/"
    },
    "colab_type": "code",
    "id": "mmZe3OBoZ8rn",
    "outputId": "9907b8f1-7fed-4fe2-bd58-6ea736d2beaa"
   },
   "outputs": [
    {
     "data": {
      "image/png": "[encoded data removed]",
      "text/plain": [
       "<matplotlib.figure.Figure at 0x7f7a2cf2b198>"
      ]
     },
     "metadata": {},
     "output_type": "display_data"
    }
   ],
   "source": [
    "plot_peaks(x*(360/1024),y,profile_comp)"
   ]
  },
  {
   "cell_type": "code",
   "execution_count": 31,
   "metadata": {
    "colab": {
     "base_uri": "https://localhost:8080/"
    },
    "colab_type": "code",
    "id": "r4583s7PwhXY",
    "outputId": "04860f13-fab8-4ce2-9a58-5eef633a231c"
   },
   "outputs": [
    {
     "data": {
      "text/plain": [
       "pulse_component(frequency=489.04109589041093, comp1=component(phase=186.6796875, intensity=2.542763302223699), comp2=component(phase=261.2109375, intensity=2.9904843747118854))"
      ]
     },
     "execution_count": 31,
     "metadata": {},
     "output_type": "execute_result"
    }
   ],
   "source": [
    "profile_comp"
   ]
  },
  {
   "cell_type": "markdown",
   "metadata": {
    "colab_type": "text",
    "id": "er13GCy-EUTz"
   },
   "source": [
    "# Gaussian Plotting and Finding Peaks of Data"
   ]
  },
  {
   "cell_type": "markdown",
   "metadata": {
    "colab_type": "text",
    "id": "dUDXQCiVhOyH"
   },
   "source": [
    "The following is a looped version of the previous section to find the correct peaks for each pulse profile"
   ]
  },
  {
   "cell_type": "code",
   "execution_count": 32,
   "metadata": {
    "colab": {},
    "colab_type": "code",
    "id": "vJ4G8wv8tQOe"
   },
   "outputs": [],
   "source": [
    "all_components = []"
   ]
  },
  {
   "cell_type": "code",
   "execution_count": 33,
   "metadata": {
    "colab": {},
    "colab_type": "code",
    "id": "MspZDahR4R4P"
   },
   "outputs": [],
   "source": [
    "#Taken from Peaks and Gaussian fittings of frequency band 73, in the middle\n",
    "expected=(501,30,8.02,655,80,4.07,741,20,11.29)\n",
    "\n",
    "for i in range(0,no_freq_bands):\n",
    "  freqband = i\n",
    "  \n",
    "  #Can be used for error checking\n",
    "  #print(freqband)\n",
    "\n",
    "  f = averageprofiles['frequency'] == freqband\n",
    "\n",
    "  x=averageprofiles['phase'][f]\n",
    "  y=averageprofiles['intensity'][f]\n",
    "\n",
    "  if len(x)!=0 and len(y)!=0:\n",
    "    params,sigma = fitting_parameters(x,y,expected)\n",
    "    fit = gauss_fit(x, params)\n",
    "    profile_comp = gauss_peaks(fit, no_freq_bands, freqband)\n",
    "\n",
    "    #Can be used for error checking\n",
    "    #print(profile_comp)\n",
    "  \n",
    "    all_components.append(profile_comp)"
   ]
  },
  {
   "cell_type": "markdown",
   "metadata": {
    "colab_type": "text",
    "id": "IGeyAoMhEduw"
   },
   "source": [
    "# Movement of Peak Position over Frequency"
   ]
  },
  {
   "cell_type": "markdown",
   "metadata": {
    "colab_type": "text",
    "id": "KszZ-DmF3pTJ"
   },
   "source": [
    "Starting to graph out all the movement of component phase across frequency\n",
    "\n",
    "---\n",
    "\n"
   ]
  },
  {
   "cell_type": "code",
   "execution_count": 34,
   "metadata": {
    "colab": {
     "base_uri": "https://localhost:8080/"
    },
    "colab_type": "code",
    "id": "oLssJVtTtfb2",
    "outputId": "fe38c466-8700-4587-c00c-143b935a9a77"
   },
   "outputs": [
    {
     "data": {
      "text/plain": [
       "123"
      ]
     },
     "execution_count": 34,
     "metadata": {},
     "output_type": "execute_result"
    }
   ],
   "source": [
    "len(all_components)"
   ]
  },
  {
   "cell_type": "code",
   "execution_count": 35,
   "metadata": {
    "colab": {},
    "colab_type": "code",
    "id": "CUJj3cbezRgq"
   },
   "outputs": [],
   "source": [
    "phase_comp1=[]\n",
    "frequency_comp1=[]\n",
    "\n",
    "for i in range(0,len(all_components)):\n",
    "  if all_components[i][1][0] != 0:\n",
    "    phase_comp1.append(all_components[i][1][0])\n",
    "    frequency_comp1.append(all_components[i][0])"
   ]
  },
  {
   "cell_type": "code",
   "execution_count": 36,
   "metadata": {
    "colab": {
     "base_uri": "https://localhost:8080/"
    },
    "colab_type": "code",
    "id": "N8lXroZey117",
    "outputId": "d4ac72b7-4ca0-43e2-b7d2-377883a80590"
   },
   "outputs": [
    {
     "data": {
      "text/plain": [
       "Text(0,0.5,'Frequency')"
      ]
     },
     "execution_count": 36,
     "metadata": {},
     "output_type": "execute_result"
    },
    {
     "data": {
      "image/png": "[encoded data removed]",
      "text/plain": [
       "<matplotlib.figure.Figure at 0x7f7a2d0bd630>"
      ]
     },
     "metadata": {},
     "output_type": "display_data"
    }
   ],
   "source": [
    "py.plot(phase_comp1,frequency_comp1, '.')\n",
    "py.xlabel('Phase Bin')\n",
    "py.ylabel('Frequency')"
   ]
  },
  {
   "cell_type": "code",
   "execution_count": 37,
   "metadata": {
    "colab": {},
    "colab_type": "code",
    "id": "ylBJ8twuzL8g"
   },
   "outputs": [],
   "source": [
    "phase_comp2=[]\n",
    "frequency_comp2=[]\n",
    "\n",
    "for i in range(0,len(all_components)):\n",
    "  if all_components[i][2][0] != 0:\n",
    "    phase_comp2.append(all_components[i][2][0])\n",
    "    frequency_comp2.append(all_components[i][0])"
   ]
  },
  {
   "cell_type": "code",
   "execution_count": 38,
   "metadata": {
    "colab": {
     "base_uri": "https://localhost:8080/"
    },
    "colab_type": "code",
    "id": "BaWU8_f424bZ",
    "outputId": "21e5d62c-8876-4d05-8ba6-7c3a9fcbc0cb"
   },
   "outputs": [
    {
     "data": {
      "text/plain": [
       "Text(0,0.5,'Frequency')"
      ]
     },
     "execution_count": 38,
     "metadata": {},
     "output_type": "execute_result"
    },
    {
     "data": {
      "image/png": "[encoded data removed]",
      "text/plain": [
       "<matplotlib.figure.Figure at 0x7f7a2cfe9cf8>"
      ]
     },
     "metadata": {},
     "output_type": "display_data"
    }
   ],
   "source": [
    "py.plot(phase_comp2,frequency_comp2, '.')\n",
    "py.xlabel('Phase Bin')\n",
    "py.ylabel('Frequency')"
   ]
  },
  {
   "cell_type": "markdown",
   "metadata": {
    "colab_type": "text",
    "id": "KZFBrw4AEiXX"
   },
   "source": [
    "# Component Separation Across Frequency"
   ]
  },
  {
   "cell_type": "code",
   "execution_count": 39,
   "metadata": {
    "colab": {},
    "colab_type": "code",
    "id": "EgEnQbxBujiH"
   },
   "outputs": [],
   "source": [
    "def separation_singleprofile(components_array):\n",
    "  sep_array=[]\n",
    "\n",
    "  for i in range(0,len(components_array)):\n",
    "    if components_array[i][1][0] != 0 and components_array[i][2][0] != 0:\n",
    "    \n",
    "      freq=components_array[i][0]\n",
    "      sep=(components_array[i][2][0]) - (components_array[i][1][0])\n",
    "\n",
    "      single_sep=component_separation(frequency=freq, separation=sep)\n",
    "\n",
    "      sep_array.append(single_sep)\n",
    "\n",
    "  return sep_array"
   ]
  },
  {
   "cell_type": "code",
   "execution_count": 40,
   "metadata": {
    "colab": {},
    "colab_type": "code",
    "id": "QlmKKG5sFeMg"
   },
   "outputs": [],
   "source": [
    "component_sep = separation_singleprofile(all_components)"
   ]
  },
  {
   "cell_type": "code",
   "execution_count": 41,
   "metadata": {
    "colab": {
     "base_uri": "https://localhost:8080/",
     "height": 1000
    },
    "colab_type": "code",
    "id": "HDJ-LydcMi7_",
    "outputId": "c820b608-49a8-4fee-fdb0-05c6c6a740f1"
   },
   "outputs": [
    {
     "data": {
      "text/plain": [
       "[component_separation(frequency=493.1506849315068, separation=82.265625),\n",
       " component_separation(frequency=489.04109589041093, separation=74.53125),\n",
       " component_separation(frequency=487.67123287671234, separation=76.9921875),\n",
       " component_separation(frequency=486.3013698630137, separation=77.34375),\n",
       " component_separation(frequency=484.93150684931504, separation=78.046875),\n",
       " component_separation(frequency=483.56164383561645, separation=76.640625),\n",
       " component_separation(frequency=482.1917808219178, separation=77.34375),\n",
       " component_separation(frequency=480.82191780821915, separation=76.9921875),\n",
       " component_separation(frequency=479.45205479452056, separation=77.34375),\n",
       " component_separation(frequency=478.0821917808219, separation=77.6953125),\n",
       " component_separation(frequency=476.71232876712327, separation=77.34375),\n",
       " component_separation(frequency=475.3424657534247, separation=77.6953125),\n",
       " component_separation(frequency=473.972602739726, separation=77.34375),\n",
       " component_separation(frequency=472.6027397260274, separation=77.6953125),\n",
       " component_separation(frequency=471.2328767123288, separation=78.046875),\n",
       " component_separation(frequency=468.4931506849315, separation=76.9921875),\n",
       " component_separation(frequency=465.7534246575342, separation=78.046875),\n",
       " component_separation(frequency=464.3835616438356, separation=76.9921875),\n",
       " component_separation(frequency=463.013698630137, separation=78.3984375),\n",
       " component_separation(frequency=461.6438356164383, separation=78.046875),\n",
       " component_separation(frequency=460.2739726027397, separation=77.6953125),\n",
       " component_separation(frequency=458.9041095890411, separation=77.6953125),\n",
       " component_separation(frequency=457.5342465753424, separation=79.453125),\n",
       " component_separation(frequency=456.16438356164383, separation=78.046875),\n",
       " component_separation(frequency=454.7945205479452, separation=79.453125),\n",
       " component_separation(frequency=453.42465753424653, separation=79.8046875),\n",
       " component_separation(frequency=452.05479452054794, separation=78.75),\n",
       " component_separation(frequency=450.6849315068493, separation=79.1015625),\n",
       " component_separation(frequency=449.31506849315065, separation=79.1015625),\n",
       " component_separation(frequency=447.94520547945206, separation=78.75),\n",
       " component_separation(frequency=446.5753424657534, separation=79.1015625),\n",
       " component_separation(frequency=445.20547945205476, separation=79.8046875),\n",
       " component_separation(frequency=443.83561643835617, separation=80.5078125),\n",
       " component_separation(frequency=442.4657534246575, separation=79.453125),\n",
       " component_separation(frequency=441.0958904109589, separation=78.046875),\n",
       " component_separation(frequency=439.7260273972603, separation=78.3984375),\n",
       " component_separation(frequency=438.35616438356163, separation=80.5078125),\n",
       " component_separation(frequency=436.986301369863, separation=80.15625),\n",
       " component_separation(frequency=435.6164383561644, separation=80.859375),\n",
       " component_separation(frequency=434.24657534246575, separation=79.453125),\n",
       " component_separation(frequency=432.8767123287671, separation=79.1015625),\n",
       " component_separation(frequency=431.5068493150685, separation=79.8046875),\n",
       " component_separation(frequency=430.13698630136986, separation=80.859375),\n",
       " component_separation(frequency=428.7671232876712, separation=80.15625),\n",
       " component_separation(frequency=427.3972602739726, separation=80.15625),\n",
       " component_separation(frequency=426.027397260274, separation=79.8046875),\n",
       " component_separation(frequency=424.6575342465753, separation=80.15625),\n",
       " component_separation(frequency=423.28767123287673, separation=80.5078125),\n",
       " component_separation(frequency=421.9178082191781, separation=80.859375),\n",
       " component_separation(frequency=420.54794520547944, separation=80.5078125),\n",
       " component_separation(frequency=419.17808219178085, separation=80.5078125),\n",
       " component_separation(frequency=417.8082191780822, separation=80.859375),\n",
       " component_separation(frequency=416.43835616438355, separation=80.5078125),\n",
       " component_separation(frequency=415.06849315068496, separation=80.5078125),\n",
       " component_separation(frequency=413.6986301369863, separation=81.2109375),\n",
       " component_separation(frequency=412.32876712328766, separation=80.859375),\n",
       " component_separation(frequency=410.958904109589, separation=81.2109375),\n",
       " component_separation(frequency=409.5890410958904, separation=81.2109375),\n",
       " component_separation(frequency=408.2191780821918, separation=81.5625),\n",
       " component_separation(frequency=406.8493150684931, separation=81.9140625),\n",
       " component_separation(frequency=405.47945205479454, separation=81.5625),\n",
       " component_separation(frequency=404.1095890410959, separation=81.5625),\n",
       " component_separation(frequency=401.3698630136986, separation=81.9140625),\n",
       " component_separation(frequency=400.0, separation=82.6171875),\n",
       " component_separation(frequency=398.63013698630135, separation=81.2109375),\n",
       " component_separation(frequency=397.2602739726027, separation=81.5625),\n",
       " component_separation(frequency=395.8904109589041, separation=82.6171875),\n",
       " component_separation(frequency=394.52054794520546, separation=82.6171875),\n",
       " component_separation(frequency=393.1506849315068, separation=82.265625),\n",
       " component_separation(frequency=391.7808219178082, separation=81.9140625),\n",
       " component_separation(frequency=390.4109589041096, separation=82.96875),\n",
       " component_separation(frequency=386.3013698630137, separation=82.96875),\n",
       " component_separation(frequency=384.93150684931504, separation=83.671875),\n",
       " component_separation(frequency=383.56164383561645, separation=83.671875),\n",
       " component_separation(frequency=382.1917808219178, separation=83.3203125),\n",
       " component_separation(frequency=380.82191780821915, separation=82.265625),\n",
       " component_separation(frequency=375.3424657534247, separation=83.671875),\n",
       " component_separation(frequency=365.75342465753425, separation=81.9140625),\n",
       " component_separation(frequency=360.2739726027397, separation=85.078125),\n",
       " component_separation(frequency=358.90410958904107, separation=86.1328125),\n",
       " component_separation(frequency=357.5342465753425, separation=85.078125),\n",
       " component_separation(frequency=356.16438356164383, separation=86.1328125),\n",
       " component_separation(frequency=354.7945205479452, separation=85.78125),\n",
       " component_separation(frequency=353.4246575342466, separation=85.78125),\n",
       " component_separation(frequency=352.05479452054794, separation=84.7265625),\n",
       " component_separation(frequency=350.6849315068493, separation=84.7265625),\n",
       " component_separation(frequency=349.3150684931507, separation=85.078125),\n",
       " component_separation(frequency=347.94520547945206, separation=86.8359375),\n",
       " component_separation(frequency=346.5753424657534, separation=86.8359375),\n",
       " component_separation(frequency=345.20547945205476, separation=85.4296875),\n",
       " component_separation(frequency=343.83561643835617, separation=86.484375),\n",
       " component_separation(frequency=342.4657534246575, separation=87.1875),\n",
       " component_separation(frequency=341.0958904109589, separation=86.1328125),\n",
       " component_separation(frequency=339.7260273972603, separation=85.078125),\n",
       " component_separation(frequency=338.35616438356163, separation=87.890625),\n",
       " component_separation(frequency=336.986301369863, separation=86.8359375),\n",
       " component_separation(frequency=335.6164383561644, separation=86.8359375),\n",
       " component_separation(frequency=334.24657534246575, separation=85.78125),\n",
       " component_separation(frequency=332.8767123287671, separation=87.5390625),\n",
       " component_separation(frequency=331.5068493150685, separation=88.2421875),\n",
       " component_separation(frequency=330.13698630136986, separation=88.59375),\n",
       " component_separation(frequency=328.7671232876712, separation=88.2421875),\n",
       " component_separation(frequency=327.3972602739726, separation=86.8359375),\n",
       " component_separation(frequency=326.027397260274, separation=87.5390625),\n",
       " component_separation(frequency=324.6575342465753, separation=90.3515625),\n",
       " component_separation(frequency=323.28767123287673, separation=86.1328125),\n",
       " component_separation(frequency=321.9178082191781, separation=88.2421875),\n",
       " component_separation(frequency=320.54794520547944, separation=87.5390625),\n",
       " component_separation(frequency=319.17808219178085, separation=86.484375),\n",
       " component_separation(frequency=317.8082191780822, separation=89.6484375),\n",
       " component_separation(frequency=316.43835616438355, separation=86.1328125),\n",
       " component_separation(frequency=315.06849315068496, separation=88.2421875),\n",
       " component_separation(frequency=313.6986301369863, separation=87.890625),\n",
       " component_separation(frequency=312.32876712328766, separation=87.890625),\n",
       " component_separation(frequency=310.958904109589, separation=91.0546875),\n",
       " component_separation(frequency=308.2191780821918, separation=86.484375),\n",
       " component_separation(frequency=306.8493150684931, separation=91.7578125),\n",
       " component_separation(frequency=305.47945205479454, separation=88.9453125),\n",
       " component_separation(frequency=304.1095890410959, separation=90.0),\n",
       " component_separation(frequency=302.73972602739724, separation=87.5390625),\n",
       " component_separation(frequency=301.36986301369865, separation=89.6484375)]"
      ]
     },
     "execution_count": 41,
     "metadata": {},
     "output_type": "execute_result"
    }
   ],
   "source": [
    "component_sep"
   ]
  },
  {
   "cell_type": "code",
   "execution_count": 42,
   "metadata": {
    "colab": {},
    "colab_type": "code",
    "id": "pacJRC6tIbBS"
   },
   "outputs": [],
   "source": [
    "comp_sep=[]\n",
    "frequency_forsep=[]\n",
    "\n",
    "#range(0,no_freq_bands)\n",
    "for i in range(0,len(component_sep)):\n",
    "  comp_sep.append(component_sep[i][1])\n",
    "  frequency_forsep.append(component_sep[i][0])"
   ]
  },
  {
   "cell_type": "code",
   "execution_count": 43,
   "metadata": {
    "colab": {
     "base_uri": "https://localhost:8080/",
     "height": 285
    },
    "colab_type": "code",
    "id": "oE8r2963KMSz",
    "outputId": "f4f85514-ae6f-423d-d908-e227bd630bf0"
   },
   "outputs": [
    {
     "data": {
      "text/plain": [
       "[<matplotlib.lines.Line2D at 0x7f7a2d01cfd0>]"
      ]
     },
     "execution_count": 43,
     "metadata": {},
     "output_type": "execute_result"
    },
    {
     "data": {
      "image/png": "[encoded data removed]",
      "text/plain": [
       "<matplotlib.figure.Figure at 0x7f7a2cfbe668>"
      ]
     },
     "metadata": {},
     "output_type": "display_data"
    }
   ],
   "source": [
    "py.plot(frequency_forsep, comp_sep, '.')"
   ]
  },
  {
   "cell_type": "markdown",
   "metadata": {
    "colab_type": "text",
    "id": "pRvVTEsj_64Q"
   },
   "source": [
    "# Attempted Fitting Power Laws to Separation"
   ]
  },
  {
   "cell_type": "code",
   "execution_count": 44,
   "metadata": {
    "colab": {
     "base_uri": "https://localhost:8080/",
     "height": 52
    },
    "colab_type": "code",
    "id": "Eb9tysocAfn3",
    "outputId": "bd4f4c0b-51b4-44d5-d62a-eed3654a09b6"
   },
   "outputs": [
    {
     "name": "stderr",
     "output_type": "stream",
     "text": [
      "/usr/lib/python3/dist-packages/ipykernel_launcher.py:2: RuntimeWarning: overflow encountered in power\n",
      "  \n"
     ]
    }
   ],
   "source": [
    "expect=(200,0.5,20)\n",
    "sep_params,sep_cov=curve_fit(powerlaw,frequency_forsep,comp_sep, maxfev=1000000)"
   ]
  },
  {
   "cell_type": "code",
   "execution_count": 45,
   "metadata": {
    "colab": {
     "base_uri": "https://localhost:8080/",
     "height": 34
    },
    "colab_type": "code",
    "id": "hCGGghN8A7BA",
    "outputId": "83939c3b-7903-439d-c3ce-82db42fb496b"
   },
   "outputs": [
    {
     "name": "stdout",
     "output_type": "stream",
     "text": [
      "[7.03227457e+02 3.96125675e-01 1.64735777e+01]\n"
     ]
    }
   ],
   "source": [
    "print(sep_params)\n",
    "separation_fit = powerlaw(frequency_forsep, *sep_params)"
   ]
  },
  {
   "cell_type": "code",
   "execution_count": 46,
   "metadata": {
    "colab": {
     "base_uri": "https://localhost:8080/",
     "height": 285
    },
    "colab_type": "code",
    "id": "oY7ok57vApBN",
    "outputId": "3d8b535d-fd31-40fc-fa17-331dbadba3fe"
   },
   "outputs": [
    {
     "data": {
      "text/plain": [
       "[<matplotlib.lines.Line2D at 0x7f7a2cfd9320>]"
      ]
     },
     "execution_count": 46,
     "metadata": {},
     "output_type": "execute_result"
    },
    {
     "data": {
      "image/png": "[encoded data removed]",
      "text/plain": [
       "<matplotlib.figure.Figure at 0x7f7a2cfd99e8>"
      ]
     },
     "metadata": {},
     "output_type": "display_data"
    }
   ],
   "source": [
    "py.plot(frequency_forsep, comp_sep, lw=0.5, label='data')\n",
    "py.plot(frequency_forsep,separation_fit, color='red',lw=1,label='power fit')"
   ]
  },
  {
   "cell_type": "code",
   "execution_count": 47,
   "metadata": {
    "colab": {
     "base_uri": "https://localhost:8080/",
     "height": 86
    },
    "colab_type": "code",
    "id": "l11_3C1ODT_d",
    "outputId": "4c0ce3d7-3a89-40d9-ccb6-f57842b9b774"
   },
   "outputs": [
    {
     "name": "stdout",
     "output_type": "stream",
     "text": [
      "The equation of fit for this pulsar is: \t Δθ = 703.227 ν^-0.396 + 16.474 \n",
      "\n",
      "The chi squared value for the fit is:  1.5365339519492096\n",
      "Units for Δθ is degrees and ν is MHz\n"
     ]
    }
   ],
   "source": [
    "chi, p = sp.stats.chisquare(comp_sep, separation_fit)\n",
    "print(f'The equation of fit for this pulsar is: \\t \\u0394\\u03B8 = {sep_params[0]:.3f} \\u03BD^-{sep_params[1]:.3f} + {sep_params[2]:.3f} \\n')\n",
    "print('The chi squared value for the fit is: ', chi)\n",
    "print('Units for \\u0394\\u03B8 is degrees and \\u03BD is MHz')"
   ]
  }
 ],
 "metadata": {
  "colab": {
   "collapsed_sections": [],
   "name": "Component Separation - RFI Removed.ipynb",
   "provenance": []
  },
  "kernelspec": {
   "display_name": "Python 3",
   "language": "python",
   "name": "python3"
  },
  "language_info": {
   "codemirror_mode": {
    "name": "ipython",
    "version": 3
   },
   "file_extension": ".py",
   "mimetype": "text/x-python",
   "name": "python",
   "nbconvert_exporter": "python",
   "pygments_lexer": "ipython3",
   "version": "3.6.8"
  }
 },
 "nbformat": 4,
 "nbformat_minor": 1
}
