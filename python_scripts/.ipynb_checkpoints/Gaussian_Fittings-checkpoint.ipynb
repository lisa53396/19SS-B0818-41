{
 "cells": [
  {
   "cell_type": "code",
   "execution_count": 1,
   "metadata": {
    "colab": {},
    "colab_type": "code",
    "id": "zJLqZxwce0pN"
   },
   "outputs": [],
   "source": [
    "import numpy as np"
   ]
  },
  {
   "cell_type": "code",
   "execution_count": 2,
   "metadata": {
    "colab": {},
    "colab_type": "code",
    "id": "I-sMZfzHe87d"
   },
   "outputs": [],
   "source": [
    "import scipy as sp"
   ]
  },
  {
   "cell_type": "code",
   "execution_count": 3,
   "metadata": {
    "colab": {},
    "colab_type": "code",
    "id": "osUA_fqWfB8I"
   },
   "outputs": [],
   "source": [
    "import matplotlib.pyplot as py"
   ]
  },
  {
   "cell_type": "code",
   "execution_count": 4,
   "metadata": {
    "colab": {},
    "colab_type": "code",
    "id": "rAyZTuY5gm0y"
   },
   "outputs": [],
   "source": [
    "from scipy.stats import norm"
   ]
  },
  {
   "cell_type": "code",
   "execution_count": 5,
   "metadata": {
    "colab": {},
    "colab_type": "code",
    "id": "rxIIcbQcLvRH"
   },
   "outputs": [],
   "source": [
    "from astropy import modeling"
   ]
  },
  {
   "cell_type": "markdown",
   "metadata": {
    "colab_type": "text",
    "id": "_qfr6XTWnmVe"
   },
   "source": [
    "Importing Data"
   ]
  },
  {
   "cell_type": "code",
   "execution_count": 8,
   "metadata": {
    "colab": {},
    "colab_type": "code",
    "id": "4ieR-2IlfGA_"
   },
   "outputs": [],
   "source": [
    "fulldatatype=([('pulse','i8'),('frequency','i8'),('phase','i8'),('intensity','f8')])"
   ]
  },
  {
   "cell_type": "code",
   "execution_count": 10,
   "metadata": {
    "colab": {},
    "colab_type": "code",
    "id": "o9kgY0kqfIrQ"
   },
   "outputs": [
    {
     "ename": "KeyboardInterrupt",
     "evalue": "",
     "output_type": "error",
     "traceback": [
      "\u001b[0;31m---------------------------------------------------------------------------\u001b[0m",
      "\u001b[0;31mKeyboardInterrupt\u001b[0m                         Traceback (most recent call last)",
      "\u001b[0;32m<ipython-input-10-ff362dbcd29a>\u001b[0m in \u001b[0;36m<module>\u001b[0;34m()\u001b[0m\n\u001b[0;32m----> 1\u001b[0;31m \u001b[0maverageprofiles\u001b[0m \u001b[0;34m=\u001b[0m \u001b[0mnp\u001b[0m\u001b[0;34m.\u001b[0m\u001b[0mloadtxt\u001b[0m\u001b[0;34m(\u001b[0m\u001b[0mfname\u001b[0m\u001b[0;34m=\u001b[0m\u001b[0;34m'../archivefiles/com_archivefiles/pdv/J0820_s_f28.pdv'\u001b[0m\u001b[0;34m,\u001b[0m \u001b[0mdtype\u001b[0m\u001b[0;34m=\u001b[0m\u001b[0mfulldatatype\u001b[0m\u001b[0;34m)\u001b[0m\u001b[0;34m\u001b[0m\u001b[0;34m\u001b[0m\u001b[0m\n\u001b[0m",
      "\u001b[0;32m/home/lisasmith/.local/lib/python3.6/site-packages/numpy/lib/npyio.py\u001b[0m in \u001b[0;36mloadtxt\u001b[0;34m(fname, dtype, comments, delimiter, converters, skiprows, usecols, unpack, ndmin, encoding, max_rows)\u001b[0m\n\u001b[1;32m   1144\u001b[0m         \u001b[0;31m# converting the data\u001b[0m\u001b[0;34m\u001b[0m\u001b[0;34m\u001b[0m\u001b[0;34m\u001b[0m\u001b[0m\n\u001b[1;32m   1145\u001b[0m         \u001b[0mX\u001b[0m \u001b[0;34m=\u001b[0m \u001b[0;32mNone\u001b[0m\u001b[0;34m\u001b[0m\u001b[0;34m\u001b[0m\u001b[0m\n\u001b[0;32m-> 1146\u001b[0;31m         \u001b[0;32mfor\u001b[0m \u001b[0mx\u001b[0m \u001b[0;32min\u001b[0m \u001b[0mread_data\u001b[0m\u001b[0;34m(\u001b[0m\u001b[0m_loadtxt_chunksize\u001b[0m\u001b[0;34m)\u001b[0m\u001b[0;34m:\u001b[0m\u001b[0;34m\u001b[0m\u001b[0;34m\u001b[0m\u001b[0m\n\u001b[0m\u001b[1;32m   1147\u001b[0m             \u001b[0;32mif\u001b[0m \u001b[0mX\u001b[0m \u001b[0;32mis\u001b[0m \u001b[0;32mNone\u001b[0m\u001b[0;34m:\u001b[0m\u001b[0;34m\u001b[0m\u001b[0;34m\u001b[0m\u001b[0m\n\u001b[1;32m   1148\u001b[0m                 \u001b[0mX\u001b[0m \u001b[0;34m=\u001b[0m \u001b[0mnp\u001b[0m\u001b[0;34m.\u001b[0m\u001b[0marray\u001b[0m\u001b[0;34m(\u001b[0m\u001b[0mx\u001b[0m\u001b[0;34m,\u001b[0m \u001b[0mdtype\u001b[0m\u001b[0;34m)\u001b[0m\u001b[0;34m\u001b[0m\u001b[0;34m\u001b[0m\u001b[0m\n",
      "\u001b[0;32m/home/lisasmith/.local/lib/python3.6/site-packages/numpy/lib/npyio.py\u001b[0m in \u001b[0;36mread_data\u001b[0;34m(chunk_size)\u001b[0m\n\u001b[1;32m   1066\u001b[0m             \u001b[0;32mif\u001b[0m \u001b[0musecols\u001b[0m\u001b[0;34m:\u001b[0m\u001b[0;34m\u001b[0m\u001b[0;34m\u001b[0m\u001b[0m\n\u001b[1;32m   1067\u001b[0m                 \u001b[0mvals\u001b[0m \u001b[0;34m=\u001b[0m \u001b[0;34m[\u001b[0m\u001b[0mvals\u001b[0m\u001b[0;34m[\u001b[0m\u001b[0mj\u001b[0m\u001b[0;34m]\u001b[0m \u001b[0;32mfor\u001b[0m \u001b[0mj\u001b[0m \u001b[0;32min\u001b[0m \u001b[0musecols\u001b[0m\u001b[0;34m]\u001b[0m\u001b[0;34m\u001b[0m\u001b[0;34m\u001b[0m\u001b[0m\n\u001b[0;32m-> 1068\u001b[0;31m             \u001b[0;32mif\u001b[0m \u001b[0mlen\u001b[0m\u001b[0;34m(\u001b[0m\u001b[0mvals\u001b[0m\u001b[0;34m)\u001b[0m \u001b[0;34m!=\u001b[0m \u001b[0mN\u001b[0m\u001b[0;34m:\u001b[0m\u001b[0;34m\u001b[0m\u001b[0;34m\u001b[0m\u001b[0m\n\u001b[0m\u001b[1;32m   1069\u001b[0m                 \u001b[0mline_num\u001b[0m \u001b[0;34m=\u001b[0m \u001b[0mi\u001b[0m \u001b[0;34m+\u001b[0m \u001b[0mskiprows\u001b[0m \u001b[0;34m+\u001b[0m \u001b[0;36m1\u001b[0m\u001b[0;34m\u001b[0m\u001b[0;34m\u001b[0m\u001b[0m\n\u001b[1;32m   1070\u001b[0m                 raise ValueError(\"Wrong number of columns at line %d\"\n",
      "\u001b[0;31mKeyboardInterrupt\u001b[0m: "
     ]
    }
   ],
   "source": [
    "averageprofiles = np.loadtxt(fname='../archivefiles/com_archivefiles/pdv/J0820_s_f28.pdv', dtype=fulldatatype)"
   ]
  },
  {
   "cell_type": "code",
   "execution_count": 11,
   "metadata": {},
   "outputs": [],
   "source": [
    "f = open('../archivefiles/com_archivefiles/pdv/J0820_s_f28.pdv', 'r')"
   ]
  },
  {
   "cell_type": "code",
   "execution_count": null,
   "metadata": {},
   "outputs": [],
   "source": [
    "for line in f.readlines()[:150528]:\n",
    "    print(line)\n",
    "    "
   ]
  },
  {
   "cell_type": "code",
   "execution_count": null,
   "metadata": {},
   "outputs": [],
   "source": []
  },
  {
   "cell_type": "markdown",
   "metadata": {
    "colab_type": "text",
    "id": "MVQ_pgyRnofm"
   },
   "source": [
    "Choosing Frequency Band. Will have to loop for all"
   ]
  },
  {
   "cell_type": "code",
   "execution_count": null,
   "metadata": {
    "colab": {},
    "colab_type": "code",
    "id": "mcIptVeffJXA"
   },
   "outputs": [],
   "source": [
    "f1 = averageprofiles['frequency'] == 6"
   ]
  },
  {
   "cell_type": "code",
   "execution_count": null,
   "metadata": {
    "colab": {},
    "colab_type": "code",
    "id": "o9L0EPsL2JrT"
   },
   "outputs": [],
   "source": [
    "phase1=averageprofiles['phase'][f1]\n",
    "intensity1=averageprofiles['intensity'][f1]"
   ]
  },
  {
   "cell_type": "code",
   "execution_count": null,
   "metadata": {
    "colab": {
     "base_uri": "https://localhost:8080/",
     "height": 282
    },
    "colab_type": "code",
    "id": "GHIegjK-mG0G",
    "outputId": "643c5718-6dda-45ca-db8b-b8ba6d99154f"
   },
   "outputs": [],
   "source": [
    "py.plot(phase1, intensity1)"
   ]
  },
  {
   "cell_type": "markdown",
   "metadata": {
    "colab_type": "text",
    "id": "2hhQErp8ntli"
   },
   "source": [
    "Gaussian Plots"
   ]
  },
  {
   "cell_type": "code",
   "execution_count": null,
   "metadata": {
    "colab": {
     "base_uri": "https://localhost:8080/",
     "height": 300
    },
    "colab_type": "code",
    "id": "iuW1XZClYokQ",
    "outputId": "64fa3777-e5e1-43e6-8c71-407bcc407066"
   },
   "outputs": [],
   "source": [
    "import matplotlib.pyplot as py\n",
    "from pylab import *\n",
    "from scipy.optimize import curve_fit\n",
    "\n",
    "x = phase1\n",
    "y = intensity1\n",
    "\n",
    "#x=(x[1:]+x[:-1])/2 # for len(x)==len(y)\n",
    "\n",
    "def gauss(x,mu,sigma,A):\n",
    "    return A*exp(-(x-mu)**2/2/sigma**2)\n",
    "\n",
    "expected=[513,100,7.3]\n",
    "params,cov = curve_fit(gauss,x,y,expected)\n",
    "sigma=sqrt(diag(cov))\n",
    "\n",
    "py.plot(x, y, lw=2, label='data')\n",
    "py.plot(x,gauss(x,*params), color='red',lw=3,label='model')\n",
    "py.legend()\n",
    "\n",
    "print(params,'\\n',sigma) \n",
    "\n"
   ]
  },
  {
   "cell_type": "code",
   "execution_count": null,
   "metadata": {
    "colab": {
     "base_uri": "https://localhost:8080/",
     "height": 34
    },
    "colab_type": "code",
    "id": "L6hDXJGImTqa",
    "outputId": "cc4c5440-8408-4312-83aa-f4da31b65d3c"
   },
   "outputs": [],
   "source": [
    "chi, p = sp.stats.chisquare(y, gauss(x,*params))\n",
    "print(chi)"
   ]
  },
  {
   "cell_type": "code",
   "execution_count": null,
   "metadata": {
    "colab": {
     "base_uri": "https://localhost:8080/",
     "height": 317
    },
    "colab_type": "code",
    "id": "PFICpuigPCc3",
    "outputId": "90636a38-c9bf-44b7-e810-16b03dc3a818"
   },
   "outputs": [],
   "source": [
    "from pylab import *\n",
    "from scipy.optimize import curve_fit\n",
    "\n",
    "x = phase1\n",
    "y = intensity1\n",
    "\n",
    "#x=(x[1:]+x[:-1])/2 # for len(x)==len(y)\n",
    "\n",
    "def gauss(x,cen,sd,amp):\n",
    "    return amp*exp(-(x-cen)**2/2/sd**2)\n",
    "\n",
    "def doublegauss(x,cen1,sd1,amp1,cen2,sd2,amp2):\n",
    "    return gauss(x,cen1,sd1,amp1)+gauss(x,cen2,sd2,amp2)\n",
    "\n",
    "\n",
    "expected=(501,30,8.02,741,20,11.29)\n",
    "params,cov=curve_fit(doublegauss,x,y,expected)\n",
    "sigma=sqrt(diag(cov))\n",
    "plot(x, y, lw=3, label='data')\n",
    "plot(x,doublegauss(x,*params),color='red',lw=3,label='model')\n",
    "legend()\n",
    "print(params,'\\n',sigma)  \n",
    "\n",
    "\n"
   ]
  },
  {
   "cell_type": "code",
   "execution_count": null,
   "metadata": {
    "colab": {
     "base_uri": "https://localhost:8080/",
     "height": 34
    },
    "colab_type": "code",
    "id": "cLQr7-uimfr-",
    "outputId": "da51833b-c051-48c3-8ce5-3be769807bf7"
   },
   "outputs": [],
   "source": [
    "chi, p = sp.stats.chisquare(y, doublegauss(x,*params))\n",
    "print(chi, p)"
   ]
  },
  {
   "cell_type": "code",
   "execution_count": null,
   "metadata": {
    "colab": {
     "base_uri": "https://localhost:8080/",
     "height": 282
    },
    "colab_type": "code",
    "id": "jsGGunVhhNxl",
    "outputId": "df69799d-08ca-41e6-dc54-3db890784d83"
   },
   "outputs": [],
   "source": [
    "params1 = params[0:3]\n",
    "params2 = params[3:6]\n",
    "gpeak1 = gauss(x, *params1)\n",
    "gpeak2 = gauss(x, *params2)\n",
    "\n",
    "plot(x, y, lw=3, label='data')\n",
    "plot(x,doublegauss(x,*params),color='red',lw=3,label='model')\n",
    "legend()\n",
    "\n",
    "plot(x, gpeak1, \"g\")\n",
    "fill_between(x, gpeak1.min(), gpeak1, facecolor=\"green\", alpha=0.5)\n",
    "  \n",
    "plot(x, gpeak2, \"y\")\n",
    "fill_between(x, gpeak2.min(), gpeak2, facecolor=\"yellow\", alpha=0.5)  "
   ]
  },
  {
   "cell_type": "code",
   "execution_count": null,
   "metadata": {
    "colab": {
     "base_uri": "https://localhost:8080/",
     "height": 352
    },
    "colab_type": "code",
    "id": "MvBudOjXY1DT",
    "outputId": "93cec4f6-77a2-4f27-e0c3-d71338f14b06"
   },
   "outputs": [],
   "source": [
    "from pylab import *\n",
    "from scipy.optimize import curve_fit\n",
    "\n",
    "x = phase1\n",
    "y = intensity1\n",
    "\n",
    "#x=(x[1:]+x[:-1])/2 # for len(x)==len(y)\n",
    "\n",
    "def gauss(x,cen,sd,amp):\n",
    "    return amp*exp(-(x-cen)**2/2/sd**2)\n",
    "\n",
    "def trigauss(x,cen1,sd1,amp1,cen2,sd2,amp2,cen3,sd3,amp3):\n",
    "    return gauss(x,cen1,sd1,amp1)+gauss(x,cen2,sd2,amp2)+gauss(x,cen3,sd3,amp3)\n",
    "\n",
    "\n",
    "\n",
    "expected=(501,30,8.02,655,80,4.07,741,20,11.29)\n",
    "params,cov=curve_fit(trigauss,x,y,expected)\n",
    "sigma=sqrt(diag(cov))\n",
    "plot(x, y, lw=1, label='data')\n",
    "plot(x,trigauss(x,*params),color='red',lw=3,label='model')\n",
    "legend()\n",
    "print(params,'\\n',sigma)  \n"
   ]
  },
  {
   "cell_type": "code",
   "execution_count": null,
   "metadata": {
    "colab": {
     "base_uri": "https://localhost:8080/",
     "height": 34
    },
    "colab_type": "code",
    "id": "bRx9qSAAmkUh",
    "outputId": "abcd57ec-0088-47c3-d74c-9cd55fe69b87"
   },
   "outputs": [],
   "source": [
    "chi, p = sp.stats.chisquare(y, trigauss(x,*params))\n",
    "print(chi, p)"
   ]
  },
  {
   "cell_type": "code",
   "execution_count": null,
   "metadata": {
    "colab": {
     "base_uri": "https://localhost:8080/",
     "height": 282
    },
    "colab_type": "code",
    "id": "NmHjFzTFith2",
    "outputId": "774bd690-5114-44da-bd60-0357bc84f91a"
   },
   "outputs": [],
   "source": [
    "params1 = params[0:3]\n",
    "params2 = params[3:6]\n",
    "params3 = params[6:9]\n",
    "gpeak1 = gauss(x, *params1)\n",
    "gpeak2 = gauss(x, *params2)\n",
    "gpeak3 = gauss(x, *params3)\n",
    "\n",
    "\n",
    "plot(x, y, lw=1, label='data')\n",
    "plot(x,trigauss(x,*params),color='red',lw=3,label='model')\n",
    "legend()\n",
    "\n",
    "plot(x, gpeak1, \"g\")\n",
    "fill_between(x, gpeak1.min(), gpeak1, facecolor=\"green\", alpha=0.5)\n",
    "  \n",
    "plot(x, gpeak2, \"y\")\n",
    "fill_between(x, gpeak2.min(), gpeak2, facecolor=\"yellow\", alpha=0.5)\n",
    "\n",
    "plot(x, gpeak3, \"b\")\n",
    "fill_between(x, gpeak3.min(), gpeak3, facecolor=\"blue\", alpha=0.5)"
   ]
  },
  {
   "cell_type": "code",
   "execution_count": null,
   "metadata": {
    "colab": {
     "base_uri": "https://localhost:8080/",
     "height": 360
    },
    "colab_type": "code",
    "id": "xHs3sDlvE1LU",
    "outputId": "2e497923-262f-486b-87ca-0ee04a6df66c"
   },
   "outputs": [],
   "source": [
    "from pylab import *\n",
    "from scipy.optimize import curve_fit\n",
    "\n",
    "x = phase1\n",
    "y = intensity1\n",
    "\n",
    "#x=(x[1:]+x[:-1])/2 # for len(x)==len(y)\n",
    "\n",
    "def gauss(x,cen,sd,amp):\n",
    "    return amp*exp(-(x-cen)**2/2/sd**2)\n",
    "\n",
    "def fourgauss(x,cen1,sd1,amp1,cen2,sd2,amp2,cen3,sd3,amp3,cen4,sd4,amp4):\n",
    "    return gauss(x,cen1,sd1,amp1)+gauss(x,cen2,sd2,amp2)+gauss(x,cen3,sd3,amp3)+gauss(x,cen4,sd4,amp4)\n",
    "\n",
    "\n",
    "\n",
    "expected=(501,30,8.02,600,80,4.07,655,80,4,741,20,11.29)\n",
    "params,cov=curve_fit(fourgauss,x,y, expected)\n",
    "sigma=sqrt(diag(cov))\n",
    "plot(x, y, lw=1, label='data')\n",
    "plot(x,fourgauss(x,*params),color='red',lw=3,label='model')\n",
    "legend()\n",
    "print(params,'\\n',sigma)  "
   ]
  },
  {
   "cell_type": "code",
   "execution_count": null,
   "metadata": {
    "colab": {},
    "colab_type": "code",
    "id": "KmOz_b4t6Bmj"
   },
   "outputs": [],
   "source": []
  }
 ],
 "metadata": {
  "colab": {
   "name": "Gaussian Fittings.ipynb",
   "provenance": []
  },
  "kernelspec": {
   "display_name": "Python 3",
   "language": "python",
   "name": "python3"
  },
  "language_info": {
   "codemirror_mode": {
    "name": "ipython",
    "version": 3
   },
   "file_extension": ".py",
   "mimetype": "text/x-python",
   "name": "python",
   "nbconvert_exporter": "python",
   "pygments_lexer": "ipython3",
   "version": "3.6.8"
  }
 },
 "nbformat": 4,
 "nbformat_minor": 1
}
