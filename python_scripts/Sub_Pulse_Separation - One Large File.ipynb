{
 "cells": [
  {
   "cell_type": "markdown",
   "metadata": {
    "colab_type": "text",
    "id": "4z_feS2dDwlJ"
   },
   "source": [
    "# Importing Packages Needed"
   ]
  },
  {
   "cell_type": "code",
   "execution_count": 1,
   "metadata": {
    "colab": {},
    "colab_type": "code",
    "id": "zJLqZxwce0pN"
   },
   "outputs": [],
   "source": [
    "import numpy as np"
   ]
  },
  {
   "cell_type": "code",
   "execution_count": 2,
   "metadata": {
    "colab": {},
    "colab_type": "code",
    "id": "I-sMZfzHe87d"
   },
   "outputs": [],
   "source": [
    "import scipy as sp"
   ]
  },
  {
   "cell_type": "code",
   "execution_count": 3,
   "metadata": {
    "colab": {},
    "colab_type": "code",
    "id": "osUA_fqWfB8I"
   },
   "outputs": [],
   "source": [
    "import matplotlib.pyplot as py"
   ]
  },
  {
   "cell_type": "code",
   "execution_count": 4,
   "metadata": {
    "colab": {},
    "colab_type": "code",
    "id": "EI8CExhqOkaC"
   },
   "outputs": [],
   "source": [
    "from scipy.optimize import curve_fit"
   ]
  },
  {
   "cell_type": "code",
   "execution_count": 5,
   "metadata": {
    "colab": {},
    "colab_type": "code",
    "id": "FTNsckCiZ_s4"
   },
   "outputs": [],
   "source": [
    "from scipy.signal import find_peaks"
   ]
  },
  {
   "cell_type": "code",
   "execution_count": 6,
   "metadata": {
    "colab": {},
    "colab_type": "code",
    "id": "PUtMS_hIaHat"
   },
   "outputs": [],
   "source": [
    "import collections as col"
   ]
  },
  {
   "cell_type": "markdown",
   "metadata": {
    "colab_type": "text",
    "id": "FamzMgIcD2xs"
   },
   "source": [
    "# Definition of Named Tuples"
   ]
  },
  {
   "cell_type": "code",
   "execution_count": 7,
   "metadata": {
    "colab": {},
    "colab_type": "code",
    "id": "Uzxt0sq0qeHc"
   },
   "outputs": [],
   "source": [
    "component = col.namedtuple('component','phase intensity')"
   ]
  },
  {
   "cell_type": "code",
   "execution_count": 8,
   "metadata": {
    "colab": {},
    "colab_type": "code",
    "id": "MdsAp5qWIre5"
   },
   "outputs": [],
   "source": [
    "pulse_component = col.namedtuple('pulse_component','frequency comp1 comp2')"
   ]
  },
  {
   "cell_type": "code",
   "execution_count": 9,
   "metadata": {
    "colab": {},
    "colab_type": "code",
    "id": "xDOdqB5tIrt5"
   },
   "outputs": [],
   "source": [
    "component_separation = col.namedtuple('component_separation','frequency separation')"
   ]
  },
  {
   "cell_type": "markdown",
   "metadata": {
    "colab_type": "text",
    "id": "a8CeXWdQIy8b"
   },
   "source": [
    "# Definition of Functions"
   ]
  },
  {
   "cell_type": "markdown",
   "metadata": {},
   "source": [
    "Importing Data one pulse at a time"
   ]
  },
  {
   "cell_type": "code",
   "execution_count": 10,
   "metadata": {},
   "outputs": [],
   "source": [
    "def readsinglepulse(j, line):\n",
    "    \n",
    "    single_pulse= np.empty([0,1], dtype=fulldatatype)\n",
    "    \n",
    "    while int(line[0])==j:\n",
    "                        \n",
    "            single_phase= np.array((float(line.split()[0]),float(line.split()[1]),float(line.split()[2]),float(line.split()[3])), dtype=fulldatatype)  \n",
    "            #Can use for error checking\n",
    "            #print(single_phase)\n",
    "            #print(single_phase['frequency'])\n",
    "            \n",
    "            single_pulse=np.row_stack((single_pulse, single_phase))              \n",
    "            \n",
    "            #print(single_pulse)\n",
    "                            \n",
    "            line = spd.readline()\n",
    "    \n",
    "    return single_pulse,line"
   ]
  },
  {
   "cell_type": "markdown",
   "metadata": {
    "colab_type": "text",
    "id": "nOegi6c8I3gu"
   },
   "source": [
    "Gaussian Fitting Functions:"
   ]
  },
  {
   "cell_type": "code",
   "execution_count": 11,
   "metadata": {
    "colab": {},
    "colab_type": "code",
    "id": "Jf6ae6VTR-iR"
   },
   "outputs": [],
   "source": [
    "def gauss(x,cen,sd,amp):\n",
    "    return amp*np.exp(-(x-cen)**2/2/sd**2)\n",
    "\n",
    "def threegauss(x,cen1,sd1,amp1,cen2,sd2,amp2,cen3,sd3,amp3):\n",
    "    return gauss(x,cen1,sd1,amp1)+gauss(x,cen2,sd2,amp2)+gauss(x,cen3,sd3,amp3)"
   ]
  },
  {
   "cell_type": "code",
   "execution_count": 12,
   "metadata": {
    "colab": {},
    "colab_type": "code",
    "id": "zWylwCBKV8SL"
   },
   "outputs": [],
   "source": [
    "def fitting_parameters(x,y,expected):\n",
    "  params,cov=curve_fit(threegauss,x,y,expected)\n",
    "  sigma=np.sqrt(np.diag(cov))\n",
    "  return params, sigma\n",
    "\n",
    "def gauss_fit(x,params):\n",
    "  return threegauss(x,*params)"
   ]
  },
  {
   "cell_type": "markdown",
   "metadata": {
    "colab_type": "text",
    "id": "Hf__MEBnJEd_"
   },
   "source": [
    "Finding Peak of Fittings Function"
   ]
  },
  {
   "cell_type": "code",
   "execution_count": 13,
   "metadata": {
    "colab": {},
    "colab_type": "code",
    "id": "iIp9ZS-sZYIZ"
   },
   "outputs": [],
   "source": [
    "def gauss_peaks(fit, nofreqband, freqband):\n",
    "  status='starting'\n",
    "  \n",
    "  i=3\n",
    "  peakpos = find_peaks(fit, prominence=i, distance=50, height=i)[0]\n",
    "\n",
    "  while len(peakpos) !=2 and i>=1 and i<5:\n",
    "    if len(peakpos) < 2:\n",
    "      i=i-0.5\n",
    "      peakpos = find_peaks(fit, prominence=i, distance=50, height=1)[0]\n",
    "\n",
    "    elif len(peakpos) > 2:\n",
    "      i=i+0.5\n",
    "      peakpos = find_peaks(fit, prominence=i, distance=50, height=2)[0]\n",
    "    \n",
    "  #Can be used for error checking\n",
    "  #else:\n",
    "    #print('Loop done')\n",
    "    #print(i)\n",
    "\n",
    "  if len(peakpos) == 2:\n",
    "    status='pending'\n",
    "\n",
    "    if peakpos[0]>=300 and peakpos[0]<=535 and peakpos[1]>=650 and peakpos[1]<=800:\n",
    "      status='complete'\n",
    "    else:\n",
    "      status='error'\n",
    "\n",
    "  else:\n",
    "    status='error'\n",
    "\n",
    "\n",
    "  if status=='complete':\n",
    "    component1 = component(phase=(360/1024)*peakpos[0], intensity=fit[peakpos[0]])\n",
    "    component2 = component(phase=(360/1024)*peakpos[1], intensity=fit[peakpos[1]])\n",
    "  \n",
    "  elif status=='error':\n",
    "    component1 = component(phase=0, intensity=0)\n",
    "    component2 = component(phase=0, intensity=0)\n",
    "\n",
    "  else:\n",
    "    print(\"Error: Something not complete in peak finding\")\n",
    "\n",
    "  freq=(((500-300)/nofreqband)*(nofreqband-freqband))+300 \n",
    "\n",
    "  profile_comp = pulse_component(frequency=freq, comp1=component1, comp2=component2)\n",
    "\n",
    "  #Can be used for error checking\n",
    "  #if status != 'error':\n",
    "    #plot_peaks(x,y,profile_comp)\n",
    "\n",
    "  return profile_comp"
   ]
  },
  {
   "cell_type": "markdown",
   "metadata": {
    "colab_type": "text",
    "id": "4P1qFLYpI9hB"
   },
   "source": [
    "Plotting Fittings Functions"
   ]
  },
  {
   "cell_type": "code",
   "execution_count": 14,
   "metadata": {
    "colab": {},
    "colab_type": "code",
    "id": "gPhqw8WaI8pp"
   },
   "outputs": [],
   "source": [
    "def plot_fit(x,y,fit,params,sigma):\n",
    "  py.plot(x, y, lw=0.5, label='data')\n",
    "  py.plot(x,fit, color='red',lw=3,label='gaussian fit')\n",
    "  py.xlabel('Phase Bin')\n",
    "  py.ylabel('Intensity')\n",
    "  py.legend()\n",
    "  return"
   ]
  },
  {
   "cell_type": "code",
   "execution_count": 15,
   "metadata": {
    "colab": {},
    "colab_type": "code",
    "id": "NmHjFzTFith2"
   },
   "outputs": [],
   "source": [
    "def plot_fill(x,y,params):\n",
    "  params1 = params[0:3]\n",
    "  params2 = params[3:6]\n",
    "  params3 = params[6:9]\n",
    "  gfit1 = gauss(x, *params1)\n",
    "  gfit2 = gauss(x, *params2)\n",
    "  gfit3 = gauss(x, *params3)\n",
    "\n",
    "\n",
    "  py.plot(x, y, lw=0.5, label='data')\n",
    "  py.plot(x,fit,color='red',lw=3,label='gaussian fit')\n",
    "  py.xlabel('Phase Bin')\n",
    "  py.ylabel('Intensity')\n",
    "  py.legend()\n",
    "\n",
    "  py.plot(x, gfit1, \"g\")\n",
    "  py.fill_between(x, gfit1.min(), gfit1, facecolor=\"green\", alpha=0.5)\n",
    "  \n",
    "  py.plot(x, gfit2, \"y\")\n",
    "  py.fill_between(x, gfit2.min(), gfit2, facecolor=\"yellow\", alpha=0.5)\n",
    "\n",
    "  py.plot(x, gfit3, \"b\")\n",
    "  py.fill_between(x, gfit3.min(), gfit3, facecolor=\"blue\", alpha=0.5)\n",
    "\n",
    "  return "
   ]
  },
  {
   "cell_type": "code",
   "execution_count": 16,
   "metadata": {
    "colab": {},
    "colab_type": "code",
    "id": "b6Y_oMHJbEEz"
   },
   "outputs": [],
   "source": [
    "def plot_peaks(x,y,profile_comp):\n",
    "  py.plot(x,y, lw=0.5)\n",
    "  py.plot(x, fit, color='red', lw=3, label='gaussian fit')\n",
    "\n",
    "  x=[profile_comp[i][0] for i in range(1,3)]\n",
    "  y=[profile_comp[i][1] for i in range(1,3)]\n",
    "\n",
    "  py.plot(x, y ,'X', markerfacecolor='black', markeredgecolor='black', label='peaks')\n",
    "\n",
    "  py.xlabel('Phase (deg)')\n",
    "  py.ylabel('Intensity')\n",
    "  py.legend()\n",
    "  return"
   ]
  },
  {
   "cell_type": "markdown",
   "metadata": {
    "colab_type": "text",
    "id": "L_oE3uFcsKkA"
   },
   "source": [
    "Functions for Fitting Separation Data"
   ]
  },
  {
   "cell_type": "code",
   "execution_count": 17,
   "metadata": {
    "colab": {},
    "colab_type": "code",
    "id": "_V1yQ0U5__mq"
   },
   "outputs": [],
   "source": [
    "def powerlaw(x, A, alpha, smin):\n",
    "  return (A * (x**(-alpha)) + smin)"
   ]
  },
  {
   "cell_type": "markdown",
   "metadata": {
    "colab_type": "text",
    "id": "HsEW4YA0D-QH"
   },
   "source": [
    "# Importing Data"
   ]
  },
  {
   "cell_type": "markdown",
   "metadata": {
    "colab_type": "text",
    "id": "5aCGkE3ZYbBM"
   },
   "source": [
    "Data must be in text file format from software pdv.\n",
    "Must be one file containing all pulses."
   ]
  },
  {
   "cell_type": "code",
   "execution_count": 18,
   "metadata": {
    "colab": {},
    "colab_type": "code",
    "id": "4ieR-2IlfGA_"
   },
   "outputs": [],
   "source": [
    "fulldatatype=([('pulse','i8'),('frequency','i8'),('phase','i8'),('intensity','f8')])"
   ]
  },
  {
   "cell_type": "code",
   "execution_count": 21,
   "metadata": {
    "colab": {},
    "colab_type": "code",
    "id": "o9kgY0kqfIrQ"
   },
   "outputs": [],
   "source": [
    "with open('../archivefiles/com_archivefiles/pdv/J0820_s_f28.pdv', 'r') as spd:\n",
    "    \n",
    "    #Skim past the hashed first line\n",
    "    line = spd.readline()\n",
    "    \n",
    "    #First read\n",
    "    line = spd.readline()\n",
    "    \n",
    "    #number of pulses\n",
    "    for j in range(0,17):\n",
    "             \n",
    "        single_pulse, line = readsinglepulse(j, line)\n",
    "        \n",
    "        #no_freq_bands = max(single_pulse['frequency'])+1\n",
    "        \n",
    "        pulse_components = []\n",
    "        \n",
    "        expected=(501,30,8.02,655,80,4.07,741,20,11.29)\n",
    "        \n",
    "#        for i in range(0,no_freq_bands):\n",
    " #           freqband = i\n",
    "  #\n",
    "   #         #Can be used for error checking\n",
    "    #        print(freqband)\n",
    "\n",
    "    \n",
    "     #       f = single_pulse['frequency'] == freqband\n",
    "\n",
    "      #      x=single_pulse['phase'][f]\n",
    "       #     y=single_pulse['intensity'][f]\n",
    "\n",
    "        #    if len(x)!=0 and len(y)!=0:\n",
    "         #       params,sigma = fitting_parameters(x,y,expected)\n",
    "          #      fit = gauss_fit(x, params)\n",
    "           #     profile_comp = gauss_peaks(fit, no_freq_bands, freqband)\n",
    "\n",
    "                #Can be used for error checking\n",
    "                #print(profile_comp)\n",
    "  \n",
    "            #    pulse_components.append(profile_comp)\n",
    "        "
   ]
  },
  {
   "cell_type": "code",
   "execution_count": 22,
   "metadata": {
    "scrolled": true
   },
   "outputs": [
    {
     "ename": "IndexError",
     "evalue": "index 0 is out of bounds for axis 0 with size 0",
     "output_type": "error",
     "traceback": [
      "\u001b[0;31m---------------------------------------------------------------------------\u001b[0m",
      "\u001b[0;31mIndexError\u001b[0m                                Traceback (most recent call last)",
      "\u001b[0;32m<ipython-input-22-188542c0187e>\u001b[0m in \u001b[0;36m<module>\u001b[0;34m()\u001b[0m\n\u001b[0;32m----> 1\u001b[0;31m \u001b[0msingle_pulse\u001b[0m\u001b[0;34m[\u001b[0m\u001b[0;36m0\u001b[0m\u001b[0;34m]\u001b[0m\u001b[0;34m\u001b[0m\u001b[0;34m\u001b[0m\u001b[0m\n\u001b[0m",
      "\u001b[0;31mIndexError\u001b[0m: index 0 is out of bounds for axis 0 with size 0"
     ]
    }
   ],
   "source": [
    "single_pulse[0]"
   ]
  },
  {
   "cell_type": "markdown",
   "metadata": {},
   "source": [
    "## Checking Individual Frequency"
   ]
  },
  {
   "cell_type": "code",
   "execution_count": null,
   "metadata": {},
   "outputs": [],
   "source": [
    "freqband = 89\n",
    "f = single_pulse['frequency'] == freqband"
   ]
  },
  {
   "cell_type": "code",
   "execution_count": null,
   "metadata": {},
   "outputs": [],
   "source": [
    "phase=single_pulse['phase'][f]\n",
    "intensity=single_pulse['intensity'][f]"
   ]
  },
  {
   "cell_type": "code",
   "execution_count": null,
   "metadata": {},
   "outputs": [],
   "source": [
    "x = phase\n",
    "y = intensity"
   ]
  },
  {
   "cell_type": "code",
   "execution_count": null,
   "metadata": {},
   "outputs": [],
   "source": []
  },
  {
   "cell_type": "code",
   "execution_count": null,
   "metadata": {},
   "outputs": [],
   "source": [
    "expected=(501,30,8.02,655,80,4.07,741,20,11.29)\n",
    "params,sigma = fitting_parameters(x,y,expected)\n",
    "fit = gauss_fit(x, params)\n",
    "profile_comp = gauss_peaks(fit,no_freq_bands,freqband)"
   ]
  },
  {
   "cell_type": "code",
   "execution_count": null,
   "metadata": {},
   "outputs": [],
   "source": [
    "plot_fill(x,y,params)"
   ]
  },
  {
   "cell_type": "code",
   "execution_count": null,
   "metadata": {},
   "outputs": [],
   "source": [
    "plot_peaks(x*(360/1024),y,profile_comp)"
   ]
  },
  {
   "cell_type": "markdown",
   "metadata": {
    "colab_type": "text",
    "id": "er13GCy-EUTz"
   },
   "source": [
    "# Gaussian Plotting and Finding Peaks of Data"
   ]
  },
  {
   "cell_type": "markdown",
   "metadata": {
    "colab_type": "text",
    "id": "dUDXQCiVhOyH"
   },
   "source": [
    "The following is a looped version of the previous section to find the correct peaks for each pulse profile"
   ]
  },
  {
   "cell_type": "code",
   "execution_count": null,
   "metadata": {
    "colab": {},
    "colab_type": "code",
    "id": "vJ4G8wv8tQOe"
   },
   "outputs": [],
   "source": [
    "all_components = []"
   ]
  },
  {
   "cell_type": "code",
   "execution_count": null,
   "metadata": {
    "colab": {
     "base_uri": "https://localhost:8080/",
     "height": 239
    },
    "colab_type": "code",
    "id": "MspZDahR4R4P",
    "outputId": "f4193df8-a509-499e-d29e-5b061cfead18"
   },
   "outputs": [],
   "source": [
    "#Taken from Peaks and Gaussian fittings of frequency band 73, in the middle\n",
    "expected=(501,30,8.02,655,80,4.07,741,20,11.29)\n",
    "\n",
    "for i in range(0,no_freq_bands):\n",
    "  freqband = i\n",
    "  \n",
    "  #Can be used for error checking\n",
    "  #print(freqband)\n",
    "\n",
    "  f = averageprofiles['frequency'] == freqband\n",
    "\n",
    "  x=averageprofiles['phase'][f]\n",
    "  y=averageprofiles['intensity'][f]\n",
    "\n",
    "  if len(x)!=0 and len(y)!=0:\n",
    "    params,sigma = fitting_parameters(x,y,expected)\n",
    "    fit = gauss_fit(x, params)\n",
    "    profile_comp = gauss_peaks(fit, no_freq_bands, freqband)\n",
    "\n",
    "    #Can be used for error checking\n",
    "    #print(profile_comp)\n",
    "  \n",
    "    all_components.append(profile_comp)"
   ]
  },
  {
   "cell_type": "markdown",
   "metadata": {
    "colab_type": "text",
    "id": "IGeyAoMhEduw"
   },
   "source": [
    "# Movement of Peak Position over Frequency"
   ]
  },
  {
   "cell_type": "markdown",
   "metadata": {
    "colab_type": "text",
    "id": "KszZ-DmF3pTJ"
   },
   "source": [
    "Starting to graph out all the movement of component phase across frequency\n",
    "\n",
    "---\n",
    "\n"
   ]
  },
  {
   "cell_type": "code",
   "execution_count": null,
   "metadata": {
    "colab": {},
    "colab_type": "code",
    "id": "oLssJVtTtfb2"
   },
   "outputs": [],
   "source": [
    "len(all_components)"
   ]
  },
  {
   "cell_type": "code",
   "execution_count": null,
   "metadata": {
    "colab": {},
    "colab_type": "code",
    "id": "CUJj3cbezRgq"
   },
   "outputs": [],
   "source": [
    "phase_comp1=[]\n",
    "frequency_comp1=[]\n",
    "\n",
    "for i in range(0,len(all_components)):\n",
    "  if all_components[i][1][0] != 0:\n",
    "    phase_comp1.append(all_components[i][1][0])\n",
    "    frequency_comp1.append(all_components[i][0])"
   ]
  },
  {
   "cell_type": "code",
   "execution_count": null,
   "metadata": {
    "colab": {},
    "colab_type": "code",
    "id": "N8lXroZey117"
   },
   "outputs": [],
   "source": [
    "py.plot(phase_comp1,frequency_comp1, '.')\n",
    "py.xlabel('Phase Bin')\n",
    "py.ylabel('Frequency')"
   ]
  },
  {
   "cell_type": "code",
   "execution_count": null,
   "metadata": {
    "colab": {},
    "colab_type": "code",
    "id": "ylBJ8twuzL8g"
   },
   "outputs": [],
   "source": [
    "phase_comp2=[]\n",
    "frequency_comp2=[]\n",
    "\n",
    "for i in range(0,len(all_components)):\n",
    "  if all_components[i][2][0] != 0:\n",
    "    phase_comp2.append(all_components[i][2][0])\n",
    "    frequency_comp2.append(all_components[i][0])"
   ]
  },
  {
   "cell_type": "code",
   "execution_count": null,
   "metadata": {
    "colab": {},
    "colab_type": "code",
    "id": "BaWU8_f424bZ"
   },
   "outputs": [],
   "source": [
    "py.plot(phase_comp2,frequency_comp2, '.')\n",
    "py.xlabel('Phase Bin')\n",
    "py.ylabel('Frequency')"
   ]
  },
  {
   "cell_type": "markdown",
   "metadata": {
    "colab_type": "text",
    "id": "KZFBrw4AEiXX"
   },
   "source": [
    "# Component Separation Across Frequency"
   ]
  },
  {
   "cell_type": "code",
   "execution_count": null,
   "metadata": {
    "colab": {},
    "colab_type": "code",
    "id": "EgEnQbxBujiH"
   },
   "outputs": [],
   "source": [
    "def separation_singleprofile(components_array):\n",
    "  sep_array=[]\n",
    "\n",
    "  for i in range(0,len(components_array)):\n",
    "    if components_array[i][1][0] != 0 and components_array[i][2][0] != 0:\n",
    "    \n",
    "      freq=components_array[i][0]\n",
    "      sep=(components_array[i][2][0]) - (components_array[i][1][0])\n",
    "\n",
    "      single_sep=component_separation(frequency=freq, separation=sep)\n",
    "\n",
    "      sep_array.append(single_sep)\n",
    "\n",
    "  return sep_array"
   ]
  },
  {
   "cell_type": "code",
   "execution_count": null,
   "metadata": {
    "colab": {},
    "colab_type": "code",
    "id": "QlmKKG5sFeMg"
   },
   "outputs": [],
   "source": [
    "component_sep = separation_singleprofile(all_components)"
   ]
  },
  {
   "cell_type": "code",
   "execution_count": null,
   "metadata": {
    "colab": {},
    "colab_type": "code",
    "id": "HDJ-LydcMi7_"
   },
   "outputs": [],
   "source": [
    "component_sep"
   ]
  },
  {
   "cell_type": "code",
   "execution_count": null,
   "metadata": {
    "colab": {},
    "colab_type": "code",
    "id": "pacJRC6tIbBS"
   },
   "outputs": [],
   "source": [
    "comp_sep=[]\n",
    "frequency_forsep=[]\n",
    "\n",
    "#range(0,no_freq_bands)\n",
    "for i in range(0,len(component_sep)):\n",
    "  comp_sep.append(component_sep[i][1])\n",
    "  frequency_forsep.append(component_sep[i][0])"
   ]
  },
  {
   "cell_type": "code",
   "execution_count": null,
   "metadata": {
    "colab": {},
    "colab_type": "code",
    "id": "oE8r2963KMSz"
   },
   "outputs": [],
   "source": [
    "py.plot(frequency_forsep, comp_sep, '.')"
   ]
  },
  {
   "cell_type": "markdown",
   "metadata": {
    "colab_type": "text",
    "id": "pRvVTEsj_64Q"
   },
   "source": [
    "# Attempted Fitting Power Laws to Separation"
   ]
  },
  {
   "cell_type": "code",
   "execution_count": null,
   "metadata": {
    "colab": {},
    "colab_type": "code",
    "id": "Eb9tysocAfn3"
   },
   "outputs": [],
   "source": [
    "expect=(200,0.5,20)\n",
    "sep_params,sep_cov=curve_fit(powerlaw,frequency_forsep,comp_sep, maxfev=1000000)"
   ]
  },
  {
   "cell_type": "code",
   "execution_count": null,
   "metadata": {
    "colab": {},
    "colab_type": "code",
    "id": "hCGGghN8A7BA"
   },
   "outputs": [],
   "source": [
    "print(sep_params)\n",
    "separation_fit = powerlaw(frequency_forsep, *sep_params)"
   ]
  },
  {
   "cell_type": "code",
   "execution_count": null,
   "metadata": {
    "colab": {},
    "colab_type": "code",
    "id": "oY7ok57vApBN"
   },
   "outputs": [],
   "source": [
    "py.plot(frequency_forsep, comp_sep, lw=0.5, label='data')\n",
    "py.plot(frequency_forsep,separation_fit, color='red',lw=1,label='power fit')"
   ]
  },
  {
   "cell_type": "code",
   "execution_count": null,
   "metadata": {
    "colab": {},
    "colab_type": "code",
    "id": "l11_3C1ODT_d"
   },
   "outputs": [],
   "source": [
    "chi, p = sp.stats.chisquare(comp_sep, separation_fit)\n",
    "print(f'The equation of fit for this pulsar is: \\t \\u0394\\u03B8 = {sep_params[0]:.3f} \\u03BD^-{sep_params[1]:.3f} + {sep_params[2]:.3f} \\n')\n",
    "print('The chi squared value for the fit is: ', chi)\n",
    "print('Units for \\u0394\\u03B8 is degrees and \\u03BD is MHz')"
   ]
  },
  {
   "cell_type": "markdown",
   "metadata": {
    "colab_type": "text",
    "id": "jFW8l98xEkXi"
   },
   "source": [
    "# IGNORE - Attempted Fitting Power Laws to Phase"
   ]
  },
  {
   "cell_type": "markdown",
   "metadata": {
    "colab_type": "text",
    "id": "CiorLeQXCvUp"
   },
   "source": [
    "Below is attempts at fitting power laws. Ignore for now."
   ]
  },
  {
   "cell_type": "code",
   "execution_count": null,
   "metadata": {
    "colab": {},
    "colab_type": "code",
    "id": "jVE0F2IP_G7G"
   },
   "outputs": [],
   "source": [
    "def powerlaw(x, A, alpha):\n",
    "  return A * (x**alpha)\n",
    "\n",
    "def powerlawint(x, A, alpha, c):\n",
    "  return ((A*x**(alpha+1))/(alpha+1))+c"
   ]
  },
  {
   "cell_type": "code",
   "execution_count": null,
   "metadata": {
    "colab": {},
    "colab_type": "code",
    "id": "791O9_muAAZ6"
   },
   "outputs": [],
   "source": [
    "expect=[5.72993437e+15, -4.85937668]\n",
    "params,cov=curve_fit(powerlaw,xaxis_comp1,yaxis_comp2, maxfev=10000)\n",
    "#sigma=np.sqrt(np.diag(cov))"
   ]
  },
  {
   "cell_type": "code",
   "execution_count": null,
   "metadata": {
    "colab": {},
    "colab_type": "code",
    "id": "5f8D0JAfAc1D"
   },
   "outputs": [],
   "source": [
    "params"
   ]
  },
  {
   "cell_type": "code",
   "execution_count": null,
   "metadata": {
    "colab": {},
    "colab_type": "code",
    "id": "Q9eOfE3BBCg6"
   },
   "outputs": [],
   "source": [
    "x=range(470,570)"
   ]
  },
  {
   "cell_type": "code",
   "execution_count": null,
   "metadata": {
    "colab": {},
    "colab_type": "code",
    "id": "UJ--vXIwxmHP"
   },
   "outputs": [],
   "source": [
    "py.plot(xaxis_comp1,yaxis_comp1, lw=0.5, label='data')\n",
    "py.plot(x,powerlaw(x, *params), color='red',lw=1,label='power fit')"
   ]
  },
  {
   "cell_type": "code",
   "execution_count": null,
   "metadata": {
    "colab": {},
    "colab_type": "code",
    "id": "Qxe-RpMMx6sC"
   },
   "outputs": [],
   "source": [
    "print(xaxis_comp1)\n",
    "print(yaxis_comp1)\n",
    "print(len(xaxis_comp1))\n",
    "print(len(yaxis_comp1))"
   ]
  },
  {
   "cell_type": "code",
   "execution_count": null,
   "metadata": {
    "colab": {},
    "colab_type": "code",
    "id": "OeDAqnMe5gMW"
   },
   "outputs": [],
   "source": [
    "params,cov=curve_fit(powerlaw,xaxis_comp1_rev,yaxis_comp1_rev, maxfev=10000)\n",
    "#sigma=np.sqrt(np.diag(cov))"
   ]
  },
  {
   "cell_type": "code",
   "execution_count": null,
   "metadata": {
    "colab": {},
    "colab_type": "code",
    "id": "_ufGa3TF-1JX"
   },
   "outputs": [],
   "source": [
    "params"
   ]
  },
  {
   "cell_type": "code",
   "execution_count": null,
   "metadata": {
    "colab": {},
    "colab_type": "code",
    "id": "4Aek0tBjBVfx"
   },
   "outputs": [],
   "source": [
    "x=range(290,560)"
   ]
  },
  {
   "cell_type": "code",
   "execution_count": null,
   "metadata": {
    "colab": {},
    "colab_type": "code",
    "id": "XhbOjv3U-m7w"
   },
   "outputs": [],
   "source": [
    "py.plot(xaxis_comp1_rev,yaxis_comp1_rev, lw=0.5, label='data')\n",
    "py.plot(x,powerlaw(x, *params), color='red',lw=1,label='power fit')"
   ]
  },
  {
   "cell_type": "code",
   "execution_count": null,
   "metadata": {
    "colab": {},
    "colab_type": "code",
    "id": "1PTKTwQL-trv"
   },
   "outputs": [],
   "source": []
  }
 ],
 "metadata": {
  "colab": {
   "collapsed_sections": [],
   "name": "Sub-Pulse Separation.ipynb",
   "provenance": []
  },
  "kernelspec": {
   "display_name": "Python 3",
   "language": "python",
   "name": "python3"
  },
  "language_info": {
   "codemirror_mode": {
    "name": "ipython",
    "version": 3
   },
   "file_extension": ".py",
   "mimetype": "text/x-python",
   "name": "python",
   "nbconvert_exporter": "python",
   "pygments_lexer": "ipython3",
   "version": "3.6.8"
  }
 },
 "nbformat": 4,
 "nbformat_minor": 1
}
