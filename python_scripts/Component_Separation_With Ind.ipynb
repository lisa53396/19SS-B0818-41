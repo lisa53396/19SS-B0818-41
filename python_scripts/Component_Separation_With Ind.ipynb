{
 "cells": [
  {
   "cell_type": "markdown",
   "metadata": {
    "colab_type": "text",
    "id": "4z_feS2dDwlJ"
   },
   "source": [
    "# Importing Packages Needed"
   ]
  },
  {
   "cell_type": "code",
   "execution_count": 1,
   "metadata": {
    "colab": {},
    "colab_type": "code",
    "id": "zJLqZxwce0pN"
   },
   "outputs": [],
   "source": [
    "import numpy as np"
   ]
  },
  {
   "cell_type": "code",
   "execution_count": 2,
   "metadata": {
    "colab": {},
    "colab_type": "code",
    "id": "I-sMZfzHe87d"
   },
   "outputs": [],
   "source": [
    "import scipy as sp"
   ]
  },
  {
   "cell_type": "code",
   "execution_count": 3,
   "metadata": {
    "colab": {},
    "colab_type": "code",
    "id": "osUA_fqWfB8I"
   },
   "outputs": [],
   "source": [
    "import matplotlib.pyplot as py"
   ]
  },
  {
   "cell_type": "code",
   "execution_count": 4,
   "metadata": {
    "colab": {},
    "colab_type": "code",
    "id": "EI8CExhqOkaC"
   },
   "outputs": [],
   "source": [
    "from scipy.optimize import curve_fit"
   ]
  },
  {
   "cell_type": "code",
   "execution_count": 5,
   "metadata": {
    "colab": {},
    "colab_type": "code",
    "id": "FTNsckCiZ_s4"
   },
   "outputs": [],
   "source": [
    "from scipy.signal import find_peaks"
   ]
  },
  {
   "cell_type": "code",
   "execution_count": 6,
   "metadata": {
    "colab": {},
    "colab_type": "code",
    "id": "PUtMS_hIaHat"
   },
   "outputs": [],
   "source": [
    "import collections as col"
   ]
  },
  {
   "cell_type": "code",
   "execution_count": 7,
   "metadata": {},
   "outputs": [],
   "source": [
    "import statistics"
   ]
  },
  {
   "cell_type": "markdown",
   "metadata": {
    "colab_type": "text",
    "id": "FamzMgIcD2xs"
   },
   "source": [
    "# Definition of Named Tuples"
   ]
  },
  {
   "cell_type": "code",
   "execution_count": 8,
   "metadata": {
    "colab": {},
    "colab_type": "code",
    "id": "Uzxt0sq0qeHc"
   },
   "outputs": [],
   "source": [
    "component = col.namedtuple('component','phase intensity')"
   ]
  },
  {
   "cell_type": "code",
   "execution_count": 9,
   "metadata": {
    "colab": {},
    "colab_type": "code",
    "id": "dX49jpTnTzy0"
   },
   "outputs": [],
   "source": [
    "ind_component = col.namedtuple('component','phase intensity width')"
   ]
  },
  {
   "cell_type": "code",
   "execution_count": 10,
   "metadata": {
    "colab": {},
    "colab_type": "code",
    "id": "MdsAp5qWIre5"
   },
   "outputs": [],
   "source": [
    "pulse_component = col.namedtuple('pulse_component','frequency comp1 comp2 errors')"
   ]
  },
  {
   "cell_type": "code",
   "execution_count": 11,
   "metadata": {
    "colab": {},
    "colab_type": "code",
    "id": "xDOdqB5tIrt5"
   },
   "outputs": [],
   "source": [
    "component_separation = col.namedtuple('component_separation','frequency separation')"
   ]
  },
  {
   "cell_type": "markdown",
   "metadata": {
    "colab_type": "text",
    "id": "a8CeXWdQIy8b"
   },
   "source": [
    "# Definition of Functions"
   ]
  },
  {
   "cell_type": "markdown",
   "metadata": {
    "colab_type": "text",
    "id": "nOegi6c8I3gu"
   },
   "source": [
    "Gaussian Fitting Functions:"
   ]
  },
  {
   "cell_type": "code",
   "execution_count": 12,
   "metadata": {
    "colab": {},
    "colab_type": "code",
    "id": "Jf6ae6VTR-iR"
   },
   "outputs": [],
   "source": [
    "def gauss(x,cen,sd,amp):\n",
    "    return amp*np.exp(-(x-cen)**2/2/sd**2)\n",
    "\n",
    "def twogauss(x,cen1,sd1,amp1,cen2,sd2,amp2):\n",
    "    return gauss(x,cen1,sd1,amp1)+gauss(x,cen2,sd2,amp2)\n",
    "\n",
    "def threegauss(x,cen1,sd1,amp1,cen2,sd2,amp2,cen3,sd3,amp3):\n",
    "    return gauss(x,cen1,sd1,amp1)+gauss(x,cen2,sd2,amp2)+gauss(x,cen3,sd3,amp3)"
   ]
  },
  {
   "cell_type": "code",
   "execution_count": 13,
   "metadata": {
    "colab": {},
    "colab_type": "code",
    "id": "zWylwCBKV8SL"
   },
   "outputs": [],
   "source": [
    "def fitting_parameters(x,y,expected):\n",
    "    params,cov=curve_fit(threegauss,x,y,expected, bounds=([0,0,0,0,0,0,0,0,0],[np.inf,np.inf,np.inf,np.inf,np.inf,np.inf,np.inf,np.inf,np.inf]))\n",
    "    sigma=np.sqrt(np.diag(cov))\n",
    "    return params, sigma\n",
    "\n",
    "def gauss_fit(x,params):\n",
    "    return threegauss(x,*params)"
   ]
  },
  {
   "cell_type": "markdown",
   "metadata": {
    "colab_type": "text",
    "id": "Hf__MEBnJEd_"
   },
   "source": [
    "Finding Peak of Fittings Function"
   ]
  },
  {
   "cell_type": "code",
   "execution_count": 14,
   "metadata": {},
   "outputs": [],
   "source": [
    "def which_peaks(params, peakpos, sigma):\n",
    "    errors=[]\n",
    "    if abs(peakpos[0]-params[0])<abs(peakpos[0]-params[1]) and abs(peakpos[0]-params[0])<abs(peakpos[0]-params[2]):\n",
    "        errors.extend((sigma[0],sigma[1],sigma[2]))\n",
    "    elif abs(peakpos[0]-params[1])<abs(peakpos[0]-params[0]) and abs(peakpos[0]-params[1])<abs(peakpos[0]-params[2]):\n",
    "        errors.extend((sigma[3],sigma[4],sigma[5]))\n",
    "    elif abs(peakpos[0]-params[2])<abs(peakpos[0]-params[0]) and abs(peakpos[0]-params[2])<abs(peakpos[0]-params[1]):\n",
    "        errors.extend((sigma[6],sigma[7],sigma[8]))\n",
    "        \n",
    "    if abs(peakpos[1]-params[0])<abs(peakpos[1]-params[1]) and abs(peakpos[1]-params[0])<abs(peakpos[1]-params[2]):\n",
    "        errors.extend((sigma[0],sigma[1],sigma[2]))\n",
    "    elif abs(peakpos[1]-params[1])<abs(peakpos[1]-params[0]) and abs(peakpos[1]-params[1])<abs(peakpos[1]-params[2]):\n",
    "        errors.extend((sigma[3],sigma[4],sigma[5]))\n",
    "    elif abs(peakpos[1]-params[2])<abs(peakpos[1]-params[0]) and abs(peakpos[1]-params[2])<abs(peakpos[1]-params[1]):\n",
    "        errors.extend((sigma[6],sigma[7],sigma[8]))\n",
    "        \n",
    "    return errors"
   ]
  },
  {
   "cell_type": "code",
   "execution_count": 15,
   "metadata": {
    "colab": {},
    "colab_type": "code",
    "id": "iIp9ZS-sZYIZ"
   },
   "outputs": [],
   "source": [
    "def gauss_peaks_gmrt(params,fit, nofreqband, freqband, sigma):\n",
    "    status='starting'\n",
    "      \n",
    "    #Find the peaks of the fit\n",
    "    i=3\n",
    "    peakpos = find_peaks(fit, prominence=i, distance=50, height=i)[0]\n",
    "\n",
    "    #If there aren't two peaks, adjust prominence to find two peaks\n",
    "    while len(peakpos) !=2 and i>=0.5:\n",
    "        if len(peakpos) < 2:\n",
    "            i=i-0.5\n",
    "            peakpos = find_peaks(fit, prominence=i, distance=50, height=1)[0]\n",
    "\n",
    "        elif len(peakpos) > 2:\n",
    "            i=i+0.5\n",
    "            peakpos = find_peaks(fit, prominence=i, distance=50, height=2)[0]\n",
    "\n",
    "    #Ensure peaks are ordered correctly\n",
    "    if len(peakpos) == 2:\n",
    "        status='pending'\n",
    "        sigma=which_peaks(params,peakpos,sigma)\n",
    "        \n",
    "        if peakpos[0]>=300 and peakpos[0]<=600 and peakpos[1]>=600 and peakpos[1]<=900:\n",
    "            status='complete'\n",
    "        elif peakpos[1]>=300 and peakpos[1]<=600 and peakpos[0]>=600 and peakpos[0]<=900:\n",
    "            temp=peakpos[1]\n",
    "            peakpos[1]=peakpos[0]\n",
    "            peakpos[0]=temp\n",
    "            \n",
    "            temp2=sigma[0:3]\n",
    "            del sigma[0:3]\n",
    "            sigma.append(temp2)\n",
    "            status='complete'\n",
    "            \n",
    "            \n",
    "        else:\n",
    "            status='error'\n",
    "    else:\n",
    "        status='error'\n",
    "\n",
    "    #Assign the peaks to the correct component label\n",
    "    if status=='complete':\n",
    "        component1 = component(phase=(360/1024)*peakpos[0], intensity=fit[peakpos[0]])\n",
    "        component2 = component(phase=(360/1024)*peakpos[1], intensity=fit[peakpos[1]])\n",
    "        errors = (360/1024)*np.array(sigma)\n",
    "    elif status=='error':\n",
    "        component1 = component(phase=0, intensity=0)\n",
    "        component2 = component(phase=0, intensity=0)\n",
    "        errors = 0\n",
    "    else:\n",
    "        print(\"Error: Something not complete in peak finding\")\n",
    "\n",
    "    freq=(((500-300)/nofreqband)*(nofreqband-freqband))+300 \n",
    "\n",
    "    profile_comp = pulse_component(frequency=freq, comp1=component1, comp2=component2, errors=sigma)\n",
    "\n",
    "    return profile_comp"
   ]
  },
  {
   "cell_type": "code",
   "execution_count": 16,
   "metadata": {},
   "outputs": [],
   "source": [
    "def gauss_peaks_epta(params,fit, nofreqband, freqband, sigma):\n",
    "    status='starting'\n",
    "      \n",
    "    #Find the peaks of the fit\n",
    "    i=3\n",
    "    peakpos = find_peaks(fit, prominence=i, distance=50, height=i)[0]\n",
    "\n",
    "    #If there aren't two peaks, adjust prominence to find two peaks\n",
    "    while len(peakpos) !=2 and i>=0.2 and i<10:\n",
    "        if len(peakpos) < 2:\n",
    "            i=i-0.2\n",
    "            peakpos = find_peaks(fit, prominence=i, distance=50, height=1)[0]\n",
    "        elif len(peakpos) > 2:\n",
    "            i=i+0.2\n",
    "            peakpos = find_peaks(fit, prominence=i, distance=50, height=2)[0]\n",
    "\n",
    "            \n",
    "            \n",
    "    #Assign the peaks to the correct component label\n",
    "    component1 = component(phase=(360/1024)*peakpos[0], intensity=fit[peakpos[0]])\n",
    "    component2 = component(phase=(360/1024)*peakpos[1], intensity=fit[peakpos[1]])\n",
    "    sigma=which_peaks(params, peakpos, sigma)\n",
    "    errors=np.array(sigma)*(360/1024)\n",
    "\n",
    "    freq=1396 \n",
    "\n",
    "    profile_comp = pulse_component(frequency=freq, comp1=component1, comp2=component2, errors=sigma)\n",
    "\n",
    "    return profile_comp"
   ]
  },
  {
   "cell_type": "code",
   "execution_count": 17,
   "metadata": {},
   "outputs": [],
   "source": [
    "def gauss_peaks_mwa(params,fit, nofreqband, freqband, sigma):\n",
    "    status='starting'\n",
    "      \n",
    "    #Find the peaks of the fit\n",
    "    i=1000\n",
    "    peakpos = find_peaks(fit, prominence=i, distance=5, height=i)[0]\n",
    "\n",
    "    #If there aren't two peaks, adjust prominence to find two peaks\n",
    "    while len(peakpos) !=2 and i>=100 and i<100000:\n",
    "        if len(peakpos) < 2:\n",
    "            i=i-100\n",
    "            peakpos = find_peaks(fit, prominence=i, distance=5, height=1)[0]\n",
    "        elif len(peakpos) > 2:\n",
    "            i=i+100\n",
    "            peakpos = find_peaks(fit, prominence=i, distance=5, height=2)[0]\n",
    "\n",
    "    #Assign the peaks to the correct component label\n",
    "    component1 = component(phase=(360/64)*peakpos[0], intensity=fit[peakpos[0]])\n",
    "    component2 = component(phase=(360/64)*peakpos[1], intensity=fit[peakpos[1]])\n",
    "    sigma = which_peaks(params, peakpos, sigma)\n",
    "    errors = np.array(sigma)*(360/64)\n",
    "\n",
    "    freq=185\n",
    "\n",
    "    profile_comp = pulse_component(frequency=freq, comp1=component1, comp2=component2, errors=sigma)\n",
    "\n",
    "    return profile_comp"
   ]
  },
  {
   "cell_type": "code",
   "execution_count": 18,
   "metadata": {
    "colab": {},
    "colab_type": "code",
    "id": "45qhxkFmSYy2"
   },
   "outputs": [],
   "source": [
    "def ind_peaks(params, nofreqband, freqband, sigma):\n",
    "    status='starting'\n",
    "    uncert=[]\n",
    "\n",
    "    if params[0]<params[3] and params[0]<params[6] and params[0]>=300 and params[0]<=535:\n",
    "        component1 = ind_component(phase=(360/1024)*params[0], intensity=params[1], width=params[2])\n",
    "        uncert.extend((sigma[0], sigma[1], sigma[2]))\n",
    "        status='complete'\n",
    "    elif params[3]<params[0] and params[3]<params[6] and params[3]>=300 and params[3]<=535:\n",
    "        component1 = ind_component(phase=(360/1024)*params[3], intensity=params[4], width=params[5])\n",
    "        uncert.extend((sigma[3], sigma[4], sigma[5]))\n",
    "        status='complete'\n",
    "    elif params[6]<params[0] and params[6]<params[3] and params[6]>=300 and params[6]<=535:\n",
    "        component1 = ind_component(phase=(360/1024)*params[6], intensity=params[7], width=params[8])\n",
    "        uncert.extend((sigma[6], sigma[7], sigma[8]))\n",
    "        status='complete'\n",
    "    else:\n",
    "        component1 = ind_component(phase=0, intensity=0, width=0)\n",
    "        uncert.extend((0,0,0))\n",
    "        status='error'\n",
    "\n",
    "    if params[0]>params[3] and params[0]>params[6] and params[0]>=650 and params[0]<=800:\n",
    "        component2 = ind_component(phase=(360/1024)*params[0], intensity=params[1], width=params[2])\n",
    "        uncert.extend((sigma[0], sigma[1], sigma[2]))\n",
    "        status='complete'\n",
    "    elif params[3]>params[0] and params[3]>params[6] and params[3]>=650 and params[3]<=800:\n",
    "        component2 = ind_component(phase=(360/1024)*params[3], intensity=params[4], width=params[5])\n",
    "        uncert.extend((sigma[3], sigma[4], sigma[5]))\n",
    "        status='complete'\n",
    "    elif params[6]>params[0] and params[6]>params[3] and params[6]>=650 and params[6]<=800:\n",
    "        component2 = ind_component(phase=(360/1024)*params[6], intensity=params[7], width=params[8])\n",
    "        uncert.extend((sigma[6], sigma[7], sigma[8]))\n",
    "        status='complete'\n",
    "    else:\n",
    "        component2 = ind_component(phase=0, intensity=0, width=0)\n",
    "        uncert.extend((0,0,0))\n",
    "        status='error'\n",
    "\n",
    "    freq=(((500-300)/nofreqband)*(nofreqband-freqband))+300 \n",
    "\n",
    "    profile_comp = pulse_component(frequency=freq, comp1=component1, comp2=component2, errors=uncert)\n",
    "\n",
    "  #Can be used for error checking\n",
    "  #if status != 'error':\n",
    "    #plot_peaks(x,y,profile_comp)\n",
    "\n",
    "    return profile_comp"
   ]
  },
  {
   "cell_type": "markdown",
   "metadata": {},
   "source": [
    "Removing outliers"
   ]
  },
  {
   "cell_type": "code",
   "execution_count": 19,
   "metadata": {},
   "outputs": [],
   "source": [
    "\"\"\"\n",
    "    Removing outliers operation\n",
    "    Used to remove outliers above the 0.9 or below the 0.1 quartile for components 1 and 2. \n",
    "    Also removes points with high errors.\n",
    "\"\"\"\n",
    "def detect_outlier(frequency_comp, phase_comp, comp_err):\n",
    "    phase=[]\n",
    "    frequency=[]\n",
    "    err=[]\n",
    "    \n",
    "    threshold=2\n",
    "    mean_1 = np.mean(phase_comp)\n",
    "    std_1 =np.std(phase_comp)\n",
    "    \n",
    "    \n",
    "    for i in range(len(phase_comp)):\n",
    "        z_score= (phase_comp[i] - mean_1)/std_1 \n",
    "        if np.abs(z_score) < threshold and comp_err[i]<2.5:\n",
    "            phase.append(phase_comp[i])\n",
    "            frequency.append(frequency_comp[i])\n",
    "            err.append(comp_err[i])\n",
    "    return frequency, phase, err"
   ]
  },
  {
   "cell_type": "markdown",
   "metadata": {
    "colab_type": "text",
    "id": "4P1qFLYpI9hB"
   },
   "source": [
    "Plotting Fittings Functions"
   ]
  },
  {
   "cell_type": "code",
   "execution_count": 20,
   "metadata": {
    "colab": {},
    "colab_type": "code",
    "id": "gPhqw8WaI8pp"
   },
   "outputs": [],
   "source": [
    "def plot_fit(x,y,fit,params,sigma):\n",
    "    py.plot(x, y, lw=0.5, label='data')\n",
    "    py.plot(x,fit, color='red',lw=3,label='gaussian fit')\n",
    "    py.xlabel('Phase Bin')\n",
    "    py.ylabel('Intensity')\n",
    "    py.legend()\n",
    "    return"
   ]
  },
  {
   "cell_type": "code",
   "execution_count": 21,
   "metadata": {
    "colab": {},
    "colab_type": "code",
    "id": "NmHjFzTFith2"
   },
   "outputs": [],
   "source": [
    "def plot_fill(x,y,params):\n",
    "    params1 = params[0:3]\n",
    "    params2 = params[3:6]\n",
    "    params3 = params[6:9]\n",
    "    gfit1 = gauss(x, *params1)\n",
    "    gfit2 = gauss(x, *params2)\n",
    "    gfit3 = gauss(x, *params3)\n",
    "\n",
    "\n",
    "    py.plot(x, y, lw=0.5, label='data')\n",
    "    py.plot(x,fit,color='red',lw=3,label='gaussian fit')\n",
    "    py.xlabel('Phase Bin')\n",
    "    py.ylabel('Intensity')\n",
    "    py.legend()\n",
    "\n",
    "    py.plot(x, gfit1, \"g\")\n",
    "    py.fill_between(x, gfit1.min(), gfit1, facecolor=\"green\", alpha=0.5)\n",
    "  \n",
    "    py.plot(x, gfit2, \"y\")\n",
    "    py.fill_between(x, gfit2.min(), gfit2, facecolor=\"yellow\", alpha=0.5)\n",
    "\n",
    "    py.plot(x, gfit3, \"b\")\n",
    "    py.fill_between(x, gfit3.min(), gfit3, facecolor=\"blue\", alpha=0.5)\n",
    "\n",
    "    return "
   ]
  },
  {
   "cell_type": "code",
   "execution_count": 22,
   "metadata": {
    "colab": {},
    "colab_type": "code",
    "id": "b6Y_oMHJbEEz"
   },
   "outputs": [],
   "source": [
    "def plot_peaks(x,y,profile_comp):\n",
    "    py.plot(x,y, lw=1)\n",
    "    py.plot(x, fit, color='red', lw=3, label='gaussian fit')\n",
    "\n",
    "    x=[profile_comp[i][0] for i in range(1,3)]\n",
    "    y=[profile_comp[i][1] for i in range(1,3)]\n",
    "\n",
    "    py.plot(x, y ,'X', markerfacecolor='black', markeredgecolor='black', label='peaks')\n",
    "\n",
    "    py.xlabel('Phase (deg)')\n",
    "    py.ylabel('Intensity')\n",
    "    py.legend()\n",
    "    return"
   ]
  },
  {
   "cell_type": "markdown",
   "metadata": {
    "colab_type": "text",
    "id": "L_oE3uFcsKkA"
   },
   "source": [
    "Functions for Fitting Separation Data"
   ]
  },
  {
   "cell_type": "code",
   "execution_count": 23,
   "metadata": {
    "colab": {},
    "colab_type": "code",
    "id": "EgEnQbxBujiH"
   },
   "outputs": [],
   "source": [
    "def separation_singleprofile(components_array):\n",
    "    sep_array=[]\n",
    "    uncert=[]\n",
    "\n",
    "    for i in range(0,len(components_array)):\n",
    "        if components_array[i][1][0] != 0 and components_array[i][2][0] != 0:\n",
    "            freq=components_array[i][0]\n",
    "            sep=(components_array[i][2][0]) - (components_array[i][1][0])\n",
    "\n",
    "            single_sep=component_separation(frequency=freq, separation=sep)\n",
    "\n",
    "            sep_array.append(single_sep)\n",
    "\n",
    "            uncert.append(np.sqrt((components_array[i][3][0])**2 + (components_array[i][3][3])**2))\n",
    "      \n",
    "    return sep_array, uncert"
   ]
  },
  {
   "cell_type": "code",
   "execution_count": 24,
   "metadata": {
    "colab": {},
    "colab_type": "code",
    "id": "_V1yQ0U5__mq"
   },
   "outputs": [],
   "source": [
    "def thorsett(x, A, alpha, smin):\n",
    "    return (A * (x**(alpha)) + smin)"
   ]
  },
  {
   "cell_type": "markdown",
   "metadata": {
    "colab_type": "text",
    "id": "HsEW4YA0D-QH"
   },
   "source": [
    "# Importing Data"
   ]
  },
  {
   "cell_type": "markdown",
   "metadata": {
    "colab_type": "text",
    "id": "5aCGkE3ZYbBM"
   },
   "source": [
    "Data must be in text file format from software pdv.\n",
    "Also must contain time scrunched data so that the first column of numbers is always 0 (only one pulse). "
   ]
  },
  {
   "cell_type": "code",
   "execution_count": 25,
   "metadata": {
    "colab": {},
    "colab_type": "code",
    "id": "4ieR-2IlfGA_"
   },
   "outputs": [],
   "source": [
    "fulldatatype=([('pulse','i8'),('frequency','i8'),('phase','i8'),('intensity','f8')])"
   ]
  },
  {
   "cell_type": "code",
   "execution_count": 26,
   "metadata": {
    "colab": {},
    "colab_type": "code",
    "id": "o9kgY0kqfIrQ"
   },
   "outputs": [],
   "source": [
    "averageprofiles = np.loadtxt(fname='../archivefiles/com_archivefiles/pdv/J0820_s_f28_T_pazi.pdv', dtype=fulldatatype)"
   ]
  },
  {
   "cell_type": "code",
   "execution_count": 27,
   "metadata": {
    "colab": {},
    "colab_type": "code",
    "id": "Wfp5R_xond9z"
   },
   "outputs": [],
   "source": [
    "no_freq_bands = max(averageprofiles['frequency'])+1"
   ]
  },
  {
   "cell_type": "markdown",
   "metadata": {},
   "source": [
    "Extra data from other places"
   ]
  },
  {
   "cell_type": "code",
   "execution_count": 28,
   "metadata": {},
   "outputs": [],
   "source": [
    "highfrequencyprofile = np.loadtxt(fname='../archivefiles/extra_data/J0820-4114.1400MHz.txt', dtype=fulldatatype)"
   ]
  },
  {
   "cell_type": "code",
   "execution_count": 29,
   "metadata": {},
   "outputs": [],
   "source": [
    "mwaprofile = np.loadtxt(fname='../archivefiles/extra_data/1139239952_ch133-156_0001_PSR_J0820-4114.pfd.bestprof.txt', dtype=fulldatatype)"
   ]
  },
  {
   "cell_type": "markdown",
   "metadata": {
    "colab_type": "text",
    "id": "eKWvXxMcEIfE"
   },
   "source": [
    "# Gaussian Plotting of Individual Frequency Band - Used for error checking individual frequency bands"
   ]
  },
  {
   "cell_type": "markdown",
   "metadata": {
    "colab_type": "text",
    "id": "MVQ_pgyRnofm"
   },
   "source": [
    "Choosing Frequency Band. Following Section is for error checking:"
   ]
  },
  {
   "cell_type": "code",
   "execution_count": 97,
   "metadata": {
    "colab": {},
    "colab_type": "code",
    "id": "mcIptVeffJXA"
   },
   "outputs": [],
   "source": [
    "freqband = 11\n",
    "f = averageprofiles['frequency'] == freqband"
   ]
  },
  {
   "cell_type": "code",
   "execution_count": 98,
   "metadata": {
    "colab": {},
    "colab_type": "code",
    "id": "o9L0EPsL2JrT"
   },
   "outputs": [],
   "source": [
    "phase=averageprofiles['phase'][f]\n",
    "intensity=averageprofiles['intensity'][f]"
   ]
  },
  {
   "cell_type": "markdown",
   "metadata": {
    "colab_type": "text",
    "id": "2hhQErp8ntli"
   },
   "source": [
    "Gaussian Plots"
   ]
  },
  {
   "cell_type": "code",
   "execution_count": 99,
   "metadata": {
    "colab": {},
    "colab_type": "code",
    "id": "MvBudOjXY1DT"
   },
   "outputs": [],
   "source": [
    "x = phase\n",
    "y = intensity"
   ]
  },
  {
   "cell_type": "code",
   "execution_count": 100,
   "metadata": {
    "colab": {
     "base_uri": "https://localhost:8080/",
     "height": 35
    },
    "colab_type": "code",
    "id": "-I5g-Wtoqa_l",
    "outputId": "6c926b6f-a6b6-4303-e637-48a2cc0a15fb"
   },
   "outputs": [
    {
     "data": {
      "text/plain": [
       "1024"
      ]
     },
     "execution_count": 100,
     "metadata": {},
     "output_type": "execute_result"
    }
   ],
   "source": [
    "len(y)"
   ]
  },
  {
   "cell_type": "code",
   "execution_count": 101,
   "metadata": {
    "colab": {},
    "colab_type": "code",
    "id": "dFRIxynhSAws"
   },
   "outputs": [],
   "source": [
    "#Taken from Peaks and Gaussian fittings of frequency band 73\n",
    "expected=(501,30,8.02,655,80,4.07,741,20,11.29)\n",
    "#expected=(210,30,38000,350,80,30000,450,20,38000)"
   ]
  },
  {
   "cell_type": "code",
   "execution_count": 102,
   "metadata": {
    "colab": {},
    "colab_type": "code",
    "id": "nvTDzWP-WMAh"
   },
   "outputs": [
    {
     "name": "stdout",
     "output_type": "stream",
     "text": [
      "[ 1.975349    2.39613615  0.22173991  9.30101657 14.3539218   0.0599043\n",
      "  1.44629373  2.52706451  0.26160313]\n",
      "[ 1.975349    2.39613615  0.22173991  9.30101657 14.3539218   0.0599043\n",
      "  1.44629373  2.52706451  0.26160313]\n"
     ]
    }
   ],
   "source": [
    "params,sigma = fitting_parameters(x,y,expected)\n",
    "print(sigma)\n",
    "fit = gauss_fit(x, params)\n",
    "profile_comp = gauss_peaks_gmrt(params,fit,no_freq_bands,freqband,sigma)\n",
    "print(sigma)"
   ]
  },
  {
   "cell_type": "code",
   "execution_count": 103,
   "metadata": {},
   "outputs": [
    {
     "data": {
      "text/plain": [
       "array([ 1.975349  ,  2.39613615,  0.22173991,  9.30101657, 14.3539218 ,\n",
       "        0.0599043 ,  1.44629373,  2.52706451,  0.26160313])"
      ]
     },
     "execution_count": 103,
     "metadata": {},
     "output_type": "execute_result"
    }
   ],
   "source": [
    "sigma"
   ]
  },
  {
   "cell_type": "code",
   "execution_count": 36,
   "metadata": {
    "colab": {
     "base_uri": "https://localhost:8080/",
     "height": 279
    },
    "colab_type": "code",
    "id": "3im4-cMCZVSR",
    "outputId": "4448ecbd-cb0d-43ca-ee79-44e44b20c402"
   },
   "outputs": [
    {
     "data": {
      "image/png": "[encoded data removed]",
      "text/plain": [
       "<matplotlib.figure.Figure at 0x7f013f54eba8>"
      ]
     },
     "metadata": {},
     "output_type": "display_data"
    }
   ],
   "source": [
    "plot_fit(x,y,fit,params,sigma)"
   ]
  },
  {
   "cell_type": "code",
   "execution_count": 37,
   "metadata": {
    "colab": {
     "base_uri": "https://localhost:8080/",
     "height": 279
    },
    "colab_type": "code",
    "id": "vZAjg5geZVkC",
    "outputId": "140132f9-2e27-4888-d3e3-a91c901affe6"
   },
   "outputs": [
    {
     "data": {
      "image/png": "[encoded data removed]",
      "text/plain": [
       "<matplotlib.figure.Figure at 0x7f013e291080>"
      ]
     },
     "metadata": {},
     "output_type": "display_data"
    }
   ],
   "source": [
    "plot_fill(x,y,params)"
   ]
  },
  {
   "cell_type": "code",
   "execution_count": 38,
   "metadata": {
    "colab": {
     "base_uri": "https://localhost:8080/",
     "height": 279
    },
    "colab_type": "code",
    "id": "mmZe3OBoZ8rn",
    "outputId": "f4fbbdb4-6a61-4b32-a144-7e3e202771b4"
   },
   "outputs": [
    {
     "data": {
      "image/png": "[encoded data removed]",
      "text/plain": [
       "<matplotlib.figure.Figure at 0x7f013ecbb4a8>"
      ]
     },
     "metadata": {},
     "output_type": "display_data"
    }
   ],
   "source": [
    "plot_peaks(x*(360/1024),y,profile_comp)"
   ]
  },
  {
   "cell_type": "code",
   "execution_count": 39,
   "metadata": {
    "colab": {
     "base_uri": "https://localhost:8080/",
     "height": 53
    },
    "colab_type": "code",
    "id": "r4583s7PwhXY",
    "outputId": "da716336-2c38-4965-abe7-830903180401"
   },
   "outputs": [
    {
     "data": {
      "text/plain": [
       "pulse_component(frequency=484.93150684931504, comp1=component(phase=181.7578125, intensity=2.7785764111146305), comp2=component(phase=259.8046875, intensity=3.0551324919759235), errors=[1.9753490033776822, 2.396136154113333, 0.2217399135556661, 1.9753490033776822, 2.396136154113333, 0.2217399135556661])"
      ]
     },
     "execution_count": 39,
     "metadata": {},
     "output_type": "execute_result"
    }
   ],
   "source": [
    "profile_comp"
   ]
  },
  {
   "cell_type": "markdown",
   "metadata": {},
   "source": [
    "#### For the EPTA data set"
   ]
  },
  {
   "cell_type": "code",
   "execution_count": 40,
   "metadata": {},
   "outputs": [],
   "source": [
    "phase=highfrequencyprofile['phase']\n",
    "intensity=highfrequencyprofile['intensity']\n",
    "x = phase\n",
    "y=[]"
   ]
  },
  {
   "cell_type": "code",
   "execution_count": 41,
   "metadata": {},
   "outputs": [],
   "source": [
    "m=statistics.mean(intensity[600:])"
   ]
  },
  {
   "cell_type": "code",
   "execution_count": 42,
   "metadata": {},
   "outputs": [],
   "source": [
    "for i in intensity:\n",
    "    y.append(i-m)"
   ]
  },
  {
   "cell_type": "code",
   "execution_count": 43,
   "metadata": {},
   "outputs": [],
   "source": [
    "#Taken from Peaks and Gaussian fittings of frequency band 73\n",
    "expected=(270,30,25,370,80,20,470,20,20)"
   ]
  },
  {
   "cell_type": "code",
   "execution_count": 44,
   "metadata": {},
   "outputs": [],
   "source": [
    "params,sigma = fitting_parameters(x,y,expected)\n",
    "fit = gauss_fit(x, params)\n",
    "profile_comp = gauss_peaks_epta(params,fit,no_freq_bands,freqband,sigma)"
   ]
  },
  {
   "cell_type": "code",
   "execution_count": 45,
   "metadata": {},
   "outputs": [
    {
     "data": {
      "image/png": "[encoded data removed]",
      "text/plain": [
       "<matplotlib.figure.Figure at 0x7f013f4f5400>"
      ]
     },
     "metadata": {},
     "output_type": "display_data"
    }
   ],
   "source": [
    "plot_fill(x,y,params)"
   ]
  },
  {
   "cell_type": "code",
   "execution_count": 46,
   "metadata": {},
   "outputs": [
    {
     "data": {
      "image/png": "[encoded data removed]",
      "text/plain": [
       "<matplotlib.figure.Figure at 0x7f013e30d5c0>"
      ]
     },
     "metadata": {},
     "output_type": "display_data"
    }
   ],
   "source": [
    "plot_peaks(x*(360/1024),y,profile_comp)"
   ]
  },
  {
   "cell_type": "markdown",
   "metadata": {},
   "source": [
    "#### MWA Data Set"
   ]
  },
  {
   "cell_type": "code",
   "execution_count": 47,
   "metadata": {},
   "outputs": [],
   "source": [
    "phase=mwaprofile['phase']\n",
    "intensity=mwaprofile['intensity']\n",
    "x = phase\n",
    "y=[]\n"
   ]
  },
  {
   "cell_type": "code",
   "execution_count": 48,
   "metadata": {},
   "outputs": [],
   "source": [
    "m=statistics.mean(intensity[10:30])"
   ]
  },
  {
   "cell_type": "code",
   "execution_count": 49,
   "metadata": {},
   "outputs": [],
   "source": [
    "for i in intensity:\n",
    "    y.append(i-m)"
   ]
  },
  {
   "cell_type": "code",
   "execution_count": 50,
   "metadata": {},
   "outputs": [],
   "source": [
    "expected=(37,7,2*10**7,46,5,0.3*10**7,56,5,3.6*10**7)"
   ]
  },
  {
   "cell_type": "code",
   "execution_count": 51,
   "metadata": {},
   "outputs": [],
   "source": [
    "params,sigma = fitting_parameters(x,y,expected)\n",
    "fit = gauss_fit(x, params)\n",
    "profile_comp = gauss_peaks_mwa(params, fit,no_freq_bands,freqband,sigma)"
   ]
  },
  {
   "cell_type": "code",
   "execution_count": 52,
   "metadata": {},
   "outputs": [
    {
     "data": {
      "image/png": "[encoded data removed]",
      "text/plain": [
       "<matplotlib.figure.Figure at 0x7f013e2da630>"
      ]
     },
     "metadata": {},
     "output_type": "display_data"
    }
   ],
   "source": [
    "plot_fill(x,y,params)"
   ]
  },
  {
   "cell_type": "code",
   "execution_count": 53,
   "metadata": {},
   "outputs": [
    {
     "data": {
      "image/png": "[encoded data removed]",
      "text/plain": [
       "<matplotlib.figure.Figure at 0x7f013f4a1d68>"
      ]
     },
     "metadata": {},
     "output_type": "display_data"
    }
   ],
   "source": [
    "plot_peaks(x*(360/64),y,profile_comp)"
   ]
  },
  {
   "cell_type": "markdown",
   "metadata": {
    "colab_type": "text",
    "id": "er13GCy-EUTz"
   },
   "source": [
    "# Gaussian Plotting and Finding Peaks of Overall Fit Data (fit_components) and Individual Fit Data (ind_components)\n"
   ]
  },
  {
   "cell_type": "markdown",
   "metadata": {
    "colab_type": "text",
    "id": "dUDXQCiVhOyH"
   },
   "source": [
    "The following is a looped version of the previous section to find the correct peaks for each pulse profile"
   ]
  },
  {
   "cell_type": "code",
   "execution_count": 54,
   "metadata": {
    "colab": {},
    "colab_type": "code",
    "id": "vJ4G8wv8tQOe"
   },
   "outputs": [],
   "source": [
    "fit_components = []\n",
    "ind_components= []"
   ]
  },
  {
   "cell_type": "code",
   "execution_count": 55,
   "metadata": {
    "colab": {},
    "colab_type": "code",
    "id": "MspZDahR4R4P"
   },
   "outputs": [],
   "source": [
    "#Taken from Peaks and Gaussian fittings of frequency band 73, in the middle\n",
    "expected=(501,30,8.02,655,80,4.07,741,20,11.29)\n",
    "\n",
    "for i in range(0,no_freq_bands):\n",
    "    freqband = i\n",
    "  \n",
    "  #Can be used for error checking\n",
    "  #print(freqband)\n",
    "\n",
    "    f = averageprofiles['frequency'] == freqband\n",
    "\n",
    "    x=averageprofiles['phase'][f]\n",
    "    y=averageprofiles['intensity'][f]\n",
    "\n",
    "    if len(x)!=0 and len(y)!=0:\n",
    "        params,sigma = fitting_parameters(x,y,expected)\n",
    "        fit = gauss_fit(x, params)\n",
    "        profile_comp = gauss_peaks_gmrt(params, fit, no_freq_bands, freqband, sigma)\n",
    "        profile_ind = ind_peaks(params, no_freq_bands, freqband, sigma)\n",
    "\n",
    "    #Can be used for error checking\n",
    "    #print(profile_comp)\n",
    "  \n",
    "        fit_components.append(profile_comp)\n",
    "        ind_components.append(profile_ind)"
   ]
  },
  {
   "cell_type": "code",
   "execution_count": 56,
   "metadata": {},
   "outputs": [],
   "source": [
    "expected=(270,30,25,370,80,20,470,20,20)\n",
    "\n",
    "phase=highfrequencyprofile['phase']\n",
    "intensity=highfrequencyprofile['intensity']\n",
    "x = phase\n",
    "y=[]\n",
    "\n",
    "m=statistics.mean(intensity[600:])\n",
    "\n",
    "for i in intensity:\n",
    "    y.append(i-m)\n",
    "\n",
    "if len(x)!=0 and len(y)!=0:\n",
    "    params,sigma = fitting_parameters(x,y,expected)\n",
    "    fit = gauss_fit(x, params)\n",
    "    profile_compsh = gauss_peaks_epta(params,fit, no_freq_bands, freqband, sigma)\n",
    "\n",
    "    #Can be used for error checking\n",
    "    #print(profile_comp)"
   ]
  },
  {
   "cell_type": "code",
   "execution_count": 57,
   "metadata": {},
   "outputs": [],
   "source": [
    "#Taken from Peaks and Gaussian fittings of frequency band 73, in the middle\n",
    "expected=(37,7,2*10**7,46,5,0.3*10**7,56,5,3.6*10**7)\n",
    "\n",
    "phase=mwaprofile['phase']\n",
    "intensity=mwaprofile['intensity']\n",
    "x = phase\n",
    "y=[]\n",
    "\n",
    "m=statistics.mean(intensity[10:30])\n",
    "\n",
    "for i in intensity:\n",
    "    y.append(i-m)\n",
    "\n",
    "if len(x)!=0 and len(y)!=0:\n",
    "    params,sigma = fitting_parameters(x,y,expected)\n",
    "    fit = gauss_fit(x, params)\n",
    "    profile_compm = gauss_peaks_mwa(params, fit,no_freq_bands,freqband,sigma)\n",
    "\n",
    "    #Can be used for error checking\n",
    "    #print(profile_comp)"
   ]
  },
  {
   "cell_type": "markdown",
   "metadata": {
    "colab_type": "text",
    "id": "6a03g77-gZa5"
   },
   "source": [
    "# Change of Peak Position over Frequency"
   ]
  },
  {
   "cell_type": "markdown",
   "metadata": {
    "colab_type": "text",
    "id": "IGeyAoMhEduw"
   },
   "source": [
    "## Fit Peaks (fit_components)"
   ]
  },
  {
   "cell_type": "markdown",
   "metadata": {
    "colab_type": "text",
    "id": "KszZ-DmF3pTJ"
   },
   "source": [
    "Starting to graph out all the movement of component phase across frequency\n",
    "\n",
    "---\n",
    "\n"
   ]
  },
  {
   "cell_type": "code",
   "execution_count": 58,
   "metadata": {
    "colab": {},
    "colab_type": "code",
    "id": "CUJj3cbezRgq"
   },
   "outputs": [],
   "source": [
    "phase_comp1=[]\n",
    "frequency_comp1=[]\n",
    "comp1_err=[]\n",
    "\n",
    "for i in range(0,len(fit_components)):\n",
    "    if fit_components[i][1][0] != 0:\n",
    "        phase_comp1.append(fit_components[i][1][0])\n",
    "        frequency_comp1.append(fit_components[i][0])\n",
    "        comp1_err.append(fit_components[i][3][0])"
   ]
  },
  {
   "cell_type": "code",
   "execution_count": 59,
   "metadata": {
    "colab": {
     "base_uri": "https://localhost:8080/"
    },
    "colab_type": "code",
    "id": "N8lXroZey117",
    "outputId": "8321d6fb-90a5-49c6-bda7-b25cc8ee3845"
   },
   "outputs": [
    {
     "data": {
      "text/plain": [
       "Text(0,0.5,'Frequency')"
      ]
     },
     "execution_count": 59,
     "metadata": {},
     "output_type": "execute_result"
    },
    {
     "data": {
      "image/png": "[encoded data removed]",
      "text/plain": [
       "<matplotlib.figure.Figure at 0x7f013f3e29e8>"
      ]
     },
     "metadata": {},
     "output_type": "display_data"
    }
   ],
   "source": [
    "#py.plot(frequency_comp1,phase_comp1, '.')\n",
    "py.errorbar(phase_comp1,frequency_comp1, xerr=comp1_err, fmt='.', lw=0.5, label='data')\n",
    "py.title('Component 1 - Position')\n",
    "py.xlabel('Phase (deg))')\n",
    "py.ylabel('Frequency')"
   ]
  },
  {
   "cell_type": "code",
   "execution_count": 60,
   "metadata": {},
   "outputs": [],
   "source": [
    "frequency_comp1, phase_comp1, comp1_err = detect_outlier(frequency_comp1, phase_comp1, comp1_err)"
   ]
  },
  {
   "cell_type": "code",
   "execution_count": 61,
   "metadata": {},
   "outputs": [
    {
     "data": {
      "text/plain": [
       "Text(0,0.5,'Frequency')"
      ]
     },
     "execution_count": 61,
     "metadata": {},
     "output_type": "execute_result"
    },
    {
     "data": {
      "image/png": "[encoded data removed]",
      "text/plain": [
       "<matplotlib.figure.Figure at 0x7f013f3071d0>"
      ]
     },
     "metadata": {},
     "output_type": "display_data"
    }
   ],
   "source": [
    "py.errorbar(phase_comp1,frequency_comp1, xerr=comp1_err, fmt='.', lw=0.5, label='data')\n",
    "py.title('Component 1 - Position - Outliers Removed')\n",
    "py.xlabel('Phase (deg))')\n",
    "py.ylabel('Frequency')"
   ]
  },
  {
   "cell_type": "code",
   "execution_count": 62,
   "metadata": {},
   "outputs": [],
   "source": [
    "expect=(500,0.4,16)\n",
    "comp1_params,comp1_cov=curve_fit(thorsett,frequency_comp1,phase_comp1, expect, maxfev=10000, sigma=comp1_err, bounds=([0,-1,0],[1000,0.5,np.inf]))\n",
    "comp1_fit_error=np.sqrt(np.diag(comp1_cov))\n",
    "comp1_fit = thorsett(frequency_comp1, *comp1_params)"
   ]
  },
  {
   "cell_type": "code",
   "execution_count": 63,
   "metadata": {},
   "outputs": [
    {
     "data": {
      "text/plain": [
       "Text(0.5,0,'Frequency')"
      ]
     },
     "execution_count": 63,
     "metadata": {},
     "output_type": "execute_result"
    },
    {
     "data": {
      "image/png": "[encoded data removed]",
      "text/plain": [
       "<matplotlib.figure.Figure at 0x7f013f2b1d30>"
      ]
     },
     "metadata": {},
     "output_type": "display_data"
    }
   ],
   "source": [
    "py.errorbar(frequency_comp1, phase_comp1, yerr=comp1_err, fmt='.', lw=0.5, label='data')\n",
    "py.plot(frequency_comp1,comp1_fit, color='red',lw=2,label='thorsett fit')\n",
    "py.title('Component 1 - Position')\n",
    "py.ylabel('Phase (deg))')\n",
    "py.xlabel('Frequency')"
   ]
  },
  {
   "cell_type": "code",
   "execution_count": 64,
   "metadata": {
    "colab": {},
    "colab_type": "code",
    "id": "ylBJ8twuzL8g"
   },
   "outputs": [],
   "source": [
    "phase_comp2=[]\n",
    "frequency_comp2=[]\n",
    "comp2_err=[]\n",
    "\n",
    "for i in range(0,len(fit_components)):\n",
    "    if fit_components[i][2][0] != 0:\n",
    "        phase_comp2.append(fit_components[i][2][0])\n",
    "        frequency_comp2.append(fit_components[i][0])\n",
    "        comp2_err.append(fit_components[i][3][3])"
   ]
  },
  {
   "cell_type": "code",
   "execution_count": 65,
   "metadata": {
    "colab": {
     "base_uri": "https://localhost:8080/"
    },
    "colab_type": "code",
    "id": "BaWU8_f424bZ",
    "outputId": "cf955db3-63ae-4a41-ee12-bf4ea0d269d1"
   },
   "outputs": [
    {
     "data": {
      "text/plain": [
       "Text(0,0.5,'Frequency')"
      ]
     },
     "execution_count": 65,
     "metadata": {},
     "output_type": "execute_result"
    },
    {
     "data": {
      "image/png": "[encoded data removed]",
      "text/plain": [
       "<matplotlib.figure.Figure at 0x7f013f2313c8>"
      ]
     },
     "metadata": {},
     "output_type": "display_data"
    }
   ],
   "source": [
    "#py.plot(phase_comp2,frequency_comp2, '.')\n",
    "py.errorbar(phase_comp2,frequency_comp2, xerr=comp2_err, fmt='.', lw=0.5, label='data')\n",
    "py.title('Component 2 - Position')\n",
    "py.xlabel('Phase Bin (deg)')\n",
    "py.ylabel('Frequency')"
   ]
  },
  {
   "cell_type": "code",
   "execution_count": 66,
   "metadata": {},
   "outputs": [],
   "source": [
    "frequency_comp2, phase_comp2, comp2_err = detect_outlier(frequency_comp2, phase_comp2, comp2_err)"
   ]
  },
  {
   "cell_type": "code",
   "execution_count": 67,
   "metadata": {},
   "outputs": [
    {
     "data": {
      "text/plain": [
       "Text(0,0.5,'Frequency')"
      ]
     },
     "execution_count": 67,
     "metadata": {},
     "output_type": "execute_result"
    },
    {
     "data": {
      "image/png": "[encoded data removed]",
      "text/plain": [
       "<matplotlib.figure.Figure at 0x7f013f149390>"
      ]
     },
     "metadata": {},
     "output_type": "display_data"
    }
   ],
   "source": [
    "#py.plot(phase_comp2,frequency_comp2, '.')\n",
    "py.errorbar(phase_comp2,frequency_comp2, xerr=comp2_err, fmt='.', lw=0.5, label='data')\n",
    "py.title('Component 2 - Outliers Removed')\n",
    "py.xlabel('Phase Bin (deg)')\n",
    "py.ylabel('Frequency')"
   ]
  },
  {
   "cell_type": "code",
   "execution_count": 68,
   "metadata": {},
   "outputs": [],
   "source": [
    "expect=(700,0.4,16)\n",
    "comp2_params,comp2_cov=curve_fit(thorsett,frequency_comp2,phase_comp2, expect, maxfev=10000, sigma=comp2_err, bounds=([0,-1,0],[1000,0.5,np.inf]))\n",
    "comp2_fit_error=np.sqrt(np.diag(comp2_cov))\n",
    "comp2_fit = thorsett(frequency_comp2, *comp2_params)"
   ]
  },
  {
   "cell_type": "code",
   "execution_count": 69,
   "metadata": {},
   "outputs": [
    {
     "data": {
      "text/plain": [
       "Text(0.5,0,'Frequency')"
      ]
     },
     "execution_count": 69,
     "metadata": {},
     "output_type": "execute_result"
    },
    {
     "data": {
      "image/png": "[encoded data removed]",
      "text/plain": [
       "<matplotlib.figure.Figure at 0x7f013f2b18d0>"
      ]
     },
     "metadata": {},
     "output_type": "display_data"
    }
   ],
   "source": [
    "py.errorbar(frequency_comp2, phase_comp2, yerr=comp2_err, fmt='.', lw=0.5, label='data')\n",
    "py.plot(frequency_comp2,comp2_fit, color='red',lw=2,label='thorsett fit')\n",
    "py.title('Component 2 - Position')\n",
    "py.ylabel('Phase (deg))')\n",
    "py.xlabel('Frequency')"
   ]
  },
  {
   "cell_type": "markdown",
   "metadata": {
    "colab_type": "text",
    "id": "Y1RZQ9SHcgOZ"
   },
   "source": [
    "## Individual Peaks (ind_components)"
   ]
  },
  {
   "cell_type": "code",
   "execution_count": 70,
   "metadata": {
    "colab": {},
    "colab_type": "code",
    "id": "P5g-Z8pDYf0g"
   },
   "outputs": [],
   "source": [
    "phase_ind1=[]\n",
    "frequency_ind1=[]\n",
    "\n",
    "for i in range(0,len(ind_components)):\n",
    "    if ind_components[i][1][0] != 0:\n",
    "        phase_ind1.append(ind_components[i][1][0])\n",
    "        frequency_ind1.append(ind_components[i][0])"
   ]
  },
  {
   "cell_type": "code",
   "execution_count": 71,
   "metadata": {
    "colab": {
     "base_uri": "https://localhost:8080/"
    },
    "colab_type": "code",
    "id": "Ys5saMYTYgE4",
    "outputId": "b7f3215b-0bd4-48c7-fe7e-ce6b42897c3b"
   },
   "outputs": [
    {
     "data": {
      "text/plain": [
       "Text(0,0.5,'Frequency')"
      ]
     },
     "execution_count": 71,
     "metadata": {},
     "output_type": "execute_result"
    },
    {
     "data": {
      "image/png": "[encoded data removed]",
      "text/plain": [
       "<matplotlib.figure.Figure at 0x7f013f0e0550>"
      ]
     },
     "metadata": {},
     "output_type": "display_data"
    }
   ],
   "source": [
    "py.plot(phase_ind1,frequency_ind1, '.')\n",
    "py.title('Component 1 - Individual Peaks')\n",
    "py.xlabel('Phase Bin (deg)')\n",
    "py.ylabel('Frequency')"
   ]
  },
  {
   "cell_type": "code",
   "execution_count": 72,
   "metadata": {
    "colab": {},
    "colab_type": "code",
    "id": "YchcyxhXYgQw"
   },
   "outputs": [],
   "source": [
    "phase_ind2=[]\n",
    "frequency_ind2=[]\n",
    "\n",
    "for i in range(0,len(ind_components)):\n",
    "  if ind_components[i][2][0] != 0:\n",
    "    phase_ind2.append(ind_components[i][2][0])\n",
    "    frequency_ind2.append(ind_components[i][0])"
   ]
  },
  {
   "cell_type": "code",
   "execution_count": 73,
   "metadata": {
    "colab": {
     "base_uri": "https://localhost:8080/"
    },
    "colab_type": "code",
    "id": "eXiIbChXYgct",
    "outputId": "b990f7c8-4afb-4665-fb04-758b20ad43a2"
   },
   "outputs": [
    {
     "data": {
      "text/plain": [
       "Text(0,0.5,'Frequency')"
      ]
     },
     "execution_count": 73,
     "metadata": {},
     "output_type": "execute_result"
    },
    {
     "data": {
      "image/png": "[encoded data removed]",
      "text/plain": [
       "<matplotlib.figure.Figure at 0x7f013f3e20b8>"
      ]
     },
     "metadata": {},
     "output_type": "display_data"
    }
   ],
   "source": [
    "py.plot(phase_ind2,frequency_ind2, '.')\n",
    "py.title('Component 2 - Individual Peaks')\n",
    "py.xlabel('Phase Bin (deg)')\n",
    "py.ylabel('Frequency')"
   ]
  },
  {
   "cell_type": "markdown",
   "metadata": {
    "colab_type": "text",
    "id": "pccDpOhFgn-A"
   },
   "source": [
    "# Component Separation Across Frequency "
   ]
  },
  {
   "cell_type": "markdown",
   "metadata": {
    "colab_type": "text",
    "id": "KZFBrw4AEiXX"
   },
   "source": [
    "## Fit Peaks (fit_components)"
   ]
  },
  {
   "cell_type": "markdown",
   "metadata": {
    "colab_type": "text",
    "id": "jBHxooGJctvn"
   },
   "source": [
    "## Individual Peaks (ind_components)"
   ]
  },
  {
   "cell_type": "code",
   "execution_count": 74,
   "metadata": {
    "colab": {},
    "colab_type": "code",
    "id": "Qb7GwH6yctAA"
   },
   "outputs": [],
   "source": [
    "component_sep_ind, ind_sep_errors= separation_singleprofile(ind_components)"
   ]
  },
  {
   "cell_type": "code",
   "execution_count": 75,
   "metadata": {
    "colab": {},
    "colab_type": "code",
    "id": "hLSxkPy7dVdM"
   },
   "outputs": [],
   "source": [
    "comp_sep_ind=[]\n",
    "frequency_forsep_ind=[]\n",
    "\n",
    "#range(0,no_freq_bands)\n",
    "for i in range(0,len(component_sep_ind)):\n",
    "  comp_sep_ind.append(component_sep_ind[i][1])\n",
    "  frequency_forsep_ind.append(component_sep_ind[i][0])"
   ]
  },
  {
   "cell_type": "code",
   "execution_count": 76,
   "metadata": {
    "colab": {
     "base_uri": "https://localhost:8080/"
    },
    "colab_type": "code",
    "id": "9IFffn1Mdc-w",
    "outputId": "23e0939c-80e8-4d57-da9b-69bf310669f9"
   },
   "outputs": [
    {
     "data": {
      "text/plain": [
       "Text(0,0.5,'Δθ (deg)')"
      ]
     },
     "execution_count": 76,
     "metadata": {},
     "output_type": "execute_result"
    },
    {
     "data": {
      "image/png": "[encoded data removed]",
      "text/plain": [
       "<matplotlib.figure.Figure at 0x7f013f3c6940>"
      ]
     },
     "metadata": {},
     "output_type": "display_data"
    }
   ],
   "source": [
    "py.plot(frequency_forsep_ind, comp_sep_ind, '.')\n",
    "py.xlabel('Frequency')\n",
    "py.ylabel('\\u0394\\u03B8 (deg)')"
   ]
  },
  {
   "cell_type": "markdown",
   "metadata": {
    "colab_type": "text",
    "id": "onWmCTwBgzh2"
   },
   "source": [
    "# Fitting Power Laws to Separation "
   ]
  },
  {
   "cell_type": "markdown",
   "metadata": {
    "colab_type": "text",
    "id": "pRvVTEsj_64Q"
   },
   "source": [
    "## Fit Peaks (fit_components) - Just GMRT"
   ]
  },
  {
   "cell_type": "code",
   "execution_count": 77,
   "metadata": {
    "colab": {},
    "colab_type": "code",
    "id": "QlmKKG5sFeMg"
   },
   "outputs": [],
   "source": [
    "component_sep, sep_error = separation_singleprofile(fit_components)"
   ]
  },
  {
   "cell_type": "code",
   "execution_count": 78,
   "metadata": {
    "colab": {},
    "colab_type": "code",
    "id": "pacJRC6tIbBS"
   },
   "outputs": [],
   "source": [
    "comp_sep=[]\n",
    "frequency_forsep=[]\n",
    "\n",
    "#range(0,no_freq_bands)\n",
    "for i in range(0,len(component_sep)):\n",
    "  comp_sep.append(component_sep[i][1])\n",
    "  frequency_forsep.append(component_sep[i][0])"
   ]
  },
  {
   "cell_type": "code",
   "execution_count": 79,
   "metadata": {
    "colab": {
     "base_uri": "https://localhost:8080/"
    },
    "colab_type": "code",
    "id": "oE8r2963KMSz",
    "outputId": "25557bf4-1b1c-415d-c785-7fa822a71292"
   },
   "outputs": [
    {
     "data": {
      "text/plain": [
       "Text(0,0.5,'Δθ (deg)')"
      ]
     },
     "execution_count": 79,
     "metadata": {},
     "output_type": "execute_result"
    },
    {
     "data": {
      "image/png": "[encoded data removed]",
      "text/plain": [
       "<matplotlib.figure.Figure at 0x7f013f54e0f0>"
      ]
     },
     "metadata": {},
     "output_type": "display_data"
    }
   ],
   "source": [
    "py.plot(frequency_forsep, comp_sep, '.')\n",
    "py.xlabel('Frequency')\n",
    "py.ylabel('\\u0394\\u03B8 (deg)')"
   ]
  },
  {
   "cell_type": "code",
   "execution_count": 80,
   "metadata": {
    "colab": {},
    "colab_type": "code",
    "id": "Eb9tysocAfn3"
   },
   "outputs": [],
   "source": [
    "expect=(703,0.4,16)\n",
    "sep_params,sep_cov=curve_fit(thorsett,frequency_forsep,comp_sep, expect, maxfev=10000, sigma=sep_error, bounds=([0,-1,-np.inf],[np.inf,0.5,np.inf]))\n",
    "sep_fit_error=np.sqrt(np.diag(sep_cov))\n",
    "separation_fit=thorsett(frequency_forsep,*sep_params)"
   ]
  },
  {
   "cell_type": "code",
   "execution_count": 81,
   "metadata": {
    "colab": {
     "base_uri": "https://localhost:8080/",
     "height": 300
    },
    "colab_type": "code",
    "id": "oY7ok57vApBN",
    "outputId": "c54100cc-1569-4c6b-fb74-c413acbdf635"
   },
   "outputs": [
    {
     "data": {
      "text/plain": [
       "<matplotlib.legend.Legend at 0x7f013f445f28>"
      ]
     },
     "execution_count": 81,
     "metadata": {},
     "output_type": "execute_result"
    },
    {
     "data": {
      "image/png": "[encoded data removed]",
      "text/plain": [
       "<matplotlib.figure.Figure at 0x7f013f54e9b0>"
      ]
     },
     "metadata": {},
     "output_type": "display_data"
    }
   ],
   "source": [
    "#py.plot(frequency_forsep, comp_sep, '.', label='data')\n",
    "py.errorbar(frequency_forsep, comp_sep, yerr=sep_error, fmt='.', lw=0.5, label='data',zorder=1)\n",
    "py.plot(frequency_forsep,separation_fit, color='red',lw=2,label='thorsett fit',zorder=2)\n",
    "py.title('Component Separation - Fit Peaks')\n",
    "py.xlabel('Frequency')\n",
    "py.ylabel('\\u0394\\u03B8 (deg)')\n",
    "py.legend(loc='lower left')\n"
   ]
  },
  {
   "cell_type": "code",
   "execution_count": 82,
   "metadata": {},
   "outputs": [
    {
     "name": "stdout",
     "output_type": "stream",
     "text": [
      "The equation of fit for this pulsar is: \t Δθ = 461.832 ν^-0.123 + -139.563 \n",
      "\n",
      "The errors are 360.050, 0.353, 641.347 \n",
      "Units for Δθ is degrees and ν is MHz\n"
     ]
    }
   ],
   "source": [
    "#chi, p = sp.stats.chisquare(comp_sep, separation_fit)\n",
    "print(f'The equation of fit for this pulsar is: \\t \\u0394\\u03B8 = {sep_params[0]:.3f} \\u03BD^{sep_params[1]:.3f} + {sep_params[2]:.3f} \\n')\n",
    "print(f'The errors are {sep_fit_error[0]:.3f}, {sep_fit_error[1]:.3f}, {sep_fit_error[2]:.3f} ')\n",
    "#print('The chi squared value for the fit is: ', chi)\n",
    "print('Units for \\u0394\\u03B8 is degrees and \\u03BD is MHz')"
   ]
  },
  {
   "cell_type": "markdown",
   "metadata": {},
   "source": [
    "## Fit Peaks (fit_components) - GMRT/MWA/EPTA"
   ]
  },
  {
   "cell_type": "code",
   "execution_count": 83,
   "metadata": {},
   "outputs": [],
   "source": [
    "fit_components.insert(0,profile_compsh)\n",
    "fit_components.append(profile_compm)"
   ]
  },
  {
   "cell_type": "code",
   "execution_count": 84,
   "metadata": {},
   "outputs": [
    {
     "data": {
      "text/plain": [
       "pulse_component(frequency=185, comp1=component(phase=213.75, intensity=13971824.856107147), comp2=component(phase=315.0, intensity=31846535.938114986), errors=[0.7692129016487452, 0.7315358193031422, 1290564.8329481627, 0.7692129016487452, 0.7315358193031422, 1290564.8329481627])"
      ]
     },
     "execution_count": 84,
     "metadata": {},
     "output_type": "execute_result"
    }
   ],
   "source": [
    "profile_compm"
   ]
  },
  {
   "cell_type": "code",
   "execution_count": 85,
   "metadata": {},
   "outputs": [],
   "source": [
    "component_sep, sep_error = separation_singleprofile(fit_components)"
   ]
  },
  {
   "cell_type": "code",
   "execution_count": 86,
   "metadata": {},
   "outputs": [
    {
     "data": {
      "text/plain": [
       "1.087831317864017"
      ]
     },
     "execution_count": 86,
     "metadata": {},
     "output_type": "execute_result"
    }
   ],
   "source": [
    "sep_error[-1]"
   ]
  },
  {
   "cell_type": "code",
   "execution_count": 87,
   "metadata": {},
   "outputs": [],
   "source": [
    "comp_sep=[]\n",
    "frequency_forsep=[]\n",
    "\n",
    "#range(0,no_freq_bands)\n",
    "for i in range(0,len(component_sep)):\n",
    "    comp_sep.append(component_sep[i][1])\n",
    "    frequency_forsep.append(component_sep[i][0])"
   ]
  },
  {
   "cell_type": "code",
   "execution_count": 88,
   "metadata": {},
   "outputs": [],
   "source": [
    "expect=(703,0.4,16)\n",
    "sep_params,sep_cov=curve_fit(thorsett,frequency_forsep,comp_sep, expect, maxfev=10000, sigma=sep_error, bounds=([0,-1,-np.inf],[np.inf,0.5,np.inf]))\n",
    "sep_fit_error=np.sqrt(np.diag(sep_cov))"
   ]
  },
  {
   "cell_type": "code",
   "execution_count": 89,
   "metadata": {},
   "outputs": [],
   "source": [
    "sepa_fit=[]\n",
    "x_sepa_fit=list(range(150,1400))\n",
    "for i in x_sepa_fit:\n",
    "    sepa_fit.append(sep_params[0]*(i**(sep_params[1]))+sep_params[2])"
   ]
  },
  {
   "cell_type": "code",
   "execution_count": 90,
   "metadata": {},
   "outputs": [
    {
     "data": {
      "text/plain": [
       "<matplotlib.legend.Legend at 0x7f013f017dd8>"
      ]
     },
     "execution_count": 90,
     "metadata": {},
     "output_type": "execute_result"
    },
    {
     "data": {
      "image/png": "[encoded data removed]",
      "text/plain": [
       "<matplotlib.figure.Figure at 0x7f013f517160>"
      ]
     },
     "metadata": {},
     "output_type": "display_data"
    }
   ],
   "source": [
    "#py.plot(frequency_forsep, comp_sep, '.', label='data')\n",
    "py.errorbar(frequency_forsep, comp_sep, yerr=sep_error, fmt='.', lw=0.5, label='data')\n",
    "py.plot(x_sepa_fit,sepa_fit, color='red',lw=2,label='thorsett fit')\n",
    "py.axis((290,500,65,95))\n",
    "#py.axis((100,1500,60,105))\n",
    "py.title('Component Separation - Fit Peaks')\n",
    "py.xlabel('Frequency')\n",
    "py.ylabel('\\u0394\\u03B8 (deg)')\n",
    "py.legend(loc='lower left')"
   ]
  },
  {
   "cell_type": "code",
   "execution_count": 91,
   "metadata": {
    "colab": {
     "base_uri": "https://localhost:8080/",
     "height": 107
    },
    "colab_type": "code",
    "id": "l11_3C1ODT_d",
    "outputId": "ad79532a-bd1b-457e-afde-75b291f318c1"
   },
   "outputs": [
    {
     "name": "stdout",
     "output_type": "stream",
     "text": [
      "The equation of fit for this pulsar is: \t Δθ = 2318.815 ν^-0.717 + 50.551 \n",
      "\n",
      "The errors are 555.595, 0.050, 2.026 \n",
      "Units for Δθ is degrees and ν is MHz\n"
     ]
    }
   ],
   "source": [
    "print(f'The equation of fit for this pulsar is: \\t \\u0394\\u03B8 = {sep_params[0]:.3f} \\u03BD^{sep_params[1]:.3f} + {sep_params[2]:.3f} \\n')\n",
    "print(f'The errors are {sep_fit_error[0]:.3f}, {sep_fit_error[1]:.3f}, {sep_fit_error[2]:.3f} ')\n",
    "print('Units for \\u0394\\u03B8 is degrees and \\u03BD is MHz')"
   ]
  },
  {
   "cell_type": "markdown",
   "metadata": {
    "colab_type": "text",
    "id": "3NacpoCld21t"
   },
   "source": [
    "## Individual Peaks (ind_components)"
   ]
  },
  {
   "cell_type": "code",
   "execution_count": 92,
   "metadata": {
    "colab": {},
    "colab_type": "code",
    "id": "Jy2_QoLygC0-"
   },
   "outputs": [],
   "source": [
    "#To use in weightings: sigma=inv_var_ind\n",
    "inv_var_ind = []\n",
    "\n",
    "for i in range(len(ind_sep_errors)):\n",
    "  temp = 1/(ind_sep_errors[i]*ind_sep_errors[i])\n",
    "  inv_var_ind.append(temp)"
   ]
  },
  {
   "cell_type": "code",
   "execution_count": 93,
   "metadata": {
    "colab": {},
    "colab_type": "code",
    "id": "CoXmAthxd7_x"
   },
   "outputs": [],
   "source": [
    "expect=(200,0.5,50)\n",
    "sep_params_ind,sep_cov_ind=curve_fit(thorsett,frequency_forsep_ind,comp_sep_ind, expect, maxfev=1000000,sigma=inv_var_ind,bounds=([0,-1,0],[1000,0.5,np.inf]))\n",
    "sep_fit_error_ind=np.sqrt(np.diag(sep_cov_ind))"
   ]
  },
  {
   "cell_type": "code",
   "execution_count": 94,
   "metadata": {
    "colab": {
     "base_uri": "https://localhost:8080/",
     "height": 35
    },
    "colab_type": "code",
    "id": "QDEmrl7feM3K",
    "outputId": "d9a2b084-fb9b-4f93-a087-b15453d91c13"
   },
   "outputs": [
    {
     "name": "stdout",
     "output_type": "stream",
     "text": [
      "[ 1.00000000e+03 -6.31140391e-01  6.19484055e+01]\n"
     ]
    }
   ],
   "source": [
    "print(sep_params_ind)\n",
    "separation_fit_ind = thorsett(frequency_forsep, *sep_params_ind)"
   ]
  },
  {
   "cell_type": "code",
   "execution_count": 95,
   "metadata": {
    "colab": {
     "base_uri": "https://localhost:8080/",
     "height": 297
    },
    "colab_type": "code",
    "id": "QaKMbN0jeO_C",
    "outputId": "d30176bf-13b7-44c0-969e-21d2cf29a9a9"
   },
   "outputs": [
    {
     "ename": "ValueError",
     "evalue": "x and y must have same first dimension, but have shapes (122,) and (123,)",
     "output_type": "error",
     "traceback": [
      "\u001b[0;31m---------------------------------------------------------------------------\u001b[0m",
      "\u001b[0;31mValueError\u001b[0m                                Traceback (most recent call last)",
      "\u001b[0;32m<ipython-input-95-9db33891791e>\u001b[0m in \u001b[0;36m<module>\u001b[0;34m()\u001b[0m\n\u001b[1;32m      1\u001b[0m \u001b[0mpy\u001b[0m\u001b[0;34m.\u001b[0m\u001b[0mplot\u001b[0m\u001b[0;34m(\u001b[0m\u001b[0mfrequency_forsep_ind\u001b[0m\u001b[0;34m,\u001b[0m \u001b[0mcomp_sep_ind\u001b[0m\u001b[0;34m,\u001b[0m \u001b[0mlw\u001b[0m\u001b[0;34m=\u001b[0m\u001b[0;36m0.5\u001b[0m\u001b[0;34m,\u001b[0m \u001b[0mlabel\u001b[0m\u001b[0;34m=\u001b[0m\u001b[0;34m'data'\u001b[0m\u001b[0;34m)\u001b[0m\u001b[0;34m\u001b[0m\u001b[0;34m\u001b[0m\u001b[0m\n\u001b[0;32m----> 2\u001b[0;31m \u001b[0mpy\u001b[0m\u001b[0;34m.\u001b[0m\u001b[0mplot\u001b[0m\u001b[0;34m(\u001b[0m\u001b[0mfrequency_forsep_ind\u001b[0m\u001b[0;34m,\u001b[0m\u001b[0mseparation_fit_ind\u001b[0m\u001b[0;34m,\u001b[0m \u001b[0mcolor\u001b[0m\u001b[0;34m=\u001b[0m\u001b[0;34m'red'\u001b[0m\u001b[0;34m,\u001b[0m\u001b[0mlw\u001b[0m\u001b[0;34m=\u001b[0m\u001b[0;36m1\u001b[0m\u001b[0;34m,\u001b[0m\u001b[0mlabel\u001b[0m\u001b[0;34m=\u001b[0m\u001b[0;34m'power fit'\u001b[0m\u001b[0;34m)\u001b[0m\u001b[0;34m\u001b[0m\u001b[0;34m\u001b[0m\u001b[0m\n\u001b[0m\u001b[1;32m      3\u001b[0m \u001b[0mpy\u001b[0m\u001b[0;34m.\u001b[0m\u001b[0mtitle\u001b[0m\u001b[0;34m(\u001b[0m\u001b[0;34m'Component Separation - Individual Peaks '\u001b[0m\u001b[0;34m)\u001b[0m\u001b[0;34m\u001b[0m\u001b[0;34m\u001b[0m\u001b[0m\n\u001b[1;32m      4\u001b[0m \u001b[0mpy\u001b[0m\u001b[0;34m.\u001b[0m\u001b[0mxlabel\u001b[0m\u001b[0;34m(\u001b[0m\u001b[0;34m'Frequency'\u001b[0m\u001b[0;34m)\u001b[0m\u001b[0;34m\u001b[0m\u001b[0;34m\u001b[0m\u001b[0m\n\u001b[1;32m      5\u001b[0m \u001b[0mpy\u001b[0m\u001b[0;34m.\u001b[0m\u001b[0mylabel\u001b[0m\u001b[0;34m(\u001b[0m\u001b[0;34m'\\u0394\\u03B8 (deg)'\u001b[0m\u001b[0;34m)\u001b[0m\u001b[0;34m\u001b[0m\u001b[0;34m\u001b[0m\u001b[0m\n",
      "\u001b[0;32m/usr/lib/python3/dist-packages/matplotlib/pyplot.py\u001b[0m in \u001b[0;36mplot\u001b[0;34m(*args, **kwargs)\u001b[0m\n\u001b[1;32m   3259\u001b[0m                       mplDeprecation)\n\u001b[1;32m   3260\u001b[0m     \u001b[0;32mtry\u001b[0m\u001b[0;34m:\u001b[0m\u001b[0;34m\u001b[0m\u001b[0;34m\u001b[0m\u001b[0m\n\u001b[0;32m-> 3261\u001b[0;31m         \u001b[0mret\u001b[0m \u001b[0;34m=\u001b[0m \u001b[0max\u001b[0m\u001b[0;34m.\u001b[0m\u001b[0mplot\u001b[0m\u001b[0;34m(\u001b[0m\u001b[0;34m*\u001b[0m\u001b[0margs\u001b[0m\u001b[0;34m,\u001b[0m \u001b[0;34m**\u001b[0m\u001b[0mkwargs\u001b[0m\u001b[0;34m)\u001b[0m\u001b[0;34m\u001b[0m\u001b[0;34m\u001b[0m\u001b[0m\n\u001b[0m\u001b[1;32m   3262\u001b[0m     \u001b[0;32mfinally\u001b[0m\u001b[0;34m:\u001b[0m\u001b[0;34m\u001b[0m\u001b[0;34m\u001b[0m\u001b[0m\n\u001b[1;32m   3263\u001b[0m         \u001b[0max\u001b[0m\u001b[0;34m.\u001b[0m\u001b[0m_hold\u001b[0m \u001b[0;34m=\u001b[0m \u001b[0mwashold\u001b[0m\u001b[0;34m\u001b[0m\u001b[0;34m\u001b[0m\u001b[0m\n",
      "\u001b[0;32m/usr/lib/python3/dist-packages/matplotlib/__init__.py\u001b[0m in \u001b[0;36minner\u001b[0;34m(ax, *args, **kwargs)\u001b[0m\n\u001b[1;32m   1716\u001b[0m                     warnings.warn(msg % (label_namer, func.__name__),\n\u001b[1;32m   1717\u001b[0m                                   RuntimeWarning, stacklevel=2)\n\u001b[0;32m-> 1718\u001b[0;31m             \u001b[0;32mreturn\u001b[0m \u001b[0mfunc\u001b[0m\u001b[0;34m(\u001b[0m\u001b[0max\u001b[0m\u001b[0;34m,\u001b[0m \u001b[0;34m*\u001b[0m\u001b[0margs\u001b[0m\u001b[0;34m,\u001b[0m \u001b[0;34m**\u001b[0m\u001b[0mkwargs\u001b[0m\u001b[0;34m)\u001b[0m\u001b[0;34m\u001b[0m\u001b[0;34m\u001b[0m\u001b[0m\n\u001b[0m\u001b[1;32m   1719\u001b[0m         \u001b[0mpre_doc\u001b[0m \u001b[0;34m=\u001b[0m \u001b[0minner\u001b[0m\u001b[0;34m.\u001b[0m\u001b[0m__doc__\u001b[0m\u001b[0;34m\u001b[0m\u001b[0;34m\u001b[0m\u001b[0m\n\u001b[1;32m   1720\u001b[0m         \u001b[0;32mif\u001b[0m \u001b[0mpre_doc\u001b[0m \u001b[0;32mis\u001b[0m \u001b[0;32mNone\u001b[0m\u001b[0;34m:\u001b[0m\u001b[0;34m\u001b[0m\u001b[0;34m\u001b[0m\u001b[0m\n",
      "\u001b[0;32m/usr/lib/python3/dist-packages/matplotlib/axes/_axes.py\u001b[0m in \u001b[0;36mplot\u001b[0;34m(self, *args, **kwargs)\u001b[0m\n\u001b[1;32m   1370\u001b[0m         \u001b[0mkwargs\u001b[0m \u001b[0;34m=\u001b[0m \u001b[0mcbook\u001b[0m\u001b[0;34m.\u001b[0m\u001b[0mnormalize_kwargs\u001b[0m\u001b[0;34m(\u001b[0m\u001b[0mkwargs\u001b[0m\u001b[0;34m,\u001b[0m \u001b[0m_alias_map\u001b[0m\u001b[0;34m)\u001b[0m\u001b[0;34m\u001b[0m\u001b[0;34m\u001b[0m\u001b[0m\n\u001b[1;32m   1371\u001b[0m \u001b[0;34m\u001b[0m\u001b[0m\n\u001b[0;32m-> 1372\u001b[0;31m         \u001b[0;32mfor\u001b[0m \u001b[0mline\u001b[0m \u001b[0;32min\u001b[0m \u001b[0mself\u001b[0m\u001b[0;34m.\u001b[0m\u001b[0m_get_lines\u001b[0m\u001b[0;34m(\u001b[0m\u001b[0;34m*\u001b[0m\u001b[0margs\u001b[0m\u001b[0;34m,\u001b[0m \u001b[0;34m**\u001b[0m\u001b[0mkwargs\u001b[0m\u001b[0;34m)\u001b[0m\u001b[0;34m:\u001b[0m\u001b[0;34m\u001b[0m\u001b[0;34m\u001b[0m\u001b[0m\n\u001b[0m\u001b[1;32m   1373\u001b[0m             \u001b[0mself\u001b[0m\u001b[0;34m.\u001b[0m\u001b[0madd_line\u001b[0m\u001b[0;34m(\u001b[0m\u001b[0mline\u001b[0m\u001b[0;34m)\u001b[0m\u001b[0;34m\u001b[0m\u001b[0;34m\u001b[0m\u001b[0m\n\u001b[1;32m   1374\u001b[0m             \u001b[0mlines\u001b[0m\u001b[0;34m.\u001b[0m\u001b[0mappend\u001b[0m\u001b[0;34m(\u001b[0m\u001b[0mline\u001b[0m\u001b[0;34m)\u001b[0m\u001b[0;34m\u001b[0m\u001b[0;34m\u001b[0m\u001b[0m\n",
      "\u001b[0;32m/usr/lib/python3/dist-packages/matplotlib/axes/_base.py\u001b[0m in \u001b[0;36m_grab_next_args\u001b[0;34m(self, *args, **kwargs)\u001b[0m\n\u001b[1;32m    402\u001b[0m                 \u001b[0mthis\u001b[0m \u001b[0;34m+=\u001b[0m \u001b[0margs\u001b[0m\u001b[0;34m[\u001b[0m\u001b[0;36m0\u001b[0m\u001b[0;34m]\u001b[0m\u001b[0;34m,\u001b[0m\u001b[0;34m\u001b[0m\u001b[0;34m\u001b[0m\u001b[0m\n\u001b[1;32m    403\u001b[0m                 \u001b[0margs\u001b[0m \u001b[0;34m=\u001b[0m \u001b[0margs\u001b[0m\u001b[0;34m[\u001b[0m\u001b[0;36m1\u001b[0m\u001b[0;34m:\u001b[0m\u001b[0;34m]\u001b[0m\u001b[0;34m\u001b[0m\u001b[0;34m\u001b[0m\u001b[0m\n\u001b[0;32m--> 404\u001b[0;31m             \u001b[0;32mfor\u001b[0m \u001b[0mseg\u001b[0m \u001b[0;32min\u001b[0m \u001b[0mself\u001b[0m\u001b[0;34m.\u001b[0m\u001b[0m_plot_args\u001b[0m\u001b[0;34m(\u001b[0m\u001b[0mthis\u001b[0m\u001b[0;34m,\u001b[0m \u001b[0mkwargs\u001b[0m\u001b[0;34m)\u001b[0m\u001b[0;34m:\u001b[0m\u001b[0;34m\u001b[0m\u001b[0;34m\u001b[0m\u001b[0m\n\u001b[0m\u001b[1;32m    405\u001b[0m                 \u001b[0;32myield\u001b[0m \u001b[0mseg\u001b[0m\u001b[0;34m\u001b[0m\u001b[0;34m\u001b[0m\u001b[0m\n\u001b[1;32m    406\u001b[0m \u001b[0;34m\u001b[0m\u001b[0m\n",
      "\u001b[0;32m/usr/lib/python3/dist-packages/matplotlib/axes/_base.py\u001b[0m in \u001b[0;36m_plot_args\u001b[0;34m(self, tup, kwargs)\u001b[0m\n\u001b[1;32m    382\u001b[0m             \u001b[0mx\u001b[0m\u001b[0;34m,\u001b[0m \u001b[0my\u001b[0m \u001b[0;34m=\u001b[0m \u001b[0mindex_of\u001b[0m\u001b[0;34m(\u001b[0m\u001b[0mtup\u001b[0m\u001b[0;34m[\u001b[0m\u001b[0;34m-\u001b[0m\u001b[0;36m1\u001b[0m\u001b[0;34m]\u001b[0m\u001b[0;34m)\u001b[0m\u001b[0;34m\u001b[0m\u001b[0;34m\u001b[0m\u001b[0m\n\u001b[1;32m    383\u001b[0m \u001b[0;34m\u001b[0m\u001b[0m\n\u001b[0;32m--> 384\u001b[0;31m         \u001b[0mx\u001b[0m\u001b[0;34m,\u001b[0m \u001b[0my\u001b[0m \u001b[0;34m=\u001b[0m \u001b[0mself\u001b[0m\u001b[0;34m.\u001b[0m\u001b[0m_xy_from_xy\u001b[0m\u001b[0;34m(\u001b[0m\u001b[0mx\u001b[0m\u001b[0;34m,\u001b[0m \u001b[0my\u001b[0m\u001b[0;34m)\u001b[0m\u001b[0;34m\u001b[0m\u001b[0;34m\u001b[0m\u001b[0m\n\u001b[0m\u001b[1;32m    385\u001b[0m \u001b[0;34m\u001b[0m\u001b[0m\n\u001b[1;32m    386\u001b[0m         \u001b[0;32mif\u001b[0m \u001b[0mself\u001b[0m\u001b[0;34m.\u001b[0m\u001b[0mcommand\u001b[0m \u001b[0;34m==\u001b[0m \u001b[0;34m'plot'\u001b[0m\u001b[0;34m:\u001b[0m\u001b[0;34m\u001b[0m\u001b[0;34m\u001b[0m\u001b[0m\n",
      "\u001b[0;32m/usr/lib/python3/dist-packages/matplotlib/axes/_base.py\u001b[0m in \u001b[0;36m_xy_from_xy\u001b[0;34m(self, x, y)\u001b[0m\n\u001b[1;32m    241\u001b[0m         \u001b[0;32mif\u001b[0m \u001b[0mx\u001b[0m\u001b[0;34m.\u001b[0m\u001b[0mshape\u001b[0m\u001b[0;34m[\u001b[0m\u001b[0;36m0\u001b[0m\u001b[0;34m]\u001b[0m \u001b[0;34m!=\u001b[0m \u001b[0my\u001b[0m\u001b[0;34m.\u001b[0m\u001b[0mshape\u001b[0m\u001b[0;34m[\u001b[0m\u001b[0;36m0\u001b[0m\u001b[0;34m]\u001b[0m\u001b[0;34m:\u001b[0m\u001b[0;34m\u001b[0m\u001b[0;34m\u001b[0m\u001b[0m\n\u001b[1;32m    242\u001b[0m             raise ValueError(\"x and y must have same first dimension, but \"\n\u001b[0;32m--> 243\u001b[0;31m                              \"have shapes {} and {}\".format(x.shape, y.shape))\n\u001b[0m\u001b[1;32m    244\u001b[0m         \u001b[0;32mif\u001b[0m \u001b[0mx\u001b[0m\u001b[0;34m.\u001b[0m\u001b[0mndim\u001b[0m \u001b[0;34m>\u001b[0m \u001b[0;36m2\u001b[0m \u001b[0;32mor\u001b[0m \u001b[0my\u001b[0m\u001b[0;34m.\u001b[0m\u001b[0mndim\u001b[0m \u001b[0;34m>\u001b[0m \u001b[0;36m2\u001b[0m\u001b[0;34m:\u001b[0m\u001b[0;34m\u001b[0m\u001b[0;34m\u001b[0m\u001b[0m\n\u001b[1;32m    245\u001b[0m             raise ValueError(\"x and y can be no greater than 2-D, but have \"\n",
      "\u001b[0;31mValueError\u001b[0m: x and y must have same first dimension, but have shapes (122,) and (123,)"
     ]
    },
    {
     "data": {
      "image/png": "[encoded data removed]",
      "text/plain": [
       "<matplotlib.figure.Figure at 0x7f013f3ec940>"
      ]
     },
     "metadata": {},
     "output_type": "display_data"
    }
   ],
   "source": [
    "py.plot(frequency_forsep_ind, comp_sep_ind, lw=0.5, label='data')\n",
    "py.plot(frequency_forsep_ind,separation_fit_ind, color='red',lw=1,label='power fit')\n",
    "py.title('Component Separation - Individual Peaks ')\n",
    "py.xlabel('Frequency')\n",
    "py.ylabel('\\u0394\\u03B8 (deg)')"
   ]
  },
  {
   "cell_type": "code",
   "execution_count": null,
   "metadata": {
    "colab": {
     "base_uri": "https://localhost:8080/",
     "height": 107
    },
    "colab_type": "code",
    "id": "Mu7DCoELeWR8",
    "outputId": "520b4eed-c621-4a01-f973-ee517f117d34"
   },
   "outputs": [],
   "source": [
    "chi_ind, p_ind = sp.stats.chisquare(comp_sep, separation_fit)\n",
    "print(f'The equation of fit for this pulsar is: \\t \\u0394\\u03B8 = {sep_params_ind[0]:.3f} \\u03BD^{sep_params_ind[1]:.3f} + {sep_params_ind[2]:.3f} \\n')\n",
    "print(f'The errors are {sep_fit_error_ind[0]:.3f}, {sep_fit_error_ind[1]:.3f}, {sep_fit_error_ind[2]:.3f} ')\n",
    "print('The chi squared value for the fit is: ', chi_ind)\n",
    "print('Units for \\u0394\\u03B8 is degrees and \\u03BD is MHz')"
   ]
  },
  {
   "cell_type": "markdown",
   "metadata": {
    "colab_type": "text",
    "id": "e6XHCJRCjogM"
   },
   "source": [
    "# Change in Intensity over Frequency"
   ]
  },
  {
   "cell_type": "markdown",
   "metadata": {
    "colab_type": "text",
    "id": "S8Wdb29Jkmx7"
   },
   "source": [
    "## Fit Peaks (fit_components)"
   ]
  },
  {
   "cell_type": "code",
   "execution_count": null,
   "metadata": {
    "colab": {},
    "colab_type": "code",
    "id": "qLKpI3HvjyrZ"
   },
   "outputs": [],
   "source": [
    "intensity_comp1=[]\n",
    "frequency_comp1=[]\n",
    "\n",
    "for i in range(0,len(fit_components)):\n",
    "  if fit_components[i][1][0] != 0:\n",
    "    intensity_comp1.append(fit_components[i][1][1])\n",
    "    frequency_comp1.append(fit_components[i][0])"
   ]
  },
  {
   "cell_type": "code",
   "execution_count": null,
   "metadata": {
    "colab": {
     "base_uri": "https://localhost:8080/",
     "height": 313
    },
    "colab_type": "code",
    "id": "ClLSoQOukVjN",
    "outputId": "8433b698-caef-4650-93e6-5b78f85c2c08"
   },
   "outputs": [],
   "source": [
    "py.plot(frequency_comp1,intensity_comp1, '.')\n",
    "py.title('Component 1 - Fit Peaks')\n",
    "py.xlabel('Frequency')\n",
    "py.ylabel('Intensity')"
   ]
  },
  {
   "cell_type": "code",
   "execution_count": null,
   "metadata": {
    "colab": {},
    "colab_type": "code",
    "id": "IDYE2r0PksL3"
   },
   "outputs": [],
   "source": [
    "intensity_comp2=[]\n",
    "frequency_comp2=[]\n",
    "\n",
    "for i in range(0,len(fit_components)):\n",
    "  if fit_components[i][1][0] != 0:\n",
    "    intensity_comp2.append(fit_components[i][2][1])\n",
    "    frequency_comp2.append(fit_components[i][0])"
   ]
  },
  {
   "cell_type": "code",
   "execution_count": null,
   "metadata": {
    "colab": {
     "base_uri": "https://localhost:8080/",
     "height": 313
    },
    "colab_type": "code",
    "id": "jGLPcnDqk0np",
    "outputId": "bd26b629-ab7c-40fa-a969-8662d0976f6c"
   },
   "outputs": [],
   "source": [
    "py.plot(frequency_comp2,intensity_comp2, '.')\n",
    "py.title('Component 2 - Fit Peaks')\n",
    "py.xlabel('Frequency')\n",
    "py.ylabel('Intensity')"
   ]
  },
  {
   "cell_type": "markdown",
   "metadata": {
    "colab_type": "text",
    "id": "G6J_t2-wlTKi"
   },
   "source": [
    "## Individual Peaks (ind_components)"
   ]
  },
  {
   "cell_type": "code",
   "execution_count": null,
   "metadata": {
    "colab": {},
    "colab_type": "code",
    "id": "HKnQQ8wxlu8A"
   },
   "outputs": [],
   "source": [
    "intensity_ind1=[]\n",
    "frequency_ind1=[]\n",
    "\n",
    "for i in range(0,len(ind_components)):\n",
    "  if ind_components[i][1][0] != 0:\n",
    "    intensity_ind1.append(ind_components[i][1][1])\n",
    "    frequency_ind1.append(ind_components[i][0])"
   ]
  },
  {
   "cell_type": "code",
   "execution_count": null,
   "metadata": {
    "colab": {
     "base_uri": "https://localhost:8080/",
     "height": 313
    },
    "colab_type": "code",
    "id": "XwtPZ6jVmkYc",
    "outputId": "226e3e67-310d-4a1e-9409-473d6227079e"
   },
   "outputs": [],
   "source": [
    "py.plot(frequency_ind1,intensity_ind1, '.')\n",
    "py.title('Component 1 - Individual Peaks')\n",
    "py.xlabel('Frequency')\n",
    "py.ylabel('Intensity')"
   ]
  },
  {
   "cell_type": "code",
   "execution_count": null,
   "metadata": {
    "colab": {},
    "colab_type": "code",
    "id": "0ueyKA35mr0G"
   },
   "outputs": [],
   "source": [
    "intensity_ind2=[]\n",
    "frequency_ind2=[]\n",
    "\n",
    "for i in range(0,len(ind_components)):\n",
    "  if ind_components[i][1][0] != 0:\n",
    "    intensity_ind2.append(ind_components[i][2][1])\n",
    "    frequency_ind2.append(ind_components[i][0])"
   ]
  },
  {
   "cell_type": "code",
   "execution_count": null,
   "metadata": {
    "colab": {
     "base_uri": "https://localhost:8080/",
     "height": 313
    },
    "colab_type": "code",
    "id": "SG8-hd3AmsB-",
    "outputId": "9e8e3a91-d3ea-4068-a123-897a0ac5601c"
   },
   "outputs": [],
   "source": [
    "py.plot(frequency_ind2,intensity_ind2, '.')\n",
    "py.title('Component 2 - Individual Peaks')\n",
    "py.xlabel('Frequency')\n",
    "py.ylabel('Intensity')"
   ]
  },
  {
   "cell_type": "markdown",
   "metadata": {
    "colab_type": "text",
    "id": "8WslQQJrq_Aj"
   },
   "source": [
    "# Intensity Fitting"
   ]
  },
  {
   "cell_type": "code",
   "execution_count": null,
   "metadata": {
    "colab": {
     "base_uri": "https://localhost:8080/",
     "height": 53
    },
    "colab_type": "code",
    "id": "C2CXJX1YrCIF",
    "outputId": "b87d98c9-f115-4cb3-9893-683cb2945316"
   },
   "outputs": [],
   "source": [
    "int1_params,int1_cov=curve_fit(thorsett,frequency_ind1,intensity_ind1, maxfev=10000)\n",
    "int1_error=np.sqrt(np.diag(int1_cov))"
   ]
  },
  {
   "cell_type": "code",
   "execution_count": null,
   "metadata": {
    "colab": {},
    "colab_type": "code",
    "id": "Df5TE1oXruhI"
   },
   "outputs": [],
   "source": [
    "int1_fit = thorsett(frequency_ind1, *int1_params)"
   ]
  },
  {
   "cell_type": "code",
   "execution_count": null,
   "metadata": {
    "colab": {
     "base_uri": "https://localhost:8080/",
     "height": 298
    },
    "colab_type": "code",
    "id": "ItsZl2eQsHCB",
    "outputId": "e39d757f-1db5-4da5-e690-314222d382cd"
   },
   "outputs": [],
   "source": [
    "py.plot(frequency_ind1, intensity_ind1, lw=0.5, label='data')\n",
    "py.plot(frequency_ind1, int1_fit, color='red',lw=1,label='power fit')\n",
    "py.xlabel('Frequency')\n",
    "py.ylabel('\\u0394\\u03B8 (deg)')"
   ]
  },
  {
   "cell_type": "code",
   "execution_count": null,
   "metadata": {
    "colab": {
     "base_uri": "https://localhost:8080/",
     "height": 53
    },
    "colab_type": "code",
    "id": "jU-N5gKTsPze",
    "outputId": "26a373b0-e821-46a7-cf00-cbda986e1430"
   },
   "outputs": [],
   "source": [
    "int2_params,int2_cov=curve_fit(thorsett,frequency_ind2,intensity_ind2, maxfev=10000)\n",
    "int2_error=np.sqrt(np.diag(int2_cov))"
   ]
  },
  {
   "cell_type": "code",
   "execution_count": null,
   "metadata": {
    "colab": {},
    "colab_type": "code",
    "id": "iMqSq1_esQGd"
   },
   "outputs": [],
   "source": [
    "int2_fit = thorsett(frequency_ind2, *int2_params)"
   ]
  },
  {
   "cell_type": "code",
   "execution_count": null,
   "metadata": {
    "colab": {
     "base_uri": "https://localhost:8080/",
     "height": 300
    },
    "colab_type": "code",
    "id": "rdSnhd1ssQWm",
    "outputId": "69e5793a-ed42-4930-c1cc-a0476fb10b6b"
   },
   "outputs": [],
   "source": [
    "py.plot(frequency_ind2, intensity_ind2, lw=0.5, label='data')\n",
    "py.plot(frequency_ind2, int1_fit, color='red',lw=1,label='power fit')\n",
    "py.xlabel('Frequency')\n",
    "py.ylabel('\\u0394\\u03B8 (deg)')"
   ]
  },
  {
   "cell_type": "markdown",
   "metadata": {
    "colab_type": "text",
    "id": "-PbPFKZBj1oi"
   },
   "source": [
    "# Change in Width over Frequency"
   ]
  },
  {
   "cell_type": "code",
   "execution_count": null,
   "metadata": {
    "colab": {},
    "colab_type": "code",
    "id": "Fp9gIoKskGAq"
   },
   "outputs": [],
   "source": [
    "width_ind1=[]\n",
    "frequency_ind1=[]\n",
    "\n",
    "for i in range(0,len(ind_components)):\n",
    "  if ind_components[i][1][0] != 0:\n",
    "    width_ind1.append(ind_components[i][1][2])\n",
    "    frequency_ind1.append(ind_components[i][0])"
   ]
  },
  {
   "cell_type": "code",
   "execution_count": null,
   "metadata": {
    "colab": {
     "base_uri": "https://localhost:8080/",
     "height": 313
    },
    "colab_type": "code",
    "id": "N0BRkmb4j4RM",
    "outputId": "c4f89daf-d63a-4363-b1e8-469e6816a028"
   },
   "outputs": [],
   "source": [
    "py.plot(frequency_ind1,width_ind1, '.')\n",
    "py.title('Component 1 - Individual Peaks')\n",
    "py.xlabel('Frequency')\n",
    "py.ylabel('Width (deg)')"
   ]
  },
  {
   "cell_type": "code",
   "execution_count": null,
   "metadata": {
    "colab": {},
    "colab_type": "code",
    "id": "LPYL5iqTpivf"
   },
   "outputs": [],
   "source": [
    "width_ind2=[]\n",
    "frequency_ind2=[]\n",
    "\n",
    "for i in range(0,len(ind_components)):\n",
    "  if ind_components[i][1][0] != 0:\n",
    "    width_ind2.append(ind_components[i][2][2])\n",
    "    frequency_ind2.append(ind_components[i][0])"
   ]
  },
  {
   "cell_type": "code",
   "execution_count": null,
   "metadata": {
    "colab": {
     "base_uri": "https://localhost:8080/",
     "height": 313
    },
    "colab_type": "code",
    "id": "O4ClDRp9prUD",
    "outputId": "1f270b92-4fea-4fbf-b9eb-6cd4c742dbff"
   },
   "outputs": [],
   "source": [
    "py.plot(frequency_ind2,width_ind2, '.')\n",
    "py.title('Component 2 - Individual Peaks')\n",
    "py.xlabel('Frequency')\n",
    "py.ylabel('Width (deg)')"
   ]
  },
  {
   "cell_type": "markdown",
   "metadata": {
    "colab_type": "text",
    "id": "BAAAMssWpRQc"
   },
   "source": [
    "# Width Fitting"
   ]
  },
  {
   "cell_type": "code",
   "execution_count": null,
   "metadata": {
    "colab": {
     "base_uri": "https://localhost:8080/",
     "height": 89
    },
    "colab_type": "code",
    "id": "GiInt3EknqMN",
    "outputId": "448dfb77-0559-4150-dcaa-adf0de3c01a9"
   },
   "outputs": [],
   "source": [
    "wid1_params,wid1_cov=curve_fit(thorsett,frequency_ind1,width_ind1, maxfev=10000)\n",
    "wid1_error=np.sqrt(np.diag(wid1_cov))"
   ]
  },
  {
   "cell_type": "code",
   "execution_count": null,
   "metadata": {
    "colab": {},
    "colab_type": "code",
    "id": "3IjiWqhDo_YD"
   },
   "outputs": [],
   "source": [
    "wid1_fit = thorsett(frequency_ind1, *wid1_params)"
   ]
  },
  {
   "cell_type": "code",
   "execution_count": null,
   "metadata": {
    "colab": {
     "base_uri": "https://localhost:8080/",
     "height": 300
    },
    "colab_type": "code",
    "id": "EHXb2PFVoweo",
    "outputId": "ee270068-c470-490d-d0b7-ba92b2cebd29"
   },
   "outputs": [],
   "source": [
    "py.plot(frequency_ind1, width_ind1, lw=0.5, label='data')\n",
    "py.plot(frequency_ind1,wid1_fit, color='red',lw=1,label='power fit')\n",
    "py.xlabel('Frequency')\n",
    "py.ylabel('\\u0394\\u03B8 (deg)')"
   ]
  },
  {
   "cell_type": "code",
   "execution_count": null,
   "metadata": {
    "colab": {
     "base_uri": "https://localhost:8080/",
     "height": 53
    },
    "colab_type": "code",
    "id": "U20gSvfWpuE7",
    "outputId": "aa9795dd-48b5-4606-b07d-827dbb0fbbd4"
   },
   "outputs": [],
   "source": [
    "wid2_params,wid2_cov=curve_fit(thorsett,frequency_ind2,width_ind2, maxfev=10000)\n",
    "wid2_error=np.sqrt(np.diag(wid2_cov))"
   ]
  },
  {
   "cell_type": "code",
   "execution_count": null,
   "metadata": {
    "colab": {},
    "colab_type": "code",
    "id": "X_Io0XJjpvY0"
   },
   "outputs": [],
   "source": [
    "wid2_fit = thorsett(frequency_ind2, *wid2_params)"
   ]
  },
  {
   "cell_type": "code",
   "execution_count": null,
   "metadata": {
    "colab": {
     "base_uri": "https://localhost:8080/",
     "height": 297
    },
    "colab_type": "code",
    "id": "bCaNRt8EpyDl",
    "outputId": "342a3205-0048-4c84-d305-8bf6055c7bbd"
   },
   "outputs": [],
   "source": [
    "py.plot(frequency_ind2, width_ind2, lw=0.5, label='data')\n",
    "py.plot(frequency_ind2, wid2_fit, color='red',lw=1,label='power fit')\n",
    "py.xlabel('Frequency')\n",
    "py.ylabel('\\u0394\\u03B8 (deg)')"
   ]
  },
  {
   "cell_type": "code",
   "execution_count": null,
   "metadata": {
    "colab": {},
    "colab_type": "code",
    "id": "hBjyTDjgp133"
   },
   "outputs": [],
   "source": []
  }
 ],
 "metadata": {
  "colab": {
   "collapsed_sections": [
    "4z_feS2dDwlJ",
    "FamzMgIcD2xs",
    "HsEW4YA0D-QH",
    "eKWvXxMcEIfE",
    "er13GCy-EUTz",
    "6a03g77-gZa5",
    "IGeyAoMhEduw",
    "Y1RZQ9SHcgOZ",
    "pccDpOhFgn-A",
    "KZFBrw4AEiXX",
    "jBHxooGJctvn",
    "S8Wdb29Jkmx7",
    "G6J_t2-wlTKi",
    "8WslQQJrq_Aj",
    "-PbPFKZBj1oi",
    "BAAAMssWpRQc"
   ],
   "name": "Component Separation - RFI Removed.ipynb",
   "provenance": []
  },
  "kernelspec": {
   "display_name": "Python 3",
   "language": "python",
   "name": "python3"
  },
  "language_info": {
   "codemirror_mode": {
    "name": "ipython",
    "version": 3
   },
   "file_extension": ".py",
   "mimetype": "text/x-python",
   "name": "python",
   "nbconvert_exporter": "python",
   "pygments_lexer": "ipython3",
   "version": "3.6.8"
  }
 },
 "nbformat": 4,
 "nbformat_minor": 1
}
