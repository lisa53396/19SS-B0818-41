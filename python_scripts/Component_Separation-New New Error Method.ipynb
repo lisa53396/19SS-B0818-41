{
 "cells": [
  {
   "cell_type": "markdown",
   "metadata": {
    "colab_type": "text",
    "id": "4z_feS2dDwlJ"
   },
   "source": [
    "# Importing Packages Needed"
   ]
  },
  {
   "cell_type": "code",
   "execution_count": 1,
   "metadata": {
    "colab": {},
    "colab_type": "code",
    "id": "zJLqZxwce0pN"
   },
   "outputs": [],
   "source": [
    "import numpy as np"
   ]
  },
  {
   "cell_type": "code",
   "execution_count": 2,
   "metadata": {
    "colab": {},
    "colab_type": "code",
    "id": "I-sMZfzHe87d"
   },
   "outputs": [],
   "source": [
    "import scipy as sp"
   ]
  },
  {
   "cell_type": "code",
   "execution_count": 3,
   "metadata": {
    "colab": {},
    "colab_type": "code",
    "id": "osUA_fqWfB8I"
   },
   "outputs": [],
   "source": [
    "import matplotlib.pyplot as py"
   ]
  },
  {
   "cell_type": "code",
   "execution_count": 4,
   "metadata": {
    "colab": {},
    "colab_type": "code",
    "id": "EI8CExhqOkaC"
   },
   "outputs": [],
   "source": [
    "from scipy.optimize import curve_fit"
   ]
  },
  {
   "cell_type": "code",
   "execution_count": 5,
   "metadata": {
    "colab": {},
    "colab_type": "code",
    "id": "FTNsckCiZ_s4"
   },
   "outputs": [],
   "source": [
    "from scipy.signal import find_peaks"
   ]
  },
  {
   "cell_type": "code",
   "execution_count": 6,
   "metadata": {
    "colab": {},
    "colab_type": "code",
    "id": "PUtMS_hIaHat"
   },
   "outputs": [],
   "source": [
    "import collections as col"
   ]
  },
  {
   "cell_type": "code",
   "execution_count": 7,
   "metadata": {},
   "outputs": [],
   "source": [
    "import statistics"
   ]
  },
  {
   "cell_type": "code",
   "execution_count": 8,
   "metadata": {},
   "outputs": [],
   "source": [
    "from scipy.interpolate import UnivariateSpline"
   ]
  },
  {
   "cell_type": "markdown",
   "metadata": {
    "colab_type": "text",
    "id": "FamzMgIcD2xs"
   },
   "source": [
    "# Definition of Named Tuples"
   ]
  },
  {
   "cell_type": "code",
   "execution_count": 9,
   "metadata": {
    "colab": {},
    "colab_type": "code",
    "id": "Uzxt0sq0qeHc"
   },
   "outputs": [],
   "source": [
    "component = col.namedtuple('component','phase intensity')"
   ]
  },
  {
   "cell_type": "code",
   "execution_count": 10,
   "metadata": {
    "colab": {},
    "colab_type": "code",
    "id": "dX49jpTnTzy0"
   },
   "outputs": [],
   "source": [
    "ind_component = col.namedtuple('component','phase intensity width')"
   ]
  },
  {
   "cell_type": "code",
   "execution_count": 11,
   "metadata": {
    "colab": {},
    "colab_type": "code",
    "id": "MdsAp5qWIre5"
   },
   "outputs": [],
   "source": [
    "pulse_component = col.namedtuple('pulse_component','frequency comp1 comp2 errors')"
   ]
  },
  {
   "cell_type": "code",
   "execution_count": 12,
   "metadata": {
    "colab": {},
    "colab_type": "code",
    "id": "xDOdqB5tIrt5"
   },
   "outputs": [],
   "source": [
    "component_separation = col.namedtuple('component_separation','frequency separation')"
   ]
  },
  {
   "cell_type": "markdown",
   "metadata": {
    "colab_type": "text",
    "id": "a8CeXWdQIy8b"
   },
   "source": [
    "# Definition of Functions"
   ]
  },
  {
   "cell_type": "markdown",
   "metadata": {
    "colab_type": "text",
    "id": "nOegi6c8I3gu"
   },
   "source": [
    "Gaussian Fitting Functions:"
   ]
  },
  {
   "cell_type": "code",
   "execution_count": 13,
   "metadata": {},
   "outputs": [],
   "source": [
    "def chsq(observed_values, expected_values, err):\n",
    "    \"\"\"\n",
    "    Chi Squared operation:\n",
    "    Compute the data's chi squared values.\n",
    "    \n",
    "    Parameters:\n",
    "    -----------\n",
    "    observed_values: list\n",
    "        A list of floats - the raw data\n",
    "    expected_values: list\n",
    "        A list of floats - the expected data or the fit\n",
    "    err: float\n",
    "        The error across all data - standard deviation of the noise\n",
    "\n",
    "    Returns:\n",
    "    --------\n",
    "    test_statistic: float\n",
    "        The chi squared value of the data\n",
    "    \n",
    "    Created by Keegan Smith\n",
    "    \"\"\"\n",
    "    test_statistic=0\n",
    "    for observed, expected in zip(observed_values, expected_values):\n",
    "        test_statistic+=((float(observed)-float(expected))/float(err))**2\n",
    "    return test_statistic\n",
    "\n",
    "def chsq_err(observed_values, expected_values, err):\n",
    "    #Same as above but used when there is a different error for each point\n",
    "    test_statistic=0\n",
    "    for observed, expected, error in zip(observed_values, expected_values, err):\n",
    "        test_statistic+=((float(observed)-float(expected))/float(error))**2\n",
    "    return test_statistic"
   ]
  },
  {
   "cell_type": "code",
   "execution_count": 14,
   "metadata": {
    "colab": {},
    "colab_type": "code",
    "id": "Jf6ae6VTR-iR"
   },
   "outputs": [],
   "source": [
    "def gauss(x,amp,cen,sd):\n",
    "    return amp*np.exp(-(x-cen)**2/(2*sd**2))\n",
    "\n",
    "def twogauss(x,amp1,cen1,sd1,amp2,cen2,sd2):\n",
    "    return gauss(x,amp1,cen1,sd1)+gauss(x,amp2,cen2,sd2)\n",
    "\n",
    "def threegauss(x,amp1,cen1,sd1,amp2,cen2,sd2,amp3,cen3,sd3):\n",
    "    return gauss(x,amp1,cen1,sd1)+gauss(x,amp2,cen2,sd2)+gauss(x,amp3,cen3,sd3)\n",
    "\n",
    "def fourgauss(x,amp1,cen1,sd1,amp2,cen2,sd2,amp3,cen3,sd3,amp4,cen4,sd4):\n",
    "    return gauss(x,amp1,cen1,sd1)+gauss(x,amp2,cen2,sd2)+gauss(x,amp3,cen3,sd3)+gauss(x,amp4,cen4,sd4)"
   ]
  },
  {
   "cell_type": "code",
   "execution_count": 15,
   "metadata": {},
   "outputs": [],
   "source": [
    "def fitting_parameters(x,y,expected):\n",
    "    params,cov=curve_fit(threegauss,x,y,expected, bounds=([0,0,0,0,0,0,0,0,0],[np.inf,np.inf,np.inf,np.inf,np.inf,np.inf,np.inf,np.inf,np.inf]))\n",
    "    sigma=np.sqrt(np.diag(cov))\n",
    "    return params, cov, sigma\n",
    "\n",
    "def fittingtwo_parameters(x,y,expected):\n",
    "    params,cov=curve_fit(twogauss,x,y,expected, bounds=([0,0,0,0,0,0],[np.inf,np.inf,np.inf,np.inf,np.inf,np.inf]))\n",
    "    sigma=np.sqrt(np.diag(cov))\n",
    "    return params, cov, sigma\n",
    "\n",
    "def fittingfour_parameters(x,y,expected):\n",
    "    params,cov=curve_fit(fourgauss,x,y,expected, bounds=([0,0,0,0,0,0,0,0,0,0,0,0],[np.inf,np.inf,np.inf,np.inf,np.inf,np.inf,np.inf,np.inf,np.inf,np.inf,np.inf,np.inf]))\n",
    "    sigma=np.sqrt(np.diag(cov))\n",
    "    return params, cov, sigma"
   ]
  },
  {
   "cell_type": "markdown",
   "metadata": {
    "colab_type": "text",
    "id": "Hf__MEBnJEd_"
   },
   "source": [
    "Finding Peak of Fittings Function"
   ]
  },
  {
   "cell_type": "code",
   "execution_count": 16,
   "metadata": {},
   "outputs": [],
   "source": [
    "def sigmaClip(data, alpha=3, tol=0.1, ntrials=10):\n",
    "    \"\"\"\n",
    "    Sigma clipping operation:\n",
    "    Compute the data's median, m, and its standard deviation, sigma.\n",
    "    Keep only the data that falls in the range (m-alpha*sigma,m+alpha*sigma) for some value of alpha, and discard everything else.\n",
    "\n",
    "    This operation is repeated ntrials number of times or until the tolerance level is hit.\n",
    "\n",
    "    Parameters:\n",
    "    -----------\n",
    "    data: list\n",
    "        A list of floats - the data to clip\n",
    "    alpha: float\n",
    "        OPTIONAL - Determines the number of sigmas to use to determine the upper nad lower limits. Default=3\n",
    "    tol: float\n",
    "        OPTIONAL - The fractional change in the standard deviation that determines when the tolerance is hit. Default=0.1\n",
    "    ntrils: int\n",
    "        OPTIONAL - The maximum number of times to apply the operation. Default=10\n",
    "\n",
    "    Returns:\n",
    "    --------\n",
    "    oldstd: float\n",
    "        The std of the clipped data\n",
    "    x: list\n",
    "        The data list that contains only noise, with nans in place of 'real' data\n",
    "    \n",
    "    Created by Nick Swainston\n",
    "    \"\"\"\n",
    "    x = np.copy(data)\n",
    "    oldstd = np.nanstd(x)\n",
    "    #When the x[x<lolim] and x[x>hilim] commands encounter a nan it produces a\n",
    "    #warning. This is expected because it is ignoring flagged data from a\n",
    "    #previous trial so the warning is supressed.\n",
    "    old_settings = np.seterr(all='ignore')\n",
    "    for trial in range(ntrials):\n",
    "        median = np.nanmedian(x)\n",
    "\n",
    "        lolim = median - alpha * oldstd\n",
    "        hilim = median + alpha * oldstd\n",
    "        x[x<lolim] = np.nan\n",
    "        x[x>hilim] = np.nan\n",
    "\n",
    "        newstd = np.nanstd(x)\n",
    "        tollvl = (oldstd - newstd) / newstd\n",
    "\n",
    "        if tollvl <= tol:\n",
    "            #print(\"Took {0} trials to reach tolerance\".format(trial+1))\n",
    "            np.seterr(**old_settings)\n",
    "            return oldstd, x\n",
    "\n",
    "        if trial + 1 == ntrials:\n",
    "            #print(\"Reached number of trials without reaching tolerance level\")\n",
    "            np.seterr(**old_settings)\n",
    "            return oldstd, x\n",
    "\n",
    "        oldstd = newstd"
   ]
  },
  {
   "cell_type": "code",
   "execution_count": 17,
   "metadata": {},
   "outputs": [],
   "source": [
    "def find_x_err(x, popt, pcov):\n",
    "    \"\"\"\n",
    "    Finds the error in the horizontal position of a gaussian fit at the point x.\n",
    "    Uses the equation sigma_x = sigma_y/d2ydx2 where:\n",
    "    sigma_x = error in x\n",
    "    d2ydx2 = second derivative of the gaussian function at point x\n",
    "    sigma_y = J*C*J_T\n",
    "    J = Jacobian evalutated at point x\n",
    "    C = covariance matrix of gaussian fit\n",
    "    J_T = transposed jacobian\n",
    "\n",
    "    Parameters:\n",
    "    -----------\n",
    "    x: list\n",
    "        A list of points to evaluate the error at\n",
    "    popt: list\n",
    "        The parameters used to describe the gaussian fit\n",
    "    pcov: numpy.matrix\n",
    "        The covariance matrix corresponding to popt\n",
    "\n",
    "    Returns:\n",
    "    --------\n",
    "    x_err: list\n",
    "        The error evaluated at each point, x\n",
    "    \"\"\"\n",
    "    x_err = []\n",
    "    for i, point in enumerate(x):\n",
    "        J = jacobian_slope(point, *popt)\n",
    "        d2dx2 = multi_gauss_d2dx2(point, *popt)\n",
    "        JC = np.matmul(J, pcov)\n",
    "        sigma_y = np.sqrt( np.matmul(JC, np.transpose(J)).item(0) )\n",
    "        x_err.append(sigma_y / abs(d2dx2))\n",
    "    return x_err\n"
   ]
  },
  {
   "cell_type": "code",
   "execution_count": 18,
   "metadata": {},
   "outputs": [],
   "source": [
    "def multi_gauss(x, *params):\n",
    "    y = np.zeros_like(x)\n",
    "    for i in range(0, len(params), 3):\n",
    "        a = params[i]\n",
    "        b = params[i+1]\n",
    "        c = params[i+2]\n",
    "        y = y +  a * np.exp( -(((x-b)**2) / (2*c**2)) )\n",
    "    return y\n",
    "\n",
    "def multi_gauss_ddx(x, *params):\n",
    "    #derivative of gaussian\n",
    "    y = np.zeros_like(x)\n",
    "    for i in range(0, len(params), 3):\n",
    "        a = params[i]\n",
    "        b = params[i+1]\n",
    "        c = params[i+2]\n",
    "        y = y - a/c**2 * (x - b) * np.exp( -(((x-b)**2) / (2*c**2)) )\n",
    "    return y\n",
    "\n",
    "def multi_gauss_d2dx2(x, *params):\n",
    "    #double derivative of gaussian\n",
    "    y = np.zeros_like(x)\n",
    "    for i in range(0, len(params), 3):\n",
    "        a = params[i]\n",
    "        b = params[i+1]\n",
    "        c = params[i+2]\n",
    "        y = y + (multi_gauss(x, a, b, c) / c**2) * (((x - b)**2)/(c**2) - 1)\n",
    "    return y\n",
    "\n",
    "def jacobian_slope(x, *params):\n",
    "    \"\"\"\n",
    "    Evaluates the Jacobian matrix of a gaussian slope at a single point, x\n",
    "\n",
    "    Parameters:\n",
    "    -----------\n",
    "    x: float\n",
    "        The point to evaluate\n",
    "    *params: list\n",
    "        A list containing three parameters per gaussian component in the order: Amp, Mean, Width\n",
    "\n",
    "    Returns:\n",
    "    --------\n",
    "    J: numpy.matrix\n",
    "        The Jacobian matrix\n",
    "    \"\"\"\n",
    "    def dda(a, b, c, x):\n",
    "        return -multi_gauss(x, a, b, c) * (x - b)/(c**2)/a\n",
    "    def ddb(a, b, c, x):\n",
    "        return multi_gauss(x, a, b, c) * (1 - (x - b)**2/(c**2))/c**2\n",
    "    def ddc(a, b, c, x):\n",
    "        return multi_gauss(x, a, b, c) * (x - b)/(c**3) * (2 - (x-b)**2/(c**2))\n",
    "    J = []\n",
    "    for i in range(0, len(params), 3):\n",
    "        a = params[i]\n",
    "        b = params[i+1]\n",
    "        c = params[i+2]\n",
    "        mypars = [a, b, c, x]\n",
    "        J.append(dda(*mypars))\n",
    "        J.append(ddb(*mypars))\n",
    "        J.append(ddc(*mypars))\n",
    "    J = np.asmatrix(J)\n",
    "    return J"
   ]
  },
  {
   "cell_type": "code",
   "execution_count": 19,
   "metadata": {},
   "outputs": [],
   "source": [
    "def find_minima_maxima_gauss(popt, pcov, x_length):\n",
    "    \"\"\"\n",
    "    Finds all roots of a gaussian function\n",
    "\n",
    "    Parameters:\n",
    "    -----------\n",
    "    popt: list\n",
    "        A list of length 3N where N is the number of gaussians. This list contains the parameters amp, mean, centre respectively\n",
    "    x_length: int\n",
    "        The length of the list used to fit the gaussian\n",
    "\n",
    "    Returns:\n",
    "    --------\n",
    "    minima: list\n",
    "        A list of the minimum points of the fit\n",
    "    maxima: list\n",
    "        A list of the maximum points of the fit\n",
    "    \"\"\"\n",
    "    #Create the derivative list and spline it to find roots\n",
    "    x = np.linspace(0, x_length-1, x_length)\n",
    "    dy = multi_gauss_ddx(x, *popt)\n",
    "    spline_dy = UnivariateSpline(x, dy, s=0)\n",
    "    roots = spline_dy.roots()\n",
    "    \n",
    "    #Find which are max and min\n",
    "    maxima = []\n",
    "    minima = []\n",
    "    for root in roots:\n",
    "        idx = int(root + 0.5)\n",
    "        if dy[idx-1] > dy[idx]:\n",
    "            maxima.append(root)\n",
    "        else:\n",
    "            minima.append(root)            \n",
    "            \n",
    "    minima_e = find_x_err(minima, popt, pcov)\n",
    "    maxima_e = find_x_err(maxima, popt, pcov)\n",
    "\n",
    "    return minima, maxima, minima_e, maxima_e"
   ]
  },
  {
   "cell_type": "code",
   "execution_count": 20,
   "metadata": {},
   "outputs": [],
   "source": [
    "def gauss_peaks(fit, nofreqband, freqband, pcov, params,freq_low,freq_high):\n",
    "    \"\"\"\n",
    "    Find the peaks of a gaussian fit, take the highest two and create a profile_comp.\n",
    "    Also converts the phase into degrees and the frequency into MHz.\n",
    "    Parameters:\n",
    "    -----------\n",
    "    fit: list\n",
    "        the gaussian fit to find peaks of\n",
    "    nofreqband: int\n",
    "        total number of frequency bins \n",
    "    freqband: int\n",
    "        current frequency band which has been fit\n",
    "    noise_std: int\n",
    "        the standard deviation of the noise - the error of the data\n",
    "    params: list\n",
    "        the parameters for the fit\n",
    "    freq_low: int\n",
    "        the lower boundary of the frequency range\n",
    "    freq_high: int\n",
    "        the high boundary of the frequency range\n",
    "    Returns:\n",
    "    --------\n",
    "    profile_comp: pulse_component\n",
    "        carrys information about each component at a certain frequency\n",
    "    \"\"\"\n",
    "    \n",
    "    deg_mod=360/len(fit)\n",
    "    \n",
    "    #Find the peaks of the fit, and the intensity at those peaks\n",
    "    #peakpos = find_minima_maxima(x, fit)\n",
    "    minima, peakpos, minima_e, err = find_minima_maxima_gauss(params, pcov, len(fit))\n",
    "    \n",
    "    if len(params)==9:\n",
    "        peakint = threegauss(peakpos, *params)\n",
    "    elif len(params)==12:\n",
    "        peakint = fourgauss(peakpos, *params)\n",
    "    \n",
    "    while len(peakpos)>2:\n",
    "        mn=min(peakint)\n",
    "        peakint = list(peakint)\n",
    "        rm = peakint.index(mn)\n",
    "        if rm!=0 and rm!=len(peakpos)-1:\n",
    "            del peakpos[rm]\n",
    "            del peakint[rm]\n",
    "            del err[rm]\n",
    "        else:\n",
    "            break        \n",
    "\n",
    "\n",
    "    #Assign the peaks to the correct component label, also converts phase from bins to degrees\n",
    "    if len(peakpos)==2:\n",
    "        component1 = component(phase=(deg_mod)*peakpos[0], intensity=peakint[0])\n",
    "        component2 = component(phase=(deg_mod)*peakpos[1], intensity=peakint[1])\n",
    "        error = np.array(err)*(deg_mod)\n",
    "        print('Maxima', peakpos,err)\n",
    "        print('In deg',component1,component2,error)\n",
    "    \n",
    "    else:\n",
    "        component1 = component(phase=0, intensity=0)\n",
    "        component2 = component(phase=0, intensity=0)\n",
    "        error = 0       \n",
    "   \n",
    "    #Converts the frequency from bins to MHz    \n",
    "    freq=(((freq_high-freq_low)/nofreqband)*(nofreqband-freqband))+freq_low\n",
    "\n",
    "    profile_comp = pulse_component(frequency=freq, comp1=component1, comp2=component2, errors=error)\n",
    "\n",
    "    return profile_comp"
   ]
  },
  {
   "cell_type": "markdown",
   "metadata": {},
   "source": [
    "Removing outliers"
   ]
  },
  {
   "cell_type": "code",
   "execution_count": 21,
   "metadata": {},
   "outputs": [],
   "source": [
    "\"\"\"\n",
    "    Removing outliers operation\n",
    "    Used to remove outliers more than the threshold number of standard deviations from the mean. \n",
    "    Also removes points with high errors.\n",
    "\"\"\"\n",
    "def detect_outlier(frequency_comp, phase_comp, comp_err , threshold):\n",
    "    phase=[]\n",
    "    frequency=[]\n",
    "    err=[]\n",
    "    \n",
    "    mean_1 = np.mean(phase_comp)\n",
    "    std_1 =np.std(phase_comp)\n",
    "    \n",
    "    \n",
    "    for i in range(len(phase_comp)):\n",
    "        z_score= (phase_comp[i] - mean_1)/std_1 \n",
    "        if np.abs(z_score) < threshold and comp_err[i]<100:\n",
    "            phase.append(phase_comp[i])\n",
    "            frequency.append(frequency_comp[i])\n",
    "            err.append(comp_err[i])\n",
    "    return frequency, phase, err"
   ]
  },
  {
   "cell_type": "markdown",
   "metadata": {
    "colab_type": "text",
    "id": "4P1qFLYpI9hB"
   },
   "source": [
    "Plotting Fittings Functions"
   ]
  },
  {
   "cell_type": "code",
   "execution_count": 22,
   "metadata": {
    "colab": {},
    "colab_type": "code",
    "id": "gPhqw8WaI8pp"
   },
   "outputs": [],
   "source": [
    "def plot_fit(x,y,fit,params,sigma):\n",
    "    py.plot(x, y, lw=0.5, label='data')\n",
    "    py.plot(x,fit, color='red',lw=3,label='gaussian fit')\n",
    "    py.xlabel('Phase Bin')\n",
    "    py.ylabel('Intensity')\n",
    "    py.legend()\n",
    "    return"
   ]
  },
  {
   "cell_type": "code",
   "execution_count": 23,
   "metadata": {
    "colab": {},
    "colab_type": "code",
    "id": "NmHjFzTFith2"
   },
   "outputs": [],
   "source": [
    "def plot_fill(x,y,params):\n",
    "    params1 = params[0:3]\n",
    "    params2 = params[3:6]\n",
    "    params3 = params[6:9]\n",
    "    gfit1 = gauss(x, *params1)\n",
    "    gfit2 = gauss(x, *params2)\n",
    "    gfit3 = gauss(x, *params3)\n",
    "\n",
    "    py.plot(x, y, lw=0.5, label='data')\n",
    "    py.plot(x,fit,color='red',lw=3,label='gaussian fit')\n",
    "    py.xlabel('Phase Bin')\n",
    "    py.ylabel('Intensity')\n",
    "    py.legend()\n",
    "\n",
    "    py.plot(x, gfit1, \"g\")\n",
    "    py.fill_between(x, gfit1.min(), gfit1, facecolor=\"green\", alpha=0.5)\n",
    "    py.plot(x, gfit2, \"y\")\n",
    "    py.fill_between(x, gfit2.min(), gfit2, facecolor=\"yellow\", alpha=0.5)\n",
    "    py.plot(x, gfit3, \"b\")\n",
    "    py.fill_between(x, gfit3.min(), gfit3, facecolor=\"blue\", alpha=0.5)\n",
    "\n",
    "    return "
   ]
  },
  {
   "cell_type": "code",
   "execution_count": 24,
   "metadata": {
    "colab": {},
    "colab_type": "code",
    "id": "b6Y_oMHJbEEz"
   },
   "outputs": [],
   "source": [
    "def plot_peaks(x,y,profile_comp):\n",
    "    py.plot(x,y, lw=1)\n",
    "    py.plot(x, fit, color='red', lw=3, label='gaussian fit')\n",
    "\n",
    "    x=[profile_comp[i][0] for i in range(1,3)]\n",
    "    y=[profile_comp[i][1] for i in range(1,3)]\n",
    "\n",
    "    py.plot(x, y ,'X', markerfacecolor='black', markeredgecolor='black', label='peaks')\n",
    "\n",
    "    py.xlabel('Phase (deg)')\n",
    "    py.ylabel('Intensity')\n",
    "    py.legend()\n",
    "    return"
   ]
  },
  {
   "cell_type": "markdown",
   "metadata": {
    "colab_type": "text",
    "id": "L_oE3uFcsKkA"
   },
   "source": [
    "Functions for Fitting Separation Data"
   ]
  },
  {
   "cell_type": "code",
   "execution_count": 25,
   "metadata": {
    "colab": {},
    "colab_type": "code",
    "id": "EgEnQbxBujiH"
   },
   "outputs": [],
   "source": [
    "def separation_singleprofile(components_array):\n",
    "    sep_array=[]\n",
    "    uncert=[]\n",
    "\n",
    "    #Go through all the different frequencies\n",
    "    for i in range(0,len(components_array)):\n",
    "        if components_array[i][1][0] != 0 and components_array[i][2][0] != 0:\n",
    "            freq=components_array[i][0]\n",
    "            #Subtract second component from first\n",
    "            sep=(components_array[i][2][0]) - (components_array[i][1][0])\n",
    "            single_sep=component_separation(frequency=freq, separation=sep)\n",
    "            sep_array.append(single_sep)\n",
    "            #Calculate uncertainty\n",
    "            uncert.append(np.sqrt((components_array[i][3][0])**2 + (components_array[i][3][1])**2))\n",
    "    return sep_array, uncert"
   ]
  },
  {
   "cell_type": "code",
   "execution_count": 26,
   "metadata": {
    "colab": {},
    "colab_type": "code",
    "id": "_V1yQ0U5__mq"
   },
   "outputs": [],
   "source": [
    "def thorsett(x, A, alpha, smin):\n",
    "    return (A * (x**(alpha)) + smin)"
   ]
  },
  {
   "cell_type": "code",
   "execution_count": 27,
   "metadata": {},
   "outputs": [],
   "source": [
    "def powerlaw(x, A, alpha):\n",
    "    return (A * (x**(alpha)))"
   ]
  },
  {
   "cell_type": "markdown",
   "metadata": {
    "colab_type": "text",
    "id": "HsEW4YA0D-QH"
   },
   "source": [
    "# Importing Data"
   ]
  },
  {
   "cell_type": "markdown",
   "metadata": {
    "colab_type": "text",
    "id": "5aCGkE3ZYbBM"
   },
   "source": [
    "Data must be in text file format from software pdv.\n",
    "Also must contain time scrunched data so that the first column of numbers is always 0 (only one pulse). "
   ]
  },
  {
   "cell_type": "markdown",
   "metadata": {},
   "source": [
    "GMRT data"
   ]
  },
  {
   "cell_type": "code",
   "execution_count": 28,
   "metadata": {
    "colab": {},
    "colab_type": "code",
    "id": "4ieR-2IlfGA_"
   },
   "outputs": [],
   "source": [
    "fulldatatype=([('pulse','i8'),('frequency','i8'),('phase','i8'),('intensity','f8')])"
   ]
  },
  {
   "cell_type": "code",
   "execution_count": 29,
   "metadata": {
    "colab": {},
    "colab_type": "code",
    "id": "o9kgY0kqfIrQ"
   },
   "outputs": [],
   "source": [
    "averageprofiles = np.loadtxt(fname='../archivefiles/com_archivefiles/pdv/J0820_s_f28_T_pazi.pdv', dtype=fulldatatype)"
   ]
  },
  {
   "cell_type": "code",
   "execution_count": 30,
   "metadata": {},
   "outputs": [],
   "source": [
    "#averageprofiles = np.loadtxt(fname='../archivefiles/com_archivefiles/f28new/J0820_t20_f28_T.pdv', dtype=fulldatatype)"
   ]
  },
  {
   "cell_type": "code",
   "execution_count": 31,
   "metadata": {
    "colab": {},
    "colab_type": "code",
    "id": "Wfp5R_xond9z"
   },
   "outputs": [],
   "source": [
    "no_freq_bands = max(averageprofiles['frequency'])+1"
   ]
  },
  {
   "cell_type": "markdown",
   "metadata": {},
   "source": [
    "MWA data"
   ]
  },
  {
   "cell_type": "code",
   "execution_count": 32,
   "metadata": {},
   "outputs": [],
   "source": [
    "averagemprofiles = np.loadtxt(fname='../archivefiles/com_archivefiles/MWA_f256/J0820_MWA_f256_b4.pdv', dtype=fulldatatype)"
   ]
  },
  {
   "cell_type": "code",
   "execution_count": 33,
   "metadata": {},
   "outputs": [],
   "source": [
    "nom_freq_bands = max(averagemprofiles['frequency'])+1"
   ]
  },
  {
   "cell_type": "markdown",
   "metadata": {},
   "source": [
    "Extra data "
   ]
  },
  {
   "cell_type": "code",
   "execution_count": 34,
   "metadata": {},
   "outputs": [],
   "source": [
    "highfrequencyprofile = np.loadtxt(fname='../archivefiles/extra_data/J0820-4114.1400MHz.txt', dtype=fulldatatype)"
   ]
  },
  {
   "cell_type": "code",
   "execution_count": 35,
   "metadata": {},
   "outputs": [],
   "source": [
    "#mwaprofile = np.loadtxt(fname='../archivefiles/extra_data/1139239952_ch133-156_0001_PSR_J0820-4114.pfd.bestprof.txt', dtype=fulldatatype)\n",
    "mwaprofile = np.loadtxt(fname='../archivefiles/com_archivefiles/MWA_F/J0820_MWA_F_T.pdv', dtype=fulldatatype)"
   ]
  },
  {
   "cell_type": "markdown",
   "metadata": {
    "colab_type": "text",
    "id": "eKWvXxMcEIfE"
   },
   "source": [
    "# Gaussian Plotting of Individual Frequency Band "
   ]
  },
  {
   "cell_type": "markdown",
   "metadata": {
    "colab_type": "text",
    "id": "MVQ_pgyRnofm"
   },
   "source": [
    "Following Section is for error checking. "
   ]
  },
  {
   "cell_type": "code",
   "execution_count": 36,
   "metadata": {
    "colab": {},
    "colab_type": "code",
    "id": "mcIptVeffJXA"
   },
   "outputs": [],
   "source": [
    "#Takes a single frequency band out of all the profiles for analysis.\n",
    "freqband = 140\n",
    "f = averageprofiles['frequency'] == freqband\n",
    "phase=averageprofiles['phase'][f]\n",
    "intensity=averageprofiles['intensity'][f]\n",
    "x = phase\n",
    "y = intensity"
   ]
  },
  {
   "cell_type": "code",
   "execution_count": 37,
   "metadata": {
    "colab": {
     "base_uri": "https://localhost:8080/",
     "height": 35
    },
    "colab_type": "code",
    "id": "-I5g-Wtoqa_l",
    "outputId": "6c926b6f-a6b6-4303-e637-48a2cc0a15fb"
   },
   "outputs": [
    {
     "data": {
      "text/plain": [
       "1024"
      ]
     },
     "execution_count": 37,
     "metadata": {},
     "output_type": "execute_result"
    }
   ],
   "source": [
    "len(y)"
   ]
  },
  {
   "cell_type": "code",
   "execution_count": 38,
   "metadata": {},
   "outputs": [
    {
     "name": "stdout",
     "output_type": "stream",
     "text": [
      "0.7658617775832011\n"
     ]
    }
   ],
   "source": [
    "#Calculates the noise of the data. The standard deviation of this is then the error in the data. \n",
    "noise = sigmaClip(y)\n",
    "noise_std = np.nanstd(noise[1])\n",
    "print(noise_std)"
   ]
  },
  {
   "cell_type": "code",
   "execution_count": 39,
   "metadata": {
    "colab": {},
    "colab_type": "code",
    "id": "nvTDzWP-WMAh"
   },
   "outputs": [
    {
     "name": "stdout",
     "output_type": "stream",
     "text": [
      "Maxima [497.2187638463139, 743.167967570735] [0.9937032919978968, 0.5936552702982876]\n",
      "In deg component(phase=174.80347166471972, intensity=2.607791962466784) component(phase=261.2699885990865, intensity=3.303381206893288) [0.34934881 0.20870693]\n"
     ]
    }
   ],
   "source": [
    "#Expected is taken from Peaks and Gaussian fittings of frequency band 73\n",
    "expected=(7,505,30,4,655,80,9,745,20)\n",
    "#expected=(501,30,8.02,655,80,4.07,741,20,11.29)\n",
    "#Fits three gaussians to the data\n",
    "params, cov, sigma = fitting_parameters(x,y,expected)\n",
    "fit = threegauss(x,*params)\n",
    "#Then finds the maxima of the fit. It only takes the largest two (given they are the outer maxima).\n",
    "#Error for the maxima position is calculated by finding the positions of the fit at an intensity-noise level\n",
    "profile_comp = gauss_peaks(fit, no_freq_bands, freqband, cov, params,300,500)"
   ]
  },
  {
   "cell_type": "code",
   "execution_count": 40,
   "metadata": {
    "colab": {
     "base_uri": "https://localhost:8080/",
     "height": 279
    },
    "colab_type": "code",
    "id": "mmZe3OBoZ8rn",
    "outputId": "f4fbbdb4-6a61-4b32-a144-7e3e202771b4"
   },
   "outputs": [
    {
     "data": {
      "image/png": "[encoded data removed]",
      "text/plain": [
       "<matplotlib.figure.Figure at 0x7fd12c4ec630>"
      ]
     },
     "metadata": {},
     "output_type": "display_data"
    }
   ],
   "source": [
    "plot_peaks(x*(360/1024),y,profile_comp)"
   ]
  },
  {
   "cell_type": "code",
   "execution_count": 41,
   "metadata": {
    "colab": {
     "base_uri": "https://localhost:8080/",
     "height": 279
    },
    "colab_type": "code",
    "id": "vZAjg5geZVkC",
    "outputId": "140132f9-2e27-4888-d3e3-a91c901affe6"
   },
   "outputs": [
    {
     "data": {
      "image/png": "[encoded data removed]",
      "text/plain": [
       "<matplotlib.figure.Figure at 0x7fd12c4e04e0>"
      ]
     },
     "metadata": {},
     "output_type": "display_data"
    }
   ],
   "source": [
    "plot_fill(x,y,params)"
   ]
  },
  {
   "cell_type": "markdown",
   "metadata": {},
   "source": [
    "#### For the EPTA data set"
   ]
  },
  {
   "cell_type": "code",
   "execution_count": 42,
   "metadata": {},
   "outputs": [],
   "source": [
    "phase=highfrequencyprofile['phase']\n",
    "intensity=highfrequencyprofile['intensity']\n",
    "x = phase\n",
    "y=[]\n",
    "\n",
    "#Used to bring the data down, to be centred at 0\n",
    "m=statistics.mean(intensity[600:])\n",
    "for i in intensity:\n",
    "    y.append(i-m)"
   ]
  },
  {
   "cell_type": "code",
   "execution_count": 43,
   "metadata": {},
   "outputs": [
    {
     "name": "stdout",
     "output_type": "stream",
     "text": [
      "10.47993007576531\n"
     ]
    }
   ],
   "source": [
    "#Calculates the noise of the data. The standard deviation of this is then the error in the data. \n",
    "noise = sigmaClip(y)\n",
    "noise_std = np.nanstd(noise[1])\n",
    "print(noise_std)"
   ]
  },
  {
   "cell_type": "code",
   "execution_count": 44,
   "metadata": {},
   "outputs": [
    {
     "name": "stdout",
     "output_type": "stream",
     "text": [
      "Maxima [272.8420718611404, 456.3092761430807] [0.3766354385468707, 0.4947695740237753]\n",
      "In deg component(phase=95.92104088868219, intensity=30.483901995712696) component(phase=160.4212298940518, intensity=28.20209967137492) [0.1324109  0.17394243]\n"
     ]
    }
   ],
   "source": [
    "#Expected is taken from Peaks and Gaussian fittings of this frequency band\n",
    "#expected=(270,30,25,370,80,20,470,20,20)\n",
    "expected=(25,270,30,20,370,80,20,470,20)\n",
    "params, cov, sigma = fitting_parameters(x,y,expected)\n",
    "fit = threegauss(x,*params)\n",
    "profile_comp = gauss_peaks(fit, 1, 0, cov, params,1396,1397)"
   ]
  },
  {
   "cell_type": "code",
   "execution_count": 45,
   "metadata": {},
   "outputs": [
    {
     "data": {
      "image/png": "[encoded data removed]",
      "text/plain": [
       "<matplotlib.figure.Figure at 0x7fd12c40da90>"
      ]
     },
     "metadata": {},
     "output_type": "display_data"
    }
   ],
   "source": [
    "plot_fill(x,y,params)"
   ]
  },
  {
   "cell_type": "code",
   "execution_count": 46,
   "metadata": {},
   "outputs": [
    {
     "data": {
      "image/png": "[encoded data removed]",
      "text/plain": [
       "<matplotlib.figure.Figure at 0x7fd12c3bdac8>"
      ]
     },
     "metadata": {},
     "output_type": "display_data"
    }
   ],
   "source": [
    "plot_peaks(x*(360/1024),y,profile_comp)"
   ]
  },
  {
   "cell_type": "markdown",
   "metadata": {},
   "source": [
    "#### MWA Data Set"
   ]
  },
  {
   "cell_type": "code",
   "execution_count": 47,
   "metadata": {},
   "outputs": [],
   "source": [
    "freqband = 1\n",
    "f = averagemprofiles['frequency'] == freqband\n",
    "phase=averagemprofiles['phase'][f]\n",
    "intensity=averagemprofiles['intensity'][f]\n",
    "x = phase\n",
    "y = intensity"
   ]
  },
  {
   "cell_type": "code",
   "execution_count": 48,
   "metadata": {},
   "outputs": [
    {
     "data": {
      "text/plain": [
       "256"
      ]
     },
     "execution_count": 48,
     "metadata": {},
     "output_type": "execute_result"
    }
   ],
   "source": [
    "len(y)"
   ]
  },
  {
   "cell_type": "code",
   "execution_count": 49,
   "metadata": {},
   "outputs": [
    {
     "name": "stdout",
     "output_type": "stream",
     "text": [
      "0.017404529035323007 0.01866377025674895\n"
     ]
    }
   ],
   "source": [
    "noise = sigmaClip(y)\n",
    "noise_std = np.nanstd(noise[1])\n",
    "print(noise_std, noise[0])"
   ]
  },
  {
   "cell_type": "code",
   "execution_count": 50,
   "metadata": {},
   "outputs": [],
   "source": [
    "#Taken from Peaks and Gaussian fittings of frequency band 11\n",
    "#expected=(65,5,0.015,80,25,0.015,125,5,0.05,150,15,0.03)\n",
    "expected=(0.015,65,5,0.015,80,25,0.05,125,5,0.03,150,15)"
   ]
  },
  {
   "cell_type": "code",
   "execution_count": 51,
   "metadata": {},
   "outputs": [
    {
     "name": "stdout",
     "output_type": "stream",
     "text": [
      "Maxima [66.2583929422251, 138.26637193501932] [1.5862408753672945, 0.789602015018726]\n",
      "In deg component(phase=93.17586507500405, intensity=0.0350441288097292) component(phase=194.43708553362092, intensity=0.06551776896089556) [2.23065123 1.11037783]\n"
     ]
    }
   ],
   "source": [
    "params,cov,sigma = fittingfour_parameters(x,y,expected)\n",
    "fit = fourgauss(x,*params)\n",
    "profile_comp = gauss_peaks(fit, nom_freq_bands, freqband, cov, params,170,200)"
   ]
  },
  {
   "cell_type": "code",
   "execution_count": 52,
   "metadata": {},
   "outputs": [
    {
     "data": {
      "image/png": "[encoded data removed]",
      "text/plain": [
       "<matplotlib.figure.Figure at 0x7fd12c480eb8>"
      ]
     },
     "metadata": {},
     "output_type": "display_data"
    }
   ],
   "source": [
    "plot_peaks(x*(360/256),y,profile_comp)"
   ]
  },
  {
   "cell_type": "code",
   "execution_count": 53,
   "metadata": {
    "scrolled": true
   },
   "outputs": [
    {
     "data": {
      "image/png": "[encoded data removed]",
      "text/plain": [
       "<matplotlib.figure.Figure at 0x7fd12c4175f8>"
      ]
     },
     "metadata": {},
     "output_type": "display_data"
    }
   ],
   "source": [
    "plot_fill(x,y,params)"
   ]
  },
  {
   "cell_type": "markdown",
   "metadata": {},
   "source": [
    "#### MWA Profile"
   ]
  },
  {
   "cell_type": "code",
   "execution_count": 54,
   "metadata": {},
   "outputs": [],
   "source": [
    "phase=mwaprofile['phase']\n",
    "intensity=mwaprofile['intensity']\n",
    "x = phase\n",
    "y = intensity"
   ]
  },
  {
   "cell_type": "code",
   "execution_count": 55,
   "metadata": {},
   "outputs": [
    {
     "name": "stdout",
     "output_type": "stream",
     "text": [
      "Maxima [268.18600695035843, 561.9151975398361] [3.048866540364818, 1.0850419422469573]\n",
      "In deg component(phase=94.28414306848539, intensity=0.029275009567966387) component(phase=197.54831163509863, intensity=0.058760576124233944) [1.07186714 0.38146006]\n"
     ]
    }
   ],
   "source": [
    "expected=(0.04,240,40,0.02,400,100,0.06,575,45)\n",
    "params,cov,sigma = fitting_parameters(x,y,expected)\n",
    "fit = threegauss(x,*params)\n",
    "profile_comp = gauss_peaks(fit, 1, 0, cov, params,185,186)"
   ]
  },
  {
   "cell_type": "code",
   "execution_count": 56,
   "metadata": {},
   "outputs": [
    {
     "data": {
      "image/png": "[encoded data removed]",
      "text/plain": [
       "<matplotlib.figure.Figure at 0x7fd12c37af98>"
      ]
     },
     "metadata": {},
     "output_type": "display_data"
    }
   ],
   "source": [
    "plot_peaks(x*(360/1024),y,profile_comp)"
   ]
  },
  {
   "cell_type": "code",
   "execution_count": 57,
   "metadata": {},
   "outputs": [
    {
     "data": {
      "image/png": "[encoded data removed]",
      "text/plain": [
       "<matplotlib.figure.Figure at 0x7fd12c482a20>"
      ]
     },
     "metadata": {},
     "output_type": "display_data"
    }
   ],
   "source": [
    "plot_fill(x,y,params)"
   ]
  },
  {
   "cell_type": "markdown",
   "metadata": {
    "colab_type": "text",
    "id": "er13GCy-EUTz"
   },
   "source": [
    "# Gaussian Plotting and Finding Peaks of Overall Fit\n"
   ]
  },
  {
   "cell_type": "markdown",
   "metadata": {
    "colab_type": "text",
    "id": "dUDXQCiVhOyH"
   },
   "source": [
    "The following is a looped version of the previous section to find the correct peaks for each pulse profile"
   ]
  },
  {
   "cell_type": "markdown",
   "metadata": {},
   "source": [
    "#### GMRT Data"
   ]
  },
  {
   "cell_type": "code",
   "execution_count": 58,
   "metadata": {
    "colab": {},
    "colab_type": "code",
    "id": "vJ4G8wv8tQOe"
   },
   "outputs": [],
   "source": [
    "fit_components = []"
   ]
  },
  {
   "cell_type": "code",
   "execution_count": 59,
   "metadata": {
    "colab": {},
    "colab_type": "code",
    "id": "MspZDahR4R4P"
   },
   "outputs": [
    {
     "name": "stdout",
     "output_type": "stream",
     "text": [
      "0\n",
      "1\n",
      "2\n",
      "3\n",
      "4\n",
      "5\n",
      "Params [  1.29202301 511.40827101  37.94686947   1.49228423 617.27898489\n",
      "  30.02725485   2.24489237 740.49397705  40.86377971] [0.06822786 3.34489583 3.46828789 0.07632338 2.56506797 2.98178049\n",
      " 0.06605438 1.60576983 1.76139484]\n",
      "0 0\n",
      "6\n",
      "Params [3.68644712e-01 5.00815239e+02 1.29075259e+01 1.56314813e+00\n",
      " 5.63366843e+02 7.97065338e+01 2.42323702e+00 7.37103860e+02\n",
      " 3.92765296e+01] [0.11956962 4.57786605 5.25127377 0.05489171 4.6830538  4.13052536\n",
      " 0.07230619 1.55427316 1.52987806]\n",
      "0 0\n",
      "7\n",
      "Maxima [544.0622606552859, 746.2332111646497] [2.668782542407409, 1.6304388487429207]\n",
      "In deg component(phase=191.27188851162393, intensity=2.1797924081327413) component(phase=262.34761330007217, intensity=3.2061917608008983) [0.93824386 0.57320116]\n",
      "Params [  2.11123168 540.38674895  50.93281404   1.94491996 706.29715126\n",
      "  63.4560937    1.64686521 750.8136008   21.55610064] [0.06744767 3.47094237 2.85936799 0.13582001 7.03043116 4.52551051\n",
      " 0.1784509  1.72407895 2.34208355]\n",
      "191.27188851162393 262.34761330007217\n",
      "8\n",
      "Maxima [532.6851151854704, 744.8224724329061] [1.4666819457822604, 1.3605569059746054]\n",
      "In deg component(phase=187.27211080739195, intensity=2.5146226257779554) component(phase=261.85165046469353, intensity=3.006116517838665) [0.51563037 0.47832079]\n",
      "Params [  2.22025136 528.92729413  33.86438598   1.68953713 677.69238972\n",
      "  78.59239576   1.8587818  748.83868545  24.02928278] [0.0958839  1.5583254  1.66863582 0.07289536 6.84275422 4.63994637\n",
      " 0.12033576 1.40272685 1.79749217]\n",
      "187.27211080739195 261.85165046469353\n",
      "9\n"
     ]
    },
    {
     "name": "stderr",
     "output_type": "stream",
     "text": [
      "/home/lisasmith/.local/lib/python3.6/site-packages/numpy/lib/nanfunctions.py:1667: RuntimeWarning: Degrees of freedom <= 0 for slice.\n",
      "  keepdims=keepdims)\n",
      "/home/lisasmith/.local/lib/python3.6/site-packages/numpy/lib/nanfunctions.py:1113: RuntimeWarning: Mean of empty slice\n",
      "  return np.nanmean(a, axis, out=out, keepdims=keepdims)\n"
     ]
    },
    {
     "name": "stdout",
     "output_type": "stream",
     "text": [
      "Maxima [524.6544186941985, 743.7624472458567] [1.1763044233557054, 0.9995429526595172]\n",
      "In deg component(phase=184.44881907217916, intensity=2.9354872844104687) component(phase=261.4789853598715, intensity=3.4881666892462357) [0.41354452 0.35140182]\n",
      "Params [  2.69877489 521.65324342  32.43142515   1.91260748 656.86221169\n",
      "  65.42352863   2.72857927 747.72398565  25.78127157] [0.11114838 1.39911886 1.33659266 0.0540125  5.78218097 8.1218175\n",
      " 0.2297198  0.94515518 1.74912236]\n",
      "184.44881907217916 261.4789853598715\n",
      "10\n",
      "Maxima [521.0466841792786, 741.4228618317776] [1.0438478383033853, 0.8188385971863638]\n",
      "In deg component(phase=183.18047490677765, intensity=3.037786358929206) component(phase=260.6564748627343, intensity=3.7308408227290615) [0.36697776 0.28787294]\n",
      "Params [  2.70032484 517.65497151  33.11922065   1.92818389 665.1228426\n",
      "  78.09301093   2.55626572 744.31990792  22.14848005] [0.08260118 1.09125363 1.1752224  0.05219508 4.63373047 3.61480161\n",
      " 0.10308125 0.83931307 1.06920203]\n",
      "183.18047490677765 260.6564748627343\n",
      "11\n",
      "Maxima [517.3960944684047, 738.8999969882053] [1.7753288243116456, 1.4625459794641504]\n",
      "In deg component(phase=181.89706446154852, intensity=2.7787387798958005) component(phase=259.7695301911659, intensity=3.055181427085934) [0.62413904 0.51417632]\n",
      "Params [  2.35586133 512.45307692  34.45227366   1.66763616 638.61117462\n",
      "  74.69892346   2.40485931 743.28581484  29.27351598] [ 0.22166291  1.97507332  2.39573729  0.05990382  9.30042123 14.34821555\n",
      "  0.26151692  1.4462377   2.52661512]\n",
      "181.89706446154852 259.7695301911659\n",
      "12\n",
      "Maxima [521.0278312845701, 738.6365623525716] [1.685848128534164, 1.1057833785385014]\n",
      "In deg component(phase=183.17384693598166, intensity=2.8468666548965076) component(phase=259.67691645207594, intensity=3.3034337001490695) [0.59268098 0.38875197]\n",
      "Params [  1.71294424 513.91891341  34.20811403   1.93957867 637.12223112\n",
      " 115.51506759   2.00170979 741.9246551   25.5117355 ] [0.09381521 1.51447892 2.14275407 0.04414508 6.03863648 3.24865472\n",
      " 0.08431111 1.08419736 1.33823859]\n",
      "183.17384693598166 259.67691645207594\n",
      "13\n",
      "Maxima [525.4344535773414, 744.6173213220758] [1.18841725269429, 0.7699196321947341]\n",
      "In deg component(phase=184.72305008578408, intensity=3.1673669576445502) component(phase=261.77952702729226, intensity=4.020253646493167) [0.41780294 0.27067487]\n",
      "Params [  2.98080712 521.394828    44.64056866   2.30072176 687.19132188\n",
      "  73.08947748   2.35592327 747.39919057  18.89176396] [0.06076001 1.41994409 1.25074114 0.05886261 3.68656637 2.65597943\n",
      " 0.09892417 0.77726869 0.97122325]\n",
      "184.72305008578408 261.77952702729226\n",
      "14\n",
      "Maxima [521.8076408469474, 740.5890425962232] [0.9740321246055947, 0.6545431277307521]\n",
      "In deg component(phase=183.44799873525494, intensity=3.617244491755949) component(phase=260.3633352877347, intensity=4.270284569340824) [0.34243317 0.23011282]\n",
      "Params [  2.25658807 517.4039865   28.71083266   2.27655529 637.17642316\n",
      " 115.89283638   2.75366605 742.67206901  22.02476063] [0.07696384 0.92400299 1.20484937 0.03643903 3.74516514 2.22279733\n",
      " 0.07705455 0.64946577 0.77433385]\n",
      "183.44799873525494 260.3633352877347\n",
      "15\n",
      "Maxima [522.2599769177715, 741.6646273253399] [0.9397834086060268, 0.689605584265015]\n",
      "In deg component(phase=183.60702313515404, intensity=3.752222190752664) component(phase=260.7414705440648, intensity=4.153697818414832) [0.3303926  0.24243946]\n",
      "Params [  2.31230772 518.30406311  28.3998936    2.25196221 634.69943408\n",
      " 120.98891224   2.64160298 743.70465199  21.95435694] [0.07481213 0.91042411 1.1434873  0.03689727 3.63778175 2.18181787\n",
      " 0.07712852 0.68386416 0.80433304]\n",
      "183.60702313515404 260.7414705440648\n",
      "16\n",
      "Maxima [522.6268830278783, 743.55790443204] [1.0324589867902272, 0.7617050982488931]\n",
      "In deg component(phase=183.73601356448847, intensity=3.7217863522703696) component(phase=261.4070757768891, intensity=4.064292323742995) [0.36297386 0.26778695]\n",
      "Params [  2.27755748 518.91216702  29.64325711   2.07098941 629.20698186\n",
      " 127.71779079   2.68739132 745.64987853  23.99924701] [0.07714663 1.02453406 1.25395023 0.04121291 4.24015025 2.52075601\n",
      " 0.07996112 0.7600862  0.89632153]\n",
      "183.73601356448847 261.4070757768891\n",
      "17\n",
      "Maxima [523.5917276028557, 743.8802234296166] [1.0015013833943895, 0.6727937529134382]\n",
      "In deg component(phase=184.07521673537897, intensity=3.719290955325337) component(phase=261.5203910494746, intensity=4.462054384778347) [0.35209033 0.23652905]\n",
      "Params [  2.5920661  518.34366004  34.26337556   2.10030792 644.0366058\n",
      " 110.33173186   3.0816526  746.36134197  25.79423086] [0.09826224 0.9465048  1.42732393 0.0419607  5.80653495 3.11614219\n",
      " 0.08300995 0.67861042 0.85817961]\n",
      "184.07521673537897 261.5203910494746\n",
      "18\n",
      "Maxima [523.7212615409102, 744.8500686306022] [1.021804252711674, 0.6501927457722706]\n",
      "In deg component(phase=184.12075601047624, intensity=4.057079921000241) component(phase=261.86135225294606, intensity=5.068095369909253) [0.35922806 0.22858339]\n",
      "Params [  3.70373812 519.32800924  41.84490182   2.42275928 674.89008704\n",
      "  78.18397576   3.47107627 747.68595807  22.9289721 ] [0.09174138 1.25752797 1.14270202 0.0635024  4.9929048  3.34496249\n",
      " 0.11368225 0.68990701 0.87941881]\n",
      "184.12075601047624 261.86135225294606\n",
      "19\n",
      "Maxima [522.5722640645633, 742.6717903177804] [0.9015765322935594, 0.6235990360368056]\n",
      "In deg component(phase=183.71681158519806, intensity=3.94330528655819) component(phase=261.09555128359466, intensity=4.924598585399494) [0.3169605  0.21923404]\n",
      "Params [  3.80736393 520.42102852  38.69058281   2.18495565 664.5646851\n",
      "  60.71403775   4.00148808 745.82282361  24.86030335] [0.08111715 1.22364733 1.01985027 0.05891722 5.31938256 6.36803748\n",
      " 0.24365168 0.62990883 1.16708487]\n",
      "183.71681158519806 261.09555128359466\n",
      "20\n",
      "Maxima [520.3442439910501, 741.3225486815464] [0.8895661466007398, 0.6987404847368416]\n",
      "In deg component(phase=182.93352327810356, intensity=3.7400943622234126) component(phase=260.62120852085616, intensity=4.857391953045534) [0.3127381  0.24565095]\n",
      "Params [  3.50050322 517.77222977  35.10269643   2.30259764 672.34632123\n",
      "  72.06495667   3.43208958 744.52503362  23.7288474 ] [0.07502332 0.97946878 0.96304509 0.06850274 4.25024144 3.09351343\n",
      " 0.12849463 0.73970194 0.98270709]\n",
      "182.93352327810356 260.62120852085616\n",
      "21\n",
      "Maxima [520.9563479827225, 743.356881951596] [0.9186797517456191, 0.6822026934336252]\n",
      "In deg component(phase=183.14871608767587, intensity=3.7639643263415725) component(phase=261.33640381110797, intensity=4.939636747855658) [0.32297335 0.23983688]\n",
      "Params [  3.58730422 518.28219595  39.59751508   2.65423738 682.31340034\n",
      "  69.89845153   3.16313991 746.5354023   20.94868734] [0.06278063 1.0241826  0.97017634 0.06670787 3.16711205 2.2736802\n",
      " 0.11478692 0.70011487 0.89579229]\n",
      "183.14871608767587 261.33640381110797\n",
      "22\n",
      "23\n",
      "Maxima [522.8065005977975, 741.8360738096811] [1.0705155738650425, 0.6912048905464013]\n",
      "In deg component(phase=183.7991603664132, intensity=3.528023782233443) component(phase=260.801744698716, intensity=4.733052748166682) [0.37635313 0.24300172]\n",
      "Params [  3.50573906 521.96903547  42.7908174    2.64852899 658.79189952\n",
      "  44.12795408   4.31164899 744.88306651  26.05174394] [0.05216877 1.32981892 1.22184164 0.05421641 2.46235989 3.71706129\n",
      " 0.16002207 1.00976656 0.80912733]\n",
      "183.7991603664132 260.801744698716\n",
      "24\n",
      "25\n",
      "Maxima [519.7760733616678, 742.3515957528144] [0.9225443150673934, 0.5617602472677475]\n",
      "In deg component(phase=182.73377579121134, intensity=3.9074435329932693) component(phase=260.98298288184884, intensity=5.077307424592138) [0.32433199 0.19749384]\n",
      "Params [  3.43506673 515.04624993  36.59834619   2.48214124 653.07063189\n",
      "  74.50499393   3.89690388 745.44337432  24.77851822] [0.1015254  1.03752718 1.03893795 0.04520431 4.00142404 4.10373982\n",
      " 0.12692844 0.57896448 0.83386808]\n",
      "182.73377579121134 260.98298288184884\n",
      "26\n",
      "Maxima [523.9871220814232, 742.9200303135942] [0.9168865953798117, 0.570424412718681]\n",
      "In deg component(phase=184.21422260675035, intensity=3.848116479397865) component(phase=261.182823157123, intensity=4.990801426841142) [0.32234294 0.20053983]\n",
      "Params [  3.51550558 519.73831918  38.70177902   2.46188832 662.45949804\n",
      "  70.29609388   3.7463435  746.19854396  24.17646992] [0.08270951 1.09581939 0.98731818 0.04879432 3.90670379 3.61319128\n",
      " 0.12946789 0.59118361 0.84867586]\n",
      "184.21422260675035 261.182823157123\n",
      "27\n",
      "Maxima [522.4828237679403, 745.1493750628852] [0.8428394588272686, 0.5588342442359482]\n",
      "In deg component(phase=183.6853677309165, intensity=3.8919792239248863) component(phase=261.9665771705456, intensity=4.852562688030888) [0.29631075 0.19646516]\n",
      "Params [  3.62384145 519.00921233  37.82540253   2.38223402 660.21289068\n",
      "  66.7463552    3.8253939  748.39548057  24.67998885] [0.08492218 1.06481658 0.92773219 0.04555523 3.74920114 4.7164056\n",
      " 0.16159756 0.55667531 0.93132818]\n",
      "183.6853677309165 261.9665771705456\n",
      "28\n",
      "Maxima [523.0492899847713, 744.6488593324995] [0.7999948586165638, 0.5582091387736409]\n",
      "In deg component(phase=183.88451601027117, intensity=3.8480227973127548) component(phase=261.79061460908184, intensity=4.648035254147781) [0.28124819 0.1962454 ]\n",
      "Params [  3.73536053 521.1779378   37.72514328   2.23619835 663.98595796\n",
      "  58.04061223   3.82674341 747.58494656  23.38470667] [0.0684088  1.1024443  0.91534811 0.04700388 3.88489671 5.52509957\n",
      " 0.20620866 0.55324923 1.00323922]\n",
      "183.88451601027117 261.79061460908184\n",
      "29\n"
     ]
    },
    {
     "name": "stdout",
     "output_type": "stream",
     "text": [
      "Maxima [521.0759678227805, 741.978675096539] [0.7375278910209488, 0.5039605638783049]\n",
      "In deg component(phase=183.19076993769627, intensity=3.821080970286585) component(phase=260.851877963627, intensity=4.664043872604946) [0.25928715 0.17717364]\n",
      "Params [  3.61226468 518.44964407  36.32585914   2.13898483 660.01298105\n",
      "  65.02802005   3.72269336 744.65611087  22.98768337] [0.07045672 0.90823432 0.81611977 0.04287416 3.54783076 4.27450228\n",
      " 0.13932922 0.50597409 0.81934495]\n",
      "183.19076993769627 260.851877963627\n",
      "30\n",
      "Maxima [520.2526278434076, 740.8360346038579] [0.7531707623440254, 0.5627508975126974]\n",
      "In deg component(phase=182.901314476198, intensity=3.8308949972153012) component(phase=260.4501684154188, intensity=4.666851935840167) [0.2647866  0.19784211]\n",
      "Params [  3.66888328 517.8720186   37.70951208   2.21807586 662.37076149\n",
      "  62.65355061   3.68931825 744.27552808  24.92069809] [0.06728028 0.96771674 0.83600258 0.04836127 4.18749732 4.77401116\n",
      " 0.18194617 0.56079212 0.99828217]\n",
      "182.901314476198 260.4501684154188\n",
      "31\n",
      "Maxima [519.1581761259861, 744.8328357979608] [0.7262421028598349, 0.5349219826813506]\n",
      "In deg component(phase=182.51654629429197, intensity=3.9090713541486224) component(phase=261.8552938352206, intensity=4.891008485682951) [0.25531949 0.18805851]\n",
      "Params [  3.70371963 516.27280744  39.62518868   2.53829369 675.60434306\n",
      "  70.41874278   3.36070522 748.04321156  22.10095703] [0.0536162  0.82712703 0.77293373 0.04887399 2.84802363 2.18305496\n",
      " 0.09721308 0.549628   0.72652858]\n",
      "182.51654629429197 261.8552938352206\n",
      "32\n",
      "Maxima [520.6373084191628, 743.0178662490133] [0.808991510657384, 0.47578985321519135]\n",
      "In deg component(phase=183.0365537411119, intensity=3.775042793722563) component(phase=261.21721860316876, intensity=5.165390193997691) [0.28441108 0.16726987]\n",
      "Params [  3.54168654 517.31829974  40.3087329    2.48493828 678.20620164\n",
      "  73.22293668   3.50878348 745.27002525  19.6642647 ] [0.05738221 0.92567098 0.86196093 0.04981058 2.91559636 2.16376515\n",
      " 0.08987882 0.4930713  0.61590805]\n",
      "183.0365537411119 261.21721860316876\n",
      "33\n",
      "Maxima [516.9892692174202, 742.7899961220604] [0.7516695652625928, 0.5413405199422455]\n",
      "In deg component(phase=181.7540399592493, intensity=3.674671386945737) component(phase=261.13710801166184, intensity=4.729557186539183) [0.26425883 0.19031503]\n",
      "Params [  3.25394263 513.35145279  34.79286088   2.23585883 663.88759665\n",
      "  81.38198899   3.35598243 745.64478624  23.90383495] [0.07222787 0.79801455 0.86803921 0.04476972 3.72956831 2.77524148\n",
      " 0.08648842 0.56815156 0.72671139]\n",
      "181.7540399592493 261.13710801166184\n",
      "34\n",
      "Maxima [517.1321571521337, 743.5658958215299] [0.7967079928719352, 0.5374828671777234]\n",
      "In deg component(phase=181.804273998797, intensity=3.4739119843731925) component(phase=261.4098852497566, intensity=4.553303531774789) [0.28009265 0.18895882]\n",
      "Params [  3.0202196  513.53173387  33.14359079   2.03778366 657.38813863\n",
      "  81.97246868   3.3994214  746.05170743  23.63886526] [0.0799711  0.82245291 0.9555166  0.04106359 4.13152637 3.35474035\n",
      " 0.08850188 0.56206112 0.7263939 ]\n",
      "181.804273998797 261.4098852497566\n",
      "35\n",
      "Maxima [519.6721760890305, 744.0131987958231] [0.8571658447340443, 0.5713148186374573]\n",
      "In deg component(phase=182.69724940629976, intensity=3.342680921409706) component(phase=261.56714020165657, intensity=4.47337186154072) [0.30134737 0.20085287]\n",
      "Params [  3.11378536 516.66200628  36.41498358   1.97838721 663.25511366\n",
      "  69.87161573   3.48434725 747.03131318  24.94211349] [0.06889299 0.99338584 0.93757909 0.04701718 4.32679416 4.1464033\n",
      " 0.12898702 0.59712073 0.89744095]\n",
      "182.69724940629976 261.56714020165657\n",
      "36\n",
      "Maxima [519.7516880816343, 744.5969401668864] [0.7661073551305796, 0.4779492876255557]\n",
      "In deg component(phase=182.72520284119955, intensity=3.560519263218725) component(phase=261.772361777421, intensity=4.976361567558861) [0.26933462 0.16802905]\n",
      "Params [  3.37511584 516.98929761  37.86572153   2.23086004 666.03489607\n",
      "  66.21434608   3.90311518 747.64853366  24.44723948] [0.05927855 0.9120418  0.82640253 0.04491608 3.58408682 3.61619405\n",
      " 0.13515113 0.49131025 0.78146796]\n",
      "182.72520284119955 261.772361777421\n",
      "37\n",
      "Maxima [518.3706057929569, 742.8165378340233] [0.7030475281923895, 0.4760884402133392]\n",
      "In deg component(phase=182.2396660990864, intensity=3.874565848563802) component(phase=261.1464390822738, intensity=5.261615708135157) [0.24716515 0.16737484]\n",
      "Params [  3.67861115 516.02028508  35.58465952   2.29216974 663.2292136\n",
      "  65.85458889   4.18725567 745.76212009  24.58153125] [0.06481389 0.82405823 0.76671508 0.04759259 3.73285597 3.88455511\n",
      " 0.15062606 0.48651732 0.79930034]\n",
      "182.2396660990864 261.1464390822738\n",
      "38\n",
      "Maxima [518.559619421531, 742.62544451276] [0.699437044433236, 0.4607582275164843]\n",
      "In deg component(phase=182.306116202882, intensity=3.9321704480078723) component(phase=261.07925783651723, intensity=5.4766982175191865) [0.24589584 0.16198531]\n",
      "Params [  3.68666993 515.72129119  36.85708807   2.5732982  672.55022705\n",
      "  71.70280823   3.91087333 745.40750239  22.27592662] [0.05726776 0.77218058 0.74493124 0.04980775 2.8231501  2.15758417\n",
      " 0.09707006 0.48217978 0.63358179]\n",
      "182.306116202882 261.07925783651723\n",
      "39\n",
      "Maxima [518.875254159672, 743.6162833442166] [0.7681966315993874, 0.5305071484745756]\n",
      "In deg component(phase=182.41708154050968, intensity=3.9011585937782534) component(phase=261.42759961320115, intensity=5.332992433638457) [0.27006913 0.18650642]\n",
      "Params [  3.6478046  515.72667968  38.61516261   2.71600595 679.69907644\n",
      "  74.57297414   3.48381583 746.55362856  21.65592859] [0.05831659 0.84950431 0.81480984 0.05583424 2.79075774 2.00288593\n",
      " 0.09416284 0.55104314 0.69835969]\n",
      "182.41708154050968 261.42759961320115\n",
      "40\n",
      "Maxima [518.2673946474833, 744.7736702810703] [0.7411334629692516, 0.49895206794441127]\n",
      "In deg component(phase=182.20338093075586, intensity=4.0782944242456995) component(phase=261.8344934581888, intensity=5.433112648108143) [0.26055473 0.17541284]\n",
      "Params [  3.75616986 514.83523735  37.16865084   2.69838035 669.42184815\n",
      "  74.16213377   3.85578652 747.7587368   22.74215577] [0.06493218 0.81660926 0.791874   0.04848936 2.94720093 2.35450359\n",
      " 0.10044956 0.51553511 0.6796212 ]\n",
      "182.20338093075586 261.8344934581888\n",
      "41\n",
      "Maxima [516.2385961275097, 745.3240780115145] [0.6802524091925358, 0.4764437424510325]\n",
      "In deg component(phase=181.49013145107764, intensity=4.244346358685547) component(phase=262.0279961759231, intensity=5.504448046356593) [0.23915124 0.16749975]\n",
      "Params [  3.7698081  512.79886995  32.82297664   2.68928397 656.23591768\n",
      "  76.10112894   4.17924325 748.2052093   23.9449579 ] [0.08002986 0.71200413 0.76746556 0.04236128 2.9688657  3.05217423\n",
      " 0.1097374  0.48368135 0.68555578]\n",
      "181.49013145107764 262.0279961759231\n",
      "42\n",
      "Maxima [518.2061638046022, 743.6696570330867] [0.7350860099906104, 0.4283661615808868]\n",
      "In deg component(phase=182.18185446255546, intensity=4.473650260226517) component(phase=261.44636380069454, intensity=6.160051575603318) [0.25842868 0.15059748]\n",
      "Params [  3.85907795 514.03976187  34.12742256   2.65282954 651.22919213\n",
      "  79.02125619   4.84593358 746.10337815  24.33754235] [0.10067952 0.77337362 0.88640407 0.04314216 3.65370147 3.47137721\n",
      " 0.10963541 0.44863136 0.6126824 ]\n",
      "182.18185446255546 261.44636380069454\n",
      "43\n",
      "Maxima [520.726990869865, 743.2646649734569] [0.6398383435533038, 0.4101644511917386]\n",
      "In deg component(phase=183.06808272768689, intensity=4.994721687658555) component(phase=261.3039837797309, intensity=6.613363102053418) [0.22494317 0.14419844]\n",
      "Params [  4.57518011 517.36006835  37.06226344   2.97708899 671.11196933\n",
      "  76.83087548   4.7255899  745.62662629  21.76977999] [0.07358154 0.71699512 0.70891227 0.05272322 2.93958185 2.17964808\n",
      " 0.09874425 0.43121795 0.54584002]\n",
      "183.06808272768689 261.3039837797309\n",
      "44\n",
      "Maxima [519.7915095482124, 743.273757457655] [0.6297234590379235, 0.4724145948602117]\n",
      "In deg component(phase=182.73920257554343, intensity=5.0789336602681) component(phase=261.30718035620686, intensity=6.441410073491763) [0.22138715 0.16608326]\n",
      "Params [  4.72566624 516.84412876  36.98187629   3.01923015 672.43435158\n",
      "  74.41141846   4.5598445  746.31817541  23.68026242] [0.0707686  0.71044385 0.68987315 0.05989652 3.05854345 2.21547226\n",
      " 0.11145242 0.50114662 0.65515559]\n",
      "182.73920257554343 261.30718035620686\n",
      "45\n",
      "Maxima [514.600474436112, 744.3827533429732] [0.6127438244872588, 0.48036149829217006]\n",
      "In deg component(phase=180.91422929394562, intensity=5.03764566715003) component(phase=261.697061722139, intensity=6.452196729159555) [0.21541775 0.16887709]\n",
      "Params [  4.6043832  512.00170073  34.51480484   3.02036591 685.00337934\n",
      "  87.13664667   4.07562876 746.29767704  20.36974982] [0.07538254 0.6440078  0.6953429  0.06357935 2.75277326 2.21236032\n",
      " 0.09918409 0.49759887 0.61739036]\n",
      "180.91422929394562 261.697061722139\n",
      "46\n",
      "Maxima [516.2372382235013, 743.8725350251893] [0.6938692591229164, 0.4680613021091109]\n",
      "In deg component(phase=181.48965406294968, intensity=4.917946070605576) component(phase=261.51768809479313, intensity=6.398802998667827) [0.24393841 0.1645528 ]\n",
      "Params [  4.48816862 512.67468178  37.35166032   3.03986761 666.96052616\n",
      "  77.1167881    4.58387104 746.68427942  23.13248334] [0.07741593 0.77070565 0.76112196 0.05372318 3.08662866 2.38302351\n",
      " 0.10790536 0.48917511 0.63418196]\n",
      "181.48965406294968 261.51768809479313\n",
      "47\n",
      "Maxima [515.3753519306204, 745.3633052151187] [0.7883541521239941, 0.4401011296032252]\n",
      "In deg component(phase=181.18664716310872, intensity=4.965212113754773) component(phase=262.04178698969014, intensity=7.003543269262073) [0.27715576 0.15472305]\n",
      "Params [  4.46880732 511.11555269  38.44597692   3.23270722 664.32084296\n",
      "  78.06741065   5.14942459 747.90181232  22.75906985] [0.08758941 0.87300191 0.85621269 0.05374647 3.1683519  2.55137646\n",
      " 0.11446597 0.4590458  0.59456392]\n",
      "181.18664716310872 262.04178698969014\n",
      "48\n",
      "Maxima [517.7618352601322, 743.8403477916888] [0.8340157935280395, 0.49835211642065885]\n",
      "In deg component(phase=182.02564520864024, intensity=5.287520124684871) component(phase=261.5063722705156, intensity=7.27661892896286) [0.29320868 0.17520192]\n",
      "Params [  5.05523495 514.71534988  43.33382129   3.54441206 677.69348378\n",
      "  69.17242088   5.07832892 746.75950152  21.76313693] [0.07240155 0.9835894  0.88902936 0.07346725 3.02273073 2.20897345\n",
      " 0.14010291 0.52204601 0.68369238]\n",
      "182.02564520864024 261.5063722705156\n",
      "49\n",
      "Maxima [518.6799396530512, 743.6080352491034] [0.628849130872412, 0.42975263156017873]\n",
      "In deg component(phase=182.3484162842758, intensity=5.798519843804635) component(phase=261.42469989226294, intensity=7.6951030550269985) [0.22107977 0.15108491]\n",
      "Params [  5.45679969 515.77225807  38.31625334   3.64314658 672.68604826\n",
      "  71.46904891   5.51453583 746.57308872  22.90116812] [0.07369048 0.71342784 0.67424387 0.06466192 2.69436371 2.0523355\n",
      " 0.12890161 0.45115595 0.59979695]\n",
      "182.3484162842758 261.42469989226294\n",
      "50\n"
     ]
    },
    {
     "name": "stdout",
     "output_type": "stream",
     "text": [
      "Maxima [516.9149317319284, 743.6920162637047] [0.615385682778515, 0.41118940917202085]\n",
      "In deg component(phase=181.72790568700609, intensity=5.932748793088517) component(phase=261.4542244677087, intensity=7.812487905327449) [0.21634653 0.14455878]\n",
      "Params [  5.45407038 513.81691465  35.6196515    3.69967389 667.65589755\n",
      "  75.31672674   5.62660033 746.14414891  21.45030441] [0.08360589 0.66781059 0.66761321 0.0586671  2.5530588  2.08535782\n",
      " 0.12042558 0.42453332 0.54696628]\n",
      "181.72790568700609 261.4542244677087\n",
      "51\n",
      "Maxima [513.736926260626, 743.674512287747] [0.581520109491764, 0.40362509573163996]\n",
      "In deg component(phase=180.61063813850132, intensity=5.94614209591604) component(phase=261.44807072616106, intensity=7.534308978737686) [0.20444066 0.14189945]\n",
      "Params [  5.18175693 510.18919359  33.72668138   3.55989873 661.91820768\n",
      "  85.5041614    5.30833506 745.87439989  21.46897495] [0.09392914 0.59498676 0.68952124 0.05135124 2.79248329 2.17443538\n",
      " 0.10233327 0.4153785  0.51338722]\n",
      "180.61063813850132 261.44807072616106\n",
      "52\n",
      "Maxima [515.1585339266277, 742.9685820385519] [0.7574689002341232, 0.4467525281634057]\n",
      "In deg component(phase=181.11042208358003, intensity=5.314206941834897) component(phase=261.19989212292836, intensity=7.269026733094881) [0.26629766 0.15706144]\n",
      "Params [  4.79164968 510.86109538  39.10939687   3.43915554 666.01362351\n",
      "  78.84191201   5.16858332 745.63875939  22.76742724] [0.08872049 0.84967073 0.82692976 0.05788602 3.15041806 2.34944537\n",
      " 0.11404313 0.46752004 0.59628894]\n",
      "181.11042208358003 261.19989212292836\n",
      "53\n",
      "Maxima [516.3939992184311, 743.6994803281231] [0.6678424556472287, 0.4242683729766248]\n",
      "In deg component(phase=181.54476535022968, intensity=5.436068760741486) component(phase=261.4568485528558, intensity=7.40230781651638) [0.23478836 0.14915685]\n",
      "Params [  4.98046434 513.01653604  37.46356244   3.40610294 673.31298815\n",
      "  79.08837111   5.14017809 746.02964236  21.48522827] [0.07989406 0.73451042 0.73224949 0.06085645 2.82177154 2.08848154\n",
      " 0.10887919 0.4433293  0.55473933]\n",
      "181.54476535022968 261.4568485528558\n",
      "54\n",
      "Maxima [515.7765052589588, 743.4237635378876] [0.7124234571127238, 0.43959442713331237]\n",
      "In deg component(phase=181.3276776301027, intensity=5.437755848332242) component(phase=261.3599168687886, intensity=7.392088721308474) [0.25046137 0.15454492]\n",
      "Params [  4.71738192 511.67003863  35.97862916   3.30955556 665.60963083\n",
      "  86.99584413   5.19913757 745.64981139  22.47070333] [0.10384857 0.74587594 0.85680701 0.05818177 3.57578316 2.57547919\n",
      " 0.10759996 0.45983603 0.57215146]\n",
      "181.3276776301027 261.3599168687886\n",
      "55\n",
      "Maxima [516.1477362267126, 743.9628808468266] [0.6434820150689259, 0.3956816171810636]\n",
      "In deg component(phase=181.45818851720364, intensity=5.676616896264645) component(phase=261.5494502977125, intensity=7.802913143847894) [0.22622415 0.13910682]\n",
      "Params [  5.18543933 512.54096949  38.52742223   3.63194909 676.35577497\n",
      "  81.00840119   5.26823946 746.16722776  20.90990784] [0.0785196  0.71082277 0.7064407  0.06073432 2.62572552 1.93674488\n",
      " 0.10462368 0.41200939 0.51163368]\n",
      "181.45818851720364 261.5494502977125\n",
      "56\n",
      "Maxima [515.8198810314492, 745.1248098644045] [0.66698699734567, 0.422823619249057]\n",
      "In deg component(phase=181.34292692511886, intensity=5.7634164659581355) component(phase=261.9579409679547, intensity=7.931668078486675) [0.23448762 0.14864893]\n",
      "Params [  5.44392505 513.1413206   38.35885653   3.52510818 674.70584593\n",
      "  73.12883009   5.74991721 747.55096991  21.79105387] [0.07718729 0.74714287 0.71639536 0.06744174 2.79441535 2.13535748\n",
      " 0.12908087 0.44418202 0.57446217]\n",
      "181.34292692511886 261.9579409679547\n",
      "57\n",
      "Maxima [514.8339193601524, 744.6608172251399] [0.6874726671702569, 0.4050990607832741]\n",
      "In deg component(phase=180.9962997750536, intensity=5.582261722042268) component(phase=261.7948185557133, intensity=7.8759301435997795) [0.24168961 0.14241764]\n",
      "Params [  5.2254402  511.69440183  38.56722997   3.54206621 667.83586456\n",
      "  72.15907923   5.90448004 747.22885599  22.5404315 ] [0.07848058 0.77783838 0.73405021 0.05988354 2.77618471 2.35225032\n",
      " 0.13295627 0.42237158 0.57075845]\n",
      "180.9962997750536 261.7948185557133\n",
      "58\n",
      "Maxima [514.9051688870543, 743.8907143025094] [0.669407301812906, 0.42737809370719354]\n",
      "In deg component(phase=181.02134843685502, intensity=5.559873775817555) component(phase=261.524079246976, intensity=7.4190150797263374) [0.2353385  0.15025011]\n",
      "Params [  5.17242632 511.85937823  36.96335179   3.22148773 661.07024528\n",
      "  71.77094328   5.79938934 746.56986127  24.0866125 ] [0.08795895 0.77060399 0.73375904 0.05720917 3.22160908 3.11774886\n",
      " 0.14974928 0.44522848 0.64562252]\n",
      "181.02134843685502 261.524079246976\n",
      "59\n",
      "Maxima [514.3788793873285, 743.2071731021165] [0.6452187087255956, 0.4458540965942327]\n",
      "In deg component(phase=180.83632478460768, intensity=5.459208492778194) component(phase=261.28377179371284, intensity=7.210270068472861) [0.2268347  0.15674558]\n",
      "Params [  5.1768292  511.91545512  36.78091661   3.33230744 666.15162798\n",
      "  68.87502879   5.46979515 746.07754468  23.19938084] [0.07573282 0.72823491 0.69242413 0.06017693 2.91916652 2.66764954\n",
      " 0.1502493  0.4582706  0.66498635]\n",
      "180.83632478460768 261.28377179371284\n",
      "60\n",
      "Maxima [515.4379217570794, 744.5019161588449] [0.6814258008209607, 0.414525198357264]\n",
      "In deg component(phase=181.20864436772322, intensity=5.499251322527946) component(phase=261.7389548995939, intensity=7.570976451543994) [0.23956376 0.14573152]\n",
      "Params [  5.18580292 512.61029378  38.30805059   3.43869989 670.00902258\n",
      "  71.28030018   5.6147267  746.92482626  21.51552259] [0.07561693 0.76678513 0.72733414 0.06016424 2.71029688 2.27322011\n",
      " 0.12955713 0.43000441 0.57208549]\n",
      "181.20864436772322 261.7389548995939\n",
      "61\n",
      "Maxima [514.7322642039516, 743.7639903037584] [0.6431663739504163, 0.39921911156921963]\n",
      "In deg component(phase=180.96056163420172, intensity=5.935660371378231) component(phase=261.47952784116507, intensity=7.8927482535090805) [0.22611318 0.14035047]\n",
      "Params [  5.35152436 511.28302162  35.29252437   3.4597567  658.25169792\n",
      "  77.02094498   6.05583239 746.06756644  22.70258419] [0.09870899 0.70106767 0.72530468 0.05487665 2.99677798 2.72020885\n",
      " 0.12760563 0.41488095 0.55269673]\n",
      "180.96056163420172 261.47952784116507\n",
      "62\n",
      "Maxima [514.905503238121, 744.0206443514005] [0.6816240531154052, 0.4224189944071394]\n",
      "In deg component(phase=181.0214659821519, intensity=5.771090104604222) component(phase=261.56975777978926, intensity=7.7528913621852915) [0.23963346 0.14850668]\n",
      "Params [  5.25730945 511.30571491  37.26226388   3.44240431 662.14553326\n",
      "  76.43105281   5.84872883 746.60921393  23.52886398] [0.0932059  0.7640555  0.75392076 0.05811691 3.1527127  2.64653156\n",
      " 0.12942796 0.44352583 0.59080778]\n",
      "181.0214659821519 261.56975777978926\n",
      "63\n",
      "Maxima [514.2094876002831, 744.5853417788992] [0.6727864435789008, 0.3879132832143463]\n",
      "In deg component(phase=180.77677298447452, intensity=5.791199358432994) component(phase=261.7682842191442, intensity=8.007496318460253) [0.23652648 0.13637576]\n",
      "Params [  5.29706719 510.93104089  36.53325149   3.33100184 662.64391574\n",
      "  76.83480492   6.14791927 746.62010834  21.81124924] [0.09314951 0.74518392 0.74700172 0.05713948 3.07362634 2.64001395\n",
      " 0.12521458 0.40512085 0.52654522]\n",
      "180.77677298447452 261.7682842191442\n",
      "64\n",
      "Maxima [513.1179274422985, 743.2576697619122] [0.6454205891465558, 0.40145322756645646]\n",
      "In deg component(phase=180.3930213664331, intensity=5.823284420129921) component(phase=261.3015245256723, intensity=7.843919875824295) [0.22690568 0.1411359 ]\n",
      "Params [  5.26532989 509.98647706  34.86447093   3.2228001  660.28058684\n",
      "  79.42693164   6.00159984 745.29671101  22.27435113] [0.09775189 0.69730125 0.73896502 0.05723237 3.26529764 2.72428756\n",
      " 0.12189056 0.42060828 0.54062079]\n",
      "180.3930213664331 261.3015245256723\n",
      "65\n",
      "Maxima [513.8339477580433, 744.6366830330101] [0.6685475763847585, 0.4091467293948618]\n",
      "In deg component(phase=180.64474725868712, intensity=5.779219770697879) component(phase=261.7863338787926, intensity=7.950407727201187) [0.23503626 0.14384065]\n",
      "Params [  5.48188579 511.2894984   38.08139124   3.26169222 665.7510928\n",
      "  70.00181676   6.25585622 747.07395131  23.34427441] [0.08250367 0.7752803  0.7266869  0.06296828 3.23374656 2.97162237\n",
      " 0.15676249 0.42917154 0.61595439]\n",
      "180.64474725868712 261.7863338787926\n",
      "66\n"
     ]
    },
    {
     "name": "stdout",
     "output_type": "stream",
     "text": [
      "Maxima [513.6425608433068, 744.8838195742217] [0.621368378567515, 0.3489125010745728]\n",
      "In deg component(phase=180.57746279647503, intensity=5.883438445476111) component(phase=261.8732178190623, intensity=8.526301534650315) [0.21844982 0.12266455]\n",
      "Params [  5.57171494 511.02334503  38.69604629   3.50028316 672.37301489\n",
      "  72.77846993   6.42524841 746.92113002  21.13445207] [0.07299389 0.69943545 0.66813377 0.06075477 2.58959791 2.06594595\n",
      " 0.12184827 0.36668225 0.47457409]\n",
      "180.57746279647503 261.8732178190623\n",
      "67\n",
      "Maxima [511.5008535746054, 743.9630467672191] [0.6497045315746153, 0.3791973664587508]\n",
      "In deg component(phase=179.82451883482221, intensity=6.239924880544297) component(phase=261.54950862910044, intensity=8.640555240953923) [0.22841175 0.13331157]\n",
      "Params [  5.50792025 507.82716083  36.01179614   3.41948014 658.81405026\n",
      "  84.96216937   6.59540195 745.9507398   23.13135071] [0.11135619 0.6963799  0.78360342 0.058156   3.6180277  2.76625714\n",
      " 0.11875022 0.40081748 0.50498171]\n",
      "179.82451883482221 261.54950862910044\n",
      "68\n",
      "Maxima [512.1746905432807, 745.0030228538004] [0.6564336242222611, 0.3528122229719077]\n",
      "In deg component(phase=180.06141464412212, intensity=6.19214801524311) component(phase=261.9151252220392, intensity=9.38986701152773) [0.23077745 0.12403555]\n",
      "Params [  5.78909715 509.26655154  38.21760019   3.86041785 674.25567366\n",
      "  76.9413194    6.88898852 746.89535412  20.72309775] [0.08305396 0.72262569 0.70608844 0.06790295 2.59659953 1.99489032\n",
      " 0.12594744 0.37009659 0.4633736 ]\n",
      "180.06141464412212 261.9151252220392\n",
      "69\n",
      "Maxima [513.472100859974, 744.5365482751837] [0.621004477780866, 0.38036562780802424]\n",
      "In deg component(phase=180.51753545858463, intensity=6.302803173720055) component(phase=261.75113025299424, intensity=9.180252869801665) [0.21832189 0.13372229]\n",
      "Params [  5.96222247 511.05406618  36.13030499   3.81596103 666.21757355\n",
      "  70.0419444    7.17919406 747.05434532  23.47864147] [0.08632217 0.69246926 0.66737808 0.06779083 2.88116811 2.61167261\n",
      " 0.16710302 0.39720032 0.57369585]\n",
      "180.51753545858463 261.75113025299424\n",
      "70\n",
      "Maxima [510.84434707007557, 743.3538122123141] [0.6339747368631623, 0.39200994887628166]\n",
      "In deg component(phase=179.59371576682344, intensity=6.273339219135198) component(phase=261.3353246058917, intensity=9.216394518780366) [0.22288174 0.137816  ]\n",
      "Params [  5.63617884 508.01942081  32.24028527   3.65040298 658.68427969\n",
      "  79.89033061   7.16429125 745.4989622   23.54108502] [0.10794183 0.65888036 0.72326735 0.06556546 3.17264437 2.71695626\n",
      " 0.14168515 0.41240089 0.54286914]\n",
      "179.59371576682344 261.3353246058917\n",
      "71\n",
      "72\n",
      "Maxima [511.7019814597463, 745.2496131401848] [0.6194158399883387, 0.39987531101009754]\n",
      "In deg component(phase=179.89522785694206, intensity=6.701129185511073) component(phase=262.00181711959624, intensity=8.966709938144998) [0.21776338 0.14058116]\n",
      "Params [  6.19932597 508.87184501  34.75358711   4.02694272 659.07379827\n",
      "  72.91573509   7.00317445 747.67041411  22.7874678 ] [0.10238856 0.68010168 0.67692675 0.06290872 2.6955775  2.82577651\n",
      " 0.16432173 0.40707161 0.58499005]\n",
      "179.89522785694206 262.00181711959624\n",
      "73\n",
      "Maxima [509.15844025583743, 744.1537348042144] [0.6099831096993769, 0.351030222234241]\n",
      "In deg component(phase=179.00101415244285, intensity=6.938617837922242) component(phase=261.6165473921066, intensity=10.072379239141739) [0.21444719 0.12340906]\n",
      "Params [  6.13137228 505.98683451  32.62045017   4.07070178 654.6799588\n",
      "  81.79101244   7.86252926 746.01501145  22.07324778] [0.11692894 0.6264681  0.70780899 0.0617476  2.84687918 2.58709679\n",
      " 0.13894888 0.36382844 0.46987034]\n",
      "179.00101415244285 261.6165473921066\n",
      "74\n",
      "Maxima [512.6860819240444, 743.9499938248968] [0.6851574137127966, 0.3600606060194591]\n",
      "In deg component(phase=180.24120067642187, intensity=6.737061842477014) component(phase=261.54491970406525, intensity=9.934087474641025) [0.24087565 0.12658381]\n",
      "Params [  6.04443959 508.98908861  36.67050584   3.93869871 660.96829133\n",
      "  80.5397849    7.64603879 745.86872669  22.20829229] [0.11455272 0.74721652 0.77781789 0.06560992 3.21859176 2.59763178\n",
      " 0.1377813  0.37901648 0.48211501]\n",
      "180.24120067642187 261.54491970406525\n",
      "75\n",
      "Maxima [512.1190005301236, 744.3279586579023] [0.5713170633929167, 0.38466570370266207]\n",
      "In deg component(phase=180.04183612387158, intensity=7.321955216672927) component(phase=261.6777979656688, intensity=9.763420684739684) [0.20085366 0.13523404]\n",
      "Params [  6.49769916 509.28994331  32.97347188   3.88478696 665.3593503\n",
      "  87.8376038    7.1937861  746.11010666  21.94113298] [0.11857991 0.58997636 0.69491827 0.07021596 3.30491621 2.50675774\n",
      " 0.13093869 0.40261688 0.49635587]\n",
      "180.04183612387158 261.6777979656688\n",
      "76\n",
      "Maxima [510.36496539811833, 744.9519531479953] [0.5588062360241733, 0.3568744366665628]\n",
      "In deg component(phase=179.42518314777598, intensity=7.024202972826145) component(phase=261.8971710285921, intensity=9.60150066086509) [0.19645532 0.12546367]\n",
      "Params [  6.3939308  507.63638289  34.64740495   3.80925074 669.03018727\n",
      "  84.37469375   7.08413392 746.70063218  21.34458937] [0.09925645 0.59349461 0.64237784 0.06655316 2.88764052 2.22988877\n",
      " 0.12323615 0.37356816 0.46077246]\n",
      "179.42518314777598 261.8971710285921\n",
      "77\n",
      "Maxima [509.3752400011833, 743.9973615464503] [0.6154489683779687, 0.39356240219657834]\n",
      "In deg component(phase=179.07723281291598, intensity=6.98276315822085) component(phase=261.5615724186739, intensity=9.492313659718356) [0.21636878 0.13836178]\n",
      "Params [  6.05376608 505.76637725  34.71742133   3.93829525 659.78001029\n",
      "  89.56829184   6.9895115  746.13260062  23.65100036] [0.12156837 0.63265766 0.76512663 0.06490551 3.49431043 2.56512762\n",
      " 0.12470606 0.41410809 0.5172093 ]\n",
      "179.07723281291598 261.5615724186739\n",
      "78\n",
      "Maxima [509.91023913212064, 744.3199924088715] [0.6709729725288319, 0.373108443151456]\n",
      "In deg component(phase=179.26531844488616, intensity=6.981630551333381) component(phase=261.6749973312439, intensity=10.060005991626687) [0.23588894 0.13117094]\n",
      "Params [  6.30452022 506.01561921  39.39458376   4.18523808 669.7027938\n",
      "  84.75908362   7.25038906 746.42432264  22.6911077 ] [0.1065785  0.74786763 0.76061206 0.07271899 3.17144638 2.284359\n",
      " 0.12928734 0.39481568 0.49357785]\n",
      "179.26531844488616 261.6749973312439\n",
      "79\n",
      "Maxima [511.88831043436625, 744.5179614775342] [0.612886586150802, 0.37717208822965287]\n",
      "In deg component(phase=179.9607341370819, intensity=7.205404642178184) component(phase=261.7445958319456, intensity=10.145372606272693) [0.21546794 0.13259956]\n",
      "Params [  6.6538375  508.73438588  37.85696534   4.55854296 674.99656987\n",
      "  80.14298007   7.05303848 746.684808    21.18659789] [0.09342239 0.66841783 0.66619861 0.07523532 2.47729273 1.85884656\n",
      " 0.13256979 0.39365904 0.48951126]\n",
      "179.9607341370819 261.7445958319456\n",
      "80\n",
      "Maxima [506.7360205944371, 742.8103544013741] [0.6061696261646237, 0.3605263085324793]\n",
      "In deg component(phase=178.1493822402318, intensity=7.364442147499508) component(phase=261.1442652192331, intensity=9.844871730460044) [0.21310651 0.12674753]\n",
      "Params [  5.14184931 503.3432325   28.93819853   4.09690474 636.78174408\n",
      " 119.12906504   7.10185283 744.16937152  21.62494282] [0.11196191 0.58610016 0.77758844 0.04995318 3.04640964 1.92126952\n",
      " 0.11212962 0.3628206  0.42921324]\n",
      "178.1493822402318 261.1442652192331\n",
      "81\n",
      "82\n",
      "83\n",
      "Maxima [508.15567760410767, 744.0359957487258] [0.6232624131219328, 0.3492566163456096]\n",
      "In deg component(phase=178.6484804076941, intensity=6.92734636137437) component(phase=261.5751547554114, intensity=9.560720440437402) [0.21911569 0.12278553]\n",
      "Params [  5.1451409  504.24721428  32.52649849   3.59153758 639.2975466\n",
      " 112.43882558   7.24718985 745.46570186  23.15948921] [0.12039843 0.59772801 0.88029741 0.04958913 3.98159915 2.40704901\n",
      " 0.1081252  0.35443361 0.43454358]\n",
      "178.6484804076941 261.5751547554114\n",
      "84\n",
      "Maxima [508.39087489402505, 746.2803589698136] [0.6675027960873514, 0.37345867740420113]\n",
      "In deg component(phase=178.73116695493067, intensity=6.703725352084873) component(phase=262.3641887003251, intensity=9.639092643477365) [0.23466895 0.13129407]\n",
      "Params [  6.2438582  505.37929188  39.62601373   3.78478692 674.02670345\n",
      "  81.41739139   7.11178653 748.11262257  21.60116572] [0.09338836 0.7510442  0.73785834 0.07348262 3.09107938 2.31190684\n",
      " 0.13172382 0.39434226 0.49103462]\n",
      "178.73116695493067 262.3641887003251\n",
      "85\n"
     ]
    },
    {
     "name": "stdout",
     "output_type": "stream",
     "text": [
      "Maxima [506.4160702556451, 744.4172990904092] [0.602300837337496, 0.3693384103368762]\n",
      "In deg component(phase=178.03689969925023, intensity=7.117495628446754) component(phase=261.709206711472, intensity=10.158926485171726) [0.21174639 0.12984553]\n",
      "Params [  6.71223297 504.08106681  36.65496595   3.86882557 666.39701196\n",
      "  75.86977561   7.91112441 746.50104882  23.04866305] [0.09485642 0.66518799 0.65799043 0.07435475 3.02460769 2.47185934\n",
      " 0.15440927 0.39146802 0.51863364]\n",
      "178.03689969925023 261.709206711472\n",
      "86\n",
      "Maxima [507.086755972679, 743.8976766759617] [0.6850430014463524, 0.39313916587137937]\n",
      "In deg component(phase=178.27268764664495, intensity=6.535248729826816) component(phase=261.5265269563928, intensity=9.468633725575057) [0.24083543 0.13821299]\n",
      "Params [  6.17218489 504.32730151  38.11343283   3.97855592 659.53562096\n",
      "  70.31106382   7.5737049  746.43274796  24.03439111] [0.09728337 0.79371106 0.73996146 0.06771186 3.03387355 3.19155806\n",
      " 0.1932947  0.40402004 0.61739976]\n",
      "178.27268764664495 261.5265269563928\n",
      "87\n",
      "Maxima [509.52779955430606, 743.7413613454145] [0.7150365531038388, 0.37871267358305927]\n",
      "In deg component(phase=179.13086703081072, intensity=6.102409343083371) component(phase=261.47157234799727, intensity=9.022543580682312) [0.25138004 0.13314117]\n",
      "Params [  5.79758657 506.84372042  38.46908616   3.8998733  661.77191573\n",
      "  68.03440093   7.17274184 745.97906462  21.85689727] [0.08930937 0.82546954 0.76369693 0.0641296  2.69442954 2.89481183\n",
      " 0.17567093 0.38468171 0.57088511]\n",
      "179.13086703081072 261.47157234799727\n",
      "88\n",
      "89\n",
      "90\n",
      "91\n",
      "Maxima [507.7275191705074, 745.7702892811079] [0.6663863050166021, 0.38060755184501927]\n",
      "In deg component(phase=178.4979559583815, intensity=6.281874409781459) component(phase=262.1848673253895, intensity=8.895272694089659) [0.23427644 0.13380734]\n",
      "Params [  6.12802965 506.21908651  40.25144527   3.26182833 675.62885406\n",
      "  68.24442917   6.9973537  747.52766248  20.56595568] [0.07805084 0.74804686 0.72202753 0.07510916 3.10476554 2.53943942\n",
      " 0.15740118 0.40092543 0.53553224]\n",
      "178.4979559583815 262.1848673253895\n",
      "92\n",
      "93\n",
      "94\n",
      "95\n",
      "96\n",
      "97\n",
      "98\n",
      "Maxima [510.2375536765129, 743.1698026434362] [1.345112444072452, 0.8566516127803715]\n",
      "In deg component(phase=179.38038996439906, intensity=4.159608826470943) component(phase=261.2706337418331, intensity=6.45349942650332) [0.47289109 0.30116658]\n",
      "Params [  3.83735508 508.10666107  31.65493274   2.51159956 674.99651095\n",
      "  81.83417343   4.69499548 745.01565738  21.85971959] [0.14291501 1.39059744 1.48296848 0.11703601 6.16519681 4.65879086\n",
      " 0.19650175 0.90514862 1.12507294]\n",
      "179.38038996439906 261.2706337418331\n",
      "99\n",
      "100\n",
      "101\n",
      "102\n",
      "Maxima [502.7925781890423, 744.9343000493019] [0.6578256169336167, 0.363903370332707]\n",
      "In deg component(phase=176.76301576958517, intensity=6.9737147663082695) component(phase=261.8909648610827, intensity=10.140385139340061) [0.23126682 0.12793478]\n",
      "Params [  6.5251016  500.28247345  35.55191125   3.79686976 653.84910998\n",
      "  73.70446744   8.39837387 746.76773791  22.74576532] [0.11364432 0.73799697 0.72876857 0.06778216 3.08288968 3.53391977\n",
      " 0.18480797 0.37295033 0.54771876]\n",
      "176.76301576958517 261.8909648610827\n",
      "103\n",
      "Maxima [499.4023428272024, 743.6292402467627] [0.7106268433059297, 0.3392182511989264]\n",
      "In deg component(phase=175.57113615018835, intensity=7.179617916622725) component(phase=261.4321547742525, intensity=10.474361863837943) [0.24982975 0.11925642]\n",
      "Params [  4.87163721 495.53821149  32.34494396   3.82278444 627.82892198\n",
      " 129.76904281   7.91655439 744.69639599  21.86285586] [0.11100528 0.69794872 0.90714792 0.05248836 3.47944755 2.11380202\n",
      " 0.1150613  0.3419556  0.39800377]\n",
      "175.57113615018835 261.4321547742525\n",
      "104\n",
      "Maxima [503.4889292321481, 744.5045414576305] [0.6125644580575905, 0.315097650957478]\n",
      "In deg component(phase=177.00782668317706, intensity=7.7099830557993965) component(phase=261.73987785619823, intensity=11.01365204960892) [0.21535469 0.11077652]\n",
      "Params [  5.13284946 500.65614239  29.22873061   3.87279338 625.71999018\n",
      " 136.99978889   8.36242451 745.47353993  21.93132605] [0.10373726 0.61162809 0.74157087 0.05086985 2.99257127 1.89465077\n",
      " 0.11125124 0.31775506 0.36415596]\n",
      "177.00782668317706 261.73987785619823\n",
      "105\n",
      "Maxima [500.02870425611803, 744.6881663412894] [0.5711059260557491, 0.3652799953499349]\n",
      "In deg component(phase=175.7913413400415, intensity=8.272053393518974) component(phase=261.80443347935955, intensity=10.650239948519497) [0.20077943 0.12841875]\n",
      "Params [  5.83947065 497.76879463  27.72375515   3.70598252 618.39876261\n",
      " 130.23211231   8.3447366  745.88418983  24.04304845] [0.11755557 0.57423076 0.70071425 0.0558901  3.59064079 2.21835149\n",
      " 0.12126294 0.36829651 0.43917447]\n",
      "175.7913413400415 261.80443347935955\n",
      "106\n",
      "Maxima [500.7615895975158, 744.8204858688024] [0.7014472838846914, 0.34282182468582545]\n",
      "In deg component(phase=176.04899634287665, intensity=7.267347960551171) component(phase=261.8509520632508, intensity=11.495454624945998) [0.24660256 0.1205233 ]\n",
      "Params [  6.79782841 497.9226667   40.47354281   3.9622279  674.35590138\n",
      "  84.7477922    8.7110074  746.25953988  21.32118794] [0.10435817 0.78736956 0.78005551 0.08550043 3.32948758 2.51379609\n",
      " 0.14738521 0.36263102 0.44746982]\n",
      "176.04899634287665 261.8509520632508\n",
      "107\n",
      "Maxima [500.07572841900316, 744.0364982753547] [0.713091623925771, 0.3918653841149317]\n",
      "In deg component(phase=175.80787327230578, intensity=7.293113555754334) component(phase=261.5753314249294, intensity=11.235051222683841) [0.25069627 0.13776517]\n",
      "Params [  6.9853399  497.94027454  38.39656944   4.07841327 660.87647124\n",
      "  71.20899199   9.2098437  746.22216613  24.34730419] [0.10847289 0.81386443 0.77326761 0.08554718 3.60965321 3.49508072\n",
      " 0.23011063 0.41054234 0.61894468]\n",
      "175.80787327230578 261.5753314249294\n",
      "108\n",
      "Maxima [502.808277809711, 744.3269512527237] [0.7214335709522394, 0.4061182945126623]\n",
      "In deg component(phase=176.76853516747653, intensity=7.037064257238076) component(phase=261.6774437997857, intensity=10.346266677836818) [0.25362899 0.14277596]\n",
      "Params [  6.48470939 500.0259275   34.48932735   4.02396873 650.60449251\n",
      "  74.8702107    8.53942444 746.36161538  23.73326775] [0.13456732 0.79447807 0.80820353 0.07420522 3.32794292 3.95271392\n",
      " 0.2100783  0.41509928 0.62282897]\n",
      "176.76853516747653 261.6774437997857\n",
      "109\n",
      "Maxima [503.9174200080412, 745.0764363181461] [1.3364873554545775, 0.6175479503252943]\n",
      "In deg component(phase=177.15846797157698, intensity=7.971358916456921) component(phase=261.9409346430982, intensity=11.118475259022123) [0.46985884 0.2171067 ]\n",
      "Params [  7.94455158 503.37749505  48.94868461   4.19660927 657.44656716\n",
      "  48.37879222  10.32951427 746.70024174  23.43454797] [0.13221742 1.62535247 1.54102608 0.14125255 3.66750104 5.88589972\n",
      " 0.38717939 0.78661969 0.8054964 ]\n",
      "177.15846797157698 261.9409346430982\n",
      "110\n",
      "Maxima [502.04135119737936, 743.6222656398661] [0.6773015693059313, 0.3225297428713308]\n",
      "In deg component(phase=176.49891253032868, intensity=7.922127662888452) component(phase=261.4297027640154, intensity=12.047908686410242) [0.23811383 0.11338936]\n",
      "Params [  7.32651496 499.37287897  35.73745108   3.62668926 645.12096165\n",
      "  75.98556142  10.49943754 744.8845474   22.25962555] [0.15755691 0.78341895 0.80104507 0.07400268 3.72980001 4.74437707\n",
      " 0.20274052 0.33319998 0.48229549]\n",
      "176.49891253032868 261.4297027640154\n",
      "111\n",
      "Maxima [499.46932040615263, 745.6195168353919] [0.6672327811785093, 0.38063259278622297]\n",
      "In deg component(phase=175.59468295528802, intensity=7.856907477365824) component(phase=262.1318613874425, intensity=11.37462131960901) [0.23457402 0.13381615]\n",
      "Params [  7.67966591 498.36227701  35.72212732   3.5339296  660.96885945\n",
      "  66.24105119   9.83497975 747.0921471   21.89952088] [0.11735892 0.75755152 0.73161419 0.08982378 4.08535251 4.51400636\n",
      " 0.26686203 0.38819594 0.61556067]\n",
      "175.59468295528802 262.1318613874425\n",
      "112\n",
      "Maxima [496.71348197388266, 744.3814607921521] [0.7729264372245365, 0.4300694637085664]\n",
      "In deg component(phase=174.62583350644312, intensity=7.214513971075516) component(phase=261.69660730974095, intensity=10.8258592474346) [0.27173195 0.1511963 ]\n",
      "Params [  6.75459043 494.7996667   33.117121     3.09625669 647.49112001\n",
      "  77.70223583   9.41817566 745.72079317  23.4837259 ] [0.16035364 0.84815953 0.90096138 0.08724488 5.02394868 5.85192347\n",
      " 0.23489325 0.44663913 0.64991095]\n",
      "174.62583350644312 261.69660730974095\n",
      "113\n",
      "Maxima [502.0986168917387, 745.0504382096157] [1.00628790174291, 0.4776870617988684]\n",
      "In deg component(phase=176.51904500100187, intensity=6.558861720123725) component(phase=261.931794683068, intensity=10.752631551274927) [0.35377309 0.16793686]\n",
      "Params [  6.27760413 499.74593212  40.6550148    3.63300677 667.05872095\n",
      "  73.45162631   8.71191005 746.83957351  22.8015431 ] [0.12580858 1.15183061 1.08980527 0.10669244 4.64944368 3.90436146\n",
      " 0.23252825 0.50975627 0.68878419]\n",
      "176.51904500100187 261.931794683068\n",
      "114\n",
      "Maxima [498.0836418784774, 743.731345936472] [0.5959319547154854, 0.35293795538707484]\n",
      "In deg component(phase=175.1075303479022, intensity=8.533962016667461) component(phase=261.46805130579094, intensity=13.178939229197017) [0.20950733 0.12407975]\n",
      "Params [  7.91117406 496.27777532  30.59792424   4.58007205 663.01163509\n",
      "  83.01790925  10.34698995 745.09886154  20.54866432] [0.13676216 0.61170154 0.65896704 0.09113992 2.94900158 2.49338652\n",
      " 0.18439338 0.36634859 0.45491907]\n",
      "175.1075303479022 261.46805130579094\n",
      "115\n",
      "Maxima [497.6441332887386, 745.8886108361859] [0.6699130150964608, 0.3658090522694102]\n",
      "In deg component(phase=174.95301560932216, intensity=8.99377934218784) component(phase=262.2264647470966, intensity=13.550130875557912) [0.23551629 0.12860474]\n",
      "Params [  7.24493529 494.37114709  32.01237087   4.84465107 652.49855949\n",
      " 109.6327687   10.19559617 747.10556273  21.74939271] [0.17717736 0.63810859 0.91755527 0.07907156 4.11831458 2.97968597\n",
      " 0.16698244 0.37440281 0.44976724]\n",
      "174.95301560932216 262.2264647470966\n",
      "116\n",
      "Maxima [498.7082640593412, 744.0461685103172] [0.6742323812924426, 0.3238091078564812]\n",
      "In deg component(phase=175.32712408336215, intensity=9.03460315720633) component(phase=261.5787311169084, intensity=14.759124993687037) [0.23703482 0.11383914]\n",
      "Params [  7.29585524 495.75841393  30.23439988   4.26564992 631.56229199\n",
      " 100.27354221  12.49917445 745.12699904  23.03321877] [0.19985801 0.65359427 0.95105547 0.07691034 4.90845628 3.66636373\n",
      " 0.18198676 0.33186423 0.41947437]\n",
      "175.32712408336215 261.5787311169084\n",
      "117\n",
      "Maxima [501.75170731501976, 744.4224911265617] [0.6701379852966705, 0.3837007688036402]\n",
      "In deg component(phase=176.39708460293664, intensity=9.160933862188822) component(phase=261.71103203668184, intensity=14.301180817275931) [0.23559539 0.1348948 ]\n",
      "Params [  8.45103567 499.50301334  34.75615451   4.76053162 675.86236085\n",
      "  89.8287636   10.7641072  745.78216693  21.9831399 ] [0.15228847 0.70741556 0.77099369 0.12101969 3.65642964 2.83295831\n",
      " 0.19670187 0.4055411  0.49995926]\n",
      "176.39708460293664 261.71103203668184\n",
      "118\n",
      "Maxima [494.72858879960353, 744.8409650471646] [0.6370488970139832, 0.3378641486655992]\n",
      "In deg component(phase=173.92801949986062, intensity=9.44755403797635) component(phase=261.8581517743938, intensity=14.848916361136483) [0.2239625  0.11878036]\n",
      "Params [  8.05293923 491.82824034  32.53732178   4.85778243 653.82183385\n",
      " 101.62739322  11.61343815 746.04898259  22.10589771] [0.1777493  0.62550139 0.83484423 0.08731262 4.01285478 3.05769671\n",
      " 0.17636041 0.35008476 0.42336033]\n",
      "173.92801949986062 261.8581517743938\n",
      "119\n"
     ]
    },
    {
     "name": "stdout",
     "output_type": "stream",
     "text": [
      "Maxima [496.81213598387336, 743.9798389517539] [0.7150617108279007, 0.32553851078631446]\n",
      "In deg component(phase=174.6605165568305, intensity=9.479330607073269) component(phase=261.555412131476, intensity=14.753927834822491) [0.25138888 0.11444713]\n",
      "Params [  6.60039219 493.04627665  30.65723759   5.02247427 617.18120515\n",
      " 115.88787371  12.00969856 745.21273938  23.81997578] [0.16716903 0.69811084 0.94209541 0.07376441 3.96175437 2.40639374\n",
      " 0.16417085 0.32748589 0.41010237]\n",
      "174.6605165568305 261.555412131476\n",
      "120\n",
      "Maxima [496.0755374894298, 743.318777652732] [0.6838641648519387, 0.3645644241111441]\n",
      "In deg component(phase=174.40155614862766, intensity=10.444602465254912) component(phase=261.3230077685386, intensity=14.855044284391203) [0.240421   0.12816718]\n",
      "Params [  7.05469098 493.33087922  28.06396598   5.31900146 619.37588038\n",
      " 131.34880229  11.4603825  744.39496182  22.43202328] [0.16691802 0.67896327 0.833683   0.07777297 3.4981039  2.20286385\n",
      " 0.17500636 0.3669311  0.42957739]\n",
      "174.40155614862766 261.3230077685386\n",
      "121\n",
      "Maxima [499.9417232735499, 744.3110201423455] [0.7895610155666122, 0.38816675672265666]\n",
      "In deg component(phase=175.76076208835738, intensity=9.956313638126174) component(phase=261.6718430187933, intensity=14.243376506643004) [0.27758004 0.13646488]\n",
      "Params [  6.83670928 496.69120124  32.9278678    4.93812247 638.65373641\n",
      " 146.42970834  10.443992   745.05054692  20.28582192] [0.16142444 0.78791562 0.97249015 0.08088921 3.84545178 2.55023896\n",
      " 0.18197086 0.3915873  0.43709888]\n",
      "175.76076208835738 261.6718430187933\n",
      "122\n",
      "Maxima [496.21220249399244, 744.9555738773422] [0.6696949859822212, 0.3762215582123916]\n",
      "In deg component(phase=174.4496024392942, intensity=10.855583259070215) component(phase=261.8984439412531, intensity=14.549563152701184) [0.23543964 0.13226539]\n",
      "Params [  7.02504921 494.40696755  28.32446128   4.82233018 606.63720422\n",
      " 164.05181069  11.17694098 745.78159595  23.04695304] [0.15370504 0.67848733 0.7758332  0.0776743  3.40451832 2.44113559\n",
      " 0.16595972 0.37923773 0.42386627]\n",
      "174.4496024392942 261.8984439412531\n",
      "123\n",
      "Maxima [494.9249863402009, 745.583914283139] [0.7386735371031368, 0.35505335038244323]\n",
      "In deg component(phase=173.9970655102269, intensity=8.958626717157737) component(phase=262.11934486516606, intensity=14.7009105161042) [0.25968992 0.12482344]\n",
      "Params [  8.67577405 493.13702535  41.64142596   4.43858785 672.30003906\n",
      "  75.97498899  11.93985065 747.07411598  22.3977047 ] [0.12179741 0.8335412  0.80474816 0.11715165 3.74985988 2.87995486\n",
      " 0.22254358 0.38156705 0.49348264]\n",
      "173.9970655102269 262.11934486516606\n",
      "124\n",
      "Maxima [491.7931140229591, 743.823217683601] [0.7746974454080561, 0.3829804292458364]\n",
      "In deg component(phase=172.89601664869656, intensity=8.29624130984691) component(phase=261.50034996689095, intensity=13.924210542438605) [0.27235457 0.13464156]\n",
      "Params [  7.92459123 489.64285384  39.08659953   4.77750399 665.54661035\n",
      "  77.36544143  11.09339364 745.57017582  22.71474329] [0.12699035 0.84576211 0.83035794 0.10847393 3.4158886  2.77827806\n",
      " 0.22085408 0.4056682  0.53197818]\n",
      "172.89601664869656 261.50034996689095\n",
      "125\n",
      "Maxima [493.8370590876357, 744.7147183921177] [0.7671833099220459, 0.37528660308720574]\n",
      "In deg component(phase=173.61459108549693, intensity=8.60245877978832) component(phase=261.8137681847289, intensity=12.356874791784737) [0.26971288 0.1319367 ]\n",
      "Params [  5.14904504 491.88290321  22.0303511    4.52456468 582.75938255\n",
      " 122.30099394  10.48424259 745.70464481  22.55274624] [0.16708343 0.76839712 0.89855951 0.07970615 3.51139478 2.65520259\n",
      " 0.169605   0.37275514 0.46073391]\n",
      "173.61459108549693 261.8137681847289\n",
      "126\n",
      "Maxima [496.7922161081624, 743.9706662699194] [0.7810034155025375, 0.33593323363156524]\n",
      "In deg component(phase=174.65351347552584, intensity=7.758087417094219) component(phase=261.55218736051853, intensity=11.932876731732685) [0.27457151 0.11810153]\n",
      "Params [  6.78500607 493.5184142   32.58748613   3.37806734 613.92293532\n",
      "  75.29150629  11.18014762 744.80732692  23.15459727] [0.34903369 0.88959653 1.2912624  0.08664144 5.38208086 8.95241432\n",
      " 0.22192268 0.34680487 0.50477697]\n",
      "174.65351347552584 261.55218736051853\n",
      "127\n",
      "Maxima [495.6130119879003, 745.3433845079195] [0.6754793842088112, 0.41905997432222586]\n",
      "In deg component(phase=174.23894952699618, intensity=7.7666471984143595) component(phase=262.03478361606545, intensity=10.612280814982853) [0.23747322 0.14732577]\n",
      "Params [  7.53600549 494.4741177   35.5061321    2.70868553 664.26422389\n",
      "  76.24039245   9.08604308 746.51014728  22.20868769] [0.12284753 0.74550561 0.74791346 0.09551904 5.32102837 4.59290884\n",
      " 0.20696123 0.44471225 0.59293558]\n",
      "174.23894952699618 262.03478361606545\n",
      "128\n",
      "Maxima [488.20341546994047, 744.9457187832669] [0.902713596262005, 0.43189045834255413]\n",
      "In deg component(phase=171.63401325115095, intensity=6.562750115632859) component(phase=261.8949792597423, intensity=9.923597459683233) [0.31736025 0.15183649]\n",
      "Params [  5.07989876 485.71540848  30.99621462   2.38663165 594.5222613\n",
      " 110.25246679   8.98711691 745.71587175  24.37440081] [0.16948819 0.94012286 1.24123223 0.0837662  8.27048542 5.40695392\n",
      " 0.1659971  0.43306711 0.5652684 ]\n",
      "171.63401325115095 261.8949792597423\n",
      "129\n",
      "Maxima [497.9283255431962, 743.3473598686544] [0.9125316635541634, 0.3889082134493704]\n",
      "In deg component(phase=175.0529269487799, intensity=5.841220522729529) component(phase=261.3330562038238, intensity=10.41133616488728) [0.32081191 0.13672554]\n",
      "Params [  4.24404197 495.96209042  29.18741147   2.29078471 614.54325764\n",
      " 138.46449542   8.9284252  744.00788096  24.29876264] [0.12902547 0.9282247  1.11436738 0.06477721 6.48326616 4.0404624\n",
      " 0.13523729 0.39450778 0.46146952]\n",
      "175.0529269487799 261.3330562038238\n",
      "130\n",
      "Maxima [491.9784020397627, 743.109575272932] [0.8019235692509977, 0.4684091845237349]\n",
      "In deg component(phase=172.96115696710407, intensity=6.513706020655677) component(phase=261.24946005689014, intensity=9.781299881993457) [0.28192625 0.1646751 ]\n",
      "Params [  4.62352756 490.3856876   25.83151182   2.90214819 638.22110922\n",
      " 158.78218429   7.45152669 743.82842669  23.48532312] [0.13217095 0.80360823 0.92254948 0.06201143 4.67619948 3.39104917\n",
      " 0.13611863 0.47443849 0.53240404]\n",
      "172.96115696710407 261.24946005689014\n",
      "131\n",
      "Maxima [495.93400836652984, 744.7035536693502] [0.7593361455427603, 0.36916349311504976]\n",
      "In deg component(phase=174.35179981635815, intensity=5.632727143504018) component(phase=261.8098430868809, intensity=9.584518655150298) [0.26695411 0.12978404]\n",
      "Params [  4.48405389 493.59040053  29.02797394   2.60105429 646.5352039\n",
      " 118.71343349   7.74182235 745.49917363  21.86830654] [0.12717918 0.74177322 1.01436855 0.05694789 5.41897634 3.76855986\n",
      " 0.12525374 0.37647124 0.44544817]\n",
      "174.35179981635815 261.8098430868809\n",
      "132\n",
      "Maxima [499.1413613447418, 744.6555235353105] [0.9541405907838456, 0.5521905485487892]\n",
      "In deg component(phase=175.4793848477608, intensity=5.063858425202446) component(phase=261.7929574928826, intensity=8.427098554221615) [0.33544005 0.19412949]\n",
      "Params [  4.724103   497.70254092  30.08139112   2.229383   670.77550424\n",
      "  88.85728548   6.85750155 745.77508939  22.78977823] [0.13823816 0.98496329 1.096093   0.10336443 6.54300463 5.03368912\n",
      " 0.1757486  0.58763262 0.72465507]\n",
      "175.4793848477608 261.7929574928826\n",
      "133\n",
      "Maxima [489.89630411228273, 745.455825892766] [1.1197805483809582, 0.5535059108994628]\n",
      "In deg component(phase=172.2291694144744, intensity=4.375786437218813) component(phase=262.07431379042555, intensity=7.893060211795096) [0.39367285 0.19459192]\n",
      "Params [  3.95687513 487.68508231  30.85792784   2.34158421 648.78358339\n",
      "  86.24505013   6.65522558 746.87201709  24.07182962] [0.13827434 1.13896297 1.29139324 0.07810248 6.05764977 5.7801516\n",
      " 0.17995333 0.57931134 0.77105361]\n",
      "172.2291694144744 262.07431379042555\n",
      "134\n",
      "Maxima [501.24660578875785, 746.32345637555] [1.4726923745845775, 0.5971469000675276]\n",
      "In deg component(phase=176.21950984761017, intensity=4.266711784695423) component(phase=262.3793401320293, intensity=7.431242752091817) [0.51774341 0.20993446]\n",
      "Params [  4.15404999 498.81923137  48.55928332   2.71256446 674.32529156\n",
      "  69.10720305   5.88040114 748.47593963  23.02690951] [0.08902106 1.756808   1.60148041 0.09734872 5.51344008 4.33283787\n",
      " 0.20975421 0.64461927 0.88684936]\n",
      "176.21950984761017 262.3793401320293\n",
      "135\n",
      "Maxima [490.14464016310654, 740.9837765346367] [1.0562138942539792, 0.5699694098220308]\n",
      "In deg component(phase=172.31647505734213, intensity=4.910504033261617) component(phase=260.5021089379582, intensity=6.461365670746535) [0.3713252  0.20037987]\n",
      "Params [  3.03725792 487.28201941  30.15499579   2.71536338 634.45534552\n",
      " 169.13706194   4.23725829 741.64060786  18.31437372] [0.09740895 1.0482026  1.21311889 0.04710736 3.9056708  2.91196083\n",
      " 0.11795402 0.57253905 0.62142149]\n",
      "172.31647505734213 260.5021089379582\n",
      "136\n",
      "Maxima [494.9048934834647, 744.5255310736493] [0.7977148432119334, 0.4240695719604547]\n",
      "In deg component(phase=173.99000161528056, intensity=4.580566585060586) component(phase=261.74725701807984, intensity=6.208941827799054) [0.28044662 0.14908696]\n",
      "Params [  2.9497992  492.94456105  28.48356984   2.12417548 614.7031824\n",
      " 166.11011437   4.64626956 745.19684596  20.57518783] [0.07610516 0.80491771 0.91964787 0.03746224 3.77860289 2.74085035\n",
      " 0.08624049 0.42661568 0.46911011]\n",
      "173.99000161528056 261.74725701807984\n",
      "137\n"
     ]
    },
    {
     "name": "stdout",
     "output_type": "stream",
     "text": [
      "Maxima [494.89216735158425, 744.6439183776708] [1.0202223059058915, 0.4771234314868098]\n",
      "In deg component(phase=173.98552758454133, intensity=3.5139123253069138) component(phase=261.7888775546499, intensity=5.5720481841890805) [0.3586719  0.16773871]\n",
      "Params [  3.41140723 493.20678434  43.40073421   1.26161593 666.14248985\n",
      "  76.80913466   4.82973102 745.85529598  24.22424884] [0.06807195 1.24780546 1.16038612 0.06099232 7.94995421 6.13000381\n",
      " 0.12296251 0.52609151 0.69766386]\n",
      "173.98552758454133 261.7888775546499\n",
      "138\n",
      "Maxima [484.99023405541635, 744.4013597003499] [1.0140209756939809, 0.5074960057931341]\n",
      "In deg component(phase=170.5043791601073, intensity=2.8194269525164395) component(phase=261.7036030196542, intensity=4.901928986336407) [0.35649175 0.17841656]\n",
      "Params [  2.77204663 483.86926662  40.70452328   1.71030236 669.14556108\n",
      "  68.97368411   3.97337323 746.35074854  22.74365657] [0.05358044 1.08425514 1.0783147  0.05325825 4.5364422  3.73624676\n",
      " 0.12542664 0.53090334 0.77154111]\n",
      "170.5043791601073 261.7036030196542\n",
      "139\n",
      "140\n",
      "Maxima [497.2187638463139, 743.167967570735] [0.9937032919978968, 0.5936552702982876]\n",
      "In deg component(phase=174.80347166471972, intensity=2.607791962466784) component(phase=261.2699885990865, intensity=3.303381206893288) [0.34934881 0.20870693]\n",
      "Params [  2.38906295 495.08058466  34.29244267   0.79027313 627.4201718\n",
      "  81.90368756   3.01460713 744.10738796  23.73424762] [ 0.12008273  1.12470319  1.5017851   0.0366873  10.47744162 14.64738033\n",
      "  0.10303216  0.61358846  0.90214434]\n",
      "174.80347166471972 261.2699885990865\n",
      "141\n",
      "Maxima [486.4276380142219, 745.7405551654191] [1.097184880626112, 0.5837668832957655]\n",
      "In deg component(phase=171.00971648937488, intensity=2.066770369553274) component(phase=262.17441392534266, intensity=3.011368814055533) [0.38572906 0.20523054]\n",
      "Params [2.06468968e+00 4.86313515e+02 3.78277988e+01 7.25527045e-01\n",
      " 6.34926348e+02 4.34151270e+01 2.98368548e+00 7.46032199e+02\n",
      " 2.30223445e+01] [0.04733144 1.13942895 1.20327485 0.04715506 3.6392786  4.88833432\n",
      " 0.06140032 0.64098288 0.63859016]\n",
      "171.00971648937488 262.17441392534266\n",
      "142\n",
      "Maxima [491.02096741066583, 744.3114156600227] [1.543255973722051, 0.6121077604562504]\n",
      "In deg component(phase=172.62455885531222, intensity=1.4600799826750954) component(phase=261.6719820679767, intensity=3.001153748527391) [0.54255093 0.21519413]\n",
      "Params [1.45934713e+00 4.90950175e+02 4.16492307e+01 5.79324648e-01\n",
      " 6.55639866e+02 4.50721573e+01 2.91870687e+00 7.44972083e+02\n",
      " 2.29758427e+01] [0.04295472 1.58759074 1.69444427 0.04400161 6.83420837 8.30204543\n",
      " 0.08674962 0.7907388  0.75814751]\n",
      "172.62455885531222 261.6719820679767\n",
      "143\n",
      "Maxima [486.9778704995918, 743.4807812173877] [1.0871560470517152, 0.646690228409853]\n",
      "In deg component(phase=171.20315759751276, intensity=2.001806651058321) component(phase=261.37996214673785, intensity=3.0480860859184276) [0.3822033  0.22735203]\n",
      "Params [  1.41498776 486.09562233  21.73602558   0.82650547 638.64653344\n",
      " 183.78834496   2.34613334 743.9046812   21.35673037] [0.06341506 1.08988811 1.19320226 0.02617755 6.95161225 5.75446379\n",
      " 0.06394208 0.65181738 0.71268466]\n",
      "171.20315759751276 261.37996214673785\n",
      "144\n",
      "Maxima [494.0976442378846, 743.386273549896] [1.2877112818770236, 0.5842908557243105]\n",
      "In deg component(phase=173.7062030523813, intensity=1.5322051508140067) component(phase=261.3467367948853, intensity=3.005489037440948) [0.452711   0.20541475]\n",
      "Params [1.35326112e+00 4.92516766e+02 3.00854526e+01 6.04606821e-01\n",
      " 6.79041576e+02 1.19027899e+02 2.48362933e+00 7.43854300e+02\n",
      " 2.21317013e+01] [ 0.06231791  1.27517025  1.70442779  0.03904759 11.03317125  9.80317503\n",
      "  0.06589737  0.6006796   0.73788773]\n",
      "173.7062030523813 261.3467367948853\n",
      "145\n",
      "Maxima [492.80154533983745, 747.0043850765983] [1.3130942114185324, 1.1448835049462942]\n",
      "In deg component(phase=173.25054328353662, intensity=1.6169778773184804) component(phase=262.61872912849157, intensity=2.320500118459687) [0.46163468 0.40249811]\n",
      "Params [  1.61451316 492.6736517   32.32094856   1.05529084 644.56573268\n",
      "  43.61335448   2.25620353 748.44741789  30.04410376] [0.05387938 1.3356066  1.39303992 0.04886452 3.94316119 4.4645625\n",
      " 0.06673131 1.50080239 1.29556619]\n",
      "173.25054328353662 262.61872912849157\n"
     ]
    }
   ],
   "source": [
    "#Taken from Peaks and Gaussian fittings of frequency band 73, in the middle\n",
    "#expected=(501,30,8.02,655,80,4.07,741,20,11.29)\n",
    "expected=(7,505,30,4,655,80,9,745,20)\n",
    "\n",
    "#Loop thought all of the frequency bands\n",
    "for i in range(0,no_freq_bands):\n",
    "    print(i)\n",
    "    freqband = i\n",
    "    f = averageprofiles['frequency'] == freqband\n",
    "    x=averageprofiles['phase'][f]\n",
    "    y=averageprofiles['intensity'][f]\n",
    "    \n",
    "    #Calculates the noise of the data. The standard deviation of this is then the error in the data. \n",
    "    noise = sigmaClip(y)\n",
    "    noise_std = np.nanstd(noise[1])\n",
    "\n",
    "    #Fit the gaussians and find peaks and errors, create array with all frequencies\n",
    "    #Resulting frequencies are in MHz and phase in degrees\n",
    "    if len(x)!=0 and len(y)!=0:\n",
    "        params,cov,sigma = fitting_parameters(x,y,expected)\n",
    "        fit = threegauss(x,*params)\n",
    "        profile_comp = gauss_peaks(fit, no_freq_bands, freqband, cov, params, 300, 500)\n",
    "        print('Params', params, sigma)\n",
    "  \n",
    "        fit_components.append(profile_comp)\n",
    "        print(profile_comp[1][0],profile_comp[2][0])"
   ]
  },
  {
   "cell_type": "markdown",
   "metadata": {},
   "source": [
    "#### EPTA Data"
   ]
  },
  {
   "cell_type": "code",
   "execution_count": 60,
   "metadata": {},
   "outputs": [
    {
     "name": "stdout",
     "output_type": "stream",
     "text": [
      "Maxima [272.8420718611404, 456.3092761430807] [0.3766354385468707, 0.4947695740237753]\n",
      "In deg component(phase=95.92104088868219, intensity=30.483901995712696) component(phase=160.4212298940518, intensity=28.20209967137492) [0.1324109  0.17394243]\n"
     ]
    }
   ],
   "source": [
    "#Do the above but for only one frequency\n",
    "#expected=(270,30,25,370,80,20,470,20,20)\n",
    "expected=(25,270,30,20,370,80,20,470,20)\n",
    "\n",
    "phase=highfrequencyprofile['phase']\n",
    "intensity=highfrequencyprofile['intensity']\n",
    "x = phase\n",
    "y=[]\n",
    "\n",
    "m=statistics.mean(intensity[600:])\n",
    "for i in intensity:\n",
    "    y.append(i-m)\n",
    "\n",
    "if len(x)!=0 and len(y)!=0:\n",
    "    params,cov,sigma = fitting_parameters(x,y,expected)\n",
    "    fit = threegauss(x,*params)\n",
    "    profile_compsh = gauss_peaks(fit, 1, 0, cov, params,1396,1397)"
   ]
  },
  {
   "cell_type": "markdown",
   "metadata": {},
   "source": [
    "#### MWA Data"
   ]
  },
  {
   "cell_type": "code",
   "execution_count": 61,
   "metadata": {},
   "outputs": [],
   "source": [
    "fitm_components = []"
   ]
  },
  {
   "cell_type": "code",
   "execution_count": 62,
   "metadata": {},
   "outputs": [
    {
     "name": "stdout",
     "output_type": "stream",
     "text": [
      "Maxima [66.97368891736723, 137.03732085810907] [2.349408148602189, 0.6836432980118704]\n",
      "In deg component(phase=94.18175004004766, intensity=0.03262765574066159) component(phase=192.7087324567159, intensity=0.0750462149266556) [3.30385521 0.96137339]\n",
      "Maxima [70.03155387277172, 138.37862030270276] [1.2486663899438144, 0.7403902430961367]\n",
      "In deg component(phase=98.48187263358524, intensity=0.03510772790419399) component(phase=194.59493480067576, intensity=0.06909469452192313) [1.75593711 1.04117378]\n",
      "Maxima [61.23364368473819, 136.55889977526502] [1.565864720505974, 0.6883384286431676]\n",
      "In deg component(phase=86.10981143166308, intensity=0.03628959220359807) component(phase=192.03595280896644, intensity=0.0667746790091874) [2.20199726 0.96797592]\n",
      "Maxima [63.920088709969164, 139.8106461742763] [1.3860786799747176, 0.6919580531669992]\n",
      "In deg component(phase=89.88762474839413, intensity=0.04118731795817055) component(phase=196.60872118257603, intensity=0.06806307110976534) [1.94917314 0.97306601]\n",
      "Maxima [66.40150504478494, 136.1955044098353] [2.033612390454822, 0.9043410405071172]\n",
      "In deg component(phase=93.37711646922882, intensity=0.030399166739126432) component(phase=191.5249280763309, intensity=0.07344943814726906) [2.85976742 1.27172959]\n",
      "Maxima [63.34656384705963, 136.36156778291505] [1.604886408770828, 0.6038466742987811]\n",
      "In deg component(phase=89.0811054099276, intensity=0.029573568875177658) component(phase=191.7584546947243, intensity=0.0740983583396883) [2.25687151 0.84915939]\n",
      "Maxima [55.34907493072138, 134.4373358048183] [0.6961448926172231, 0.8940347293519846]\n",
      "In deg component(phase=77.83463662132694, intensity=0.03250520810518277) component(phase=189.05250347552573, intensity=0.06685717012774144) [0.97895376 1.25723634]\n",
      "Maxima [63.11023693828399, 135.7935550861222] [2.633454727560096, 1.1908007769555777]\n",
      "In deg component(phase=88.74877069446185, intensity=0.02358706622290692) component(phase=190.95968683985936, intensity=0.0616009255065983) [3.70329571 1.67456359]\n",
      "Maxima [66.2583929422251, 138.26637193501932] [1.5862408753672945, 0.789602015018726]\n",
      "In deg component(phase=93.17586507500405, intensity=0.0350441288097292) component(phase=194.43708553362092, intensity=0.06551776896089556) [2.23065123 1.11037783]\n",
      "Maxima [61.29539991035264, 137.0728945237134] [1.8478084705090692, 0.8700923060162303]\n",
      "In deg component(phase=86.19665612393341, intensity=0.02646015012010558) component(phase=192.75875792397196, intensity=0.06112319125902755) [2.59848066 1.22356731]\n"
     ]
    }
   ],
   "source": [
    "#Taken from Peaks and Gaussian fittings of frequency band 11, in the middle\n",
    "expected=(0.015,65,5,0.015,80,25,0.05,125,5,0.03,150,15)\n",
    "#Loop thought all of the frequency bands\n",
    "for i in reversed(range(0,nom_freq_bands)):\n",
    "    freqband = i\n",
    "    \n",
    "    f = averagemprofiles['frequency'] == freqband\n",
    "    x=averagemprofiles['phase'][f]\n",
    "    y=averagemprofiles['intensity'][f]\n",
    "    \n",
    "    freqband = nom_freq_bands-1-i\n",
    "    \n",
    "    #Calculates the noise of the data. The standard deviation of this is then the error in the data.\n",
    "    noise = sigmaClip(y)\n",
    "    noise_std = noise[0]\n",
    "\n",
    "    #Fit the gaussians and find peaks and errors, create array with all frequencies\n",
    "    #Resulting frequencies are in MHz and phase in degrees\n",
    "    if len(x)!=0 and len(y)!=0:\n",
    "        params,cov,sigma = fittingfour_parameters(x,y,expected)\n",
    "        fit = fourgauss(x,*params)\n",
    "        profile_comp = gauss_peaks(fit, nom_freq_bands, freqband, cov, params,169.6,200.32)\n",
    "  \n",
    "        fitm_components.append(profile_comp)"
   ]
  },
  {
   "cell_type": "markdown",
   "metadata": {},
   "source": [
    "#### MWA Profile"
   ]
  },
  {
   "cell_type": "code",
   "execution_count": 63,
   "metadata": {},
   "outputs": [
    {
     "name": "stdout",
     "output_type": "stream",
     "text": [
      "Maxima [268.18600695035843, 561.9151975398361] [3.048866540364818, 1.0850419422469573]\n",
      "In deg component(phase=94.28414306848539, intensity=0.029275009567966387) component(phase=197.54831163509863, intensity=0.058760576124233944) [1.07186714 0.38146006]\n"
     ]
    }
   ],
   "source": [
    "#Do the above but for only one frequency\n",
    "expected=(0.04,240,40,0.02,400,100,0.06,575,45)\n",
    "\n",
    "phase=mwaprofile['phase']\n",
    "intensity=mwaprofile['intensity']\n",
    "x = phase\n",
    "y = intensity\n",
    "\n",
    "if len(x)!=0 and len(y)!=0:\n",
    "    params,cov, sigma = fitting_parameters(x,y,expected)\n",
    "    fit = threegauss(x,*params)\n",
    "    profile_compm = gauss_peaks(fit, 1, 0, cov, params,185,186)"
   ]
  },
  {
   "cell_type": "markdown",
   "metadata": {
    "colab_type": "text",
    "id": "6a03g77-gZa5"
   },
   "source": [
    "# Change of Peak Position over Frequency"
   ]
  },
  {
   "cell_type": "markdown",
   "metadata": {
    "colab_type": "text",
    "id": "KszZ-DmF3pTJ"
   },
   "source": [
    "Starting to graph out all the movement of component phase across frequency"
   ]
  },
  {
   "cell_type": "markdown",
   "metadata": {},
   "source": [
    "## GMRT"
   ]
  },
  {
   "cell_type": "markdown",
   "metadata": {},
   "source": [
    "### Component 1"
   ]
  },
  {
   "cell_type": "code",
   "execution_count": 64,
   "metadata": {
    "colab": {},
    "colab_type": "code",
    "id": "CUJj3cbezRgq"
   },
   "outputs": [],
   "source": [
    "#Separate the array into x and y axis of phase and frequency which can be graphed\n",
    "phase_comp1=[]\n",
    "frequency_comp1=[]\n",
    "comp1_err=[]\n",
    "\n",
    "for i in range(0,len(fit_components)):\n",
    "    if fit_components[i][1][0] != 0:\n",
    "        phase_comp1.append(fit_components[i][1][0])\n",
    "        frequency_comp1.append(fit_components[i][0])\n",
    "        comp1_err.append(fit_components[i][3][0])"
   ]
  },
  {
   "cell_type": "code",
   "execution_count": 65,
   "metadata": {
    "colab": {
     "base_uri": "https://localhost:8080/"
    },
    "colab_type": "code",
    "id": "N8lXroZey117",
    "outputId": "8321d6fb-90a5-49c6-bda7-b25cc8ee3845"
   },
   "outputs": [
    {
     "data": {
      "text/plain": [
       "Text(0,0.5,'Frequency')"
      ]
     },
     "execution_count": 65,
     "metadata": {},
     "output_type": "execute_result"
    },
    {
     "data": {
      "image/png": "[encoded data removed]",
      "text/plain": [
       "<matplotlib.figure.Figure at 0x7fd12c1dea90>"
      ]
     },
     "metadata": {},
     "output_type": "display_data"
    }
   ],
   "source": [
    "py.errorbar(phase_comp1,frequency_comp1, xerr=comp1_err, fmt='.', lw=0.5, label='data')\n",
    "py.title('Component 1 - Position')\n",
    "py.xlabel('Phase (deg))')\n",
    "py.ylabel('Frequency')\n"
   ]
  },
  {
   "cell_type": "code",
   "execution_count": 66,
   "metadata": {},
   "outputs": [],
   "source": [
    "#Remove outliers which are greater than 'threshold' number of std away from the mean\n",
    "#frequency_comp1, phase_comp1, comp1_err = detect_outlier(frequency_comp1, phase_comp1, comp1_err,2)"
   ]
  },
  {
   "cell_type": "code",
   "execution_count": 67,
   "metadata": {},
   "outputs": [
    {
     "data": {
      "text/plain": [
       "Text(0,0.5,'Frequency')"
      ]
     },
     "execution_count": 67,
     "metadata": {},
     "output_type": "execute_result"
    },
    {
     "data": {
      "image/png": "[encoded data removed]",
      "text/plain": [
       "<matplotlib.figure.Figure at 0x7fd12c1de390>"
      ]
     },
     "metadata": {},
     "output_type": "display_data"
    }
   ],
   "source": [
    "py.errorbar(phase_comp1,frequency_comp1, xerr=comp1_err, fmt='.', lw=0.5, label='data')\n",
    "py.title('Component 1 - Position - Outliers Removed')\n",
    "py.xlabel('Phase (deg))')\n",
    "py.ylabel('Frequency')"
   ]
  },
  {
   "cell_type": "code",
   "execution_count": 68,
   "metadata": {},
   "outputs": [],
   "source": [
    "#Fit the thorsett model to the component position\n",
    "expect=(500,0.4,16)\n",
    "comp1_params,comp1_cov=curve_fit(thorsett,frequency_comp1,phase_comp1, expect, maxfev=100000, sigma=comp1_err, bounds=([0,-np.inf,0],[np.inf,np.inf,np.inf]))\n",
    "comp1_fit_error=np.sqrt(np.diag(comp1_cov))\n",
    "comp1_fit = thorsett(frequency_comp1, *comp1_params)\n",
    "#Fit a powerlaw to component position\n",
    "comp1_paramspl,comp1_covpl=curve_fit(powerlaw,frequency_comp1,phase_comp1, maxfev=10000, sigma=comp1_err)\n",
    "comp1_fit_errorpl=np.sqrt(np.diag(comp1_covpl))\n",
    "comp1_fitpl = powerlaw(frequency_comp1, *comp1_paramspl)"
   ]
  },
  {
   "cell_type": "code",
   "execution_count": 69,
   "metadata": {},
   "outputs": [
    {
     "data": {
      "text/plain": [
       "<matplotlib.legend.Legend at 0x7fd12c0ee588>"
      ]
     },
     "execution_count": 69,
     "metadata": {},
     "output_type": "execute_result"
    },
    {
     "data": {
      "image/png": "[encoded data removed]",
      "text/plain": [
       "<matplotlib.figure.Figure at 0x7fd12c115940>"
      ]
     },
     "metadata": {},
     "output_type": "display_data"
    }
   ],
   "source": [
    "py.errorbar(frequency_comp1, phase_comp1, yerr=comp1_err, fmt='.', lw=0.5, label='data', zorder=0)\n",
    "py.plot(frequency_comp1,comp1_fit, color='red',lw=2,label='thorsett fit', zorder=2)\n",
    "py.plot(frequency_comp1,comp1_fitpl, color='orange',lw=4, label='power law', zorder=1)\n",
    "py.title('Component 1 - Position')\n",
    "py.ylabel('Phase (deg))')\n",
    "py.xlabel('Frequency')\n",
    "py.legend(loc='lower right')"
   ]
  },
  {
   "cell_type": "code",
   "execution_count": 70,
   "metadata": {},
   "outputs": [
    {
     "name": "stdout",
     "output_type": "stream",
     "text": [
      "The thorsett equation of fit for this pulse is: \t Phase = 74.480 ν^0.147 + 0.000\n",
      "The errors are 342.6770164318243, 0.3602806547546319, 438.28393550302377 \n",
      "\n",
      "The power law equation of fit for this pulse is: \t Phase = 74.480 ν^0.147\n",
      "The errors are 1.373292626637726, 0.003082319316638103\n"
     ]
    }
   ],
   "source": [
    "print(f'The thorsett equation of fit for this pulse is: \\t Phase = {comp1_params[0]:.3f} \\u03BD^{comp1_params[1]:.3f} + {comp1_params[2]:.3f}')\n",
    "print(f'The errors are {comp1_fit_error[0]}, {comp1_fit_error[1]}, {comp1_fit_error[2]} \\n')\n",
    "\n",
    "print(f'The power law equation of fit for this pulse is: \\t Phase = {comp1_paramspl[0]:.3f} \\u03BD^{comp1_paramspl[1]:.3f}')\n",
    "print(f'The errors are {comp1_fit_errorpl[0]}, {comp1_fit_errorpl[1]}')"
   ]
  },
  {
   "cell_type": "code",
   "execution_count": 71,
   "metadata": {},
   "outputs": [
    {
     "data": {
      "text/plain": [
       "8.182540830476583"
      ]
     },
     "execution_count": 71,
     "metadata": {},
     "output_type": "execute_result"
    }
   ],
   "source": [
    "chsq_err(phase_comp1, comp1_fitpl, comp1_err)/(len(phase_comp1)-2)"
   ]
  },
  {
   "cell_type": "markdown",
   "metadata": {},
   "source": [
    "### Component 2"
   ]
  },
  {
   "cell_type": "code",
   "execution_count": 72,
   "metadata": {
    "colab": {},
    "colab_type": "code",
    "id": "ylBJ8twuzL8g"
   },
   "outputs": [],
   "source": [
    "#Separate the array into x and y axis of phase and frequency which can be graphed\n",
    "phase_comp2=[]\n",
    "frequency_comp2=[]\n",
    "comp2_err=[]\n",
    "\n",
    "for i in range(0,len(fit_components)):\n",
    "    if fit_components[i][2][0] != 0:\n",
    "        phase_comp2.append(fit_components[i][2][0])\n",
    "        frequency_comp2.append(fit_components[i][0])\n",
    "        comp2_err.append(fit_components[i][3][1])"
   ]
  },
  {
   "cell_type": "code",
   "execution_count": 73,
   "metadata": {
    "colab": {
     "base_uri": "https://localhost:8080/"
    },
    "colab_type": "code",
    "id": "BaWU8_f424bZ",
    "outputId": "cf955db3-63ae-4a41-ee12-bf4ea0d269d1"
   },
   "outputs": [
    {
     "data": {
      "text/plain": [
       "Text(0,0.5,'Frequency')"
      ]
     },
     "execution_count": 73,
     "metadata": {},
     "output_type": "execute_result"
    },
    {
     "data": {
      "image/png": "[encoded data removed]",
      "text/plain": [
       "<matplotlib.figure.Figure at 0x7fd12c0ba710>"
      ]
     },
     "metadata": {},
     "output_type": "display_data"
    }
   ],
   "source": [
    "py.errorbar(phase_comp2,frequency_comp2, xerr=comp2_err, fmt='.', lw=0.5, label='data')\n",
    "py.title('Component 2 - Position')\n",
    "py.xlabel('Phase Bin (deg)')\n",
    "py.ylabel('Frequency')"
   ]
  },
  {
   "cell_type": "code",
   "execution_count": 74,
   "metadata": {},
   "outputs": [],
   "source": [
    "#Remove outliers which are greater than 'threshold' number of std away from the mean\n",
    "#frequency_comp2, phase_comp2, comp2_err = detect_outlier(frequency_comp2, phase_comp2, comp2_err,2)"
   ]
  },
  {
   "cell_type": "code",
   "execution_count": 75,
   "metadata": {},
   "outputs": [
    {
     "data": {
      "text/plain": [
       "Text(0,0.5,'Frequency')"
      ]
     },
     "execution_count": 75,
     "metadata": {},
     "output_type": "execute_result"
    },
    {
     "data": {
      "image/png": "[encoded data removed]",
      "text/plain": [
       "<matplotlib.figure.Figure at 0x7fd12c01d128>"
      ]
     },
     "metadata": {},
     "output_type": "display_data"
    }
   ],
   "source": [
    "py.errorbar(phase_comp2,frequency_comp2, xerr=comp2_err, fmt='.', lw=0.5, label='data')\n",
    "py.title('Component 2 - Outliers Removed')\n",
    "py.xlabel('Phase Bin (deg)')\n",
    "py.ylabel('Frequency')"
   ]
  },
  {
   "cell_type": "code",
   "execution_count": 76,
   "metadata": {},
   "outputs": [],
   "source": [
    "#Fit the thorsett model to the component position\n",
    "expect=(700,0.4,16)\n",
    "comp2_params,comp2_cov=curve_fit(thorsett,frequency_comp2,phase_comp2, expect, maxfev=10000, sigma=comp2_err, bounds=([0,-np.inf,0],[np.inf,np.inf,np.inf]))\n",
    "comp2_fit_error=np.sqrt(np.diag(comp2_cov))\n",
    "comp2_fit = thorsett(frequency_comp2, *comp2_params)\n",
    "#Fit a powerlaw to the component position\n",
    "comp2_paramspl,comp2_covpl=curve_fit(powerlaw,frequency_comp2,phase_comp2, maxfev=10000, sigma=comp2_err)\n",
    "comp2_fit_errorpl=np.sqrt(np.diag(comp2_covpl))\n",
    "comp2_fitpl = powerlaw(frequency_comp2, *comp2_paramspl)"
   ]
  },
  {
   "cell_type": "code",
   "execution_count": 77,
   "metadata": {},
   "outputs": [
    {
     "data": {
      "text/plain": [
       "<matplotlib.legend.Legend at 0x7fd12c275b00>"
      ]
     },
     "execution_count": 77,
     "metadata": {},
     "output_type": "execute_result"
    },
    {
     "data": {
      "image/png": "[encoded data removed]",
      "text/plain": [
       "<matplotlib.figure.Figure at 0x7fd12c1156d8>"
      ]
     },
     "metadata": {},
     "output_type": "display_data"
    }
   ],
   "source": [
    "py.errorbar(frequency_comp2, phase_comp2, yerr=comp2_err, fmt='.', lw=0.5, label='data', zorder=0)\n",
    "py.plot(frequency_comp2,comp2_fit, color='red',lw=2,label='thorsett fit', zorder=2)\n",
    "py.plot(frequency_comp2,comp2_fitpl, color='orange',lw=4, label='power law', zorder=1)\n",
    "py.title('Component 2 - Position')\n",
    "py.ylabel('Phase (deg))')\n",
    "py.xlabel('Frequency')\n",
    "py.legend(loc='lower right')"
   ]
  },
  {
   "cell_type": "code",
   "execution_count": 78,
   "metadata": {},
   "outputs": [
    {
     "name": "stdout",
     "output_type": "stream",
     "text": [
      "The thorsett equation of fit for this pulse is: \t Phase = 267.236 ν^-0.004 + 0.005\n",
      "The errors are 326602.48456042266, 4.466287146889968, 326677.40511735185 \n",
      "\n",
      "The power law equation of fit for this pulse is: \t Phase = 267.242 ν^-0.004\n",
      "The errors are 1.4228248127720666, 0.0008946478522672583\n"
     ]
    }
   ],
   "source": [
    "print(f'The thorsett equation of fit for this pulse is: \\t Phase = {comp2_params[0]:.3f} \\u03BD^{comp2_params[1]:.3f} + {comp2_params[2]:.3f}')\n",
    "print(f'The errors are {comp2_fit_error[0]}, {comp2_fit_error[1]}, {comp2_fit_error[2]} \\n')\n",
    "\n",
    "print(f'The power law equation of fit for this pulse is: \\t Phase = {comp2_paramspl[0]:.3f} \\u03BD^{comp2_paramspl[1]:.3f}')\n",
    "print(f'The errors are {comp2_fit_errorpl[0]}, {comp2_fit_errorpl[1]}')"
   ]
  },
  {
   "cell_type": "code",
   "execution_count": 79,
   "metadata": {},
   "outputs": [
    {
     "data": {
      "text/plain": [
       "4.367880237479285"
      ]
     },
     "execution_count": 79,
     "metadata": {},
     "output_type": "execute_result"
    }
   ],
   "source": [
    "chsq_err(phase_comp2, comp2_fitpl, comp2_err)/(len(phase_comp2)-2)"
   ]
  },
  {
   "cell_type": "markdown",
   "metadata": {},
   "source": [
    "## MWA"
   ]
  },
  {
   "cell_type": "markdown",
   "metadata": {},
   "source": [
    "## Component 1"
   ]
  },
  {
   "cell_type": "code",
   "execution_count": 80,
   "metadata": {},
   "outputs": [],
   "source": [
    "#Separate the array into x and y axis of phase and frequency which can be graphed\n",
    "phasem_comp1=[]\n",
    "frequencym_comp1=[]\n",
    "comp1m_err=[]\n",
    "\n",
    "for i in range(0,len(fitm_components)):\n",
    "    if fitm_components[i][1][0] != 0:\n",
    "        phasem_comp1.append(fitm_components[i][1][0])\n",
    "        frequencym_comp1.append(fitm_components[i][0])\n",
    "        comp1m_err.append(fitm_components[i][3][0])"
   ]
  },
  {
   "cell_type": "code",
   "execution_count": 81,
   "metadata": {},
   "outputs": [
    {
     "data": {
      "text/plain": [
       "Text(0,0.5,'Frequency')"
      ]
     },
     "execution_count": 81,
     "metadata": {},
     "output_type": "execute_result"
    },
    {
     "data": {
      "image/png": "[encoded data removed]",
      "text/plain": [
       "<matplotlib.figure.Figure at 0x7fd12c2ae828>"
      ]
     },
     "metadata": {},
     "output_type": "display_data"
    }
   ],
   "source": [
    "py.errorbar(phasem_comp1,frequencym_comp1, xerr=comp1m_err, fmt='.', lw=0.5, label='data')\n",
    "py.title('Component 1 - Position')\n",
    "py.xlabel('Phase (deg))')\n",
    "py.ylabel('Frequency')"
   ]
  },
  {
   "cell_type": "code",
   "execution_count": 82,
   "metadata": {},
   "outputs": [],
   "source": [
    "#Remove outliers which are greater than 'threshold' number of std away from the mean\n",
    "#frequencym_comp1, phasem_comp1, comp1m_err = detect_outlier(frequencym_comp1, phasem_comp1, comp1m_err, 2)"
   ]
  },
  {
   "cell_type": "code",
   "execution_count": 83,
   "metadata": {},
   "outputs": [
    {
     "data": {
      "text/plain": [
       "Text(0,0.5,'Frequency')"
      ]
     },
     "execution_count": 83,
     "metadata": {},
     "output_type": "execute_result"
    },
    {
     "data": {
      "image/png": "[encoded data removed]",
      "text/plain": [
       "<matplotlib.figure.Figure at 0x7fd12bfa0d68>"
      ]
     },
     "metadata": {},
     "output_type": "display_data"
    }
   ],
   "source": [
    "py.errorbar(phasem_comp1,frequencym_comp1, xerr=comp1m_err, fmt='.', lw=0.5, label='data')\n",
    "py.title('Component 1 - Position - Outliers Removed')\n",
    "py.xlabel('Phase (deg))')\n",
    "py.ylabel('Frequency')"
   ]
  },
  {
   "cell_type": "code",
   "execution_count": 84,
   "metadata": {},
   "outputs": [],
   "source": [
    "expect=(500,0.4,16)\n",
    "comp1m_params,comp1m_cov=curve_fit(thorsett,frequencym_comp1,phasem_comp1, maxfev=100000, sigma=comp1m_err)\n",
    "comp1m_fit_error=np.sqrt(np.diag(comp1m_cov))\n",
    "comp1m_fit = thorsett(frequencym_comp1, *comp1m_params)"
   ]
  },
  {
   "cell_type": "markdown",
   "metadata": {},
   "source": [
    "### Component 2"
   ]
  },
  {
   "cell_type": "code",
   "execution_count": 85,
   "metadata": {},
   "outputs": [],
   "source": [
    "#Separate the array into x and y axis of phase and frequency which can be graphed\n",
    "phasem_comp2=[]\n",
    "frequencym_comp2=[]\n",
    "comp2m_err=[]\n",
    "\n",
    "for i in range(0,len(fitm_components)):\n",
    "    if fitm_components[i][2][0] != 0:\n",
    "        phasem_comp2.append(fitm_components[i][2][0])\n",
    "        frequencym_comp2.append(fitm_components[i][0])\n",
    "        comp2m_err.append(fitm_components[i][3][1])"
   ]
  },
  {
   "cell_type": "code",
   "execution_count": 86,
   "metadata": {},
   "outputs": [
    {
     "data": {
      "text/plain": [
       "Text(0,0.5,'Frequency')"
      ]
     },
     "execution_count": 86,
     "metadata": {},
     "output_type": "execute_result"
    },
    {
     "data": {
      "image/png": "[encoded data removed]",
      "text/plain": [
       "<matplotlib.figure.Figure at 0x7fd12c49c208>"
      ]
     },
     "metadata": {},
     "output_type": "display_data"
    }
   ],
   "source": [
    "py.errorbar(phasem_comp2,frequencym_comp2, xerr=comp2m_err, fmt='.', lw=0.5, label='data')\n",
    "py.title('Component 2 - Position')\n",
    "py.xlabel('Phase Bin (deg)')\n",
    "py.ylabel('Frequency')"
   ]
  },
  {
   "cell_type": "code",
   "execution_count": 87,
   "metadata": {},
   "outputs": [],
   "source": [
    "#Remove outliers which are greater than 'threshold' number of std away from the mean\n",
    "#frequencym_comp2, phasem_comp2, comp2m_err = detect_outlier(frequencym_comp2, phasem_comp2, comp2m_err,2 )"
   ]
  },
  {
   "cell_type": "code",
   "execution_count": 88,
   "metadata": {},
   "outputs": [
    {
     "data": {
      "text/plain": [
       "Text(0,0.5,'Frequency')"
      ]
     },
     "execution_count": 88,
     "metadata": {},
     "output_type": "execute_result"
    },
    {
     "data": {
      "image/png": "[encoded data removed]",
      "text/plain": [
       "<matplotlib.figure.Figure at 0x7fd12c30a240>"
      ]
     },
     "metadata": {},
     "output_type": "display_data"
    }
   ],
   "source": [
    "py.errorbar(phasem_comp2,frequencym_comp2, xerr=comp2m_err, fmt='.', lw=0.5, label='data')\n",
    "py.title('Component 2 - Position - Outliers Removed')\n",
    "py.xlabel('Phase Bin (deg)')\n",
    "py.ylabel('Frequency')"
   ]
  },
  {
   "cell_type": "code",
   "execution_count": 89,
   "metadata": {},
   "outputs": [],
   "source": [
    "#expect=(700,0.4,16)\n",
    "comp2m_params,comp2m_cov=curve_fit(thorsett,frequencym_comp2,phasem_comp2, maxfev=10000, sigma=comp2m_err, bounds=([0,-1,0],[1000,0.5,np.inf]))\n",
    "comp2m_fit_error=np.sqrt(np.diag(comp2m_cov))\n",
    "comp2m_fit = thorsett(frequencym_comp2, *comp2m_params)"
   ]
  },
  {
   "cell_type": "markdown",
   "metadata": {
    "colab_type": "text",
    "id": "onWmCTwBgzh2"
   },
   "source": [
    "# Fitting Power Laws to Separation "
   ]
  },
  {
   "cell_type": "markdown",
   "metadata": {
    "colab_type": "text",
    "id": "pRvVTEsj_64Q"
   },
   "source": [
    "## Just GMRT"
   ]
  },
  {
   "cell_type": "code",
   "execution_count": 90,
   "metadata": {
    "colab": {},
    "colab_type": "code",
    "id": "QlmKKG5sFeMg"
   },
   "outputs": [],
   "source": [
    "component_sep, sep_error = separation_singleprofile(fit_components)"
   ]
  },
  {
   "cell_type": "code",
   "execution_count": 91,
   "metadata": {
    "colab": {},
    "colab_type": "code",
    "id": "pacJRC6tIbBS"
   },
   "outputs": [],
   "source": [
    "comp_sep=[]\n",
    "frequency_forsep=[]\n",
    "\n",
    "#range(0,no_freq_bands)\n",
    "for i in range(0,len(component_sep)):\n",
    "    comp_sep.append(component_sep[i][1])\n",
    "    frequency_forsep.append(component_sep[i][0])"
   ]
  },
  {
   "cell_type": "code",
   "execution_count": 92,
   "metadata": {
    "colab": {
     "base_uri": "https://localhost:8080/"
    },
    "colab_type": "code",
    "id": "oE8r2963KMSz",
    "outputId": "25557bf4-1b1c-415d-c785-7fa822a71292"
   },
   "outputs": [
    {
     "data": {
      "text/plain": [
       "Text(0,0.5,'Δθ (deg)')"
      ]
     },
     "execution_count": 92,
     "metadata": {},
     "output_type": "execute_result"
    },
    {
     "data": {
      "image/png": "[encoded data removed]",
      "text/plain": [
       "<matplotlib.figure.Figure at 0x7fd12b232898>"
      ]
     },
     "metadata": {},
     "output_type": "display_data"
    }
   ],
   "source": [
    "py.plot(frequency_forsep, comp_sep, '.')\n",
    "py.xlabel('Frequency')\n",
    "py.ylabel('\\u0394\\u03B8 (deg)')"
   ]
  },
  {
   "cell_type": "code",
   "execution_count": 93,
   "metadata": {},
   "outputs": [],
   "source": [
    "frequency_forsep, comp_sep, sep_error = detect_outlier(frequency_forsep, comp_sep, sep_error, 2.5)"
   ]
  },
  {
   "cell_type": "code",
   "execution_count": 94,
   "metadata": {},
   "outputs": [
    {
     "data": {
      "text/plain": [
       "Text(0,0.5,'Δθ (deg)')"
      ]
     },
     "execution_count": 94,
     "metadata": {},
     "output_type": "execute_result"
    },
    {
     "data": {
      "image/png": "[encoded data removed]",
      "text/plain": [
       "<matplotlib.figure.Figure at 0x7fd12c40de10>"
      ]
     },
     "metadata": {},
     "output_type": "display_data"
    }
   ],
   "source": [
    "py.plot(frequency_forsep, comp_sep, '.')\n",
    "py.xlabel('Frequency')\n",
    "py.ylabel('\\u0394\\u03B8 (deg)')"
   ]
  },
  {
   "cell_type": "code",
   "execution_count": 95,
   "metadata": {
    "colab": {},
    "colab_type": "code",
    "id": "Eb9tysocAfn3"
   },
   "outputs": [],
   "source": [
    "expect=(703,0.4,16)\n",
    "sep_params,sep_cov=curve_fit(thorsett,frequency_forsep,comp_sep, expect, maxfev=10000, sigma=sep_error, bounds=([0,-1,-np.inf],[np.inf,0.5,np.inf]))\n",
    "sep_fit_error=np.sqrt(np.diag(sep_cov))\n",
    "separation_fit=thorsett(frequency_forsep,*sep_params)"
   ]
  },
  {
   "cell_type": "code",
   "execution_count": 96,
   "metadata": {
    "colab": {
     "base_uri": "https://localhost:8080/",
     "height": 300
    },
    "colab_type": "code",
    "id": "oY7ok57vApBN",
    "outputId": "c54100cc-1569-4c6b-fb74-c413acbdf635"
   },
   "outputs": [
    {
     "data": {
      "text/plain": [
       "<matplotlib.legend.Legend at 0x7fd12bf12c88>"
      ]
     },
     "execution_count": 96,
     "metadata": {},
     "output_type": "execute_result"
    },
    {
     "data": {
      "image/png": "[encoded data removed]",
      "text/plain": [
       "<matplotlib.figure.Figure at 0x7fd12c348128>"
      ]
     },
     "metadata": {},
     "output_type": "display_data"
    }
   ],
   "source": [
    "#py.plot(frequency_forsep, comp_sep, '.', label='data')\n",
    "py.errorbar(frequency_forsep, comp_sep, yerr=sep_error, fmt='.', lw=0.5, label='data',zorder=1)\n",
    "py.plot(frequency_forsep,separation_fit, color='red',lw=2,label='thorsett fit',zorder=2)\n",
    "py.title('Component Separation - Fit Peaks')\n",
    "py.xlabel('Frequency')\n",
    "py.ylabel('\\u0394\\u03B8 (deg)')\n",
    "py.legend(loc='lower left')\n"
   ]
  },
  {
   "cell_type": "code",
   "execution_count": 97,
   "metadata": {},
   "outputs": [
    {
     "name": "stdout",
     "output_type": "stream",
     "text": [
      "The equation of fit for this pulsar is: \t Δθ = 658.219 ν^-0.059 + -380.062 \n",
      "\n",
      "The errors are 2539.474, 0.351, 2755.185 \n",
      "Units for Δθ is degrees and ν is MHz\n"
     ]
    }
   ],
   "source": [
    "#chi, p = sp.stats.chisquare(comp_sep, separation_fit)\n",
    "print(f'The equation of fit for this pulsar is: \\t \\u0394\\u03B8 = {sep_params[0]:.3f} \\u03BD^{sep_params[1]:.3f} + {sep_params[2]:.3f} \\n')\n",
    "print(f'The errors are {sep_fit_error[0]:.3f}, {sep_fit_error[1]:.3f}, {sep_fit_error[2]:.3f} ')\n",
    "#print('The chi squared value for the fit is: ', chi)\n",
    "print('Units for \\u0394\\u03B8 is degrees and \\u03BD is MHz')"
   ]
  },
  {
   "cell_type": "markdown",
   "metadata": {},
   "source": [
    "##  MWA and GMRT"
   ]
  },
  {
   "cell_type": "code",
   "execution_count": 98,
   "metadata": {},
   "outputs": [],
   "source": [
    "y_sep=comp_sep.copy()\n",
    "x_sep=frequency_forsep.copy()\n",
    "err_sep=sep_error.copy()"
   ]
  },
  {
   "cell_type": "code",
   "execution_count": 99,
   "metadata": {},
   "outputs": [],
   "source": [
    "componentm_sep, sepm_error = separation_singleprofile(fitm_components)"
   ]
  },
  {
   "cell_type": "code",
   "execution_count": 100,
   "metadata": {},
   "outputs": [],
   "source": [
    "compm_sep=[]\n",
    "frequencym_forsep=[]"
   ]
  },
  {
   "cell_type": "code",
   "execution_count": 101,
   "metadata": {},
   "outputs": [],
   "source": [
    "for i in range(0,len(componentm_sep)):\n",
    "    compm_sep.append(componentm_sep[i][1])\n",
    "    frequencym_forsep.append(componentm_sep[i][0])"
   ]
  },
  {
   "cell_type": "code",
   "execution_count": 102,
   "metadata": {},
   "outputs": [],
   "source": [
    "#frequencym_forsep, compm_sep, sepm_error = detect_outlier(frequencym_forsep, compm_sep, sepm_error, 1)"
   ]
  },
  {
   "cell_type": "code",
   "execution_count": 103,
   "metadata": {},
   "outputs": [],
   "source": [
    "for j in range(0,len(compm_sep)):\n",
    "    comp_sep.append(compm_sep[j])\n",
    "    frequency_forsep.append(frequencym_forsep[j])\n",
    "    sep_error.append(sepm_error[j])"
   ]
  },
  {
   "cell_type": "code",
   "execution_count": 104,
   "metadata": {},
   "outputs": [],
   "source": [
    "expect=(703,0.4,16)\n",
    "sep_params,sep_cov=curve_fit(thorsett,frequency_forsep,comp_sep, expect, maxfev=10000, sigma=sep_error, bounds=([0,-1,-np.inf],[np.inf,0.5,np.inf]))\n",
    "sep_fit_error=np.sqrt(np.diag(sep_cov))\n",
    "separation_fit=thorsett(frequency_forsep,*sep_params)"
   ]
  },
  {
   "cell_type": "markdown",
   "metadata": {},
   "source": [
    "## GMRT/MWA/EPTA"
   ]
  },
  {
   "cell_type": "code",
   "execution_count": 105,
   "metadata": {},
   "outputs": [],
   "source": [
    "h_fit_components=[]"
   ]
  },
  {
   "cell_type": "code",
   "execution_count": 106,
   "metadata": {},
   "outputs": [],
   "source": [
    "h_fit_components.insert(0,profile_compsh)"
   ]
  },
  {
   "cell_type": "code",
   "execution_count": 107,
   "metadata": {},
   "outputs": [],
   "source": [
    "h_component_sep,h_sep_error = separation_singleprofile(h_fit_components)"
   ]
  },
  {
   "cell_type": "code",
   "execution_count": 108,
   "metadata": {},
   "outputs": [],
   "source": [
    "comp_sep.insert(0,h_component_sep[0][1])\n",
    "frequency_forsep.insert(0,h_component_sep[0][0])\n",
    "sep_error.insert(0, h_sep_error[0])"
   ]
  },
  {
   "cell_type": "code",
   "execution_count": 109,
   "metadata": {},
   "outputs": [],
   "source": [
    "expect=(703,0.4,16)\n",
    "sep_params,sep_cov=curve_fit(thorsett,frequency_forsep,comp_sep, expect, maxfev=10000, sigma=sep_error, bounds=([0,-np.inf,-np.inf],[np.inf,0.5,np.inf]))\n",
    "sep_fit_error=np.sqrt(np.diag(sep_cov))"
   ]
  },
  {
   "cell_type": "code",
   "execution_count": 110,
   "metadata": {},
   "outputs": [],
   "source": [
    "sepa_fit=[]\n",
    "x_sepa_fit=list(range(100,1400))\n",
    "sepa_fit_errors=[]\n",
    "for i in x_sepa_fit:\n",
    "    sepa_fit.append(sep_params[0]*(i**(sep_params[1]))+sep_params[2])\n",
    "    sepa_fit_errors.append(np.sqrt(((i**(sep_params[1])*(sep_fit_error[0]))**2)+(((np.log(i)*sep_params[0]*i**(sep_params[1]))*(sep_fit_error[1]))**2)+((1*(sep_fit_error[2]))**2)))"
   ]
  },
  {
   "cell_type": "code",
   "execution_count": 111,
   "metadata": {},
   "outputs": [
    {
     "data": {
      "text/plain": [
       "<matplotlib.legend.Legend at 0x7fd12bef9f28>"
      ]
     },
     "execution_count": 111,
     "metadata": {},
     "output_type": "execute_result"
    },
    {
     "data": {
      "image/png": "[encoded data removed]",
      "text/plain": [
       "<matplotlib.figure.Figure at 0x7fd12bef9e10>"
      ]
     },
     "metadata": {},
     "output_type": "display_data"
    }
   ],
   "source": [
    "#py.plot(frequency_forsep, comp_sep, '.', label='data')\n",
    "py.errorbar(frequency_forsep, comp_sep, yerr=sep_error, fmt='.', lw=0.5, label='data')\n",
    "py.plot(x_sepa_fit,sepa_fit, color='red',lw=2,label='thorsett fit')\n",
    "#py.axis((290,500,70,95))\n",
    "py.axis((160,500,70,110))\n",
    "#py.axis((125,1500,62,110))\n",
    "py.title('Component Separation - Fit Peaks')\n",
    "py.xlabel('Frequency')\n",
    "py.ylabel('\\u0394\\u03B8 (deg)')\n",
    "py.legend(loc='lower left')"
   ]
  },
  {
   "cell_type": "code",
   "execution_count": 112,
   "metadata": {},
   "outputs": [
    {
     "data": {
      "text/plain": [
       "<matplotlib.legend.Legend at 0x7fd12bdc4518>"
      ]
     },
     "execution_count": 112,
     "metadata": {},
     "output_type": "execute_result"
    },
    {
     "data": {
      "image/png": "[encoded data removed]",
      "text/plain": [
       "<matplotlib.figure.Figure at 0x7fd12be7eb38>"
      ]
     },
     "metadata": {},
     "output_type": "display_data"
    }
   ],
   "source": [
    "py.errorbar(frequency_forsep, comp_sep, yerr=sep_error, fmt='.', lw=0.5, label='data')\n",
    "py.plot(x_sepa_fit,sepa_fit, color='red',lw=2,label='thorsett fit')\n",
    "py.fill_between(x_sepa_fit, np.array(sepa_fit) - np.array(sepa_fit_errors), np.array(sepa_fit) + np.array(sepa_fit_errors), facecolor='yellow', alpha=0.3)\n",
    "#py.axis((290,500,70,95))\n",
    "#py.axis((160,500,70,110))\n",
    "py.axis((125,1500,62,110))\n",
    "py.title('Component Separation - Fit Peaks')\n",
    "py.xlabel('Frequency')\n",
    "py.ylabel('\\u0394\\u03B8 (deg)')\n",
    "py.legend(loc='lower left')"
   ]
  },
  {
   "cell_type": "code",
   "execution_count": 113,
   "metadata": {
    "colab": {
     "base_uri": "https://localhost:8080/",
     "height": 107
    },
    "colab_type": "code",
    "id": "l11_3C1ODT_d",
    "outputId": "ad79532a-bd1b-457e-afde-75b291f318c1"
   },
   "outputs": [
    {
     "name": "stdout",
     "output_type": "stream",
     "text": [
      "The equation of fit for this pulsar is: \t Δθ = 8187.930 ν^-0.960 + 55.854 \n",
      "\n",
      "The errors are 2614.679, 0.063, 1.599 \n",
      "Units for Δθ is degrees and ν is MHz\n"
     ]
    }
   ],
   "source": [
    "print(f'The equation of fit for this pulsar is: \\t \\u0394\\u03B8 = {sep_params[0]:.3f} \\u03BD^{sep_params[1]:.3f} + {sep_params[2]:.3f} \\n')\n",
    "print(f'The errors are {sep_fit_error[0]:.3f}, {sep_fit_error[1]:.3f}, {sep_fit_error[2]:.3f} ')\n",
    "print('Units for \\u0394\\u03B8 is degrees and \\u03BD is MHz')"
   ]
  },
  {
   "cell_type": "markdown",
   "metadata": {},
   "source": [
    "### GMRT, PARKES and MWA Profile"
   ]
  },
  {
   "cell_type": "code",
   "execution_count": 114,
   "metadata": {},
   "outputs": [],
   "source": [
    "y_sep.insert(0,h_component_sep[0][1])\n",
    "x_sep.insert(0,h_component_sep[0][0])\n",
    "err_sep.insert(0, h_sep_error[0])"
   ]
  },
  {
   "cell_type": "code",
   "execution_count": 115,
   "metadata": {},
   "outputs": [],
   "source": [
    "m_fit_components=[]\n",
    "m_fit_components.insert(0,profile_compm)\n",
    "m_component_sep,m_sep_error = separation_singleprofile(m_fit_components)"
   ]
  },
  {
   "cell_type": "code",
   "execution_count": 116,
   "metadata": {},
   "outputs": [
    {
     "data": {
      "text/plain": [
       "[component_separation(frequency=186.0, separation=103.26416856661324)]"
      ]
     },
     "execution_count": 116,
     "metadata": {},
     "output_type": "execute_result"
    }
   ],
   "source": [
    "m_component_sep"
   ]
  },
  {
   "cell_type": "code",
   "execution_count": 117,
   "metadata": {},
   "outputs": [],
   "source": [
    "y_sep.append(m_component_sep[0][1])\n",
    "x_sep.append(m_component_sep[0][0])\n",
    "err_sep.append(m_sep_error[0])"
   ]
  },
  {
   "cell_type": "code",
   "execution_count": 118,
   "metadata": {},
   "outputs": [],
   "source": [
    "expect=(703,0.4,16)\n",
    "sep_params,sep_cov=curve_fit(thorsett,x_sep,y_sep, expect, sigma=err_sep, maxfev=10000,  bounds=([0,-np.inf,-np.inf],[np.inf,0.5,np.inf]))\n",
    "sep_fit_error=np.sqrt(np.diag(sep_cov))"
   ]
  },
  {
   "cell_type": "code",
   "execution_count": 119,
   "metadata": {},
   "outputs": [],
   "source": [
    "sepa_fit=[]\n",
    "x_sepa_fit=list(range(100,1400))\n",
    "sepa_fit_errors=[]\n",
    "for i in x_sepa_fit:\n",
    "    sepa_fit.append(sep_params[0]*(i**(sep_params[1]))+sep_params[2])\n",
    "    sepa_fit_errors.append(np.sqrt(((i**(sep_params[1])*(sep_fit_error[0]))**2)+(((np.log(i)*sep_params[0]*i**(sep_params[1]))*(sep_fit_error[1]))**2)+((1*(sep_fit_error[2]))**2)))"
   ]
  },
  {
   "cell_type": "code",
   "execution_count": 120,
   "metadata": {},
   "outputs": [
    {
     "data": {
      "text/plain": [
       "<matplotlib.legend.Legend at 0x7fd12bd40d30>"
      ]
     },
     "execution_count": 120,
     "metadata": {},
     "output_type": "execute_result"
    },
    {
     "data": {
      "image/png": "[encoded data removed]",
      "text/plain": [
       "<matplotlib.figure.Figure at 0x7fd12bdc9c18>"
      ]
     },
     "metadata": {},
     "output_type": "display_data"
    }
   ],
   "source": [
    "#py.plot(frequency_forsep, comp_sep, '.', label='data')\n",
    "py.errorbar(x_sep, y_sep, yerr=err_sep, fmt='.', lw=0.5, label='data')\n",
    "py.plot(x_sepa_fit,sepa_fit, color='red',lw=2,label='thorsett fit')\n",
    "#py.axis((290,500,70,95))\n",
    "#py.axis((160,500,70,110))\n",
    "py.axis((120,1500,62,110))\n",
    "py.title('Component Separation - Fit Peaks')\n",
    "py.xlabel('Frequency')\n",
    "py.ylabel('\\u0394\\u03B8 (deg)')\n",
    "py.legend(loc='lower left')"
   ]
  },
  {
   "cell_type": "code",
   "execution_count": 121,
   "metadata": {},
   "outputs": [
    {
     "data": {
      "text/plain": [
       "<matplotlib.legend.Legend at 0x7fd12bee35c0>"
      ]
     },
     "execution_count": 121,
     "metadata": {},
     "output_type": "execute_result"
    },
    {
     "data": {
      "image/png": "[encoded data removed]",
      "text/plain": [
       "<matplotlib.figure.Figure at 0x7fd12bef9320>"
      ]
     },
     "metadata": {},
     "output_type": "display_data"
    }
   ],
   "source": [
    "py.errorbar(x_sep, y_sep, yerr=err_sep, fmt='.', lw=0.5, label='data')\n",
    "py.plot(x_sepa_fit,sepa_fit, color='red',lw=2,label='thorsett fit')\n",
    "py.fill_between(x_sepa_fit, np.array(sepa_fit) - np.array(sepa_fit_errors), np.array(sepa_fit) + np.array(sepa_fit_errors), facecolor='yellow', alpha=0.3)\n",
    "#py.axis((290,500,70,95))\n",
    "#py.axis((160,500,70,110))\n",
    "py.axis((125,1500,62,110))\n",
    "py.title('Component Separation - Fit Peaks')\n",
    "py.xlabel('Frequency')\n",
    "py.ylabel('\\u0394\\u03B8 (deg)')\n",
    "py.legend(loc='lower left')"
   ]
  },
  {
   "cell_type": "code",
   "execution_count": 122,
   "metadata": {},
   "outputs": [
    {
     "name": "stdout",
     "output_type": "stream",
     "text": [
      "The equation of fit for this pulsar is: \t Δθ = 10975.187 ν^-1.016 + 56.917 \n",
      "\n",
      "The errors are 3820.157, 0.068, 1.530 \n",
      "Units for Δθ is degrees and ν is MHz\n"
     ]
    }
   ],
   "source": [
    "print(f'The equation of fit for this pulsar is: \\t \\u0394\\u03B8 = {sep_params[0]:.3f} \\u03BD^{sep_params[1]:.3f} + {sep_params[2]:.3f} \\n')\n",
    "print(f'The errors are {sep_fit_error[0]:.3f}, {sep_fit_error[1]:.3f}, {sep_fit_error[2]:.3f} ')\n",
    "print('Units for \\u0394\\u03B8 is degrees and \\u03BD is MHz')"
   ]
  },
  {
   "cell_type": "markdown",
   "metadata": {
    "colab_type": "text",
    "id": "e6XHCJRCjogM"
   },
   "source": [
    "# Change in Intensity over Frequency"
   ]
  },
  {
   "cell_type": "markdown",
   "metadata": {
    "colab_type": "text",
    "id": "S8Wdb29Jkmx7"
   },
   "source": [
    "## Fit Peaks (fit_components)"
   ]
  },
  {
   "cell_type": "code",
   "execution_count": 123,
   "metadata": {
    "colab": {},
    "colab_type": "code",
    "id": "qLKpI3HvjyrZ"
   },
   "outputs": [],
   "source": [
    "intensity_comp1=[]\n",
    "frequency_comp1=[]\n",
    "\n",
    "for i in range(0,len(fit_components)):\n",
    "  if fit_components[i][1][0] != 0:\n",
    "    intensity_comp1.append(fit_components[i][1][1])\n",
    "    frequency_comp1.append(fit_components[i][0])"
   ]
  },
  {
   "cell_type": "code",
   "execution_count": 124,
   "metadata": {
    "colab": {
     "base_uri": "https://localhost:8080/",
     "height": 313
    },
    "colab_type": "code",
    "id": "ClLSoQOukVjN",
    "outputId": "8433b698-caef-4650-93e6-5b78f85c2c08"
   },
   "outputs": [
    {
     "data": {
      "text/plain": [
       "Text(0,0.5,'Intensity')"
      ]
     },
     "execution_count": 124,
     "metadata": {},
     "output_type": "execute_result"
    },
    {
     "data": {
      "image/png": "[encoded data removed]",
      "text/plain": [
       "<matplotlib.figure.Figure at 0x7fd12bcdc5f8>"
      ]
     },
     "metadata": {},
     "output_type": "display_data"
    }
   ],
   "source": [
    "py.plot(frequency_comp1,intensity_comp1, '.')\n",
    "py.title('Component 1 - Fit Peaks')\n",
    "py.xlabel('Frequency')\n",
    "py.ylabel('Intensity')"
   ]
  },
  {
   "cell_type": "code",
   "execution_count": 125,
   "metadata": {
    "colab": {},
    "colab_type": "code",
    "id": "IDYE2r0PksL3"
   },
   "outputs": [],
   "source": [
    "intensity_comp2=[]\n",
    "frequency_comp2=[]\n",
    "\n",
    "for i in range(0,len(fit_components)):\n",
    "  if fit_components[i][1][0] != 0:\n",
    "    intensity_comp2.append(fit_components[i][2][1])\n",
    "    frequency_comp2.append(fit_components[i][0])"
   ]
  },
  {
   "cell_type": "code",
   "execution_count": 126,
   "metadata": {
    "colab": {
     "base_uri": "https://localhost:8080/",
     "height": 313
    },
    "colab_type": "code",
    "id": "jGLPcnDqk0np",
    "outputId": "bd26b629-ab7c-40fa-a969-8662d0976f6c"
   },
   "outputs": [
    {
     "data": {
      "text/plain": [
       "Text(0,0.5,'Intensity')"
      ]
     },
     "execution_count": 126,
     "metadata": {},
     "output_type": "execute_result"
    },
    {
     "data": {
      "image/png": "[encoded data removed]",
      "text/plain": [
       "<matplotlib.figure.Figure at 0x7fd12bcad7b8>"
      ]
     },
     "metadata": {},
     "output_type": "display_data"
    }
   ],
   "source": [
    "py.plot(frequency_comp2,intensity_comp2, '.')\n",
    "py.title('Component 2 - Fit Peaks')\n",
    "py.xlabel('Frequency')\n",
    "py.ylabel('Intensity')"
   ]
  },
  {
   "cell_type": "markdown",
   "metadata": {
    "colab_type": "text",
    "id": "8WslQQJrq_Aj"
   },
   "source": [
    "# Intensity Fitting"
   ]
  },
  {
   "cell_type": "code",
   "execution_count": 127,
   "metadata": {
    "colab": {
     "base_uri": "https://localhost:8080/",
     "height": 53
    },
    "colab_type": "code",
    "id": "C2CXJX1YrCIF",
    "outputId": "b87d98c9-f115-4cb3-9893-683cb2945316"
   },
   "outputs": [
    {
     "ename": "NameError",
     "evalue": "name 'frequency_ind1' is not defined",
     "output_type": "error",
     "traceback": [
      "\u001b[0;31m---------------------------------------------------------------------------\u001b[0m",
      "\u001b[0;31mNameError\u001b[0m                                 Traceback (most recent call last)",
      "\u001b[0;32m<ipython-input-127-f0062a676233>\u001b[0m in \u001b[0;36m<module>\u001b[0;34m()\u001b[0m\n\u001b[0;32m----> 1\u001b[0;31m \u001b[0mint1_params\u001b[0m\u001b[0;34m,\u001b[0m\u001b[0mint1_cov\u001b[0m\u001b[0;34m=\u001b[0m\u001b[0mcurve_fit\u001b[0m\u001b[0;34m(\u001b[0m\u001b[0mthorsett\u001b[0m\u001b[0;34m,\u001b[0m\u001b[0mfrequency_ind1\u001b[0m\u001b[0;34m,\u001b[0m\u001b[0mintensity_ind1\u001b[0m\u001b[0;34m,\u001b[0m \u001b[0mmaxfev\u001b[0m\u001b[0;34m=\u001b[0m\u001b[0;36m10000\u001b[0m\u001b[0;34m)\u001b[0m\u001b[0;34m\u001b[0m\u001b[0;34m\u001b[0m\u001b[0m\n\u001b[0m\u001b[1;32m      2\u001b[0m \u001b[0mint1_error\u001b[0m\u001b[0;34m=\u001b[0m\u001b[0mnp\u001b[0m\u001b[0;34m.\u001b[0m\u001b[0msqrt\u001b[0m\u001b[0;34m(\u001b[0m\u001b[0mnp\u001b[0m\u001b[0;34m.\u001b[0m\u001b[0mdiag\u001b[0m\u001b[0;34m(\u001b[0m\u001b[0mint1_cov\u001b[0m\u001b[0;34m)\u001b[0m\u001b[0;34m)\u001b[0m\u001b[0;34m\u001b[0m\u001b[0;34m\u001b[0m\u001b[0m\n",
      "\u001b[0;31mNameError\u001b[0m: name 'frequency_ind1' is not defined"
     ]
    }
   ],
   "source": [
    "int1_params,int1_cov=curve_fit(thorsett,frequency_ind1,intensity_ind1, maxfev=10000)\n",
    "int1_error=np.sqrt(np.diag(int1_cov))"
   ]
  },
  {
   "cell_type": "code",
   "execution_count": null,
   "metadata": {
    "colab": {},
    "colab_type": "code",
    "id": "Df5TE1oXruhI"
   },
   "outputs": [],
   "source": [
    "int1_fit = thorsett(frequency_ind1, *int1_params)"
   ]
  },
  {
   "cell_type": "code",
   "execution_count": null,
   "metadata": {
    "colab": {
     "base_uri": "https://localhost:8080/",
     "height": 298
    },
    "colab_type": "code",
    "id": "ItsZl2eQsHCB",
    "outputId": "e39d757f-1db5-4da5-e690-314222d382cd"
   },
   "outputs": [],
   "source": [
    "py.plot(frequency_ind1, intensity_ind1, lw=0.5, label='data')\n",
    "py.plot(frequency_ind1, int1_fit, color='red',lw=1,label='power fit')\n",
    "py.xlabel('Frequency')\n",
    "py.ylabel('\\u0394\\u03B8 (deg)')"
   ]
  },
  {
   "cell_type": "code",
   "execution_count": null,
   "metadata": {
    "colab": {
     "base_uri": "https://localhost:8080/",
     "height": 53
    },
    "colab_type": "code",
    "id": "jU-N5gKTsPze",
    "outputId": "26a373b0-e821-46a7-cf00-cbda986e1430"
   },
   "outputs": [],
   "source": [
    "int2_params,int2_cov=curve_fit(thorsett,frequency_ind2,intensity_ind2, maxfev=10000)\n",
    "int2_error=np.sqrt(np.diag(int2_cov))"
   ]
  },
  {
   "cell_type": "code",
   "execution_count": null,
   "metadata": {
    "colab": {},
    "colab_type": "code",
    "id": "iMqSq1_esQGd"
   },
   "outputs": [],
   "source": [
    "int2_fit = thorsett(frequency_ind2, *int2_params)"
   ]
  },
  {
   "cell_type": "code",
   "execution_count": null,
   "metadata": {
    "colab": {
     "base_uri": "https://localhost:8080/",
     "height": 300
    },
    "colab_type": "code",
    "id": "rdSnhd1ssQWm",
    "outputId": "69e5793a-ed42-4930-c1cc-a0476fb10b6b"
   },
   "outputs": [],
   "source": [
    "py.plot(frequency_ind2, intensity_ind2, lw=0.5, label='data')\n",
    "py.plot(frequency_ind2, int1_fit, color='red',lw=1,label='power fit')\n",
    "py.xlabel('Frequency')\n",
    "py.ylabel('\\u0394\\u03B8 (deg)')"
   ]
  },
  {
   "cell_type": "markdown",
   "metadata": {
    "colab_type": "text",
    "id": "-PbPFKZBj1oi"
   },
   "source": [
    "# Change in Width over Frequency"
   ]
  },
  {
   "cell_type": "code",
   "execution_count": null,
   "metadata": {
    "colab": {},
    "colab_type": "code",
    "id": "Fp9gIoKskGAq"
   },
   "outputs": [],
   "source": [
    "width_ind1=[]\n",
    "frequency_ind1=[]\n",
    "\n",
    "for i in range(0,len(ind_components)):\n",
    "  if ind_components[i][1][0] != 0:\n",
    "    width_ind1.append(ind_components[i][1][2])\n",
    "    frequency_ind1.append(ind_components[i][0])"
   ]
  },
  {
   "cell_type": "code",
   "execution_count": null,
   "metadata": {
    "colab": {
     "base_uri": "https://localhost:8080/",
     "height": 313
    },
    "colab_type": "code",
    "id": "N0BRkmb4j4RM",
    "outputId": "c4f89daf-d63a-4363-b1e8-469e6816a028"
   },
   "outputs": [],
   "source": [
    "py.plot(frequency_ind1,width_ind1, '.')\n",
    "py.title('Component 1 - Individual Peaks')\n",
    "py.xlabel('Frequency')\n",
    "py.ylabel('Width (deg)')"
   ]
  },
  {
   "cell_type": "code",
   "execution_count": null,
   "metadata": {
    "colab": {},
    "colab_type": "code",
    "id": "LPYL5iqTpivf"
   },
   "outputs": [],
   "source": [
    "width_ind2=[]\n",
    "frequency_ind2=[]\n",
    "\n",
    "for i in range(0,len(ind_components)):\n",
    "  if ind_components[i][1][0] != 0:\n",
    "    width_ind2.append(ind_components[i][2][2])\n",
    "    frequency_ind2.append(ind_components[i][0])"
   ]
  },
  {
   "cell_type": "code",
   "execution_count": null,
   "metadata": {
    "colab": {
     "base_uri": "https://localhost:8080/",
     "height": 313
    },
    "colab_type": "code",
    "id": "O4ClDRp9prUD",
    "outputId": "1f270b92-4fea-4fbf-b9eb-6cd4c742dbff"
   },
   "outputs": [],
   "source": [
    "py.plot(frequency_ind2,width_ind2, '.')\n",
    "py.title('Component 2 - Individual Peaks')\n",
    "py.xlabel('Frequency')\n",
    "py.ylabel('Width (deg)')"
   ]
  },
  {
   "cell_type": "markdown",
   "metadata": {
    "colab_type": "text",
    "id": "BAAAMssWpRQc"
   },
   "source": [
    "# Width Fitting"
   ]
  },
  {
   "cell_type": "code",
   "execution_count": null,
   "metadata": {
    "colab": {
     "base_uri": "https://localhost:8080/",
     "height": 89
    },
    "colab_type": "code",
    "id": "GiInt3EknqMN",
    "outputId": "448dfb77-0559-4150-dcaa-adf0de3c01a9"
   },
   "outputs": [],
   "source": [
    "wid1_params,wid1_cov=curve_fit(thorsett,frequency_ind1,width_ind1, maxfev=10000)\n",
    "wid1_error=np.sqrt(np.diag(wid1_cov))"
   ]
  },
  {
   "cell_type": "code",
   "execution_count": null,
   "metadata": {
    "colab": {},
    "colab_type": "code",
    "id": "3IjiWqhDo_YD"
   },
   "outputs": [],
   "source": [
    "wid1_fit = thorsett(frequency_ind1, *wid1_params)"
   ]
  },
  {
   "cell_type": "code",
   "execution_count": null,
   "metadata": {
    "colab": {
     "base_uri": "https://localhost:8080/",
     "height": 300
    },
    "colab_type": "code",
    "id": "EHXb2PFVoweo",
    "outputId": "ee270068-c470-490d-d0b7-ba92b2cebd29"
   },
   "outputs": [],
   "source": [
    "py.plot(frequency_ind1, width_ind1, lw=0.5, label='data')\n",
    "py.plot(frequency_ind1,wid1_fit, color='red',lw=1,label='power fit')\n",
    "py.xlabel('Frequency')\n",
    "py.ylabel('\\u0394\\u03B8 (deg)')"
   ]
  },
  {
   "cell_type": "code",
   "execution_count": null,
   "metadata": {
    "colab": {
     "base_uri": "https://localhost:8080/",
     "height": 53
    },
    "colab_type": "code",
    "id": "U20gSvfWpuE7",
    "outputId": "aa9795dd-48b5-4606-b07d-827dbb0fbbd4"
   },
   "outputs": [],
   "source": [
    "wid2_params,wid2_cov=curve_fit(thorsett,frequency_ind2,width_ind2, maxfev=10000)\n",
    "wid2_error=np.sqrt(np.diag(wid2_cov))"
   ]
  },
  {
   "cell_type": "code",
   "execution_count": null,
   "metadata": {
    "colab": {},
    "colab_type": "code",
    "id": "X_Io0XJjpvY0"
   },
   "outputs": [],
   "source": [
    "wid2_fit = thorsett(frequency_ind2, *wid2_params)"
   ]
  },
  {
   "cell_type": "code",
   "execution_count": null,
   "metadata": {
    "colab": {
     "base_uri": "https://localhost:8080/",
     "height": 297
    },
    "colab_type": "code",
    "id": "bCaNRt8EpyDl",
    "outputId": "342a3205-0048-4c84-d305-8bf6055c7bbd"
   },
   "outputs": [],
   "source": [
    "py.plot(frequency_ind2, width_ind2, lw=0.5, label='data')\n",
    "py.plot(frequency_ind2, wid2_fit, color='red',lw=1,label='power fit')\n",
    "py.xlabel('Frequency')\n",
    "py.ylabel('\\u0394\\u03B8 (deg)')"
   ]
  },
  {
   "cell_type": "code",
   "execution_count": null,
   "metadata": {
    "colab": {},
    "colab_type": "code",
    "id": "hBjyTDjgp133"
   },
   "outputs": [],
   "source": []
  },
  {
   "cell_type": "code",
   "execution_count": null,
   "metadata": {},
   "outputs": [],
   "source": []
  },
  {
   "cell_type": "code",
   "execution_count": null,
   "metadata": {},
   "outputs": [],
   "source": []
  },
  {
   "cell_type": "code",
   "execution_count": null,
   "metadata": {},
   "outputs": [],
   "source": []
  },
  {
   "cell_type": "code",
   "execution_count": null,
   "metadata": {},
   "outputs": [],
   "source": []
  }
 ],
 "metadata": {
  "colab": {
   "collapsed_sections": [
    "4z_feS2dDwlJ",
    "FamzMgIcD2xs",
    "HsEW4YA0D-QH",
    "eKWvXxMcEIfE",
    "er13GCy-EUTz",
    "6a03g77-gZa5",
    "IGeyAoMhEduw",
    "Y1RZQ9SHcgOZ",
    "pccDpOhFgn-A",
    "KZFBrw4AEiXX",
    "jBHxooGJctvn",
    "S8Wdb29Jkmx7",
    "G6J_t2-wlTKi",
    "8WslQQJrq_Aj",
    "-PbPFKZBj1oi",
    "BAAAMssWpRQc"
   ],
   "name": "Component Separation - RFI Removed.ipynb",
   "provenance": []
  },
  "kernelspec": {
   "display_name": "Python 3",
   "language": "python",
   "name": "python3"
  },
  "language_info": {
   "codemirror_mode": {
    "name": "ipython",
    "version": 3
   },
   "file_extension": ".py",
   "mimetype": "text/x-python",
   "name": "python",
   "nbconvert_exporter": "python",
   "pygments_lexer": "ipython3",
   "version": "3.6.8"
  }
 },
 "nbformat": 4,
 "nbformat_minor": 1
}
