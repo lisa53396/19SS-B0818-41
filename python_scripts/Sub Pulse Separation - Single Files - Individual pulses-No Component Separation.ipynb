{
 "cells": [
  {
   "cell_type": "markdown",
   "metadata": {
    "colab_type": "text",
    "id": "4z_feS2dDwlJ"
   },
   "source": [
    "# Importing Packages Needed"
   ]
  },
  {
   "cell_type": "code",
   "execution_count": 1,
   "metadata": {
    "colab": {},
    "colab_type": "code",
    "id": "zJLqZxwce0pN"
   },
   "outputs": [],
   "source": [
    "import numpy as np\n",
    "import scipy as sp\n",
    "import matplotlib.pyplot as py\n",
    "from scipy.optimize import curve_fit\n",
    "#from scipy.signal import find_peaks\n",
    "import collections as col\n",
    "from scipy.interpolate import UnivariateSpline"
   ]
  },
  {
   "cell_type": "markdown",
   "metadata": {
    "colab_type": "text",
    "id": "FamzMgIcD2xs"
   },
   "source": [
    "# Definition of Named Tuples"
   ]
  },
  {
   "cell_type": "code",
   "execution_count": 2,
   "metadata": {
    "colab": {},
    "colab_type": "code",
    "id": "Uzxt0sq0qeHc"
   },
   "outputs": [],
   "source": [
    "component = col.namedtuple('component','phase intensity')\n",
    "ind_sub = col.namedtuple('ind_sub','phase intensity width')\n",
    "pulse_sub = col.namedtuple('pulse_sub','frequency sub1 sub2, errors')\n",
    "pulse_fits = col.namedtuple('pulse_fits','thorsett, powerlaw, linear')\n",
    "one_fit = col.namedtuple('one_fit','params, errors, cov, chir')\n",
    "pl_av = col.namedtuple('pl_av', 'frequency, phase')"
   ]
  },
  {
   "cell_type": "markdown",
   "metadata": {
    "colab_type": "text",
    "id": "a8CeXWdQIy8b"
   },
   "source": [
    "# Definition of Functions"
   ]
  },
  {
   "cell_type": "markdown",
   "metadata": {},
   "source": [
    "Functions needed to calculate chi squared values and find error in pulse data"
   ]
  },
  {
   "cell_type": "code",
   "execution_count": 3,
   "metadata": {},
   "outputs": [],
   "source": [
    "def chsq(observed_values, expected_values, err):\n",
    "    \"\"\"\n",
    "    Chi Squared operation:\n",
    "    Compute the data's chi squared values.\n",
    "    \n",
    "    Parameters:\n",
    "    -----------\n",
    "    observed_values: list\n",
    "        A list of floats - the raw data\n",
    "    expected_values: list\n",
    "        A list of floats - the expected data or the fit\n",
    "    err: float\n",
    "        The error across all data - standard deviation of the noise\n",
    "\n",
    "    Returns:\n",
    "    --------\n",
    "    test_statistic: float\n",
    "        The chi squared value of the data\n",
    "    \n",
    "    Created by Keegan Smith\n",
    "    \"\"\"\n",
    "    test_statistic=0\n",
    "    for observed, expected in zip(observed_values, expected_values):\n",
    "        test_statistic+=((float(observed)-float(expected))/float(err))**2\n",
    "    return test_statistic\n",
    "\n",
    "def chsq_err(observed_values, expected_values, err):\n",
    "    #Same as above but used when there is a different error for each point\n",
    "    test_statistic=0\n",
    "    for observed, expected, error in zip(observed_values, expected_values, err):\n",
    "        test_statistic+=((float(observed)-float(expected))/float(error))**2\n",
    "    return test_statistic"
   ]
  },
  {
   "cell_type": "code",
   "execution_count": 4,
   "metadata": {},
   "outputs": [],
   "source": [
    "def sigmaClip(data, alpha=3, tol=0.1, ntrials=10):\n",
    "    \"\"\"\n",
    "    Sigma clipping operation:\n",
    "    Compute the data's median, m, and its standard deviation, sigma.\n",
    "    Keep only the data that falls in the range (m-alpha*sigma,m+alpha*sigma) for some value of alpha, and discard everything else.\n",
    "\n",
    "    This operation is repeated ntrials number of times or until the tolerance level is hit.\n",
    "\n",
    "    Parameters:\n",
    "    -----------\n",
    "    data: list\n",
    "        A list of floats - the data to clip\n",
    "    alpha: float\n",
    "        OPTIONAL - Determines the number of sigmas to use to determine the upper nad lower limits. Default=3\n",
    "    tol: float\n",
    "        OPTIONAL - The fractional change in the standard deviation that determines when the tolerance is hit. Default=0.1\n",
    "    ntrils: int\n",
    "        OPTIONAL - The maximum number of times to apply the operation. Default=10\n",
    "\n",
    "    Returns:\n",
    "    --------\n",
    "    oldstd: float\n",
    "        The std of the clipped data\n",
    "    x: list\n",
    "        The data list that contains only noise, with nans in place of 'real' data\n",
    "    \n",
    "    Created by Nick Swainston\n",
    "    \"\"\"\n",
    "    \n",
    "    x = np.copy(data)\n",
    "    oldstd = np.nanstd(x)\n",
    "    #When the x[x<lolim] and x[x>hilim] commands encounter a nan it produces a\n",
    "    #warning. This is expected because it is ignoring flagged data from a\n",
    "    #previous trial so the warning is supressed.\n",
    "    old_settings = np.seterr(all='ignore')\n",
    "    for trial in range(ntrials):\n",
    "        median = np.nanmedian(x)\n",
    "\n",
    "        lolim = median - alpha * oldstd\n",
    "        hilim = median + alpha * oldstd\n",
    "        x[x<lolim] = np.nan\n",
    "        x[x>hilim] = np.nan\n",
    "\n",
    "        newstd = np.nanstd(x)\n",
    "        tollvl = (oldstd - newstd) / newstd\n",
    "\n",
    "        if tollvl <= tol:\n",
    "            #print(\"Took {0} trials to reach tolerance\".format(trial+1))\n",
    "            np.seterr(**old_settings)\n",
    "            return oldstd, x\n",
    "\n",
    "        if trial + 1 == ntrials:\n",
    "            #print(\"Reached number of trials without reaching tolerance level\")\n",
    "            np.seterr(**old_settings)\n",
    "            return oldstd, x\n",
    "\n",
    "        oldstd = newstd"
   ]
  },
  {
   "cell_type": "markdown",
   "metadata": {
    "colab_type": "text",
    "id": "nOegi6c8I3gu"
   },
   "source": [
    "Gaussian Fitting Functions:"
   ]
  },
  {
   "cell_type": "code",
   "execution_count": 5,
   "metadata": {
    "colab": {},
    "colab_type": "code",
    "id": "Jf6ae6VTR-iR"
   },
   "outputs": [],
   "source": [
    "\"\"\"\n",
    "Definitions of gaussian equations - single, double and triple\n",
    "\"\"\"\n",
    "\n",
    "def gauss(x,amp,cen,sd):\n",
    "    return amp*np.exp(-(x-cen)**2/(2*sd**2))\n",
    "\n",
    "def twogauss(x,amp1,cen1,sd1,amp2,cen2,sd2):\n",
    "    return gauss(x,amp1,cen1,sd1)+gauss(x,amp2,cen2,sd2)\n",
    "\n",
    "def threegauss(x,amp1,cen1,sd1,amp2,cen2,sd2,amp3,cen3,sd3):\n",
    "    return gauss(x,amp1,cen1,sd1)+gauss(x,amp2,cen2,sd2)+gauss(x,amp3,cen3,sd3)"
   ]
  },
  {
   "cell_type": "code",
   "execution_count": 6,
   "metadata": {},
   "outputs": [],
   "source": [
    "\"\"\"\n",
    "Fitting data into the above gaussian equations. \n",
    "\n",
    "Parameters:\n",
    "    -----------\n",
    "    x,y: list, list\n",
    "        A list of floats - the data \n",
    "    error: float\n",
    "        The error across all data - standard deviation of the noise\n",
    "    expect: list\n",
    "        The expected parameters for the gaussian equation\n",
    "\n",
    "    Returns:\n",
    "    --------\n",
    "    params: list\n",
    "        The parameters (x, cen, sd) of the fit\n",
    "    cov: list\n",
    "        The covariance of the fit\n",
    "    fit: list\n",
    "        The y data of the actual fit (parameters have been put back into the equation)\n",
    "    chi: float\n",
    "        The chi squared value\n",
    "\"\"\"\n",
    "\n",
    "def single_fit(x, y, error, expect):\n",
    "    params,cov=curve_fit(gauss,x,y,expect,bounds=([-np.inf,-np.inf,0],[np.inf,np.inf,np.inf]))\n",
    "    fit=gauss(x,*params)\n",
    "    \n",
    "    chi=chsq(y, fit, error)\n",
    "    chir=chi/(len(y)-3)\n",
    "        \n",
    "    return params, cov, fit, chir\n",
    "\n",
    "def double_fit(x, y, error, expect):\n",
    "    params,cov=curve_fit(twogauss,x,y,expect,bounds=([-np.inf,-np.inf,0,-np.inf,-np.inf,0],[np.inf,np.inf,np.inf,np.inf,np.inf,np.inf]))\n",
    "    fit=twogauss(x,*params)\n",
    "\n",
    "    chi=chsq(y, fit, error)\n",
    "    chir=chi/(len(y)-6)\n",
    "    \n",
    "    return params, cov, fit, chir\n",
    "\n",
    "def triple_fit(x, y, error, expect):\n",
    "    params,cov=curve_fit(threegauss,x,y,expect,bounds=([-np.inf,-np.inf,0,-np.inf,-np.inf,0,-np.inf,-np.inf,0],[np.inf,np.inf,np.inf,np.inf,np.inf,np.inf,np.inf,np.inf,np.inf]))\n",
    "    fit=threegauss(x,*params)\n",
    "    \n",
    "    chi=chsq(y, fit, error)\n",
    "    chir=chi/(len(y)-9)\n",
    "    \n",
    "    return params, cov, fit, chir"
   ]
  },
  {
   "cell_type": "code",
   "execution_count": 7,
   "metadata": {
    "colab": {},
    "colab_type": "code",
    "id": "zWylwCBKV8SL"
   },
   "outputs": [],
   "source": [
    "\"\"\"\n",
    "    Fitting Gaussians operation:\n",
    "    Creates a double gaussian fit for the data.\n",
    "    First attempts a fit with expected left subpulse, and if this fails it then attempts a fit with the right. \n",
    "    If these fail create a no fit.\n",
    "    \n",
    "    Then checks if a double fit is created, the chi value and if over 1100, replaces it with a single fit instead. \n",
    "    If chi of a single fit is still above 1100 then replaces it with a no fit. \n",
    "\n",
    "    Parameters:\n",
    "    -----------\n",
    "    x, y: list, list\n",
    "        A list of floats - the data \n",
    "    error: float\n",
    "        The error across all data - standard deviation of the noise\n",
    "        \n",
    "    Returns:\n",
    "    --------\n",
    "    fit: list\n",
    "        The y data of the best fit \n",
    "    params: list\n",
    "        The parameters (x, cen, sd) of the best fit\n",
    "    sigma: list\n",
    "        List of the errors in the parameters\n",
    "    chi: float\n",
    "        The chi squared reduced value\n",
    "\"\"\" \n",
    "\n",
    "def fitting_gaussians(x,y, error):   \n",
    "    mx=max(y)\n",
    "    yl=list(y)\n",
    "    mx_ind=yl.index(mx)\n",
    "    mx_ph=x[mx_ind]\n",
    "    \n",
    "    #Attempts to use the peak of the data as an expected value, if it is in the correct range\n",
    "    if mx_ph>300 and mx_ph<550:\n",
    "        expect1=[mx,mx_ph,20,20,700,100]\n",
    "    else:\n",
    "        expect1=[70,400,20,20,700,100]\n",
    "    if mx_ph>550 and mx_ph<700:\n",
    "        expect2=[20,400,100,mx,mx_ph,20]\n",
    "    else:\n",
    "        expect2=[20,400,100,70,700,20]\n",
    "    \n",
    "    #Attempts to first create a fit using expected left peak\n",
    "    try:\n",
    "        params1, cov1, fit1, chir1 = double_fit(x, y, error, expect1)\n",
    "        sigma1=np.sqrt(np.diag(cov1))\n",
    "    except Exception as e:\n",
    "        params1=0\n",
    "        fit1=[]\n",
    "        chir1=5000\n",
    "        sigma1=0\n",
    "        cov1=0\n",
    "    #Then attempts to create a fit using expected right peak\n",
    "    try:\n",
    "        params2, cov2, fit2, chir2 = double_fit(x, y, error, expect2)\n",
    "        sigma2=np.sqrt(np.diag(cov2))\n",
    "    except Exception as r:\n",
    "        params2=0\n",
    "        fit2=[]\n",
    "        chir2=5000\n",
    "        sigma2=0\n",
    "        cov2=0\n",
    "    \n",
    "    #Then use the fit with the best chi squared reduced value\n",
    "    if abs(chir1-1)<=abs(chir2-1) and abs(chir1-1)<2:\n",
    "        params=params1\n",
    "        fit=fit1\n",
    "        chir=chir1\n",
    "        sigma=sigma1\n",
    "        cov=cov1\n",
    "    elif abs(chir2-1)<=abs(chir1-1) and abs(chir2-1)<2:\n",
    "        params=params2\n",
    "        fit=fit2\n",
    "        chir=chir2\n",
    "        sigma=sigma2 \n",
    "        cov=cov2\n",
    "    else:\n",
    "        params=0\n",
    "        fit=[]\n",
    "        chir=np.inf\n",
    "        sigma=0\n",
    "        cov=0\n",
    "        \n",
    "    return fit, params, sigma, cov, chir"
   ]
  },
  {
   "cell_type": "markdown",
   "metadata": {
    "colab_type": "text",
    "id": "Hf__MEBnJEd_"
   },
   "source": [
    "Finding Peak of Gaussian Fittings Function"
   ]
  },
  {
   "cell_type": "code",
   "execution_count": 8,
   "metadata": {},
   "outputs": [],
   "source": [
    "def multi_gauss(x, *params):\n",
    "    y = np.zeros_like(x)\n",
    "    for i in range(0, len(params), 3):\n",
    "        a = params[i]\n",
    "        b = params[i+1]\n",
    "        c = params[i+2]\n",
    "        y = y +  a * np.exp( -(((x-b)**2) / (2*c**2)) )\n",
    "    return y\n",
    "\n",
    "def multi_gauss_ddx(x, *params):\n",
    "    #derivative of gaussian\n",
    "    y = np.zeros_like(x)\n",
    "    for i in range(0, len(params), 3):\n",
    "        a = params[i]\n",
    "        b = params[i+1]\n",
    "        c = params[i+2]\n",
    "        y = y - a/c**2 * (x - b) * np.exp( -(((x-b)**2) / (2*c**2)) )\n",
    "    return y\n",
    "\n",
    "def multi_gauss_d2dx2(x, *params):\n",
    "    #double derivative of gaussian\n",
    "    y = np.zeros_like(x)\n",
    "    for i in range(0, len(params), 3):\n",
    "        a = params[i]\n",
    "        b = params[i+1]\n",
    "        c = params[i+2]\n",
    "        y = y + (multi_gauss(x, a, b, c) / c**2) * (((x - b)**2)/(c**2) - 1)\n",
    "    return y\n",
    "\n",
    "def jacobian_slope(x, *params):\n",
    "    \"\"\"\n",
    "    Evaluates the Jacobian matrix of a gaussian slope at a single point, x\n",
    "\n",
    "    Parameters:\n",
    "    -----------\n",
    "    x: float\n",
    "        The point to evaluate\n",
    "    *params: list\n",
    "        A list containing three parameters per gaussian component in the order: Amp, Mean, Width\n",
    "\n",
    "    Returns:\n",
    "    --------\n",
    "    J: numpy.matrix\n",
    "        The Jacobian matrix\n",
    "    \"\"\"\n",
    "    def dda(a, b, c, x):\n",
    "        return -multi_gauss(x, a, b, c) * (x - b)/(c**2)/a\n",
    "    def ddb(a, b, c, x):\n",
    "        return multi_gauss(x, a, b, c) * (1 - (x - b)**2/(c**2))/c**2\n",
    "    def ddc(a, b, c, x):\n",
    "        return multi_gauss(x, a, b, c) * (x - b)/(c**3) * (2 - (x-b)**2/(c**2))\n",
    "    J = []\n",
    "    for i in range(0, len(params), 3):\n",
    "        a = params[i]\n",
    "        b = params[i+1]\n",
    "        c = params[i+2]\n",
    "        mypars = [a, b, c, x]\n",
    "        J.append(dda(*mypars))\n",
    "        J.append(ddb(*mypars))\n",
    "        J.append(ddc(*mypars))\n",
    "    J = np.asmatrix(J)\n",
    "    return J"
   ]
  },
  {
   "cell_type": "code",
   "execution_count": 9,
   "metadata": {},
   "outputs": [],
   "source": [
    "def find_x_err(x, popt, pcov):\n",
    "    \"\"\"\n",
    "    Finds the error in the horizontal position of a gaussian fit at the point x.\n",
    "    Uses the equation sigma_x = sigma_y/d2ydx2 where:\n",
    "    sigma_x = error in x\n",
    "    d2ydx2 = second derivative of the gaussian function at point x\n",
    "    sigma_y = J*C*J_T\n",
    "    J = Jacobian evalutated at point x\n",
    "    C = covariance matrix of gaussian fit\n",
    "    J_T = transposed jacobian\n",
    "\n",
    "    Parameters:\n",
    "    -----------\n",
    "    x: list\n",
    "        A list of points to evaluate the error at\n",
    "    popt: list\n",
    "        The parameters used to describe the gaussian fit\n",
    "    pcov: numpy.matrix\n",
    "        The covariance matrix corresponding to popt\n",
    "\n",
    "    Returns:\n",
    "    --------\n",
    "    x_err: list\n",
    "        The error evaluated at each point, x\n",
    "    \"\"\"\n",
    "    x_err = []\n",
    "    for i, point in enumerate(x):\n",
    "        J = jacobian_slope(point, *popt)\n",
    "        d2dx2 = multi_gauss_d2dx2(point, *popt)\n",
    "        JC = np.matmul(J, pcov)\n",
    "        sigma_y = np.sqrt( np.matmul(JC, np.transpose(J)).item(0) )\n",
    "        x_err.append(sigma_y / abs(d2dx2))\n",
    "    return x_err"
   ]
  },
  {
   "cell_type": "code",
   "execution_count": 10,
   "metadata": {},
   "outputs": [],
   "source": [
    "def find_minima_maxima_gauss(popt, pcov, x_length):\n",
    "    \"\"\"\n",
    "    Finds all roots of a gaussian function\n",
    "\n",
    "    Parameters:\n",
    "    -----------\n",
    "    popt: list\n",
    "        A list of length 3N where N is the number of gaussians. This list contains the parameters amp, mean, centre respectively\n",
    "    x_length: int\n",
    "        The length of the list used to fit the gaussian\n",
    "\n",
    "    Returns:\n",
    "    --------\n",
    "    minima: list\n",
    "        A list of the minimum points of the fit\n",
    "    maxima: list\n",
    "        A list of the maximum points of the fit\n",
    "    \"\"\"\n",
    "    #Create the derivative list and spline it to find roots\n",
    "    x = np.linspace(0, x_length-1, x_length)\n",
    "    dy = multi_gauss_ddx(x, *popt)\n",
    "    spline_dy = UnivariateSpline(x, dy, s=0)\n",
    "    roots = spline_dy.roots()\n",
    "    \n",
    "    #Find which are max and min\n",
    "    maxima = []\n",
    "    minima = []\n",
    "    for root in roots:\n",
    "        idx = int(root + 0.5)\n",
    "        if dy[idx-1] > dy[idx]:\n",
    "            maxima.append(root)\n",
    "        else:\n",
    "            minima.append(root)            \n",
    "            \n",
    "    minima_e = find_x_err(minima, popt, pcov)\n",
    "    maxima_e = find_x_err(maxima, popt, pcov)\n",
    "\n",
    "    return minima, maxima, minima_e, maxima_e"
   ]
  },
  {
   "cell_type": "code",
   "execution_count": 11,
   "metadata": {},
   "outputs": [],
   "source": [
    "def gauss_peaksn(fit, nofreqband, freqband, cov, params,freq_low,freq_high):\n",
    "    \"\"\"\n",
    "    Find the peaks of a gaussian fit, take the highest two and create a profile_comp.\n",
    "    Also converts the phase into degrees and the frequency into MHz.\n",
    "    Parameters:\n",
    "    -----------\n",
    "    fit: list\n",
    "        the gaussian fit to find peaks of\n",
    "    nofreqband: int\n",
    "        total number of frequency bins \n",
    "    freqband: int\n",
    "        current frequency band which has been fit\n",
    "    noise_std: int\n",
    "        the standard deviation of the noise - the error of the data\n",
    "    params: list\n",
    "        the parameters for the fit\n",
    "    freq_low: int\n",
    "        the lower boundary of the frequency range\n",
    "    freq_high: int\n",
    "        the high boundary of the frequency range\n",
    "    Returns:\n",
    "    --------\n",
    "    profile_comp: pulse_component\n",
    "        carrys information about each component at a certain frequency\n",
    "    \"\"\"\n",
    "    \n",
    "    deg_mod=360/len(fit)\n",
    "    \n",
    "    #Find the peaks of the fit, and the intensity at those peaks\n",
    "    minima, peakpos, minima_e, err=find_minima_maxima_gauss(params, cov, len(fit))\n",
    "    peakint = twogauss(peakpos, *params)\n",
    "    \n",
    "    #Delete the peak with the least intensity until there is only one peak left\n",
    "    while len(peakpos)>1:\n",
    "        mn=min(peakint)\n",
    "        peakint = list(peakint)\n",
    "        rm = peakint.index(mn)\n",
    "        del peakpos[rm]\n",
    "        del peakint[rm]\n",
    "        del err[rm]\n",
    "    \n",
    "    #Assign the peaks to be either subpulse 1 or 2, also converts phase from bins to degrees\n",
    "    if len(peakpos)==1 and peakint[0]>20:\n",
    "        component1 = component(phase=(deg_mod)*peakpos[0], intensity=peakint[0])\n",
    "        component2 = component(phase=0, intensity=0)\n",
    "        error = np.array(err)*(deg_mod)\n",
    "    else:\n",
    "        component1 = component(phase=0, intensity=0)\n",
    "        component2 = component(phase=0, intensity=0)\n",
    "        error = 0\n",
    "\n",
    "    #Converts the frequency from bins to MHz    \n",
    "    freq=(((freq_high-freq_low)/nofreqband)*(nofreqband-freqband))+freq_low\n",
    "    profile_comp = pulse_sub(frequency=freq, sub1=component1, sub2=component2, errors=error)\n",
    "\n",
    "    return profile_comp"
   ]
  },
  {
   "cell_type": "markdown",
   "metadata": {
    "colab_type": "text",
    "id": "4P1qFLYpI9hB"
   },
   "source": [
    "Plotting Fittings Functions"
   ]
  },
  {
   "cell_type": "code",
   "execution_count": 12,
   "metadata": {
    "colab": {},
    "colab_type": "code",
    "id": "gPhqw8WaI8pp"
   },
   "outputs": [],
   "source": [
    "\"\"\"\n",
    "    Plotting operations:\n",
    "    Used to make different plots of the fits, their components and peaks.\n",
    "\"\"\"\n",
    "def plot_fit(x,y,fit,params,sigma):\n",
    "    py.plot(x, y, lw=0.5, label='data')\n",
    "    py.plot(x,fit, color='red',lw=3,label='gaussian fit')\n",
    "    py.xlabel('Phase Bin')\n",
    "    py.ylabel('Intensity')\n",
    "    py.legend()\n",
    "    return"
   ]
  },
  {
   "cell_type": "code",
   "execution_count": 13,
   "metadata": {
    "colab": {},
    "colab_type": "code",
    "id": "NmHjFzTFith2"
   },
   "outputs": [],
   "source": [
    "def plot_fill(x,y,params):\n",
    "    params1 = params[0:3]\n",
    "    params2 = params[3:6]\n",
    "    gfit1 = gauss(x, *params1)\n",
    "    gfit2 = gauss(x, *params2)\n",
    "    \n",
    "    py.plot(x, y, lw=0.5, label='data')\n",
    "    py.plot(x,fit,color='red',lw=3,label='gaussian fit')\n",
    "    py.xlabel('Phase Bin')\n",
    "    py.ylabel('Intensity')\n",
    "    py.legend()\n",
    "\n",
    "    py.plot(x, gfit1, \"g\")\n",
    "    py.fill_between(x, gfit1.min(), gfit1, facecolor=\"green\", alpha=0.5)\n",
    "  \n",
    "    py.plot(x, gfit2, \"y\")\n",
    "    py.fill_between(x, gfit2.min(), gfit2, facecolor=\"yellow\", alpha=0.5)\n",
    "\n",
    "    return "
   ]
  },
  {
   "cell_type": "code",
   "execution_count": 14,
   "metadata": {
    "colab": {},
    "colab_type": "code",
    "id": "b6Y_oMHJbEEz"
   },
   "outputs": [],
   "source": [
    "def plot_peaks(x,y,profile_comp):\n",
    "    py.plot((360/1024)*x,y, lw=0.5)\n",
    "    py.plot((360/1024)*x, fit, color='red', lw=3, label='gaussian fit')\n",
    "\n",
    "    x=[profile_comp[i][0] for i in range(1,3)]\n",
    "    y=[profile_comp[i][1] for i in range(1,3)]\n",
    "\n",
    "    py.plot(x, y ,'X', markerfacecolor='black', markeredgecolor='black', label='peaks')\n",
    "\n",
    "    py.xlabel('Phase (deg)')\n",
    "    py.ylabel('Intensity')\n",
    "    py.legend()\n",
    "    return"
   ]
  },
  {
   "cell_type": "markdown",
   "metadata": {
    "colab_type": "text",
    "id": "L_oE3uFcsKkA"
   },
   "source": [
    "Functions for Fitting Component Movement Data"
   ]
  },
  {
   "cell_type": "code",
   "execution_count": 15,
   "metadata": {
    "colab": {},
    "colab_type": "code",
    "id": "_V1yQ0U5__mq"
   },
   "outputs": [],
   "source": [
    "def thorsett(x, A, alpha, smin):\n",
    "    return (A * (x**(alpha)) + smin)\n",
    "def powerlaw(x, A, alpha):\n",
    "    return (A * (x**(alpha)))\n",
    "def linear(x, m, c):\n",
    "    return (x * m+c)"
   ]
  },
  {
   "cell_type": "code",
   "execution_count": 16,
   "metadata": {},
   "outputs": [],
   "source": [
    "def jacobian_slope_pl(length,x, *params):\n",
    "    \"\"\"\n",
    "    Evaluates the Jacobian matrix of a gaussian slope at a single point, x\n",
    "\n",
    "    Parameters:\n",
    "    -----------\n",
    "    x: float\n",
    "        The point to evaluate\n",
    "    *params: list\n",
    "        A list containing three parameters per gaussian component in the order: Amp, Mean, Width\n",
    "\n",
    "    Returns:\n",
    "    --------\n",
    "    J: numpy.matrix\n",
    "        The Jacobian matrix\n",
    "    \"\"\"\n",
    "    def ddA(A, alpha, x):\n",
    "        return (1/length)*x**alpha\n",
    "    def ddalpha(A, alpha, x):\n",
    "        return (1/length)*alpha*A*x**(alpha-1)\n",
    "    J = []\n",
    "    for i in range(0, len(params), 2):\n",
    "        A = params[i]\n",
    "        alpha = params[i+1]\n",
    "        mypars = [A, alpha, x]\n",
    "        J.append(ddA(*mypars))\n",
    "        J.append(ddalpha(*mypars))\n",
    "    J = np.asmatrix(J)\n",
    "    return J"
   ]
  },
  {
   "cell_type": "code",
   "execution_count": 17,
   "metadata": {},
   "outputs": [],
   "source": [
    "def find_y_err_pl(x, popt, pcov):\n",
    "    #x=list of all frequencys. popt = parameter list across all pulses. pcov=covarience matrix for all pulses\n",
    "    #Combine multiple cov matrices into one\n",
    "    cov=np.zeros((len(pcov)*2,len(pcov)*2))\n",
    "    for i, c in enumerate(pcov):\n",
    "        cov[i*2][i*2]=c[0][0]\n",
    "        cov[i*2][i*2+1]=c[0][1]\n",
    "        cov[i*2+1][i*2]=c[1][0]\n",
    "        cov[i*2+1][i*2+1]=c[1][1]\n",
    "    err=[]\n",
    "    for i, point in enumerate(x):\n",
    "        J = jacobian_slope_pl(len(x),point, *popt)\n",
    "        JC = np.matmul(J, cov)\n",
    "        sigma_y = np.sqrt( np.matmul(JC, np.transpose(J)).item(0) )\n",
    "        err.append(sigma_y)\n",
    "    return err\n",
    "#returns a list of errors"
   ]
  },
  {
   "cell_type": "markdown",
   "metadata": {},
   "source": [
    "Extra Stuff"
   ]
  },
  {
   "cell_type": "code",
   "execution_count": 18,
   "metadata": {},
   "outputs": [],
   "source": [
    "\"\"\"\n",
    "    Graphing Sub-pulse operation:\n",
    "    Used to get the correct x, y and error arrays created for graphing the data and finding a fit.\n",
    "\"\"\"\n",
    "def graphing_spulse(fit_spulse,spulse_num):\n",
    "        phase_comp=[]\n",
    "        frequency_comp=[]\n",
    "        comp_err=[]\n",
    "\n",
    "        if spulse_num==1:\n",
    "            for i in range(0,len(fit_spulse)):\n",
    "                if fit_spulse[i][1][0] != 0:# and fit_spulse[i][3][0]<4:\n",
    "                    phase_comp.append(fit_spulse[i][1][0])\n",
    "                    frequency_comp.append(fit_spulse[i][0])\n",
    "                    comp_err.append(fit_spulse[i][3][0])\n",
    "        elif spulse_num==2:\n",
    "            for i in range(0,len(fit_spulse)):\n",
    "                if fit_spulse[i][2][0] != 0:# and fit_spulse[i][3][3]<4:\n",
    "                    phase_comp.append(fit_spulse[i][2][0])\n",
    "                    frequency_comp.append(fit_spulse[i][0])\n",
    "                    comp_err.append(fit_spulse[i][3][0])\n",
    "        \n",
    "        return phase_comp, frequency_comp, comp_err    "
   ]
  },
  {
   "cell_type": "code",
   "execution_count": 19,
   "metadata": {},
   "outputs": [],
   "source": [
    "\"\"\"\n",
    "    Removing outliers operation\n",
    "    Used to remove outliers more than the threshold number of standard deviations from the mean. \n",
    "    Also removes points with high errors.\n",
    "\"\"\"\n",
    "def detect_outlier(frequency_comp, phase_comp, comp_err):\n",
    "    phase=[]\n",
    "    frequency=[]\n",
    "    err=[]\n",
    "    \n",
    "    threshold=1.5\n",
    "    mean_1 = np.mean(phase_comp)\n",
    "    std_1 =np.std(phase_comp)\n",
    "    \n",
    "    \n",
    "    for i in range(len(phase_comp)):\n",
    "        z_score= (phase_comp[i] - mean_1)/std_1 \n",
    "        if np.abs(z_score) < threshold:\n",
    "            phase.append(phase_comp[i])\n",
    "            frequency.append(frequency_comp[i])\n",
    "            err.append(comp_err[i])\n",
    "    return frequency, phase, err"
   ]
  },
  {
   "cell_type": "code",
   "execution_count": 20,
   "metadata": {},
   "outputs": [],
   "source": [
    "\"\"\"\n",
    "    Three fits operation\n",
    "    Attempts to fit a thorsett, power law and linear equation to the data. Also calculates chi squared and reduced \n",
    "\"\"\"\n",
    "\n",
    "def three_fits(frequency_comp, phase_comp, comp_err): \n",
    "    \n",
    "    try:\n",
    "        expect=[100,0.1,0.1]\n",
    "        thorsett_params,thorsett_cov=curve_fit(thorsett,frequency_comp,phase_comp, expect, maxfev=100000, sigma=comp_err)\n",
    "        thorsett_fit_error=np.sqrt(np.diag(thorsett_cov))\n",
    "        thorsettf = thorsett(frequency_comp, *thorsett_params)\n",
    "\n",
    "        ch=chsq_err(phase_comp,thorsettf, comp_err)\n",
    "        chre=ch/(len(phase_comp)-3)\n",
    "\n",
    "        thorsett_fit=one_fit(params=thorsett_params, errors=thorsett_fit_error, cov=thorsett_cov, chir=chre)  \n",
    "    except:\n",
    "        print('No thorsett for component')\n",
    "        thorsett_fit=0\n",
    "\n",
    "    try:\n",
    "        expect=[100,0.1]\n",
    "        pl_params,pl_cov=curve_fit(powerlaw,frequency_comp,phase_comp, expect, maxfev=100000, sigma=comp_err)\n",
    "        pl_fit_error=np.sqrt(np.diag(pl_cov))\n",
    "        powerlawf = powerlaw(frequency_comp, *pl_params)\n",
    "\n",
    "        ch=chsq_err(phase_comp,powerlawf, comp_err)\n",
    "        chre=ch/(len(phase_comp)-2)\n",
    "        \n",
    "        pl_fit=one_fit(params=pl_params, errors=pl_fit_error, cov=pl_cov, chir=chre)\n",
    "    except:\n",
    "        print('No power law for component')\n",
    "        pl_fit=0\n",
    "\n",
    "    try:\n",
    "        lin_params,lin_cov=curve_fit(linear,frequency_comp,phase_comp)\n",
    "        lin_fit_error=np.sqrt(np.diag(lin_cov))\n",
    "        linearf = linear(np.array(frequency_comp), *lin_params)\n",
    "       \n",
    "        ch=chsq_err(phase_comp,linearf, comp_err)\n",
    "        chre=ch/(len(phase_comp)-2)\n",
    "        \n",
    "        lin_fit=one_fit(params=lin_params, errors=lin_fit_error, cov=lin_cov, chir=chre)\n",
    "    except:\n",
    "        print('No linear for component')\n",
    "        lin_fit=0\n",
    "        \n",
    "    pulse_fit=pulse_fits(thorsett=thorsett_fit, powerlaw=pl_fit, linear=lin_fit)\n",
    "    \n",
    "    return pulse_fit"
   ]
  },
  {
   "cell_type": "markdown",
   "metadata": {
    "colab_type": "text",
    "id": "eKWvXxMcEIfE"
   },
   "source": [
    "# INDIVIDUAL FREQUENCY BAND"
   ]
  },
  {
   "cell_type": "markdown",
   "metadata": {
    "colab_type": "text",
    "id": "HsEW4YA0D-QH"
   },
   "source": [
    "## Importing Data"
   ]
  },
  {
   "cell_type": "markdown",
   "metadata": {
    "colab_type": "text",
    "id": "5aCGkE3ZYbBM"
   },
   "source": [
    "Data must be in text file format from software pdv.\n",
    "Also must contain time scrunched data so that the first column of numbers is always 0 (only one pulse). "
   ]
  },
  {
   "cell_type": "code",
   "execution_count": 21,
   "metadata": {
    "colab": {},
    "colab_type": "code",
    "id": "4ieR-2IlfGA_"
   },
   "outputs": [],
   "source": [
    "fulldatatype=([('pulse','i8'),('frequency','i8'),('phase','i8'),('intensity','f8')])"
   ]
  },
  {
   "cell_type": "code",
   "execution_count": 22,
   "metadata": {
    "colab": {},
    "colab_type": "code",
    "id": "o9kgY0kqfIrQ"
   },
   "outputs": [],
   "source": [
    "single_pulse = np.loadtxt(fname='/home/lisasmith/sspulsar/archivefiles/s_archivefiles/f256_new/pulse_1503960513.f256_pazi.pdv', dtype=fulldatatype)"
   ]
  },
  {
   "cell_type": "code",
   "execution_count": 23,
   "metadata": {
    "colab": {},
    "colab_type": "code",
    "id": "Wfp5R_xond9z"
   },
   "outputs": [],
   "source": [
    "no_freq_bands = max(single_pulse['frequency'])+1"
   ]
  },
  {
   "cell_type": "markdown",
   "metadata": {},
   "source": [
    "## Gaussian Fitting - Broken Down for Each Frequency"
   ]
  },
  {
   "cell_type": "markdown",
   "metadata": {
    "colab_type": "text",
    "id": "MVQ_pgyRnofm"
   },
   "source": [
    "Following Section is for error checking:"
   ]
  },
  {
   "cell_type": "markdown",
   "metadata": {},
   "source": [
    "From all the frequency profiles it takes only the one frequency band. "
   ]
  },
  {
   "cell_type": "code",
   "execution_count": 24,
   "metadata": {
    "colab": {},
    "colab_type": "code",
    "id": "mcIptVeffJXA"
   },
   "outputs": [],
   "source": [
    "#Isolating a single frequency for a pulse\n",
    "freqband = 5\n",
    "f = single_pulse['frequency'] == freqband\n",
    "\n",
    "phase=single_pulse['phase'][f]\n",
    "intensity=single_pulse['intensity'][f]\n",
    "x = phase\n",
    "y = intensity"
   ]
  },
  {
   "cell_type": "code",
   "execution_count": 25,
   "metadata": {},
   "outputs": [
    {
     "data": {
      "text/plain": [
       "1024"
      ]
     },
     "execution_count": 25,
     "metadata": {},
     "output_type": "execute_result"
    }
   ],
   "source": [
    "len(y)"
   ]
  },
  {
   "cell_type": "code",
   "execution_count": 26,
   "metadata": {
    "colab": {},
    "colab_type": "code",
    "id": "o9L0EPsL2JrT"
   },
   "outputs": [
    {
     "data": {
      "text/plain": [
       "[<matplotlib.lines.Line2D at 0x7ff1c34e9828>]"
      ]
     },
     "execution_count": 26,
     "metadata": {},
     "output_type": "execute_result"
    },
    {
     "data": {
      "image/png": "[encoded data removed]",
      "text/plain": [
       "<matplotlib.figure.Figure at 0x7ff1c36cfda0>"
      ]
     },
     "metadata": {},
     "output_type": "display_data"
    }
   ],
   "source": [
    "py.plot(x,y)"
   ]
  },
  {
   "cell_type": "markdown",
   "metadata": {},
   "source": [
    "Calculates the noise of the data. The standard deviation of this is then the error in the data. "
   ]
  },
  {
   "cell_type": "code",
   "execution_count": 27,
   "metadata": {},
   "outputs": [
    {
     "name": "stdout",
     "output_type": "stream",
     "text": [
      "14.899773325708042\n"
     ]
    }
   ],
   "source": [
    "noise = sigmaClip(y)\n",
    "error = np.nanstd(noise[1])\n",
    "print(error)"
   ]
  },
  {
   "cell_type": "code",
   "execution_count": 28,
   "metadata": {
    "colab": {},
    "colab_type": "code",
    "id": "nvTDzWP-WMAh"
   },
   "outputs": [],
   "source": [
    "#Attempts to fit two gaussians to the data\n",
    "#Uses two expected values and returns the fit with the best chi squared reduced values\n",
    "fit, params, sigma, cov, chir=fitting_gaussians(x,y,error)"
   ]
  },
  {
   "cell_type": "code",
   "execution_count": 29,
   "metadata": {},
   "outputs": [
    {
     "name": "stdout",
     "output_type": "stream",
     "text": [
      "pulse_sub(frequency=433.33333333333337, sub1=component(phase=144.53444988134603, intensity=28.095299069572754), sub2=component(phase=0, intensity=0), errors=array([1.17297241]))\n"
     ]
    },
    {
     "name": "stderr",
     "output_type": "stream",
     "text": [
      "/usr/lib/python3/dist-packages/ipykernel_launcher.py:3: DeprecationWarning: elementwise comparison failed; this will raise an error in the future.\n",
      "  This is separate from the ipykernel package so we can avoid doing imports until\n"
     ]
    },
    {
     "data": {
      "image/png": "[encoded data removed]",
      "text/plain": [
       "<matplotlib.figure.Figure at 0x7ff1c36c5f98>"
      ]
     },
     "metadata": {},
     "output_type": "display_data"
    }
   ],
   "source": [
    "#If there is a fit, finds peaks where derivative is equal to zero, and then takes the highest peak\n",
    "#Also classifys it as subpulse 1 or 2 depending on location\n",
    "if fit!=[]:\n",
    "    pulse_subp = gauss_peaksn(fit, no_freq_bands, freqband, cov, params, 300, 500)\n",
    "    plot_peaks(x,y, pulse_subp)\n",
    "    print(pulse_subp)"
   ]
  },
  {
   "cell_type": "code",
   "execution_count": null,
   "metadata": {},
   "outputs": [],
   "source": []
  },
  {
   "cell_type": "markdown",
   "metadata": {
    "colab_type": "text",
    "id": "er13GCy-EUTz"
   },
   "source": [
    "# INDIVIDUAL PULSE"
   ]
  },
  {
   "cell_type": "markdown",
   "metadata": {},
   "source": [
    "## Gaussian Fitting "
   ]
  },
  {
   "cell_type": "markdown",
   "metadata": {
    "colab_type": "text",
    "id": "dUDXQCiVhOyH"
   },
   "source": [
    "The following is a looped version of the previous section to find the correct peaks for each frequency profile"
   ]
  },
  {
   "cell_type": "code",
   "execution_count": 30,
   "metadata": {
    "colab": {},
    "colab_type": "code",
    "id": "vJ4G8wv8tQOe"
   },
   "outputs": [],
   "source": [
    "fit_spulse = []"
   ]
  },
  {
   "cell_type": "code",
   "execution_count": 31,
   "metadata": {},
   "outputs": [
    {
     "name": "stderr",
     "output_type": "stream",
     "text": [
      "/home/lisasmith/.local/lib/python3.6/site-packages/numpy/lib/nanfunctions.py:1667: RuntimeWarning: Degrees of freedom <= 0 for slice.\n",
      "  keepdims=keepdims)\n",
      "/home/lisasmith/.local/lib/python3.6/site-packages/numpy/lib/nanfunctions.py:1113: RuntimeWarning: Mean of empty slice\n",
      "  return np.nanmean(a, axis, out=out, keepdims=keepdims)\n",
      "/usr/lib/python3/dist-packages/ipykernel_launcher.py:16: DeprecationWarning: elementwise comparison failed; this will raise an error in the future.\n",
      "  app.launch_new_instance()\n"
     ]
    }
   ],
   "source": [
    "for i in range(no_freq_bands):\n",
    "    \n",
    "    freqband = i\n",
    "  \n",
    "    f = single_pulse['frequency'] == freqband\n",
    "\n",
    "    x=single_pulse['phase'][f]\n",
    "    y=single_pulse['intensity'][f]\n",
    "    \n",
    "    noise = sigmaClip(y)\n",
    "    error = np.nanstd(noise[1])\n",
    "    \n",
    "    if len(y)!=0:\n",
    "        fit, params, sigma, cov, chir=fitting_gaussians(x,y,error)\n",
    "        \n",
    "    if fit!=[] and len(y)!=0:\n",
    "        pulse_subp = gauss_peaksn(fit, no_freq_bands, freqband, cov, params, 300, 500) \n",
    "        fit_spulse.append(pulse_subp)\n",
    "    "
   ]
  },
  {
   "cell_type": "markdown",
   "metadata": {
    "colab_type": "text",
    "id": "6a03g77-gZa5"
   },
   "source": [
    "## Change of Peak Position over Frequency"
   ]
  },
  {
   "cell_type": "markdown",
   "metadata": {
    "colab_type": "text",
    "id": "KszZ-DmF3pTJ"
   },
   "source": [
    "Starting to graph out all the movement of sub-pulse phase across frequency\n",
    "\n",
    "---\n",
    "\n"
   ]
  },
  {
   "cell_type": "code",
   "execution_count": 32,
   "metadata": {},
   "outputs": [],
   "source": [
    "#Separate the data into the correct arrays for graphing\n",
    "try:\n",
    "    phase_comp1, frequency_comp1, comp1_err=graphing_spulse(fit_spulse,1)\n",
    "    sp1 = \"PENDING\"\n",
    "except:\n",
    "    print(\"Bad Data Set Comp1\")\n",
    "    sp1 = \"ERROR\""
   ]
  },
  {
   "cell_type": "code",
   "execution_count": 33,
   "metadata": {},
   "outputs": [],
   "source": [
    "if sp1!=\"ERROR\":\n",
    "    if len(phase_comp1)<3:\n",
    "        sp1 = \"ERROR\""
   ]
  },
  {
   "cell_type": "code",
   "execution_count": 34,
   "metadata": {},
   "outputs": [
    {
     "data": {
      "image/png": "[encoded data removed]",
      "text/plain": [
       "<matplotlib.figure.Figure at 0x7ff1c35dc128>"
      ]
     },
     "metadata": {},
     "output_type": "display_data"
    }
   ],
   "source": [
    "if sp1!=\"ERROR\":\n",
    "    py.errorbar(phase_comp1,frequency_comp1, xerr=comp1_err, fmt='.', lw=1, label='data')\n",
    "    py.title('Component 1')\n",
    "    py.xlabel('Phase (deg)')\n",
    "    py.ylabel('Frequency')"
   ]
  },
  {
   "cell_type": "code",
   "execution_count": 35,
   "metadata": {},
   "outputs": [],
   "source": [
    "#Remove outliers\n",
    "if sp1!=\"ERROR\":\n",
    "    frequency_comp1, phase_comp1, comp1_err = detect_outlier(frequency_comp1, phase_comp1, comp1_err)\n",
    "if sp1!=\"ERROR\":\n",
    "    if len(phase_comp1)<3:\n",
    "        sp1 = \"ERROR\""
   ]
  },
  {
   "cell_type": "code",
   "execution_count": 36,
   "metadata": {},
   "outputs": [
    {
     "data": {
      "image/png": "[encoded data removed]",
      "text/plain": [
       "<matplotlib.figure.Figure at 0x7ff1c35dcef0>"
      ]
     },
     "metadata": {},
     "output_type": "display_data"
    }
   ],
   "source": [
    "if sp1!=\"ERROR\":\n",
    "    py.errorbar(phase_comp1,frequency_comp1, xerr=comp1_err, fmt='.', lw=1, label='data')\n",
    "    py.title('Sub-Pulse 1 - Outliers Removed')\n",
    "    py.xlabel('Phase (deg)')\n",
    "    py.ylabel('Frequency')"
   ]
  },
  {
   "cell_type": "markdown",
   "metadata": {
    "colab_type": "text",
    "id": "onWmCTwBgzh2"
   },
   "source": [
    "## Fitting Power Laws to Position"
   ]
  },
  {
   "cell_type": "markdown",
   "metadata": {
    "colab_type": "text",
    "id": "pRvVTEsj_64Q"
   },
   "source": [
    "### Component 1"
   ]
  },
  {
   "cell_type": "code",
   "execution_count": 37,
   "metadata": {
    "colab": {},
    "colab_type": "code",
    "id": "Eb9tysocAfn3"
   },
   "outputs": [
    {
     "name": "stdout",
     "output_type": "stream",
     "text": [
      "The thorsett equation of fit for this pulse is: \t Phase = 0.000 ν^115.228 + 136.723\n",
      "The errors are inf, inf, inf\n",
      "The chi squared reduced is 87.60939448333534, and the chi squared is 815.484550350018\n",
      "\n",
      "The power law equation of fit for this pulse is: \t Phase = 38.913 ν^0.214\n",
      "The errors are 49.70992255651331, 0.21511350962071676\n",
      "The chi squared reduced is 384.8085594482984, and the chi squared is 3481.2770350346855\n",
      "\n",
      "The linear equation of fit for this pulse is: \t\t Phase = -0.007 ν + 173.524 \n",
      "The errors are 0.25469100266179395, 100.75240335524305\n",
      "The chi squared reduced is 3923.0801526258324, and the chi squared is 35325.72137363249\n"
     ]
    },
    {
     "name": "stderr",
     "output_type": "stream",
     "text": [
      "/usr/lib/python3/dist-packages/ipykernel_launcher.py:2: RuntimeWarning: overflow encountered in power\n",
      "  \n",
      "/home/lisasmith/.local/lib/python3.6/site-packages/scipy/optimize/minpack.py:795: OptimizeWarning: Covariance of the parameters could not be estimated\n",
      "  category=OptimizeWarning)\n"
     ]
    },
    {
     "data": {
      "image/png": "[encoded data removed]",
      "text/plain": [
       "<matplotlib.figure.Figure at 0x7ff1c3535978>"
      ]
     },
     "metadata": {},
     "output_type": "display_data"
    }
   ],
   "source": [
    "#Same as the three fits function but with graphing included\n",
    "if sp1!=\"ERROR\":\n",
    "    py.errorbar(frequency_comp1,phase_comp1, yerr=comp1_err, fmt='.', lw=1, label='data')\n",
    "\n",
    "    try:\n",
    "        thorsett_params1,thorsett_cov1=curve_fit(thorsett,frequency_comp1,phase_comp1, maxfev=100000, sigma=comp1_err)\n",
    "        thorsett_fit_error1=np.sqrt(np.diag(thorsett_cov1))\n",
    "        thorsett1 = thorsett(frequency_comp1, *thorsett_params1)\n",
    "        \n",
    "        py.plot(frequency_comp1,thorsett1, color='red',lw=2,label='thorsett')\n",
    "        \n",
    "        ch=chsq_err(phase_comp1,thorsett1, comp1_err)\n",
    "        chre=ch/len(phase_comp1)-3\n",
    "        print(f'The thorsett equation of fit for this pulse is: \\t Phase = {thorsett_params1[0]:.3f} \\u03BD^{thorsett_params1[1]:.3f} + {thorsett_params1[2]:.3f}')\n",
    "        print(f'The errors are {thorsett_fit_error1[0]}, {thorsett_fit_error1[1]}, {thorsett_fit_error1[2]}')\n",
    "        print(f'The chi squared reduced is {chre}, and the chi squared is {ch}\\n')\n",
    "    except:\n",
    "        print('No thorsett for component 1')\n",
    "\n",
    "    try:\n",
    "        pl_params1,pl_cov1=curve_fit(powerlaw,frequency_comp1,phase_comp1, maxfev=100000, sigma=comp1_err)\n",
    "        pl_fit_error1=np.sqrt(np.diag(pl_cov1))\n",
    "        powerlaw1 = powerlaw(frequency_comp1, *pl_params1)\n",
    "\n",
    "        py.plot(frequency_comp1,powerlaw1, color='orange',lw=2,label='powerlaw')\n",
    "        \n",
    "        ch=chsq_err(phase_comp1,powerlaw1, comp1_err)\n",
    "        chre=ch/len(phase_comp1)-2\n",
    "        print(f'The power law equation of fit for this pulse is: \\t Phase = {pl_params1[0]:.3f} \\u03BD^{pl_params1[1]:.3f}')\n",
    "        print(f'The errors are {pl_fit_error1[0]}, {pl_fit_error1[1]}')\n",
    "        print(f'The chi squared reduced is {chre}, and the chi squared is {ch}\\n')\n",
    "    except:\n",
    "        print('No power law for component 1')\n",
    "\n",
    "    try:\n",
    "        lin_params1,lin_cov1=curve_fit(linear,frequency_comp1,phase_comp1)\n",
    "        lin_fit_error1=np.sqrt(np.diag(lin_cov1))\n",
    "        linear1 = linear(np.array(frequency_comp1), *lin_params1)\n",
    "        \n",
    "        py.plot(frequency_comp1,linear1, color='green',lw=2,label='linear')\n",
    "        \n",
    "        \n",
    "        ch=chsq_err(phase_comp1,linear1, comp1_err)\n",
    "        chre=ch/len(phase_comp1)-2\n",
    "        print(f'The linear equation of fit for this pulse is: \\t\\t Phase = {lin_params1[0]:.3f} \\u03BD + {lin_params1[1]:.3f} ')\n",
    "        print(f'The errors are {lin_fit_error1[0]}, {lin_fit_error1[1]}')\n",
    "        print(f'The chi squared reduced is {chre}, and the chi squared is {ch}')\n",
    "    except:\n",
    "        print('No linear for component 1')    \n",
    "\n",
    "\n",
    "    py.title('Sub-Pulse 1 Position')\n",
    "    py.xlabel('Frequency')\n",
    "    py.ylabel('Phase (deg)')\n",
    "    py.legend(loc='lower right')\n",
    "    "
   ]
  },
  {
   "cell_type": "code",
   "execution_count": 38,
   "metadata": {},
   "outputs": [
    {
     "name": "stderr",
     "output_type": "stream",
     "text": [
      "/usr/lib/python3/dist-packages/ipykernel_launcher.py:2: RuntimeWarning: overflow encountered in power\n",
      "  \n",
      "/home/lisasmith/.local/lib/python3.6/site-packages/scipy/optimize/minpack.py:795: OptimizeWarning: Covariance of the parameters could not be estimated\n",
      "  category=OptimizeWarning)\n"
     ]
    }
   ],
   "source": [
    "if sp1!=\"ERROR\":\n",
    "    comp1_fit=three_fits(frequency_comp1, phase_comp1, comp1_err)"
   ]
  },
  {
   "cell_type": "markdown",
   "metadata": {},
   "source": [
    "# ALL PULSES"
   ]
  },
  {
   "cell_type": "code",
   "execution_count": 39,
   "metadata": {},
   "outputs": [],
   "source": [
    "def find_fits(fit_spulse):\n",
    "    sp1 = \"PENDING\"\n",
    "    \n",
    "    #Find the movement of pulse across frequency for comp1\n",
    "    try:\n",
    "        phase_comp1, frequency_comp1, comp1_err=graphing_spulse(fit_spulse,1)\n",
    "    except:\n",
    "        print(\"Bad Data Set Comp1\")\n",
    "        sp1 = \"ERROR\"\n",
    "        phase_comp1=[0]\n",
    "\n",
    "    if sp1!=\"ERROR\":\n",
    "        frequency_comp1, phase_comp1, comp1_err = detect_outlier(frequency_comp1, phase_comp1, comp1_err)\n",
    "        if len(phase_comp1)<4:\n",
    "            sp1 = \"ERROR\"\n",
    "            phase_comp1=[0]\n",
    "    \n",
    "    \n",
    "    #Fit thorsett, powerlaw and linear equations to the data for comp with most points\n",
    "    if sp1!=\"ERROR\":\n",
    "        comp1_fit=three_fits(frequency_comp1, phase_comp1, comp1_err)\n",
    "    else:\n",
    "        comp1_fit=0\n",
    "\n",
    "    return comp1_fit \n"
   ]
  },
  {
   "cell_type": "code",
   "execution_count": 40,
   "metadata": {},
   "outputs": [],
   "source": [
    "import glob \n",
    "pulse_names = glob.glob(\"/home/lisasmith/sspulsar/archivefiles/s_archivefiles/f256/full_pdv/pulse*\")\n",
    "#pulse_names = glob.glob(\"/home/lisasmith/sspulsar/archivefiles/s_archivefiles/f256_new/pulse*\")"
   ]
  },
  {
   "cell_type": "code",
   "execution_count": 41,
   "metadata": {},
   "outputs": [
    {
     "name": "stdout",
     "output_type": "stream",
     "text": [
      "9661\n",
      "/home/lisasmith/sspulsar/archivefiles/s_archivefiles/f256/full_pdv/pulse_1503960507.pazi.pdv\n"
     ]
    }
   ],
   "source": [
    "print(len(pulse_names))\n",
    "pulse_names=sorted(pulse_names)\n",
    "print(pulse_names[0])"
   ]
  },
  {
   "cell_type": "code",
   "execution_count": 42,
   "metadata": {},
   "outputs": [],
   "source": [
    "fulldatatype=([('pulse','i8'),('frequency','i8'),('phase','i8'),('intensity','f8')])"
   ]
  },
  {
   "cell_type": "code",
   "execution_count": 43,
   "metadata": {},
   "outputs": [],
   "source": [
    "def average(num_list):\n",
    "    sum_num=0\n",
    "    for n in num_list:\n",
    "        sum_num=sum_num+n\n",
    "    avg=sum_num/len(num_list)\n",
    "    return avg\n",
    "\n",
    "def average_plfits(comp_params):\n",
    "    param1=[]\n",
    "    param2=[]\n",
    "    for i, fit in enumerate(comp_params):\n",
    "        param1.append(fit[0][0])\n",
    "        param2.append(fit[0][1])\n",
    "\n",
    "    av_param1=average(param1)\n",
    "    av_param2=average(param2)\n",
    "    return av_param1, av_param2\n",
    "\n",
    "def create_pl_fit(lower,upper,param1,param2):\n",
    "    x=list(range(lower,upper))\n",
    "    y=[]\n",
    "    for freq in x:\n",
    "        y.append(param1 * (freq**(param2)))\n",
    "    return x,y\n",
    "    "
   ]
  },
  {
   "cell_type": "code",
   "execution_count": 156,
   "metadata": {},
   "outputs": [
    {
     "name": "stdout",
     "output_type": "stream",
     "text": [
      "0 1503960507\n"
     ]
    },
    {
     "name": "stderr",
     "output_type": "stream",
     "text": [
      "/home/lisasmith/.local/lib/python3.6/site-packages/numpy/lib/nanfunctions.py:1667: RuntimeWarning: Degrees of freedom <= 0 for slice.\n",
      "  keepdims=keepdims)\n",
      "/home/lisasmith/.local/lib/python3.6/site-packages/numpy/lib/nanfunctions.py:1113: RuntimeWarning: Mean of empty slice\n",
      "  return np.nanmean(a, axis, out=out, keepdims=keepdims)\n",
      "/usr/lib/python3/dist-packages/ipykernel_launcher.py:37: DeprecationWarning: elementwise comparison failed; this will raise an error in the future.\n"
     ]
    },
    {
     "name": "stdout",
     "output_type": "stream",
     "text": [
      "1 1503960508\n",
      "134.59725468821273 0.07227624624301016\n",
      "2 1503960509\n",
      "3 1503960510\n",
      "4 1503960511\n",
      "5 1503960512\n",
      "6 1503960513\n"
     ]
    },
    {
     "name": "stderr",
     "output_type": "stream",
     "text": [
      "/usr/lib/python3/dist-packages/ipykernel_launcher.py:2: RuntimeWarning: overflow encountered in power\n",
      "  \n",
      "/home/lisasmith/.local/lib/python3.6/site-packages/scipy/optimize/minpack.py:795: OptimizeWarning: Covariance of the parameters could not be estimated\n",
      "  category=OptimizeWarning)\n"
     ]
    },
    {
     "name": "stdout",
     "output_type": "stream",
     "text": [
      "7 1503960514\n"
     ]
    },
    {
     "name": "stderr",
     "output_type": "stream",
     "text": [
      "/usr/lib/python3/dist-packages/ipykernel_launcher.py:32: RuntimeWarning: invalid value encountered in double_scalars\n"
     ]
    },
    {
     "name": "stdout",
     "output_type": "stream",
     "text": [
      "8 1503960515\n",
      "71.76126023613106 0.10641031612189754\n",
      "9 1503960516\n"
     ]
    },
    {
     "name": "stderr",
     "output_type": "stream",
     "text": [
      "/usr/lib/python3/dist-packages/ipykernel_launcher.py:11: RuntimeWarning: invalid value encountered in sqrt\n",
      "  # This is added back by InteractiveShellApp.init_path()\n"
     ]
    },
    {
     "name": "stdout",
     "output_type": "stream",
     "text": [
      "10 1503960517\n",
      "96.24334019181573 0.14279436920906077\n",
      "11 1503960518\n",
      "222.4178064669772 0.0017935509016752237\n",
      "12 1503960519\n",
      "13 1503960520\n",
      "247.79891320252085 -0.017291514244862367\n",
      "14 1503960521\n",
      "15 1503960522\n",
      "16 1503960523\n",
      "186.36269831124406 0.029957224129918195\n",
      "17 1503960524\n",
      "266.8215363317628 -0.0427320523381792\n",
      "18 1503960525\n",
      "19 1503960526\n",
      "20 1503960527\n",
      "21 1503960528\n",
      "67.29143928008985 0.12744217988773238\n",
      "22 1503960529\n",
      "95.85321480982769 0.062457122157736245\n",
      "23 1503960530\n",
      "107.62995657307043 0.055091757493491995\n",
      "24 1503960531\n",
      "25 1503960532\n",
      "138.84033650821283 0.014096626378001315\n",
      "26 1503960533\n",
      "27 1503960534\n",
      "28 1503960535\n",
      "29 1503960536\n",
      "30 1503960537\n",
      "189.08258227641537 0.027383568193219267\n",
      "31 1503960538\n",
      "32 1503960539\n",
      "33 1503960540\n",
      "210.11273461403587 0.01323470079942041\n",
      "34 1503960541\n",
      "35 1503960542\n",
      "36 1503960543\n",
      "37 1503960544\n",
      "38 1503960545\n",
      "39 1503960546\n",
      "No thorsett for component\n",
      "40 1503960547\n",
      "41 1503960548\n",
      "42 1503960549\n",
      "43 1503960550\n",
      "44 1503960551\n",
      "45 1503960552\n",
      "111.320630922521 0.04361704828206729\n",
      "46 1503960553\n",
      "47 1503960554\n",
      "48 1503960555\n",
      "49 1503960556\n",
      "50 1503960557\n",
      "214.88694736154784 0.0077490833425426404\n",
      "51 1503960558\n",
      "220.88040500558236 0.0038602980601134197\n",
      "52 1503960559\n",
      "212.41864759849796 0.008680365449351721\n",
      "53 1503960560\n",
      "54 1503960561\n",
      "55 1503960562\n",
      "56 1503960563\n",
      "57 1503960564\n",
      "58 1503960565\n",
      "59 1503960566\n",
      "102.48311657765252 0.06030518692864591\n",
      "60 1503960567\n",
      "104.16288752082426 0.049048955759047434\n",
      "61 1503960568\n",
      "62 1503960569\n",
      "63 1503960570\n",
      "64 1503960571\n",
      "65 1503960572\n",
      "66 1503960573\n",
      "67 1503960574\n",
      "68 1503960575\n",
      "69 1503960576\n",
      "70 1503960577\n",
      "91.87151843922202 0.14419189533398186\n",
      "71 1503960578\n",
      "134.13781022756376 0.0817223214389245\n",
      "72 1503960579\n",
      "73 1503960580\n",
      "74 1503960581\n",
      "75 1503960582\n",
      "212.69639592610272 0.010815098652388666\n",
      "76 1503960583\n",
      "77 1503960584\n",
      "224.26092116325475 -0.00020587631878486024\n",
      "78 1503960585\n",
      "214.13811800712512 0.006855649396041556\n",
      "79 1503960586\n",
      "177.46997892082817 0.03474124670343379\n",
      "80 1503960587\n",
      "81 1503960588\n",
      "100.9881759681571 0.059644732153785227\n",
      "82 1503960589\n",
      "83 1503960590\n",
      "72.92024527901953 0.1118141760604672\n",
      "84 1503960591\n",
      "78.15540549425306 0.09601433257185721\n",
      "85 1503960592\n",
      "86 1503960593\n",
      "87 1503960594\n",
      "88 1503960595\n",
      "89 1503960596\n",
      "90 1503960597\n",
      "91 1503960598\n",
      "92 1503960599\n",
      "93 1503960600\n",
      "94 1503960601\n",
      "95 1503960602\n",
      "96 1503960603\n",
      "116.1679162163026 0.11001794811228888\n",
      "97 1503960604\n",
      "183.33457390772506 0.031187667589155758\n",
      "98 1503960605\n",
      "99 1503960606\n",
      "100 1503960607\n",
      "207.47732080354527 0.011876904029699263\n",
      "101 1503960608\n",
      "102 1503960609\n",
      "103 1503960610\n",
      "104 1503960611\n",
      "81.37388053914127 0.09208317127977289\n",
      "105 1503960612\n",
      "106 1503960613\n",
      "107 1503960614\n",
      "108 1503960615\n",
      "109 1503960616\n",
      "110 1503960617\n",
      "111 1503960618\n",
      "112 1503960619\n",
      "113 1503960620\n",
      "381.8395538827074 -0.09981132690828727\n",
      "114 1503960621\n",
      "115 1503960622\n",
      "219.76378223745542 0.0011067276001042222\n",
      "116 1503960623\n",
      "117 1503960624\n",
      "118 1503960625\n",
      "119 1503960626\n",
      "120 1503960627\n",
      "121 1503960628\n",
      "122 1503960629\n",
      "123 1503960630\n",
      "124 1503960631\n",
      "125 1503960632\n",
      "126 1503960633\n",
      "127 1503960634\n",
      "84.26591839640443 0.08403969756541678\n",
      "128 1503960635\n",
      "129 1503960636\n",
      "130 1503960637\n",
      "131.86351623284418 0.02387395394586142\n",
      "131 1503960638\n",
      "132 1503960639\n",
      "133 1503960640\n",
      "134 1503960641\n",
      "135 1503960642\n",
      "57.118230216213135 0.22457707658715573\n",
      "136 1503960643\n",
      "137 1503960644\n",
      "138 1503960645\n",
      "220.88212368403467 0.001577919468625559\n",
      "139 1503960646\n",
      "140 1503960647\n",
      "141 1503960648\n",
      "142 1503960649\n",
      "143 1503960650\n",
      "82.10126096620424 0.09707390338360405\n",
      "144 1503960651\n",
      "145 1503960652\n",
      "146 1503960653\n",
      "147 1503960654\n",
      "148 1503960655\n",
      "149 1503960656\n",
      "150 1503960657\n",
      "77.98776195526347 0.0967578752418137\n",
      "151 1503960658\n",
      "152 1503960659\n",
      "153 1503960660\n",
      "154 1503960661\n",
      "231.903086654645 -0.011032549908075463\n",
      "155 1503960662\n",
      "156 1503960663\n",
      "200.37308619194752 0.020148690223675728\n",
      "157 1503960664\n",
      "141.18041050491098 0.08094820731320439\n",
      "158 1503960665\n",
      "159 1503960666\n",
      "160 1503960667\n",
      "161 1503960668\n",
      "162 1503960669\n",
      "163 1503960670\n",
      "164 1503960671\n",
      "165 1503960672\n",
      "92.80654933707432 0.06032714361459719\n",
      "166 1503960673\n",
      "167 1503960674\n",
      "168 1503960675\n",
      "169 1503960676\n",
      "170 1503960677\n",
      "171 1503960678\n",
      "172 1503960679\n",
      "173 1503960680\n",
      "224.95539566640855 0.007431388866762618\n",
      "174 1503960681\n",
      "175 1503960682\n",
      "176 1503960683\n",
      "177 1503960684\n",
      "178 1503960685\n",
      "179 1503960686\n",
      "180 1503960687\n",
      "400.1997565898421 -0.11424028866933765\n",
      "181 1503960688\n",
      "182 1503960689\n",
      "100.51136598807234 0.06545261753646674\n",
      "183 1503960690\n",
      "184 1503960691\n",
      "185 1503960692\n",
      "82.3458084805756 0.09205350067502856\n",
      "186 1503960693\n"
     ]
    },
    {
     "name": "stderr",
     "output_type": "stream",
     "text": [
      "/usr/lib/python3/dist-packages/ipykernel_launcher.py:17: RuntimeWarning: invalid value encountered in double_scalars\n"
     ]
    },
    {
     "name": "stdout",
     "output_type": "stream",
     "text": [
      "187 1503960694\n",
      "188 1503960695\n",
      "189 1503960696\n",
      "190 1503960697\n",
      "191 1503960698\n",
      "192 1503960699\n",
      "193 1503960700\n",
      "194 1503960701\n",
      "195 1503960702\n",
      "196 1503960703\n",
      "197 1503960704\n",
      "198 1503960705\n",
      "199 1503960706\n",
      "200 1503960707\n",
      "201 1503960708\n",
      "202 1503960709\n",
      "203 1503960710\n",
      "204 1503960711\n",
      "205 1503960712\n",
      "206 1503960713\n",
      "207 1503960714\n",
      "208 1503960715\n",
      "209 1503960716\n",
      "210 1503960717\n",
      "211 1503960718\n",
      "212 1503960719\n",
      "213 1503960720\n",
      "214 1503960721\n",
      "215 1503960722\n",
      "216 1503960723\n",
      "217 1503960724\n",
      "218 1503960725\n",
      "219 1503960726\n",
      "220 1503960727\n",
      "221 1503960728\n",
      "222 1503960729\n",
      "223 1503960730\n",
      "224 1503960731\n",
      "225 1503960732\n",
      "226 1503960733\n",
      "227 1503960734\n",
      "228 1503960735\n",
      "229 1503960736\n",
      "194.59626797130326 0.025109435797066457\n",
      "230 1503960737\n",
      "219.77743635258125 0.003412826251970338\n",
      "231 1503960738\n",
      "200.45622432721368 0.016292241886542685\n",
      "232 1503960739\n",
      "205.57624377776747 0.013815645850851294\n",
      "233 1503960740\n",
      "224.08522054470345 -0.004461003221957671\n",
      "234 1503960741\n",
      "235 1503960742\n",
      "236 1503960743\n",
      "237 1503960744\n",
      "238 1503960745\n",
      "239 1503960746\n",
      "240 1503960747\n",
      "241 1503960748\n",
      "242 1503960749\n",
      "243 1503960750\n",
      "244 1503960751\n",
      "245 1503960752\n",
      "246 1503960753\n",
      "247 1503960754\n",
      "248 1503960755\n",
      "249 1503960756\n",
      "250 1503960757\n",
      "60.93987676457137 0.13878329788796584\n",
      "251 1503960758\n",
      "252 1503960759\n",
      "253 1503960760\n",
      "254 1503960761\n",
      "255 1503960762\n",
      "256 1503960763\n",
      "257 1503960764\n",
      "71.22244036975194 0.12249778855897393\n",
      "258 1503960765\n",
      "259 1503960766\n",
      "77.02286252729417 0.10336449842154556\n",
      "260 1503960767\n",
      "80.23168636976006 0.09332768140958123\n",
      "261 1503960768\n",
      "262 1503960769\n",
      "263 1503960770\n",
      "212.11319171813778 0.012981416233507985\n",
      "264 1503960771\n",
      "265 1503960772\n",
      "266 1503960773\n",
      "212.79493888452893 0.012980859598082506\n",
      "267 1503960774\n",
      "268 1503960775\n",
      "269 1503960776\n",
      "270 1503960777\n",
      "271 1503960778\n",
      "272 1503960779\n",
      "273 1503960780\n",
      "274 1503960781\n",
      "275 1503960782\n",
      "276 1503960783\n",
      "493.65467648662315 -0.16643107143412716\n",
      "277 1503960784\n",
      "214.706539192882 0.019082235538590873\n",
      "278 1503960785\n",
      "279 1503960786\n",
      "280 1503960787\n",
      "281 1503960788\n",
      "282 1503960789\n",
      "283 1503960790\n",
      "284 1503960791\n",
      "285 1503960792\n",
      "102.43074567751242 0.09862355145436498\n",
      "286 1503960793\n",
      "258.5182344597267 -0.07188848732894117\n",
      "287 1503960794\n",
      "67.73435421830685 0.11362070985516384\n",
      "288 1503960795\n",
      "69.77876085228516 0.1073862733192253\n",
      "289 1503960796\n",
      "83.21135207011861 0.0732053599512876\n",
      "290 1503960797\n",
      "76.19471006128181 0.08957371266697202\n",
      "291 1503960798\n",
      "192.70227718820883 0.023723642043717973\n",
      "292 1503960799\n",
      "159.1366825504987 0.04922298470274168\n",
      "293 1503960800\n",
      "No thorsett for component\n",
      "294 1503960801\n",
      "295 1503960802\n",
      "296 1503960803\n",
      "297 1503960804\n",
      "298 1503960805\n",
      "299 1503960806\n"
     ]
    },
    {
     "data": {
      "text/plain": [
       "[<matplotlib.lines.Line2D at 0x7ff1bd3c9c50>]"
      ]
     },
     "execution_count": 156,
     "metadata": {},
     "output_type": "execute_result"
    },
    {
     "data": {
      "image/png": "[encoded data removed]",
      "text/plain": [
       "<matplotlib.figure.Figure at 0x7ff1bef81198>"
      ]
     },
     "metadata": {},
     "output_type": "display_data"
    }
   ],
   "source": [
    "sp_params=[]\n",
    "sp_cov=[]\n",
    "sp_ave=[]\n",
    "sp_f=list(range(300, 501, 5))\n",
    "for fq in sp_f:\n",
    "    sp_ave.append(pl_av(frequency=fq,phase=[]))\n",
    "#Graph what the average components are doing\n",
    "ax1,ay1=create_pl_fit(300,500,74.480,0.147)\n",
    "py.plot((np.array(ay1)-36),ax1,lw=4,color='black', zorder=100000)   \n",
    "ax2,ay2=create_pl_fit(300,500,267.242,-0.004)\n",
    "py.plot((np.array(ay2)-36),ax2,lw=4,color='black', zorder=100000)    \n",
    "#py.axis([100,275,300,500])\n",
    "\n",
    "for a in range(9661):\n",
    "    #Load in a pulse at a time\n",
    "    print(a,pulse_names[a][-19:-9])\n",
    "    single_pulse = np.loadtxt(fname=pulse_names[a], dtype=fulldatatype)\n",
    "    no_freq_bands = max(single_pulse['frequency'])+1\n",
    "\n",
    "    fit_spulse = []\n",
    "\n",
    "    #Look at one frequency at a time\n",
    "    for b in range(no_freq_bands):\n",
    "        freqband = b\n",
    "        f = single_pulse['frequency'] == freqband\n",
    "\n",
    "        x=single_pulse['phase'][f]\n",
    "        y=single_pulse['intensity'][f]\n",
    "\n",
    "        noise = sigmaClip(y)\n",
    "        error = np.nanstd(noise[1])\n",
    "\n",
    "        if len(y)!=0:\n",
    "            fit, params, sigma, cov, chir=fitting_gaussians(x,y,error)\n",
    "    \n",
    "        #Find the peaks at each frequency and add to an array\n",
    "        if fit!=[] and len(y)!=0:\n",
    "            pulse_subp = gauss_peaksn(fit, no_freq_bands, freqband, cov, params, 300, 500)\n",
    "            fit_spulse.append(pulse_subp)\n",
    "\n",
    "    #Find the movement of pulse across frequency and fit equations to them\n",
    "    comp1_fit = find_fits(fit_spulse)\n",
    "\n",
    "    #For all pulses with a comp1 fit, graph the powerlaw equation\n",
    "    if comp1_fit!=0 and comp1_fit[1]!=0 and comp1_fit[2][0][0]>0 and comp1_fit[1][0][1]<2 and comp1_fit[1][0][0]<700 and comp1_fit[1][0][0]>50:\n",
    "        x1,y1=create_pl_fit(300,500,comp1_fit[1][0][0],comp1_fit[1][0][1])\n",
    "        py.plot(y1,x1, lw=0.7)\n",
    "        sp_params.extend(comp1_fit[1][0])\n",
    "        sp_cov.append(comp1_fit[1][2])\n",
    "        for i,fq in enumerate(sp_f):\n",
    "            sp_ave[i][1].append(powerlaw(fq,comp1_fit[1][0][0],comp1_fit[1][0][1]))\n",
    "        print(comp1_fit[1][0][0],comp1_fit[1][0][1])\n",
    "\n",
    "#Create points which are the average of all the points at a given frequency\n",
    "sp_pl=[]\n",
    "\n",
    "#Put into arrays for graphing\n",
    "for fq in sp_ave:\n",
    "    sp_pl.append(average(fq[1]))\n",
    "\n",
    "py.plot(sp_p1,sp_f,lw=4,color='red', zorder=50000)   "
   ]
  },
  {
   "cell_type": "code",
   "execution_count": 157,
   "metadata": {},
   "outputs": [
    {
     "data": {
      "text/plain": [
       "[<matplotlib.lines.Line2D at 0x7ff1beed4710>]"
      ]
     },
     "execution_count": 157,
     "metadata": {},
     "output_type": "execute_result"
    },
    {
     "data": {
      "image/png": "[encoded data removed]",
      "text/plain": [
       "<matplotlib.figure.Figure at 0x7ff1beed4eb8>"
      ]
     },
     "metadata": {},
     "output_type": "display_data"
    }
   ],
   "source": [
    "averages=[[] for i in range(20)]\n",
    "errors=[[] for i in range(20)]\n",
    "for i,n in enumerate(range(100,300,10)):\n",
    "    ave_vals=[]\n",
    "    cov_vals=[]\n",
    "    param_vals=[]\n",
    "    indices=np.where(np.logical_and(np.array(sp_ave[0][1])>=n, np.array(sp_ave[0][1])<(n+10)))\n",
    "    if len(indices[0])!=0:\n",
    "        for j in indices[0]:\n",
    "            cov_vals.append(sp_cov[j])\n",
    "            param_vals.append(sp_params[j*2])\n",
    "            param_vals.append(sp_params[(j*2)+1])\n",
    "\n",
    "        for fq in range(len(sp_ave)):\n",
    "            ave_vals=[sp_ave[fq][1][m] for m in np.array(indices[0])]\n",
    "            averages[i].append(average(ave_vals))\n",
    "        errors[i]=find_y_err_pl(sp_f, param_vals, cov_vals)\n",
    "        py.errorbar(averages[i],sp_f,xerr=errors[i],fmt='.')\n",
    "\n",
    "ax1,ay1=create_pl_fit(300,500,74.480,0.147)\n",
    "py.plot((np.array(ay1)-36),ax1,lw=2,color='black', zorder=100000)   \n",
    "ax2,ay2=create_pl_fit(300,500,267.242,-0.004)\n",
    "py.plot((np.array(ay2)-36),ax2,lw=2,color='black', zorder=100000)    \n"
   ]
  },
  {
   "cell_type": "code",
   "execution_count": null,
   "metadata": {},
   "outputs": [],
   "source": []
  }
 ],
 "metadata": {
  "colab": {
   "collapsed_sections": [
    "4z_feS2dDwlJ",
    "FamzMgIcD2xs",
    "HsEW4YA0D-QH",
    "eKWvXxMcEIfE",
    "er13GCy-EUTz",
    "6a03g77-gZa5",
    "IGeyAoMhEduw",
    "Y1RZQ9SHcgOZ",
    "pccDpOhFgn-A",
    "KZFBrw4AEiXX",
    "jBHxooGJctvn",
    "S8Wdb29Jkmx7",
    "G6J_t2-wlTKi",
    "8WslQQJrq_Aj",
    "-PbPFKZBj1oi",
    "BAAAMssWpRQc"
   ],
   "name": "Component Separation - RFI Removed.ipynb",
   "provenance": []
  },
  "kernelspec": {
   "display_name": "Python 3",
   "language": "python",
   "name": "python3"
  },
  "language_info": {
   "codemirror_mode": {
    "name": "ipython",
    "version": 3
   },
   "file_extension": ".py",
   "mimetype": "text/x-python",
   "name": "python",
   "nbconvert_exporter": "python",
   "pygments_lexer": "ipython3",
   "version": "3.6.8"
  }
 },
 "nbformat": 4,
 "nbformat_minor": 1
}
