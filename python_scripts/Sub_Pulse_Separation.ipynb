{
 "cells": [
  {
   "cell_type": "markdown",
   "metadata": {
    "colab_type": "text",
    "id": "4z_feS2dDwlJ"
   },
   "source": [
    "# Importing Packages Needed"
   ]
  },
  {
   "cell_type": "code",
   "execution_count": 1,
   "metadata": {
    "colab": {
     "base_uri": "https://localhost:8080/",
     "height": 52
    },
    "colab_type": "code",
    "id": "GDKDqH67essz",
    "outputId": "c5bf320e-e473-476e-c4dd-3e2cbf4bd8be"
   },
   "outputs": [
    {
     "ename": "ModuleNotFoundError",
     "evalue": "No module named 'google.colab'",
     "output_type": "error",
     "traceback": [
      "\u001b[0;31m---------------------------------------------------------------------------\u001b[0m",
      "\u001b[0;31mModuleNotFoundError\u001b[0m                       Traceback (most recent call last)",
      "\u001b[0;32m<ipython-input-1-f36ad322f8b7>\u001b[0m in \u001b[0;36m<module>\u001b[0;34m()\u001b[0m\n\u001b[0;32m----> 1\u001b[0;31m \u001b[0;32mfrom\u001b[0m \u001b[0mgoogle\u001b[0m\u001b[0;34m.\u001b[0m\u001b[0mcolab\u001b[0m \u001b[0;32mimport\u001b[0m \u001b[0mdrive\u001b[0m\u001b[0;34m\u001b[0m\u001b[0;34m\u001b[0m\u001b[0m\n\u001b[0m\u001b[1;32m      2\u001b[0m \u001b[0mdrive\u001b[0m\u001b[0;34m.\u001b[0m\u001b[0mmount\u001b[0m\u001b[0;34m(\u001b[0m\u001b[0;34m'/content/drive'\u001b[0m\u001b[0;34m)\u001b[0m\u001b[0;34m\u001b[0m\u001b[0;34m\u001b[0m\u001b[0m\n\u001b[1;32m      3\u001b[0m \u001b[0mget_ipython\u001b[0m\u001b[0;34m(\u001b[0m\u001b[0;34m)\u001b[0m\u001b[0;34m.\u001b[0m\u001b[0mmagic\u001b[0m\u001b[0;34m(\u001b[0m\u001b[0;34m'cd /content/drive/My\\\\ Drive'\u001b[0m\u001b[0;34m)\u001b[0m\u001b[0;34m\u001b[0m\u001b[0;34m\u001b[0m\u001b[0m\n",
      "\u001b[0;31mModuleNotFoundError\u001b[0m: No module named 'google.colab'"
     ]
    }
   ],
   "source": [
    "from google.colab import drive\n",
    "drive.mount('/content/drive')\n",
    "%cd /content/drive/My\\ Drive"
   ]
  },
  {
   "cell_type": "code",
   "execution_count": 2,
   "metadata": {
    "colab": {},
    "colab_type": "code",
    "id": "zJLqZxwce0pN"
   },
   "outputs": [],
   "source": [
    "import numpy as np"
   ]
  },
  {
   "cell_type": "code",
   "execution_count": 3,
   "metadata": {
    "colab": {},
    "colab_type": "code",
    "id": "I-sMZfzHe87d"
   },
   "outputs": [],
   "source": [
    "import scipy as sp"
   ]
  },
  {
   "cell_type": "code",
   "execution_count": 4,
   "metadata": {
    "colab": {},
    "colab_type": "code",
    "id": "osUA_fqWfB8I"
   },
   "outputs": [],
   "source": [
    "import matplotlib.pyplot as py"
   ]
  },
  {
   "cell_type": "code",
   "execution_count": 5,
   "metadata": {
    "colab": {},
    "colab_type": "code",
    "id": "EI8CExhqOkaC"
   },
   "outputs": [],
   "source": [
    "from scipy.optimize import curve_fit"
   ]
  },
  {
   "cell_type": "code",
   "execution_count": 7,
   "metadata": {
    "colab": {},
    "colab_type": "code",
    "id": "FTNsckCiZ_s4"
   },
   "outputs": [],
   "source": [
    "from scipy.signal import find_peaks"
   ]
  },
  {
   "cell_type": "code",
   "execution_count": 8,
   "metadata": {
    "colab": {},
    "colab_type": "code",
    "id": "PUtMS_hIaHat"
   },
   "outputs": [],
   "source": [
    "import collections as col"
   ]
  },
  {
   "cell_type": "markdown",
   "metadata": {
    "colab_type": "text",
    "id": "FamzMgIcD2xs"
   },
   "source": [
    "# Definition of Named Tuples"
   ]
  },
  {
   "cell_type": "code",
   "execution_count": 0,
   "metadata": {
    "colab": {},
    "colab_type": "code",
    "id": "Uzxt0sq0qeHc"
   },
   "outputs": [],
   "source": [
    "component = col.namedtuple('component','phase intensity')"
   ]
  },
  {
   "cell_type": "code",
   "execution_count": 0,
   "metadata": {
    "colab": {},
    "colab_type": "code",
    "id": "MdsAp5qWIre5"
   },
   "outputs": [],
   "source": [
    "pulse_component = col.namedtuple('pulse_component','frequency comp1 comp2')"
   ]
  },
  {
   "cell_type": "code",
   "execution_count": 0,
   "metadata": {
    "colab": {},
    "colab_type": "code",
    "id": "xDOdqB5tIrt5"
   },
   "outputs": [],
   "source": [
    "component_separation = col.namedtuple('component_separation','frequency separation')"
   ]
  },
  {
   "cell_type": "markdown",
   "metadata": {
    "colab_type": "text",
    "id": "a8CeXWdQIy8b"
   },
   "source": [
    "# Definition of Functions"
   ]
  },
  {
   "cell_type": "markdown",
   "metadata": {
    "colab_type": "text",
    "id": "nOegi6c8I3gu"
   },
   "source": [
    "Gaussian Fitting Functions:"
   ]
  },
  {
   "cell_type": "code",
   "execution_count": 0,
   "metadata": {
    "colab": {},
    "colab_type": "code",
    "id": "Jf6ae6VTR-iR"
   },
   "outputs": [],
   "source": [
    "def gauss(x,cen,sd,amp):\n",
    "    return amp*np.exp(-(x-cen)**2/2/sd**2)\n",
    "\n",
    "def threegauss(x,cen1,sd1,amp1,cen2,sd2,amp2,cen3,sd3,amp3):\n",
    "    return gauss(x,cen1,sd1,amp1)+gauss(x,cen2,sd2,amp2)+gauss(x,cen3,sd3,amp3)"
   ]
  },
  {
   "cell_type": "code",
   "execution_count": 0,
   "metadata": {
    "colab": {},
    "colab_type": "code",
    "id": "zWylwCBKV8SL"
   },
   "outputs": [],
   "source": [
    "def fitting_parameters(x,y,expected):\n",
    "  params,cov=curve_fit(threegauss,x,y,expected)\n",
    "  sigma=np.sqrt(np.diag(cov))\n",
    "  return params, sigma\n",
    "\n",
    "def gauss_fit(x,params):\n",
    "  return threegauss(x,*params)"
   ]
  },
  {
   "cell_type": "markdown",
   "metadata": {
    "colab_type": "text",
    "id": "Hf__MEBnJEd_"
   },
   "source": [
    "Finding Peak of Fittings Function"
   ]
  },
  {
   "cell_type": "code",
   "execution_count": 0,
   "metadata": {
    "colab": {},
    "colab_type": "code",
    "id": "iIp9ZS-sZYIZ"
   },
   "outputs": [],
   "source": [
    "def gauss_peaks(fit, nofreqband, freqband):\n",
    "  status='starting'\n",
    "  \n",
    "  i=3\n",
    "  peakpos = find_peaks(fit, prominence=i, distance=50, height=i)[0]\n",
    "\n",
    "  while len(peakpos) !=2 and i>=1 and i<5:\n",
    "    if len(peakpos) < 2:\n",
    "      i=i-0.5\n",
    "      peakpos = find_peaks(fit, prominence=i, distance=50, height=1)[0]\n",
    "\n",
    "    elif len(peakpos) > 2:\n",
    "      i=i+0.5\n",
    "      peakpos = find_peaks(fit, prominence=i, distance=50, height=2)[0]\n",
    "    \n",
    "  #Can be used for error checking\n",
    "  #else:\n",
    "    #print('Loop done')\n",
    "    #print(i)\n",
    "\n",
    "  if len(peakpos) == 2:\n",
    "    status='pending'\n",
    "\n",
    "    if peakpos[0]>=300 and peakpos[0]<=535 and peakpos[1]>=650 and peakpos[1]<=800:\n",
    "      status='complete'\n",
    "    else:\n",
    "      status='error'\n",
    "\n",
    "  else:\n",
    "    status='error'\n",
    "\n",
    "\n",
    "  if status=='complete':\n",
    "    component1 = component(phase=(360/1024)*peakpos[0], intensity=fit[peakpos[0]])\n",
    "    component2 = component(phase=(360/1024)*peakpos[1], intensity=fit[peakpos[1]])\n",
    "  \n",
    "  elif status=='error':\n",
    "    component1 = component(phase=0, intensity=0)\n",
    "    component2 = component(phase=0, intensity=0)\n",
    "\n",
    "  else:\n",
    "    print(\"Error: Something not complete in peak finding\")\n",
    "\n",
    "  freq=(((500-300)/nofreqband)*(nofreqband-freqband))+300 \n",
    "\n",
    "  profile_comp = pulse_component(frequency=freq, comp1=component1, comp2=component2)\n",
    "\n",
    "  #Can be used for error checking\n",
    "  #if status != 'error':\n",
    "    #plot_peaks(x,y,profile_comp)\n",
    "\n",
    "  return profile_comp"
   ]
  },
  {
   "cell_type": "markdown",
   "metadata": {
    "colab_type": "text",
    "id": "4P1qFLYpI9hB"
   },
   "source": [
    "Plotting Fittings Functions"
   ]
  },
  {
   "cell_type": "code",
   "execution_count": 0,
   "metadata": {
    "colab": {},
    "colab_type": "code",
    "id": "gPhqw8WaI8pp"
   },
   "outputs": [],
   "source": [
    "def plot_fit(x,y,fit,params,sigma):\n",
    "  py.plot(x, y, lw=0.5, label='data')\n",
    "  py.plot(x,fit, color='red',lw=3,label='gaussian fit')\n",
    "  py.xlabel('Phase Bin')\n",
    "  py.ylabel('Intensity')\n",
    "  py.legend()\n",
    "  return"
   ]
  },
  {
   "cell_type": "code",
   "execution_count": 0,
   "metadata": {
    "colab": {},
    "colab_type": "code",
    "id": "NmHjFzTFith2"
   },
   "outputs": [],
   "source": [
    "def plot_fill(x,y,params):\n",
    "  params1 = params[0:3]\n",
    "  params2 = params[3:6]\n",
    "  params3 = params[6:9]\n",
    "  gfit1 = gauss(x, *params1)\n",
    "  gfit2 = gauss(x, *params2)\n",
    "  gfit3 = gauss(x, *params3)\n",
    "\n",
    "\n",
    "  py.plot(x, y, lw=0.5, label='data')\n",
    "  py.plot(x,fit,color='red',lw=3,label='gaussian fit')\n",
    "  py.xlabel('Phase Bin')\n",
    "  py.ylabel('Intensity')\n",
    "  py.legend()\n",
    "\n",
    "  py.plot(x, gfit1, \"g\")\n",
    "  py.fill_between(x, gfit1.min(), gfit1, facecolor=\"green\", alpha=0.5)\n",
    "  \n",
    "  py.plot(x, gfit2, \"y\")\n",
    "  py.fill_between(x, gfit2.min(), gfit2, facecolor=\"yellow\", alpha=0.5)\n",
    "\n",
    "  py.plot(x, gfit3, \"b\")\n",
    "  py.fill_between(x, gfit3.min(), gfit3, facecolor=\"blue\", alpha=0.5)\n",
    "\n",
    "  return "
   ]
  },
  {
   "cell_type": "code",
   "execution_count": 0,
   "metadata": {
    "colab": {},
    "colab_type": "code",
    "id": "b6Y_oMHJbEEz"
   },
   "outputs": [],
   "source": [
    "def plot_peaks(x,y,profile_comp):\n",
    "  py.plot(x,y, lw=0.5)\n",
    "  py.plot(x, fit, color='red', lw=3, label='gaussian fit')\n",
    "\n",
    "  x=[profile_comp[i][0] for i in range(1,3)]\n",
    "  y=[profile_comp[i][1] for i in range(1,3)]\n",
    "\n",
    "  py.plot(x, y ,'X', markerfacecolor='black', markeredgecolor='black', label='peaks')\n",
    "\n",
    "  py.xlabel('Phase (deg)')\n",
    "  py.ylabel('Intensity')\n",
    "  py.legend()\n",
    "  return"
   ]
  },
  {
   "cell_type": "markdown",
   "metadata": {
    "colab_type": "text",
    "id": "L_oE3uFcsKkA"
   },
   "source": [
    "Functions for Fitting Separation Data"
   ]
  },
  {
   "cell_type": "code",
   "execution_count": 0,
   "metadata": {
    "colab": {},
    "colab_type": "code",
    "id": "_V1yQ0U5__mq"
   },
   "outputs": [],
   "source": [
    "def powerlaw(x, A, alpha, smin):\n",
    "  return (A * (x**(-alpha)) + smin)"
   ]
  },
  {
   "cell_type": "markdown",
   "metadata": {
    "colab_type": "text",
    "id": "HsEW4YA0D-QH"
   },
   "source": [
    "# Importing Data"
   ]
  },
  {
   "cell_type": "markdown",
   "metadata": {
    "colab_type": "text",
    "id": "5aCGkE3ZYbBM"
   },
   "source": [
    "Data must be in text file format from software pdv.\n",
    "Must be one file containing all pulses."
   ]
  },
  {
   "cell_type": "code",
   "execution_count": 0,
   "metadata": {
    "colab": {},
    "colab_type": "code",
    "id": "4ieR-2IlfGA_"
   },
   "outputs": [],
   "source": [
    "fulldatatype=([('pulse','i8'),('frequency','i8'),('phase','i8'),('intensity','f8')])"
   ]
  },
  {
   "cell_type": "code",
   "execution_count": 0,
   "metadata": {
    "colab": {},
    "colab_type": "code",
    "id": "o9kgY0kqfIrQ"
   },
   "outputs": [],
   "source": [
    "all_pulses = np.loadtxt(fname='J0820/J0820_s_f28_T_pazi.pdv', dtype=fulldatatype)"
   ]
  },
  {
   "cell_type": "code",
   "execution_count": 0,
   "metadata": {
    "colab": {},
    "colab_type": "code",
    "id": "Wfp5R_xond9z"
   },
   "outputs": [],
   "source": [
    "no_freq_bands = max(all_pulses['frequency'])+1"
   ]
  },
  {
   "cell_type": "code",
   "execution_count": 0,
   "metadata": {
    "colab": {},
    "colab_type": "code",
    "id": "Z4w-KVWset_Y"
   },
   "outputs": [],
   "source": [
    "no_pulses = max(all_pulses['pulse'])+1"
   ]
  },
  {
   "cell_type": "code",
   "execution_count": 43,
   "metadata": {
    "colab": {
     "base_uri": "https://localhost:8080/",
     "height": 34
    },
    "colab_type": "code",
    "id": "nznN0qJkfGNT",
    "outputId": "2ab317d4-6d12-48c4-d8fb-54597ad765b1"
   },
   "outputs": [
    {
     "name": "stdout",
     "output_type": "stream",
     "text": [
      "1\n"
     ]
    }
   ],
   "source": [
    "print(no_pulses)"
   ]
  },
  {
   "cell_type": "markdown",
   "metadata": {
    "colab_type": "text",
    "id": "eKWvXxMcEIfE"
   },
   "source": [
    "# Gaussian Plotting of Individual Frequency Band - Used for error checking individual frequency bands"
   ]
  },
  {
   "cell_type": "markdown",
   "metadata": {
    "colab_type": "text",
    "id": "MVQ_pgyRnofm"
   },
   "source": [
    "Choosing Frequency Band. Following Section is for error checking:"
   ]
  },
  {
   "cell_type": "code",
   "execution_count": 0,
   "metadata": {
    "colab": {},
    "colab_type": "code",
    "id": "mcIptVeffJXA"
   },
   "outputs": [],
   "source": [
    "freqband = 5\n",
    "pulseno = 0\n",
    "pf = (all_pulses['frequency']==freqband) & (all_pulses['pulse'] == pulseno)"
   ]
  },
  {
   "cell_type": "code",
   "execution_count": 67,
   "metadata": {
    "colab": {
     "base_uri": "https://localhost:8080/",
     "height": 52
    },
    "colab_type": "code",
    "id": "FR_Jrsrhe7lW",
    "outputId": "1da687ba-7eea-44b7-c082-622b8b2431a3"
   },
   "outputs": [
    {
     "name": "stdout",
     "output_type": "stream",
     "text": [
      "[ True  True  True ... False False False]\n",
      "1024\n"
     ]
    }
   ],
   "source": [
    "print(pf)\n",
    "print(np.count_nonzero(pf))\n",
    "#Should be either 0 or 1024. Single pulse, single frequency, 1024 phase bins."
   ]
  },
  {
   "cell_type": "code",
   "execution_count": 0,
   "metadata": {
    "colab": {},
    "colab_type": "code",
    "id": "o9L0EPsL2JrT"
   },
   "outputs": [],
   "source": [
    "phase=all_pulses['phase'][pf]\n",
    "intensity=all_pulses['intensity'][pf]"
   ]
  },
  {
   "cell_type": "markdown",
   "metadata": {
    "colab_type": "text",
    "id": "2hhQErp8ntli"
   },
   "source": [
    "Gaussian Plots"
   ]
  },
  {
   "cell_type": "code",
   "execution_count": 0,
   "metadata": {
    "colab": {},
    "colab_type": "code",
    "id": "MvBudOjXY1DT"
   },
   "outputs": [],
   "source": [
    "x = phase\n",
    "y = intensity"
   ]
  },
  {
   "cell_type": "code",
   "execution_count": 70,
   "metadata": {
    "colab": {
     "base_uri": "https://localhost:8080/",
     "height": 34
    },
    "colab_type": "code",
    "id": "-I5g-Wtoqa_l",
    "outputId": "1b8a7030-98e4-4d0d-bb4b-df25f4231ea7"
   },
   "outputs": [
    {
     "data": {
      "text/plain": [
       "1024"
      ]
     },
     "execution_count": 70,
     "metadata": {
      "tags": []
     },
     "output_type": "execute_result"
    }
   ],
   "source": [
    "len(y)"
   ]
  },
  {
   "cell_type": "code",
   "execution_count": 0,
   "metadata": {
    "colab": {},
    "colab_type": "code",
    "id": "dFRIxynhSAws"
   },
   "outputs": [],
   "source": [
    "#Taken from Peaks and Gaussian fittings of frequency band 73\n",
    "expected=(501,30,8.02,655,80,4.07,741,20,11.29)"
   ]
  },
  {
   "cell_type": "code",
   "execution_count": 0,
   "metadata": {
    "colab": {},
    "colab_type": "code",
    "id": "nvTDzWP-WMAh"
   },
   "outputs": [],
   "source": [
    "params,sigma = fitting_parameters(x,y,expected)\n",
    "fit = gauss_fit(x, params)\n",
    "profile_comp = gauss_peaks(fit,no_freq_bands,freqband)"
   ]
  },
  {
   "cell_type": "code",
   "execution_count": 73,
   "metadata": {
    "colab": {
     "base_uri": "https://localhost:8080/",
     "height": 279
    },
    "colab_type": "code",
    "id": "3im4-cMCZVSR",
    "outputId": "6ec7e97f-ffa1-484d-b7d7-35d53a3775c2"
   },
   "outputs": [
    {
     "data": {
      "image/png": "[encoded data removed]",
      "text/plain": [
       "<Figure size 432x288 with 1 Axes>"
      ]
     },
     "metadata": {
      "tags": []
     },
     "output_type": "display_data"
    }
   ],
   "source": [
    "plot_fit(x,y,fit,params,sigma)"
   ]
  },
  {
   "cell_type": "code",
   "execution_count": 74,
   "metadata": {
    "colab": {
     "base_uri": "https://localhost:8080/",
     "height": 279
    },
    "colab_type": "code",
    "id": "vZAjg5geZVkC",
    "outputId": "80441b02-f5fc-4646-e119-f512cc60c06a"
   },
   "outputs": [
    {
     "data": {
      "image/png": "[encoded data removed]",
      "text/plain": [
       "<Figure size 432x288 with 1 Axes>"
      ]
     },
     "metadata": {
      "tags": []
     },
     "output_type": "display_data"
    }
   ],
   "source": [
    "plot_fill(x,y,params)"
   ]
  },
  {
   "cell_type": "code",
   "execution_count": 75,
   "metadata": {
    "colab": {
     "base_uri": "https://localhost:8080/",
     "height": 279
    },
    "colab_type": "code",
    "id": "mmZe3OBoZ8rn",
    "outputId": "9bc0e808-3fd1-46b0-c221-80b508fcc9da"
   },
   "outputs": [
    {
     "data": {
      "image/png": "[encoded data removed]",
      "text/plain": [
       "<Figure size 432x288 with 1 Axes>"
      ]
     },
     "metadata": {
      "tags": []
     },
     "output_type": "display_data"
    }
   ],
   "source": [
    "plot_peaks(x*(360/1024),y,profile_comp)"
   ]
  },
  {
   "cell_type": "code",
   "execution_count": 76,
   "metadata": {
    "colab": {
     "base_uri": "https://localhost:8080/",
     "height": 34
    },
    "colab_type": "code",
    "id": "r4583s7PwhXY",
    "outputId": "20c1bf15-f34e-439e-c892-f935a3f265b1"
   },
   "outputs": [
    {
     "data": {
      "text/plain": [
       "pulse_component(frequency=493.1506849315068, comp1=component(phase=179.296875, intensity=1.526066209447632), comp2=component(phase=261.5625, intensity=2.370611913470223))"
      ]
     },
     "execution_count": 76,
     "metadata": {
      "tags": []
     },
     "output_type": "execute_result"
    }
   ],
   "source": [
    "profile_comp"
   ]
  },
  {
   "cell_type": "markdown",
   "metadata": {
    "colab_type": "text",
    "id": "er13GCy-EUTz"
   },
   "source": [
    "# Gaussian Plotting and Finding Peaks of Data"
   ]
  },
  {
   "cell_type": "markdown",
   "metadata": {
    "colab_type": "text",
    "id": "dUDXQCiVhOyH"
   },
   "source": [
    "The following is a looped version of the previous section to find the correct peaks for each pulse profile"
   ]
  },
  {
   "cell_type": "code",
   "execution_count": 0,
   "metadata": {
    "colab": {},
    "colab_type": "code",
    "id": "vJ4G8wv8tQOe"
   },
   "outputs": [],
   "source": [
    "all_components = []"
   ]
  },
  {
   "cell_type": "code",
   "execution_count": 78,
   "metadata": {
    "colab": {
     "base_uri": "https://localhost:8080/",
     "height": 239
    },
    "colab_type": "code",
    "id": "MspZDahR4R4P",
    "outputId": "f4193df8-a509-499e-d29e-5b061cfead18"
   },
   "outputs": [
    {
     "ename": "NameError",
     "evalue": "ignored",
     "output_type": "error",
     "traceback": [
      "\u001b[0;31m---------------------------------------------------------------------------\u001b[0m",
      "\u001b[0;31mNameError\u001b[0m                                 Traceback (most recent call last)",
      "\u001b[0;32m<ipython-input-78-9599ea5e38e9>\u001b[0m in \u001b[0;36m<module>\u001b[0;34m()\u001b[0m\n\u001b[1;32m      7\u001b[0m   \u001b[0;31m#print(freqband)\u001b[0m\u001b[0;34m\u001b[0m\u001b[0;34m\u001b[0m\u001b[0;34m\u001b[0m\u001b[0m\n\u001b[1;32m      8\u001b[0m \u001b[0;34m\u001b[0m\u001b[0m\n\u001b[0;32m----> 9\u001b[0;31m   \u001b[0mf\u001b[0m \u001b[0;34m=\u001b[0m \u001b[0maverageprofiles\u001b[0m\u001b[0;34m[\u001b[0m\u001b[0;34m'frequency'\u001b[0m\u001b[0;34m]\u001b[0m \u001b[0;34m==\u001b[0m \u001b[0mfreqband\u001b[0m\u001b[0;34m\u001b[0m\u001b[0;34m\u001b[0m\u001b[0m\n\u001b[0m\u001b[1;32m     10\u001b[0m \u001b[0;34m\u001b[0m\u001b[0m\n\u001b[1;32m     11\u001b[0m   \u001b[0mx\u001b[0m\u001b[0;34m=\u001b[0m\u001b[0maverageprofiles\u001b[0m\u001b[0;34m[\u001b[0m\u001b[0;34m'phase'\u001b[0m\u001b[0;34m]\u001b[0m\u001b[0;34m[\u001b[0m\u001b[0mf\u001b[0m\u001b[0;34m]\u001b[0m\u001b[0;34m\u001b[0m\u001b[0;34m\u001b[0m\u001b[0m\n",
      "\u001b[0;31mNameError\u001b[0m: name 'averageprofiles' is not defined"
     ]
    }
   ],
   "source": [
    "#Taken from Peaks and Gaussian fittings of frequency band 73, in the middle\n",
    "expected=(501,30,8.02,655,80,4.07,741,20,11.29)\n",
    "\n",
    "for i in range(0,no_freq_bands):\n",
    "  freqband = i\n",
    "  \n",
    "  #Can be used for error checking\n",
    "  #print(freqband)\n",
    "\n",
    "  f = averageprofiles['frequency'] == freqband\n",
    "\n",
    "  x=averageprofiles['phase'][f]\n",
    "  y=averageprofiles['intensity'][f]\n",
    "\n",
    "  if len(x)!=0 and len(y)!=0:\n",
    "    params,sigma = fitting_parameters(x,y,expected)\n",
    "    fit = gauss_fit(x, params)\n",
    "    profile_comp = gauss_peaks(fit, no_freq_bands, freqband)\n",
    "\n",
    "    #Can be used for error checking\n",
    "    #print(profile_comp)\n",
    "  \n",
    "    all_components.append(profile_comp)"
   ]
  },
  {
   "cell_type": "markdown",
   "metadata": {
    "colab_type": "text",
    "id": "IGeyAoMhEduw"
   },
   "source": [
    "# Movement of Peak Position over Frequency"
   ]
  },
  {
   "cell_type": "markdown",
   "metadata": {
    "colab_type": "text",
    "id": "KszZ-DmF3pTJ"
   },
   "source": [
    "Starting to graph out all the movement of component phase across frequency\n",
    "\n",
    "---\n",
    "\n"
   ]
  },
  {
   "cell_type": "code",
   "execution_count": 0,
   "metadata": {
    "colab": {},
    "colab_type": "code",
    "id": "oLssJVtTtfb2"
   },
   "outputs": [],
   "source": [
    "len(all_components)"
   ]
  },
  {
   "cell_type": "code",
   "execution_count": 0,
   "metadata": {
    "colab": {},
    "colab_type": "code",
    "id": "CUJj3cbezRgq"
   },
   "outputs": [],
   "source": [
    "phase_comp1=[]\n",
    "frequency_comp1=[]\n",
    "\n",
    "for i in range(0,len(all_components)):\n",
    "  if all_components[i][1][0] != 0:\n",
    "    phase_comp1.append(all_components[i][1][0])\n",
    "    frequency_comp1.append(all_components[i][0])"
   ]
  },
  {
   "cell_type": "code",
   "execution_count": 0,
   "metadata": {
    "colab": {},
    "colab_type": "code",
    "id": "N8lXroZey117"
   },
   "outputs": [],
   "source": [
    "py.plot(phase_comp1,frequency_comp1, '.')\n",
    "py.xlabel('Phase Bin')\n",
    "py.ylabel('Frequency')"
   ]
  },
  {
   "cell_type": "code",
   "execution_count": 0,
   "metadata": {
    "colab": {},
    "colab_type": "code",
    "id": "ylBJ8twuzL8g"
   },
   "outputs": [],
   "source": [
    "phase_comp2=[]\n",
    "frequency_comp2=[]\n",
    "\n",
    "for i in range(0,len(all_components)):\n",
    "  if all_components[i][2][0] != 0:\n",
    "    phase_comp2.append(all_components[i][2][0])\n",
    "    frequency_comp2.append(all_components[i][0])"
   ]
  },
  {
   "cell_type": "code",
   "execution_count": 0,
   "metadata": {
    "colab": {},
    "colab_type": "code",
    "id": "BaWU8_f424bZ"
   },
   "outputs": [],
   "source": [
    "py.plot(phase_comp2,frequency_comp2, '.')\n",
    "py.xlabel('Phase Bin')\n",
    "py.ylabel('Frequency')"
   ]
  },
  {
   "cell_type": "markdown",
   "metadata": {
    "colab_type": "text",
    "id": "KZFBrw4AEiXX"
   },
   "source": [
    "# Component Separation Across Frequency"
   ]
  },
  {
   "cell_type": "code",
   "execution_count": 0,
   "metadata": {
    "colab": {},
    "colab_type": "code",
    "id": "EgEnQbxBujiH"
   },
   "outputs": [],
   "source": [
    "def separation_singleprofile(components_array):\n",
    "  sep_array=[]\n",
    "\n",
    "  for i in range(0,len(components_array)):\n",
    "    if components_array[i][1][0] != 0 and components_array[i][2][0] != 0:\n",
    "    \n",
    "      freq=components_array[i][0]\n",
    "      sep=(components_array[i][2][0]) - (components_array[i][1][0])\n",
    "\n",
    "      single_sep=component_separation(frequency=freq, separation=sep)\n",
    "\n",
    "      sep_array.append(single_sep)\n",
    "\n",
    "  return sep_array"
   ]
  },
  {
   "cell_type": "code",
   "execution_count": 0,
   "metadata": {
    "colab": {},
    "colab_type": "code",
    "id": "QlmKKG5sFeMg"
   },
   "outputs": [],
   "source": [
    "component_sep = separation_singleprofile(all_components)"
   ]
  },
  {
   "cell_type": "code",
   "execution_count": 0,
   "metadata": {
    "colab": {},
    "colab_type": "code",
    "id": "HDJ-LydcMi7_"
   },
   "outputs": [],
   "source": [
    "component_sep"
   ]
  },
  {
   "cell_type": "code",
   "execution_count": 0,
   "metadata": {
    "colab": {},
    "colab_type": "code",
    "id": "pacJRC6tIbBS"
   },
   "outputs": [],
   "source": [
    "comp_sep=[]\n",
    "frequency_forsep=[]\n",
    "\n",
    "#range(0,no_freq_bands)\n",
    "for i in range(0,len(component_sep)):\n",
    "  comp_sep.append(component_sep[i][1])\n",
    "  frequency_forsep.append(component_sep[i][0])"
   ]
  },
  {
   "cell_type": "code",
   "execution_count": 0,
   "metadata": {
    "colab": {},
    "colab_type": "code",
    "id": "oE8r2963KMSz"
   },
   "outputs": [],
   "source": [
    "py.plot(frequency_forsep, comp_sep, '.')"
   ]
  },
  {
   "cell_type": "markdown",
   "metadata": {
    "colab_type": "text",
    "id": "pRvVTEsj_64Q"
   },
   "source": [
    "# Attempted Fitting Power Laws to Separation"
   ]
  },
  {
   "cell_type": "code",
   "execution_count": 0,
   "metadata": {
    "colab": {},
    "colab_type": "code",
    "id": "Eb9tysocAfn3"
   },
   "outputs": [],
   "source": [
    "expect=(200,0.5,20)\n",
    "sep_params,sep_cov=curve_fit(powerlaw,frequency_forsep,comp_sep, maxfev=1000000)"
   ]
  },
  {
   "cell_type": "code",
   "execution_count": 0,
   "metadata": {
    "colab": {},
    "colab_type": "code",
    "id": "hCGGghN8A7BA"
   },
   "outputs": [],
   "source": [
    "print(sep_params)\n",
    "separation_fit = powerlaw(frequency_forsep, *sep_params)"
   ]
  },
  {
   "cell_type": "code",
   "execution_count": 0,
   "metadata": {
    "colab": {},
    "colab_type": "code",
    "id": "oY7ok57vApBN"
   },
   "outputs": [],
   "source": [
    "py.plot(frequency_forsep, comp_sep, lw=0.5, label='data')\n",
    "py.plot(frequency_forsep,separation_fit, color='red',lw=1,label='power fit')"
   ]
  },
  {
   "cell_type": "code",
   "execution_count": 0,
   "metadata": {
    "colab": {},
    "colab_type": "code",
    "id": "l11_3C1ODT_d"
   },
   "outputs": [],
   "source": [
    "chi, p = sp.stats.chisquare(comp_sep, separation_fit)\n",
    "print(f'The equation of fit for this pulsar is: \\t \\u0394\\u03B8 = {sep_params[0]:.3f} \\u03BD^-{sep_params[1]:.3f} + {sep_params[2]:.3f} \\n')\n",
    "print('The chi squared value for the fit is: ', chi)\n",
    "print('Units for \\u0394\\u03B8 is degrees and \\u03BD is MHz')"
   ]
  },
  {
   "cell_type": "markdown",
   "metadata": {
    "colab_type": "text",
    "id": "jFW8l98xEkXi"
   },
   "source": [
    "# IGNORE - Attempted Fitting Power Laws to Phase"
   ]
  },
  {
   "cell_type": "markdown",
   "metadata": {
    "colab_type": "text",
    "id": "CiorLeQXCvUp"
   },
   "source": [
    "Below is attempts at fitting power laws. Ignore for now."
   ]
  },
  {
   "cell_type": "code",
   "execution_count": 0,
   "metadata": {
    "colab": {},
    "colab_type": "code",
    "id": "jVE0F2IP_G7G"
   },
   "outputs": [],
   "source": [
    "def powerlaw(x, A, alpha):\n",
    "  return A * (x**alpha)\n",
    "\n",
    "def powerlawint(x, A, alpha, c):\n",
    "  return ((A*x**(alpha+1))/(alpha+1))+c"
   ]
  },
  {
   "cell_type": "code",
   "execution_count": 0,
   "metadata": {
    "colab": {},
    "colab_type": "code",
    "id": "791O9_muAAZ6"
   },
   "outputs": [],
   "source": [
    "expect=[5.72993437e+15, -4.85937668]\n",
    "params,cov=curve_fit(powerlaw,xaxis_comp1,yaxis_comp2, maxfev=10000)\n",
    "#sigma=np.sqrt(np.diag(cov))"
   ]
  },
  {
   "cell_type": "code",
   "execution_count": 0,
   "metadata": {
    "colab": {},
    "colab_type": "code",
    "id": "5f8D0JAfAc1D"
   },
   "outputs": [],
   "source": [
    "params"
   ]
  },
  {
   "cell_type": "code",
   "execution_count": 0,
   "metadata": {
    "colab": {},
    "colab_type": "code",
    "id": "Q9eOfE3BBCg6"
   },
   "outputs": [],
   "source": [
    "x=range(470,570)"
   ]
  },
  {
   "cell_type": "code",
   "execution_count": 0,
   "metadata": {
    "colab": {},
    "colab_type": "code",
    "id": "UJ--vXIwxmHP"
   },
   "outputs": [],
   "source": [
    "py.plot(xaxis_comp1,yaxis_comp1, lw=0.5, label='data')\n",
    "py.plot(x,powerlaw(x, *params), color='red',lw=1,label='power fit')"
   ]
  },
  {
   "cell_type": "code",
   "execution_count": 0,
   "metadata": {
    "colab": {},
    "colab_type": "code",
    "id": "Qxe-RpMMx6sC"
   },
   "outputs": [],
   "source": [
    "print(xaxis_comp1)\n",
    "print(yaxis_comp1)\n",
    "print(len(xaxis_comp1))\n",
    "print(len(yaxis_comp1))"
   ]
  },
  {
   "cell_type": "code",
   "execution_count": 0,
   "metadata": {
    "colab": {},
    "colab_type": "code",
    "id": "OeDAqnMe5gMW"
   },
   "outputs": [],
   "source": [
    "params,cov=curve_fit(powerlaw,xaxis_comp1_rev,yaxis_comp1_rev, maxfev=10000)\n",
    "#sigma=np.sqrt(np.diag(cov))"
   ]
  },
  {
   "cell_type": "code",
   "execution_count": 0,
   "metadata": {
    "colab": {},
    "colab_type": "code",
    "id": "_ufGa3TF-1JX"
   },
   "outputs": [],
   "source": [
    "params"
   ]
  },
  {
   "cell_type": "code",
   "execution_count": 0,
   "metadata": {
    "colab": {},
    "colab_type": "code",
    "id": "4Aek0tBjBVfx"
   },
   "outputs": [],
   "source": [
    "x=range(290,560)"
   ]
  },
  {
   "cell_type": "code",
   "execution_count": 0,
   "metadata": {
    "colab": {},
    "colab_type": "code",
    "id": "XhbOjv3U-m7w"
   },
   "outputs": [],
   "source": [
    "py.plot(xaxis_comp1_rev,yaxis_comp1_rev, lw=0.5, label='data')\n",
    "py.plot(x,powerlaw(x, *params), color='red',lw=1,label='power fit')"
   ]
  },
  {
   "cell_type": "code",
   "execution_count": 0,
   "metadata": {
    "colab": {},
    "colab_type": "code",
    "id": "1PTKTwQL-trv"
   },
   "outputs": [],
   "source": []
  }
 ],
 "metadata": {
  "colab": {
   "collapsed_sections": [],
   "name": "Sub-Pulse Separation.ipynb",
   "provenance": []
  },
  "kernelspec": {
   "display_name": "Python 3",
   "language": "python",
   "name": "python3"
  },
  "language_info": {
   "codemirror_mode": {
    "name": "ipython",
    "version": 3
   },
   "file_extension": ".py",
   "mimetype": "text/x-python",
   "name": "python",
   "nbconvert_exporter": "python",
   "pygments_lexer": "ipython3",
   "version": "3.6.8"
  }
 },
 "nbformat": 4,
 "nbformat_minor": 1
}
