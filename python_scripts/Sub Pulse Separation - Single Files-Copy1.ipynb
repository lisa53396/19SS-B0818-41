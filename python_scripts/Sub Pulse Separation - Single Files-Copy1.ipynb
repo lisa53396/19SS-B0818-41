{
 "cells": [
  {
   "cell_type": "markdown",
   "metadata": {
    "colab_type": "text",
    "id": "4z_feS2dDwlJ"
   },
   "source": [
    "# Importing Packages Needed"
   ]
  },
  {
   "cell_type": "code",
   "execution_count": 53,
   "metadata": {
    "colab": {},
    "colab_type": "code",
    "id": "zJLqZxwce0pN"
   },
   "outputs": [],
   "source": [
    "import numpy as np"
   ]
  },
  {
   "cell_type": "code",
   "execution_count": 54,
   "metadata": {
    "colab": {},
    "colab_type": "code",
    "id": "I-sMZfzHe87d"
   },
   "outputs": [],
   "source": [
    "import scipy as sp"
   ]
  },
  {
   "cell_type": "code",
   "execution_count": 55,
   "metadata": {
    "colab": {},
    "colab_type": "code",
    "id": "osUA_fqWfB8I"
   },
   "outputs": [],
   "source": [
    "import matplotlib.pyplot as py"
   ]
  },
  {
   "cell_type": "code",
   "execution_count": 56,
   "metadata": {
    "colab": {},
    "colab_type": "code",
    "id": "EI8CExhqOkaC"
   },
   "outputs": [],
   "source": [
    "from scipy.optimize import curve_fit"
   ]
  },
  {
   "cell_type": "code",
   "execution_count": 57,
   "metadata": {
    "colab": {},
    "colab_type": "code",
    "id": "FTNsckCiZ_s4"
   },
   "outputs": [],
   "source": [
    "from scipy.signal import find_peaks"
   ]
  },
  {
   "cell_type": "code",
   "execution_count": 58,
   "metadata": {
    "colab": {},
    "colab_type": "code",
    "id": "PUtMS_hIaHat"
   },
   "outputs": [],
   "source": [
    "import collections as col"
   ]
  },
  {
   "cell_type": "markdown",
   "metadata": {
    "colab_type": "text",
    "id": "FamzMgIcD2xs"
   },
   "source": [
    "# Definition of Named Tuples"
   ]
  },
  {
   "cell_type": "code",
   "execution_count": 59,
   "metadata": {
    "colab": {},
    "colab_type": "code",
    "id": "Uzxt0sq0qeHc"
   },
   "outputs": [],
   "source": [
    "component = col.namedtuple('component','phase intensity')"
   ]
  },
  {
   "cell_type": "code",
   "execution_count": 60,
   "metadata": {
    "colab": {},
    "colab_type": "code",
    "id": "dX49jpTnTzy0"
   },
   "outputs": [],
   "source": [
    "ind_sub = col.namedtuple('ind_sub','phase intensity width')"
   ]
  },
  {
   "cell_type": "code",
   "execution_count": 61,
   "metadata": {},
   "outputs": [],
   "source": [
    "pulse_sub = col.namedtuple('pulse_sub','frequency sub1 sub2, errors')"
   ]
  },
  {
   "cell_type": "code",
   "execution_count": 62,
   "metadata": {
    "colab": {},
    "colab_type": "code",
    "id": "xDOdqB5tIrt5"
   },
   "outputs": [],
   "source": [
    "sub_separation = col.namedtuple('sub_separation','frequency separation')"
   ]
  },
  {
   "cell_type": "markdown",
   "metadata": {
    "colab_type": "text",
    "id": "a8CeXWdQIy8b"
   },
   "source": [
    "# Definition of Functions"
   ]
  },
  {
   "cell_type": "code",
   "execution_count": 63,
   "metadata": {},
   "outputs": [],
   "source": [
    "def chsq(observed_values, expected_values, err):\n",
    "    \"\"\"\n",
    "    Chi Squared operation:\n",
    "    Compute the data's chi squared values.\n",
    "    \n",
    "    Parameters:\n",
    "    -----------\n",
    "    observed_values: list\n",
    "        A list of floats - the raw data\n",
    "    expected_values: list\n",
    "        A list of floats - the expected data or the fit\n",
    "    err: float\n",
    "        The error across all data - standard deviation of the noise\n",
    "\n",
    "    Returns:\n",
    "    --------\n",
    "    test_statistic: float\n",
    "        The chi squared value of the data\n",
    "    \n",
    "    Created by Keegan Smith\n",
    "    \"\"\"\n",
    "    test_statistic=0\n",
    "    for observed, expected in zip(observed_values, expected_values):\n",
    "        test_statistic+=((float(observed)-float(expected))/float(err))**2\n",
    "    return test_statistic"
   ]
  },
  {
   "cell_type": "code",
   "execution_count": 64,
   "metadata": {},
   "outputs": [],
   "source": [
    "def sigmaClip(data, alpha=3, tol=0.1, ntrials=10):\n",
    "    \"\"\"\n",
    "    Sigma clipping operation:\n",
    "    Compute the data's median, m, and its standard deviation, sigma.\n",
    "    Keep only the data that falls in the range (m-alpha*sigma,m+alpha*sigma) for some value of alpha, and discard everything else.\n",
    "\n",
    "    This operation is repeated ntrials number of times or until the tolerance level is hit.\n",
    "\n",
    "    Parameters:\n",
    "    -----------\n",
    "    data: list\n",
    "        A list of floats - the data to clip\n",
    "    alpha: float\n",
    "        OPTIONAL - Determines the number of sigmas to use to determine the upper nad lower limits. Default=3\n",
    "    tol: float\n",
    "        OPTIONAL - The fractional change in the standard deviation that determines when the tolerance is hit. Default=0.1\n",
    "    ntrils: int\n",
    "        OPTIONAL - The maximum number of times to apply the operation. Default=10\n",
    "\n",
    "    Returns:\n",
    "    --------\n",
    "    oldstd: float\n",
    "        The std of the clipped data\n",
    "    x: list\n",
    "        The data list that contains only noise, with nans in place of 'real' data\n",
    "    \n",
    "    Created by Keegan Smith\n",
    "    \"\"\"\n",
    "    x = np.copy(data)\n",
    "    oldstd = np.nanstd(x)\n",
    "    #When the x[x<lolim] and x[x>hilim] commands encounter a nan it produces a\n",
    "    #warning. This is expected because it is ignoring flagged data from a\n",
    "    #previous trial so the warning is supressed.\n",
    "    old_settings = np.seterr(all='ignore')\n",
    "    for trial in range(ntrials):\n",
    "        median = np.nanmedian(x)\n",
    "\n",
    "        lolim = median - alpha * oldstd\n",
    "        hilim = median + alpha * oldstd\n",
    "        x[x<lolim] = np.nan\n",
    "        x[x>hilim] = np.nan\n",
    "\n",
    "        newstd = np.nanstd(x)\n",
    "        tollvl = (oldstd - newstd) / newstd\n",
    "\n",
    "        if tollvl <= tol:\n",
    "            #print(\"Took {0} trials to reach tolerance\".format(trial+1))\n",
    "            np.seterr(**old_settings)\n",
    "            return oldstd, x\n",
    "\n",
    "        if trial + 1 == ntrials:\n",
    "            #print(\"Reached number of trials without reaching tolerance level\")\n",
    "            np.seterr(**old_settings)\n",
    "            return oldstd, x\n",
    "\n",
    "        oldstd = newstd"
   ]
  },
  {
   "cell_type": "markdown",
   "metadata": {
    "colab_type": "text",
    "id": "nOegi6c8I3gu"
   },
   "source": [
    "Gaussian Fitting Functions:"
   ]
  },
  {
   "cell_type": "code",
   "execution_count": 65,
   "metadata": {
    "colab": {},
    "colab_type": "code",
    "id": "Jf6ae6VTR-iR"
   },
   "outputs": [],
   "source": [
    "\"\"\"\n",
    "Definitions of gaussian equations - single, double and triple\n",
    "\"\"\"\n",
    "\n",
    "def gauss(x,cen,sd,amp):\n",
    "    return amp*np.exp(-(x-cen)**2/2/sd**2)\n",
    "\n",
    "def twogauss(x,cen1,sd1,amp1,cen2,sd2,amp2):\n",
    "    return gauss(x,cen1,sd1,amp1)+gauss(x,cen2,sd2,amp2)\n",
    "\n",
    "def threegauss(x,cen1,sd1,amp1,cen2,sd2,amp2,cen3,sd3,amp3):\n",
    "    return gauss(x,cen1,sd1,amp1)+gauss(x,cen2,sd2,amp2)+gauss(x,cen3,sd3,amp3)"
   ]
  },
  {
   "cell_type": "code",
   "execution_count": 66,
   "metadata": {},
   "outputs": [],
   "source": [
    "\"\"\"\n",
    "Fitting data into the above gaussian equations. \n",
    "\n",
    "Parameters:\n",
    "    -----------\n",
    "    x,y: list, list\n",
    "        A list of floats - the data \n",
    "    error: float\n",
    "        The error across all data - standard deviation of the noise\n",
    "    expect: list\n",
    "        The expected parameters for the gaussian equation\n",
    "\n",
    "    Returns:\n",
    "    --------\n",
    "    params: list\n",
    "        The parameters (x, cen, sd) of the fit\n",
    "    cov: list\n",
    "        The covariance of the fit\n",
    "    fit: list\n",
    "        The y data of the actual fit (parameters have been put back into the equation)\n",
    "    chi: float\n",
    "        The chi squared value\n",
    "\"\"\"\n",
    "\n",
    "def single_fit(x, y, error, expect):\n",
    "    params,cov=curve_fit(gauss,x,y,expect,bounds=([-np.inf,-np.inf,0],[np.inf,np.inf,np.inf]))\n",
    "    fit=gauss(x,*params)\n",
    "    \n",
    "    chi=chsq(y, fit, error)\n",
    "    chir=chi/(len(y)-1)\n",
    "        \n",
    "    return params, cov, fit, chi\n",
    "\n",
    "def double_fit(x, y, error, expect):\n",
    "    params,cov=curve_fit(twogauss,x,y,expect,bounds=([-np.inf,-np.inf,0,-np.inf,-np.inf,0],[np.inf,np.inf,np.inf,np.inf,np.inf,np.inf]))\n",
    "    fit=twogauss(x,*params)\n",
    "\n",
    "    chi=chsq(y, fit, error)\n",
    "    chir=chi/(len(y)-1)\n",
    "    \n",
    "    return params, cov, fit, chi\n",
    "\n",
    "def triple_fit(x, y, error, expect):\n",
    "    params,cov=curve_fit(threegauss,x,y,expect,bounds=([-np.inf,-np.inf,0,-np.inf,-np.inf,0,-np.inf,-np.inf,0],[np.inf,np.inf,np.inf,np.inf,np.inf,np.inf,np.inf,np.inf,np.inf]))\n",
    "    fit=threegauss(x,*params)\n",
    "    \n",
    "    chi=chsq(y, fit, error)\n",
    "    chir=chi/(len(y)-1)\n",
    "    \n",
    "    return params, cov, fit, chi"
   ]
  },
  {
   "cell_type": "code",
   "execution_count": 67,
   "metadata": {},
   "outputs": [
    {
     "data": {
      "text/plain": [
       "'\\ndef finding_single_fit(x,y, error):\\n    \\n    status=100\\n    \\n    expect=[500,75,50]\\n    try:\\n        params1, cov1, fit1, chi1 = single_fit(x, y, error, expect)\\n    except:\\n        chi1=np.inf\\n        diff1=np.inf\\n    \\n    expect.extend((750,75,50))\\n    try:\\n        params2, cov2, fit2, chi2 = double_fit(x, y, error, expect)\\n    except:\\n        chi2=np.inf\\n        diff2=np.inf\\n\\n    if chi1<=chi2 and chi1!=np.inf: \\n        status=1\\n\\n    elif chi2<=chi1 and chi2!=np.inf:\\n        status=2\\n        \\n    if chi1==np.inf and chi2==np.inf: \\n        status=0\\n    \\n    return status\\n    \\n'"
      ]
     },
     "execution_count": 67,
     "metadata": {},
     "output_type": "execute_result"
    }
   ],
   "source": [
    "\"\"\"\n",
    "def finding_single_fit(x,y, error):\n",
    "    \n",
    "    status=100\n",
    "    \n",
    "    expect=[500,75,50]\n",
    "    try:\n",
    "        params1, cov1, fit1, chi1 = single_fit(x, y, error, expect)\n",
    "    except:\n",
    "        chi1=np.inf\n",
    "        diff1=np.inf\n",
    "    \n",
    "    expect.extend((750,75,50))\n",
    "    try:\n",
    "        params2, cov2, fit2, chi2 = double_fit(x, y, error, expect)\n",
    "    except:\n",
    "        chi2=np.inf\n",
    "        diff2=np.inf\n",
    "\n",
    "    if chi1<=chi2 and chi1!=np.inf: \n",
    "        status=1\n",
    "\n",
    "    elif chi2<=chi1 and chi2!=np.inf:\n",
    "        status=2\n",
    "        \n",
    "    if chi1==np.inf and chi2==np.inf: \n",
    "        status=0\n",
    "    \n",
    "    return status\n",
    "    \n",
    "\"\"\""
   ]
  },
  {
   "cell_type": "code",
   "execution_count": 68,
   "metadata": {
    "colab": {},
    "colab_type": "code",
    "id": "zWylwCBKV8SL"
   },
   "outputs": [],
   "source": [
    "\"\"\"\n",
    "    Fitting Gaussians operation:\n",
    "    Creates the best fit for the data out of the above mentioned gaussian equations.\n",
    "    First attempts a double fit, and if this fails it then attempts a single fit. If this also fails create a no fit.\n",
    "    \n",
    "    Then checks if a double fit is created, the chi value and if over 1100, replaces it with a single fit instead. \n",
    "    If chi of a single fit is still above 1100 then replaces it with a no fit. \n",
    "\n",
    "    Parameters:\n",
    "    -----------\n",
    "    x, y: list, list\n",
    "        A list of floats - the data \n",
    "    error: float\n",
    "        The error across all data - standard deviation of the noise\n",
    "        \n",
    "    Returns:\n",
    "    --------\n",
    "    fit: list\n",
    "        The y data of the best fit \n",
    "    params: list\n",
    "        The parameters (x, cen, sd) of the best fit\n",
    "    sigma: list\n",
    "        List of the errors in the parameters\n",
    "    chi: float\n",
    "        The chi squared value\n",
    "\"\"\" \n",
    "\n",
    "def fitting_gaussians(x,y, error):\n",
    "    py.plot(x,y,lw=0.1)\n",
    "    \n",
    "    fitting = 5\n",
    "    \n",
    "    try:\n",
    "        expect=[500,75,50,750,75,50]\n",
    "        params, cov, fit, chi = double_fit(x, y, error, expect)\n",
    "        sigma=np.sqrt(np.diag(cov))\n",
    "        py.plot(x,fit, color='green')\n",
    "        fitting =2\n",
    "    except:\n",
    "        try:\n",
    "            expect=[500,75,50]\n",
    "            params, cov, fit, chi = single_fit(x, y, error, expect)\n",
    "            sigma=np.sqrt(np.diag(cov))\n",
    "            py.plot(x,fit, color='red')\n",
    "            fitting=1\n",
    "        except:\n",
    "            params=0\n",
    "            cov=0\n",
    "            fit=[]\n",
    "            chi=np.inf\n",
    "            sigma=0\n",
    "            fitting=0\n",
    "            \n",
    "    if (fitting==2 and chi>1100):\n",
    "        try:\n",
    "            expect=[500,75,50]\n",
    "            params, cov, fit, chi = single_fit(x, y, error, expect)\n",
    "            sigma=np.sqrt(np.diag(cov))\n",
    "            py.plot(x,fit, color='red')\n",
    "            fitting=1\n",
    "        except:\n",
    "            params=0\n",
    "            cov=0\n",
    "            fit=[]\n",
    "            chi=np.inf\n",
    "            sigma=0\n",
    "            fitting=0\n",
    "        \n",
    "    if chi>1100 and chi!=np.inf:\n",
    "        params=0\n",
    "        cov=0\n",
    "        fit=[]\n",
    "        chi=np.inf\n",
    "        sigma=0\n",
    "        fitting=0\n",
    "        \n",
    "    return fit, params, sigma, chi"
   ]
  },
  {
   "cell_type": "markdown",
   "metadata": {
    "colab_type": "text",
    "id": "Hf__MEBnJEd_"
   },
   "source": [
    "Finding Peak of Fittings Function"
   ]
  },
  {
   "cell_type": "code",
   "execution_count": 69,
   "metadata": {
    "colab": {},
    "colab_type": "code",
    "id": "iIp9ZS-sZYIZ"
   },
   "outputs": [],
   "source": [
    "def gauss_peaks(fit, nofreqband, freqband, sigma):\n",
    "    component1=0\n",
    "    component2=0   \n",
    "    i=0\n",
    "    j=0\n",
    "    \n",
    "    freq=(((500-300)/nofreqband)*(nofreqband-freqband))+300\n",
    "\n",
    "    peakpos = find_peaks(fit, prominence=0.2)[0]\n",
    "    print(peakpos)\n",
    "    \n",
    "    if len(peakpos) == 2:\n",
    "        if peakpos[0]>=200 and peakpos[0]<=400:\n",
    "            i=1\n",
    "            comp1u=((sigma[0], sigma[1], sigma[2]))\n",
    "        elif peakpos[0]>=500 and peakpos[0]<=750:\n",
    "            i=2\n",
    "            comp2u=((sigma[0], sigma[1], sigma[2]))\n",
    "        else:\n",
    "            i=0\n",
    "        if peakpos[1]>=200 and peakpos[1]<=400:\n",
    "            j=1\n",
    "            comp1u=((sigma[3], sigma[4], sigma[5]))\n",
    "        elif peakpos[1]>=500 and peakpos[1]<=750:\n",
    "            j=2\n",
    "            comp2u=((sigma[3], sigma[4], sigma[5]))\n",
    "        else:\n",
    "            j=0\n",
    "    elif len(peakpos) == 1:\n",
    "        if (peakpos[0]>=200 and peakpos[0]<=400): \n",
    "            i=1\n",
    "            comp1u=((sigma[0], sigma[1], sigma[2]))\n",
    "        elif (peakpos[0]>=500 and peakpos[0]<=750):\n",
    "            i=2\n",
    "            comp2u=((sigma[0], sigma[1], sigma[2]))\n",
    "        else:\n",
    "            i=0\n",
    "        j=0\n",
    "    else:\n",
    "        i=0\n",
    "        j=0\n",
    "        \n",
    "    if i==1:\n",
    "        component1 = component(phase=(360/1024)*peakpos[0], intensity=fit[peakpos[0]])\n",
    "    elif i==2:\n",
    "        component2 = component(phase=(360/1024)*peakpos[0], intensity=fit[peakpos[0]])\n",
    "        \n",
    "    if j==1:\n",
    "        component1 = component(phase=(360/1024)*peakpos[1], intensity=fit[peakpos[1]])\n",
    "    elif j==2:\n",
    "        component2 = component(phase=(360/1024)*peakpos[1], intensity=fit[peakpos[1]])\n",
    "\n",
    "    if component1==0:\n",
    "        component1 = component(phase=0, intensity=0)\n",
    "        comp1u=((0, 0, 0))\n",
    "    if component2==0:\n",
    "        component2 = component(phase=0, intensity=0)\n",
    "        comp2u=((0, 0, 0))\n",
    "        \n",
    "    errors = (*comp1u,*comp2u)\n",
    "        \n",
    "    pulse_subp = pulse_sub(frequency=freq, sub1=component1, sub2=component2, errors=sigma)\n",
    "        \n",
    "    return pulse_subp"
   ]
  },
  {
   "cell_type": "markdown",
   "metadata": {
    "colab_type": "text",
    "id": "4P1qFLYpI9hB"
   },
   "source": [
    "Plotting Fittings Functions"
   ]
  },
  {
   "cell_type": "code",
   "execution_count": 70,
   "metadata": {
    "colab": {},
    "colab_type": "code",
    "id": "gPhqw8WaI8pp"
   },
   "outputs": [],
   "source": [
    "def plot_fit(x,y,fit,params,sigma):\n",
    "    py.plot(x, y, lw=0.5, label='data')\n",
    "    py.plot(x,fit, color='red',lw=3,label='gaussian fit')\n",
    "    py.xlabel('Phase Bin')\n",
    "    py.ylabel('Intensity')\n",
    "    py.legend()\n",
    "    return"
   ]
  },
  {
   "cell_type": "code",
   "execution_count": 71,
   "metadata": {
    "colab": {},
    "colab_type": "code",
    "id": "NmHjFzTFith2"
   },
   "outputs": [],
   "source": [
    "def plot_fill(x,y,params):\n",
    "    params1 = params[0:3]\n",
    "    params2 = params[3:6]\n",
    "    gfit1 = gauss(x, *params1)\n",
    "    gfit2 = gauss(x, *params2)\n",
    "    \n",
    "    py.plot(x, y, lw=0.5, label='data')\n",
    "    py.plot(x,fit,color='red',lw=3,label='gaussian fit')\n",
    "    py.xlabel('Phase Bin')\n",
    "    py.ylabel('Intensity')\n",
    "    py.legend()\n",
    "\n",
    "    py.plot(x, gfit1, \"g\")\n",
    "    py.fill_between(x, gfit1.min(), gfit1, facecolor=\"green\", alpha=0.5)\n",
    "  \n",
    "    py.plot(x, gfit2, \"y\")\n",
    "    py.fill_between(x, gfit2.min(), gfit2, facecolor=\"yellow\", alpha=0.5)\n",
    "\n",
    "    return "
   ]
  },
  {
   "cell_type": "code",
   "execution_count": 72,
   "metadata": {
    "colab": {},
    "colab_type": "code",
    "id": "b6Y_oMHJbEEz"
   },
   "outputs": [],
   "source": [
    "def plot_peaks(x,y,profile_comp):\n",
    "    py.plot((360/1024)*x,y, lw=0.5)\n",
    "    py.plot((360/1024)*x, fit, color='red', lw=3, label='gaussian fit')\n",
    "\n",
    "    x=[profile_comp[i][0] for i in range(1,3)]\n",
    "    y=[profile_comp[i][1] for i in range(1,3)]\n",
    "\n",
    "    py.plot(x, y ,'X', markerfacecolor='black', markeredgecolor='black', label='peaks')\n",
    "\n",
    "    py.xlabel('Phase (deg)')\n",
    "    py.ylabel('Intensity')\n",
    "    py.legend()\n",
    "    return"
   ]
  },
  {
   "cell_type": "markdown",
   "metadata": {
    "colab_type": "text",
    "id": "L_oE3uFcsKkA"
   },
   "source": [
    "Functions for Fitting Separation Data"
   ]
  },
  {
   "cell_type": "code",
   "execution_count": 73,
   "metadata": {
    "colab": {},
    "colab_type": "code",
    "id": "_V1yQ0U5__mq"
   },
   "outputs": [],
   "source": [
    "def thorsett(x, A, alpha, smin):\n",
    "    return (A * (x**(alpha)) + smin)"
   ]
  },
  {
   "cell_type": "code",
   "execution_count": 74,
   "metadata": {
    "colab": {},
    "colab_type": "code",
    "id": "wxmh_C8uszSX"
   },
   "outputs": [],
   "source": [
    "def powerlaw(x, A, alpha):\n",
    "    return (A * (x**(alpha)))"
   ]
  },
  {
   "cell_type": "code",
   "execution_count": 75,
   "metadata": {},
   "outputs": [],
   "source": [
    "def linear(x, m, c):\n",
    "    return (float(m)*x+c)"
   ]
  },
  {
   "cell_type": "markdown",
   "metadata": {},
   "source": [
    "Extra Stuff"
   ]
  },
  {
   "cell_type": "code",
   "execution_count": 76,
   "metadata": {},
   "outputs": [],
   "source": [
    "def graphing_spulse(fit_spulse,spulse_num):\n",
    "        phase_comp=[]\n",
    "        frequency_comp=[]\n",
    "        comp_err=[]\n",
    "\n",
    "        if spulse_num==1:\n",
    "            for i in range(0,len(fit_spulse)):\n",
    "                if fit_spulse[i][1][0] != 0:\n",
    "                    phase_comp.append(fit_spulse[i][1][0])\n",
    "                    frequency_comp.append(fit_spulse[i][0])\n",
    "                    comp_err.append(fit_spulse[i][3][0])\n",
    "        elif spulse_num==2:\n",
    "            for i in range(0,len(fit_spulse)):\n",
    "                if fit_spulse[i][2][0] != 0:\n",
    "                    phase_comp.append(fit_spulse[i][2][0])\n",
    "                    frequency_comp.append(fit_spulse[i][0])\n",
    "                    comp_err.append(fit_spulse[i][3][3])\n",
    "        \n",
    "        return phase_comp, frequency_comp, comp_err    "
   ]
  },
  {
   "cell_type": "markdown",
   "metadata": {
    "colab_type": "text",
    "id": "eKWvXxMcEIfE"
   },
   "source": [
    "# INDIVIDUAL FREQUENCY BAND"
   ]
  },
  {
   "cell_type": "markdown",
   "metadata": {
    "colab_type": "text",
    "id": "HsEW4YA0D-QH"
   },
   "source": [
    "## Importing Data"
   ]
  },
  {
   "cell_type": "markdown",
   "metadata": {
    "colab_type": "text",
    "id": "5aCGkE3ZYbBM"
   },
   "source": [
    "Data must be in text file format from software pdv.\n",
    "Also must contain time scrunched data so that the first column of numbers is always 0 (only one pulse). "
   ]
  },
  {
   "cell_type": "code",
   "execution_count": 77,
   "metadata": {
    "colab": {},
    "colab_type": "code",
    "id": "4ieR-2IlfGA_"
   },
   "outputs": [],
   "source": [
    "fulldatatype=([('pulse','i8'),('frequency','i8'),('phase','i8'),('intensity','f8')])"
   ]
  },
  {
   "cell_type": "code",
   "execution_count": 78,
   "metadata": {
    "colab": {},
    "colab_type": "code",
    "id": "o9kgY0kqfIrQ"
   },
   "outputs": [],
   "source": [
    "single_pulse = np.loadtxt(fname='../archivefiles/s_archivefiles/f256/pdv/pulse_1503960531.pdv', dtype=fulldatatype)"
   ]
  },
  {
   "cell_type": "code",
   "execution_count": 79,
   "metadata": {
    "colab": {},
    "colab_type": "code",
    "id": "Wfp5R_xond9z"
   },
   "outputs": [],
   "source": [
    "no_freq_bands = max(single_pulse['frequency'])+1"
   ]
  },
  {
   "cell_type": "markdown",
   "metadata": {},
   "source": [
    "## Gaussian Fitting"
   ]
  },
  {
   "cell_type": "markdown",
   "metadata": {
    "colab_type": "text",
    "id": "MVQ_pgyRnofm"
   },
   "source": [
    "Choosing Frequency Band. Following Section is for error checking:"
   ]
  },
  {
   "cell_type": "code",
   "execution_count": 80,
   "metadata": {
    "colab": {},
    "colab_type": "code",
    "id": "mcIptVeffJXA"
   },
   "outputs": [],
   "source": [
    "freqband = 1\n",
    "f = single_pulse['frequency'] == freqband\n",
    "\n",
    "phase=single_pulse['phase'][f]\n",
    "intensity=single_pulse['intensity'][f]\n",
    "x = phase\n",
    "y = intensity"
   ]
  },
  {
   "cell_type": "code",
   "execution_count": 81,
   "metadata": {},
   "outputs": [
    {
     "data": {
      "text/plain": [
       "1024"
      ]
     },
     "execution_count": 81,
     "metadata": {},
     "output_type": "execute_result"
    }
   ],
   "source": [
    "len(y)"
   ]
  },
  {
   "cell_type": "code",
   "execution_count": 82,
   "metadata": {
    "colab": {},
    "colab_type": "code",
    "id": "o9L0EPsL2JrT"
   },
   "outputs": [
    {
     "data": {
      "text/plain": [
       "[<matplotlib.lines.Line2D at 0x7fa2a8344dd8>]"
      ]
     },
     "execution_count": 82,
     "metadata": {},
     "output_type": "execute_result"
    },
    {
     "data": {
      "image/png": "[encoded data removed]",
      "text/plain": [
       "<matplotlib.figure.Figure at 0x7fa2adfdaba8>"
      ]
     },
     "metadata": {},
     "output_type": "display_data"
    }
   ],
   "source": [
    "py.plot(x,y)"
   ]
  },
  {
   "cell_type": "code",
   "execution_count": 83,
   "metadata": {},
   "outputs": [
    {
     "name": "stdout",
     "output_type": "stream",
     "text": [
      "11.2528875706175\n"
     ]
    }
   ],
   "source": [
    "noise = sigmaClip(y)\n",
    "error = np.nanstd(noise[1])\n",
    "print(error)"
   ]
  },
  {
   "cell_type": "markdown",
   "metadata": {
    "colab_type": "text",
    "id": "2hhQErp8ntli"
   },
   "source": [
    "Gaussian Plots"
   ]
  },
  {
   "cell_type": "code",
   "execution_count": 84,
   "metadata": {
    "colab": {},
    "colab_type": "code",
    "id": "nvTDzWP-WMAh"
   },
   "outputs": [
    {
     "data": {
      "image/png": "[encoded data removed]",
      "text/plain": [
       "<matplotlib.figure.Figure at 0x7fa2a859c048>"
      ]
     },
     "metadata": {},
     "output_type": "display_data"
    }
   ],
   "source": [
    "fit, params, sigma, chi=fitting_gaussians(x,y,error)"
   ]
  },
  {
   "cell_type": "code",
   "execution_count": 85,
   "metadata": {},
   "outputs": [
    {
     "name": "stdout",
     "output_type": "stream",
     "text": [
      "[407 816]\n"
     ]
    },
    {
     "name": "stderr",
     "output_type": "stream",
     "text": [
      "/usr/lib/python3/dist-packages/ipykernel_launcher.py:1: DeprecationWarning: elementwise comparison failed; this will raise an error in the future.\n",
      "  \"\"\"Entry point for launching an IPython kernel.\n"
     ]
    },
    {
     "data": {
      "image/png": "[encoded data removed]",
      "text/plain": [
       "<matplotlib.figure.Figure at 0x7fa2a83b31d0>"
      ]
     },
     "metadata": {},
     "output_type": "display_data"
    }
   ],
   "source": [
    "if fit!=[]:\n",
    "    pulse_subp = gauss_peaks(fit, no_freq_bands, freqband, sigma)\n",
    "    plot_peaks(x,y, pulse_subp)"
   ]
  },
  {
   "cell_type": "markdown",
   "metadata": {
    "colab_type": "text",
    "id": "er13GCy-EUTz"
   },
   "source": [
    "# INDIVIDUAL PULSE"
   ]
  },
  {
   "cell_type": "markdown",
   "metadata": {},
   "source": [
    "## Gaussian Fitting "
   ]
  },
  {
   "cell_type": "markdown",
   "metadata": {
    "colab_type": "text",
    "id": "dUDXQCiVhOyH"
   },
   "source": [
    "The following is a looped version of the previous section to find the correct peaks for each frequency profile"
   ]
  },
  {
   "cell_type": "code",
   "execution_count": 86,
   "metadata": {
    "colab": {},
    "colab_type": "code",
    "id": "vJ4G8wv8tQOe"
   },
   "outputs": [],
   "source": [
    "fit_spulse = []"
   ]
  },
  {
   "cell_type": "code",
   "execution_count": 87,
   "metadata": {},
   "outputs": [
    {
     "name": "stderr",
     "output_type": "stream",
     "text": [
      "/home/lisasmith/.local/lib/python3.6/site-packages/numpy/lib/nanfunctions.py:1666: RuntimeWarning: Degrees of freedom <= 0 for slice.\n",
      "  keepdims=keepdims)\n",
      "/home/lisasmith/.local/lib/python3.6/site-packages/numpy/lib/nanfunctions.py:1112: RuntimeWarning: Mean of empty slice\n",
      "  return np.nanmean(a, axis, out=out, keepdims=keepdims)\n",
      "/usr/lib/python3/dist-packages/ipykernel_launcher.py:15: DeprecationWarning: elementwise comparison failed; this will raise an error in the future.\n",
      "  from ipykernel import kernelapp as app\n"
     ]
    },
    {
     "name": "stdout",
     "output_type": "stream",
     "text": [
      "[407 816]\n",
      "[396 517]\n",
      "[395 539]\n",
      "[394 570]\n",
      "[425 733]\n",
      "[392]\n",
      "[389 510]\n",
      "[388 485]\n",
      "[439 752]\n",
      "[384 679]\n",
      "[382 490]\n",
      "[380 555]\n"
     ]
    },
    {
     "data": {
      "image/png": "[encoded data removed]",
      "text/plain": [
       "<matplotlib.figure.Figure at 0x7fa2a84d2710>"
      ]
     },
     "metadata": {},
     "output_type": "display_data"
    }
   ],
   "source": [
    "for i in range(no_freq_bands):\n",
    "    \n",
    "    freqband = i\n",
    "  \n",
    "    f = single_pulse['frequency'] == freqband\n",
    "\n",
    "    x=single_pulse['phase'][f]\n",
    "    y=single_pulse['intensity'][f]\n",
    "    \n",
    "    noise = sigmaClip(y)\n",
    "    error = np.nanstd(noise[1])\n",
    "    \n",
    "    fit, params, sigma, chi=fitting_gaussians(x,y,error)\n",
    "        \n",
    "    if fit!=[]:\n",
    "        pulse_subp = gauss_peaks(fit, no_freq_bands, freqband, sigma)\n",
    "        fit_spulse.append(pulse_subp)\n",
    "    "
   ]
  },
  {
   "cell_type": "markdown",
   "metadata": {
    "colab_type": "text",
    "id": "6a03g77-gZa5"
   },
   "source": [
    "# Change of Peak Position over Frequency"
   ]
  },
  {
   "cell_type": "markdown",
   "metadata": {
    "colab_type": "text",
    "id": "IGeyAoMhEduw"
   },
   "source": [
    "## Fit Peaks (fit_components)"
   ]
  },
  {
   "cell_type": "markdown",
   "metadata": {
    "colab_type": "text",
    "id": "KszZ-DmF3pTJ"
   },
   "source": [
    "Starting to graph out all the movement of component phase across frequency\n",
    "\n",
    "---\n",
    "\n"
   ]
  },
  {
   "cell_type": "code",
   "execution_count": 88,
   "metadata": {},
   "outputs": [
    {
     "data": {
      "text/plain": [
       "[pulse_sub(frequency=486.6666666666667, sub1=component(phase=0, intensity=0), sub2=component(phase=0, intensity=0), errors=array([ 4.51822736,  4.85274563,  2.02199139, 62.76421182, 61.73187009,\n",
       "        0.58865757])),\n",
       " pulse_sub(frequency=473.33333333333337, sub1=component(phase=139.21875, intensity=36.20747933534053), sub2=component(phase=181.7578125, intensity=9.453292560555614), errors=array([ 1.35434183,  1.44395351,  3.05284325, 16.34617581, 14.80860508,\n",
       "        0.8948078 ])),\n",
       " pulse_sub(frequency=460.0, sub1=component(phase=138.8671875, intensity=41.94921965039786), sub2=component(phase=189.4921875, intensity=11.956732652239397), errors=array([ 0.92401111,  0.98543435,  3.26010034, 11.14170248, 10.76449233,\n",
       "        0.88318958])),\n",
       " pulse_sub(frequency=446.6666666666667, sub1=component(phase=138.515625, intensity=48.40667811386133), sub2=component(phase=200.390625, intensity=11.451134999209264), errors=array([ 0.78645069,  0.81277709,  3.32642682, 13.99696994, 13.51591428,\n",
       "        0.71131093])),\n",
       " pulse_sub(frequency=433.33333333333337, sub1=component(phase=0, intensity=0), sub2=component(phase=257.6953125, intensity=9.041669177614741), errors=array([ 3.64632895,  3.64632895,  1.74310635,  2.14963751,  2.14963747,\n",
       "       10.60782295])),\n",
       " pulse_sub(frequency=420.0, sub1=component(phase=137.8125, intensity=71.28928353415596), sub2=component(phase=0, intensity=0), errors=array([0.65926507, 0.65926507, 4.79214384, 0.        , 0.        ,\n",
       "       1.51055883])),\n",
       " pulse_sub(frequency=393.33333333333337, sub1=component(phase=136.7578125, intensity=123.72336752085207), sub2=component(phase=179.296875, intensity=19.89438146383869), errors=array([ 0.34930061,  0.35985283,  6.21885505, 10.00766189,  9.58716777,\n",
       "        1.27295404])),\n",
       " pulse_sub(frequency=380.0, sub1=component(phase=136.40625, intensity=89.98566656342801), sub2=component(phase=0, intensity=0), errors=array([ 0.57286362,  0.59510988,  5.26920571, 16.41849667, 15.5211907 ,\n",
       "        1.27114632])),\n",
       " pulse_sub(frequency=353.3333333333333, sub1=component(phase=0, intensity=0), sub2=component(phase=0, intensity=0), errors=array([ 6.58224646,  9.26591198,  3.38636136, 17.01778093, 18.76289259,\n",
       "        1.33240786])),\n",
       " pulse_sub(frequency=340.0, sub1=component(phase=135.0, intensity=152.46243089050998), sub2=component(phase=238.7109375, intensity=41.502516168309526), errors=array([ 0.52295169,  0.53448439,  6.97171798, 11.57499968, 12.97835338,\n",
       "        1.25540813])),\n",
       " pulse_sub(frequency=326.6666666666667, sub1=component(phase=134.296875, intensity=134.04999174783518), sub2=component(phase=0, intensity=0), errors=array([ 0.57941013,  0.60213193,  7.49921999, 11.34161558, 10.67216269,\n",
       "        1.79151393])),\n",
       " pulse_sub(frequency=313.3333333333333, sub1=component(phase=133.59375, intensity=74.89779209108484), sub2=component(phase=195.1171875, intensity=9.453162469107188), errors=array([ 0.72504123,  0.77288818,  4.70760486, 20.24386194, 20.84285093,\n",
       "        1.36230234]))]"
      ]
     },
     "execution_count": 88,
     "metadata": {},
     "output_type": "execute_result"
    }
   ],
   "source": [
    "fit_spulse"
   ]
  },
  {
   "cell_type": "code",
   "execution_count": 89,
   "metadata": {},
   "outputs": [],
   "source": [
    "phase_comp1, frequency_comp1, comp1_err=graphing_spulse(fit_spulse,1)"
   ]
  },
  {
   "cell_type": "code",
   "execution_count": 90,
   "metadata": {
    "colab": {
     "base_uri": "https://localhost:8080/"
    },
    "colab_type": "code",
    "id": "N8lXroZey117",
    "outputId": "8321d6fb-90a5-49c6-bda7-b25cc8ee3845"
   },
   "outputs": [
    {
     "data": {
      "text/plain": [
       "Text(0,0.5,'Frequency')"
      ]
     },
     "execution_count": 90,
     "metadata": {},
     "output_type": "execute_result"
    },
    {
     "data": {
      "image/png": "[encoded data removed]",
      "text/plain": [
       "<matplotlib.figure.Figure at 0x7fa2a8388400>"
      ]
     },
     "metadata": {},
     "output_type": "display_data"
    }
   ],
   "source": [
    "#py.plot(phase_comp1,frequency_comp1, '.')\n",
    "py.errorbar(phase_comp1,frequency_comp1, xerr=comp1_err, fmt='.', lw=1, label='data')\n",
    "py.title('Component 1 - Fit Peaks')\n",
    "py.xlabel('Phase (deg)')\n",
    "py.ylabel('Frequency')"
   ]
  },
  {
   "cell_type": "code",
   "execution_count": 91,
   "metadata": {},
   "outputs": [],
   "source": [
    "phase_comp2, frequency_comp2, comp2_err=graphing_spulse(fit_spulse,2)"
   ]
  },
  {
   "cell_type": "code",
   "execution_count": 92,
   "metadata": {
    "colab": {
     "base_uri": "https://localhost:8080/"
    },
    "colab_type": "code",
    "id": "BaWU8_f424bZ",
    "outputId": "cf955db3-63ae-4a41-ee12-bf4ea0d269d1"
   },
   "outputs": [
    {
     "data": {
      "text/plain": [
       "Text(0,0.5,'Frequency')"
      ]
     },
     "execution_count": 92,
     "metadata": {},
     "output_type": "execute_result"
    },
    {
     "data": {
      "image/png": "[encoded data removed]",
      "text/plain": [
       "<matplotlib.figure.Figure at 0x7fa2a830f358>"
      ]
     },
     "metadata": {},
     "output_type": "display_data"
    }
   ],
   "source": [
    "#py.plot(phase_comp2,frequency_comp2, '.')\n",
    "py.errorbar(phase_comp2,frequency_comp2, xerr=comp2_err, fmt='.', lw=1, label='data')\n",
    "py.title('Component 2 - Fit Peaks')\n",
    "py.xlabel('Phase Bin (deg)')\n",
    "py.ylabel('Frequency')"
   ]
  },
  {
   "cell_type": "markdown",
   "metadata": {
    "colab_type": "text",
    "id": "onWmCTwBgzh2"
   },
   "source": [
    "# Fitting Power Laws to Position"
   ]
  },
  {
   "cell_type": "markdown",
   "metadata": {
    "colab_type": "text",
    "id": "pRvVTEsj_64Q"
   },
   "source": [
    "## Component 1"
   ]
  },
  {
   "cell_type": "code",
   "execution_count": 93,
   "metadata": {
    "colab": {},
    "colab_type": "code",
    "id": "Eb9tysocAfn3"
   },
   "outputs": [],
   "source": [
    "thorsett_params1,thorsett_cov1=curve_fit(thorsett,frequency_comp1,phase_comp1, maxfev=100000, sigma=comp1_err)\n",
    "thorsett_fit_error1=np.sqrt(np.diag(thorsett_cov1))\n",
    "thorsett1 = thorsett(frequency_comp1, *thorsett_params1)"
   ]
  },
  {
   "cell_type": "code",
   "execution_count": 94,
   "metadata": {
    "colab": {
     "base_uri": "https://localhost:8080/",
     "height": 53
    },
    "colab_type": "code",
    "id": "hCGGghN8A7BA",
    "outputId": "eaa7f557-4804-425e-96ae-83056ba13eca"
   },
   "outputs": [],
   "source": [
    "pl_params1,pl_cov1=curve_fit(powerlaw,frequency_comp1,phase_comp1, maxfev=100000, sigma=comp1_err)\n",
    "pl_fit_error1=np.sqrt(np.diag(pl_cov1))\n",
    "powerlaw1 = powerlaw(frequency_comp1, *pl_params1)"
   ]
  },
  {
   "cell_type": "code",
   "execution_count": 95,
   "metadata": {},
   "outputs": [
    {
     "ename": "TypeError",
     "evalue": "can't multiply sequence by non-int of type 'float'",
     "output_type": "error",
     "traceback": [
      "\u001b[0;31m---------------------------------------------------------------------------\u001b[0m",
      "\u001b[0;31mTypeError\u001b[0m                                 Traceback (most recent call last)",
      "\u001b[0;32m<ipython-input-95-d9c1bc7835e8>\u001b[0m in \u001b[0;36m<module>\u001b[0;34m()\u001b[0m\n\u001b[1;32m      1\u001b[0m \u001b[0mmov_params1\u001b[0m\u001b[0;34m,\u001b[0m\u001b[0mmov_cov1\u001b[0m\u001b[0;34m=\u001b[0m\u001b[0mcurve_fit\u001b[0m\u001b[0;34m(\u001b[0m\u001b[0mlinear\u001b[0m\u001b[0;34m,\u001b[0m\u001b[0mfrequency_comp1\u001b[0m\u001b[0;34m,\u001b[0m\u001b[0mphase_comp1\u001b[0m\u001b[0;34m,\u001b[0m \u001b[0mmaxfev\u001b[0m\u001b[0;34m=\u001b[0m\u001b[0;36m100000\u001b[0m\u001b[0;34m,\u001b[0m \u001b[0msigma\u001b[0m\u001b[0;34m=\u001b[0m\u001b[0mcomp1_err\u001b[0m\u001b[0;34m)\u001b[0m\u001b[0;34m\u001b[0m\u001b[0;34m\u001b[0m\u001b[0m\n\u001b[1;32m      2\u001b[0m \u001b[0mmov_fit_error1\u001b[0m\u001b[0;34m=\u001b[0m\u001b[0mnp\u001b[0m\u001b[0;34m.\u001b[0m\u001b[0msqrt\u001b[0m\u001b[0;34m(\u001b[0m\u001b[0mnp\u001b[0m\u001b[0;34m.\u001b[0m\u001b[0mdiag\u001b[0m\u001b[0;34m(\u001b[0m\u001b[0mmov_cov1\u001b[0m\u001b[0;34m)\u001b[0m\u001b[0;34m)\u001b[0m\u001b[0;34m\u001b[0m\u001b[0;34m\u001b[0m\u001b[0m\n\u001b[0;32m----> 3\u001b[0;31m \u001b[0mlinear1\u001b[0m \u001b[0;34m=\u001b[0m \u001b[0mlinear\u001b[0m\u001b[0;34m(\u001b[0m\u001b[0mfrequency_comp1\u001b[0m\u001b[0;34m,\u001b[0m \u001b[0;34m*\u001b[0m\u001b[0mmov_params1\u001b[0m\u001b[0;34m)\u001b[0m\u001b[0;34m\u001b[0m\u001b[0;34m\u001b[0m\u001b[0m\n\u001b[0m",
      "\u001b[0;32m<ipython-input-75-088a02011cc6>\u001b[0m in \u001b[0;36mlinear\u001b[0;34m(x, m, c)\u001b[0m\n\u001b[1;32m      1\u001b[0m \u001b[0;32mdef\u001b[0m \u001b[0mlinear\u001b[0m\u001b[0;34m(\u001b[0m\u001b[0mx\u001b[0m\u001b[0;34m,\u001b[0m \u001b[0mm\u001b[0m\u001b[0;34m,\u001b[0m \u001b[0mc\u001b[0m\u001b[0;34m)\u001b[0m\u001b[0;34m:\u001b[0m\u001b[0;34m\u001b[0m\u001b[0;34m\u001b[0m\u001b[0m\n\u001b[0;32m----> 2\u001b[0;31m     \u001b[0;32mreturn\u001b[0m \u001b[0;34m(\u001b[0m\u001b[0mfloat\u001b[0m\u001b[0;34m(\u001b[0m\u001b[0mm\u001b[0m\u001b[0;34m)\u001b[0m\u001b[0;34m*\u001b[0m\u001b[0mx\u001b[0m\u001b[0;34m+\u001b[0m\u001b[0mc\u001b[0m\u001b[0;34m)\u001b[0m\u001b[0;34m\u001b[0m\u001b[0;34m\u001b[0m\u001b[0m\n\u001b[0m",
      "\u001b[0;31mTypeError\u001b[0m: can't multiply sequence by non-int of type 'float'"
     ]
    }
   ],
   "source": [
    "mov_params1,mov_cov1=curve_fit(linear,frequency_comp1,phase_comp1, maxfev=100000, sigma=comp1_err)\n",
    "mov_fit_error1=np.sqrt(np.diag(mov_cov1))\n",
    "linear1 = linear(frequency_comp1, *mov_params1)"
   ]
  },
  {
   "cell_type": "code",
   "execution_count": 96,
   "metadata": {
    "colab": {
     "base_uri": "https://localhost:8080/",
     "height": 300
    },
    "colab_type": "code",
    "id": "oY7ok57vApBN",
    "outputId": "c54100cc-1569-4c6b-fb74-c413acbdf635"
   },
   "outputs": [
    {
     "data": {
      "text/plain": [
       "<matplotlib.legend.Legend at 0x7fa2a8420c50>"
      ]
     },
     "execution_count": 96,
     "metadata": {},
     "output_type": "execute_result"
    },
    {
     "data": {
      "image/png": "[encoded data removed]",
      "text/plain": [
       "<matplotlib.figure.Figure at 0x7fa2a83ef6d8>"
      ]
     },
     "metadata": {},
     "output_type": "display_data"
    }
   ],
   "source": [
    "#py.plot(frequency_comp1,phase_comp1, '.', label='data')\n",
    "py.errorbar(frequency_comp1,phase_comp1, yerr=comp1_err, fmt='.', lw=1, label='data')\n",
    "py.plot(frequency_comp1,thorsett1, color='red',lw=2,label='thorsett')\n",
    "py.plot(frequency_comp1,powerlaw1, color='orange',lw=2,label='powerlaw')\n",
    "py.title('Sub-Pulse Position')\n",
    "py.xlabel('Frequency')\n",
    "py.ylabel('Phase (deg)')\n",
    "py.legend(loc='lower right')"
   ]
  },
  {
   "cell_type": "code",
   "execution_count": 97,
   "metadata": {
    "colab": {
     "base_uri": "https://localhost:8080/",
     "height": 107
    },
    "colab_type": "code",
    "id": "l11_3C1ODT_d",
    "outputId": "ad79532a-bd1b-457e-afde-75b291f318c1"
   },
   "outputs": [
    {
     "name": "stdout",
     "output_type": "stream",
     "text": [
      "The thorsett equation of fit for this pulse is: \t Phase = 8219.726 ν^0.002 + -8162.806 \n",
      "\n",
      "The power law equation of fit for this pulse is: \t Phase = 75.914 ν^0.099 \n",
      "\n",
      "Units for Δθ is degrees and ν is MHz\n"
     ]
    }
   ],
   "source": [
    "#chi, p = sp.stats.chisquare(phase_comp1, mov_fit1)\n",
    "print(f'The thorsett equation of fit for this pulse is: \\t Phase = {thorsett_params1[0]:.3f} \\u03BD^{thorsett_params1[1]:.3f} + {thorsett_params1[2]:.3f} \\n')\n",
    "#print(f'The errors are {sep_fit_error[0]:.3f}, {sep_fit_error[1]:.3f}, {sep_fit_error[2]:.3f} ')\n",
    "\n",
    "print(f'The power law equation of fit for this pulse is: \\t Phase = {pl_params1[0]:.3f} \\u03BD^{pl_params1[1]:.3f} \\n')\n",
    "#print('The chi squared value for the fit is: ', chi)\n",
    "print('Units for \\u0394\\u03B8 is degrees and \\u03BD is MHz')"
   ]
  },
  {
   "cell_type": "markdown",
   "metadata": {},
   "source": [
    "## Component 2"
   ]
  },
  {
   "cell_type": "code",
   "execution_count": null,
   "metadata": {},
   "outputs": [],
   "source": [
    "mov_params2,mov_cov2=curve_fit(powerlaw,frequency_comp2,phase_comp2, maxfev=100000)\n",
    "mov_fit_error2=np.sqrt(np.diag(mov_cov2))"
   ]
  },
  {
   "cell_type": "code",
   "execution_count": null,
   "metadata": {},
   "outputs": [],
   "source": [
    "print(mov_params2)\n",
    "print(mov_fit_error2)\n",
    "mov_fit2 = powerlaw(frequency_comp2, *mov_params2)"
   ]
  },
  {
   "cell_type": "code",
   "execution_count": null,
   "metadata": {},
   "outputs": [],
   "source": [
    "py.plot(frequency_comp2,phase_comp2, '.', label='data')\n",
    "py.plot(frequency_comp2,mov_fit2, color='red',lw=1,label='power fit')\n",
    "py.xlabel('Frequency')\n",
    "py.ylabel('Phase (deg)')"
   ]
  },
  {
   "cell_type": "code",
   "execution_count": null,
   "metadata": {},
   "outputs": [],
   "source": [
    "chi, p = sp.stats.chisquare(phase_comp2, mov_fit2)\n",
    "print(f'The equation of fit for this pulse is: \\t Phase = {mov_params2[0]:.3f} \\u03BD^{mov_params2[1]:.3f} + {mov_params2[2]:.3f} \\n')\n",
    "#print(f'The errors are {sep_fit_error[0]:.3f}, {sep_fit_error[1]:.3f}, {sep_fit_error[2]:.3f} ')\n",
    "print('The chi squared value for the fit is: ', chi)\n",
    "print('Units for \\u0394\\u03B8 is degrees and \\u03BD is MHz')"
   ]
  },
  {
   "cell_type": "markdown",
   "metadata": {},
   "source": [
    "### Component 2 - Linear"
   ]
  },
  {
   "cell_type": "code",
   "execution_count": null,
   "metadata": {},
   "outputs": [],
   "source": [
    "def linear(x, a, b):\n",
    "    return (a*x)+b"
   ]
  },
  {
   "cell_type": "code",
   "execution_count": null,
   "metadata": {},
   "outputs": [],
   "source": [
    "mov_lin_params2,mov_lin_cov2=curve_fit(linear,frequency_comp2,phase_comp2, maxfev=100000)\n",
    "mov_lin_error2=np.sqrt(np.diag(mov_lin_cov2))"
   ]
  },
  {
   "cell_type": "code",
   "execution_count": null,
   "metadata": {},
   "outputs": [],
   "source": [
    "print(mov_lin_params2)\n",
    "print(mov_lin_error2)\n",
    "mov_lin_fit2 = linear(frequency_comp2, *mov_lin_params2)"
   ]
  },
  {
   "cell_type": "code",
   "execution_count": null,
   "metadata": {},
   "outputs": [],
   "source": [
    "py.plot(frequency_comp2,phase_comp2, '.', label='data')\n",
    "py.plot(frequency_comp2,mov_lin_fit2, color='red',lw=1,label='power fit')\n",
    "py.xlabel('Frequency')\n",
    "py.ylabel('Phase (deg)')"
   ]
  },
  {
   "cell_type": "markdown",
   "metadata": {},
   "source": [
    "# ALL PULSES"
   ]
  },
  {
   "cell_type": "code",
   "execution_count": null,
   "metadata": {},
   "outputs": [],
   "source": [
    "#LOOP THE IMPORT OF DATA\n",
    "#FOR EACH PULSE DO THE FOLLOWING\n",
    "\n",
    "\n",
    "\n",
    "    fit_spulse = []\n",
    "    \n",
    "    for i in range(no_freq_bands):\n",
    "        freqband = i\n",
    "        f = single_pulse['frequency'] == freqband\n",
    "\n",
    "        x=single_pulse['phase'][f]\n",
    "        y=single_pulse['intensity'][f]\n",
    "    \n",
    "        noise = sigmaClip(y)\n",
    "        error = np.nanstd(noise[1])\n",
    "    \n",
    "        fit, params, sigma, chi=fitting_gaussians(x,y,error)\n",
    "        \n",
    "        if fit!=[]:\n",
    "            pulse_subp = gauss_peaks(fit, no_freq_bands, freqband, sigma)\n",
    "            fit_spulse.append(pulse_subp)\n",
    "    \n",
    "    phase_comp1, frequency_comp1, comp1_err=graphing_spulse(fit_spulse,1)\n",
    "    phase_comp2, frequency_comp2, comp2_err=graphing_spulse(fit_spulse,2)\n",
    "    \n",
    "    \n",
    "    \n",
    "                \n",
    " \n",
    "        "
   ]
  }
 ],
 "metadata": {
  "colab": {
   "collapsed_sections": [
    "4z_feS2dDwlJ",
    "FamzMgIcD2xs",
    "HsEW4YA0D-QH",
    "eKWvXxMcEIfE",
    "er13GCy-EUTz",
    "6a03g77-gZa5",
    "IGeyAoMhEduw",
    "Y1RZQ9SHcgOZ",
    "pccDpOhFgn-A",
    "KZFBrw4AEiXX",
    "jBHxooGJctvn",
    "S8Wdb29Jkmx7",
    "G6J_t2-wlTKi",
    "8WslQQJrq_Aj",
    "-PbPFKZBj1oi",
    "BAAAMssWpRQc"
   ],
   "name": "Component Separation - RFI Removed.ipynb",
   "provenance": []
  },
  "kernelspec": {
   "display_name": "Python 3",
   "language": "python",
   "name": "python3"
  },
  "language_info": {
   "codemirror_mode": {
    "name": "ipython",
    "version": 3
   },
   "file_extension": ".py",
   "mimetype": "text/x-python",
   "name": "python",
   "nbconvert_exporter": "python",
   "pygments_lexer": "ipython3",
   "version": "3.6.8"
  }
 },
 "nbformat": 4,
 "nbformat_minor": 1
}
