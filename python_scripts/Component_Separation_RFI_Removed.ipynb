{
 "cells": [
  {
   "cell_type": "markdown",
   "metadata": {
    "colab_type": "text",
    "id": "4z_feS2dDwlJ"
   },
   "source": [
    "# Importing Packages Needed"
   ]
  },
  {
   "cell_type": "code",
   "execution_count": 63,
   "metadata": {
    "colab": {},
    "colab_type": "code",
    "id": "zJLqZxwce0pN"
   },
   "outputs": [],
   "source": [
    "import numpy as np"
   ]
  },
  {
   "cell_type": "code",
   "execution_count": 64,
   "metadata": {
    "colab": {},
    "colab_type": "code",
    "id": "I-sMZfzHe87d"
   },
   "outputs": [],
   "source": [
    "import scipy as sp"
   ]
  },
  {
   "cell_type": "code",
   "execution_count": 65,
   "metadata": {
    "colab": {},
    "colab_type": "code",
    "id": "osUA_fqWfB8I"
   },
   "outputs": [],
   "source": [
    "import matplotlib.pyplot as py"
   ]
  },
  {
   "cell_type": "code",
   "execution_count": 66,
   "metadata": {
    "colab": {},
    "colab_type": "code",
    "id": "EI8CExhqOkaC"
   },
   "outputs": [],
   "source": [
    "from scipy.optimize import curve_fit"
   ]
  },
  {
   "cell_type": "code",
   "execution_count": 67,
   "metadata": {
    "colab": {},
    "colab_type": "code",
    "id": "FTNsckCiZ_s4"
   },
   "outputs": [],
   "source": [
    "from scipy.signal import find_peaks"
   ]
  },
  {
   "cell_type": "code",
   "execution_count": 68,
   "metadata": {
    "colab": {},
    "colab_type": "code",
    "id": "PUtMS_hIaHat"
   },
   "outputs": [],
   "source": [
    "import collections as col"
   ]
  },
  {
   "cell_type": "markdown",
   "metadata": {
    "colab_type": "text",
    "id": "FamzMgIcD2xs"
   },
   "source": [
    "# Definition of Named Tuples"
   ]
  },
  {
   "cell_type": "code",
   "execution_count": 69,
   "metadata": {
    "colab": {},
    "colab_type": "code",
    "id": "Uzxt0sq0qeHc"
   },
   "outputs": [],
   "source": [
    "component = col.namedtuple('component','phase intensity')"
   ]
  },
  {
   "cell_type": "code",
   "execution_count": 70,
   "metadata": {
    "colab": {},
    "colab_type": "code",
    "id": "dX49jpTnTzy0"
   },
   "outputs": [],
   "source": [
    "ind_component = col.namedtuple('component','phase intensity width')"
   ]
  },
  {
   "cell_type": "code",
   "execution_count": 71,
   "metadata": {
    "colab": {},
    "colab_type": "code",
    "id": "MdsAp5qWIre5"
   },
   "outputs": [],
   "source": [
    "pulse_component = col.namedtuple('pulse_component','frequency comp1 comp2, errors')"
   ]
  },
  {
   "cell_type": "code",
   "execution_count": 72,
   "metadata": {
    "colab": {},
    "colab_type": "code",
    "id": "xDOdqB5tIrt5"
   },
   "outputs": [],
   "source": [
    "component_separation = col.namedtuple('component_separation','frequency separation')"
   ]
  },
  {
   "cell_type": "markdown",
   "metadata": {
    "colab_type": "text",
    "id": "a8CeXWdQIy8b"
   },
   "source": [
    "# Definition of Functions"
   ]
  },
  {
   "cell_type": "markdown",
   "metadata": {
    "colab_type": "text",
    "id": "nOegi6c8I3gu"
   },
   "source": [
    "Gaussian Fitting Functions:"
   ]
  },
  {
   "cell_type": "code",
   "execution_count": 73,
   "metadata": {
    "colab": {},
    "colab_type": "code",
    "id": "Jf6ae6VTR-iR"
   },
   "outputs": [],
   "source": [
    "def gauss(x,cen,sd,amp):\n",
    "    return amp*np.exp(-(x-cen)**2/2/sd**2)\n",
    "\n",
    "def threegauss(x,cen1,sd1,amp1,cen2,sd2,amp2,cen3,sd3,amp3):\n",
    "    return gauss(x,cen1,sd1,amp1)+gauss(x,cen2,sd2,amp2)+gauss(x,cen3,sd3,amp3)"
   ]
  },
  {
   "cell_type": "code",
   "execution_count": 74,
   "metadata": {
    "colab": {},
    "colab_type": "code",
    "id": "zWylwCBKV8SL"
   },
   "outputs": [],
   "source": [
    "def fitting_parameters(x,y,expected):\n",
    "    params,cov=curve_fit(threegauss,x,y,expected)\n",
    "    sigma=np.sqrt(np.diag(cov))\n",
    "    return params, sigma\n",
    "\n",
    "def gauss_fit(x,params):\n",
    "    return threegauss(x,*params)"
   ]
  },
  {
   "cell_type": "markdown",
   "metadata": {
    "colab_type": "text",
    "id": "Hf__MEBnJEd_"
   },
   "source": [
    "Finding Peak of Fittings Function"
   ]
  },
  {
   "cell_type": "code",
   "execution_count": 75,
   "metadata": {
    "colab": {},
    "colab_type": "code",
    "id": "iIp9ZS-sZYIZ"
   },
   "outputs": [],
   "source": [
    "def gauss_peaks(fit, nofreqband, freqband, sigma):\n",
    "    status='starting'\n",
    "  \n",
    "    i=3\n",
    "    peakpos = find_peaks(fit, prominence=i, distance=50, height=i)[0]\n",
    "\n",
    "    while len(peakpos) !=2 and i>=1 and i<5:\n",
    "        if len(peakpos) < 2:\n",
    "            i=i-0.5\n",
    "            peakpos = find_peaks(fit, prominence=i, distance=50, height=1)[0]\n",
    "\n",
    "        elif len(peakpos) > 2:\n",
    "            i=i+0.5\n",
    "            peakpos = find_peaks(fit, prominence=i, distance=50, height=2)[0]\n",
    "    \n",
    "  #Can be used for error checking\n",
    "  #else:\n",
    "    #print('Loop done')\n",
    "    #print(i)\n",
    "\n",
    "    if len(peakpos) == 2:\n",
    "        status='pending'\n",
    "\n",
    "        if peakpos[0]>=300 and peakpos[0]<=535 and peakpos[1]>=650 and peakpos[1]<=800:\n",
    "            status='complete'\n",
    "        \n",
    "        else:\n",
    "            status='error'\n",
    "\n",
    "    else:\n",
    "        status='error'\n",
    "\n",
    "\n",
    "    if status=='complete':\n",
    "        component1 = component(phase=(360/1024)*peakpos[0], intensity=fit[peakpos[0]])\n",
    "        component2 = component(phase=(360/1024)*peakpos[1], intensity=fit[peakpos[1]])\n",
    "        errors = sigma\n",
    "  \n",
    "    elif status=='error':\n",
    "        component1 = component(phase=0, intensity=0)\n",
    "        component2 = component(phase=0, intensity=0)\n",
    "        errors = 0\n",
    "\n",
    "    else:\n",
    "        print(\"Error: Something not complete in peak finding\")\n",
    "\n",
    "    freq=(((500-300)/nofreqband)*(nofreqband-freqband))+300 \n",
    "\n",
    "    profile_comp = pulse_component(frequency=freq, comp1=component1, comp2=component2, errors=sigma)\n",
    "\n",
    "  #Can be used for error checking\n",
    "  #if status != 'error':\n",
    "    #plot_peaks(x,y,profile_comp)\n",
    "\n",
    "    return profile_comp"
   ]
  },
  {
   "cell_type": "code",
   "execution_count": 76,
   "metadata": {
    "colab": {},
    "colab_type": "code",
    "id": "45qhxkFmSYy2"
   },
   "outputs": [],
   "source": [
    "def ind_peaks(params, nofreqband, freqband, sigma):\n",
    "    status='starting'\n",
    "    uncert=[]\n",
    "\n",
    "    if params[0]<params[3] and params[0]<params[6] and params[0]>=300 and params[0]<=535:\n",
    "        component1 = ind_component(phase=(360/1024)*params[0], intensity=params[1], width=params[2])\n",
    "        uncert.extend((sigma[0], sigma[1], sigma[2]))\n",
    "        status='complete'\n",
    "    elif params[3]<params[0] and params[3]<params[6] and params[3]>=300 and params[3]<=535:\n",
    "        component1 = ind_component(phase=(360/1024)*params[3], intensity=params[4], width=params[5])\n",
    "        uncert.extend((sigma[3], sigma[4], sigma[5]))\n",
    "        status='complete'\n",
    "    elif params[6]<params[0] and params[6]<params[3] and params[6]>=300 and params[6]<=535:\n",
    "        component1 = ind_component(phase=(360/1024)*params[6], intensity=params[7], width=params[8])\n",
    "        uncert.extend((sigma[6], sigma[7], sigma[8]))\n",
    "        status='complete'\n",
    "    else:\n",
    "        component1 = ind_component(phase=0, intensity=0, width=0)\n",
    "        uncert.extend((0,0,0))\n",
    "        status='error'\n",
    "\n",
    "    if params[0]>params[3] and params[0]>params[6] and params[0]>=650 and params[0]<=800:\n",
    "        component2 = ind_component(phase=(360/1024)*params[0], intensity=params[1], width=params[2])\n",
    "        uncert.extend((sigma[0], sigma[1], sigma[2]))\n",
    "        status='complete'\n",
    "    elif params[3]>params[0] and params[3]>params[6] and params[3]>=650 and params[3]<=800:\n",
    "        component2 = ind_component(phase=(360/1024)*params[3], intensity=params[4], width=params[5])\n",
    "        uncert.extend((sigma[3], sigma[4], sigma[5]))\n",
    "        status='complete'\n",
    "    elif params[6]>params[0] and params[6]>params[3] and params[6]>=650 and params[6]<=800:\n",
    "        component2 = ind_component(phase=(360/1024)*params[6], intensity=params[7], width=params[8])\n",
    "        uncert.extend((sigma[6], sigma[7], sigma[8]))\n",
    "        status='complete'\n",
    "    else:\n",
    "        component2 = ind_component(phase=0, intensity=0, width=0)\n",
    "        uncert.extend((0,0,0))\n",
    "        status='error'\n",
    "\n",
    "    freq=(((500-300)/nofreqband)*(nofreqband-freqband))+300 \n",
    "\n",
    "    profile_comp = pulse_component(frequency=freq, comp1=component1, comp2=component2, errors=uncert)\n",
    "\n",
    "  #Can be used for error checking\n",
    "  #if status != 'error':\n",
    "    #plot_peaks(x,y,profile_comp)\n",
    "\n",
    "    return profile_comp"
   ]
  },
  {
   "cell_type": "markdown",
   "metadata": {
    "colab_type": "text",
    "id": "4P1qFLYpI9hB"
   },
   "source": [
    "Plotting Fittings Functions"
   ]
  },
  {
   "cell_type": "code",
   "execution_count": 77,
   "metadata": {
    "colab": {},
    "colab_type": "code",
    "id": "gPhqw8WaI8pp"
   },
   "outputs": [],
   "source": [
    "def plot_fit(x,y,fit,params,sigma):\n",
    "    py.plot(x, y, lw=0.5, label='data')\n",
    "    py.plot(x,fit, color='red',lw=3,label='gaussian fit')\n",
    "    py.xlabel('Phase Bin')\n",
    "    py.ylabel('Intensity')\n",
    "    py.legend()\n",
    "    return"
   ]
  },
  {
   "cell_type": "code",
   "execution_count": 78,
   "metadata": {
    "colab": {},
    "colab_type": "code",
    "id": "NmHjFzTFith2"
   },
   "outputs": [],
   "source": [
    "def plot_fill(x,y,params):\n",
    "    params1 = params[0:3]\n",
    "    params2 = params[3:6]\n",
    "    params3 = params[6:9]\n",
    "    gfit1 = gauss(x, *params1)\n",
    "    gfit2 = gauss(x, *params2)\n",
    "    gfit3 = gauss(x, *params3)\n",
    "\n",
    "\n",
    "    py.plot(x, y, lw=0.5, label='data')\n",
    "    py.plot(x,fit,color='red',lw=3,label='gaussian fit')\n",
    "    py.xlabel('Phase Bin')\n",
    "    py.ylabel('Intensity')\n",
    "    py.legend()\n",
    "\n",
    "    py.plot(x, gfit1, \"g\")\n",
    "    py.fill_between(x, gfit1.min(), gfit1, facecolor=\"green\", alpha=0.5)\n",
    "  \n",
    "    py.plot(x, gfit2, \"y\")\n",
    "    py.fill_between(x, gfit2.min(), gfit2, facecolor=\"yellow\", alpha=0.5)\n",
    "\n",
    "    py.plot(x, gfit3, \"b\")\n",
    "    py.fill_between(x, gfit3.min(), gfit3, facecolor=\"blue\", alpha=0.5)\n",
    "\n",
    "    return "
   ]
  },
  {
   "cell_type": "code",
   "execution_count": 79,
   "metadata": {
    "colab": {},
    "colab_type": "code",
    "id": "b6Y_oMHJbEEz"
   },
   "outputs": [],
   "source": [
    "def plot_peaks(x,y,profile_comp):\n",
    "    py.plot(x,y, lw=0.5)\n",
    "    py.plot(x, fit, color='red', lw=3, label='gaussian fit')\n",
    "\n",
    "    x=[profile_comp[i][0] for i in range(1,3)]\n",
    "    y=[profile_comp[i][1] for i in range(1,3)]\n",
    "\n",
    "    py.plot(x, y ,'X', markerfacecolor='black', markeredgecolor='black', label='peaks')\n",
    "\n",
    "    py.xlabel('Phase (deg)')\n",
    "    py.ylabel('Intensity')\n",
    "    py.legend()\n",
    "    return"
   ]
  },
  {
   "cell_type": "markdown",
   "metadata": {
    "colab_type": "text",
    "id": "L_oE3uFcsKkA"
   },
   "source": [
    "Functions for Fitting Separation Data"
   ]
  },
  {
   "cell_type": "code",
   "execution_count": 80,
   "metadata": {
    "colab": {},
    "colab_type": "code",
    "id": "EgEnQbxBujiH"
   },
   "outputs": [],
   "source": [
    "def separation_singleprofile(components_array, array_wuncert):\n",
    "    sep_array=[]\n",
    "    uncert=[]\n",
    "\n",
    "    for i in range(0,len(components_array)):\n",
    "        if components_array[i][1][0] != 0 and components_array[i][2][0] != 0:\n",
    "    \n",
    "            freq=components_array[i][0]\n",
    "            sep=(components_array[i][2][0]) - (components_array[i][1][0])\n",
    "\n",
    "            single_sep=component_separation(frequency=freq, separation=sep)\n",
    "\n",
    "            sep_array.append(single_sep)\n",
    "\n",
    "            uncert.append(np.sqrt((array_wuncert[i][3][0])**2 + (array_wuncert[i][3][3])**2))\n",
    "      \n",
    "    return sep_array, uncert"
   ]
  },
  {
   "cell_type": "code",
   "execution_count": 81,
   "metadata": {
    "colab": {},
    "colab_type": "code",
    "id": "_V1yQ0U5__mq"
   },
   "outputs": [],
   "source": [
    "def powerlaw(x, A, alpha, smin):\n",
    "    return (A * (x**(alpha)) + smin)"
   ]
  },
  {
   "cell_type": "markdown",
   "metadata": {
    "colab_type": "text",
    "id": "HsEW4YA0D-QH"
   },
   "source": [
    "# Importing Data"
   ]
  },
  {
   "cell_type": "markdown",
   "metadata": {
    "colab_type": "text",
    "id": "5aCGkE3ZYbBM"
   },
   "source": [
    "Data must be in text file format from software pdv.\n",
    "Also must contain time scrunched data so that the first column of numbers is always 0 (only one pulse). "
   ]
  },
  {
   "cell_type": "code",
   "execution_count": 82,
   "metadata": {
    "colab": {},
    "colab_type": "code",
    "id": "4ieR-2IlfGA_"
   },
   "outputs": [],
   "source": [
    "fulldatatype=([('pulse','i8'),('frequency','i8'),('phase','i8'),('intensity','f8')])"
   ]
  },
  {
   "cell_type": "code",
   "execution_count": 83,
   "metadata": {
    "colab": {},
    "colab_type": "code",
    "id": "o9kgY0kqfIrQ"
   },
   "outputs": [],
   "source": [
    "averageprofiles = np.loadtxt(fname='../archivefiles/com_archivefiles/pdv/J0820_s_f28_T_pazi.pdv', dtype=fulldatatype)"
   ]
  },
  {
   "cell_type": "code",
   "execution_count": 84,
   "metadata": {
    "colab": {},
    "colab_type": "code",
    "id": "Wfp5R_xond9z"
   },
   "outputs": [],
   "source": [
    "no_freq_bands = max(averageprofiles['frequency'])+1"
   ]
  },
  {
   "cell_type": "markdown",
   "metadata": {
    "colab_type": "text",
    "id": "eKWvXxMcEIfE"
   },
   "source": [
    "# Gaussian Plotting of Individual Frequency Band - Used for error checking individual frequency bands"
   ]
  },
  {
   "cell_type": "markdown",
   "metadata": {
    "colab_type": "text",
    "id": "MVQ_pgyRnofm"
   },
   "source": [
    "Choosing Frequency Band. Following Section is for error checking:"
   ]
  },
  {
   "cell_type": "code",
   "execution_count": 143,
   "metadata": {
    "colab": {},
    "colab_type": "code",
    "id": "mcIptVeffJXA"
   },
   "outputs": [],
   "source": [
    "freqband = 72\n",
    "f = averageprofiles['frequency'] == freqband"
   ]
  },
  {
   "cell_type": "code",
   "execution_count": 144,
   "metadata": {
    "colab": {},
    "colab_type": "code",
    "id": "o9L0EPsL2JrT"
   },
   "outputs": [],
   "source": [
    "phase=averageprofiles['phase'][f]\n",
    "intensity=averageprofiles['intensity'][f]"
   ]
  },
  {
   "cell_type": "markdown",
   "metadata": {
    "colab_type": "text",
    "id": "2hhQErp8ntli"
   },
   "source": [
    "Gaussian Plots"
   ]
  },
  {
   "cell_type": "code",
   "execution_count": 145,
   "metadata": {
    "colab": {},
    "colab_type": "code",
    "id": "MvBudOjXY1DT"
   },
   "outputs": [],
   "source": [
    "x = phase\n",
    "y = intensity"
   ]
  },
  {
   "cell_type": "code",
   "execution_count": 146,
   "metadata": {
    "colab": {
     "base_uri": "https://localhost:8080/",
     "height": 35
    },
    "colab_type": "code",
    "id": "-I5g-Wtoqa_l",
    "outputId": "6c926b6f-a6b6-4303-e637-48a2cc0a15fb"
   },
   "outputs": [
    {
     "data": {
      "text/plain": [
       "1024"
      ]
     },
     "execution_count": 146,
     "metadata": {},
     "output_type": "execute_result"
    }
   ],
   "source": [
    "len(y)"
   ]
  },
  {
   "cell_type": "code",
   "execution_count": 147,
   "metadata": {
    "colab": {},
    "colab_type": "code",
    "id": "dFRIxynhSAws"
   },
   "outputs": [],
   "source": [
    "#Taken from Peaks and Gaussian fittings of frequency band 73\n",
    "expected=(501,30,8.02,655,80,4.07,741,20,11.29)"
   ]
  },
  {
   "cell_type": "code",
   "execution_count": 148,
   "metadata": {
    "colab": {},
    "colab_type": "code",
    "id": "nvTDzWP-WMAh"
   },
   "outputs": [],
   "source": [
    "params,sigma = fitting_parameters(x,y,expected)\n",
    "fit = gauss_fit(x, params)\n",
    "profile_comp = gauss_peaks(fit,no_freq_bands,freqband,sigma)"
   ]
  },
  {
   "cell_type": "code",
   "execution_count": 149,
   "metadata": {
    "colab": {
     "base_uri": "https://localhost:8080/",
     "height": 279
    },
    "colab_type": "code",
    "id": "3im4-cMCZVSR",
    "outputId": "4448ecbd-cb0d-43ca-ee79-44e44b20c402"
   },
   "outputs": [
    {
     "data": {
      "image/png": "[encoded data removed]",
      "text/plain": [
       "<matplotlib.figure.Figure at 0x7f61994fd4e0>"
      ]
     },
     "metadata": {},
     "output_type": "display_data"
    }
   ],
   "source": [
    "plot_fit(x,y,fit,params,sigma)"
   ]
  },
  {
   "cell_type": "code",
   "execution_count": 150,
   "metadata": {
    "colab": {
     "base_uri": "https://localhost:8080/",
     "height": 279
    },
    "colab_type": "code",
    "id": "vZAjg5geZVkC",
    "outputId": "140132f9-2e27-4888-d3e3-a91c901affe6"
   },
   "outputs": [
    {
     "data": {
      "image/png": "[encoded data removed]",
      "text/plain": [
       "<matplotlib.figure.Figure at 0x7f61994dc400>"
      ]
     },
     "metadata": {},
     "output_type": "display_data"
    }
   ],
   "source": [
    "plot_fill(x,y,params)"
   ]
  },
  {
   "cell_type": "code",
   "execution_count": 151,
   "metadata": {
    "colab": {
     "base_uri": "https://localhost:8080/",
     "height": 279
    },
    "colab_type": "code",
    "id": "mmZe3OBoZ8rn",
    "outputId": "f4fbbdb4-6a61-4b32-a144-7e3e202771b4"
   },
   "outputs": [
    {
     "data": {
      "image/png": "[encoded data removed]",
      "text/plain": [
       "<matplotlib.figure.Figure at 0x7f61994404a8>"
      ]
     },
     "metadata": {},
     "output_type": "display_data"
    }
   ],
   "source": [
    "plot_peaks(x*(360/1024),y,profile_comp)"
   ]
  },
  {
   "cell_type": "code",
   "execution_count": 94,
   "metadata": {
    "colab": {
     "base_uri": "https://localhost:8080/",
     "height": 53
    },
    "colab_type": "code",
    "id": "r4583s7PwhXY",
    "outputId": "da716336-2c38-4965-abe7-830903180401"
   },
   "outputs": [
    {
     "data": {
      "text/plain": [
       "pulse_component(frequency=453.42465753424653, comp1=component(phase=181.7578125, intensity=3.473903829007336), comp2=component(phase=261.5625, intensity=4.552704663166683), errors=array([0.82241721, 0.95558505, 0.07998413, 4.13201629, 3.35543749,\n",
       "       0.04105977, 0.56207144, 0.72643597, 0.08850646]))"
      ]
     },
     "execution_count": 94,
     "metadata": {},
     "output_type": "execute_result"
    }
   ],
   "source": [
    "profile_comp"
   ]
  },
  {
   "cell_type": "markdown",
   "metadata": {
    "colab_type": "text",
    "id": "er13GCy-EUTz"
   },
   "source": [
    "# Gaussian Plotting and Finding Peaks of Overall Fit Data (fit_components) and Individual Fit Data (ind_components)\n"
   ]
  },
  {
   "cell_type": "markdown",
   "metadata": {
    "colab_type": "text",
    "id": "dUDXQCiVhOyH"
   },
   "source": [
    "The following is a looped version of the previous section to find the correct peaks for each pulse profile"
   ]
  },
  {
   "cell_type": "code",
   "execution_count": 95,
   "metadata": {
    "colab": {},
    "colab_type": "code",
    "id": "vJ4G8wv8tQOe"
   },
   "outputs": [],
   "source": [
    "fit_components = []\n",
    "ind_components=[]"
   ]
  },
  {
   "cell_type": "code",
   "execution_count": 96,
   "metadata": {
    "colab": {},
    "colab_type": "code",
    "id": "MspZDahR4R4P"
   },
   "outputs": [],
   "source": [
    "#Taken from Peaks and Gaussian fittings of frequency band 73, in the middle\n",
    "expected=(501,30,8.02,655,80,4.07,741,20,11.29)\n",
    "\n",
    "for i in range(0,no_freq_bands):\n",
    "    freqband = i\n",
    "  \n",
    "  #Can be used for error checking\n",
    "  #print(freqband)\n",
    "\n",
    "    f = averageprofiles['frequency'] == freqband\n",
    "\n",
    "    x=averageprofiles['phase'][f]\n",
    "    y=averageprofiles['intensity'][f]\n",
    "\n",
    "    if len(x)!=0 and len(y)!=0:\n",
    "        params,sigma = fitting_parameters(x,y,expected)\n",
    "        fit = gauss_fit(x, params)\n",
    "        profile_comp = gauss_peaks(fit, no_freq_bands, freqband, sigma)\n",
    "        profile_ind = ind_peaks(params, no_freq_bands, freqband, sigma)\n",
    "\n",
    "    #Can be used for error checking\n",
    "    #print(profile_comp)\n",
    "  \n",
    "        fit_components.append(profile_comp)\n",
    "        ind_components.append(profile_ind)"
   ]
  },
  {
   "cell_type": "markdown",
   "metadata": {
    "colab_type": "text",
    "id": "6a03g77-gZa5"
   },
   "source": [
    "# Change of Peak Position over Frequency"
   ]
  },
  {
   "cell_type": "markdown",
   "metadata": {
    "colab_type": "text",
    "id": "IGeyAoMhEduw"
   },
   "source": [
    "## Fit Peaks (fit_components)"
   ]
  },
  {
   "cell_type": "markdown",
   "metadata": {
    "colab_type": "text",
    "id": "KszZ-DmF3pTJ"
   },
   "source": [
    "Starting to graph out all the movement of component phase across frequency\n",
    "\n",
    "---\n",
    "\n"
   ]
  },
  {
   "cell_type": "code",
   "execution_count": 97,
   "metadata": {
    "colab": {},
    "colab_type": "code",
    "id": "CUJj3cbezRgq"
   },
   "outputs": [],
   "source": [
    "phase_comp1=[]\n",
    "frequency_comp1=[]\n",
    "\n",
    "for i in range(0,len(fit_components)):\n",
    "  if fit_components[i][1][0] != 0:\n",
    "    phase_comp1.append(fit_components[i][1][0])\n",
    "    frequency_comp1.append(fit_components[i][0])"
   ]
  },
  {
   "cell_type": "code",
   "execution_count": 98,
   "metadata": {
    "colab": {
     "base_uri": "https://localhost:8080/"
    },
    "colab_type": "code",
    "id": "N8lXroZey117",
    "outputId": "8321d6fb-90a5-49c6-bda7-b25cc8ee3845"
   },
   "outputs": [
    {
     "data": {
      "text/plain": [
       "Text(0,0.5,'Frequency')"
      ]
     },
     "execution_count": 98,
     "metadata": {},
     "output_type": "execute_result"
    },
    {
     "data": {
      "image/png": "[encoded data removed]",
      "text/plain": [
       "<matplotlib.figure.Figure at 0x7f6198c3fe10>"
      ]
     },
     "metadata": {},
     "output_type": "display_data"
    }
   ],
   "source": [
    "py.plot(phase_comp1,frequency_comp1, '.')\n",
    "py.title('Component 1 - Fit Peaks')\n",
    "py.xlabel('Phase (deg))')\n",
    "py.ylabel('Frequency')"
   ]
  },
  {
   "cell_type": "code",
   "execution_count": 99,
   "metadata": {
    "colab": {},
    "colab_type": "code",
    "id": "ylBJ8twuzL8g"
   },
   "outputs": [],
   "source": [
    "phase_comp2=[]\n",
    "frequency_comp2=[]\n",
    "\n",
    "for i in range(0,len(fit_components)):\n",
    "  if fit_components[i][2][0] != 0:\n",
    "    phase_comp2.append(fit_components[i][2][0])\n",
    "    frequency_comp2.append(fit_components[i][0])"
   ]
  },
  {
   "cell_type": "code",
   "execution_count": 100,
   "metadata": {
    "colab": {
     "base_uri": "https://localhost:8080/"
    },
    "colab_type": "code",
    "id": "BaWU8_f424bZ",
    "outputId": "cf955db3-63ae-4a41-ee12-bf4ea0d269d1"
   },
   "outputs": [
    {
     "data": {
      "text/plain": [
       "Text(0,0.5,'Frequency')"
      ]
     },
     "execution_count": 100,
     "metadata": {},
     "output_type": "execute_result"
    },
    {
     "data": {
      "image/png": "[encoded data removed]",
      "text/plain": [
       "<matplotlib.figure.Figure at 0x7f6198c24470>"
      ]
     },
     "metadata": {},
     "output_type": "display_data"
    }
   ],
   "source": [
    "py.plot(phase_comp2,frequency_comp2, '.')\n",
    "py.title('Component 2 - Fit Peaks')\n",
    "py.xlabel('Phase Bin (deg)')\n",
    "py.ylabel('Frequency')"
   ]
  },
  {
   "cell_type": "markdown",
   "metadata": {
    "colab_type": "text",
    "id": "Y1RZQ9SHcgOZ"
   },
   "source": [
    "## Individual Peaks (ind_components)"
   ]
  },
  {
   "cell_type": "code",
   "execution_count": 101,
   "metadata": {
    "colab": {},
    "colab_type": "code",
    "id": "P5g-Z8pDYf0g"
   },
   "outputs": [],
   "source": [
    "phase_ind1=[]\n",
    "frequency_ind1=[]\n",
    "\n",
    "for i in range(0,len(ind_components)):\n",
    "  if ind_components[i][1][0] != 0:\n",
    "    phase_ind1.append(ind_components[i][1][0])\n",
    "    frequency_ind1.append(ind_components[i][0])"
   ]
  },
  {
   "cell_type": "code",
   "execution_count": 102,
   "metadata": {
    "colab": {
     "base_uri": "https://localhost:8080/"
    },
    "colab_type": "code",
    "id": "Ys5saMYTYgE4",
    "outputId": "b7f3215b-0bd4-48c7-fe7e-ce6b42897c3b"
   },
   "outputs": [
    {
     "data": {
      "text/plain": [
       "Text(0,0.5,'Frequency')"
      ]
     },
     "execution_count": 102,
     "metadata": {},
     "output_type": "execute_result"
    },
    {
     "data": {
      "image/png": "[encoded data removed]",
      "text/plain": [
       "<matplotlib.figure.Figure at 0x7f6199a706a0>"
      ]
     },
     "metadata": {},
     "output_type": "display_data"
    }
   ],
   "source": [
    "py.plot(phase_ind1,frequency_ind1, '.')\n",
    "py.title('Component 1 - Individual Peaks')\n",
    "py.xlabel('Phase Bin (deg)')\n",
    "py.ylabel('Frequency')"
   ]
  },
  {
   "cell_type": "code",
   "execution_count": 103,
   "metadata": {
    "colab": {},
    "colab_type": "code",
    "id": "YchcyxhXYgQw"
   },
   "outputs": [],
   "source": [
    "phase_ind2=[]\n",
    "frequency_ind2=[]\n",
    "\n",
    "for i in range(0,len(ind_components)):\n",
    "  if ind_components[i][2][0] != 0:\n",
    "    phase_ind2.append(ind_components[i][2][0])\n",
    "    frequency_ind2.append(ind_components[i][0])"
   ]
  },
  {
   "cell_type": "code",
   "execution_count": 104,
   "metadata": {
    "colab": {
     "base_uri": "https://localhost:8080/"
    },
    "colab_type": "code",
    "id": "eXiIbChXYgct",
    "outputId": "b990f7c8-4afb-4665-fb04-758b20ad43a2"
   },
   "outputs": [
    {
     "data": {
      "text/plain": [
       "Text(0,0.5,'Frequency')"
      ]
     },
     "execution_count": 104,
     "metadata": {},
     "output_type": "execute_result"
    },
    {
     "data": {
      "image/png": "[encoded data removed]",
      "text/plain": [
       "<matplotlib.figure.Figure at 0x7f6199b36ac8>"
      ]
     },
     "metadata": {},
     "output_type": "display_data"
    }
   ],
   "source": [
    "py.plot(phase_ind2,frequency_ind2, '.')\n",
    "py.title('Component 2 - Individual Peaks')\n",
    "py.xlabel('Phase Bin (deg)')\n",
    "py.ylabel('Frequency')"
   ]
  },
  {
   "cell_type": "markdown",
   "metadata": {
    "colab_type": "text",
    "id": "pccDpOhFgn-A"
   },
   "source": [
    "# Component Separation Across Frequency "
   ]
  },
  {
   "cell_type": "markdown",
   "metadata": {
    "colab_type": "text",
    "id": "KZFBrw4AEiXX"
   },
   "source": [
    "## Fit Peaks (fit_components)"
   ]
  },
  {
   "cell_type": "code",
   "execution_count": 105,
   "metadata": {
    "colab": {},
    "colab_type": "code",
    "id": "QlmKKG5sFeMg"
   },
   "outputs": [],
   "source": [
    "component_sep, sep_error = separation_singleprofile(fit_components, ind_components)"
   ]
  },
  {
   "cell_type": "code",
   "execution_count": 106,
   "metadata": {
    "colab": {},
    "colab_type": "code",
    "id": "pacJRC6tIbBS"
   },
   "outputs": [],
   "source": [
    "comp_sep=[]\n",
    "frequency_forsep=[]\n",
    "\n",
    "#range(0,no_freq_bands)\n",
    "for i in range(0,len(component_sep)):\n",
    "  comp_sep.append(component_sep[i][1])\n",
    "  frequency_forsep.append(component_sep[i][0])"
   ]
  },
  {
   "cell_type": "code",
   "execution_count": 107,
   "metadata": {
    "colab": {
     "base_uri": "https://localhost:8080/"
    },
    "colab_type": "code",
    "id": "oE8r2963KMSz",
    "outputId": "25557bf4-1b1c-415d-c785-7fa822a71292"
   },
   "outputs": [
    {
     "data": {
      "text/plain": [
       "Text(0,0.5,'Δθ (deg)')"
      ]
     },
     "execution_count": 107,
     "metadata": {},
     "output_type": "execute_result"
    },
    {
     "data": {
      "image/png": "[encoded data removed]",
      "text/plain": [
       "<matplotlib.figure.Figure at 0x7f61998cccf8>"
      ]
     },
     "metadata": {},
     "output_type": "display_data"
    }
   ],
   "source": [
    "py.plot(frequency_forsep, comp_sep, '.')\n",
    "py.xlabel('Frequency')\n",
    "py.ylabel('\\u0394\\u03B8 (deg)')"
   ]
  },
  {
   "cell_type": "markdown",
   "metadata": {
    "colab_type": "text",
    "id": "jBHxooGJctvn"
   },
   "source": [
    "## Individual Peaks (ind_components)"
   ]
  },
  {
   "cell_type": "code",
   "execution_count": 108,
   "metadata": {
    "colab": {},
    "colab_type": "code",
    "id": "Qb7GwH6yctAA"
   },
   "outputs": [],
   "source": [
    "component_sep_ind, ind_sep_errors= separation_singleprofile(ind_components, ind_components)"
   ]
  },
  {
   "cell_type": "code",
   "execution_count": 109,
   "metadata": {
    "colab": {},
    "colab_type": "code",
    "id": "hLSxkPy7dVdM"
   },
   "outputs": [],
   "source": [
    "comp_sep_ind=[]\n",
    "frequency_forsep_ind=[]\n",
    "\n",
    "#range(0,no_freq_bands)\n",
    "for i in range(0,len(component_sep_ind)):\n",
    "  comp_sep_ind.append(component_sep_ind[i][1])\n",
    "  frequency_forsep_ind.append(component_sep_ind[i][0])"
   ]
  },
  {
   "cell_type": "code",
   "execution_count": 110,
   "metadata": {
    "colab": {
     "base_uri": "https://localhost:8080/"
    },
    "colab_type": "code",
    "id": "9IFffn1Mdc-w",
    "outputId": "23e0939c-80e8-4d57-da9b-69bf310669f9"
   },
   "outputs": [
    {
     "data": {
      "text/plain": [
       "Text(0,0.5,'Δθ (deg)')"
      ]
     },
     "execution_count": 110,
     "metadata": {},
     "output_type": "execute_result"
    },
    {
     "data": {
      "image/png": "[encoded data removed]",
      "text/plain": [
       "<matplotlib.figure.Figure at 0x7f6199aee080>"
      ]
     },
     "metadata": {},
     "output_type": "display_data"
    }
   ],
   "source": [
    "py.plot(frequency_forsep_ind, comp_sep_ind, '.')\n",
    "py.xlabel('Frequency')\n",
    "py.ylabel('\\u0394\\u03B8 (deg)')"
   ]
  },
  {
   "cell_type": "markdown",
   "metadata": {
    "colab_type": "text",
    "id": "onWmCTwBgzh2"
   },
   "source": [
    "# Fitting Power Laws to Separation "
   ]
  },
  {
   "cell_type": "markdown",
   "metadata": {
    "colab_type": "text",
    "id": "pRvVTEsj_64Q"
   },
   "source": [
    "## Fit Peaks (fit_components)"
   ]
  },
  {
   "cell_type": "code",
   "execution_count": 111,
   "metadata": {
    "colab": {},
    "colab_type": "code",
    "id": "yvPpIl1dbfkG"
   },
   "outputs": [],
   "source": [
    "#To use in weightings: sigma=inv_var\n",
    "inv_var = []\n",
    "\n",
    "for i in range(len(sep_error)):\n",
    "  temp = 1/(sep_error[i]*sep_error[i])\n",
    "  inv_var.append(temp)"
   ]
  },
  {
   "cell_type": "code",
   "execution_count": 112,
   "metadata": {
    "colab": {},
    "colab_type": "code",
    "id": "Eb9tysocAfn3"
   },
   "outputs": [],
   "source": [
    "expect=(703,0.4,16)\n",
    "sep_params,sep_cov=curve_fit(powerlaw,frequency_forsep,comp_sep, expect, maxfev=10000, sigma=sep_error, bounds=([0,-1,0],[1000,0.5,np.inf]))\n",
    "sep_fit_error=np.sqrt(np.diag(sep_cov))"
   ]
  },
  {
   "cell_type": "code",
   "execution_count": 113,
   "metadata": {
    "colab": {
     "base_uri": "https://localhost:8080/",
     "height": 53
    },
    "colab_type": "code",
    "id": "hCGGghN8A7BA",
    "outputId": "eaa7f557-4804-425e-96ae-83056ba13eca"
   },
   "outputs": [
    {
     "name": "stdout",
     "output_type": "stream",
     "text": [
      "[ 5.82451413e+02 -3.27141649e-01  3.85101272e-06]\n",
      "[6.25408285e+02 3.71285814e-01 9.43719238e+01]\n"
     ]
    }
   ],
   "source": [
    "print(sep_params)\n",
    "print(sep_fit_error)\n",
    "separation_fit = powerlaw(frequency_forsep, *sep_params)"
   ]
  },
  {
   "cell_type": "code",
   "execution_count": 114,
   "metadata": {
    "colab": {
     "base_uri": "https://localhost:8080/",
     "height": 300
    },
    "colab_type": "code",
    "id": "oY7ok57vApBN",
    "outputId": "c54100cc-1569-4c6b-fb74-c413acbdf635"
   },
   "outputs": [
    {
     "data": {
      "text/plain": [
       "Text(0,0.5,'Δθ (deg)')"
      ]
     },
     "execution_count": 114,
     "metadata": {},
     "output_type": "execute_result"
    },
    {
     "data": {
      "image/png": "[encoded data removed]",
      "text/plain": [
       "<matplotlib.figure.Figure at 0x7f6199b59860>"
      ]
     },
     "metadata": {},
     "output_type": "display_data"
    }
   ],
   "source": [
    "py.plot(frequency_forsep, comp_sep, '.', label='data')\n",
    "py.plot(frequency_forsep,separation_fit, color='red',lw=2,label='power fit')\n",
    "py.title('Component Separation - Fit Peaks')\n",
    "py.xlabel('Frequency')\n",
    "py.ylabel('\\u0394\\u03B8 (deg)')"
   ]
  },
  {
   "cell_type": "code",
   "execution_count": 115,
   "metadata": {
    "colab": {
     "base_uri": "https://localhost:8080/",
     "height": 107
    },
    "colab_type": "code",
    "id": "l11_3C1ODT_d",
    "outputId": "ad79532a-bd1b-457e-afde-75b291f318c1"
   },
   "outputs": [
    {
     "name": "stdout",
     "output_type": "stream",
     "text": [
      "The equation of fit for this pulsar is: \t Δθ = 582.451 ν^-0.327 + 0.000 \n",
      "\n",
      "The errors are 625.408, 0.371, 94.372 \n",
      "The chi squared value for the fit is:  1.560384941745078\n",
      "Units for Δθ is degrees and ν is MHz\n"
     ]
    }
   ],
   "source": [
    "chi, p = sp.stats.chisquare(comp_sep, separation_fit)\n",
    "print(f'The equation of fit for this pulsar is: \\t \\u0394\\u03B8 = {sep_params[0]:.3f} \\u03BD^{sep_params[1]:.3f} + {sep_params[2]:.3f} \\n')\n",
    "print(f'The errors are {sep_fit_error[0]:.3f}, {sep_fit_error[1]:.3f}, {sep_fit_error[2]:.3f} ')\n",
    "print('The chi squared value for the fit is: ', chi)\n",
    "print('Units for \\u0394\\u03B8 is degrees and \\u03BD is MHz')"
   ]
  },
  {
   "cell_type": "markdown",
   "metadata": {
    "colab_type": "text",
    "id": "3NacpoCld21t"
   },
   "source": [
    "## Individual Peaks (ind_components)"
   ]
  },
  {
   "cell_type": "code",
   "execution_count": 116,
   "metadata": {
    "colab": {},
    "colab_type": "code",
    "id": "Jy2_QoLygC0-"
   },
   "outputs": [],
   "source": [
    "#To use in weightings: sigma=inv_var_ind\n",
    "inv_var_ind = []\n",
    "\n",
    "for i in range(len(ind_sep_errors)):\n",
    "  temp = 1/(ind_sep_errors[i]*ind_sep_errors[i])\n",
    "  inv_var_ind.append(temp)"
   ]
  },
  {
   "cell_type": "code",
   "execution_count": 117,
   "metadata": {
    "colab": {},
    "colab_type": "code",
    "id": "CoXmAthxd7_x"
   },
   "outputs": [],
   "source": [
    "expect=(200,0.5,50)\n",
    "sep_params_ind,sep_cov_ind=curve_fit(powerlaw,frequency_forsep_ind,comp_sep_ind, expect, maxfev=1000000,sigma=inv_var_ind,bounds=([0,-1,0],[1000,0.5,np.inf]))\n",
    "sep_fit_error_ind=np.sqrt(np.diag(sep_cov_ind))"
   ]
  },
  {
   "cell_type": "code",
   "execution_count": 118,
   "metadata": {
    "colab": {
     "base_uri": "https://localhost:8080/",
     "height": 35
    },
    "colab_type": "code",
    "id": "QDEmrl7feM3K",
    "outputId": "d9a2b084-fb9b-4f93-a087-b15453d91c13"
   },
   "outputs": [
    {
     "name": "stdout",
     "output_type": "stream",
     "text": [
      "[ 1.0000000e+03 -5.8878134e-01  5.4747550e+01]\n"
     ]
    }
   ],
   "source": [
    "print(sep_params_ind)\n",
    "separation_fit_ind = powerlaw(frequency_forsep, *sep_params_ind)"
   ]
  },
  {
   "cell_type": "code",
   "execution_count": 119,
   "metadata": {
    "colab": {
     "base_uri": "https://localhost:8080/",
     "height": 297
    },
    "colab_type": "code",
    "id": "QaKMbN0jeO_C",
    "outputId": "d30176bf-13b7-44c0-969e-21d2cf29a9a9"
   },
   "outputs": [
    {
     "data": {
      "text/plain": [
       "Text(0,0.5,'Δθ (deg)')"
      ]
     },
     "execution_count": 119,
     "metadata": {},
     "output_type": "execute_result"
    },
    {
     "data": {
      "image/png": "[encoded data removed]",
      "text/plain": [
       "<matplotlib.figure.Figure at 0x7f6199ac02e8>"
      ]
     },
     "metadata": {},
     "output_type": "display_data"
    }
   ],
   "source": [
    "py.plot(frequency_forsep_ind, comp_sep_ind, lw=0.5, label='data')\n",
    "py.plot(frequency_forsep_ind,separation_fit_ind, color='red',lw=1,label='power fit')\n",
    "py.title('Component Separation - Individual Peaks ')\n",
    "py.xlabel('Frequency')\n",
    "py.ylabel('\\u0394\\u03B8 (deg)')"
   ]
  },
  {
   "cell_type": "code",
   "execution_count": 120,
   "metadata": {
    "colab": {
     "base_uri": "https://localhost:8080/",
     "height": 107
    },
    "colab_type": "code",
    "id": "Mu7DCoELeWR8",
    "outputId": "520b4eed-c621-4a01-f973-ee517f117d34"
   },
   "outputs": [
    {
     "name": "stdout",
     "output_type": "stream",
     "text": [
      "The equation of fit for this pulsar is: \t Δθ = 1000.000 ν^-0.589 + 54.748 \n",
      "\n",
      "The errors are 5073.155, 1.190, 60.049 \n",
      "The chi squared value for the fit is:  1.560384941745078\n",
      "Units for Δθ is degrees and ν is MHz\n"
     ]
    }
   ],
   "source": [
    "chi_ind, p_ind = sp.stats.chisquare(comp_sep, separation_fit)\n",
    "print(f'The equation of fit for this pulsar is: \\t \\u0394\\u03B8 = {sep_params_ind[0]:.3f} \\u03BD^{sep_params_ind[1]:.3f} + {sep_params_ind[2]:.3f} \\n')\n",
    "print(f'The errors are {sep_fit_error_ind[0]:.3f}, {sep_fit_error_ind[1]:.3f}, {sep_fit_error_ind[2]:.3f} ')\n",
    "print('The chi squared value for the fit is: ', chi_ind)\n",
    "print('Units for \\u0394\\u03B8 is degrees and \\u03BD is MHz')"
   ]
  },
  {
   "cell_type": "markdown",
   "metadata": {
    "colab_type": "text",
    "id": "e6XHCJRCjogM"
   },
   "source": [
    "# Change in Intensity over Frequency"
   ]
  },
  {
   "cell_type": "markdown",
   "metadata": {
    "colab_type": "text",
    "id": "S8Wdb29Jkmx7"
   },
   "source": [
    "## Fit Peaks (fit_components)"
   ]
  },
  {
   "cell_type": "code",
   "execution_count": 121,
   "metadata": {
    "colab": {},
    "colab_type": "code",
    "id": "qLKpI3HvjyrZ"
   },
   "outputs": [],
   "source": [
    "intensity_comp1=[]\n",
    "frequency_comp1=[]\n",
    "\n",
    "for i in range(0,len(fit_components)):\n",
    "  if fit_components[i][1][0] != 0:\n",
    "    intensity_comp1.append(fit_components[i][1][1])\n",
    "    frequency_comp1.append(fit_components[i][0])"
   ]
  },
  {
   "cell_type": "code",
   "execution_count": 122,
   "metadata": {
    "colab": {
     "base_uri": "https://localhost:8080/",
     "height": 313
    },
    "colab_type": "code",
    "id": "ClLSoQOukVjN",
    "outputId": "8433b698-caef-4650-93e6-5b78f85c2c08"
   },
   "outputs": [
    {
     "data": {
      "text/plain": [
       "Text(0,0.5,'Intensity')"
      ]
     },
     "execution_count": 122,
     "metadata": {},
     "output_type": "execute_result"
    },
    {
     "data": {
      "image/png": "[encoded data removed]",
      "text/plain": [
       "<matplotlib.figure.Figure at 0x7f6199b22f60>"
      ]
     },
     "metadata": {},
     "output_type": "display_data"
    }
   ],
   "source": [
    "py.plot(frequency_comp1,intensity_comp1, '.')\n",
    "py.title('Component 1 - Fit Peaks')\n",
    "py.xlabel('Frequency')\n",
    "py.ylabel('Intensity')"
   ]
  },
  {
   "cell_type": "code",
   "execution_count": 123,
   "metadata": {
    "colab": {},
    "colab_type": "code",
    "id": "IDYE2r0PksL3"
   },
   "outputs": [],
   "source": [
    "intensity_comp2=[]\n",
    "frequency_comp2=[]\n",
    "\n",
    "for i in range(0,len(fit_components)):\n",
    "  if fit_components[i][1][0] != 0:\n",
    "    intensity_comp2.append(fit_components[i][2][1])\n",
    "    frequency_comp2.append(fit_components[i][0])"
   ]
  },
  {
   "cell_type": "code",
   "execution_count": 124,
   "metadata": {
    "colab": {
     "base_uri": "https://localhost:8080/",
     "height": 313
    },
    "colab_type": "code",
    "id": "jGLPcnDqk0np",
    "outputId": "bd26b629-ab7c-40fa-a969-8662d0976f6c"
   },
   "outputs": [
    {
     "data": {
      "text/plain": [
       "Text(0,0.5,'Intensity')"
      ]
     },
     "execution_count": 124,
     "metadata": {},
     "output_type": "execute_result"
    },
    {
     "data": {
      "image/png": "[encoded data removed]",
      "text/plain": [
       "<matplotlib.figure.Figure at 0x7f61998219b0>"
      ]
     },
     "metadata": {},
     "output_type": "display_data"
    }
   ],
   "source": [
    "py.plot(frequency_comp2,intensity_comp2, '.')\n",
    "py.title('Component 2 - Fit Peaks')\n",
    "py.xlabel('Frequency')\n",
    "py.ylabel('Intensity')"
   ]
  },
  {
   "cell_type": "markdown",
   "metadata": {
    "colab_type": "text",
    "id": "G6J_t2-wlTKi"
   },
   "source": [
    "## Individual Peaks (ind_components)"
   ]
  },
  {
   "cell_type": "code",
   "execution_count": 125,
   "metadata": {
    "colab": {},
    "colab_type": "code",
    "id": "HKnQQ8wxlu8A"
   },
   "outputs": [],
   "source": [
    "intensity_ind1=[]\n",
    "frequency_ind1=[]\n",
    "\n",
    "for i in range(0,len(ind_components)):\n",
    "  if ind_components[i][1][0] != 0:\n",
    "    intensity_ind1.append(ind_components[i][1][1])\n",
    "    frequency_ind1.append(ind_components[i][0])"
   ]
  },
  {
   "cell_type": "code",
   "execution_count": 126,
   "metadata": {
    "colab": {
     "base_uri": "https://localhost:8080/",
     "height": 313
    },
    "colab_type": "code",
    "id": "XwtPZ6jVmkYc",
    "outputId": "226e3e67-310d-4a1e-9409-473d6227079e"
   },
   "outputs": [
    {
     "data": {
      "text/plain": [
       "Text(0,0.5,'Intensity')"
      ]
     },
     "execution_count": 126,
     "metadata": {},
     "output_type": "execute_result"
    },
    {
     "data": {
      "image/png": "[encoded data removed]",
      "text/plain": [
       "<matplotlib.figure.Figure at 0x7f619976b240>"
      ]
     },
     "metadata": {},
     "output_type": "display_data"
    }
   ],
   "source": [
    "py.plot(frequency_ind1,intensity_ind1, '.')\n",
    "py.title('Component 1 - Individual Peaks')\n",
    "py.xlabel('Frequency')\n",
    "py.ylabel('Intensity')"
   ]
  },
  {
   "cell_type": "code",
   "execution_count": 127,
   "metadata": {
    "colab": {},
    "colab_type": "code",
    "id": "0ueyKA35mr0G"
   },
   "outputs": [],
   "source": [
    "intensity_ind2=[]\n",
    "frequency_ind2=[]\n",
    "\n",
    "for i in range(0,len(ind_components)):\n",
    "  if ind_components[i][1][0] != 0:\n",
    "    intensity_ind2.append(ind_components[i][2][1])\n",
    "    frequency_ind2.append(ind_components[i][0])"
   ]
  },
  {
   "cell_type": "code",
   "execution_count": 128,
   "metadata": {
    "colab": {
     "base_uri": "https://localhost:8080/",
     "height": 313
    },
    "colab_type": "code",
    "id": "SG8-hd3AmsB-",
    "outputId": "9e8e3a91-d3ea-4068-a123-897a0ac5601c"
   },
   "outputs": [
    {
     "data": {
      "text/plain": [
       "Text(0,0.5,'Intensity')"
      ]
     },
     "execution_count": 128,
     "metadata": {},
     "output_type": "execute_result"
    },
    {
     "data": {
      "image/png": "[encoded data removed]",
      "text/plain": [
       "<matplotlib.figure.Figure at 0x7f619976bc50>"
      ]
     },
     "metadata": {},
     "output_type": "display_data"
    }
   ],
   "source": [
    "py.plot(frequency_ind2,intensity_ind2, '.')\n",
    "py.title('Component 2 - Individual Peaks')\n",
    "py.xlabel('Frequency')\n",
    "py.ylabel('Intensity')"
   ]
  },
  {
   "cell_type": "markdown",
   "metadata": {
    "colab_type": "text",
    "id": "8WslQQJrq_Aj"
   },
   "source": [
    "# Intensity Fitting"
   ]
  },
  {
   "cell_type": "code",
   "execution_count": 129,
   "metadata": {
    "colab": {
     "base_uri": "https://localhost:8080/",
     "height": 53
    },
    "colab_type": "code",
    "id": "C2CXJX1YrCIF",
    "outputId": "b87d98c9-f115-4cb3-9893-683cb2945316"
   },
   "outputs": [],
   "source": [
    "int1_params,int1_cov=curve_fit(powerlaw,frequency_ind1,intensity_ind1, maxfev=10000)\n",
    "int1_error=np.sqrt(np.diag(int1_cov))"
   ]
  },
  {
   "cell_type": "code",
   "execution_count": 130,
   "metadata": {
    "colab": {},
    "colab_type": "code",
    "id": "Df5TE1oXruhI"
   },
   "outputs": [],
   "source": [
    "int1_fit = powerlaw(frequency_ind1, *int1_params)"
   ]
  },
  {
   "cell_type": "code",
   "execution_count": 131,
   "metadata": {
    "colab": {
     "base_uri": "https://localhost:8080/",
     "height": 298
    },
    "colab_type": "code",
    "id": "ItsZl2eQsHCB",
    "outputId": "e39d757f-1db5-4da5-e690-314222d382cd"
   },
   "outputs": [
    {
     "data": {
      "text/plain": [
       "Text(0,0.5,'Δθ (deg)')"
      ]
     },
     "execution_count": 131,
     "metadata": {},
     "output_type": "execute_result"
    },
    {
     "data": {
      "image/png": "[encoded data removed]",
      "text/plain": [
       "<matplotlib.figure.Figure at 0x7f6198c3fc88>"
      ]
     },
     "metadata": {},
     "output_type": "display_data"
    }
   ],
   "source": [
    "py.plot(frequency_ind1, intensity_ind1, lw=0.5, label='data')\n",
    "py.plot(frequency_ind1, int1_fit, color='red',lw=1,label='power fit')\n",
    "py.xlabel('Frequency')\n",
    "py.ylabel('\\u0394\\u03B8 (deg)')"
   ]
  },
  {
   "cell_type": "code",
   "execution_count": 132,
   "metadata": {
    "colab": {
     "base_uri": "https://localhost:8080/",
     "height": 53
    },
    "colab_type": "code",
    "id": "jU-N5gKTsPze",
    "outputId": "26a373b0-e821-46a7-cf00-cbda986e1430"
   },
   "outputs": [],
   "source": [
    "int2_params,int2_cov=curve_fit(powerlaw,frequency_ind2,intensity_ind2, maxfev=10000)\n",
    "int2_error=np.sqrt(np.diag(int2_cov))"
   ]
  },
  {
   "cell_type": "code",
   "execution_count": 133,
   "metadata": {
    "colab": {},
    "colab_type": "code",
    "id": "iMqSq1_esQGd"
   },
   "outputs": [],
   "source": [
    "int2_fit = powerlaw(frequency_ind2, *int2_params)"
   ]
  },
  {
   "cell_type": "code",
   "execution_count": 134,
   "metadata": {
    "colab": {
     "base_uri": "https://localhost:8080/",
     "height": 300
    },
    "colab_type": "code",
    "id": "rdSnhd1ssQWm",
    "outputId": "69e5793a-ed42-4930-c1cc-a0476fb10b6b"
   },
   "outputs": [
    {
     "data": {
      "text/plain": [
       "Text(0,0.5,'Δθ (deg)')"
      ]
     },
     "execution_count": 134,
     "metadata": {},
     "output_type": "execute_result"
    },
    {
     "data": {
      "image/png": "[encoded data removed]",
      "text/plain": [
       "<matplotlib.figure.Figure at 0x7f61996c5ac8>"
      ]
     },
     "metadata": {},
     "output_type": "display_data"
    }
   ],
   "source": [
    "py.plot(frequency_ind2, intensity_ind2, lw=0.5, label='data')\n",
    "py.plot(frequency_ind2, int1_fit, color='red',lw=1,label='power fit')\n",
    "py.xlabel('Frequency')\n",
    "py.ylabel('\\u0394\\u03B8 (deg)')"
   ]
  },
  {
   "cell_type": "markdown",
   "metadata": {
    "colab_type": "text",
    "id": "-PbPFKZBj1oi"
   },
   "source": [
    "# Change in Width over Frequency"
   ]
  },
  {
   "cell_type": "code",
   "execution_count": 135,
   "metadata": {
    "colab": {},
    "colab_type": "code",
    "id": "Fp9gIoKskGAq"
   },
   "outputs": [],
   "source": [
    "width_ind1=[]\n",
    "frequency_ind1=[]\n",
    "\n",
    "for i in range(0,len(ind_components)):\n",
    "  if ind_components[i][1][0] != 0:\n",
    "    width_ind1.append(ind_components[i][1][2])\n",
    "    frequency_ind1.append(ind_components[i][0])"
   ]
  },
  {
   "cell_type": "code",
   "execution_count": 136,
   "metadata": {
    "colab": {
     "base_uri": "https://localhost:8080/",
     "height": 313
    },
    "colab_type": "code",
    "id": "N0BRkmb4j4RM",
    "outputId": "c4f89daf-d63a-4363-b1e8-469e6816a028"
   },
   "outputs": [
    {
     "data": {
      "text/plain": [
       "Text(0,0.5,'Width (deg)')"
      ]
     },
     "execution_count": 136,
     "metadata": {},
     "output_type": "execute_result"
    },
    {
     "data": {
      "image/png": "[encoded data removed]",
      "text/plain": [
       "<matplotlib.figure.Figure at 0x7f61996acb00>"
      ]
     },
     "metadata": {},
     "output_type": "display_data"
    }
   ],
   "source": [
    "py.plot(frequency_ind1,width_ind1, '.')\n",
    "py.title('Component 1 - Individual Peaks')\n",
    "py.xlabel('Frequency')\n",
    "py.ylabel('Width (deg)')"
   ]
  },
  {
   "cell_type": "code",
   "execution_count": 137,
   "metadata": {
    "colab": {},
    "colab_type": "code",
    "id": "LPYL5iqTpivf"
   },
   "outputs": [],
   "source": [
    "width_ind2=[]\n",
    "frequency_ind2=[]\n",
    "\n",
    "for i in range(0,len(ind_components)):\n",
    "  if ind_components[i][1][0] != 0:\n",
    "    width_ind2.append(ind_components[i][2][2])\n",
    "    frequency_ind2.append(ind_components[i][0])"
   ]
  },
  {
   "cell_type": "code",
   "execution_count": 138,
   "metadata": {
    "colab": {
     "base_uri": "https://localhost:8080/",
     "height": 313
    },
    "colab_type": "code",
    "id": "O4ClDRp9prUD",
    "outputId": "1f270b92-4fea-4fbf-b9eb-6cd4c742dbff"
   },
   "outputs": [
    {
     "data": {
      "text/plain": [
       "Text(0,0.5,'Width (deg)')"
      ]
     },
     "execution_count": 138,
     "metadata": {},
     "output_type": "execute_result"
    },
    {
     "data": {
      "image/png": "[encoded data removed]",
      "text/plain": [
       "<matplotlib.figure.Figure at 0x7f619965c630>"
      ]
     },
     "metadata": {},
     "output_type": "display_data"
    }
   ],
   "source": [
    "py.plot(frequency_ind2,width_ind2, '.')\n",
    "py.title('Component 2 - Individual Peaks')\n",
    "py.xlabel('Frequency')\n",
    "py.ylabel('Width (deg)')"
   ]
  },
  {
   "cell_type": "markdown",
   "metadata": {
    "colab_type": "text",
    "id": "BAAAMssWpRQc"
   },
   "source": [
    "# Width Fitting"
   ]
  },
  {
   "cell_type": "code",
   "execution_count": 139,
   "metadata": {
    "colab": {
     "base_uri": "https://localhost:8080/",
     "height": 89
    },
    "colab_type": "code",
    "id": "GiInt3EknqMN",
    "outputId": "448dfb77-0559-4150-dcaa-adf0de3c01a9"
   },
   "outputs": [],
   "source": [
    "wid1_params,wid1_cov=curve_fit(powerlaw,frequency_ind1,width_ind1, maxfev=10000)\n",
    "wid1_error=np.sqrt(np.diag(wid1_cov))"
   ]
  },
  {
   "cell_type": "code",
   "execution_count": 140,
   "metadata": {
    "colab": {},
    "colab_type": "code",
    "id": "3IjiWqhDo_YD"
   },
   "outputs": [],
   "source": [
    "wid1_fit = powerlaw(frequency_ind1, *wid1_params)"
   ]
  },
  {
   "cell_type": "code",
   "execution_count": 141,
   "metadata": {
    "colab": {
     "base_uri": "https://localhost:8080/",
     "height": 300
    },
    "colab_type": "code",
    "id": "EHXb2PFVoweo",
    "outputId": "ee270068-c470-490d-d0b7-ba92b2cebd29"
   },
   "outputs": [
    {
     "data": {
      "text/plain": [
       "Text(0,0.5,'Δθ (deg)')"
      ]
     },
     "execution_count": 141,
     "metadata": {},
     "output_type": "execute_result"
    },
    {
     "data": {
      "image/png": "[encoded data removed]",
      "text/plain": [
       "<matplotlib.figure.Figure at 0x7f6199575160>"
      ]
     },
     "metadata": {},
     "output_type": "display_data"
    }
   ],
   "source": [
    "py.plot(frequency_ind1, width_ind1, lw=0.5, label='data')\n",
    "py.plot(frequency_ind1,wid1_fit, color='red',lw=1,label='power fit')\n",
    "py.xlabel('Frequency')\n",
    "py.ylabel('\\u0394\\u03B8 (deg)')"
   ]
  },
  {
   "cell_type": "code",
   "execution_count": 142,
   "metadata": {
    "colab": {
     "base_uri": "https://localhost:8080/",
     "height": 53
    },
    "colab_type": "code",
    "id": "U20gSvfWpuE7",
    "outputId": "aa9795dd-48b5-4606-b07d-827dbb0fbbd4"
   },
   "outputs": [
    {
     "ename": "RuntimeError",
     "evalue": "Optimal parameters not found: Number of calls to function has reached maxfev = 10000.",
     "output_type": "error",
     "traceback": [
      "\u001b[0;31m---------------------------------------------------------------------------\u001b[0m",
      "\u001b[0;31mRuntimeError\u001b[0m                              Traceback (most recent call last)",
      "\u001b[0;32m<ipython-input-142-64b4873da1fa>\u001b[0m in \u001b[0;36m<module>\u001b[0;34m()\u001b[0m\n\u001b[0;32m----> 1\u001b[0;31m \u001b[0mwid2_params\u001b[0m\u001b[0;34m,\u001b[0m\u001b[0mwid2_cov\u001b[0m\u001b[0;34m=\u001b[0m\u001b[0mcurve_fit\u001b[0m\u001b[0;34m(\u001b[0m\u001b[0mpowerlaw\u001b[0m\u001b[0;34m,\u001b[0m\u001b[0mfrequency_ind2\u001b[0m\u001b[0;34m,\u001b[0m\u001b[0mwidth_ind2\u001b[0m\u001b[0;34m,\u001b[0m \u001b[0mmaxfev\u001b[0m\u001b[0;34m=\u001b[0m\u001b[0;36m10000\u001b[0m\u001b[0;34m)\u001b[0m\u001b[0;34m\u001b[0m\u001b[0;34m\u001b[0m\u001b[0m\n\u001b[0m\u001b[1;32m      2\u001b[0m \u001b[0mwid2_error\u001b[0m\u001b[0;34m=\u001b[0m\u001b[0mnp\u001b[0m\u001b[0;34m.\u001b[0m\u001b[0msqrt\u001b[0m\u001b[0;34m(\u001b[0m\u001b[0mnp\u001b[0m\u001b[0;34m.\u001b[0m\u001b[0mdiag\u001b[0m\u001b[0;34m(\u001b[0m\u001b[0mwid2_cov\u001b[0m\u001b[0;34m)\u001b[0m\u001b[0;34m)\u001b[0m\u001b[0;34m\u001b[0m\u001b[0;34m\u001b[0m\u001b[0m\n",
      "\u001b[0;32m/home/lisasmith/.local/lib/python3.6/site-packages/scipy/optimize/minpack.py\u001b[0m in \u001b[0;36mcurve_fit\u001b[0;34m(f, xdata, ydata, p0, sigma, absolute_sigma, check_finite, bounds, method, jac, **kwargs)\u001b[0m\n\u001b[1;32m    754\u001b[0m         \u001b[0mcost\u001b[0m \u001b[0;34m=\u001b[0m \u001b[0mnp\u001b[0m\u001b[0;34m.\u001b[0m\u001b[0msum\u001b[0m\u001b[0;34m(\u001b[0m\u001b[0minfodict\u001b[0m\u001b[0;34m[\u001b[0m\u001b[0;34m'fvec'\u001b[0m\u001b[0;34m]\u001b[0m \u001b[0;34m**\u001b[0m \u001b[0;36m2\u001b[0m\u001b[0;34m)\u001b[0m\u001b[0;34m\u001b[0m\u001b[0;34m\u001b[0m\u001b[0m\n\u001b[1;32m    755\u001b[0m         \u001b[0;32mif\u001b[0m \u001b[0mier\u001b[0m \u001b[0;32mnot\u001b[0m \u001b[0;32min\u001b[0m \u001b[0;34m[\u001b[0m\u001b[0;36m1\u001b[0m\u001b[0;34m,\u001b[0m \u001b[0;36m2\u001b[0m\u001b[0;34m,\u001b[0m \u001b[0;36m3\u001b[0m\u001b[0;34m,\u001b[0m \u001b[0;36m4\u001b[0m\u001b[0;34m]\u001b[0m\u001b[0;34m:\u001b[0m\u001b[0;34m\u001b[0m\u001b[0;34m\u001b[0m\u001b[0m\n\u001b[0;32m--> 756\u001b[0;31m             \u001b[0;32mraise\u001b[0m \u001b[0mRuntimeError\u001b[0m\u001b[0;34m(\u001b[0m\u001b[0;34m\"Optimal parameters not found: \"\u001b[0m \u001b[0;34m+\u001b[0m \u001b[0merrmsg\u001b[0m\u001b[0;34m)\u001b[0m\u001b[0;34m\u001b[0m\u001b[0;34m\u001b[0m\u001b[0m\n\u001b[0m\u001b[1;32m    757\u001b[0m     \u001b[0;32melse\u001b[0m\u001b[0;34m:\u001b[0m\u001b[0;34m\u001b[0m\u001b[0;34m\u001b[0m\u001b[0m\n\u001b[1;32m    758\u001b[0m         \u001b[0;31m# Rename maxfev (leastsq) to max_nfev (least_squares), if specified.\u001b[0m\u001b[0;34m\u001b[0m\u001b[0;34m\u001b[0m\u001b[0;34m\u001b[0m\u001b[0m\n",
      "\u001b[0;31mRuntimeError\u001b[0m: Optimal parameters not found: Number of calls to function has reached maxfev = 10000."
     ]
    }
   ],
   "source": [
    "wid2_params,wid2_cov=curve_fit(powerlaw,frequency_ind2,width_ind2, maxfev=10000)\n",
    "wid2_error=np.sqrt(np.diag(wid2_cov))"
   ]
  },
  {
   "cell_type": "code",
   "execution_count": null,
   "metadata": {
    "colab": {},
    "colab_type": "code",
    "id": "X_Io0XJjpvY0"
   },
   "outputs": [],
   "source": [
    "wid2_fit = powerlaw(frequency_ind2, *wid2_params)"
   ]
  },
  {
   "cell_type": "code",
   "execution_count": null,
   "metadata": {
    "colab": {
     "base_uri": "https://localhost:8080/",
     "height": 297
    },
    "colab_type": "code",
    "id": "bCaNRt8EpyDl",
    "outputId": "342a3205-0048-4c84-d305-8bf6055c7bbd"
   },
   "outputs": [],
   "source": [
    "py.plot(frequency_ind2, width_ind2, lw=0.5, label='data')\n",
    "py.plot(frequency_ind2, wid2_fit, color='red',lw=1,label='power fit')\n",
    "py.xlabel('Frequency')\n",
    "py.ylabel('\\u0394\\u03B8 (deg)')"
   ]
  },
  {
   "cell_type": "code",
   "execution_count": null,
   "metadata": {
    "colab": {},
    "colab_type": "code",
    "id": "hBjyTDjgp133"
   },
   "outputs": [],
   "source": []
  }
 ],
 "metadata": {
  "colab": {
   "collapsed_sections": [
    "4z_feS2dDwlJ",
    "FamzMgIcD2xs",
    "HsEW4YA0D-QH",
    "eKWvXxMcEIfE",
    "er13GCy-EUTz",
    "6a03g77-gZa5",
    "IGeyAoMhEduw",
    "Y1RZQ9SHcgOZ",
    "pccDpOhFgn-A",
    "KZFBrw4AEiXX",
    "jBHxooGJctvn",
    "S8Wdb29Jkmx7",
    "G6J_t2-wlTKi",
    "8WslQQJrq_Aj",
    "-PbPFKZBj1oi",
    "BAAAMssWpRQc"
   ],
   "name": "Component Separation - RFI Removed.ipynb",
   "provenance": []
  },
  "kernelspec": {
   "display_name": "Python 3",
   "language": "python",
   "name": "python3"
  },
  "language_info": {
   "codemirror_mode": {
    "name": "ipython",
    "version": 3
   },
   "file_extension": ".py",
   "mimetype": "text/x-python",
   "name": "python",
   "nbconvert_exporter": "python",
   "pygments_lexer": "ipython3",
   "version": "3.6.8"
  }
 },
 "nbformat": 4,
 "nbformat_minor": 1
}
