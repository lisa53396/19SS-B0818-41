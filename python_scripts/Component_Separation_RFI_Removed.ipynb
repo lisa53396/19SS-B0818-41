{
 "cells": [
  {
   "cell_type": "markdown",
   "metadata": {
    "colab_type": "text",
    "id": "4z_feS2dDwlJ"
   },
   "source": [
    "# Importing Packages Needed"
   ]
  },
  {
   "cell_type": "code",
   "execution_count": 1,
   "metadata": {
    "colab": {},
    "colab_type": "code",
    "id": "zJLqZxwce0pN"
   },
   "outputs": [],
   "source": [
    "import numpy as np"
   ]
  },
  {
   "cell_type": "code",
   "execution_count": 2,
   "metadata": {
    "colab": {},
    "colab_type": "code",
    "id": "I-sMZfzHe87d"
   },
   "outputs": [],
   "source": [
    "import scipy as sp"
   ]
  },
  {
   "cell_type": "code",
   "execution_count": 3,
   "metadata": {
    "colab": {},
    "colab_type": "code",
    "id": "osUA_fqWfB8I"
   },
   "outputs": [],
   "source": [
    "import matplotlib.pyplot as py"
   ]
  },
  {
   "cell_type": "code",
   "execution_count": 4,
   "metadata": {
    "colab": {},
    "colab_type": "code",
    "id": "EI8CExhqOkaC"
   },
   "outputs": [],
   "source": [
    "from scipy.optimize import curve_fit"
   ]
  },
  {
   "cell_type": "code",
   "execution_count": 5,
   "metadata": {
    "colab": {},
    "colab_type": "code",
    "id": "FTNsckCiZ_s4"
   },
   "outputs": [],
   "source": [
    "from scipy.signal import find_peaks"
   ]
  },
  {
   "cell_type": "code",
   "execution_count": 6,
   "metadata": {
    "colab": {},
    "colab_type": "code",
    "id": "PUtMS_hIaHat"
   },
   "outputs": [],
   "source": [
    "import collections as col"
   ]
  },
  {
   "cell_type": "markdown",
   "metadata": {
    "colab_type": "text",
    "id": "FamzMgIcD2xs"
   },
   "source": [
    "# Definition of Named Tuples"
   ]
  },
  {
   "cell_type": "code",
   "execution_count": 7,
   "metadata": {
    "colab": {},
    "colab_type": "code",
    "id": "Uzxt0sq0qeHc"
   },
   "outputs": [],
   "source": [
    "component = col.namedtuple('component','phase intensity')"
   ]
  },
  {
   "cell_type": "code",
   "execution_count": 8,
   "metadata": {
    "colab": {},
    "colab_type": "code",
    "id": "dX49jpTnTzy0"
   },
   "outputs": [],
   "source": [
    "ind_component = col.namedtuple('component','phase intensity width')"
   ]
  },
  {
   "cell_type": "code",
   "execution_count": 9,
   "metadata": {
    "colab": {},
    "colab_type": "code",
    "id": "MdsAp5qWIre5"
   },
   "outputs": [],
   "source": [
    "pulse_component = col.namedtuple('pulse_component','frequency comp1 comp2, errors')"
   ]
  },
  {
   "cell_type": "code",
   "execution_count": 10,
   "metadata": {
    "colab": {},
    "colab_type": "code",
    "id": "xDOdqB5tIrt5"
   },
   "outputs": [],
   "source": [
    "component_separation = col.namedtuple('component_separation','frequency separation')"
   ]
  },
  {
   "cell_type": "markdown",
   "metadata": {
    "colab_type": "text",
    "id": "a8CeXWdQIy8b"
   },
   "source": [
    "# Definition of Functions"
   ]
  },
  {
   "cell_type": "markdown",
   "metadata": {
    "colab_type": "text",
    "id": "nOegi6c8I3gu"
   },
   "source": [
    "Gaussian Fitting Functions:"
   ]
  },
  {
   "cell_type": "code",
   "execution_count": 11,
   "metadata": {
    "colab": {},
    "colab_type": "code",
    "id": "Jf6ae6VTR-iR"
   },
   "outputs": [],
   "source": [
    "def gauss(x,cen,sd,amp):\n",
    "    return amp*np.exp(-(x-cen)**2/2/sd**2)\n",
    "\n",
    "def threegauss(x,cen1,sd1,amp1,cen2,sd2,amp2,cen3,sd3,amp3):\n",
    "    return gauss(x,cen1,sd1,amp1)+gauss(x,cen2,sd2,amp2)+gauss(x,cen3,sd3,amp3)"
   ]
  },
  {
   "cell_type": "code",
   "execution_count": 12,
   "metadata": {
    "colab": {},
    "colab_type": "code",
    "id": "zWylwCBKV8SL"
   },
   "outputs": [],
   "source": [
    "def fitting_parameters(x,y,expected):\n",
    "    params,cov=curve_fit(threegauss,x,y,expected)\n",
    "    sigma=np.sqrt(np.diag(cov))\n",
    "    return params, sigma\n",
    "\n",
    "def gauss_fit(x,params):\n",
    "    return threegauss(x,*params)"
   ]
  },
  {
   "cell_type": "markdown",
   "metadata": {
    "colab_type": "text",
    "id": "Hf__MEBnJEd_"
   },
   "source": [
    "Finding Peak of Fittings Function"
   ]
  },
  {
   "cell_type": "code",
   "execution_count": 13,
   "metadata": {
    "colab": {},
    "colab_type": "code",
    "id": "iIp9ZS-sZYIZ"
   },
   "outputs": [],
   "source": [
    "def gauss_peaks(fit, nofreqband, freqband, sigma):\n",
    "    status='starting'\n",
    "  \n",
    "    i=3\n",
    "    peakpos = find_peaks(fit, prominence=i, distance=50, height=i)[0]\n",
    "\n",
    "    while len(peakpos) !=2 and i>=1 and i<5:\n",
    "        if len(peakpos) < 2:\n",
    "            i=i-0.5\n",
    "            peakpos = find_peaks(fit, prominence=i, distance=50, height=1)[0]\n",
    "\n",
    "        elif len(peakpos) > 2:\n",
    "            i=i+0.5\n",
    "            peakpos = find_peaks(fit, prominence=i, distance=50, height=2)[0]\n",
    "    \n",
    "  #Can be used for error checking\n",
    "  #else:\n",
    "    #print('Loop done')\n",
    "    #print(i)\n",
    "\n",
    "    if len(peakpos) == 2:\n",
    "        status='pending'\n",
    "\n",
    "        if peakpos[0]>=300 and peakpos[0]<=535 and peakpos[1]>=650 and peakpos[1]<=800:\n",
    "            status='complete'\n",
    "        \n",
    "        else:\n",
    "            status='error'\n",
    "\n",
    "    else:\n",
    "        status='error'\n",
    "\n",
    "\n",
    "    if status=='complete':\n",
    "        component1 = component(phase=(360/1024)*peakpos[0], intensity=fit[peakpos[0]])\n",
    "        component2 = component(phase=(360/1024)*peakpos[1], intensity=fit[peakpos[1]])\n",
    "        errors = sigma\n",
    "  \n",
    "    elif status=='error':\n",
    "        component1 = component(phase=0, intensity=0)\n",
    "        component2 = component(phase=0, intensity=0)\n",
    "        errors = 0\n",
    "\n",
    "    else:\n",
    "        print(\"Error: Something not complete in peak finding\")\n",
    "\n",
    "    freq=(((500-300)/nofreqband)*(nofreqband-freqband))+300 \n",
    "\n",
    "    profile_comp = pulse_component(frequency=freq, comp1=component1, comp2=component2, errors=sigma)\n",
    "\n",
    "  #Can be used for error checking\n",
    "  #if status != 'error':\n",
    "    #plot_peaks(x,y,profile_comp)\n",
    "\n",
    "    return profile_comp"
   ]
  },
  {
   "cell_type": "code",
   "execution_count": 14,
   "metadata": {
    "colab": {},
    "colab_type": "code",
    "id": "45qhxkFmSYy2"
   },
   "outputs": [],
   "source": [
    "def ind_peaks(params, nofreqband, freqband, sigma):\n",
    "    status='starting'\n",
    "    uncert=[]\n",
    "\n",
    "    if params[0]<params[3] and params[0]<params[6] and params[0]>=300 and params[0]<=535:\n",
    "        component1 = ind_component(phase=(360/1024)*params[0], intensity=params[1], width=params[2])\n",
    "        uncert.extend((sigma[0], sigma[1], sigma[2]))\n",
    "        status='complete'\n",
    "    elif params[3]<params[0] and params[3]<params[6] and params[3]>=300 and params[3]<=535:\n",
    "        component1 = ind_component(phase=(360/1024)*params[3], intensity=params[4], width=params[5])\n",
    "        uncert.extend((sigma[3], sigma[4], sigma[5]))\n",
    "        status='complete'\n",
    "    elif params[6]<params[0] and params[6]<params[3] and params[6]>=300 and params[6]<=535:\n",
    "        component1 = ind_component(phase=(360/1024)*params[6], intensity=params[7], width=params[8])\n",
    "        uncert.extend((sigma[6], sigma[7], sigma[8]))\n",
    "        status='complete'\n",
    "    else:\n",
    "        component1 = ind_component(phase=0, intensity=0, width=0)\n",
    "        uncert.extend((0,0,0))\n",
    "        status='error'\n",
    "\n",
    "    if params[0]>params[3] and params[0]>params[6] and params[0]>=650 and params[0]<=800:\n",
    "        component2 = ind_component(phase=(360/1024)*params[0], intensity=params[1], width=params[2])\n",
    "        uncert.extend((sigma[0], sigma[1], sigma[2]))\n",
    "        status='complete'\n",
    "    elif params[3]>params[0] and params[3]>params[6] and params[3]>=650 and params[3]<=800:\n",
    "        component2 = ind_component(phase=(360/1024)*params[3], intensity=params[4], width=params[5])\n",
    "        uncert.extend((sigma[3], sigma[4], sigma[5]))\n",
    "        status='complete'\n",
    "    elif params[6]>params[0] and params[6]>params[3] and params[6]>=650 and params[6]<=800:\n",
    "        component2 = ind_component(phase=(360/1024)*params[6], intensity=params[7], width=params[8])\n",
    "        uncert.extend((sigma[6], sigma[7], sigma[8]))\n",
    "        status='complete'\n",
    "    else:\n",
    "        component2 = ind_component(phase=0, intensity=0, width=0)\n",
    "        uncert.extend((0,0,0))\n",
    "        status='error'\n",
    "\n",
    "    freq=(((500-300)/nofreqband)*(nofreqband-freqband))+300 \n",
    "\n",
    "    profile_comp = pulse_component(frequency=freq, comp1=component1, comp2=component2, errors=uncert)\n",
    "\n",
    "  #Can be used for error checking\n",
    "  #if status != 'error':\n",
    "    #plot_peaks(x,y,profile_comp)\n",
    "\n",
    "    return profile_comp"
   ]
  },
  {
   "cell_type": "markdown",
   "metadata": {
    "colab_type": "text",
    "id": "4P1qFLYpI9hB"
   },
   "source": [
    "Plotting Fittings Functions"
   ]
  },
  {
   "cell_type": "code",
   "execution_count": 15,
   "metadata": {
    "colab": {},
    "colab_type": "code",
    "id": "gPhqw8WaI8pp"
   },
   "outputs": [],
   "source": [
    "def plot_fit(x,y,fit,params,sigma):\n",
    "    py.plot(x, y, lw=0.5, label='data')\n",
    "    py.plot(x,fit, color='red',lw=3,label='gaussian fit')\n",
    "    py.xlabel('Phase Bin')\n",
    "    py.ylabel('Intensity')\n",
    "    py.legend()\n",
    "    return"
   ]
  },
  {
   "cell_type": "code",
   "execution_count": 16,
   "metadata": {
    "colab": {},
    "colab_type": "code",
    "id": "NmHjFzTFith2"
   },
   "outputs": [],
   "source": [
    "def plot_fill(x,y,params):\n",
    "    params1 = params[0:3]\n",
    "    params2 = params[3:6]\n",
    "    params3 = params[6:9]\n",
    "    gfit1 = gauss(x, *params1)\n",
    "    gfit2 = gauss(x, *params2)\n",
    "    gfit3 = gauss(x, *params3)\n",
    "\n",
    "\n",
    "    py.plot(x, y, lw=0.5, label='data')\n",
    "    py.plot(x,fit,color='red',lw=3,label='gaussian fit')\n",
    "    py.xlabel('Phase Bin')\n",
    "    py.ylabel('Intensity')\n",
    "    py.legend()\n",
    "\n",
    "    py.plot(x, gfit1, \"g\")\n",
    "    py.fill_between(x, gfit1.min(), gfit1, facecolor=\"green\", alpha=0.5)\n",
    "  \n",
    "    py.plot(x, gfit2, \"y\")\n",
    "    py.fill_between(x, gfit2.min(), gfit2, facecolor=\"yellow\", alpha=0.5)\n",
    "\n",
    "    py.plot(x, gfit3, \"b\")\n",
    "    py.fill_between(x, gfit3.min(), gfit3, facecolor=\"blue\", alpha=0.5)\n",
    "\n",
    "    return "
   ]
  },
  {
   "cell_type": "code",
   "execution_count": 17,
   "metadata": {
    "colab": {},
    "colab_type": "code",
    "id": "b6Y_oMHJbEEz"
   },
   "outputs": [],
   "source": [
    "def plot_peaks(x,y,profile_comp):\n",
    "    py.plot(x,y, lw=0.5)\n",
    "    py.plot(x, fit, color='red', lw=3, label='gaussian fit')\n",
    "\n",
    "    x=[profile_comp[i][0] for i in range(1,3)]\n",
    "    y=[profile_comp[i][1] for i in range(1,3)]\n",
    "\n",
    "    py.plot(x, y ,'X', markerfacecolor='black', markeredgecolor='black', label='peaks')\n",
    "\n",
    "    py.xlabel('Phase (deg)')\n",
    "    py.ylabel('Intensity')\n",
    "    py.legend()\n",
    "    return"
   ]
  },
  {
   "cell_type": "markdown",
   "metadata": {
    "colab_type": "text",
    "id": "L_oE3uFcsKkA"
   },
   "source": [
    "Functions for Fitting Separation Data"
   ]
  },
  {
   "cell_type": "code",
   "execution_count": 18,
   "metadata": {
    "colab": {},
    "colab_type": "code",
    "id": "EgEnQbxBujiH"
   },
   "outputs": [],
   "source": [
    "def separation_singleprofile(components_array, array_wuncert):\n",
    "    sep_array=[]\n",
    "    uncert=[]\n",
    "\n",
    "    for i in range(0,len(components_array)):\n",
    "        if components_array[i][1][0] != 0 and components_array[i][2][0] != 0:\n",
    "    \n",
    "            freq=components_array[i][0]\n",
    "            sep=(components_array[i][2][0]) - (components_array[i][1][0])\n",
    "\n",
    "            single_sep=component_separation(frequency=freq, separation=sep)\n",
    "\n",
    "            sep_array.append(single_sep)\n",
    "\n",
    "            uncert.append(np.sqrt((array_wuncert[i][3][0])**2 + (array_wuncert[i][3][3])**2))\n",
    "      \n",
    "    return sep_array, uncert"
   ]
  },
  {
   "cell_type": "code",
   "execution_count": 19,
   "metadata": {
    "colab": {},
    "colab_type": "code",
    "id": "_V1yQ0U5__mq"
   },
   "outputs": [],
   "source": [
    "def powerlaw(x, A, alpha, smin):\n",
    "    return (A * (x**(alpha)) + smin)"
   ]
  },
  {
   "cell_type": "markdown",
   "metadata": {
    "colab_type": "text",
    "id": "HsEW4YA0D-QH"
   },
   "source": [
    "# Importing Data"
   ]
  },
  {
   "cell_type": "markdown",
   "metadata": {
    "colab_type": "text",
    "id": "5aCGkE3ZYbBM"
   },
   "source": [
    "Data must be in text file format from software pdv.\n",
    "Also must contain time scrunched data so that the first column of numbers is always 0 (only one pulse). "
   ]
  },
  {
   "cell_type": "code",
   "execution_count": 20,
   "metadata": {
    "colab": {},
    "colab_type": "code",
    "id": "4ieR-2IlfGA_"
   },
   "outputs": [],
   "source": [
    "fulldatatype=([('pulse','i8'),('frequency','i8'),('phase','i8'),('intensity','f8')])"
   ]
  },
  {
   "cell_type": "code",
   "execution_count": 21,
   "metadata": {
    "colab": {},
    "colab_type": "code",
    "id": "o9kgY0kqfIrQ"
   },
   "outputs": [],
   "source": [
    "averageprofiles = np.loadtxt(fname='../archivefiles/com_archivefiles/pdv/J0820_s_f28_T_pazi.pdv', dtype=fulldatatype)"
   ]
  },
  {
   "cell_type": "code",
   "execution_count": 22,
   "metadata": {
    "colab": {},
    "colab_type": "code",
    "id": "Wfp5R_xond9z"
   },
   "outputs": [],
   "source": [
    "no_freq_bands = max(averageprofiles['frequency'])+1"
   ]
  },
  {
   "cell_type": "markdown",
   "metadata": {
    "colab_type": "text",
    "id": "eKWvXxMcEIfE"
   },
   "source": [
    "# Gaussian Plotting of Individual Frequency Band - Used for error checking individual frequency bands"
   ]
  },
  {
   "cell_type": "markdown",
   "metadata": {
    "colab_type": "text",
    "id": "MVQ_pgyRnofm"
   },
   "source": [
    "Choosing Frequency Band. Following Section is for error checking:"
   ]
  },
  {
   "cell_type": "code",
   "execution_count": 23,
   "metadata": {
    "colab": {},
    "colab_type": "code",
    "id": "mcIptVeffJXA"
   },
   "outputs": [],
   "source": [
    "freqband = 72\n",
    "f = averageprofiles['frequency'] == freqband"
   ]
  },
  {
   "cell_type": "code",
   "execution_count": 24,
   "metadata": {
    "colab": {},
    "colab_type": "code",
    "id": "o9L0EPsL2JrT"
   },
   "outputs": [],
   "source": [
    "phase=averageprofiles['phase'][f]\n",
    "intensity=averageprofiles['intensity'][f]"
   ]
  },
  {
   "cell_type": "markdown",
   "metadata": {
    "colab_type": "text",
    "id": "2hhQErp8ntli"
   },
   "source": [
    "Gaussian Plots"
   ]
  },
  {
   "cell_type": "code",
   "execution_count": 25,
   "metadata": {
    "colab": {},
    "colab_type": "code",
    "id": "MvBudOjXY1DT"
   },
   "outputs": [],
   "source": [
    "x = phase\n",
    "y = intensity"
   ]
  },
  {
   "cell_type": "code",
   "execution_count": 26,
   "metadata": {
    "colab": {
     "base_uri": "https://localhost:8080/",
     "height": 35
    },
    "colab_type": "code",
    "id": "-I5g-Wtoqa_l",
    "outputId": "6c926b6f-a6b6-4303-e637-48a2cc0a15fb"
   },
   "outputs": [
    {
     "data": {
      "text/plain": [
       "1024"
      ]
     },
     "execution_count": 26,
     "metadata": {},
     "output_type": "execute_result"
    }
   ],
   "source": [
    "len(y)"
   ]
  },
  {
   "cell_type": "code",
   "execution_count": 27,
   "metadata": {
    "colab": {},
    "colab_type": "code",
    "id": "dFRIxynhSAws"
   },
   "outputs": [],
   "source": [
    "#Taken from Peaks and Gaussian fittings of frequency band 73\n",
    "expected=(501,30,8.02,655,80,4.07,741,20,11.29)"
   ]
  },
  {
   "cell_type": "code",
   "execution_count": 28,
   "metadata": {
    "colab": {},
    "colab_type": "code",
    "id": "nvTDzWP-WMAh"
   },
   "outputs": [],
   "source": [
    "params,sigma = fitting_parameters(x,y,expected)\n",
    "fit = gauss_fit(x, params)\n",
    "profile_comp = gauss_peaks(fit,no_freq_bands,freqband,sigma)"
   ]
  },
  {
   "cell_type": "code",
   "execution_count": 29,
   "metadata": {
    "colab": {
     "base_uri": "https://localhost:8080/",
     "height": 279
    },
    "colab_type": "code",
    "id": "3im4-cMCZVSR",
    "outputId": "4448ecbd-cb0d-43ca-ee79-44e44b20c402"
   },
   "outputs": [
    {
     "data": {
      "image/png": "[encoded data removed]",
      "text/plain": [
       "<matplotlib.figure.Figure at 0x7f2329634da0>"
      ]
     },
     "metadata": {},
     "output_type": "display_data"
    }
   ],
   "source": [
    "plot_fit(x,y,fit,params,sigma)"
   ]
  },
  {
   "cell_type": "code",
   "execution_count": 30,
   "metadata": {
    "colab": {
     "base_uri": "https://localhost:8080/",
     "height": 279
    },
    "colab_type": "code",
    "id": "vZAjg5geZVkC",
    "outputId": "140132f9-2e27-4888-d3e3-a91c901affe6"
   },
   "outputs": [
    {
     "data": {
      "image/png": "[encoded data removed]",
      "text/plain": [
       "<matplotlib.figure.Figure at 0x7f2329634780>"
      ]
     },
     "metadata": {},
     "output_type": "display_data"
    }
   ],
   "source": [
    "plot_fill(x,y,params)"
   ]
  },
  {
   "cell_type": "code",
   "execution_count": 31,
   "metadata": {
    "colab": {
     "base_uri": "https://localhost:8080/",
     "height": 279
    },
    "colab_type": "code",
    "id": "mmZe3OBoZ8rn",
    "outputId": "f4fbbdb4-6a61-4b32-a144-7e3e202771b4"
   },
   "outputs": [
    {
     "data": {
      "image/png": "[encoded data removed]",
      "text/plain": [
       "<matplotlib.figure.Figure at 0x7f2329357358>"
      ]
     },
     "metadata": {},
     "output_type": "display_data"
    }
   ],
   "source": [
    "plot_peaks(x*(360/1024),y,profile_comp)"
   ]
  },
  {
   "cell_type": "code",
   "execution_count": 32,
   "metadata": {
    "colab": {
     "base_uri": "https://localhost:8080/",
     "height": 53
    },
    "colab_type": "code",
    "id": "r4583s7PwhXY",
    "outputId": "da716336-2c38-4965-abe7-830903180401"
   },
   "outputs": [
    {
     "data": {
      "text/plain": [
       "pulse_component(frequency=401.3698630136986, comp1=component(phase=180.0, intensity=6.700918737581494), comp2=component(phase=261.9140625, intensity=8.966307964098842), errors=array([0.68012827, 0.67691517, 0.10238521, 2.6954843 , 2.82612215,\n",
       "       0.06290899, 0.40705462, 0.5850242 , 0.1643495 ]))"
      ]
     },
     "execution_count": 32,
     "metadata": {},
     "output_type": "execute_result"
    }
   ],
   "source": [
    "profile_comp"
   ]
  },
  {
   "cell_type": "markdown",
   "metadata": {
    "colab_type": "text",
    "id": "er13GCy-EUTz"
   },
   "source": [
    "# Gaussian Plotting and Finding Peaks of Overall Fit Data (fit_components) and Individual Fit Data (ind_components)\n"
   ]
  },
  {
   "cell_type": "markdown",
   "metadata": {
    "colab_type": "text",
    "id": "dUDXQCiVhOyH"
   },
   "source": [
    "The following is a looped version of the previous section to find the correct peaks for each pulse profile"
   ]
  },
  {
   "cell_type": "code",
   "execution_count": 33,
   "metadata": {
    "colab": {},
    "colab_type": "code",
    "id": "vJ4G8wv8tQOe"
   },
   "outputs": [],
   "source": [
    "fit_components = []\n",
    "ind_components=[]"
   ]
  },
  {
   "cell_type": "code",
   "execution_count": 34,
   "metadata": {
    "colab": {},
    "colab_type": "code",
    "id": "MspZDahR4R4P"
   },
   "outputs": [],
   "source": [
    "#Taken from Peaks and Gaussian fittings of frequency band 73, in the middle\n",
    "expected=(501,30,8.02,655,80,4.07,741,20,11.29)\n",
    "\n",
    "for i in range(0,no_freq_bands):\n",
    "    freqband = i\n",
    "  \n",
    "  #Can be used for error checking\n",
    "  #print(freqband)\n",
    "\n",
    "    f = averageprofiles['frequency'] == freqband\n",
    "\n",
    "    x=averageprofiles['phase'][f]\n",
    "    y=averageprofiles['intensity'][f]\n",
    "\n",
    "    if len(x)!=0 and len(y)!=0:\n",
    "        params,sigma = fitting_parameters(x,y,expected)\n",
    "        fit = gauss_fit(x, params)\n",
    "        profile_comp = gauss_peaks(fit, no_freq_bands, freqband, sigma)\n",
    "        profile_ind = ind_peaks(params, no_freq_bands, freqband, sigma)\n",
    "\n",
    "    #Can be used for error checking\n",
    "    #print(profile_comp)\n",
    "  \n",
    "        fit_components.append(profile_comp)\n",
    "        ind_components.append(profile_ind)"
   ]
  },
  {
   "cell_type": "markdown",
   "metadata": {
    "colab_type": "text",
    "id": "6a03g77-gZa5"
   },
   "source": [
    "# Change of Peak Position over Frequency"
   ]
  },
  {
   "cell_type": "markdown",
   "metadata": {
    "colab_type": "text",
    "id": "IGeyAoMhEduw"
   },
   "source": [
    "## Fit Peaks (fit_components)"
   ]
  },
  {
   "cell_type": "markdown",
   "metadata": {
    "colab_type": "text",
    "id": "KszZ-DmF3pTJ"
   },
   "source": [
    "Starting to graph out all the movement of component phase across frequency\n",
    "\n",
    "---\n",
    "\n"
   ]
  },
  {
   "cell_type": "code",
   "execution_count": 82,
   "metadata": {},
   "outputs": [
    {
     "data": {
      "text/plain": [
       "[pulse_component(frequency=493.1506849315068, comp1=component(phase=179.296875, intensity=1.526066209447632), comp2=component(phase=261.5625, intensity=2.370611913470223), errors=array([2.14247775, 2.51771684, 0.1134842 , 8.8803462 , 6.50098892,\n",
       "       0.04518552, 1.51092472, 2.12911625, 0.11346121])),\n",
       " pulse_component(frequency=491.7808219178082, comp1=component(phase=0, intensity=0), comp2=component(phase=0, intensity=0), errors=array([3.52629201, 3.7010839 , 0.04691477, 2.20270653, 2.43989581,\n",
       "       0.10200168, 1.40290028, 1.75696984, 0.1592521 ])),\n",
       " pulse_component(frequency=490.4109589041096, comp1=component(phase=0, intensity=0), comp2=component(phase=0, intensity=0), errors=array([3.47173047, 2.85985096, 0.06745027, 7.03163837, 4.52627865,\n",
       "       0.13583626, 1.72414597, 2.34224777, 0.17846846])),\n",
       " pulse_component(frequency=489.04109589041093, comp1=component(phase=186.6796875, intensity=2.542763302223699), comp2=component(phase=261.2109375, intensity=2.9904843747118854), errors=array([1.32350621, 2.04377085, 0.11692063, 8.7666228 , 5.10845226,\n",
       "       0.05137651, 1.25777086, 1.64952914, 0.10351277])),\n",
       " pulse_component(frequency=487.67123287671234, comp1=component(phase=184.5703125, intensity=2.935342494203679), comp2=component(phase=261.5625, intensity=3.488041656948791), errors=array([1.39919981, 1.33663211, 0.11115386, 5.7827345 , 8.12271676,\n",
       "       0.05401371, 0.94519891, 1.74926612, 0.2297479 ])),\n",
       " pulse_component(frequency=486.3013698630137, comp1=component(phase=183.1640625, intensity=3.037786721734855), comp2=component(phase=260.5078125, intensity=3.7303861748815326), errors=array([1.09119486, 1.17527217, 0.08261097, 4.63411452, 3.61510724,\n",
       "       0.05219188, 0.83930789, 1.06918519, 0.10307695])),\n",
       " pulse_component(frequency=484.93150684931504, comp1=component(phase=181.7578125, intensity=2.7785970602694863), comp2=component(phase=259.8046875, intensity=3.0551524293128285), errors=array([ 1.97508414,  2.39491067,  0.22150233,  9.3006882 , 14.337701  ,\n",
       "        0.05990775,  1.4462746 ,  2.5260387 ,  0.26138772])),\n",
       " pulse_component(frequency=483.56164383561645, comp1=component(phase=183.1640625, intensity=2.846867736942232), comp2=component(phase=259.8046875, intensity=3.3032175022537897), errors=array([1.51439729, 2.14290034, 0.09383284, 6.03970823, 3.24913002,\n",
       "       0.04414523, 1.08420257, 1.33830795, 0.08431637])),\n",
       " pulse_component(frequency=482.1917808219178, comp1=component(phase=184.5703125, intensity=3.167241613507043), comp2=component(phase=261.9140625, intensity=4.019775584992718), errors=array([1.4199431 , 1.25074374, 0.06076534, 3.6867798 , 2.65615396,\n",
       "       0.05886132, 0.77726314, 0.97121448, 0.09892221])),\n",
       " pulse_component(frequency=480.82191780821915, comp1=component(phase=183.515625, intensity=3.61719157458338), comp2=component(phase=260.5078125, intensity=4.269811794114091), errors=array([0.92396962, 1.20483952, 0.07696636, 3.7452177 , 2.22285077,\n",
       "       0.03643866, 0.64945803, 0.77432861, 0.07705573])),\n",
       " pulse_component(frequency=479.45205479452056, comp1=component(phase=183.515625, intensity=3.7521589053742073), comp2=component(phase=260.859375, intensity=4.153392546593899), errors=array([0.9104426 , 1.14352349, 0.07481246, 3.63787225, 2.18185469,\n",
       "       0.03689756, 0.68386573, 0.80433429, 0.07712858])),\n",
       " pulse_component(frequency=478.0821917808219, comp1=component(phase=183.8671875, intensity=3.7216035421516844), comp2=component(phase=261.5625, intensity=4.063840391220861), errors=array([1.02448929, 1.253866  , 0.07714609, 4.23990914, 2.5206889 ,\n",
       "       0.04121211, 0.76008077, 0.89631654, 0.07996096])),\n",
       " pulse_component(frequency=476.71232876712327, comp1=component(phase=184.21875, intensity=3.7191325498440313), comp2=component(phase=261.5625, intensity=4.461987677631691), errors=array([0.94660337, 1.42697179, 0.09821231, 5.80405206, 3.11448092,\n",
       "       0.0419599 , 0.67859516, 0.8581357 , 0.08299965])),\n",
       " pulse_component(frequency=475.3424657534247, comp1=component(phase=184.21875, intensity=4.057006238403244), comp2=component(phase=261.9140625, intensity=5.068021990901256), errors=array([1.25743774, 1.14272555, 0.09176103, 4.9934482 , 3.34536436,\n",
       "       0.06349416, 0.68989463, 0.87939792, 0.1136775 ])),\n",
       " pulse_component(frequency=473.972602739726, comp1=component(phase=183.8671875, intensity=3.9430876455558748), comp2=component(phase=261.2109375, intensity=4.9242600184776), errors=array([1.2238647 , 1.01994519, 0.08112152, 5.31996329, 6.36994402,\n",
       "       0.0589163 , 0.62991595, 1.16724354, 0.2437309 ])),\n",
       " pulse_component(frequency=472.6027397260274, comp1=component(phase=182.8125, intensity=3.7399319955981984), comp2=component(phase=260.5078125, intensity=4.857085118782962), errors=array([0.97947782, 0.96305359, 0.07502059, 4.24994907, 3.09309516,\n",
       "       0.06850597, 0.73970356, 0.98266474, 0.12848208])),\n",
       " pulse_component(frequency=471.2328767123288, comp1=component(phase=183.1640625, intensity=3.7639591392540277), comp2=component(phase=261.2109375, intensity=4.939192166198138), errors=array([1.02417688, 0.97017147, 0.06278358, 3.16730567, 2.27382097,\n",
       "       0.0667068 , 0.70012174, 0.89580454, 0.11478687])),\n",
       " pulse_component(frequency=468.4931506849315, comp1=component(phase=183.8671875, intensity=3.527999275608781), comp2=component(phase=260.859375, intensity=4.732976996680306), errors=array([1.32984691, 1.22179022, 0.05217224, 2.46266814, 3.71774817,\n",
       "       0.05421545, 1.00973459, 0.80917919, 0.16005609])),\n",
       " pulse_component(frequency=465.7534246575342, comp1=component(phase=182.8125, intensity=3.907411356646043), comp2=component(phase=260.859375, intensity=5.076928539364073), errors=array([1.03731525, 1.03904488, 0.10155408, 4.00186598, 4.10386759,\n",
       "       0.04519851, 0.57895953, 0.83378228, 0.12689806])),\n",
       " pulse_component(frequency=464.3835616438356, comp1=component(phase=184.21875, intensity=3.8481099239342598), comp2=component(phase=261.2109375, intensity=4.990790588604282), errors=array([1.09589515, 0.98728531, 0.08270489, 3.90640868, 3.61411317,\n",
       "       0.04879403, 0.59114947, 0.84877245, 0.12951239])),\n",
       " pulse_component(frequency=463.013698630137, comp1=component(phase=183.515625, intensity=3.8917117480109553), comp2=component(phase=261.9140625, intensity=4.8525059380235485), errors=array([1.06460706, 0.92767589, 0.0849077 , 3.749144  , 4.7142393 ,\n",
       "       0.04555608, 0.55671074, 0.93114424, 0.16152191])),\n",
       " pulse_component(frequency=461.6438356164383, comp1=component(phase=183.8671875, intensity=3.84801345780556), comp2=component(phase=261.9140625, intensity=4.647632876093597), errors=array([1.10251113, 0.91538678, 0.06840623, 3.88470118, 5.52537605,\n",
       "       0.04700401, 0.55327081, 1.00322678, 0.20622291])),\n",
       " pulse_component(frequency=460.2739726027397, comp1=component(phase=183.1640625, intensity=3.8210755443258724), comp2=component(phase=260.859375, intensity=4.664077220268737), errors=array([0.90798726, 0.81604617, 0.0704444 , 3.54764457, 4.27147624,\n",
       "       0.04287507, 0.50602511, 0.81909003, 0.13922955])),\n",
       " pulse_component(frequency=458.9041095890411, comp1=component(phase=182.8125, intensity=3.8308231565176554), comp2=component(phase=260.5078125, intensity=4.6667782232492945), errors=array([0.9674519 , 0.83590672, 0.06727177, 4.18680495, 4.77108144,\n",
       "       0.04836468, 0.56083572, 0.99802525, 0.18182657])),\n",
       " pulse_component(frequency=457.5342465753424, comp1=component(phase=182.4609375, intensity=3.909046294438696), comp2=component(phase=261.9140625, intensity=4.890915792983694), errors=array([0.82711405, 0.77293266, 0.05361987, 2.84806838, 2.18301979,\n",
       "       0.0488728 , 0.54962642, 0.72649906, 0.09720388])),\n",
       " pulse_component(frequency=456.16438356164383, comp1=component(phase=183.1640625, intensity=3.774898706220002), comp2=component(phase=261.2109375, intensity=5.1653818151294), errors=array([0.92574224, 0.86199819, 0.05737904, 2.9157222 , 2.16379784,\n",
       "       0.0498131 , 0.49310052, 0.61595822, 0.08988375])),\n",
       " pulse_component(frequency=454.7945205479452, comp1=component(phase=181.7578125, intensity=3.674674024963449), comp2=component(phase=261.2109375, intensity=4.729430185744454), errors=array([0.79797406, 0.86807648, 0.07223558, 3.72982167, 2.77541421,\n",
       "       0.04476708, 0.56814265, 0.72669144, 0.08648437])),\n",
       " pulse_component(frequency=453.42465753424653, comp1=component(phase=181.7578125, intensity=3.473903829007336), comp2=component(phase=261.5625, intensity=4.552704663166683), errors=array([0.82241721, 0.95558505, 0.07998413, 4.13201629, 3.35543749,\n",
       "       0.04105977, 0.56207144, 0.72643597, 0.08850646])),\n",
       " pulse_component(frequency=452.05479452054794, comp1=component(phase=182.8125, intensity=3.342562844140358), comp2=component(phase=261.5625, intensity=4.4733923680977625), errors=array([0.99331033, 0.9375767 , 0.06888776, 4.32654823, 4.14465439,\n",
       "       0.04701989, 0.5971562 , 0.89728886, 0.12893275])),\n",
       " pulse_component(frequency=450.6849315068493, comp1=component(phase=182.8125, intensity=3.560452916312819), comp2=component(phase=261.9140625, intensity=4.97585723950286), errors=array([0.91193643, 0.82636588, 0.05927285, 3.58352156, 3.61462594,\n",
       "       0.04491679, 0.49131448, 0.78130014, 0.13509401])),\n",
       " pulse_component(frequency=449.31506849315065, comp1=component(phase=182.109375, intensity=3.874381038284196), comp2=component(phase=261.2109375, intensity=5.2614608456372105), errors=array([0.82406143, 0.76671617, 0.06481408, 3.73287306, 3.88460975,\n",
       "       0.04759252, 0.48651651, 0.79930517, 0.15062814])),\n",
       " pulse_component(frequency=447.94520547945206, comp1=component(phase=182.4609375, intensity=3.931925576758287), comp2=component(phase=261.2109375, intensity=5.476156605431592), errors=array([0.77216486, 0.74492567, 0.05727008, 2.82319893, 2.15765111,\n",
       "       0.04980634, 0.48217715, 0.63357695, 0.09706854])),\n",
       " pulse_component(frequency=446.5753424657534, comp1=component(phase=182.4609375, intensity=3.9011390236321355), comp2=component(phase=261.5625, intensity=5.332453689121706), errors=array([0.84950658, 0.81480854, 0.05831574, 2.79073856, 2.00286407,\n",
       "       0.05583496, 0.55104584, 0.69836436, 0.09416364])),\n",
       " pulse_component(frequency=445.20547945205476, comp1=component(phase=182.109375, intensity=4.07817769248079), comp2=component(phase=261.9140625, intensity=5.432927197121593), errors=array([0.81667867, 0.7918963 , 0.06492615, 2.9471621 , 2.3544631 ,\n",
       "       0.04849182, 0.51554262, 0.679646  , 0.10045645])),\n",
       " pulse_component(frequency=443.83561643835617, comp1=component(phase=181.40625, intensity=4.244259853532704), comp2=component(phase=261.9140625, intensity=5.504077236334032), errors=array([0.71194437, 0.76748193, 0.08003662, 2.96894712, 3.05215227,\n",
       "       0.04235934, 0.48368151, 0.68552589, 0.10972616])),\n",
       " pulse_component(frequency=442.4657534246575, comp1=component(phase=182.109375, intensity=4.473586019590702), comp2=component(phase=261.5625, intensity=6.159619418214714), errors=array([0.77343179, 0.88633379, 0.10067861, 3.65318599, 3.47215217,\n",
       "       0.04314266, 0.44862343, 0.61275632, 0.10966509])),\n",
       " pulse_component(frequency=441.0958904109589, comp1=component(phase=183.1640625, intensity=4.994607809204549), comp2=component(phase=261.2109375, intensity=6.612998535108374), errors=array([0.71699871, 0.70892535, 0.07358582, 2.93978578, 2.17980881,\n",
       "       0.05272226, 0.43122935, 0.54586035, 0.0987461 ])),\n",
       " pulse_component(frequency=439.7260273972603, comp1=component(phase=182.8125, intensity=5.078870606251801), comp2=component(phase=261.2109375, intensity=6.441103498384708), errors=array([0.71043477, 0.68989642, 0.07078136, 3.05904627, 2.21592123,\n",
       "       0.05989157, 0.50115623, 0.65517796, 0.11145425])),\n",
       " pulse_component(frequency=438.35616438356163, comp1=component(phase=181.0546875, intensity=5.037355714819363), comp2=component(phase=261.5625, intensity=6.451458716301778), errors=array([0.6440041 , 0.69535979, 0.07538654, 2.75303547, 2.21250945,\n",
       "       0.06357938, 0.49761419, 0.61741292, 0.09918357])),\n",
       " pulse_component(frequency=436.986301369863, comp1=component(phase=181.40625, intensity=4.917862839560202), comp2=component(phase=261.5625, intensity=6.398727453761766), errors=array([0.77070872, 0.76111153, 0.07741325, 3.08654149, 2.38299279,\n",
       "       0.05372343, 0.48917158, 0.63418269, 0.10790762])),\n",
       " pulse_component(frequency=435.6164383561644, comp1=component(phase=181.0546875, intensity=4.965017903808503), comp2=component(phase=261.9140625, intensity=7.002899880387609), errors=array([0.87299227, 0.85621605, 0.08759219, 3.16841337, 2.55145395,\n",
       "       0.05374577, 0.45904848, 0.59456948, 0.11446627])),\n",
       " pulse_component(frequency=434.24657534246575, comp1=component(phase=182.109375, intensity=5.287458504581323), comp2=component(phase=261.5625, intensity=7.276484615064641), errors=array([0.98352816, 0.88898166, 0.07240686, 3.02275769, 2.20906584,\n",
       "       0.07346294, 0.52203787, 0.68368137, 0.14009932])),\n",
       " pulse_component(frequency=432.8767123287671, comp1=component(phase=182.4609375, intensity=5.798335490524485), comp2=component(phase=261.5625, intensity=7.69431868836646), errors=array([0.71343121, 0.67424663, 0.07369172, 2.6944368 , 2.05240888,\n",
       "       0.06466174, 0.45116041, 0.59980781, 0.12890398])),\n",
       " pulse_component(frequency=431.5068493150685, comp1=component(phase=181.7578125, intensity=5.93272623902971), comp2=component(phase=261.5625, intensity=7.811920735126767), errors=array([0.66780476, 0.66761401, 0.0836075 , 2.55308289, 2.08538633,\n",
       "       0.05866647, 0.42453264, 0.54696459, 0.1204248 ])),\n",
       " pulse_component(frequency=430.13698630136986, comp1=component(phase=180.703125, intensity=5.945989841360808), comp2=component(phase=261.5625, intensity=7.533707052637179), errors=array([0.5949712 , 0.68954231, 0.09393419, 2.79261894, 2.1745188 ,\n",
       "       0.05134982, 0.41537643, 0.51338255, 0.10233158])),\n",
       " pulse_component(frequency=428.7671232876712, comp1=component(phase=181.0546875, intensity=5.31417628293295), comp2=component(phase=261.2109375, intensity=7.26902365888369), errors=array([0.84963125, 0.82695563, 0.08873182, 3.15063028, 2.34956079,\n",
       "       0.0578831 , 0.46751244, 0.59626605, 0.11403546])),\n",
       " pulse_component(frequency=427.3972602739726, comp1=component(phase=181.40625, intensity=5.435822597721005), comp2=component(phase=261.5625, intensity=7.401806723206612), errors=array([0.73448   , 0.73226103, 0.07990296, 2.82198782, 2.08865377,\n",
       "       0.06085329, 0.44332642, 0.5547322 , 0.1088758 ])),\n",
       " pulse_component(frequency=426.027397260274, comp1=component(phase=181.40625, intensity=5.437672829117593), comp2=component(phase=261.2109375, intensity=7.39117382347477), errors=array([0.74582537, 0.85686407, 0.10386186, 3.57615705, 2.5757197 ,\n",
       "       0.05817699, 0.45982932, 0.57214134, 0.1075968 ])),\n",
       " pulse_component(frequency=424.6575342465753, comp1=component(phase=181.40625, intensity=5.676589437223978), comp2=component(phase=261.5625, intensity=7.8028942689771625), errors=array([0.71080042, 0.70645516, 0.07852842, 2.6259852 , 1.93692344,\n",
       "       0.06073092, 0.41201296, 0.51163809, 0.10462189])),\n",
       " pulse_component(frequency=423.28767123287673, comp1=component(phase=181.40625, intensity=5.763360655559147), comp2=component(phase=261.9140625, intensity=7.93157505241734), errors=array([0.74713907, 0.71639552, 0.07719024, 2.79451546, 2.13547203,\n",
       "       0.06744002, 0.44418394, 0.57446869, 0.12908169])),\n",
       " pulse_component(frequency=421.9178082191781, comp1=component(phase=181.0546875, intensity=5.5822103424060225), comp2=component(phase=261.9140625, intensity=7.87527173362693), errors=array([0.77785121, 0.73405048, 0.07848123, 2.77625967, 2.35251842,\n",
       "       0.05988277, 0.42237419, 0.57079277, 0.13297018])),\n",
       " pulse_component(frequency=420.54794520547944, comp1=component(phase=181.0546875, intensity=5.559857450311211), comp2=component(phase=261.5625, intensity=7.418961645779527), errors=array([0.77061476, 0.73375744, 0.08795936, 3.22161201, 3.11797155,\n",
       "       0.05720878, 0.44522422, 0.64564331, 0.14976071])),\n",
       " pulse_component(frequency=419.17808219178085, comp1=component(phase=180.703125, intensity=5.458953195979331), comp2=component(phase=261.2109375, intensity=7.210057876199961), errors=array([0.72819448, 0.69242152, 0.07573244, 2.91894016, 2.66668959,\n",
       "       0.06017937, 0.45829491, 0.66488465, 0.15019299])),\n",
       " pulse_component(frequency=417.8082191780822, comp1=component(phase=181.0546875, intensity=5.49893715664173), comp2=component(phase=261.9140625, intensity=7.5695139236295885), errors=array([0.76676944, 0.72732447, 0.07561325, 2.71006899, 2.27289243,\n",
       "       0.06016495, 0.42998468, 0.57203285, 0.12954643])),\n",
       " pulse_component(frequency=416.43835616438355, comp1=component(phase=181.0546875, intensity=5.93551779141743), comp2=component(phase=261.5625, intensity=7.8924257543796745), errors=array([0.70104799, 0.72533114, 0.09871265, 2.99696124, 2.71995339,\n",
       "       0.0548768 , 0.41488696, 0.55266507, 0.12758885])),\n",
       " pulse_component(frequency=415.06849315068496, comp1=component(phase=181.0546875, intensity=5.771086541010577), comp2=component(phase=261.5625, intensity=7.752893272619742), errors=array([0.76398548, 0.7539217 , 0.0932175 , 3.15276526, 2.64659165,\n",
       "       0.05811229, 0.44351025, 0.59076867, 0.12941568])),\n",
       " pulse_component(frequency=413.6986301369863, comp1=component(phase=180.703125, intensity=5.791129953306635), comp2=component(phase=261.9140625, intensity=8.00639673063694), errors=array([0.74514002, 0.74701653, 0.09316274, 3.07383812, 2.64026599,\n",
       "       0.05713573, 0.40511938, 0.52653905, 0.12520993])),\n",
       " pulse_component(frequency=412.32876712328766, comp1=component(phase=180.3515625, intensity=5.8232547878207725), comp2=component(phase=261.2109375, intensity=7.843524314375632), errors=array([0.6972885 , 0.73897448, 0.09775655, 3.2653902 , 2.72440133,\n",
       "       0.05723093, 0.42060838, 0.54062151, 0.12188987])),\n",
       " pulse_component(frequency=410.958904109589, comp1=component(phase=180.703125, intensity=5.779172866380931), comp2=component(phase=261.9140625, intensity=7.949662264001626), errors=array([0.7752635 , 0.72668806, 0.08250841, 3.23377802, 2.97149885,\n",
       "       0.06296702, 0.42917579, 0.61592867, 0.15674569])),\n",
       " pulse_component(frequency=409.5890410958904, comp1=component(phase=180.703125, intensity=5.883213302254057), comp2=component(phase=261.9140625, intensity=8.526196503952917), errors=array([0.69943651, 0.66813331, 0.07299513, 2.58970851, 2.06607354,\n",
       "       0.06075465, 0.36669328, 0.47459828, 0.12185275])),\n",
       " pulse_component(frequency=408.2191780821918, comp1=component(phase=180.0, intensity=6.239451656552506), comp2=component(phase=261.5625, intensity=8.640540664481016), errors=array([0.69630705, 0.78369195, 0.1113819 , 3.61864509, 2.76667729,\n",
       "       0.05814866, 0.40080959, 0.50496527, 0.11874281])),\n",
       " pulse_component(frequency=406.8493150684931, comp1=component(phase=180.0, intensity=6.192091141955912), comp2=component(phase=261.9140625, intensity=9.389867069626545), errors=array([0.72261073, 0.70608431, 0.0830572 , 2.59665022, 1.99495344,\n",
       "       0.06790089, 0.3700944 , 0.46337025, 0.12594608])),\n",
       " pulse_component(frequency=405.47945205479454, comp1=component(phase=180.3515625, intensity=6.302327346745634), comp2=component(phase=261.9140625, intensity=9.178886848561437), errors=array([0.69246176, 0.66737605, 0.08632291, 2.88113531, 2.61159794,\n",
       "       0.06779042, 0.39719961, 0.57368346, 0.16709618])),\n",
       " pulse_component(frequency=404.1095890410959, comp1=component(phase=179.6484375, intensity=6.273305795774975), comp2=component(phase=261.2109375, intensity=9.21556904214021), errors=array([0.65884292, 0.72329152, 0.10795526, 3.17289737, 2.71731465,\n",
       "       0.06556067, 0.41240164, 0.54287437, 0.14168352])),\n",
       " pulse_component(frequency=401.3698630136986, comp1=component(phase=180.0, intensity=6.700918737581494), comp2=component(phase=261.9140625, intensity=8.966307964098842), errors=array([0.68012827, 0.67691517, 0.10238521, 2.6954843 , 2.82612215,\n",
       "       0.06290899, 0.40705462, 0.5850242 , 0.1643495 ])),\n",
       " pulse_component(frequency=400.0, comp1=component(phase=178.9453125, intensity=6.938548621817143), comp2=component(phase=261.5625, intensity=10.07220384516172), errors=array([0.62645495, 0.70780602, 0.11692613, 2.84684322, 2.58682318,\n",
       "       0.06174807, 0.36381873, 0.46983622, 0.13893918])),\n",
       " pulse_component(frequency=398.63013698630135, comp1=component(phase=180.3515625, intensity=6.736853412715029), comp2=component(phase=261.5625, intensity=9.934063193532095), errors=array([0.74719558, 0.77784003, 0.11456183, 3.21879319, 2.59775076,\n",
       "       0.06560828, 0.3790187 , 0.48211323, 0.13777759])),\n",
       " pulse_component(frequency=397.2602739726027, comp1=component(phase=180.0, intensity=7.321917828805617), comp2=component(phase=261.5625, intensity=9.762620179155364), errors=array([0.58994356, 0.69493041, 0.11858789, 3.30510127, 2.50689764,\n",
       "       0.07021179, 0.40261647, 0.49635583, 0.13093676])),\n",
       " pulse_component(frequency=395.8904109589041, comp1=component(phase=179.296875, intensity=7.023867187459069), comp2=component(phase=261.9140625, intensity=9.601478726324387), errors=array([0.59348563, 0.64239277, 0.09926189, 2.88780201, 2.23000493,\n",
       "       0.06655174, 0.37357025, 0.4607741 , 0.12323458])),\n",
       " pulse_component(frequency=394.52054794520546, comp1=component(phase=178.9453125, intensity=6.982435344864743), comp2=component(phase=261.5625, intensity=9.492310593242044), errors=array([0.63261554, 0.76515616, 0.12157882, 3.49454792, 2.56529247,\n",
       "       0.06490071, 0.4141043 , 0.51720526, 0.12470364])),\n",
       " pulse_component(frequency=393.1506849315068, comp1=component(phase=179.296875, intensity=6.98162288935434), comp2=component(phase=261.5625, intensity=10.059289274675693), errors=array([0.74783736, 0.76062729, 0.10658826, 3.17163534, 2.28450161,\n",
       "       0.07271533, 0.39481207, 0.49357136, 0.12928451])),\n",
       " pulse_component(frequency=391.7808219178082, comp1=component(phase=180.0, intensity=7.205387270036385), comp2=component(phase=261.9140625, intensity=10.1435552667024), errors=array([0.66838451, 0.66620581, 0.09343434, 2.47751781, 1.85903519,\n",
       "       0.07523071, 0.39365504, 0.48950209, 0.13256467])),\n",
       " pulse_component(frequency=390.4109589041096, comp1=component(phase=178.2421875, intensity=7.364224920956216), comp2=component(phase=261.2109375, intensity=9.844606444845892), errors=array([0.58608694, 0.77763111, 0.1119702 , 3.04664574, 1.92146856,\n",
       "       0.04995404, 0.36282092, 0.42921844, 0.11213228])),\n",
       " pulse_component(frequency=386.3013698630137, comp1=component(phase=178.59375, intensity=6.927276099898878), comp2=component(phase=261.5625, intensity=9.560725791551755), errors=array([0.59770866, 0.8803675 , 0.12041635, 3.98208756, 2.4075101 ,\n",
       "       0.04959038, 0.35443833, 0.43455164, 0.10812899])),\n",
       " pulse_component(frequency=384.93150684931504, comp1=component(phase=178.59375, intensity=6.70343044262702), comp2=component(phase=262.265625, intensity=9.638502257365102), errors=array([0.75104049, 0.73785801, 0.09338956, 3.09111223, 2.31193607,\n",
       "       0.07348183, 0.39434326, 0.49103645, 0.13172382])),\n",
       " pulse_component(frequency=383.56164383561645, comp1=component(phase=177.890625, intensity=7.117095094808882), comp2=component(phase=261.5625, intensity=10.157648195076534), errors=array([0.66515549, 0.657976  , 0.09486316, 3.02468422, 2.47203121,\n",
       "       0.07435086, 0.39146464, 0.51863182, 0.15440787])),\n",
       " pulse_component(frequency=382.1917808219178, comp1=component(phase=178.2421875, intensity=6.535244644080639), comp2=component(phase=261.5625, intensity=9.468569920333149), errors=array([0.79372396, 0.73995219, 0.09729725, 3.03398411, 3.19274401,\n",
       "       0.06770641, 0.40399522, 0.61747429, 0.19334868])),\n",
       " pulse_component(frequency=380.82191780821915, comp1=component(phase=179.296875, intensity=6.102026256164135), comp2=component(phase=261.5625, intensity=9.022046820925546), errors=array([0.82536299, 0.76364901, 0.08931479, 2.69436156, 2.89419498,\n",
       "       0.06412805, 0.38469221, 0.57081565, 0.17562352])),\n",
       " pulse_component(frequency=375.3424657534247, comp1=component(phase=178.59375, intensity=6.281751725449371), comp2=component(phase=262.265625, intensity=8.894841767696128), errors=array([0.74802855, 0.72200552, 0.07805596, 3.10481622, 2.53957726,\n",
       "       0.07510395, 0.40091792, 0.5355128 , 0.15739191])),\n",
       " pulse_component(frequency=365.75342465753425, comp1=component(phase=179.296875, intensity=4.159564647386796), comp2=component(phase=261.2109375, intensity=6.453383756445916), errors=array([1.39060757, 1.48295247, 0.14291132, 6.1650719 , 4.65866438,\n",
       "       0.11703684, 0.9051535 , 1.12508502, 0.19650486])),\n",
       " pulse_component(frequency=360.2739726027397, comp1=component(phase=176.8359375, intensity=6.973623547276635), comp2=component(phase=261.9140625, intensity=10.1403494934106), errors=array([0.73794475, 0.72875806, 0.11365578, 3.08286475, 3.53404511,\n",
       "       0.06777946, 0.37294435, 0.54769976, 0.18479758])),\n",
       " pulse_component(frequency=358.90410958904107, comp1=component(phase=175.4296875, intensity=7.179249969139105), comp2=component(phase=261.5625, intensity=10.473223894810474), errors=array([0.69794624, 0.90716214, 0.11100754, 3.47953452, 2.11385108,\n",
       "       0.05248841, 0.34195571, 0.3980053 , 0.11506185])),\n",
       " pulse_component(frequency=357.5342465753425, comp1=component(phase=176.8359375, intensity=7.709269862772425), comp2=component(phase=261.9140625, intensity=11.011517173336548), errors=array([0.61163062, 0.74156678, 0.10373681, 2.99253522, 1.89463264,\n",
       "       0.05086994, 0.31775495, 0.36415618, 0.11125088])),\n",
       " pulse_component(frequency=356.16438356164383, comp1=component(phase=175.78125, intensity=8.272045292412226), comp2=component(phase=261.9140625, intensity=10.649549628648973), errors=array([0.57422516, 0.70072886, 0.11755798, 3.59074389, 2.21837563,\n",
       "       0.05588985, 0.36829483, 0.43917383, 0.12126454])),\n",
       " pulse_component(frequency=354.7945205479452, comp1=component(phase=176.1328125, intensity=7.267244670990062), comp2=component(phase=261.9140625, intensity=11.495142508402214), errors=array([0.7873436 , 0.78004818, 0.10436341, 3.32959715, 2.51388535,\n",
       "       0.08549728, 0.36263075, 0.44746871, 0.14738365])),\n",
       " pulse_component(frequency=353.4246575342466, comp1=component(phase=175.78125, intensity=7.293125289822304), comp2=component(phase=261.5625, intensity=11.235039369119132), errors=array([0.81384322, 0.77324273, 0.10848107, 3.60977981, 3.49580852,\n",
       "       0.08554159, 0.41052785, 0.61898349, 0.23014341])),\n",
       " pulse_component(frequency=352.05479452054794, comp1=component(phase=176.8359375, intensity=7.036982520234327), comp2=component(phase=261.5625, intensity=10.345500455808764), errors=array([0.79447036, 0.80820701, 0.13457972, 3.32791832, 3.95333142,\n",
       "       0.07420381, 0.41509016, 0.62285749, 0.21009743])),\n",
       " pulse_component(frequency=350.6849315068493, comp1=component(phase=177.1875, intensity=7.971295853607414), comp2=component(phase=261.9140625, intensity=11.118520883782363), errors=array([1.62546296, 1.54107523, 0.13221855, 3.66820635, 5.88699826,\n",
       "       0.14124966, 0.78662358, 0.8055982 , 0.38727225])),\n",
       " pulse_component(frequency=349.3150684931507, comp1=component(phase=176.484375, intensity=7.922129442681568), comp2=component(phase=261.5625, intensity=12.04641067480803), errors=array([0.78338753, 0.80104394, 0.15755319, 3.73001801, 4.74393971,\n",
       "       0.07400134, 0.33320612, 0.48227439, 0.20272237])),\n",
       " pulse_component(frequency=347.94520547945206, comp1=component(phase=175.4296875, intensity=7.856262538701826), comp2=component(phase=262.265625, intensity=11.373091838353218), errors=array([0.75761628, 0.73164906, 0.11735881, 4.08562155, 4.51538945,\n",
       "       0.08982331, 0.38818345, 0.61564508, 0.26693905])),\n",
       " pulse_component(frequency=346.5753424657534, comp1=component(phase=174.7265625, intensity=7.214271925602119), comp2=component(phase=261.5625, intensity=10.824643434922496), errors=array([0.84808338, 0.90096648, 0.16034752, 5.02423343, 5.84993375,\n",
       "       0.08724276, 0.44665686, 0.64979194, 0.23481329])),\n",
       " pulse_component(frequency=345.20547945205476, comp1=component(phase=176.484375, intensity=6.558853748984465), comp2=component(phase=261.9140625, intensity=10.752636591099366), errors=array([1.15173419, 1.089758  , 0.12581256, 4.64903731, 3.90339948,\n",
       "       0.10669303, 0.50973652, 0.68867064, 0.23247038])),\n",
       " pulse_component(frequency=343.83561643835617, comp1=component(phase=175.078125, intensity=8.533996722317402), comp2=component(phase=261.5625, intensity=13.178046492087455), errors=array([0.61166538, 0.65898694, 0.13677981, 2.94934448, 2.49372939,\n",
       "       0.09113319, 0.36634653, 0.45490622, 0.18438283])),\n",
       " pulse_component(frequency=342.4657534246575, comp1=component(phase=175.078125, intensity=8.99335208004642), comp2=component(phase=262.265625, intensity=13.550003453697082), errors=array([0.63809554, 0.91754512, 0.17717224, 4.11826646, 2.97960484,\n",
       "       0.07906881, 0.37439373, 0.44975146, 0.16697999])),\n",
       " pulse_component(frequency=341.0958904109589, comp1=component(phase=175.4296875, intensity=9.034300335046659), comp2=component(phase=261.5625, intensity=14.759113556429439), errors=array([0.65359175, 0.95104552, 0.1998498 , 4.90844617, 3.66607559,\n",
       "       0.0769087 , 0.33185939, 0.41946709, 0.18198261])),\n",
       " pulse_component(frequency=339.7260273972603, comp1=component(phase=176.484375, intensity=9.160678741096232), comp2=component(phase=261.5625, intensity=14.299228488931542), errors=array([0.70745684, 0.77100543, 0.1522793 , 3.65620142, 2.83285826,\n",
       "       0.12103027, 0.40553784, 0.49995783, 0.19670543])),\n",
       " pulse_component(frequency=338.35616438356163, comp1=component(phase=174.0234375, intensity=9.447438135425108), comp2=component(phase=261.9140625, intensity=14.848580016921888), errors=array([0.62542071, 0.83491078, 0.17777119, 4.01350722, 3.05793391,\n",
       "       0.08729573, 0.35007217, 0.42334448, 0.17635145])),\n",
       " pulse_component(frequency=336.986301369863, comp1=component(phase=174.7265625, intensity=9.479192537470848), comp2=component(phase=261.5625, intensity=14.753928760427705), errors=array([0.69810925, 0.94216559, 0.1671829 , 3.96212071, 2.40663043,\n",
       "       0.07376406, 0.32748829, 0.41010561, 0.16417334])),\n",
       " pulse_component(frequency=335.6164383561644, comp1=component(phase=174.375, intensity=10.444576688748489), comp2=component(phase=261.2109375, intensity=14.853891376013062), errors=array([0.67895508, 0.83369511, 0.16692165, 3.49820008, 2.20290043,\n",
       "       0.07777307, 0.3669311 , 0.4295815 , 0.17500815])),\n",
       " pulse_component(frequency=334.24657534246575, comp1=component(phase=175.78125, intensity=9.956306221090546), comp2=component(phase=261.5625, intensity=14.24214498622553), errors=array([0.7879192 , 0.97247399, 0.16142107, 3.84535008, 2.55020084,\n",
       "       0.08088895, 0.39158463, 0.43709334, 0.18197041])),\n",
       " pulse_component(frequency=332.8767123287671, comp1=component(phase=174.375, intensity=10.855389238017032), comp2=component(phase=261.9140625, intensity=14.549513036271485), errors=array([0.67848984, 0.77583297, 0.15370611, 3.40449505, 2.44118077,\n",
       "       0.07767503, 0.37923928, 0.42386964, 0.16595833])),\n",
       " pulse_component(frequency=331.5068493150685, comp1=component(phase=174.0234375, intensity=8.958606820123693), comp2=component(phase=262.265625, intensity=14.698859805974855), errors=array([0.83351938, 0.80473103, 0.12180184, 3.74990173, 2.88001408,\n",
       "       0.11714866, 0.38156523, 0.4934766 , 0.22253808])),\n",
       " pulse_component(frequency=330.13698630136986, comp1=component(phase=172.96875, intensity=8.296295231150122), comp2=component(phase=261.5625, intensity=13.923849288566885), errors=array([0.84566789, 0.83029249, 0.12700449, 3.41598632, 2.77852911,\n",
       "       0.1084645 , 0.40566187, 0.53196938, 0.22084611])),\n",
       " pulse_component(frequency=328.7671232876712, comp1=component(phase=173.671875, intensity=8.602264930850307), comp2=component(phase=261.9140625, intensity=12.356085025993316), errors=array([0.7683975 , 0.89856059, 0.1670843 , 3.51137112, 2.65521362,\n",
       "       0.07970714, 0.37275445, 0.4607348 , 0.16960517])),\n",
       " pulse_component(frequency=327.3972602739726, comp1=component(phase=174.7265625, intensity=7.757936546665233), comp2=component(phase=261.5625, intensity=11.93285029543716), errors=array([0.88970072, 1.29124988, 0.349045  , 5.38185222, 8.95250896,\n",
       "       0.08664605, 0.34681634, 0.50477578, 0.22192489])),\n",
       " pulse_component(frequency=326.027397260274, comp1=component(phase=174.375, intensity=7.766219611440814), comp2=component(phase=261.9140625, intensity=10.61122997099925), errors=array([0.74551311, 0.74790586, 0.12284508, 5.32107351, 4.59344867,\n",
       "       0.09551635, 0.44470673, 0.59297545, 0.20698807])),\n",
       " pulse_component(frequency=324.6575342465753, comp1=component(phase=171.5625, intensity=6.562775678129385), comp2=component(phase=261.9140625, intensity=9.923577202343584), errors=array([0.94008168, 1.2411008 , 0.16947346, 8.26957313, 5.40639209,\n",
       "       0.08376752, 0.43306377, 0.56525998, 0.16599433])),\n",
       " pulse_component(frequency=323.28767123287673, comp1=component(phase=175.078125, intensity=5.8412068655047005), comp2=component(phase=261.2109375, intensity=10.410424674495667), errors=array([0.92824095, 1.11439508, 0.12902527, 6.48339408, 4.04049965,\n",
       "       0.06477749, 0.39450832, 0.46146976, 0.13523729])),\n",
       " pulse_component(frequency=321.9178082191781, comp1=component(phase=172.96875, intensity=6.513703079567734), comp2=component(phase=261.2109375, intensity=9.781226938099493), errors=array([0.80359596, 0.9225621 , 0.13217275, 4.67620066, 3.39095949,\n",
       "       0.06201255, 0.47443834, 0.5324093 , 0.13612092])),\n",
       " pulse_component(frequency=320.54794520547944, comp1=component(phase=174.375, intensity=5.632705200776891), comp2=component(phase=261.9140625, intensity=9.583821083235428), errors=array([0.7417923 , 1.01434227, 0.12717258, 5.41885016, 3.76819749,\n",
       "       0.0569432 , 0.37646634, 0.44543758, 0.12525039])),\n",
       " pulse_component(frequency=319.17808219178085, comp1=component(phase=175.4296875, intensity=5.063886502536929), comp2=component(phase=261.9140625, intensity=8.426293936902374), errors=array([0.98490425, 1.09609556, 0.13825106, 6.54380556, 5.03436414,\n",
       "       0.10334883, 0.58762242, 0.72464565, 0.17574632])),\n",
       " pulse_component(frequency=317.8082191780822, comp1=component(phase=172.265625, intensity=4.375756144770437), comp2=component(phase=261.9140625, intensity=7.891979987923527), errors=array([1.13898864, 1.29129293, 0.13825531, 6.05691216, 5.77901249,\n",
       "       0.07810794, 0.5792946 , 0.77101959, 0.17995445])),\n",
       " pulse_component(frequency=316.43835616438355, comp1=component(phase=176.1328125, intensity=4.266684871893787), comp2=component(phase=262.265625, intensity=7.43067984622883), errors=array([1.75657876, 1.60127805, 0.08902899, 5.51307925, 4.33240259,\n",
       "       0.09734297, 0.64460327, 0.88676823, 0.2097169 ])),\n",
       " pulse_component(frequency=315.06849315068496, comp1=component(phase=172.265625, intensity=4.910468920999103), comp2=component(phase=260.5078125, intensity=6.461364079897557), errors=array([1.04819697, 1.2131143 , 0.09740968, 3.90563304, 2.91189724,\n",
       "       0.04710737, 0.57253877, 0.62142206, 0.117954  ])),\n",
       " pulse_component(frequency=313.6986301369863, comp1=component(phase=174.0234375, intensity=4.5805538020314795), comp2=component(phase=261.9140625, intensity=6.207705623643577), errors=array([0.8049036 , 0.91962797, 0.07610518, 3.77858676, 2.74087918,\n",
       "       0.03746183, 0.42661393, 0.46910641, 0.08624076])),\n",
       " pulse_component(frequency=312.32876712328766, comp1=component(phase=174.0234375, intensity=3.5138926307888627), comp2=component(phase=261.9140625, intensity=5.571510998168777), errors=array([1.24779649, 1.16037014, 0.06806832, 7.9497472 , 6.13017954,\n",
       "       0.06099231, 0.52609222, 0.69769235, 0.12297331])),\n",
       " pulse_component(frequency=310.958904109589, comp1=component(phase=170.5078125, intensity=2.819407571220553), comp2=component(phase=261.5625, intensity=4.901335044125805), errors=array([1.08426916, 1.07833849, 0.05357839, 4.53644585, 3.73644348,\n",
       "       0.0532584 , 0.53086972, 0.77155894, 0.12544678])),\n",
       " pulse_component(frequency=308.2191780821918, comp1=component(phase=174.7265625, intensity=2.6076360215143692), comp2=component(phase=261.2109375, intensity=3.3034268792020907), errors=array([ 1.12488413,  1.4996792 ,  0.11976616, 10.47241437, 14.61680682,\n",
       "        0.03667609,  0.61372199,  0.90183354,  0.10296846])),\n",
       " pulse_component(frequency=306.8493150684931, comp1=component(phase=170.5078125, intensity=2.0823530834520563), comp2=component(phase=262.265625, intensity=3.085526273574858), errors=array([ 1.1911975 ,  1.30544963,  0.06002815, 10.20614174,  8.66078036,\n",
       "        0.03678931,  0.59287452,  0.71280762,  0.07604625])),\n",
       " pulse_component(frequency=305.47945205479454, comp1=component(phase=172.6171875, intensity=1.4600759425996492), comp2=component(phase=261.5625, intensity=3.0008919175099553), errors=array([1.58757034, 1.69439652, 0.0429557 , 6.83532078, 8.30347552,\n",
       "       0.04400027, 0.79072338, 0.75818569, 0.08676394])),\n",
       " pulse_component(frequency=304.1095890410959, comp1=component(phase=171.2109375, intensity=2.0018061541026477), comp2=component(phase=261.2109375, intensity=3.047489828501324), errors=array([1.08988594, 1.19320991, 0.06341501, 6.95141625, 5.75416285,\n",
       "       0.02617788, 0.65181442, 0.71268371, 0.06394273])),\n",
       " pulse_component(frequency=302.73972602739724, comp1=component(phase=173.671875, intensity=1.5322180090674589), comp2=component(phase=261.2109375, intensity=3.00512089126056), errors=array([ 1.27502463,  1.70414901,  0.06231629, 11.03154853,  9.80139082,\n",
       "        0.03904576,  0.60068321,  0.73787716,  0.06589635])),\n",
       " pulse_component(frequency=301.36986301369865, comp1=component(phase=172.6171875, intensity=1.63959421035336), comp2=component(phase=262.265625, intensity=2.5707486720278627), errors=array([1.26371491, 1.31832605, 0.05562884, 4.14482175, 3.85739652,\n",
       "       0.04753456, 0.91544725, 1.09004014, 0.07988739]))]"
      ]
     },
     "execution_count": 82,
     "metadata": {},
     "output_type": "execute_result"
    }
   ],
   "source": [
    "fit_components"
   ]
  },
  {
   "cell_type": "code",
   "execution_count": 83,
   "metadata": {
    "colab": {},
    "colab_type": "code",
    "id": "CUJj3cbezRgq"
   },
   "outputs": [],
   "source": [
    "phase_comp1=[]\n",
    "frequency_comp1=[]\n",
    "comp1_err=[]\n",
    "\n",
    "for i in range(0,len(fit_components)):\n",
    "  if fit_components[i][1][0] != 0:\n",
    "    phase_comp1.append(fit_components[i][1][0])\n",
    "    frequency_comp1.append(fit_components[i][0])\n",
    "    comp1_err.append(fit_components[i][3][0])"
   ]
  },
  {
   "cell_type": "code",
   "execution_count": 90,
   "metadata": {
    "colab": {
     "base_uri": "https://localhost:8080/"
    },
    "colab_type": "code",
    "id": "N8lXroZey117",
    "outputId": "8321d6fb-90a5-49c6-bda7-b25cc8ee3845"
   },
   "outputs": [
    {
     "data": {
      "text/plain": [
       "Text(0,0.5,'Frequency')"
      ]
     },
     "execution_count": 90,
     "metadata": {},
     "output_type": "execute_result"
    },
    {
     "data": {
      "image/png": "[encoded data removed]",
      "text/plain": [
       "<matplotlib.figure.Figure at 0x7f2328c2ad30>"
      ]
     },
     "metadata": {},
     "output_type": "display_data"
    }
   ],
   "source": [
    "#py.plot(frequency_comp1,phase_comp1, '.')\n",
    "py.errorbar(phase_comp1,frequency_comp1, xerr=comp1_err, fmt='.', lw=1, label='data')\n",
    "py.title('Component 1 - Position')\n",
    "py.xlabel('Phase (deg))')\n",
    "py.ylabel('Frequency')"
   ]
  },
  {
   "cell_type": "code",
   "execution_count": 91,
   "metadata": {
    "colab": {},
    "colab_type": "code",
    "id": "ylBJ8twuzL8g"
   },
   "outputs": [],
   "source": [
    "phase_comp2=[]\n",
    "frequency_comp2=[]\n",
    "\n",
    "for i in range(0,len(fit_components)):\n",
    "  if fit_components[i][2][0] != 0:\n",
    "    phase_comp2.append(fit_components[i][2][0])\n",
    "    frequency_comp2.append(fit_components[i][0])"
   ]
  },
  {
   "cell_type": "code",
   "execution_count": 92,
   "metadata": {
    "colab": {
     "base_uri": "https://localhost:8080/"
    },
    "colab_type": "code",
    "id": "BaWU8_f424bZ",
    "outputId": "cf955db3-63ae-4a41-ee12-bf4ea0d269d1"
   },
   "outputs": [
    {
     "data": {
      "text/plain": [
       "Text(0,0.5,'Frequency')"
      ]
     },
     "execution_count": 92,
     "metadata": {},
     "output_type": "execute_result"
    },
    {
     "data": {
      "image/png": "[encoded data removed]",
      "text/plain": [
       "<matplotlib.figure.Figure at 0x7f23286658d0>"
      ]
     },
     "metadata": {},
     "output_type": "display_data"
    }
   ],
   "source": [
    "py.plot(phase_comp2,frequency_comp2, '.')\n",
    "py.title('Component 2 - Fit Peaks')\n",
    "py.xlabel('Phase Bin (deg)')\n",
    "py.ylabel('Frequency')"
   ]
  },
  {
   "cell_type": "markdown",
   "metadata": {
    "colab_type": "text",
    "id": "Y1RZQ9SHcgOZ"
   },
   "source": [
    "## Individual Peaks (ind_components)"
   ]
  },
  {
   "cell_type": "code",
   "execution_count": 39,
   "metadata": {
    "colab": {},
    "colab_type": "code",
    "id": "P5g-Z8pDYf0g"
   },
   "outputs": [],
   "source": [
    "phase_ind1=[]\n",
    "frequency_ind1=[]\n",
    "\n",
    "for i in range(0,len(ind_components)):\n",
    "  if ind_components[i][1][0] != 0:\n",
    "    phase_ind1.append(ind_components[i][1][0])\n",
    "    frequency_ind1.append(ind_components[i][0])"
   ]
  },
  {
   "cell_type": "code",
   "execution_count": 40,
   "metadata": {
    "colab": {
     "base_uri": "https://localhost:8080/"
    },
    "colab_type": "code",
    "id": "Ys5saMYTYgE4",
    "outputId": "b7f3215b-0bd4-48c7-fe7e-ce6b42897c3b"
   },
   "outputs": [
    {
     "data": {
      "text/plain": [
       "Text(0,0.5,'Frequency')"
      ]
     },
     "execution_count": 40,
     "metadata": {},
     "output_type": "execute_result"
    },
    {
     "data": {
      "image/png": "[encoded data removed]",
      "text/plain": [
       "<matplotlib.figure.Figure at 0x7f23292dc898>"
      ]
     },
     "metadata": {},
     "output_type": "display_data"
    }
   ],
   "source": [
    "py.plot(phase_ind1,frequency_ind1, '.')\n",
    "py.title('Component 1 - Individual Peaks')\n",
    "py.xlabel('Phase Bin (deg)')\n",
    "py.ylabel('Frequency')"
   ]
  },
  {
   "cell_type": "code",
   "execution_count": 41,
   "metadata": {
    "colab": {},
    "colab_type": "code",
    "id": "YchcyxhXYgQw"
   },
   "outputs": [],
   "source": [
    "phase_ind2=[]\n",
    "frequency_ind2=[]\n",
    "\n",
    "for i in range(0,len(ind_components)):\n",
    "  if ind_components[i][2][0] != 0:\n",
    "    phase_ind2.append(ind_components[i][2][0])\n",
    "    frequency_ind2.append(ind_components[i][0])"
   ]
  },
  {
   "cell_type": "code",
   "execution_count": 42,
   "metadata": {
    "colab": {
     "base_uri": "https://localhost:8080/"
    },
    "colab_type": "code",
    "id": "eXiIbChXYgct",
    "outputId": "b990f7c8-4afb-4665-fb04-758b20ad43a2"
   },
   "outputs": [
    {
     "data": {
      "text/plain": [
       "Text(0,0.5,'Frequency')"
      ]
     },
     "execution_count": 42,
     "metadata": {},
     "output_type": "execute_result"
    },
    {
     "data": {
      "image/png": "[encoded data removed]",
      "text/plain": [
       "<matplotlib.figure.Figure at 0x7f23293047b8>"
      ]
     },
     "metadata": {},
     "output_type": "display_data"
    }
   ],
   "source": [
    "py.plot(phase_ind2,frequency_ind2, '.')\n",
    "py.title('Component 2 - Individual Peaks')\n",
    "py.xlabel('Phase Bin (deg)')\n",
    "py.ylabel('Frequency')"
   ]
  },
  {
   "cell_type": "markdown",
   "metadata": {
    "colab_type": "text",
    "id": "pccDpOhFgn-A"
   },
   "source": [
    "# Component Separation Across Frequency "
   ]
  },
  {
   "cell_type": "markdown",
   "metadata": {
    "colab_type": "text",
    "id": "KZFBrw4AEiXX"
   },
   "source": [
    "## Fit Peaks (fit_components)"
   ]
  },
  {
   "cell_type": "code",
   "execution_count": 43,
   "metadata": {
    "colab": {},
    "colab_type": "code",
    "id": "QlmKKG5sFeMg"
   },
   "outputs": [],
   "source": [
    "component_sep, sep_error = separation_singleprofile(fit_components, ind_components)"
   ]
  },
  {
   "cell_type": "code",
   "execution_count": 44,
   "metadata": {
    "colab": {},
    "colab_type": "code",
    "id": "pacJRC6tIbBS"
   },
   "outputs": [],
   "source": [
    "comp_sep=[]\n",
    "frequency_forsep=[]\n",
    "\n",
    "#range(0,no_freq_bands)\n",
    "for i in range(0,len(component_sep)):\n",
    "  comp_sep.append(component_sep[i][1])\n",
    "  frequency_forsep.append(component_sep[i][0])"
   ]
  },
  {
   "cell_type": "code",
   "execution_count": 45,
   "metadata": {
    "colab": {
     "base_uri": "https://localhost:8080/"
    },
    "colab_type": "code",
    "id": "oE8r2963KMSz",
    "outputId": "25557bf4-1b1c-415d-c785-7fa822a71292"
   },
   "outputs": [
    {
     "data": {
      "text/plain": [
       "Text(0,0.5,'Δθ (deg)')"
      ]
     },
     "execution_count": 45,
     "metadata": {},
     "output_type": "execute_result"
    },
    {
     "data": {
      "image/png": "[encoded data removed]",
      "text/plain": [
       "<matplotlib.figure.Figure at 0x7f2329250470>"
      ]
     },
     "metadata": {},
     "output_type": "display_data"
    }
   ],
   "source": [
    "py.plot(frequency_forsep, comp_sep, '.')\n",
    "py.xlabel('Frequency')\n",
    "py.ylabel('\\u0394\\u03B8 (deg)')"
   ]
  },
  {
   "cell_type": "markdown",
   "metadata": {
    "colab_type": "text",
    "id": "jBHxooGJctvn"
   },
   "source": [
    "## Individual Peaks (ind_components)"
   ]
  },
  {
   "cell_type": "code",
   "execution_count": 46,
   "metadata": {
    "colab": {},
    "colab_type": "code",
    "id": "Qb7GwH6yctAA"
   },
   "outputs": [],
   "source": [
    "component_sep_ind, ind_sep_errors= separation_singleprofile(ind_components, ind_components)"
   ]
  },
  {
   "cell_type": "code",
   "execution_count": 47,
   "metadata": {
    "colab": {},
    "colab_type": "code",
    "id": "hLSxkPy7dVdM"
   },
   "outputs": [],
   "source": [
    "comp_sep_ind=[]\n",
    "frequency_forsep_ind=[]\n",
    "\n",
    "#range(0,no_freq_bands)\n",
    "for i in range(0,len(component_sep_ind)):\n",
    "  comp_sep_ind.append(component_sep_ind[i][1])\n",
    "  frequency_forsep_ind.append(component_sep_ind[i][0])"
   ]
  },
  {
   "cell_type": "code",
   "execution_count": 48,
   "metadata": {
    "colab": {
     "base_uri": "https://localhost:8080/"
    },
    "colab_type": "code",
    "id": "9IFffn1Mdc-w",
    "outputId": "23e0939c-80e8-4d57-da9b-69bf310669f9"
   },
   "outputs": [
    {
     "data": {
      "text/plain": [
       "Text(0,0.5,'Δθ (deg)')"
      ]
     },
     "execution_count": 48,
     "metadata": {},
     "output_type": "execute_result"
    },
    {
     "data": {
      "image/png": "[encoded data removed]",
      "text/plain": [
       "<matplotlib.figure.Figure at 0x7f23291de048>"
      ]
     },
     "metadata": {},
     "output_type": "display_data"
    }
   ],
   "source": [
    "py.plot(frequency_forsep_ind, comp_sep_ind, '.')\n",
    "py.xlabel('Frequency')\n",
    "py.ylabel('\\u0394\\u03B8 (deg)')"
   ]
  },
  {
   "cell_type": "markdown",
   "metadata": {
    "colab_type": "text",
    "id": "onWmCTwBgzh2"
   },
   "source": [
    "# Fitting Power Laws to Separation "
   ]
  },
  {
   "cell_type": "markdown",
   "metadata": {
    "colab_type": "text",
    "id": "pRvVTEsj_64Q"
   },
   "source": [
    "## Fit Peaks (fit_components)"
   ]
  },
  {
   "cell_type": "code",
   "execution_count": 49,
   "metadata": {
    "colab": {},
    "colab_type": "code",
    "id": "yvPpIl1dbfkG"
   },
   "outputs": [],
   "source": [
    "#To use in weightings: sigma=inv_var\n",
    "inv_var = []\n",
    "\n",
    "for i in range(len(sep_error)):\n",
    "  temp = 1/(sep_error[i]*sep_error[i])\n",
    "  inv_var.append(temp)"
   ]
  },
  {
   "cell_type": "code",
   "execution_count": 50,
   "metadata": {},
   "outputs": [
    {
     "data": {
      "text/plain": [
       "1024"
      ]
     },
     "execution_count": 50,
     "metadata": {},
     "output_type": "execute_result"
    }
   ],
   "source": [
    "len(y)"
   ]
  },
  {
   "cell_type": "code",
   "execution_count": 51,
   "metadata": {
    "colab": {},
    "colab_type": "code",
    "id": "Eb9tysocAfn3"
   },
   "outputs": [],
   "source": [
    "expect=(703,0.4,16)\n",
    "sep_params,sep_cov=curve_fit(powerlaw,frequency_forsep,comp_sep, expect, maxfev=10000, sigma=sep_error, bounds=([0,-1,0],[1000,0.5,np.inf]))\n",
    "sep_fit_error=np.sqrt(np.diag(sep_cov))"
   ]
  },
  {
   "cell_type": "code",
   "execution_count": 52,
   "metadata": {
    "colab": {
     "base_uri": "https://localhost:8080/",
     "height": 53
    },
    "colab_type": "code",
    "id": "hCGGghN8A7BA",
    "outputId": "eaa7f557-4804-425e-96ae-83056ba13eca"
   },
   "outputs": [
    {
     "name": "stdout",
     "output_type": "stream",
     "text": [
      "[ 5.82451413e+02 -3.27141649e-01  3.85101272e-06]\n",
      "[6.25408285e+02 3.71285814e-01 9.43719238e+01]\n"
     ]
    }
   ],
   "source": [
    "print(sep_params)\n",
    "print(sep_fit_error)\n",
    "separation_fit = powerlaw(frequency_forsep, *sep_params)"
   ]
  },
  {
   "cell_type": "code",
   "execution_count": 53,
   "metadata": {
    "colab": {
     "base_uri": "https://localhost:8080/",
     "height": 300
    },
    "colab_type": "code",
    "id": "oY7ok57vApBN",
    "outputId": "c54100cc-1569-4c6b-fb74-c413acbdf635"
   },
   "outputs": [
    {
     "data": {
      "text/plain": [
       "<matplotlib.legend.Legend at 0x7f23290c0c88>"
      ]
     },
     "execution_count": 53,
     "metadata": {},
     "output_type": "execute_result"
    },
    {
     "data": {
      "image/png": "[encoded data removed]",
      "text/plain": [
       "<matplotlib.figure.Figure at 0x7f23290da208>"
      ]
     },
     "metadata": {},
     "output_type": "display_data"
    }
   ],
   "source": [
    "#py.plot(frequency_forsep, comp_sep, '.', label='data')\n",
    "py.errorbar(frequency_forsep, comp_sep, yerr=sep_error, fmt='.', lw=1, label='data')\n",
    "py.plot(frequency_forsep,separation_fit, color='red',lw=2,label='power law fit')\n",
    "py.title('Component Separation - Fit Peaks')\n",
    "py.xlabel('Frequency')\n",
    "py.ylabel('\\u0394\\u03B8 (deg)')\n",
    "py.legend(loc='lower left')\n"
   ]
  },
  {
   "cell_type": "code",
   "execution_count": 54,
   "metadata": {
    "colab": {
     "base_uri": "https://localhost:8080/",
     "height": 107
    },
    "colab_type": "code",
    "id": "l11_3C1ODT_d",
    "outputId": "ad79532a-bd1b-457e-afde-75b291f318c1"
   },
   "outputs": [
    {
     "name": "stdout",
     "output_type": "stream",
     "text": [
      "The equation of fit for this pulsar is: \t Δθ = 582.451 ν^-0.327 + 0.000 \n",
      "\n",
      "The errors are 625.408, 0.371, 94.372 \n",
      "The chi squared value for the fit is:  1.560384941745078\n",
      "Units for Δθ is degrees and ν is MHz\n"
     ]
    }
   ],
   "source": [
    "chi, p = sp.stats.chisquare(comp_sep, separation_fit)\n",
    "print(f'The equation of fit for this pulsar is: \\t \\u0394\\u03B8 = {sep_params[0]:.3f} \\u03BD^{sep_params[1]:.3f} + {sep_params[2]:.3f} \\n')\n",
    "print(f'The errors are {sep_fit_error[0]:.3f}, {sep_fit_error[1]:.3f}, {sep_fit_error[2]:.3f} ')\n",
    "print('The chi squared value for the fit is: ', chi)\n",
    "print('Units for \\u0394\\u03B8 is degrees and \\u03BD is MHz')"
   ]
  },
  {
   "cell_type": "markdown",
   "metadata": {
    "colab_type": "text",
    "id": "3NacpoCld21t"
   },
   "source": [
    "## Individual Peaks (ind_components)"
   ]
  },
  {
   "cell_type": "code",
   "execution_count": 55,
   "metadata": {
    "colab": {},
    "colab_type": "code",
    "id": "Jy2_QoLygC0-"
   },
   "outputs": [],
   "source": [
    "#To use in weightings: sigma=inv_var_ind\n",
    "inv_var_ind = []\n",
    "\n",
    "for i in range(len(ind_sep_errors)):\n",
    "  temp = 1/(ind_sep_errors[i]*ind_sep_errors[i])\n",
    "  inv_var_ind.append(temp)"
   ]
  },
  {
   "cell_type": "code",
   "execution_count": 56,
   "metadata": {
    "colab": {},
    "colab_type": "code",
    "id": "CoXmAthxd7_x"
   },
   "outputs": [],
   "source": [
    "expect=(200,0.5,50)\n",
    "sep_params_ind,sep_cov_ind=curve_fit(powerlaw,frequency_forsep_ind,comp_sep_ind, expect, maxfev=1000000,sigma=inv_var_ind,bounds=([0,-1,0],[1000,0.5,np.inf]))\n",
    "sep_fit_error_ind=np.sqrt(np.diag(sep_cov_ind))"
   ]
  },
  {
   "cell_type": "code",
   "execution_count": 57,
   "metadata": {
    "colab": {
     "base_uri": "https://localhost:8080/",
     "height": 35
    },
    "colab_type": "code",
    "id": "QDEmrl7feM3K",
    "outputId": "d9a2b084-fb9b-4f93-a087-b15453d91c13"
   },
   "outputs": [
    {
     "name": "stdout",
     "output_type": "stream",
     "text": [
      "[ 1.0000000e+03 -5.8878134e-01  5.4747550e+01]\n"
     ]
    }
   ],
   "source": [
    "print(sep_params_ind)\n",
    "separation_fit_ind = powerlaw(frequency_forsep, *sep_params_ind)"
   ]
  },
  {
   "cell_type": "code",
   "execution_count": 58,
   "metadata": {
    "colab": {
     "base_uri": "https://localhost:8080/",
     "height": 297
    },
    "colab_type": "code",
    "id": "QaKMbN0jeO_C",
    "outputId": "d30176bf-13b7-44c0-969e-21d2cf29a9a9"
   },
   "outputs": [
    {
     "data": {
      "text/plain": [
       "Text(0,0.5,'Δθ (deg)')"
      ]
     },
     "execution_count": 58,
     "metadata": {},
     "output_type": "execute_result"
    },
    {
     "data": {
      "image/png": "[encoded data removed]",
      "text/plain": [
       "<matplotlib.figure.Figure at 0x7f232913f9b0>"
      ]
     },
     "metadata": {},
     "output_type": "display_data"
    }
   ],
   "source": [
    "py.plot(frequency_forsep_ind, comp_sep_ind, lw=0.5, label='data')\n",
    "py.plot(frequency_forsep_ind,separation_fit_ind, color='red',lw=1,label='power fit')\n",
    "py.title('Component Separation - Individual Peaks ')\n",
    "py.xlabel('Frequency')\n",
    "py.ylabel('\\u0394\\u03B8 (deg)')"
   ]
  },
  {
   "cell_type": "code",
   "execution_count": 59,
   "metadata": {
    "colab": {
     "base_uri": "https://localhost:8080/",
     "height": 107
    },
    "colab_type": "code",
    "id": "Mu7DCoELeWR8",
    "outputId": "520b4eed-c621-4a01-f973-ee517f117d34"
   },
   "outputs": [
    {
     "name": "stdout",
     "output_type": "stream",
     "text": [
      "The equation of fit for this pulsar is: \t Δθ = 1000.000 ν^-0.589 + 54.748 \n",
      "\n",
      "The errors are 5073.155, 1.190, 60.049 \n",
      "The chi squared value for the fit is:  1.560384941745078\n",
      "Units for Δθ is degrees and ν is MHz\n"
     ]
    }
   ],
   "source": [
    "chi_ind, p_ind = sp.stats.chisquare(comp_sep, separation_fit)\n",
    "print(f'The equation of fit for this pulsar is: \\t \\u0394\\u03B8 = {sep_params_ind[0]:.3f} \\u03BD^{sep_params_ind[1]:.3f} + {sep_params_ind[2]:.3f} \\n')\n",
    "print(f'The errors are {sep_fit_error_ind[0]:.3f}, {sep_fit_error_ind[1]:.3f}, {sep_fit_error_ind[2]:.3f} ')\n",
    "print('The chi squared value for the fit is: ', chi_ind)\n",
    "print('Units for \\u0394\\u03B8 is degrees and \\u03BD is MHz')"
   ]
  },
  {
   "cell_type": "markdown",
   "metadata": {
    "colab_type": "text",
    "id": "e6XHCJRCjogM"
   },
   "source": [
    "# Change in Intensity over Frequency"
   ]
  },
  {
   "cell_type": "markdown",
   "metadata": {
    "colab_type": "text",
    "id": "S8Wdb29Jkmx7"
   },
   "source": [
    "## Fit Peaks (fit_components)"
   ]
  },
  {
   "cell_type": "code",
   "execution_count": 60,
   "metadata": {
    "colab": {},
    "colab_type": "code",
    "id": "qLKpI3HvjyrZ"
   },
   "outputs": [],
   "source": [
    "intensity_comp1=[]\n",
    "frequency_comp1=[]\n",
    "\n",
    "for i in range(0,len(fit_components)):\n",
    "  if fit_components[i][1][0] != 0:\n",
    "    intensity_comp1.append(fit_components[i][1][1])\n",
    "    frequency_comp1.append(fit_components[i][0])"
   ]
  },
  {
   "cell_type": "code",
   "execution_count": 61,
   "metadata": {
    "colab": {
     "base_uri": "https://localhost:8080/",
     "height": 313
    },
    "colab_type": "code",
    "id": "ClLSoQOukVjN",
    "outputId": "8433b698-caef-4650-93e6-5b78f85c2c08"
   },
   "outputs": [
    {
     "data": {
      "text/plain": [
       "Text(0,0.5,'Intensity')"
      ]
     },
     "execution_count": 61,
     "metadata": {},
     "output_type": "execute_result"
    },
    {
     "data": {
      "image/png": "[encoded data removed]",
      "text/plain": [
       "<matplotlib.figure.Figure at 0x7f2329019ef0>"
      ]
     },
     "metadata": {},
     "output_type": "display_data"
    }
   ],
   "source": [
    "py.plot(frequency_comp1,intensity_comp1, '.')\n",
    "py.title('Component 1 - Fit Peaks')\n",
    "py.xlabel('Frequency')\n",
    "py.ylabel('Intensity')"
   ]
  },
  {
   "cell_type": "code",
   "execution_count": 62,
   "metadata": {
    "colab": {},
    "colab_type": "code",
    "id": "IDYE2r0PksL3"
   },
   "outputs": [],
   "source": [
    "intensity_comp2=[]\n",
    "frequency_comp2=[]\n",
    "\n",
    "for i in range(0,len(fit_components)):\n",
    "  if fit_components[i][1][0] != 0:\n",
    "    intensity_comp2.append(fit_components[i][2][1])\n",
    "    frequency_comp2.append(fit_components[i][0])"
   ]
  },
  {
   "cell_type": "code",
   "execution_count": 63,
   "metadata": {
    "colab": {
     "base_uri": "https://localhost:8080/",
     "height": 313
    },
    "colab_type": "code",
    "id": "jGLPcnDqk0np",
    "outputId": "bd26b629-ab7c-40fa-a969-8662d0976f6c"
   },
   "outputs": [
    {
     "data": {
      "text/plain": [
       "Text(0,0.5,'Intensity')"
      ]
     },
     "execution_count": 63,
     "metadata": {},
     "output_type": "execute_result"
    },
    {
     "data": {
      "image/png": "[encoded data removed]",
      "text/plain": [
       "<matplotlib.figure.Figure at 0x7f2328fc07b8>"
      ]
     },
     "metadata": {},
     "output_type": "display_data"
    }
   ],
   "source": [
    "py.plot(frequency_comp2,intensity_comp2, '.')\n",
    "py.title('Component 2 - Fit Peaks')\n",
    "py.xlabel('Frequency')\n",
    "py.ylabel('Intensity')"
   ]
  },
  {
   "cell_type": "markdown",
   "metadata": {
    "colab_type": "text",
    "id": "G6J_t2-wlTKi"
   },
   "source": [
    "## Individual Peaks (ind_components)"
   ]
  },
  {
   "cell_type": "code",
   "execution_count": 64,
   "metadata": {
    "colab": {},
    "colab_type": "code",
    "id": "HKnQQ8wxlu8A"
   },
   "outputs": [],
   "source": [
    "intensity_ind1=[]\n",
    "frequency_ind1=[]\n",
    "\n",
    "for i in range(0,len(ind_components)):\n",
    "  if ind_components[i][1][0] != 0:\n",
    "    intensity_ind1.append(ind_components[i][1][1])\n",
    "    frequency_ind1.append(ind_components[i][0])"
   ]
  },
  {
   "cell_type": "code",
   "execution_count": 65,
   "metadata": {
    "colab": {
     "base_uri": "https://localhost:8080/",
     "height": 313
    },
    "colab_type": "code",
    "id": "XwtPZ6jVmkYc",
    "outputId": "226e3e67-310d-4a1e-9409-473d6227079e"
   },
   "outputs": [
    {
     "data": {
      "text/plain": [
       "Text(0,0.5,'Intensity')"
      ]
     },
     "execution_count": 65,
     "metadata": {},
     "output_type": "execute_result"
    },
    {
     "data": {
      "image/png": "[encoded data removed]",
      "text/plain": [
       "<matplotlib.figure.Figure at 0x7f2328f5b940>"
      ]
     },
     "metadata": {},
     "output_type": "display_data"
    }
   ],
   "source": [
    "py.plot(frequency_ind1,intensity_ind1, '.')\n",
    "py.title('Component 1 - Individual Peaks')\n",
    "py.xlabel('Frequency')\n",
    "py.ylabel('Intensity')"
   ]
  },
  {
   "cell_type": "code",
   "execution_count": 66,
   "metadata": {
    "colab": {},
    "colab_type": "code",
    "id": "0ueyKA35mr0G"
   },
   "outputs": [],
   "source": [
    "intensity_ind2=[]\n",
    "frequency_ind2=[]\n",
    "\n",
    "for i in range(0,len(ind_components)):\n",
    "  if ind_components[i][1][0] != 0:\n",
    "    intensity_ind2.append(ind_components[i][2][1])\n",
    "    frequency_ind2.append(ind_components[i][0])"
   ]
  },
  {
   "cell_type": "code",
   "execution_count": 67,
   "metadata": {
    "colab": {
     "base_uri": "https://localhost:8080/",
     "height": 313
    },
    "colab_type": "code",
    "id": "SG8-hd3AmsB-",
    "outputId": "9e8e3a91-d3ea-4068-a123-897a0ac5601c"
   },
   "outputs": [
    {
     "data": {
      "text/plain": [
       "Text(0,0.5,'Intensity')"
      ]
     },
     "execution_count": 67,
     "metadata": {},
     "output_type": "execute_result"
    },
    {
     "data": {
      "image/png": "[encoded data removed]",
      "text/plain": [
       "<matplotlib.figure.Figure at 0x7f2328f1db38>"
      ]
     },
     "metadata": {},
     "output_type": "display_data"
    }
   ],
   "source": [
    "py.plot(frequency_ind2,intensity_ind2, '.')\n",
    "py.title('Component 2 - Individual Peaks')\n",
    "py.xlabel('Frequency')\n",
    "py.ylabel('Intensity')"
   ]
  },
  {
   "cell_type": "markdown",
   "metadata": {
    "colab_type": "text",
    "id": "8WslQQJrq_Aj"
   },
   "source": [
    "# Intensity Fitting"
   ]
  },
  {
   "cell_type": "code",
   "execution_count": 68,
   "metadata": {
    "colab": {
     "base_uri": "https://localhost:8080/",
     "height": 53
    },
    "colab_type": "code",
    "id": "C2CXJX1YrCIF",
    "outputId": "b87d98c9-f115-4cb3-9893-683cb2945316"
   },
   "outputs": [],
   "source": [
    "int1_params,int1_cov=curve_fit(powerlaw,frequency_ind1,intensity_ind1, maxfev=10000)\n",
    "int1_error=np.sqrt(np.diag(int1_cov))"
   ]
  },
  {
   "cell_type": "code",
   "execution_count": 69,
   "metadata": {
    "colab": {},
    "colab_type": "code",
    "id": "Df5TE1oXruhI"
   },
   "outputs": [],
   "source": [
    "int1_fit = powerlaw(frequency_ind1, *int1_params)"
   ]
  },
  {
   "cell_type": "code",
   "execution_count": 70,
   "metadata": {
    "colab": {
     "base_uri": "https://localhost:8080/",
     "height": 298
    },
    "colab_type": "code",
    "id": "ItsZl2eQsHCB",
    "outputId": "e39d757f-1db5-4da5-e690-314222d382cd"
   },
   "outputs": [
    {
     "data": {
      "text/plain": [
       "Text(0,0.5,'Δθ (deg)')"
      ]
     },
     "execution_count": 70,
     "metadata": {},
     "output_type": "execute_result"
    },
    {
     "data": {
      "image/png": "[encoded data removed]",
      "text/plain": [
       "<matplotlib.figure.Figure at 0x7f23293519e8>"
      ]
     },
     "metadata": {},
     "output_type": "display_data"
    }
   ],
   "source": [
    "py.plot(frequency_ind1, intensity_ind1, lw=0.5, label='data')\n",
    "py.plot(frequency_ind1, int1_fit, color='red',lw=1,label='power fit')\n",
    "py.xlabel('Frequency')\n",
    "py.ylabel('\\u0394\\u03B8 (deg)')"
   ]
  },
  {
   "cell_type": "code",
   "execution_count": 71,
   "metadata": {
    "colab": {
     "base_uri": "https://localhost:8080/",
     "height": 53
    },
    "colab_type": "code",
    "id": "jU-N5gKTsPze",
    "outputId": "26a373b0-e821-46a7-cf00-cbda986e1430"
   },
   "outputs": [],
   "source": [
    "int2_params,int2_cov=curve_fit(powerlaw,frequency_ind2,intensity_ind2, maxfev=10000)\n",
    "int2_error=np.sqrt(np.diag(int2_cov))"
   ]
  },
  {
   "cell_type": "code",
   "execution_count": 72,
   "metadata": {
    "colab": {},
    "colab_type": "code",
    "id": "iMqSq1_esQGd"
   },
   "outputs": [],
   "source": [
    "int2_fit = powerlaw(frequency_ind2, *int2_params)"
   ]
  },
  {
   "cell_type": "code",
   "execution_count": 73,
   "metadata": {
    "colab": {
     "base_uri": "https://localhost:8080/",
     "height": 300
    },
    "colab_type": "code",
    "id": "rdSnhd1ssQWm",
    "outputId": "69e5793a-ed42-4930-c1cc-a0476fb10b6b"
   },
   "outputs": [
    {
     "data": {
      "text/plain": [
       "Text(0,0.5,'Δθ (deg)')"
      ]
     },
     "execution_count": 73,
     "metadata": {},
     "output_type": "execute_result"
    },
    {
     "data": {
      "image/png": "[encoded data removed]",
      "text/plain": [
       "<matplotlib.figure.Figure at 0x7f2328e82da0>"
      ]
     },
     "metadata": {},
     "output_type": "display_data"
    }
   ],
   "source": [
    "py.plot(frequency_ind2, intensity_ind2, lw=0.5, label='data')\n",
    "py.plot(frequency_ind2, int1_fit, color='red',lw=1,label='power fit')\n",
    "py.xlabel('Frequency')\n",
    "py.ylabel('\\u0394\\u03B8 (deg)')"
   ]
  },
  {
   "cell_type": "markdown",
   "metadata": {
    "colab_type": "text",
    "id": "-PbPFKZBj1oi"
   },
   "source": [
    "# Change in Width over Frequency"
   ]
  },
  {
   "cell_type": "code",
   "execution_count": 74,
   "metadata": {
    "colab": {},
    "colab_type": "code",
    "id": "Fp9gIoKskGAq"
   },
   "outputs": [],
   "source": [
    "width_ind1=[]\n",
    "frequency_ind1=[]\n",
    "\n",
    "for i in range(0,len(ind_components)):\n",
    "  if ind_components[i][1][0] != 0:\n",
    "    width_ind1.append(ind_components[i][1][2])\n",
    "    frequency_ind1.append(ind_components[i][0])"
   ]
  },
  {
   "cell_type": "code",
   "execution_count": 75,
   "metadata": {
    "colab": {
     "base_uri": "https://localhost:8080/",
     "height": 313
    },
    "colab_type": "code",
    "id": "N0BRkmb4j4RM",
    "outputId": "c4f89daf-d63a-4363-b1e8-469e6816a028"
   },
   "outputs": [
    {
     "data": {
      "text/plain": [
       "Text(0,0.5,'Width (deg)')"
      ]
     },
     "execution_count": 75,
     "metadata": {},
     "output_type": "execute_result"
    },
    {
     "data": {
      "image/png": "[encoded data removed]",
      "text/plain": [
       "<matplotlib.figure.Figure at 0x7f2328dd1710>"
      ]
     },
     "metadata": {},
     "output_type": "display_data"
    }
   ],
   "source": [
    "py.plot(frequency_ind1,width_ind1, '.')\n",
    "py.title('Component 1 - Individual Peaks')\n",
    "py.xlabel('Frequency')\n",
    "py.ylabel('Width (deg)')"
   ]
  },
  {
   "cell_type": "code",
   "execution_count": 76,
   "metadata": {
    "colab": {},
    "colab_type": "code",
    "id": "LPYL5iqTpivf"
   },
   "outputs": [],
   "source": [
    "width_ind2=[]\n",
    "frequency_ind2=[]\n",
    "\n",
    "for i in range(0,len(ind_components)):\n",
    "  if ind_components[i][1][0] != 0:\n",
    "    width_ind2.append(ind_components[i][2][2])\n",
    "    frequency_ind2.append(ind_components[i][0])"
   ]
  },
  {
   "cell_type": "code",
   "execution_count": 77,
   "metadata": {
    "colab": {
     "base_uri": "https://localhost:8080/",
     "height": 313
    },
    "colab_type": "code",
    "id": "O4ClDRp9prUD",
    "outputId": "1f270b92-4fea-4fbf-b9eb-6cd4c742dbff"
   },
   "outputs": [
    {
     "data": {
      "text/plain": [
       "Text(0,0.5,'Width (deg)')"
      ]
     },
     "execution_count": 77,
     "metadata": {},
     "output_type": "execute_result"
    },
    {
     "data": {
      "image/png": "[encoded data removed]",
      "text/plain": [
       "<matplotlib.figure.Figure at 0x7f2328daa860>"
      ]
     },
     "metadata": {},
     "output_type": "display_data"
    }
   ],
   "source": [
    "py.plot(frequency_ind2,width_ind2, '.')\n",
    "py.title('Component 2 - Individual Peaks')\n",
    "py.xlabel('Frequency')\n",
    "py.ylabel('Width (deg)')"
   ]
  },
  {
   "cell_type": "markdown",
   "metadata": {
    "colab_type": "text",
    "id": "BAAAMssWpRQc"
   },
   "source": [
    "# Width Fitting"
   ]
  },
  {
   "cell_type": "code",
   "execution_count": 78,
   "metadata": {
    "colab": {
     "base_uri": "https://localhost:8080/",
     "height": 89
    },
    "colab_type": "code",
    "id": "GiInt3EknqMN",
    "outputId": "448dfb77-0559-4150-dcaa-adf0de3c01a9"
   },
   "outputs": [],
   "source": [
    "wid1_params,wid1_cov=curve_fit(powerlaw,frequency_ind1,width_ind1, maxfev=10000)\n",
    "wid1_error=np.sqrt(np.diag(wid1_cov))"
   ]
  },
  {
   "cell_type": "code",
   "execution_count": 79,
   "metadata": {
    "colab": {},
    "colab_type": "code",
    "id": "3IjiWqhDo_YD"
   },
   "outputs": [],
   "source": [
    "wid1_fit = powerlaw(frequency_ind1, *wid1_params)"
   ]
  },
  {
   "cell_type": "code",
   "execution_count": 80,
   "metadata": {
    "colab": {
     "base_uri": "https://localhost:8080/",
     "height": 300
    },
    "colab_type": "code",
    "id": "EHXb2PFVoweo",
    "outputId": "ee270068-c470-490d-d0b7-ba92b2cebd29"
   },
   "outputs": [
    {
     "data": {
      "text/plain": [
       "Text(0,0.5,'Δθ (deg)')"
      ]
     },
     "execution_count": 80,
     "metadata": {},
     "output_type": "execute_result"
    },
    {
     "data": {
      "image/png": "[encoded data removed]",
      "text/plain": [
       "<matplotlib.figure.Figure at 0x7f2328d09588>"
      ]
     },
     "metadata": {},
     "output_type": "display_data"
    }
   ],
   "source": [
    "py.plot(frequency_ind1, width_ind1, lw=0.5, label='data')\n",
    "py.plot(frequency_ind1,wid1_fit, color='red',lw=1,label='power fit')\n",
    "py.xlabel('Frequency')\n",
    "py.ylabel('\\u0394\\u03B8 (deg)')"
   ]
  },
  {
   "cell_type": "code",
   "execution_count": 81,
   "metadata": {
    "colab": {
     "base_uri": "https://localhost:8080/",
     "height": 53
    },
    "colab_type": "code",
    "id": "U20gSvfWpuE7",
    "outputId": "aa9795dd-48b5-4606-b07d-827dbb0fbbd4"
   },
   "outputs": [
    {
     "ename": "RuntimeError",
     "evalue": "Optimal parameters not found: Number of calls to function has reached maxfev = 10000.",
     "output_type": "error",
     "traceback": [
      "\u001b[0;31m---------------------------------------------------------------------------\u001b[0m",
      "\u001b[0;31mRuntimeError\u001b[0m                              Traceback (most recent call last)",
      "\u001b[0;32m<ipython-input-81-64b4873da1fa>\u001b[0m in \u001b[0;36m<module>\u001b[0;34m()\u001b[0m\n\u001b[0;32m----> 1\u001b[0;31m \u001b[0mwid2_params\u001b[0m\u001b[0;34m,\u001b[0m\u001b[0mwid2_cov\u001b[0m\u001b[0;34m=\u001b[0m\u001b[0mcurve_fit\u001b[0m\u001b[0;34m(\u001b[0m\u001b[0mpowerlaw\u001b[0m\u001b[0;34m,\u001b[0m\u001b[0mfrequency_ind2\u001b[0m\u001b[0;34m,\u001b[0m\u001b[0mwidth_ind2\u001b[0m\u001b[0;34m,\u001b[0m \u001b[0mmaxfev\u001b[0m\u001b[0;34m=\u001b[0m\u001b[0;36m10000\u001b[0m\u001b[0;34m)\u001b[0m\u001b[0;34m\u001b[0m\u001b[0;34m\u001b[0m\u001b[0m\n\u001b[0m\u001b[1;32m      2\u001b[0m \u001b[0mwid2_error\u001b[0m\u001b[0;34m=\u001b[0m\u001b[0mnp\u001b[0m\u001b[0;34m.\u001b[0m\u001b[0msqrt\u001b[0m\u001b[0;34m(\u001b[0m\u001b[0mnp\u001b[0m\u001b[0;34m.\u001b[0m\u001b[0mdiag\u001b[0m\u001b[0;34m(\u001b[0m\u001b[0mwid2_cov\u001b[0m\u001b[0;34m)\u001b[0m\u001b[0;34m)\u001b[0m\u001b[0;34m\u001b[0m\u001b[0;34m\u001b[0m\u001b[0m\n",
      "\u001b[0;32m/home/lisasmith/.local/lib/python3.6/site-packages/scipy/optimize/minpack.py\u001b[0m in \u001b[0;36mcurve_fit\u001b[0;34m(f, xdata, ydata, p0, sigma, absolute_sigma, check_finite, bounds, method, jac, **kwargs)\u001b[0m\n\u001b[1;32m    754\u001b[0m         \u001b[0mcost\u001b[0m \u001b[0;34m=\u001b[0m \u001b[0mnp\u001b[0m\u001b[0;34m.\u001b[0m\u001b[0msum\u001b[0m\u001b[0;34m(\u001b[0m\u001b[0minfodict\u001b[0m\u001b[0;34m[\u001b[0m\u001b[0;34m'fvec'\u001b[0m\u001b[0;34m]\u001b[0m \u001b[0;34m**\u001b[0m \u001b[0;36m2\u001b[0m\u001b[0;34m)\u001b[0m\u001b[0;34m\u001b[0m\u001b[0;34m\u001b[0m\u001b[0m\n\u001b[1;32m    755\u001b[0m         \u001b[0;32mif\u001b[0m \u001b[0mier\u001b[0m \u001b[0;32mnot\u001b[0m \u001b[0;32min\u001b[0m \u001b[0;34m[\u001b[0m\u001b[0;36m1\u001b[0m\u001b[0;34m,\u001b[0m \u001b[0;36m2\u001b[0m\u001b[0;34m,\u001b[0m \u001b[0;36m3\u001b[0m\u001b[0;34m,\u001b[0m \u001b[0;36m4\u001b[0m\u001b[0;34m]\u001b[0m\u001b[0;34m:\u001b[0m\u001b[0;34m\u001b[0m\u001b[0;34m\u001b[0m\u001b[0m\n\u001b[0;32m--> 756\u001b[0;31m             \u001b[0;32mraise\u001b[0m \u001b[0mRuntimeError\u001b[0m\u001b[0;34m(\u001b[0m\u001b[0;34m\"Optimal parameters not found: \"\u001b[0m \u001b[0;34m+\u001b[0m \u001b[0merrmsg\u001b[0m\u001b[0;34m)\u001b[0m\u001b[0;34m\u001b[0m\u001b[0;34m\u001b[0m\u001b[0m\n\u001b[0m\u001b[1;32m    757\u001b[0m     \u001b[0;32melse\u001b[0m\u001b[0;34m:\u001b[0m\u001b[0;34m\u001b[0m\u001b[0;34m\u001b[0m\u001b[0m\n\u001b[1;32m    758\u001b[0m         \u001b[0;31m# Rename maxfev (leastsq) to max_nfev (least_squares), if specified.\u001b[0m\u001b[0;34m\u001b[0m\u001b[0;34m\u001b[0m\u001b[0;34m\u001b[0m\u001b[0m\n",
      "\u001b[0;31mRuntimeError\u001b[0m: Optimal parameters not found: Number of calls to function has reached maxfev = 10000."
     ]
    }
   ],
   "source": [
    "wid2_params,wid2_cov=curve_fit(powerlaw,frequency_ind2,width_ind2, maxfev=10000)\n",
    "wid2_error=np.sqrt(np.diag(wid2_cov))"
   ]
  },
  {
   "cell_type": "code",
   "execution_count": null,
   "metadata": {
    "colab": {},
    "colab_type": "code",
    "id": "X_Io0XJjpvY0"
   },
   "outputs": [],
   "source": [
    "wid2_fit = powerlaw(frequency_ind2, *wid2_params)"
   ]
  },
  {
   "cell_type": "code",
   "execution_count": null,
   "metadata": {
    "colab": {
     "base_uri": "https://localhost:8080/",
     "height": 297
    },
    "colab_type": "code",
    "id": "bCaNRt8EpyDl",
    "outputId": "342a3205-0048-4c84-d305-8bf6055c7bbd"
   },
   "outputs": [],
   "source": [
    "py.plot(frequency_ind2, width_ind2, lw=0.5, label='data')\n",
    "py.plot(frequency_ind2, wid2_fit, color='red',lw=1,label='power fit')\n",
    "py.xlabel('Frequency')\n",
    "py.ylabel('\\u0394\\u03B8 (deg)')"
   ]
  },
  {
   "cell_type": "code",
   "execution_count": null,
   "metadata": {
    "colab": {},
    "colab_type": "code",
    "id": "hBjyTDjgp133"
   },
   "outputs": [],
   "source": []
  }
 ],
 "metadata": {
  "colab": {
   "collapsed_sections": [
    "4z_feS2dDwlJ",
    "FamzMgIcD2xs",
    "HsEW4YA0D-QH",
    "eKWvXxMcEIfE",
    "er13GCy-EUTz",
    "6a03g77-gZa5",
    "IGeyAoMhEduw",
    "Y1RZQ9SHcgOZ",
    "pccDpOhFgn-A",
    "KZFBrw4AEiXX",
    "jBHxooGJctvn",
    "S8Wdb29Jkmx7",
    "G6J_t2-wlTKi",
    "8WslQQJrq_Aj",
    "-PbPFKZBj1oi",
    "BAAAMssWpRQc"
   ],
   "name": "Component Separation - RFI Removed.ipynb",
   "provenance": []
  },
  "kernelspec": {
   "display_name": "Python 3",
   "language": "python",
   "name": "python3"
  },
  "language_info": {
   "codemirror_mode": {
    "name": "ipython",
    "version": 3
   },
   "file_extension": ".py",
   "mimetype": "text/x-python",
   "name": "python",
   "nbconvert_exporter": "python",
   "pygments_lexer": "ipython3",
   "version": "3.6.8"
  }
 },
 "nbformat": 4,
 "nbformat_minor": 1
}
