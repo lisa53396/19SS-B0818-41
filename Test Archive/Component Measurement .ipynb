{
 "cells": [
  {
   "cell_type": "code",
   "execution_count": 1,
   "metadata": {},
   "outputs": [],
   "source": [
    "import numpy as np"
   ]
  },
  {
   "cell_type": "code",
   "execution_count": 2,
   "metadata": {},
   "outputs": [],
   "source": [
    "dtype1=([('pulse','i8'),('frequency','i8'),('phase','i8'),('intensity','f8')])"
   ]
  },
  {
   "cell_type": "code",
   "execution_count": 3,
   "metadata": {},
   "outputs": [
    {
     "data": {
      "text/plain": [
       "array([(0,    0,    0, 4109.61  ), (0,    0,    1, 1933.14  ),\n",
       "       (0,    0,    2, 2455.87  ), ..., (0, 4095, 1021,   47.6865),\n",
       "       (0, 4095, 1022, -157.64  ), (0, 4095, 1023,   68.3533)],\n",
       "      dtype=[('pulse', '<i8'), ('frequency', '<i8'), ('phase', '<i8'), ('intensity', '<f8')])"
      ]
     },
     "execution_count": 3,
     "metadata": {},
     "output_type": "execute_result"
    }
   ],
   "source": [
    "np.loadtxt(fname='pulse_pdv_test_paz', dtype=dtype1)"
   ]
  },
  {
   "cell_type": "code",
   "execution_count": 4,
   "metadata": {},
   "outputs": [],
   "source": [
    "fulldata = np.loadtxt(fname='pulse_pdv_test_paz', dtype=dtype1)"
   ]
  },
  {
   "cell_type": "code",
   "execution_count": 5,
   "metadata": {},
   "outputs": [
    {
     "data": {
      "text/plain": [
       "array([ True, False, False, ..., False, False, False])"
      ]
     },
     "execution_count": 5,
     "metadata": {},
     "output_type": "execute_result"
    }
   ],
   "source": [
    "(fulldata['frequency'] == 0) & (fulldata['phase'] == 0)"
   ]
  },
  {
   "cell_type": "code",
   "execution_count": 6,
   "metadata": {},
   "outputs": [],
   "source": [
    "f0p0 = (fulldata['frequency'] == 0) & (fulldata['phase'] == 0)"
   ]
  },
  {
   "cell_type": "code",
   "execution_count": 7,
   "metadata": {},
   "outputs": [
    {
     "name": "stdout",
     "output_type": "stream",
     "text": [
      "[ True False False ... False False False]\n",
      "[0]\n",
      "[0]\n",
      "[4109.61]\n"
     ]
    }
   ],
   "source": [
    "print(f0p0)\n",
    "print(fulldata['frequency'][f0p0])\n",
    "print(fulldata['phase'][f0p0])\n",
    "print(fulldata['intensity'][f0p0]) "
   ]
  },
  {
   "cell_type": "markdown",
   "metadata": {},
   "source": [
    "Above is pretending that you cannot do pdv, and averaging out multiple pulses into one that way. Would need to be looped.\n",
    "Below is assuming we have done it through unix commands to pdv -T and create a file containing a single averaged pulse. "
   ]
  },
  {
   "cell_type": "code",
   "execution_count": 8,
   "metadata": {},
   "outputs": [
    {
     "data": {
      "text/plain": [
       "array([(0,    0,    0, 4109.61  ), (0,    0,    1, 1933.14  ),\n",
       "       (0,    0,    2, 2455.87  ), ..., (0, 4095, 1021,   47.6865),\n",
       "       (0, 4095, 1022, -157.64  ), (0, 4095, 1023,   68.3533)],\n",
       "      dtype=[('pulse', '<i8'), ('frequency', '<i8'), ('phase', '<i8'), ('intensity', '<f8')])"
      ]
     },
     "execution_count": 8,
     "metadata": {},
     "output_type": "execute_result"
    }
   ],
   "source": [
    "fulldata"
   ]
  },
  {
   "cell_type": "code",
   "execution_count": 9,
   "metadata": {},
   "outputs": [],
   "source": [
    "averagepulse = fulldata"
   ]
  },
  {
   "cell_type": "code",
   "execution_count": 10,
   "metadata": {},
   "outputs": [
    {
     "data": {
      "text/plain": [
       "array([(0,    0,    0, 4109.61  ), (0,    0,    1, 1933.14  ),\n",
       "       (0,    0,    2, 2455.87  ), ..., (0, 4095, 1021,   47.6865),\n",
       "       (0, 4095, 1022, -157.64  ), (0, 4095, 1023,   68.3533)],\n",
       "      dtype=[('pulse', '<i8'), ('frequency', '<i8'), ('phase', '<i8'), ('intensity', '<f8')])"
      ]
     },
     "execution_count": 10,
     "metadata": {},
     "output_type": "execute_result"
    }
   ],
   "source": [
    "averagepulse"
   ]
  },
  {
   "cell_type": "code",
   "execution_count": 46,
   "metadata": {},
   "outputs": [],
   "source": [
    "import scipy as sp"
   ]
  },
  {
   "cell_type": "code",
   "execution_count": 47,
   "metadata": {},
   "outputs": [],
   "source": [
    "import matplotlib.pyplot as py"
   ]
  },
  {
   "cell_type": "code",
   "execution_count": 48,
   "metadata": {},
   "outputs": [],
   "source": [
    "import pandas as pd"
   ]
  },
  {
   "cell_type": "code",
   "execution_count": 49,
   "metadata": {},
   "outputs": [],
   "source": [
    "import plotly.graph_objects as go"
   ]
  },
  {
   "cell_type": "code",
   "execution_count": 50,
   "metadata": {},
   "outputs": [],
   "source": [
    "f1 = fulldata['frequency'] == 1"
   ]
  },
  {
   "cell_type": "code",
   "execution_count": 51,
   "metadata": {},
   "outputs": [
    {
     "data": {
      "text/plain": [
       "Text(0, 0.5, 'Intensity')"
      ]
     },
     "execution_count": 51,
     "metadata": {},
     "output_type": "execute_result"
    },
    {
     "data": {
      "image/png": "[encoded data removed]",
      "text/plain": [
       "<Figure size 432x288 with 1 Axes>"
      ]
     },
     "metadata": {
      "needs_background": "light"
     },
     "output_type": "display_data"
    }
   ],
   "source": [
    "py.plot(averagepulse['phase'][f1], averagepulse['intensity'][f1])\n",
    "py.xlabel('Phase Bin')\n",
    "py.ylabel('Intensity')"
   ]
  },
  {
   "cell_type": "code",
   "execution_count": 52,
   "metadata": {},
   "outputs": [],
   "source": [
    "time_series = averagepulse['intensity'][f1]"
   ]
  },
  {
   "cell_type": "code",
   "execution_count": 53,
   "metadata": {},
   "outputs": [
    {
     "data": {
      "text/plain": [
       "1024"
      ]
     },
     "execution_count": 53,
     "metadata": {},
     "output_type": "execute_result"
    }
   ],
   "source": [
    "len(time_series)"
   ]
  },
  {
   "cell_type": "code",
   "execution_count": 81,
   "metadata": {},
   "outputs": [],
   "source": [
    "indices = sp.signal.find_peaks(time_series, prominence=10)[0]"
   ]
  },
  {
   "cell_type": "code",
   "execution_count": 82,
   "metadata": {},
   "outputs": [
    {
     "data": {
      "application/vnd.plotly.v1+json": {
       "config": {
        "plotlyServerURL": "https://plot.ly"
       },
       "data": [
        {
         "mode": "lines+markers",
         "name": "Original Plot",
         "type": "scatter",
         "y": [
          -3.26417,
          -2.014,
          0.735901,
          -0.930797,
          2.73594,
          6.73602,
          2.4026,
          -0.597458,
          -1.93082,
          -2.26416,
          0.402561,
          -0.597458,
          -0.264118,
          -3.51372,
          -1.26414,
          -2.93084,
          -1.93082,
          -2.26416,
          1.06924,
          -2.5975,
          -0.930797,
          -1.76384,
          0.735901,
          0.735901,
          2.06926,
          -0.513664,
          1.73592,
          0.402561,
          -1.93082,
          -2.014,
          -0.597458,
          -0.597458,
          1.06924,
          -2.26416,
          -2.93084,
          -1.93082,
          -2.26416,
          -1.51368,
          -2.26416,
          -2.93084,
          -1.59748,
          -0.264118,
          0.402561,
          7.06936,
          0.735901,
          -1.26414,
          0.735901,
          0.0692216,
          -0.264118,
          1.73592,
          -0.597458,
          -2.93084,
          -3.59751,
          -1.76384,
          -2.5975,
          -1.26414,
          -1.26414,
          -0.513664,
          1.06924,
          -0.264118,
          0.735901,
          1.98608,
          2.73594,
          1.40258,
          2.4026,
          1.23622,
          0.402561,
          -0.930797,
          -1.59748,
          -1.76384,
          -2.26416,
          -1.93082,
          -3.93085,
          -0.264118,
          -0.597458,
          -2.5975,
          1.40258,
          5.23629,
          -0.264118,
          -0.597458,
          1.06924,
          1.98608,
          3.06928,
          1.73592,
          3.40262,
          1.73592,
          4.0693,
          0.0692216,
          -1.26414,
          -1.76384,
          -0.597458,
          -2.93084,
          -1.59748,
          0.735901,
          1.40258,
          3.40262,
          -2.5975,
          3.23625,
          2.73594,
          1.73592,
          2.4026,
          4.73598,
          3.06928,
          5.40266,
          1.40258,
          2.48639,
          1.06924,
          -2.93084,
          -0.597458,
          -3.26417,
          -2.93084,
          -1.59748,
          -2.5975,
          -0.264118,
          -2.26416,
          1.40258,
          -0.930797,
          3.73596,
          4.40264,
          1.06924,
          -0.0139602,
          0.735901,
          1.06924,
          2.06926,
          -2.26416,
          -2.26416,
          -1.59748,
          -2.26416,
          -2.26416,
          -2.5975,
          -3.59751,
          3.06928,
          -1.76384,
          -1.26414,
          -1.59748,
          5.40266,
          -1.01398,
          2.06926,
          1.06924,
          0.0692216,
          0.486355,
          6.06934,
          2.06926,
          3.06928,
          -0.264118,
          1.40258,
          -2.26416,
          -2.5975,
          -2.26416,
          -0.930797,
          -1.59748,
          -3.59751,
          -0.763821,
          2.06926,
          2.4026,
          -0.264118,
          1.48637,
          -0.264118,
          -1.93082,
          -0.930797,
          0.236197,
          -0.930797,
          0.0692216,
          -2.5975,
          -1.76384,
          -2.26416,
          -3.26417,
          -2.5975,
          -3.01402,
          -3.93085,
          -0.597458,
          -1.26414,
          0.486355,
          16.4029,
          3.40262,
          -1.59748,
          0.986059,
          -0.264118,
          -1.59748,
          2.06926,
          -0.264118,
          -1.59748,
          -2.26416,
          -0.597458,
          -3.26417,
          -1.59748,
          -1.26414,
          -3.26417,
          -1.76384,
          -1.93082,
          -0.930797,
          -0.930797,
          2.48639,
          1.73592,
          -2.93084,
          -1.26414,
          -0.513664,
          0.735901,
          0.735901,
          -2.26416,
          0.986059,
          -0.264118,
          17.7362,
          24.0697,
          29.986,
          29.7358,
          26.4031,
          25.403,
          20.4861,
          31.4025,
          17.7362,
          33.7359,
          35.4864,
          24.403,
          32.0692,
          9.40273,
          -1.01398,
          -0.597458,
          0.402561,
          -2.93084,
          -1.51368,
          -2.93084,
          -1.93082,
          -1.93082,
          -3.01402,
          -3.26417,
          -2.26416,
          -1.93082,
          -2.5137,
          0.402561,
          0.0692216,
          2.73594,
          0.486355,
          0.0692216,
          3.73596,
          1.06924,
          -1.51368,
          -0.930797,
          -2.26416,
          -0.597458,
          0.486355,
          -2.93084,
          -2.5975,
          -0.930797,
          -2.014,
          -1.26414,
          -0.597458,
          -1.93082,
          -0.763821,
          -0.264118,
          4.73598,
          -0.930797,
          1.23622,
          0.0692216,
          -0.597458,
          -0.597458,
          -2.5137,
          0.402561,
          -1.26414,
          2.06926,
          -1.01398,
          -1.26414,
          -2.26416,
          -3.59751,
          -2.76386,
          -1.59748,
          2.4026,
          3.40262,
          4.98614,
          0.735901,
          0.735901,
          1.06924,
          -1.76384,
          1.06924,
          -0.264118,
          -1.93082,
          -1.01398,
          -1.59748,
          -2.26416,
          -3.26417,
          -0.763821,
          -1.93082,
          -2.5975,
          0.402561,
          -2.014,
          -1.93082,
          3.40262,
          5.40266,
          0.236197,
          1.40258,
          -0.264118,
          1.40258,
          -1.26414,
          -0.597458,
          -3.59751,
          -1.93082,
          -3.76388,
          -2.5975,
          -2.93084,
          -3.26417,
          -2.5137,
          -0.597458,
          -0.930797,
          0.402561,
          1.23622,
          0.0692216,
          4.40264,
          -0.597458,
          3.4858,
          0.735901,
          1.40258,
          -1.59748,
          -0.763821,
          -1.93082,
          -1.26414,
          -1.51368,
          1.06924,
          -0.264118,
          1.06924,
          -1.51368,
          -1.93082,
          -1.59748,
          2.06926,
          -0.264118,
          0.735901,
          -1.26414,
          -1.93082,
          -1.01398,
          -1.93082,
          -0.264118,
          -0.264118,
          -2.5137,
          -3.59751,
          -0.264118,
          0.402561,
          -3.01402,
          -3.26417,
          -2.93084,
          -2.93084,
          -2.76386,
          -0.597458,
          -0.930797,
          0.735901,
          0.486355,
          1.06924,
          -2.5975,
          1.40258,
          -0.513664,
          -0.930797,
          0.735901,
          -1.93082,
          3.73596,
          -3.59751,
          -3.26417,
          -2.5975,
          -3.26417,
          1.40258,
          -2.93084,
          -0.597458,
          -0.763821,
          -0.597458,
          5.06932,
          0.402561,
          0.486355,
          -1.59748,
          -0.264118,
          -2.5975,
          -0.763821,
          -1.26414,
          1.73592,
          -2.5975,
          -2.26416,
          -3.93085,
          -2.93084,
          -2.26416,
          -2.76386,
          -0.597458,
          -0.930797,
          0.0692216,
          0.236197,
          -2.5975,
          5.40266,
          3.06928,
          1.23622,
          3.06928,
          1.73592,
          2.06926,
          0.486355,
          -1.59748,
          -0.930797,
          0.402561,
          -2.26416,
          -0.264118,
          -3.59751,
          -2.5975,
          -0.264118,
          -1.26414,
          -0.930797,
          -1.93082,
          0.236197,
          -0.597458,
          -0.597458,
          -1.93082,
          1.23622,
          -0.597458,
          -0.597458,
          -1.59748,
          -2.014,
          -3.59751,
          -1.93082,
          -3.93085,
          -2.5137,
          -3.26417,
          -2.93084,
          -3.59751,
          -2.76386,
          -2.26416,
          -0.264118,
          1.40258,
          10.4859,
          -0.597458,
          -1.59748,
          -1.59748,
          1.48637,
          0.0692216,
          -1.59748,
          -2.26416,
          -1.76384,
          -2.93084,
          -3.26417,
          -1.59748,
          -1.26414,
          -2.26416,
          -2.93084,
          -2.26416,
          1.48637,
          1.73592,
          -2.5975,
          5.736,
          0.236197,
          -2.26416,
          1.06924,
          2.4026,
          -0.763821,
          -2.5975,
          -2.26416,
          -0.930797,
          -1.51368,
          -3.26417,
          -3.93085,
          -3.59751,
          -2.5137,
          -2.93084,
          4.0693,
          -1.26414,
          0.486355,
          -0.930797,
          7.40269,
          -1.93082,
          0.486355,
          1.40258,
          1.06924,
          -0.264118,
          -2.014,
          0.735901,
          -0.930797,
          -1.93082,
          0.236197,
          -2.26416,
          -1.93082,
          -1.26414,
          -2.26416,
          1.40258,
          -2.26416,
          1.06924,
          0.986059,
          -0.597458,
          -2.5975,
          2.4026,
          0.735901,
          -2.5975,
          0.0692216,
          -2.5975,
          -2.014,
          -1.59748,
          -2.93084,
          -2.93084,
          -4.01404,
          -3.26417,
          -2.26416,
          -2.26416,
          -1.01398,
          -0.930797,
          2.4026,
          5.06932,
          1.73592,
          -1.26414,
          -0.597458,
          2.06926,
          0.986059,
          -1.26414,
          -0.597458,
          -1.59748,
          -0.264118,
          -2.5975,
          -2.93084,
          -2.93084,
          -1.51368,
          -0.264118,
          -1.59748,
          -1.76384,
          2.4026,
          -0.597458,
          1.40258,
          0.735901,
          3.06928,
          -0.930797,
          -0.597458,
          -1.26414,
          -1.26414,
          -1.26414,
          0.0692216,
          -2.014,
          -0.597458,
          -2.93084,
          -3.93085,
          -1.51368,
          -4.59692,
          -2.26416,
          1.06924,
          1.73592,
          -1.59748,
          2.4026,
          -0.597458,
          -0.264118,
          0.735901,
          -2.26416,
          2.4026,
          -1.76384,
          -1.93082,
          0.402561,
          -0.930797,
          -1.51368,
          -1.59748,
          -1.59748,
          -2.5975,
          -1.76384,
          -1.59748,
          -1.59748,
          1.73592,
          0.986059,
          2.06926,
          3.40262,
          -0.597458,
          1.48637,
          0.402561,
          0.0692216,
          2.06926,
          0.486355,
          0.0692216,
          -1.26414,
          -1.26414,
          -3.51372,
          -0.597458,
          -2.26416,
          -0.930797,
          2.48639,
          1.06924,
          -1.59748,
          1.40258,
          -0.0139602,
          2.73594,
          3.06928,
          0.402561,
          0.486355,
          1.06924,
          -1.59748,
          5.40266,
          -0.513664,
          -0.597458,
          -3.93085,
          -2.93084,
          -1.26414,
          -3.26417,
          1.06924,
          -0.264118,
          -0.0139602,
          -1.93082,
          -0.597458,
          0.735901,
          0.735901,
          -1.93082,
          -0.597458,
          -2.5975,
          -1.26414,
          -1.26414,
          -1.59748,
          -2.5975,
          -3.01402,
          -1.59748,
          -3.26417,
          -1.93082,
          1.23622,
          -1.93082,
          0.735901,
          0.735901,
          4.23627,
          0.735901,
          -0.264118,
          1.40258,
          -1.01398,
          2.4026,
          2.4026,
          -0.930797,
          -2.26416,
          -2.26416,
          -1.93082,
          -0.930797,
          -3.26417,
          -2.26416,
          -4.26419,
          -0.930797,
          -1.76384,
          3.73596,
          0.402561,
          -2.5975,
          10.9862,
          -2.5975,
          1.06924,
          -0.597458,
          1.23622,
          0.735901,
          -0.930797,
          -2.93084,
          -1.01398,
          -4.26419,
          -2.26416,
          -2.26416,
          -4.51374,
          -2.5975,
          -3.93085,
          -1.26414,
          -1.26414,
          0.402561,
          1.40258,
          1.06924,
          0.236197,
          0.735901,
          0.0692216,
          -0.930797,
          1.73592,
          0.0692216,
          -2.93084,
          1.06924,
          -2.5137,
          -2.26416,
          -2.93084,
          -0.597458,
          -1.76384,
          -3.59751,
          -0.930797,
          -1.59748,
          -0.0139602,
          0.402561,
          -1.93082,
          0.735901,
          2.48639,
          0.0692216,
          1.40258,
          -1.59748,
          -1.01398,
          -0.930797,
          0.0692216,
          0.402561,
          -1.26414,
          -1.26414,
          0.0692216,
          -1.93082,
          -1.01398,
          -1.59748,
          4.0693,
          1.06924,
          1.98608,
          1.73592,
          -2.26416,
          0.402561,
          -2.014,
          -2.5975,
          2.06926,
          -2.93084,
          -3.76388,
          -1.93082,
          0.402561,
          -0.597458,
          -2.26416,
          -3.59751,
          -2.5975,
          0.735901,
          -0.0139602,
          0.402561,
          2.06926,
          -0.930797,
          4.23627,
          0.0692216,
          -0.597458,
          -1.93082,
          -1.76384,
          -0.930797,
          -0.930797,
          -2.014,
          -3.26417,
          -3.59751,
          2.4026,
          -2.5137,
          -1.26414,
          -0.264118,
          -1.93082,
          -0.763821,
          1.40258,
          2.73594,
          -0.597458,
          -0.763821,
          -0.597458,
          -1.93082,
          -1.59748,
          0.735901,
          2.4026,
          -0.930797,
          -2.26416,
          -1.51368,
          -3.93085,
          -0.930797,
          -2.5975,
          -2.5137,
          -2.26416,
          2.73594,
          7.06936,
          0.486355,
          0.735901,
          0.402561,
          -0.264118,
          1.73592,
          -1.93082,
          0.402561,
          -1.93082,
          -1.26414,
          -2.5975,
          -0.597458,
          -1.26414,
          -2.5137,
          -0.930797,
          -2.93084,
          -2.26416,
          1.48637,
          1.40258,
          4.0693,
          4.0693,
          3.23625,
          -0.264118,
          0.735901,
          0.402561,
          -0.0139602,
          -1.93082,
          -0.264118,
          -0.264118,
          -2.5137,
          -3.93085,
          -1.59748,
          -3.59751,
          -3.01402,
          -2.5975,
          -2.26416,
          -0.597458,
          0.735901,
          -0.930797,
          4.73598,
          -1.59748,
          -0.763821,
          -0.597458,
          -0.930797,
          -0.930797,
          -0.513664,
          -0.597458,
          -0.597458,
          -1.26414,
          -2.5137,
          -3.26417,
          -2.5975,
          -3.93085,
          -2.014,
          -1.59748,
          -2.5975,
          -2.5975,
          0.236197,
          2.06926,
          3.06928,
          -0.930797,
          2.23624,
          -0.264118,
          1.06924,
          -0.930797,
          -1.01398,
          -1.26414,
          -2.5975,
          -3.59751,
          -3.01402,
          -3.93085,
          -2.5975,
          -2.93084,
          -0.264118,
          1.73592,
          1.73592,
          -0.930797,
          1.23622,
          -1.26414,
          -1.93082,
          -2.5975,
          0.236197,
          -1.26414,
          -0.597458,
          6.06934,
          3.73596,
          1.06924,
          1.40258,
          -0.597458,
          -2.26416,
          -2.26416,
          -1.26414,
          -1.93082,
          0.986059,
          1.73592,
          -0.264118,
          4.73598,
          -0.264118,
          1.40258,
          0.0692216,
          -0.930797,
          0.486355,
          2.06926,
          0.0692216,
          -2.93084,
          1.98608,
          0.0692216,
          -0.597458,
          -0.930797,
          -1.51368,
          -1.26414,
          -2.26416,
          1.06924,
          6.23631,
          -1.59748,
          -1.93082,
          2.4026,
          1.48637,
          0.735901,
          0.402561,
          -0.930797,
          -0.264118,
          -1.26414,
          1.73592,
          -1.59748,
          -0.0139602,
          -2.5975,
          -2.26416,
          -1.93082,
          -3.01402,
          -0.597458,
          -0.930797,
          -1.59748,
          2.23624,
          -0.264118,
          -1.59748,
          0.402561,
          -1.76384,
          0.0692216,
          -0.930797,
          3.06928,
          -2.26416,
          2.4026,
          0.0692216,
          6.06934,
          -3.51372,
          -1.26414,
          6.73602,
          -2.5975,
          1.48637,
          -1.59748,
          3.06928,
          0.735901,
          -1.01398,
          0.735901,
          7.40269,
          -1.93082,
          -0.0139602,
          0.0692216,
          2.73594,
          1.06924,
          -2.26416,
          0.0692216,
          -2.5975,
          -2.5975,
          -2.5137,
          -3.59751,
          -2.5975,
          -0.0139602,
          5.40266,
          3.40262,
          0.0692216,
          2.73594,
          3.06928,
          0.402561,
          -1.26414,
          1.23622,
          1.40258,
          -1.26414,
          -1.59748,
          -2.5137,
          -2.26416,
          -3.93085,
          -4.26419,
          -3.01402,
          -2.93084,
          -0.930797,
          0.402561,
          0.986059,
          -0.930797,
          5.40266,
          -0.930797,
          -0.763821,
          -0.597458,
          0.735901,
          2.06926,
          -0.763821,
          1.40258,
          -0.597458,
          -0.930797,
          -1.76384,
          -1.26414,
          -2.26416,
          -1.93082,
          -1.76384,
          -2.26416,
          3.73596,
          -0.264118,
          1.73592,
          -0.930797,
          2.06926,
          -1.93082,
          -0.763821,
          1.73592,
          -1.26414,
          -1.93082,
          -0.763821,
          -2.26416,
          -1.26414,
          -2.5975,
          -2.26416,
          -2.93084,
          -2.93084,
          -0.597458,
          2.23624,
          -2.93084,
          5.40266,
          4.0693,
          1.98608,
          4.40264,
          -0.264118,
          -1.26414,
          -0.763821,
          -2.93084,
          2.06926,
          -1.93082,
          -3.01402,
          -2.5975,
          -1.93082,
          -2.93084,
          -1.76384,
          -3.93085,
          -1.93082,
          0.0692216,
          -0.264118,
          6.73602,
          -1.59748,
          -0.930797,
          0.735901,
          0.735901,
          -0.264118,
          -0.597458,
          -0.763821,
          0.0692216,
          -2.93084,
          -2.5975,
          -1.01398,
          -1.26414,
          -2.26416,
          0.0692216,
          -2.5137,
          0.735901,
          1.06924,
          0.402561,
          3.98612,
          -0.597458,
          0.735901,
          -0.264118,
          4.73598,
          0.735901,
          -0.930797,
          -1.93082,
          -1.76384,
          -1.93082,
          -3.59751,
          -1.93082,
          -1.76384,
          -2.93084,
          -3.59751,
          -3.26417,
          -3.26417,
          -0.264118,
          1.06924,
          2.73594,
          -0.264118,
          -0.930797,
          0.402561,
          -0.597458
         ]
        },
        {
         "marker": {
          "color": "red",
          "size": 8,
          "symbol": "cross"
         },
         "mode": "markers",
         "name": "Detected Peaks",
         "type": "scatter",
         "x": [
          5,
          43,
          141,
          173,
          209,
          212,
          419,
          457,
          626,
          736,
          891,
          981
         ],
         "y": [
          6.73602,
          7.06936,
          6.06934,
          16.4029,
          31.4025,
          35.4864,
          10.4859,
          7.40269,
          10.9862,
          7.06936,
          7.40269,
          6.73602
         ]
        }
       ],
       "layout": {
        "template": {
         "data": {
          "bar": [
           {
            "error_x": {
             "color": "#2a3f5f"
            },
            "error_y": {
             "color": "#2a3f5f"
            },
            "marker": {
             "line": {
              "color": "#E5ECF6",
              "width": 0.5
             }
            },
            "type": "bar"
           }
          ],
          "barpolar": [
           {
            "marker": {
             "line": {
              "color": "#E5ECF6",
              "width": 0.5
             }
            },
            "type": "barpolar"
           }
          ],
          "carpet": [
           {
            "aaxis": {
             "endlinecolor": "#2a3f5f",
             "gridcolor": "white",
             "linecolor": "white",
             "minorgridcolor": "white",
             "startlinecolor": "#2a3f5f"
            },
            "baxis": {
             "endlinecolor": "#2a3f5f",
             "gridcolor": "white",
             "linecolor": "white",
             "minorgridcolor": "white",
             "startlinecolor": "#2a3f5f"
            },
            "type": "carpet"
           }
          ],
          "choropleth": [
           {
            "colorbar": {
             "outlinewidth": 0,
             "ticks": ""
            },
            "type": "choropleth"
           }
          ],
          "contour": [
           {
            "colorbar": {
             "outlinewidth": 0,
             "ticks": ""
            },
            "colorscale": [
             [
              0,
              "#0d0887"
             ],
             [
              0.1111111111111111,
              "#46039f"
             ],
             [
              0.2222222222222222,
              "#7201a8"
             ],
             [
              0.3333333333333333,
              "#9c179e"
             ],
             [
              0.4444444444444444,
              "#bd3786"
             ],
             [
              0.5555555555555556,
              "#d8576b"
             ],
             [
              0.6666666666666666,
              "#ed7953"
             ],
             [
              0.7777777777777778,
              "#fb9f3a"
             ],
             [
              0.8888888888888888,
              "#fdca26"
             ],
             [
              1,
              "#f0f921"
             ]
            ],
            "type": "contour"
           }
          ],
          "contourcarpet": [
           {
            "colorbar": {
             "outlinewidth": 0,
             "ticks": ""
            },
            "type": "contourcarpet"
           }
          ],
          "heatmap": [
           {
            "colorbar": {
             "outlinewidth": 0,
             "ticks": ""
            },
            "colorscale": [
             [
              0,
              "#0d0887"
             ],
             [
              0.1111111111111111,
              "#46039f"
             ],
             [
              0.2222222222222222,
              "#7201a8"
             ],
             [
              0.3333333333333333,
              "#9c179e"
             ],
             [
              0.4444444444444444,
              "#bd3786"
             ],
             [
              0.5555555555555556,
              "#d8576b"
             ],
             [
              0.6666666666666666,
              "#ed7953"
             ],
             [
              0.7777777777777778,
              "#fb9f3a"
             ],
             [
              0.8888888888888888,
              "#fdca26"
             ],
             [
              1,
              "#f0f921"
             ]
            ],
            "type": "heatmap"
           }
          ],
          "heatmapgl": [
           {
            "colorbar": {
             "outlinewidth": 0,
             "ticks": ""
            },
            "colorscale": [
             [
              0,
              "#0d0887"
             ],
             [
              0.1111111111111111,
              "#46039f"
             ],
             [
              0.2222222222222222,
              "#7201a8"
             ],
             [
              0.3333333333333333,
              "#9c179e"
             ],
             [
              0.4444444444444444,
              "#bd3786"
             ],
             [
              0.5555555555555556,
              "#d8576b"
             ],
             [
              0.6666666666666666,
              "#ed7953"
             ],
             [
              0.7777777777777778,
              "#fb9f3a"
             ],
             [
              0.8888888888888888,
              "#fdca26"
             ],
             [
              1,
              "#f0f921"
             ]
            ],
            "type": "heatmapgl"
           }
          ],
          "histogram": [
           {
            "marker": {
             "colorbar": {
              "outlinewidth": 0,
              "ticks": ""
             }
            },
            "type": "histogram"
           }
          ],
          "histogram2d": [
           {
            "colorbar": {
             "outlinewidth": 0,
             "ticks": ""
            },
            "colorscale": [
             [
              0,
              "#0d0887"
             ],
             [
              0.1111111111111111,
              "#46039f"
             ],
             [
              0.2222222222222222,
              "#7201a8"
             ],
             [
              0.3333333333333333,
              "#9c179e"
             ],
             [
              0.4444444444444444,
              "#bd3786"
             ],
             [
              0.5555555555555556,
              "#d8576b"
             ],
             [
              0.6666666666666666,
              "#ed7953"
             ],
             [
              0.7777777777777778,
              "#fb9f3a"
             ],
             [
              0.8888888888888888,
              "#fdca26"
             ],
             [
              1,
              "#f0f921"
             ]
            ],
            "type": "histogram2d"
           }
          ],
          "histogram2dcontour": [
           {
            "colorbar": {
             "outlinewidth": 0,
             "ticks": ""
            },
            "colorscale": [
             [
              0,
              "#0d0887"
             ],
             [
              0.1111111111111111,
              "#46039f"
             ],
             [
              0.2222222222222222,
              "#7201a8"
             ],
             [
              0.3333333333333333,
              "#9c179e"
             ],
             [
              0.4444444444444444,
              "#bd3786"
             ],
             [
              0.5555555555555556,
              "#d8576b"
             ],
             [
              0.6666666666666666,
              "#ed7953"
             ],
             [
              0.7777777777777778,
              "#fb9f3a"
             ],
             [
              0.8888888888888888,
              "#fdca26"
             ],
             [
              1,
              "#f0f921"
             ]
            ],
            "type": "histogram2dcontour"
           }
          ],
          "mesh3d": [
           {
            "colorbar": {
             "outlinewidth": 0,
             "ticks": ""
            },
            "type": "mesh3d"
           }
          ],
          "parcoords": [
           {
            "line": {
             "colorbar": {
              "outlinewidth": 0,
              "ticks": ""
             }
            },
            "type": "parcoords"
           }
          ],
          "pie": [
           {
            "automargin": true,
            "type": "pie"
           }
          ],
          "scatter": [
           {
            "marker": {
             "colorbar": {
              "outlinewidth": 0,
              "ticks": ""
             }
            },
            "type": "scatter"
           }
          ],
          "scatter3d": [
           {
            "line": {
             "colorbar": {
              "outlinewidth": 0,
              "ticks": ""
             }
            },
            "marker": {
             "colorbar": {
              "outlinewidth": 0,
              "ticks": ""
             }
            },
            "type": "scatter3d"
           }
          ],
          "scattercarpet": [
           {
            "marker": {
             "colorbar": {
              "outlinewidth": 0,
              "ticks": ""
             }
            },
            "type": "scattercarpet"
           }
          ],
          "scattergeo": [
           {
            "marker": {
             "colorbar": {
              "outlinewidth": 0,
              "ticks": ""
             }
            },
            "type": "scattergeo"
           }
          ],
          "scattergl": [
           {
            "marker": {
             "colorbar": {
              "outlinewidth": 0,
              "ticks": ""
             }
            },
            "type": "scattergl"
           }
          ],
          "scattermapbox": [
           {
            "marker": {
             "colorbar": {
              "outlinewidth": 0,
              "ticks": ""
             }
            },
            "type": "scattermapbox"
           }
          ],
          "scatterpolar": [
           {
            "marker": {
             "colorbar": {
              "outlinewidth": 0,
              "ticks": ""
             }
            },
            "type": "scatterpolar"
           }
          ],
          "scatterpolargl": [
           {
            "marker": {
             "colorbar": {
              "outlinewidth": 0,
              "ticks": ""
             }
            },
            "type": "scatterpolargl"
           }
          ],
          "scatterternary": [
           {
            "marker": {
             "colorbar": {
              "outlinewidth": 0,
              "ticks": ""
             }
            },
            "type": "scatterternary"
           }
          ],
          "surface": [
           {
            "colorbar": {
             "outlinewidth": 0,
             "ticks": ""
            },
            "colorscale": [
             [
              0,
              "#0d0887"
             ],
             [
              0.1111111111111111,
              "#46039f"
             ],
             [
              0.2222222222222222,
              "#7201a8"
             ],
             [
              0.3333333333333333,
              "#9c179e"
             ],
             [
              0.4444444444444444,
              "#bd3786"
             ],
             [
              0.5555555555555556,
              "#d8576b"
             ],
             [
              0.6666666666666666,
              "#ed7953"
             ],
             [
              0.7777777777777778,
              "#fb9f3a"
             ],
             [
              0.8888888888888888,
              "#fdca26"
             ],
             [
              1,
              "#f0f921"
             ]
            ],
            "type": "surface"
           }
          ],
          "table": [
           {
            "cells": {
             "fill": {
              "color": "#EBF0F8"
             },
             "line": {
              "color": "white"
             }
            },
            "header": {
             "fill": {
              "color": "#C8D4E3"
             },
             "line": {
              "color": "white"
             }
            },
            "type": "table"
           }
          ]
         },
         "layout": {
          "annotationdefaults": {
           "arrowcolor": "#2a3f5f",
           "arrowhead": 0,
           "arrowwidth": 1
          },
          "coloraxis": {
           "colorbar": {
            "outlinewidth": 0,
            "ticks": ""
           }
          },
          "colorscale": {
           "diverging": [
            [
             0,
             "#8e0152"
            ],
            [
             0.1,
             "#c51b7d"
            ],
            [
             0.2,
             "#de77ae"
            ],
            [
             0.3,
             "#f1b6da"
            ],
            [
             0.4,
             "#fde0ef"
            ],
            [
             0.5,
             "#f7f7f7"
            ],
            [
             0.6,
             "#e6f5d0"
            ],
            [
             0.7,
             "#b8e186"
            ],
            [
             0.8,
             "#7fbc41"
            ],
            [
             0.9,
             "#4d9221"
            ],
            [
             1,
             "#276419"
            ]
           ],
           "sequential": [
            [
             0,
             "#0d0887"
            ],
            [
             0.1111111111111111,
             "#46039f"
            ],
            [
             0.2222222222222222,
             "#7201a8"
            ],
            [
             0.3333333333333333,
             "#9c179e"
            ],
            [
             0.4444444444444444,
             "#bd3786"
            ],
            [
             0.5555555555555556,
             "#d8576b"
            ],
            [
             0.6666666666666666,
             "#ed7953"
            ],
            [
             0.7777777777777778,
             "#fb9f3a"
            ],
            [
             0.8888888888888888,
             "#fdca26"
            ],
            [
             1,
             "#f0f921"
            ]
           ],
           "sequentialminus": [
            [
             0,
             "#0d0887"
            ],
            [
             0.1111111111111111,
             "#46039f"
            ],
            [
             0.2222222222222222,
             "#7201a8"
            ],
            [
             0.3333333333333333,
             "#9c179e"
            ],
            [
             0.4444444444444444,
             "#bd3786"
            ],
            [
             0.5555555555555556,
             "#d8576b"
            ],
            [
             0.6666666666666666,
             "#ed7953"
            ],
            [
             0.7777777777777778,
             "#fb9f3a"
            ],
            [
             0.8888888888888888,
             "#fdca26"
            ],
            [
             1,
             "#f0f921"
            ]
           ]
          },
          "colorway": [
           "#636efa",
           "#EF553B",
           "#00cc96",
           "#ab63fa",
           "#FFA15A",
           "#19d3f3",
           "#FF6692",
           "#B6E880",
           "#FF97FF",
           "#FECB52"
          ],
          "font": {
           "color": "#2a3f5f"
          },
          "geo": {
           "bgcolor": "white",
           "lakecolor": "white",
           "landcolor": "#E5ECF6",
           "showlakes": true,
           "showland": true,
           "subunitcolor": "white"
          },
          "hoverlabel": {
           "align": "left"
          },
          "hovermode": "closest",
          "mapbox": {
           "style": "light"
          },
          "paper_bgcolor": "white",
          "plot_bgcolor": "#E5ECF6",
          "polar": {
           "angularaxis": {
            "gridcolor": "white",
            "linecolor": "white",
            "ticks": ""
           },
           "bgcolor": "#E5ECF6",
           "radialaxis": {
            "gridcolor": "white",
            "linecolor": "white",
            "ticks": ""
           }
          },
          "scene": {
           "xaxis": {
            "backgroundcolor": "#E5ECF6",
            "gridcolor": "white",
            "gridwidth": 2,
            "linecolor": "white",
            "showbackground": true,
            "ticks": "",
            "zerolinecolor": "white"
           },
           "yaxis": {
            "backgroundcolor": "#E5ECF6",
            "gridcolor": "white",
            "gridwidth": 2,
            "linecolor": "white",
            "showbackground": true,
            "ticks": "",
            "zerolinecolor": "white"
           },
           "zaxis": {
            "backgroundcolor": "#E5ECF6",
            "gridcolor": "white",
            "gridwidth": 2,
            "linecolor": "white",
            "showbackground": true,
            "ticks": "",
            "zerolinecolor": "white"
           }
          },
          "shapedefaults": {
           "line": {
            "color": "#2a3f5f"
           }
          },
          "ternary": {
           "aaxis": {
            "gridcolor": "white",
            "linecolor": "white",
            "ticks": ""
           },
           "baxis": {
            "gridcolor": "white",
            "linecolor": "white",
            "ticks": ""
           },
           "bgcolor": "#E5ECF6",
           "caxis": {
            "gridcolor": "white",
            "linecolor": "white",
            "ticks": ""
           }
          },
          "title": {
           "x": 0.05
          },
          "xaxis": {
           "automargin": true,
           "gridcolor": "white",
           "linecolor": "white",
           "ticks": "",
           "title": {
            "standoff": 15
           },
           "zerolinecolor": "white",
           "zerolinewidth": 2
          },
          "yaxis": {
           "automargin": true,
           "gridcolor": "white",
           "linecolor": "white",
           "ticks": "",
           "title": {
            "standoff": 15
           },
           "zerolinecolor": "white",
           "zerolinewidth": 2
          }
         }
        }
       }
      },
      "text/html": [
       "<div>\n",
       "        \n",
       "        \n",
       "            <div id=\"74db57d8-d71e-45bc-bde5-f29030646486\" class=\"plotly-graph-div\" style=\"height:525px; width:100%;\"></div>\n",
       "            <script type=\"text/javascript\">\n",
       "                require([\"plotly\"], function(Plotly) {\n",
       "                    window.PLOTLYENV=window.PLOTLYENV || {};\n",
       "                    \n",
       "                if (document.getElementById(\"74db57d8-d71e-45bc-bde5-f29030646486\")) {\n",
       "                    Plotly.newPlot(\n",
       "                        '74db57d8-d71e-45bc-bde5-f29030646486',\n",
       "                        [{\"mode\": \"lines+markers\", \"name\": \"Original Plot\", \"type\": \"scatter\", \"y\": [-3.26417, -2.014, 0.735901, -0.930797, 2.73594, 6.73602, 2.4026, -0.597458, -1.93082, -2.26416, 0.402561, -0.597458, -0.264118, -3.51372, -1.26414, -2.93084, -1.93082, -2.26416, 1.06924, -2.5975, -0.930797, -1.76384, 0.735901, 0.735901, 2.06926, -0.513664, 1.73592, 0.402561, -1.93082, -2.014, -0.597458, -0.597458, 1.06924, -2.26416, -2.93084, -1.93082, -2.26416, -1.51368, -2.26416, -2.93084, -1.59748, -0.264118, 0.402561, 7.06936, 0.735901, -1.26414, 0.735901, 0.0692216, -0.264118, 1.73592, -0.597458, -2.93084, -3.59751, -1.76384, -2.5975, -1.26414, -1.26414, -0.513664, 1.06924, -0.264118, 0.735901, 1.98608, 2.73594, 1.40258, 2.4026, 1.23622, 0.402561, -0.930797, -1.59748, -1.76384, -2.26416, -1.93082, -3.93085, -0.264118, -0.597458, -2.5975, 1.40258, 5.23629, -0.264118, -0.597458, 1.06924, 1.98608, 3.06928, 1.73592, 3.40262, 1.73592, 4.0693, 0.0692216, -1.26414, -1.76384, -0.597458, -2.93084, -1.59748, 0.735901, 1.40258, 3.40262, -2.5975, 3.23625, 2.73594, 1.73592, 2.4026, 4.73598, 3.06928, 5.40266, 1.40258, 2.48639, 1.06924, -2.93084, -0.597458, -3.26417, -2.93084, -1.59748, -2.5975, -0.264118, -2.26416, 1.40258, -0.930797, 3.73596, 4.40264, 1.06924, -0.0139602, 0.735901, 1.06924, 2.06926, -2.26416, -2.26416, -1.59748, -2.26416, -2.26416, -2.5975, -3.59751, 3.06928, -1.76384, -1.26414, -1.59748, 5.40266, -1.01398, 2.06926, 1.06924, 0.0692216, 0.486355, 6.06934, 2.06926, 3.06928, -0.264118, 1.40258, -2.26416, -2.5975, -2.26416, -0.930797, -1.59748, -3.59751, -0.763821, 2.06926, 2.4026, -0.264118, 1.48637, -0.264118, -1.93082, -0.930797, 0.236197, -0.930797, 0.0692216, -2.5975, -1.76384, -2.26416, -3.26417, -2.5975, -3.01402, -3.93085, -0.597458, -1.26414, 0.486355, 16.4029, 3.40262, -1.59748, 0.986059, -0.264118, -1.59748, 2.06926, -0.264118, -1.59748, -2.26416, -0.597458, -3.26417, -1.59748, -1.26414, -3.26417, -1.76384, -1.93082, -0.930797, -0.930797, 2.48639, 1.73592, -2.93084, -1.26414, -0.513664, 0.735901, 0.735901, -2.26416, 0.986059, -0.264118, 17.7362, 24.0697, 29.986, 29.7358, 26.4031, 25.403, 20.4861, 31.4025, 17.7362, 33.7359, 35.4864, 24.403, 32.0692, 9.40273, -1.01398, -0.597458, 0.402561, -2.93084, -1.51368, -2.93084, -1.93082, -1.93082, -3.01402, -3.26417, -2.26416, -1.93082, -2.5137, 0.402561, 0.0692216, 2.73594, 0.486355, 0.0692216, 3.73596, 1.06924, -1.51368, -0.930797, -2.26416, -0.597458, 0.486355, -2.93084, -2.5975, -0.930797, -2.014, -1.26414, -0.597458, -1.93082, -0.763821, -0.264118, 4.73598, -0.930797, 1.23622, 0.0692216, -0.597458, -0.597458, -2.5137, 0.402561, -1.26414, 2.06926, -1.01398, -1.26414, -2.26416, -3.59751, -2.76386, -1.59748, 2.4026, 3.40262, 4.98614, 0.735901, 0.735901, 1.06924, -1.76384, 1.06924, -0.264118, -1.93082, -1.01398, -1.59748, -2.26416, -3.26417, -0.763821, -1.93082, -2.5975, 0.402561, -2.014, -1.93082, 3.40262, 5.40266, 0.236197, 1.40258, -0.264118, 1.40258, -1.26414, -0.597458, -3.59751, -1.93082, -3.76388, -2.5975, -2.93084, -3.26417, -2.5137, -0.597458, -0.930797, 0.402561, 1.23622, 0.0692216, 4.40264, -0.597458, 3.4858, 0.735901, 1.40258, -1.59748, -0.763821, -1.93082, -1.26414, -1.51368, 1.06924, -0.264118, 1.06924, -1.51368, -1.93082, -1.59748, 2.06926, -0.264118, 0.735901, -1.26414, -1.93082, -1.01398, -1.93082, -0.264118, -0.264118, -2.5137, -3.59751, -0.264118, 0.402561, -3.01402, -3.26417, -2.93084, -2.93084, -2.76386, -0.597458, -0.930797, 0.735901, 0.486355, 1.06924, -2.5975, 1.40258, -0.513664, -0.930797, 0.735901, -1.93082, 3.73596, -3.59751, -3.26417, -2.5975, -3.26417, 1.40258, -2.93084, -0.597458, -0.763821, -0.597458, 5.06932, 0.402561, 0.486355, -1.59748, -0.264118, -2.5975, -0.763821, -1.26414, 1.73592, -2.5975, -2.26416, -3.93085, -2.93084, -2.26416, -2.76386, -0.597458, -0.930797, 0.0692216, 0.236197, -2.5975, 5.40266, 3.06928, 1.23622, 3.06928, 1.73592, 2.06926, 0.486355, -1.59748, -0.930797, 0.402561, -2.26416, -0.264118, -3.59751, -2.5975, -0.264118, -1.26414, -0.930797, -1.93082, 0.236197, -0.597458, -0.597458, -1.93082, 1.23622, -0.597458, -0.597458, -1.59748, -2.014, -3.59751, -1.93082, -3.93085, -2.5137, -3.26417, -2.93084, -3.59751, -2.76386, -2.26416, -0.264118, 1.40258, 10.4859, -0.597458, -1.59748, -1.59748, 1.48637, 0.0692216, -1.59748, -2.26416, -1.76384, -2.93084, -3.26417, -1.59748, -1.26414, -2.26416, -2.93084, -2.26416, 1.48637, 1.73592, -2.5975, 5.736, 0.236197, -2.26416, 1.06924, 2.4026, -0.763821, -2.5975, -2.26416, -0.930797, -1.51368, -3.26417, -3.93085, -3.59751, -2.5137, -2.93084, 4.0693, -1.26414, 0.486355, -0.930797, 7.40269, -1.93082, 0.486355, 1.40258, 1.06924, -0.264118, -2.014, 0.735901, -0.930797, -1.93082, 0.236197, -2.26416, -1.93082, -1.26414, -2.26416, 1.40258, -2.26416, 1.06924, 0.986059, -0.597458, -2.5975, 2.4026, 0.735901, -2.5975, 0.0692216, -2.5975, -2.014, -1.59748, -2.93084, -2.93084, -4.01404, -3.26417, -2.26416, -2.26416, -1.01398, -0.930797, 2.4026, 5.06932, 1.73592, -1.26414, -0.597458, 2.06926, 0.986059, -1.26414, -0.597458, -1.59748, -0.264118, -2.5975, -2.93084, -2.93084, -1.51368, -0.264118, -1.59748, -1.76384, 2.4026, -0.597458, 1.40258, 0.735901, 3.06928, -0.930797, -0.597458, -1.26414, -1.26414, -1.26414, 0.0692216, -2.014, -0.597458, -2.93084, -3.93085, -1.51368, -4.59692, -2.26416, 1.06924, 1.73592, -1.59748, 2.4026, -0.597458, -0.264118, 0.735901, -2.26416, 2.4026, -1.76384, -1.93082, 0.402561, -0.930797, -1.51368, -1.59748, -1.59748, -2.5975, -1.76384, -1.59748, -1.59748, 1.73592, 0.986059, 2.06926, 3.40262, -0.597458, 1.48637, 0.402561, 0.0692216, 2.06926, 0.486355, 0.0692216, -1.26414, -1.26414, -3.51372, -0.597458, -2.26416, -0.930797, 2.48639, 1.06924, -1.59748, 1.40258, -0.0139602, 2.73594, 3.06928, 0.402561, 0.486355, 1.06924, -1.59748, 5.40266, -0.513664, -0.597458, -3.93085, -2.93084, -1.26414, -3.26417, 1.06924, -0.264118, -0.0139602, -1.93082, -0.597458, 0.735901, 0.735901, -1.93082, -0.597458, -2.5975, -1.26414, -1.26414, -1.59748, -2.5975, -3.01402, -1.59748, -3.26417, -1.93082, 1.23622, -1.93082, 0.735901, 0.735901, 4.23627, 0.735901, -0.264118, 1.40258, -1.01398, 2.4026, 2.4026, -0.930797, -2.26416, -2.26416, -1.93082, -0.930797, -3.26417, -2.26416, -4.26419, -0.930797, -1.76384, 3.73596, 0.402561, -2.5975, 10.9862, -2.5975, 1.06924, -0.597458, 1.23622, 0.735901, -0.930797, -2.93084, -1.01398, -4.26419, -2.26416, -2.26416, -4.51374, -2.5975, -3.93085, -1.26414, -1.26414, 0.402561, 1.40258, 1.06924, 0.236197, 0.735901, 0.0692216, -0.930797, 1.73592, 0.0692216, -2.93084, 1.06924, -2.5137, -2.26416, -2.93084, -0.597458, -1.76384, -3.59751, -0.930797, -1.59748, -0.0139602, 0.402561, -1.93082, 0.735901, 2.48639, 0.0692216, 1.40258, -1.59748, -1.01398, -0.930797, 0.0692216, 0.402561, -1.26414, -1.26414, 0.0692216, -1.93082, -1.01398, -1.59748, 4.0693, 1.06924, 1.98608, 1.73592, -2.26416, 0.402561, -2.014, -2.5975, 2.06926, -2.93084, -3.76388, -1.93082, 0.402561, -0.597458, -2.26416, -3.59751, -2.5975, 0.735901, -0.0139602, 0.402561, 2.06926, -0.930797, 4.23627, 0.0692216, -0.597458, -1.93082, -1.76384, -0.930797, -0.930797, -2.014, -3.26417, -3.59751, 2.4026, -2.5137, -1.26414, -0.264118, -1.93082, -0.763821, 1.40258, 2.73594, -0.597458, -0.763821, -0.597458, -1.93082, -1.59748, 0.735901, 2.4026, -0.930797, -2.26416, -1.51368, -3.93085, -0.930797, -2.5975, -2.5137, -2.26416, 2.73594, 7.06936, 0.486355, 0.735901, 0.402561, -0.264118, 1.73592, -1.93082, 0.402561, -1.93082, -1.26414, -2.5975, -0.597458, -1.26414, -2.5137, -0.930797, -2.93084, -2.26416, 1.48637, 1.40258, 4.0693, 4.0693, 3.23625, -0.264118, 0.735901, 0.402561, -0.0139602, -1.93082, -0.264118, -0.264118, -2.5137, -3.93085, -1.59748, -3.59751, -3.01402, -2.5975, -2.26416, -0.597458, 0.735901, -0.930797, 4.73598, -1.59748, -0.763821, -0.597458, -0.930797, -0.930797, -0.513664, -0.597458, -0.597458, -1.26414, -2.5137, -3.26417, -2.5975, -3.93085, -2.014, -1.59748, -2.5975, -2.5975, 0.236197, 2.06926, 3.06928, -0.930797, 2.23624, -0.264118, 1.06924, -0.930797, -1.01398, -1.26414, -2.5975, -3.59751, -3.01402, -3.93085, -2.5975, -2.93084, -0.264118, 1.73592, 1.73592, -0.930797, 1.23622, -1.26414, -1.93082, -2.5975, 0.236197, -1.26414, -0.597458, 6.06934, 3.73596, 1.06924, 1.40258, -0.597458, -2.26416, -2.26416, -1.26414, -1.93082, 0.986059, 1.73592, -0.264118, 4.73598, -0.264118, 1.40258, 0.0692216, -0.930797, 0.486355, 2.06926, 0.0692216, -2.93084, 1.98608, 0.0692216, -0.597458, -0.930797, -1.51368, -1.26414, -2.26416, 1.06924, 6.23631, -1.59748, -1.93082, 2.4026, 1.48637, 0.735901, 0.402561, -0.930797, -0.264118, -1.26414, 1.73592, -1.59748, -0.0139602, -2.5975, -2.26416, -1.93082, -3.01402, -0.597458, -0.930797, -1.59748, 2.23624, -0.264118, -1.59748, 0.402561, -1.76384, 0.0692216, -0.930797, 3.06928, -2.26416, 2.4026, 0.0692216, 6.06934, -3.51372, -1.26414, 6.73602, -2.5975, 1.48637, -1.59748, 3.06928, 0.735901, -1.01398, 0.735901, 7.40269, -1.93082, -0.0139602, 0.0692216, 2.73594, 1.06924, -2.26416, 0.0692216, -2.5975, -2.5975, -2.5137, -3.59751, -2.5975, -0.0139602, 5.40266, 3.40262, 0.0692216, 2.73594, 3.06928, 0.402561, -1.26414, 1.23622, 1.40258, -1.26414, -1.59748, -2.5137, -2.26416, -3.93085, -4.26419, -3.01402, -2.93084, -0.930797, 0.402561, 0.986059, -0.930797, 5.40266, -0.930797, -0.763821, -0.597458, 0.735901, 2.06926, -0.763821, 1.40258, -0.597458, -0.930797, -1.76384, -1.26414, -2.26416, -1.93082, -1.76384, -2.26416, 3.73596, -0.264118, 1.73592, -0.930797, 2.06926, -1.93082, -0.763821, 1.73592, -1.26414, -1.93082, -0.763821, -2.26416, -1.26414, -2.5975, -2.26416, -2.93084, -2.93084, -0.597458, 2.23624, -2.93084, 5.40266, 4.0693, 1.98608, 4.40264, -0.264118, -1.26414, -0.763821, -2.93084, 2.06926, -1.93082, -3.01402, -2.5975, -1.93082, -2.93084, -1.76384, -3.93085, -1.93082, 0.0692216, -0.264118, 6.73602, -1.59748, -0.930797, 0.735901, 0.735901, -0.264118, -0.597458, -0.763821, 0.0692216, -2.93084, -2.5975, -1.01398, -1.26414, -2.26416, 0.0692216, -2.5137, 0.735901, 1.06924, 0.402561, 3.98612, -0.597458, 0.735901, -0.264118, 4.73598, 0.735901, -0.930797, -1.93082, -1.76384, -1.93082, -3.59751, -1.93082, -1.76384, -2.93084, -3.59751, -3.26417, -3.26417, -0.264118, 1.06924, 2.73594, -0.264118, -0.930797, 0.402561, -0.597458]}, {\"marker\": {\"color\": \"red\", \"size\": 8, \"symbol\": \"cross\"}, \"mode\": \"markers\", \"name\": \"Detected Peaks\", \"type\": \"scatter\", \"x\": [5, 43, 141, 173, 209, 212, 419, 457, 626, 736, 891, 981], \"y\": [6.73602, 7.06936, 6.06934, 16.4029, 31.4025, 35.4864, 10.4859, 7.40269, 10.9862, 7.06936, 7.40269, 6.73602]}],\n",
       "                        {\"template\": {\"data\": {\"bar\": [{\"error_x\": {\"color\": \"#2a3f5f\"}, \"error_y\": {\"color\": \"#2a3f5f\"}, \"marker\": {\"line\": {\"color\": \"#E5ECF6\", \"width\": 0.5}}, \"type\": \"bar\"}], \"barpolar\": [{\"marker\": {\"line\": {\"color\": \"#E5ECF6\", \"width\": 0.5}}, \"type\": \"barpolar\"}], \"carpet\": [{\"aaxis\": {\"endlinecolor\": \"#2a3f5f\", \"gridcolor\": \"white\", \"linecolor\": \"white\", \"minorgridcolor\": \"white\", \"startlinecolor\": \"#2a3f5f\"}, \"baxis\": {\"endlinecolor\": \"#2a3f5f\", \"gridcolor\": \"white\", \"linecolor\": \"white\", \"minorgridcolor\": \"white\", \"startlinecolor\": \"#2a3f5f\"}, \"type\": \"carpet\"}], \"choropleth\": [{\"colorbar\": {\"outlinewidth\": 0, \"ticks\": \"\"}, \"type\": \"choropleth\"}], \"contour\": [{\"colorbar\": {\"outlinewidth\": 0, \"ticks\": \"\"}, \"colorscale\": [[0.0, \"#0d0887\"], [0.1111111111111111, \"#46039f\"], [0.2222222222222222, \"#7201a8\"], [0.3333333333333333, \"#9c179e\"], [0.4444444444444444, \"#bd3786\"], [0.5555555555555556, \"#d8576b\"], [0.6666666666666666, \"#ed7953\"], [0.7777777777777778, \"#fb9f3a\"], [0.8888888888888888, \"#fdca26\"], [1.0, \"#f0f921\"]], \"type\": \"contour\"}], \"contourcarpet\": [{\"colorbar\": {\"outlinewidth\": 0, \"ticks\": \"\"}, \"type\": \"contourcarpet\"}], \"heatmap\": [{\"colorbar\": {\"outlinewidth\": 0, \"ticks\": \"\"}, \"colorscale\": [[0.0, \"#0d0887\"], [0.1111111111111111, \"#46039f\"], [0.2222222222222222, \"#7201a8\"], [0.3333333333333333, \"#9c179e\"], [0.4444444444444444, \"#bd3786\"], [0.5555555555555556, \"#d8576b\"], [0.6666666666666666, \"#ed7953\"], [0.7777777777777778, \"#fb9f3a\"], [0.8888888888888888, \"#fdca26\"], [1.0, \"#f0f921\"]], \"type\": \"heatmap\"}], \"heatmapgl\": [{\"colorbar\": {\"outlinewidth\": 0, \"ticks\": \"\"}, \"colorscale\": [[0.0, \"#0d0887\"], [0.1111111111111111, \"#46039f\"], [0.2222222222222222, \"#7201a8\"], [0.3333333333333333, \"#9c179e\"], [0.4444444444444444, \"#bd3786\"], [0.5555555555555556, \"#d8576b\"], [0.6666666666666666, \"#ed7953\"], [0.7777777777777778, \"#fb9f3a\"], [0.8888888888888888, \"#fdca26\"], [1.0, \"#f0f921\"]], \"type\": \"heatmapgl\"}], \"histogram\": [{\"marker\": {\"colorbar\": {\"outlinewidth\": 0, \"ticks\": \"\"}}, \"type\": \"histogram\"}], \"histogram2d\": [{\"colorbar\": {\"outlinewidth\": 0, \"ticks\": \"\"}, \"colorscale\": [[0.0, \"#0d0887\"], [0.1111111111111111, \"#46039f\"], [0.2222222222222222, \"#7201a8\"], [0.3333333333333333, \"#9c179e\"], [0.4444444444444444, \"#bd3786\"], [0.5555555555555556, \"#d8576b\"], [0.6666666666666666, \"#ed7953\"], [0.7777777777777778, \"#fb9f3a\"], [0.8888888888888888, \"#fdca26\"], [1.0, \"#f0f921\"]], \"type\": \"histogram2d\"}], \"histogram2dcontour\": [{\"colorbar\": {\"outlinewidth\": 0, \"ticks\": \"\"}, \"colorscale\": [[0.0, \"#0d0887\"], [0.1111111111111111, \"#46039f\"], [0.2222222222222222, \"#7201a8\"], [0.3333333333333333, \"#9c179e\"], [0.4444444444444444, \"#bd3786\"], [0.5555555555555556, \"#d8576b\"], [0.6666666666666666, \"#ed7953\"], [0.7777777777777778, \"#fb9f3a\"], [0.8888888888888888, \"#fdca26\"], [1.0, \"#f0f921\"]], \"type\": \"histogram2dcontour\"}], \"mesh3d\": [{\"colorbar\": {\"outlinewidth\": 0, \"ticks\": \"\"}, \"type\": \"mesh3d\"}], \"parcoords\": [{\"line\": {\"colorbar\": {\"outlinewidth\": 0, \"ticks\": \"\"}}, \"type\": \"parcoords\"}], \"pie\": [{\"automargin\": true, \"type\": \"pie\"}], \"scatter\": [{\"marker\": {\"colorbar\": {\"outlinewidth\": 0, \"ticks\": \"\"}}, \"type\": \"scatter\"}], \"scatter3d\": [{\"line\": {\"colorbar\": {\"outlinewidth\": 0, \"ticks\": \"\"}}, \"marker\": {\"colorbar\": {\"outlinewidth\": 0, \"ticks\": \"\"}}, \"type\": \"scatter3d\"}], \"scattercarpet\": [{\"marker\": {\"colorbar\": {\"outlinewidth\": 0, \"ticks\": \"\"}}, \"type\": \"scattercarpet\"}], \"scattergeo\": [{\"marker\": {\"colorbar\": {\"outlinewidth\": 0, \"ticks\": \"\"}}, \"type\": \"scattergeo\"}], \"scattergl\": [{\"marker\": {\"colorbar\": {\"outlinewidth\": 0, \"ticks\": \"\"}}, \"type\": \"scattergl\"}], \"scattermapbox\": [{\"marker\": {\"colorbar\": {\"outlinewidth\": 0, \"ticks\": \"\"}}, \"type\": \"scattermapbox\"}], \"scatterpolar\": [{\"marker\": {\"colorbar\": {\"outlinewidth\": 0, \"ticks\": \"\"}}, \"type\": \"scatterpolar\"}], \"scatterpolargl\": [{\"marker\": {\"colorbar\": {\"outlinewidth\": 0, \"ticks\": \"\"}}, \"type\": \"scatterpolargl\"}], \"scatterternary\": [{\"marker\": {\"colorbar\": {\"outlinewidth\": 0, \"ticks\": \"\"}}, \"type\": \"scatterternary\"}], \"surface\": [{\"colorbar\": {\"outlinewidth\": 0, \"ticks\": \"\"}, \"colorscale\": [[0.0, \"#0d0887\"], [0.1111111111111111, \"#46039f\"], [0.2222222222222222, \"#7201a8\"], [0.3333333333333333, \"#9c179e\"], [0.4444444444444444, \"#bd3786\"], [0.5555555555555556, \"#d8576b\"], [0.6666666666666666, \"#ed7953\"], [0.7777777777777778, \"#fb9f3a\"], [0.8888888888888888, \"#fdca26\"], [1.0, \"#f0f921\"]], \"type\": \"surface\"}], \"table\": [{\"cells\": {\"fill\": {\"color\": \"#EBF0F8\"}, \"line\": {\"color\": \"white\"}}, \"header\": {\"fill\": {\"color\": \"#C8D4E3\"}, \"line\": {\"color\": \"white\"}}, \"type\": \"table\"}]}, \"layout\": {\"annotationdefaults\": {\"arrowcolor\": \"#2a3f5f\", \"arrowhead\": 0, \"arrowwidth\": 1}, \"coloraxis\": {\"colorbar\": {\"outlinewidth\": 0, \"ticks\": \"\"}}, \"colorscale\": {\"diverging\": [[0, \"#8e0152\"], [0.1, \"#c51b7d\"], [0.2, \"#de77ae\"], [0.3, \"#f1b6da\"], [0.4, \"#fde0ef\"], [0.5, \"#f7f7f7\"], [0.6, \"#e6f5d0\"], [0.7, \"#b8e186\"], [0.8, \"#7fbc41\"], [0.9, \"#4d9221\"], [1, \"#276419\"]], \"sequential\": [[0.0, \"#0d0887\"], [0.1111111111111111, \"#46039f\"], [0.2222222222222222, \"#7201a8\"], [0.3333333333333333, \"#9c179e\"], [0.4444444444444444, \"#bd3786\"], [0.5555555555555556, \"#d8576b\"], [0.6666666666666666, \"#ed7953\"], [0.7777777777777778, \"#fb9f3a\"], [0.8888888888888888, \"#fdca26\"], [1.0, \"#f0f921\"]], \"sequentialminus\": [[0.0, \"#0d0887\"], [0.1111111111111111, \"#46039f\"], [0.2222222222222222, \"#7201a8\"], [0.3333333333333333, \"#9c179e\"], [0.4444444444444444, \"#bd3786\"], [0.5555555555555556, \"#d8576b\"], [0.6666666666666666, \"#ed7953\"], [0.7777777777777778, \"#fb9f3a\"], [0.8888888888888888, \"#fdca26\"], [1.0, \"#f0f921\"]]}, \"colorway\": [\"#636efa\", \"#EF553B\", \"#00cc96\", \"#ab63fa\", \"#FFA15A\", \"#19d3f3\", \"#FF6692\", \"#B6E880\", \"#FF97FF\", \"#FECB52\"], \"font\": {\"color\": \"#2a3f5f\"}, \"geo\": {\"bgcolor\": \"white\", \"lakecolor\": \"white\", \"landcolor\": \"#E5ECF6\", \"showlakes\": true, \"showland\": true, \"subunitcolor\": \"white\"}, \"hoverlabel\": {\"align\": \"left\"}, \"hovermode\": \"closest\", \"mapbox\": {\"style\": \"light\"}, \"paper_bgcolor\": \"white\", \"plot_bgcolor\": \"#E5ECF6\", \"polar\": {\"angularaxis\": {\"gridcolor\": \"white\", \"linecolor\": \"white\", \"ticks\": \"\"}, \"bgcolor\": \"#E5ECF6\", \"radialaxis\": {\"gridcolor\": \"white\", \"linecolor\": \"white\", \"ticks\": \"\"}}, \"scene\": {\"xaxis\": {\"backgroundcolor\": \"#E5ECF6\", \"gridcolor\": \"white\", \"gridwidth\": 2, \"linecolor\": \"white\", \"showbackground\": true, \"ticks\": \"\", \"zerolinecolor\": \"white\"}, \"yaxis\": {\"backgroundcolor\": \"#E5ECF6\", \"gridcolor\": \"white\", \"gridwidth\": 2, \"linecolor\": \"white\", \"showbackground\": true, \"ticks\": \"\", \"zerolinecolor\": \"white\"}, \"zaxis\": {\"backgroundcolor\": \"#E5ECF6\", \"gridcolor\": \"white\", \"gridwidth\": 2, \"linecolor\": \"white\", \"showbackground\": true, \"ticks\": \"\", \"zerolinecolor\": \"white\"}}, \"shapedefaults\": {\"line\": {\"color\": \"#2a3f5f\"}}, \"ternary\": {\"aaxis\": {\"gridcolor\": \"white\", \"linecolor\": \"white\", \"ticks\": \"\"}, \"baxis\": {\"gridcolor\": \"white\", \"linecolor\": \"white\", \"ticks\": \"\"}, \"bgcolor\": \"#E5ECF6\", \"caxis\": {\"gridcolor\": \"white\", \"linecolor\": \"white\", \"ticks\": \"\"}}, \"title\": {\"x\": 0.05}, \"xaxis\": {\"automargin\": true, \"gridcolor\": \"white\", \"linecolor\": \"white\", \"ticks\": \"\", \"title\": {\"standoff\": 15}, \"zerolinecolor\": \"white\", \"zerolinewidth\": 2}, \"yaxis\": {\"automargin\": true, \"gridcolor\": \"white\", \"linecolor\": \"white\", \"ticks\": \"\", \"title\": {\"standoff\": 15}, \"zerolinecolor\": \"white\", \"zerolinewidth\": 2}}}},\n",
       "                        {\"responsive\": true}\n",
       "                    ).then(function(){\n",
       "                            \n",
       "var gd = document.getElementById('74db57d8-d71e-45bc-bde5-f29030646486');\n",
       "var x = new MutationObserver(function (mutations, observer) {{\n",
       "        var display = window.getComputedStyle(gd).display;\n",
       "        if (!display || display === 'none') {{\n",
       "            console.log([gd, 'removed!']);\n",
       "            Plotly.purge(gd);\n",
       "            observer.disconnect();\n",
       "        }}\n",
       "}});\n",
       "\n",
       "// Listen for the removal of the full notebook cells\n",
       "var notebookContainer = gd.closest('#notebook-container');\n",
       "if (notebookContainer) {{\n",
       "    x.observe(notebookContainer, {childList: true});\n",
       "}}\n",
       "\n",
       "// Listen for the clearing of the current output cell\n",
       "var outputEl = gd.closest('.output');\n",
       "if (outputEl) {{\n",
       "    x.observe(outputEl, {childList: true});\n",
       "}}\n",
       "\n",
       "                        })\n",
       "                };\n",
       "                });\n",
       "            </script>\n",
       "        </div>"
      ]
     },
     "metadata": {},
     "output_type": "display_data"
    }
   ],
   "source": [
    "fig = go.Figure()\n",
    "fig.add_trace(go.Scatter(\n",
    "    y=time_series,\n",
    "    mode='lines+markers',\n",
    "    name='Original Plot'\n",
    "))\n",
    "fig.add_trace(go.Scatter(\n",
    "    x=indices,\n",
    "    y=[time_series[j] for j in indices],\n",
    "    mode='markers',\n",
    "    marker=dict(\n",
    "        size=8,\n",
    "        color='red',\n",
    "        symbol='cross'\n",
    "    ),\n",
    "    name='Detected Peaks'\n",
    "))\n",
    "\n",
    "fig.show()"
   ]
  },
  {
   "cell_type": "code",
   "execution_count": 56,
   "metadata": {},
   "outputs": [],
   "source": [
    "f2 = fulldata['frequency'] == 2"
   ]
  },
  {
   "cell_type": "code",
   "execution_count": 57,
   "metadata": {},
   "outputs": [],
   "source": [
    "time_series2 = averagepulse['intensity'][f2]"
   ]
  },
  {
   "cell_type": "code",
   "execution_count": 69,
   "metadata": {},
   "outputs": [],
   "source": [
    "indices2 = sp.signal.find_peaks(time_series2, width=5)[0]"
   ]
  },
  {
   "cell_type": "code",
   "execution_count": 70,
   "metadata": {},
   "outputs": [
    {
     "data": {
      "application/vnd.plotly.v1+json": {
       "config": {
        "plotlyServerURL": "https://plot.ly"
       },
       "data": [
        {
         "mode": "lines+markers",
         "name": "Original Plot",
         "type": "scatter",
         "y": [
          -0.626292,
          0.290267,
          0.373968,
          0.0405475,
          5.37388,
          2.29079,
          1.70696,
          -0.292872,
          -1.62586,
          1.04081,
          0.373968,
          -0.626292,
          -3.62638,
          -0.709301,
          -2.2927,
          -1.62586,
          -2.2927,
          -2.20969,
          -1.29244,
          -1.62586,
          -0.292872,
          0.790396,
          1.70696,
          0.0405475,
          1.04081,
          0.540678,
          0.0405475,
          -1.95928,
          -2.2927,
          0.0405475,
          -0.959712,
          1.37423,
          -1.62586,
          -2.70913,
          -0.626292,
          -2.2927,
          -1.29244,
          -1.95928,
          -0.959712,
          -0.626292,
          1.37423,
          1.29053,
          6.04072,
          2.04037,
          0.0405475,
          2.5405,
          0.0405475,
          0.373968,
          -0.292872,
          -0.209171,
          0.0405475,
          -2.62612,
          -2.62612,
          -2.45941,
          0.0405475,
          0.0405475,
          0.373968,
          -0.209171,
          -0.292872,
          0.0405475,
          1.37423,
          0.290267,
          1.04081,
          0.707388,
          3.70747,
          -0.459582,
          0.0405475,
          -1.29244,
          -0.959712,
          -0.959712,
          -2.2927,
          -1.29244,
          -2.2927,
          -1.45915,
          -0.626292,
          -0.626292,
          4.37362,
          2.79022,
          0.707388,
          1.37423,
          3.04063,
          3.79048,
          2.04037,
          0.373968,
          -0.626292,
          -0.959712,
          0.0405475,
          -0.292872,
          -1.29244,
          -0.959712,
          -1.95928,
          -0.626292,
          -0.626292,
          2.04037,
          -0.292872,
          -0.959712,
          0.707388,
          1.04081,
          6.70756,
          -0.626292,
          6.04072,
          0.290267,
          -0.292872,
          -1.29244,
          1.04081,
          0.540678,
          -1.62586,
          0.707388,
          -2.95954,
          -1.95928,
          -2.95954,
          -2.95954,
          0.707388,
          -0.959712,
          1.04081,
          0.707388,
          1.04081,
          2.29079,
          1.70696,
          0.707388,
          -0.459582,
          0.0405475,
          -0.292872,
          1.04081,
          -1.20943,
          -1.95928,
          -1.29244,
          -0.292872,
          -1.70956,
          -2.62612,
          2.37379,
          -0.959712,
          -0.959712,
          -0.626292,
          4.70704,
          0.0405475,
          2.79022,
          0.373968,
          0.707388,
          -0.959712,
          0.790396,
          1.37423,
          2.37379,
          -1.62586,
          -0.709301,
          -1.29244,
          -1.29244,
          -1.95928,
          -0.959712,
          -1.95928,
          -1.62586,
          -2.2927,
          1.29053,
          3.37405,
          0.0405475,
          3.04063,
          0.0405475,
          0.373968,
          -1.29244,
          -1.29244,
          0.0405475,
          -0.959712,
          -0.626292,
          -0.959712,
          -2.45941,
          -2.62612,
          -1.29244,
          -2.95954,
          -0.959712,
          -1.29244,
          1.37423,
          2.37379,
          8.29027,
          1.70696,
          0.0405475,
          3.37405,
          -1.45915,
          -1.62586,
          2.70721,
          1.37423,
          -0.959712,
          -2.2927,
          -1.29244,
          -3.29296,
          -2.45941,
          -3.62638,
          -2.2927,
          -2.2927,
          1.29053,
          0.707388,
          0.373968,
          3.04063,
          0.0405475,
          -0.626292,
          1.37423,
          1.04081,
          -0.959712,
          -0.292872,
          0.0405475,
          1.70696,
          0.540678,
          16.374,
          24.374,
          24.0405,
          30.7906,
          24.0405,
          22.3741,
          27.7075,
          19.7905,
          19.0406,
          21.0405,
          41.3742,
          40.2903,
          34.0404,
          15.0403,
          2.37379,
          -1.45915,
          2.04037,
          -0.626292,
          -1.29244,
          -2.20969,
          -3.29296,
          -2.2927,
          -2.62612,
          -1.95928,
          -1.95928,
          -0.959712,
          -0.292872,
          1.54025,
          -0.959712,
          6.37414,
          0.373968,
          0.790396,
          4.04089,
          1.70696,
          0.373968,
          -0.209171,
          0.0405475,
          -0.626292,
          -0.292872,
          -0.709301,
          -2.2927,
          0.373968,
          -1.29244,
          -0.709301,
          -0.959712,
          -0.959712,
          -0.626292,
          0.790396,
          2.37379,
          4.37362,
          1.04081,
          2.79022,
          1.04081,
          0.373968,
          -0.292872,
          -0.209171,
          -0.959712,
          -1.29244,
          -3.62638,
          -3.45967,
          -1.29244,
          -2.2927,
          -1.62586,
          -0.209171,
          2.37379,
          5.37388,
          7.04029,
          0.0405475,
          0.707388,
          0.0405475,
          -0.959712,
          -0.959712,
          0.373968,
          -0.626292,
          -1.29244,
          -1.20943,
          -2.95954,
          -2.95954,
          1.37423,
          -0.959712,
          -0.959712,
          3.04063,
          0.707388,
          -0.209171,
          1.70696,
          2.37379,
          1.70696,
          0.540678,
          1.70696,
          2.04037,
          -0.626292,
          0.290267,
          -1.62586,
          -0.959712,
          -0.626292,
          -0.459582,
          -1.29244,
          -2.62612,
          -1.95928,
          -0.709301,
          -0.292872,
          0.0405475,
          2.70721,
          2.04037,
          9.04081,
          1.70696,
          -0.292872,
          6.54085,
          1.04081,
          -1.62586,
          0.707388,
          1.29053,
          -1.29244,
          -0.626292,
          -0.959712,
          -2.62612,
          -0.626292,
          -2.2927,
          -1.45915,
          0.373968,
          1.70696,
          -0.959712,
          2.29079,
          0.373968,
          -1.62586,
          2.04037,
          -0.709301,
          -0.959712,
          0.0405475,
          -1.95928,
          -1.45915,
          -0.626292,
          3.70747,
          -3.62638,
          -0.959712,
          -2.95954,
          -2.62612,
          -0.959712,
          -0.959712,
          1.37423,
          1.37423,
          2.04037,
          2.79022,
          0.707388,
          2.37379,
          -1.29244,
          -0.959712,
          1.37423,
          0.373968,
          1.37423,
          -1.45915,
          -2.2927,
          -0.292872,
          -1.95928,
          -1.20943,
          -2.62612,
          0.0405475,
          -0.292872,
          1.04081,
          4.37362,
          2.37379,
          0.707388,
          -1.20943,
          1.04081,
          1.04081,
          0.707388,
          -0.209171,
          1.70696,
          -2.2927,
          -0.292872,
          -3.45967,
          -1.95928,
          -0.626292,
          -2.62612,
          -0.709301,
          -1.62586,
          3.37405,
          0.373968,
          0.290267,
          8.04055,
          2.04037,
          1.04081,
          0.790396,
          1.70696,
          2.04037,
          1.70696,
          0.540678,
          0.373968,
          -1.62586,
          -1.29244,
          -2.45941,
          -0.959712,
          -0.626292,
          0.373968,
          0.290267,
          -0.292872,
          -0.292872,
          6.37414,
          0.540678,
          -0.626292,
          0.707388,
          0.707388,
          -1.20943,
          0.0405475,
          -1.62586,
          -2.95954,
          -2.45941,
          -2.2927,
          -3.29296,
          -3.29296,
          -1.70956,
          -2.2927,
          -2.2927,
          -1.95928,
          -1.95928,
          2.37379,
          2.04037,
          5.37388,
          0.0405475,
          -0.626292,
          -1.62586,
          -0.626292,
          2.29079,
          -1.62586,
          -0.626292,
          -1.95928,
          -1.45915,
          -1.62586,
          -1.29244,
          -1.62586,
          -1.70956,
          -2.95954,
          -2.2927,
          1.37423,
          4.54033,
          -1.29244,
          3.04063,
          2.04037,
          -0.459582,
          -0.626292,
          1.37423,
          -1.62586,
          -2.45941,
          0.0405475,
          0.0405475,
          -0.626292,
          -2.70913,
          -2.62612,
          -1.95928,
          -2.95954,
          -1.70956,
          3.37405,
          0.0405475,
          1.37423,
          3.54076,
          3.04063,
          -0.959712,
          0.373968,
          1.54025,
          1.70696,
          -1.62586,
          -0.292872,
          0.0405475,
          -0.959712,
          -1.29244,
          -2.62612,
          -1.20943,
          -1.29244,
          -0.959712,
          -2.62612,
          0.0405475,
          -1.62586,
          1.04081,
          2.04037,
          5.04046,
          0.707388,
          0.707388,
          -0.292872,
          -1.95928,
          -0.959712,
          -1.29244,
          -2.2927,
          -0.459582,
          -2.2927,
          -3.62638,
          -3.29296,
          -2.70913,
          1.70696,
          2.04037,
          -0.626292,
          1.54025,
          0.707388,
          6.70756,
          4.04089,
          1.79066,
          0.707388,
          1.04081,
          3.37405,
          0.790396,
          -0.626292,
          -1.29244,
          -2.2927,
          -1.20943,
          0.0405475,
          -2.95954,
          0.0405475,
          -0.209171,
          -2.2927,
          0.373968,
          0.790396,
          -0.626292,
          2.04037,
          -0.626292,
          3.29035,
          -0.959712,
          0.373968,
          -0.959712,
          2.04037,
          0.373968,
          1.04081,
          -1.62586,
          -0.209171,
          -1.95928,
          -2.62612,
          -1.62586,
          -1.95928,
          -1.62586,
          1.37423,
          2.37379,
          2.04037,
          2.70721,
          0.707388,
          -0.292872,
          0.540678,
          -1.62586,
          1.70696,
          -1.62586,
          -1.95928,
          0.0405475,
          -0.959712,
          -1.29244,
          0.290267,
          0.0405475,
          -2.2927,
          -0.292872,
          1.54025,
          -0.626292,
          2.37379,
          0.373968,
          1.79066,
          1.37423,
          0.373968,
          1.70696,
          1.29053,
          -1.29244,
          0.0405475,
          -0.959712,
          -0.959712,
          -1.62586,
          -1.95928,
          -2.95954,
          -1.70956,
          -1.95928,
          -0.292872,
          4.37362,
          3.04063,
          1.37423,
          0.707388,
          0.707388,
          1.79066,
          4.04089,
          -0.959712,
          0.373968,
          1.29053,
          -1.29244,
          -0.959712,
          -0.959712,
          -2.20969,
          -2.2927,
          -2.62612,
          -0.959712,
          -1.70956,
          3.04063,
          1.70696,
          -0.626292,
          1.54025,
          -0.292872,
          1.70696,
          1.37423,
          0.540678,
          0.373968,
          -1.29244,
          1.04081,
          -0.709301,
          -1.62586,
          -3.29296,
          -2.2927,
          -2.45941,
          -2.2927,
          -1.29244,
          1.04081,
          -0.709301,
          1.04081,
          -0.959712,
          0.707388,
          3.79048,
          2.70721,
          0.707388,
          1.37423,
          1.54025,
          0.707388,
          0.0405475,
          -0.959712,
          -2.70913,
          -1.62586,
          -2.62612,
          -2.62612,
          -0.459582,
          -2.95954,
          -0.959712,
          -0.626292,
          2.29079,
          -0.959712,
          -0.626292,
          9.70695,
          -0.459582,
          3.37405,
          0.0405475,
          2.04037,
          1.04081,
          -0.626292,
          -0.292872,
          -2.95954,
          -2.20969,
          -2.62612,
          -2.2927,
          -3.95911,
          -2.70913,
          -1.95928,
          0.0405475,
          -0.959712,
          5.04046,
          4.70704,
          1.37423,
          2.70721,
          0.290267,
          -0.959712,
          -0.292872,
          -1.62586,
          -0.459582,
          -1.95928,
          -2.2927,
          -0.959712,
          -1.95928,
          -2.62612,
          0.707388,
          -2.2927,
          -0.709301,
          -0.292872,
          -0.292872,
          4.04089,
          -0.709301,
          0.373968,
          1.04081,
          2.37379,
          0.790396,
          0.707388,
          -0.959712,
          -1.62586,
          -1.70956,
          -0.626292,
          -2.2927,
          -2.62612,
          -3.45967,
          -1.29244,
          -0.959712,
          -0.626292,
          0.290267,
          5.04046,
          -0.626292,
          2.04037,
          2.29079,
          -2.2927,
          2.70721,
          -1.29244,
          -2.20969,
          0.707388,
          -1.95928,
          -2.95954,
          -2.45941,
          -1.62586,
          -2.2927,
          -1.95928,
          -2.45941,
          -0.959712,
          1.37423,
          -1.62586,
          0.290267,
          0.0405475,
          -0.626292,
          7.70713,
          -0.209171,
          0.373968,
          -0.959712,
          -0.626292,
          -0.709301,
          -0.626292,
          -0.626292,
          -2.20969,
          -1.95928,
          -0.626292,
          -1.62586,
          -2.20969,
          -0.626292,
          0.373968,
          -1.29244,
          3.54076,
          2.04037,
          2.04037,
          1.70696,
          1.54025,
          -0.292872,
          0.0405475,
          1.37423,
          2.79022,
          -1.95928,
          -0.626292,
          -0.959712,
          -1.70956,
          -1.62586,
          -0.959712,
          -1.95928,
          -0.709301,
          1.37423,
          2.37379,
          1.37423,
          0.290267,
          0.373968,
          -0.626292,
          2.04037,
          0.0405475,
          -0.959712,
          -0.626292,
          1.37423,
          -1.45915,
          -0.292872,
          -1.62586,
          -1.95928,
          -1.20943,
          -3.29296,
          -2.62612,
          2.04037,
          0.790396,
          1.04081,
          5.37388,
          0.707388,
          2.04037,
          -1.95928,
          -1.29244,
          -0.292872,
          -0.209171,
          0.0405475,
          -1.95928,
          -1.29244,
          -0.709301,
          -2.2927,
          -1.95928,
          -1.62586,
          -1.95928,
          -0.292872,
          -1.62586,
          1.37423,
          2.04037,
          1.04081,
          0.373968,
          4.04089,
          0.790396,
          -1.95928,
          0.373968,
          -2.2927,
          -0.459582,
          -0.292872,
          -1.29244,
          -0.959712,
          -3.20926,
          -0.959712,
          -2.62612,
          -2.62612,
          -1.45915,
          -0.959712,
          -0.292872,
          0.707388,
          2.29079,
          2.70721,
          -1.62586,
          -0.292872,
          -1.20943,
          0.0405475,
          0.0405475,
          1.04081,
          -1.45915,
          -2.62612,
          -2.62612,
          -0.959712,
          -2.20969,
          0.707388,
          -1.29244,
          -1.62586,
          0.0405475,
          -0.959712,
          1.04081,
          0.373968,
          2.29079,
          0.0405475,
          -0.626292,
          -1.29244,
          -1.45915,
          -0.626292,
          7.04029,
          5.37388,
          0.540678,
          0.373968,
          -1.29244,
          -2.2927,
          -1.45915,
          0.373968,
          1.04081,
          5.37388,
          1.04081,
          6.04072,
          5.04046,
          1.37423,
          3.29035,
          1.70696,
          1.04081,
          3.04063,
          0.790396,
          0.373968,
          -1.29244,
          -0.292872,
          0.540678,
          -0.626292,
          -0.959712,
          0.707388,
          -1.70956,
          -2.2927,
          1.70696,
          2.70721,
          2.04037,
          1.04081,
          -1.62586,
          4.37362,
          1.29053,
          -0.626292,
          -0.959712,
          0.373968,
          -1.20943,
          0.707388,
          -1.95928,
          -0.959712,
          -1.95928,
          0.373968,
          -2.62612,
          -0.959712,
          -0.709301,
          1.70696,
          0.707388,
          4.37362,
          2.04037,
          0.0405475,
          0.707388,
          1.37423,
          0.540678,
          -0.626292,
          0.373968,
          0.707388,
          2.5405,
          0.0405475,
          5.37388,
          -2.2927,
          -0.959712,
          0.373968,
          0.373968,
          -0.292872,
          -1.95928,
          1.70696,
          2.70721,
          -1.95928,
          1.29053,
          4.70704,
          0.707388,
          -0.626292,
          -1.20943,
          0.707388,
          0.373968,
          -1.62586,
          0.290267,
          -2.2927,
          -1.29244,
          -3.29296,
          -1.95928,
          -1.29244,
          3.04063,
          3.04063,
          3.37405,
          1.37423,
          1.70696,
          4.54033,
          1.70696,
          -0.292872,
          1.37423,
          1.54025,
          1.04081,
          -1.95928,
          -1.95928,
          -2.20969,
          -1.29244,
          -3.62638,
          3.70747,
          -1.70956,
          -1.29244,
          0.373968,
          3.37405,
          0.790396,
          2.04037,
          -1.29244,
          0.373968,
          1.54025,
          -0.959712,
          -0.626292,
          1.04081,
          0.540678,
          -1.62586,
          -1.29244,
          -1.29244,
          -2.70913,
          -2.95954,
          -1.29244,
          -0.626292,
          -2.20969,
          1.70696,
          -1.29244,
          -0.292872,
          2.04037,
          4.70704,
          -1.29244,
          1.70696,
          -0.459582,
          0.373968,
          0.0405475,
          -0.959712,
          -1.70956,
          -1.95928,
          -1.62586,
          0.0405475,
          -0.959712,
          -2.95954,
          -0.626292,
          0.0405475,
          1.29053,
          2.37379,
          3.37405,
          2.04037,
          2.29079,
          2.04037,
          -0.959712,
          -0.626292,
          -2.20969,
          1.04081,
          -1.29244,
          -0.959712,
          -0.459582,
          -1.62586,
          -2.95954,
          -2.2927,
          -2.20969,
          -0.959712,
          1.04081,
          0.0405475,
          4.54033,
          0.0405475,
          0.707388,
          0.0405475,
          2.5405,
          -0.959712,
          -0.959712,
          0.707388,
          0.540678,
          -1.95928,
          -0.959712,
          -1.29244,
          0.0405475,
          -2.2927,
          0.707388,
          -1.29244,
          0.290267,
          0.373968,
          0.0405475,
          8.04055,
          -0.209171,
          2.70721,
          -0.292872,
          4.04089,
          1.29053,
          -2.2927,
          0.0405475,
          -1.62586,
          0.790396,
          -1.95928,
          -1.95928,
          -2.62612,
          -3.20926,
          -2.62612,
          -3.95911,
          -1.95928,
          3.04063,
          2.37379,
          -0.292872,
          3.04063,
          -1.20943,
          0.0405475,
          0.0405475,
          0.0405475
         ]
        },
        {
         "marker": {
          "color": "red",
          "size": 8,
          "symbol": "cross"
         },
         "mode": "markers",
         "name": "Detected Peaks",
         "type": "scatter",
         "x": [
          22,
          117,
          211,
          343,
          531,
          548,
          565,
          606,
          717,
          908,
          962
         ],
         "y": [
          1.70696,
          2.29079,
          41.3742,
          2.79022,
          2.70721,
          2.37379,
          4.37362,
          3.79048,
          3.54076,
          4.54033,
          3.37405
         ]
        }
       ],
       "layout": {
        "template": {
         "data": {
          "bar": [
           {
            "error_x": {
             "color": "#2a3f5f"
            },
            "error_y": {
             "color": "#2a3f5f"
            },
            "marker": {
             "line": {
              "color": "#E5ECF6",
              "width": 0.5
             }
            },
            "type": "bar"
           }
          ],
          "barpolar": [
           {
            "marker": {
             "line": {
              "color": "#E5ECF6",
              "width": 0.5
             }
            },
            "type": "barpolar"
           }
          ],
          "carpet": [
           {
            "aaxis": {
             "endlinecolor": "#2a3f5f",
             "gridcolor": "white",
             "linecolor": "white",
             "minorgridcolor": "white",
             "startlinecolor": "#2a3f5f"
            },
            "baxis": {
             "endlinecolor": "#2a3f5f",
             "gridcolor": "white",
             "linecolor": "white",
             "minorgridcolor": "white",
             "startlinecolor": "#2a3f5f"
            },
            "type": "carpet"
           }
          ],
          "choropleth": [
           {
            "colorbar": {
             "outlinewidth": 0,
             "ticks": ""
            },
            "type": "choropleth"
           }
          ],
          "contour": [
           {
            "colorbar": {
             "outlinewidth": 0,
             "ticks": ""
            },
            "colorscale": [
             [
              0,
              "#0d0887"
             ],
             [
              0.1111111111111111,
              "#46039f"
             ],
             [
              0.2222222222222222,
              "#7201a8"
             ],
             [
              0.3333333333333333,
              "#9c179e"
             ],
             [
              0.4444444444444444,
              "#bd3786"
             ],
             [
              0.5555555555555556,
              "#d8576b"
             ],
             [
              0.6666666666666666,
              "#ed7953"
             ],
             [
              0.7777777777777778,
              "#fb9f3a"
             ],
             [
              0.8888888888888888,
              "#fdca26"
             ],
             [
              1,
              "#f0f921"
             ]
            ],
            "type": "contour"
           }
          ],
          "contourcarpet": [
           {
            "colorbar": {
             "outlinewidth": 0,
             "ticks": ""
            },
            "type": "contourcarpet"
           }
          ],
          "heatmap": [
           {
            "colorbar": {
             "outlinewidth": 0,
             "ticks": ""
            },
            "colorscale": [
             [
              0,
              "#0d0887"
             ],
             [
              0.1111111111111111,
              "#46039f"
             ],
             [
              0.2222222222222222,
              "#7201a8"
             ],
             [
              0.3333333333333333,
              "#9c179e"
             ],
             [
              0.4444444444444444,
              "#bd3786"
             ],
             [
              0.5555555555555556,
              "#d8576b"
             ],
             [
              0.6666666666666666,
              "#ed7953"
             ],
             [
              0.7777777777777778,
              "#fb9f3a"
             ],
             [
              0.8888888888888888,
              "#fdca26"
             ],
             [
              1,
              "#f0f921"
             ]
            ],
            "type": "heatmap"
           }
          ],
          "heatmapgl": [
           {
            "colorbar": {
             "outlinewidth": 0,
             "ticks": ""
            },
            "colorscale": [
             [
              0,
              "#0d0887"
             ],
             [
              0.1111111111111111,
              "#46039f"
             ],
             [
              0.2222222222222222,
              "#7201a8"
             ],
             [
              0.3333333333333333,
              "#9c179e"
             ],
             [
              0.4444444444444444,
              "#bd3786"
             ],
             [
              0.5555555555555556,
              "#d8576b"
             ],
             [
              0.6666666666666666,
              "#ed7953"
             ],
             [
              0.7777777777777778,
              "#fb9f3a"
             ],
             [
              0.8888888888888888,
              "#fdca26"
             ],
             [
              1,
              "#f0f921"
             ]
            ],
            "type": "heatmapgl"
           }
          ],
          "histogram": [
           {
            "marker": {
             "colorbar": {
              "outlinewidth": 0,
              "ticks": ""
             }
            },
            "type": "histogram"
           }
          ],
          "histogram2d": [
           {
            "colorbar": {
             "outlinewidth": 0,
             "ticks": ""
            },
            "colorscale": [
             [
              0,
              "#0d0887"
             ],
             [
              0.1111111111111111,
              "#46039f"
             ],
             [
              0.2222222222222222,
              "#7201a8"
             ],
             [
              0.3333333333333333,
              "#9c179e"
             ],
             [
              0.4444444444444444,
              "#bd3786"
             ],
             [
              0.5555555555555556,
              "#d8576b"
             ],
             [
              0.6666666666666666,
              "#ed7953"
             ],
             [
              0.7777777777777778,
              "#fb9f3a"
             ],
             [
              0.8888888888888888,
              "#fdca26"
             ],
             [
              1,
              "#f0f921"
             ]
            ],
            "type": "histogram2d"
           }
          ],
          "histogram2dcontour": [
           {
            "colorbar": {
             "outlinewidth": 0,
             "ticks": ""
            },
            "colorscale": [
             [
              0,
              "#0d0887"
             ],
             [
              0.1111111111111111,
              "#46039f"
             ],
             [
              0.2222222222222222,
              "#7201a8"
             ],
             [
              0.3333333333333333,
              "#9c179e"
             ],
             [
              0.4444444444444444,
              "#bd3786"
             ],
             [
              0.5555555555555556,
              "#d8576b"
             ],
             [
              0.6666666666666666,
              "#ed7953"
             ],
             [
              0.7777777777777778,
              "#fb9f3a"
             ],
             [
              0.8888888888888888,
              "#fdca26"
             ],
             [
              1,
              "#f0f921"
             ]
            ],
            "type": "histogram2dcontour"
           }
          ],
          "mesh3d": [
           {
            "colorbar": {
             "outlinewidth": 0,
             "ticks": ""
            },
            "type": "mesh3d"
           }
          ],
          "parcoords": [
           {
            "line": {
             "colorbar": {
              "outlinewidth": 0,
              "ticks": ""
             }
            },
            "type": "parcoords"
           }
          ],
          "pie": [
           {
            "automargin": true,
            "type": "pie"
           }
          ],
          "scatter": [
           {
            "marker": {
             "colorbar": {
              "outlinewidth": 0,
              "ticks": ""
             }
            },
            "type": "scatter"
           }
          ],
          "scatter3d": [
           {
            "line": {
             "colorbar": {
              "outlinewidth": 0,
              "ticks": ""
             }
            },
            "marker": {
             "colorbar": {
              "outlinewidth": 0,
              "ticks": ""
             }
            },
            "type": "scatter3d"
           }
          ],
          "scattercarpet": [
           {
            "marker": {
             "colorbar": {
              "outlinewidth": 0,
              "ticks": ""
             }
            },
            "type": "scattercarpet"
           }
          ],
          "scattergeo": [
           {
            "marker": {
             "colorbar": {
              "outlinewidth": 0,
              "ticks": ""
             }
            },
            "type": "scattergeo"
           }
          ],
          "scattergl": [
           {
            "marker": {
             "colorbar": {
              "outlinewidth": 0,
              "ticks": ""
             }
            },
            "type": "scattergl"
           }
          ],
          "scattermapbox": [
           {
            "marker": {
             "colorbar": {
              "outlinewidth": 0,
              "ticks": ""
             }
            },
            "type": "scattermapbox"
           }
          ],
          "scatterpolar": [
           {
            "marker": {
             "colorbar": {
              "outlinewidth": 0,
              "ticks": ""
             }
            },
            "type": "scatterpolar"
           }
          ],
          "scatterpolargl": [
           {
            "marker": {
             "colorbar": {
              "outlinewidth": 0,
              "ticks": ""
             }
            },
            "type": "scatterpolargl"
           }
          ],
          "scatterternary": [
           {
            "marker": {
             "colorbar": {
              "outlinewidth": 0,
              "ticks": ""
             }
            },
            "type": "scatterternary"
           }
          ],
          "surface": [
           {
            "colorbar": {
             "outlinewidth": 0,
             "ticks": ""
            },
            "colorscale": [
             [
              0,
              "#0d0887"
             ],
             [
              0.1111111111111111,
              "#46039f"
             ],
             [
              0.2222222222222222,
              "#7201a8"
             ],
             [
              0.3333333333333333,
              "#9c179e"
             ],
             [
              0.4444444444444444,
              "#bd3786"
             ],
             [
              0.5555555555555556,
              "#d8576b"
             ],
             [
              0.6666666666666666,
              "#ed7953"
             ],
             [
              0.7777777777777778,
              "#fb9f3a"
             ],
             [
              0.8888888888888888,
              "#fdca26"
             ],
             [
              1,
              "#f0f921"
             ]
            ],
            "type": "surface"
           }
          ],
          "table": [
           {
            "cells": {
             "fill": {
              "color": "#EBF0F8"
             },
             "line": {
              "color": "white"
             }
            },
            "header": {
             "fill": {
              "color": "#C8D4E3"
             },
             "line": {
              "color": "white"
             }
            },
            "type": "table"
           }
          ]
         },
         "layout": {
          "annotationdefaults": {
           "arrowcolor": "#2a3f5f",
           "arrowhead": 0,
           "arrowwidth": 1
          },
          "coloraxis": {
           "colorbar": {
            "outlinewidth": 0,
            "ticks": ""
           }
          },
          "colorscale": {
           "diverging": [
            [
             0,
             "#8e0152"
            ],
            [
             0.1,
             "#c51b7d"
            ],
            [
             0.2,
             "#de77ae"
            ],
            [
             0.3,
             "#f1b6da"
            ],
            [
             0.4,
             "#fde0ef"
            ],
            [
             0.5,
             "#f7f7f7"
            ],
            [
             0.6,
             "#e6f5d0"
            ],
            [
             0.7,
             "#b8e186"
            ],
            [
             0.8,
             "#7fbc41"
            ],
            [
             0.9,
             "#4d9221"
            ],
            [
             1,
             "#276419"
            ]
           ],
           "sequential": [
            [
             0,
             "#0d0887"
            ],
            [
             0.1111111111111111,
             "#46039f"
            ],
            [
             0.2222222222222222,
             "#7201a8"
            ],
            [
             0.3333333333333333,
             "#9c179e"
            ],
            [
             0.4444444444444444,
             "#bd3786"
            ],
            [
             0.5555555555555556,
             "#d8576b"
            ],
            [
             0.6666666666666666,
             "#ed7953"
            ],
            [
             0.7777777777777778,
             "#fb9f3a"
            ],
            [
             0.8888888888888888,
             "#fdca26"
            ],
            [
             1,
             "#f0f921"
            ]
           ],
           "sequentialminus": [
            [
             0,
             "#0d0887"
            ],
            [
             0.1111111111111111,
             "#46039f"
            ],
            [
             0.2222222222222222,
             "#7201a8"
            ],
            [
             0.3333333333333333,
             "#9c179e"
            ],
            [
             0.4444444444444444,
             "#bd3786"
            ],
            [
             0.5555555555555556,
             "#d8576b"
            ],
            [
             0.6666666666666666,
             "#ed7953"
            ],
            [
             0.7777777777777778,
             "#fb9f3a"
            ],
            [
             0.8888888888888888,
             "#fdca26"
            ],
            [
             1,
             "#f0f921"
            ]
           ]
          },
          "colorway": [
           "#636efa",
           "#EF553B",
           "#00cc96",
           "#ab63fa",
           "#FFA15A",
           "#19d3f3",
           "#FF6692",
           "#B6E880",
           "#FF97FF",
           "#FECB52"
          ],
          "font": {
           "color": "#2a3f5f"
          },
          "geo": {
           "bgcolor": "white",
           "lakecolor": "white",
           "landcolor": "#E5ECF6",
           "showlakes": true,
           "showland": true,
           "subunitcolor": "white"
          },
          "hoverlabel": {
           "align": "left"
          },
          "hovermode": "closest",
          "mapbox": {
           "style": "light"
          },
          "paper_bgcolor": "white",
          "plot_bgcolor": "#E5ECF6",
          "polar": {
           "angularaxis": {
            "gridcolor": "white",
            "linecolor": "white",
            "ticks": ""
           },
           "bgcolor": "#E5ECF6",
           "radialaxis": {
            "gridcolor": "white",
            "linecolor": "white",
            "ticks": ""
           }
          },
          "scene": {
           "xaxis": {
            "backgroundcolor": "#E5ECF6",
            "gridcolor": "white",
            "gridwidth": 2,
            "linecolor": "white",
            "showbackground": true,
            "ticks": "",
            "zerolinecolor": "white"
           },
           "yaxis": {
            "backgroundcolor": "#E5ECF6",
            "gridcolor": "white",
            "gridwidth": 2,
            "linecolor": "white",
            "showbackground": true,
            "ticks": "",
            "zerolinecolor": "white"
           },
           "zaxis": {
            "backgroundcolor": "#E5ECF6",
            "gridcolor": "white",
            "gridwidth": 2,
            "linecolor": "white",
            "showbackground": true,
            "ticks": "",
            "zerolinecolor": "white"
           }
          },
          "shapedefaults": {
           "line": {
            "color": "#2a3f5f"
           }
          },
          "ternary": {
           "aaxis": {
            "gridcolor": "white",
            "linecolor": "white",
            "ticks": ""
           },
           "baxis": {
            "gridcolor": "white",
            "linecolor": "white",
            "ticks": ""
           },
           "bgcolor": "#E5ECF6",
           "caxis": {
            "gridcolor": "white",
            "linecolor": "white",
            "ticks": ""
           }
          },
          "title": {
           "x": 0.05
          },
          "xaxis": {
           "automargin": true,
           "gridcolor": "white",
           "linecolor": "white",
           "ticks": "",
           "title": {
            "standoff": 15
           },
           "zerolinecolor": "white",
           "zerolinewidth": 2
          },
          "yaxis": {
           "automargin": true,
           "gridcolor": "white",
           "linecolor": "white",
           "ticks": "",
           "title": {
            "standoff": 15
           },
           "zerolinecolor": "white",
           "zerolinewidth": 2
          }
         }
        }
       }
      },
      "text/html": [
       "<div>\n",
       "        \n",
       "        \n",
       "            <div id=\"f4952766-3460-4e6c-acbc-52b10e824fe8\" class=\"plotly-graph-div\" style=\"height:525px; width:100%;\"></div>\n",
       "            <script type=\"text/javascript\">\n",
       "                require([\"plotly\"], function(Plotly) {\n",
       "                    window.PLOTLYENV=window.PLOTLYENV || {};\n",
       "                    \n",
       "                if (document.getElementById(\"f4952766-3460-4e6c-acbc-52b10e824fe8\")) {\n",
       "                    Plotly.newPlot(\n",
       "                        'f4952766-3460-4e6c-acbc-52b10e824fe8',\n",
       "                        [{\"mode\": \"lines+markers\", \"name\": \"Original Plot\", \"type\": \"scatter\", \"y\": [-0.626292, 0.290267, 0.373968, 0.0405475, 5.37388, 2.29079, 1.70696, -0.292872, -1.62586, 1.04081, 0.373968, -0.626292, -3.62638, -0.709301, -2.2927, -1.62586, -2.2927, -2.20969, -1.29244, -1.62586, -0.292872, 0.790396, 1.70696, 0.0405475, 1.04081, 0.540678, 0.0405475, -1.95928, -2.2927, 0.0405475, -0.959712, 1.37423, -1.62586, -2.70913, -0.626292, -2.2927, -1.29244, -1.95928, -0.959712, -0.626292, 1.37423, 1.29053, 6.04072, 2.04037, 0.0405475, 2.5405, 0.0405475, 0.373968, -0.292872, -0.209171, 0.0405475, -2.62612, -2.62612, -2.45941, 0.0405475, 0.0405475, 0.373968, -0.209171, -0.292872, 0.0405475, 1.37423, 0.290267, 1.04081, 0.707388, 3.70747, -0.459582, 0.0405475, -1.29244, -0.959712, -0.959712, -2.2927, -1.29244, -2.2927, -1.45915, -0.626292, -0.626292, 4.37362, 2.79022, 0.707388, 1.37423, 3.04063, 3.79048, 2.04037, 0.373968, -0.626292, -0.959712, 0.0405475, -0.292872, -1.29244, -0.959712, -1.95928, -0.626292, -0.626292, 2.04037, -0.292872, -0.959712, 0.707388, 1.04081, 6.70756, -0.626292, 6.04072, 0.290267, -0.292872, -1.29244, 1.04081, 0.540678, -1.62586, 0.707388, -2.95954, -1.95928, -2.95954, -2.95954, 0.707388, -0.959712, 1.04081, 0.707388, 1.04081, 2.29079, 1.70696, 0.707388, -0.459582, 0.0405475, -0.292872, 1.04081, -1.20943, -1.95928, -1.29244, -0.292872, -1.70956, -2.62612, 2.37379, -0.959712, -0.959712, -0.626292, 4.70704, 0.0405475, 2.79022, 0.373968, 0.707388, -0.959712, 0.790396, 1.37423, 2.37379, -1.62586, -0.709301, -1.29244, -1.29244, -1.95928, -0.959712, -1.95928, -1.62586, -2.2927, 1.29053, 3.37405, 0.0405475, 3.04063, 0.0405475, 0.373968, -1.29244, -1.29244, 0.0405475, -0.959712, -0.626292, -0.959712, -2.45941, -2.62612, -1.29244, -2.95954, -0.959712, -1.29244, 1.37423, 2.37379, 8.29027, 1.70696, 0.0405475, 3.37405, -1.45915, -1.62586, 2.70721, 1.37423, -0.959712, -2.2927, -1.29244, -3.29296, -2.45941, -3.62638, -2.2927, -2.2927, 1.29053, 0.707388, 0.373968, 3.04063, 0.0405475, -0.626292, 1.37423, 1.04081, -0.959712, -0.292872, 0.0405475, 1.70696, 0.540678, 16.374, 24.374, 24.0405, 30.7906, 24.0405, 22.3741, 27.7075, 19.7905, 19.0406, 21.0405, 41.3742, 40.2903, 34.0404, 15.0403, 2.37379, -1.45915, 2.04037, -0.626292, -1.29244, -2.20969, -3.29296, -2.2927, -2.62612, -1.95928, -1.95928, -0.959712, -0.292872, 1.54025, -0.959712, 6.37414, 0.373968, 0.790396, 4.04089, 1.70696, 0.373968, -0.209171, 0.0405475, -0.626292, -0.292872, -0.709301, -2.2927, 0.373968, -1.29244, -0.709301, -0.959712, -0.959712, -0.626292, 0.790396, 2.37379, 4.37362, 1.04081, 2.79022, 1.04081, 0.373968, -0.292872, -0.209171, -0.959712, -1.29244, -3.62638, -3.45967, -1.29244, -2.2927, -1.62586, -0.209171, 2.37379, 5.37388, 7.04029, 0.0405475, 0.707388, 0.0405475, -0.959712, -0.959712, 0.373968, -0.626292, -1.29244, -1.20943, -2.95954, -2.95954, 1.37423, -0.959712, -0.959712, 3.04063, 0.707388, -0.209171, 1.70696, 2.37379, 1.70696, 0.540678, 1.70696, 2.04037, -0.626292, 0.290267, -1.62586, -0.959712, -0.626292, -0.459582, -1.29244, -2.62612, -1.95928, -0.709301, -0.292872, 0.0405475, 2.70721, 2.04037, 9.04081, 1.70696, -0.292872, 6.54085, 1.04081, -1.62586, 0.707388, 1.29053, -1.29244, -0.626292, -0.959712, -2.62612, -0.626292, -2.2927, -1.45915, 0.373968, 1.70696, -0.959712, 2.29079, 0.373968, -1.62586, 2.04037, -0.709301, -0.959712, 0.0405475, -1.95928, -1.45915, -0.626292, 3.70747, -3.62638, -0.959712, -2.95954, -2.62612, -0.959712, -0.959712, 1.37423, 1.37423, 2.04037, 2.79022, 0.707388, 2.37379, -1.29244, -0.959712, 1.37423, 0.373968, 1.37423, -1.45915, -2.2927, -0.292872, -1.95928, -1.20943, -2.62612, 0.0405475, -0.292872, 1.04081, 4.37362, 2.37379, 0.707388, -1.20943, 1.04081, 1.04081, 0.707388, -0.209171, 1.70696, -2.2927, -0.292872, -3.45967, -1.95928, -0.626292, -2.62612, -0.709301, -1.62586, 3.37405, 0.373968, 0.290267, 8.04055, 2.04037, 1.04081, 0.790396, 1.70696, 2.04037, 1.70696, 0.540678, 0.373968, -1.62586, -1.29244, -2.45941, -0.959712, -0.626292, 0.373968, 0.290267, -0.292872, -0.292872, 6.37414, 0.540678, -0.626292, 0.707388, 0.707388, -1.20943, 0.0405475, -1.62586, -2.95954, -2.45941, -2.2927, -3.29296, -3.29296, -1.70956, -2.2927, -2.2927, -1.95928, -1.95928, 2.37379, 2.04037, 5.37388, 0.0405475, -0.626292, -1.62586, -0.626292, 2.29079, -1.62586, -0.626292, -1.95928, -1.45915, -1.62586, -1.29244, -1.62586, -1.70956, -2.95954, -2.2927, 1.37423, 4.54033, -1.29244, 3.04063, 2.04037, -0.459582, -0.626292, 1.37423, -1.62586, -2.45941, 0.0405475, 0.0405475, -0.626292, -2.70913, -2.62612, -1.95928, -2.95954, -1.70956, 3.37405, 0.0405475, 1.37423, 3.54076, 3.04063, -0.959712, 0.373968, 1.54025, 1.70696, -1.62586, -0.292872, 0.0405475, -0.959712, -1.29244, -2.62612, -1.20943, -1.29244, -0.959712, -2.62612, 0.0405475, -1.62586, 1.04081, 2.04037, 5.04046, 0.707388, 0.707388, -0.292872, -1.95928, -0.959712, -1.29244, -2.2927, -0.459582, -2.2927, -3.62638, -3.29296, -2.70913, 1.70696, 2.04037, -0.626292, 1.54025, 0.707388, 6.70756, 4.04089, 1.79066, 0.707388, 1.04081, 3.37405, 0.790396, -0.626292, -1.29244, -2.2927, -1.20943, 0.0405475, -2.95954, 0.0405475, -0.209171, -2.2927, 0.373968, 0.790396, -0.626292, 2.04037, -0.626292, 3.29035, -0.959712, 0.373968, -0.959712, 2.04037, 0.373968, 1.04081, -1.62586, -0.209171, -1.95928, -2.62612, -1.62586, -1.95928, -1.62586, 1.37423, 2.37379, 2.04037, 2.70721, 0.707388, -0.292872, 0.540678, -1.62586, 1.70696, -1.62586, -1.95928, 0.0405475, -0.959712, -1.29244, 0.290267, 0.0405475, -2.2927, -0.292872, 1.54025, -0.626292, 2.37379, 0.373968, 1.79066, 1.37423, 0.373968, 1.70696, 1.29053, -1.29244, 0.0405475, -0.959712, -0.959712, -1.62586, -1.95928, -2.95954, -1.70956, -1.95928, -0.292872, 4.37362, 3.04063, 1.37423, 0.707388, 0.707388, 1.79066, 4.04089, -0.959712, 0.373968, 1.29053, -1.29244, -0.959712, -0.959712, -2.20969, -2.2927, -2.62612, -0.959712, -1.70956, 3.04063, 1.70696, -0.626292, 1.54025, -0.292872, 1.70696, 1.37423, 0.540678, 0.373968, -1.29244, 1.04081, -0.709301, -1.62586, -3.29296, -2.2927, -2.45941, -2.2927, -1.29244, 1.04081, -0.709301, 1.04081, -0.959712, 0.707388, 3.79048, 2.70721, 0.707388, 1.37423, 1.54025, 0.707388, 0.0405475, -0.959712, -2.70913, -1.62586, -2.62612, -2.62612, -0.459582, -2.95954, -0.959712, -0.626292, 2.29079, -0.959712, -0.626292, 9.70695, -0.459582, 3.37405, 0.0405475, 2.04037, 1.04081, -0.626292, -0.292872, -2.95954, -2.20969, -2.62612, -2.2927, -3.95911, -2.70913, -1.95928, 0.0405475, -0.959712, 5.04046, 4.70704, 1.37423, 2.70721, 0.290267, -0.959712, -0.292872, -1.62586, -0.459582, -1.95928, -2.2927, -0.959712, -1.95928, -2.62612, 0.707388, -2.2927, -0.709301, -0.292872, -0.292872, 4.04089, -0.709301, 0.373968, 1.04081, 2.37379, 0.790396, 0.707388, -0.959712, -1.62586, -1.70956, -0.626292, -2.2927, -2.62612, -3.45967, -1.29244, -0.959712, -0.626292, 0.290267, 5.04046, -0.626292, 2.04037, 2.29079, -2.2927, 2.70721, -1.29244, -2.20969, 0.707388, -1.95928, -2.95954, -2.45941, -1.62586, -2.2927, -1.95928, -2.45941, -0.959712, 1.37423, -1.62586, 0.290267, 0.0405475, -0.626292, 7.70713, -0.209171, 0.373968, -0.959712, -0.626292, -0.709301, -0.626292, -0.626292, -2.20969, -1.95928, -0.626292, -1.62586, -2.20969, -0.626292, 0.373968, -1.29244, 3.54076, 2.04037, 2.04037, 1.70696, 1.54025, -0.292872, 0.0405475, 1.37423, 2.79022, -1.95928, -0.626292, -0.959712, -1.70956, -1.62586, -0.959712, -1.95928, -0.709301, 1.37423, 2.37379, 1.37423, 0.290267, 0.373968, -0.626292, 2.04037, 0.0405475, -0.959712, -0.626292, 1.37423, -1.45915, -0.292872, -1.62586, -1.95928, -1.20943, -3.29296, -2.62612, 2.04037, 0.790396, 1.04081, 5.37388, 0.707388, 2.04037, -1.95928, -1.29244, -0.292872, -0.209171, 0.0405475, -1.95928, -1.29244, -0.709301, -2.2927, -1.95928, -1.62586, -1.95928, -0.292872, -1.62586, 1.37423, 2.04037, 1.04081, 0.373968, 4.04089, 0.790396, -1.95928, 0.373968, -2.2927, -0.459582, -0.292872, -1.29244, -0.959712, -3.20926, -0.959712, -2.62612, -2.62612, -1.45915, -0.959712, -0.292872, 0.707388, 2.29079, 2.70721, -1.62586, -0.292872, -1.20943, 0.0405475, 0.0405475, 1.04081, -1.45915, -2.62612, -2.62612, -0.959712, -2.20969, 0.707388, -1.29244, -1.62586, 0.0405475, -0.959712, 1.04081, 0.373968, 2.29079, 0.0405475, -0.626292, -1.29244, -1.45915, -0.626292, 7.04029, 5.37388, 0.540678, 0.373968, -1.29244, -2.2927, -1.45915, 0.373968, 1.04081, 5.37388, 1.04081, 6.04072, 5.04046, 1.37423, 3.29035, 1.70696, 1.04081, 3.04063, 0.790396, 0.373968, -1.29244, -0.292872, 0.540678, -0.626292, -0.959712, 0.707388, -1.70956, -2.2927, 1.70696, 2.70721, 2.04037, 1.04081, -1.62586, 4.37362, 1.29053, -0.626292, -0.959712, 0.373968, -1.20943, 0.707388, -1.95928, -0.959712, -1.95928, 0.373968, -2.62612, -0.959712, -0.709301, 1.70696, 0.707388, 4.37362, 2.04037, 0.0405475, 0.707388, 1.37423, 0.540678, -0.626292, 0.373968, 0.707388, 2.5405, 0.0405475, 5.37388, -2.2927, -0.959712, 0.373968, 0.373968, -0.292872, -1.95928, 1.70696, 2.70721, -1.95928, 1.29053, 4.70704, 0.707388, -0.626292, -1.20943, 0.707388, 0.373968, -1.62586, 0.290267, -2.2927, -1.29244, -3.29296, -1.95928, -1.29244, 3.04063, 3.04063, 3.37405, 1.37423, 1.70696, 4.54033, 1.70696, -0.292872, 1.37423, 1.54025, 1.04081, -1.95928, -1.95928, -2.20969, -1.29244, -3.62638, 3.70747, -1.70956, -1.29244, 0.373968, 3.37405, 0.790396, 2.04037, -1.29244, 0.373968, 1.54025, -0.959712, -0.626292, 1.04081, 0.540678, -1.62586, -1.29244, -1.29244, -2.70913, -2.95954, -1.29244, -0.626292, -2.20969, 1.70696, -1.29244, -0.292872, 2.04037, 4.70704, -1.29244, 1.70696, -0.459582, 0.373968, 0.0405475, -0.959712, -1.70956, -1.95928, -1.62586, 0.0405475, -0.959712, -2.95954, -0.626292, 0.0405475, 1.29053, 2.37379, 3.37405, 2.04037, 2.29079, 2.04037, -0.959712, -0.626292, -2.20969, 1.04081, -1.29244, -0.959712, -0.459582, -1.62586, -2.95954, -2.2927, -2.20969, -0.959712, 1.04081, 0.0405475, 4.54033, 0.0405475, 0.707388, 0.0405475, 2.5405, -0.959712, -0.959712, 0.707388, 0.540678, -1.95928, -0.959712, -1.29244, 0.0405475, -2.2927, 0.707388, -1.29244, 0.290267, 0.373968, 0.0405475, 8.04055, -0.209171, 2.70721, -0.292872, 4.04089, 1.29053, -2.2927, 0.0405475, -1.62586, 0.790396, -1.95928, -1.95928, -2.62612, -3.20926, -2.62612, -3.95911, -1.95928, 3.04063, 2.37379, -0.292872, 3.04063, -1.20943, 0.0405475, 0.0405475, 0.0405475]}, {\"marker\": {\"color\": \"red\", \"size\": 8, \"symbol\": \"cross\"}, \"mode\": \"markers\", \"name\": \"Detected Peaks\", \"type\": \"scatter\", \"x\": [22, 117, 211, 343, 531, 548, 565, 606, 717, 908, 962], \"y\": [1.70696, 2.29079, 41.3742, 2.79022, 2.70721, 2.37379, 4.37362, 3.79048, 3.54076, 4.54033, 3.37405]}],\n",
       "                        {\"template\": {\"data\": {\"bar\": [{\"error_x\": {\"color\": \"#2a3f5f\"}, \"error_y\": {\"color\": \"#2a3f5f\"}, \"marker\": {\"line\": {\"color\": \"#E5ECF6\", \"width\": 0.5}}, \"type\": \"bar\"}], \"barpolar\": [{\"marker\": {\"line\": {\"color\": \"#E5ECF6\", \"width\": 0.5}}, \"type\": \"barpolar\"}], \"carpet\": [{\"aaxis\": {\"endlinecolor\": \"#2a3f5f\", \"gridcolor\": \"white\", \"linecolor\": \"white\", \"minorgridcolor\": \"white\", \"startlinecolor\": \"#2a3f5f\"}, \"baxis\": {\"endlinecolor\": \"#2a3f5f\", \"gridcolor\": \"white\", \"linecolor\": \"white\", \"minorgridcolor\": \"white\", \"startlinecolor\": \"#2a3f5f\"}, \"type\": \"carpet\"}], \"choropleth\": [{\"colorbar\": {\"outlinewidth\": 0, \"ticks\": \"\"}, \"type\": \"choropleth\"}], \"contour\": [{\"colorbar\": {\"outlinewidth\": 0, \"ticks\": \"\"}, \"colorscale\": [[0.0, \"#0d0887\"], [0.1111111111111111, \"#46039f\"], [0.2222222222222222, \"#7201a8\"], [0.3333333333333333, \"#9c179e\"], [0.4444444444444444, \"#bd3786\"], [0.5555555555555556, \"#d8576b\"], [0.6666666666666666, \"#ed7953\"], [0.7777777777777778, \"#fb9f3a\"], [0.8888888888888888, \"#fdca26\"], [1.0, \"#f0f921\"]], \"type\": \"contour\"}], \"contourcarpet\": [{\"colorbar\": {\"outlinewidth\": 0, \"ticks\": \"\"}, \"type\": \"contourcarpet\"}], \"heatmap\": [{\"colorbar\": {\"outlinewidth\": 0, \"ticks\": \"\"}, \"colorscale\": [[0.0, \"#0d0887\"], [0.1111111111111111, \"#46039f\"], [0.2222222222222222, \"#7201a8\"], [0.3333333333333333, \"#9c179e\"], [0.4444444444444444, \"#bd3786\"], [0.5555555555555556, \"#d8576b\"], [0.6666666666666666, \"#ed7953\"], [0.7777777777777778, \"#fb9f3a\"], [0.8888888888888888, \"#fdca26\"], [1.0, \"#f0f921\"]], \"type\": \"heatmap\"}], \"heatmapgl\": [{\"colorbar\": {\"outlinewidth\": 0, \"ticks\": \"\"}, \"colorscale\": [[0.0, \"#0d0887\"], [0.1111111111111111, \"#46039f\"], [0.2222222222222222, \"#7201a8\"], [0.3333333333333333, \"#9c179e\"], [0.4444444444444444, \"#bd3786\"], [0.5555555555555556, \"#d8576b\"], [0.6666666666666666, \"#ed7953\"], [0.7777777777777778, \"#fb9f3a\"], [0.8888888888888888, \"#fdca26\"], [1.0, \"#f0f921\"]], \"type\": \"heatmapgl\"}], \"histogram\": [{\"marker\": {\"colorbar\": {\"outlinewidth\": 0, \"ticks\": \"\"}}, \"type\": \"histogram\"}], \"histogram2d\": [{\"colorbar\": {\"outlinewidth\": 0, \"ticks\": \"\"}, \"colorscale\": [[0.0, \"#0d0887\"], [0.1111111111111111, \"#46039f\"], [0.2222222222222222, \"#7201a8\"], [0.3333333333333333, \"#9c179e\"], [0.4444444444444444, \"#bd3786\"], [0.5555555555555556, \"#d8576b\"], [0.6666666666666666, \"#ed7953\"], [0.7777777777777778, \"#fb9f3a\"], [0.8888888888888888, \"#fdca26\"], [1.0, \"#f0f921\"]], \"type\": \"histogram2d\"}], \"histogram2dcontour\": [{\"colorbar\": {\"outlinewidth\": 0, \"ticks\": \"\"}, \"colorscale\": [[0.0, \"#0d0887\"], [0.1111111111111111, \"#46039f\"], [0.2222222222222222, \"#7201a8\"], [0.3333333333333333, \"#9c179e\"], [0.4444444444444444, \"#bd3786\"], [0.5555555555555556, \"#d8576b\"], [0.6666666666666666, \"#ed7953\"], [0.7777777777777778, \"#fb9f3a\"], [0.8888888888888888, \"#fdca26\"], [1.0, \"#f0f921\"]], \"type\": \"histogram2dcontour\"}], \"mesh3d\": [{\"colorbar\": {\"outlinewidth\": 0, \"ticks\": \"\"}, \"type\": \"mesh3d\"}], \"parcoords\": [{\"line\": {\"colorbar\": {\"outlinewidth\": 0, \"ticks\": \"\"}}, \"type\": \"parcoords\"}], \"pie\": [{\"automargin\": true, \"type\": \"pie\"}], \"scatter\": [{\"marker\": {\"colorbar\": {\"outlinewidth\": 0, \"ticks\": \"\"}}, \"type\": \"scatter\"}], \"scatter3d\": [{\"line\": {\"colorbar\": {\"outlinewidth\": 0, \"ticks\": \"\"}}, \"marker\": {\"colorbar\": {\"outlinewidth\": 0, \"ticks\": \"\"}}, \"type\": \"scatter3d\"}], \"scattercarpet\": [{\"marker\": {\"colorbar\": {\"outlinewidth\": 0, \"ticks\": \"\"}}, \"type\": \"scattercarpet\"}], \"scattergeo\": [{\"marker\": {\"colorbar\": {\"outlinewidth\": 0, \"ticks\": \"\"}}, \"type\": \"scattergeo\"}], \"scattergl\": [{\"marker\": {\"colorbar\": {\"outlinewidth\": 0, \"ticks\": \"\"}}, \"type\": \"scattergl\"}], \"scattermapbox\": [{\"marker\": {\"colorbar\": {\"outlinewidth\": 0, \"ticks\": \"\"}}, \"type\": \"scattermapbox\"}], \"scatterpolar\": [{\"marker\": {\"colorbar\": {\"outlinewidth\": 0, \"ticks\": \"\"}}, \"type\": \"scatterpolar\"}], \"scatterpolargl\": [{\"marker\": {\"colorbar\": {\"outlinewidth\": 0, \"ticks\": \"\"}}, \"type\": \"scatterpolargl\"}], \"scatterternary\": [{\"marker\": {\"colorbar\": {\"outlinewidth\": 0, \"ticks\": \"\"}}, \"type\": \"scatterternary\"}], \"surface\": [{\"colorbar\": {\"outlinewidth\": 0, \"ticks\": \"\"}, \"colorscale\": [[0.0, \"#0d0887\"], [0.1111111111111111, \"#46039f\"], [0.2222222222222222, \"#7201a8\"], [0.3333333333333333, \"#9c179e\"], [0.4444444444444444, \"#bd3786\"], [0.5555555555555556, \"#d8576b\"], [0.6666666666666666, \"#ed7953\"], [0.7777777777777778, \"#fb9f3a\"], [0.8888888888888888, \"#fdca26\"], [1.0, \"#f0f921\"]], \"type\": \"surface\"}], \"table\": [{\"cells\": {\"fill\": {\"color\": \"#EBF0F8\"}, \"line\": {\"color\": \"white\"}}, \"header\": {\"fill\": {\"color\": \"#C8D4E3\"}, \"line\": {\"color\": \"white\"}}, \"type\": \"table\"}]}, \"layout\": {\"annotationdefaults\": {\"arrowcolor\": \"#2a3f5f\", \"arrowhead\": 0, \"arrowwidth\": 1}, \"coloraxis\": {\"colorbar\": {\"outlinewidth\": 0, \"ticks\": \"\"}}, \"colorscale\": {\"diverging\": [[0, \"#8e0152\"], [0.1, \"#c51b7d\"], [0.2, \"#de77ae\"], [0.3, \"#f1b6da\"], [0.4, \"#fde0ef\"], [0.5, \"#f7f7f7\"], [0.6, \"#e6f5d0\"], [0.7, \"#b8e186\"], [0.8, \"#7fbc41\"], [0.9, \"#4d9221\"], [1, \"#276419\"]], \"sequential\": [[0.0, \"#0d0887\"], [0.1111111111111111, \"#46039f\"], [0.2222222222222222, \"#7201a8\"], [0.3333333333333333, \"#9c179e\"], [0.4444444444444444, \"#bd3786\"], [0.5555555555555556, \"#d8576b\"], [0.6666666666666666, \"#ed7953\"], [0.7777777777777778, \"#fb9f3a\"], [0.8888888888888888, \"#fdca26\"], [1.0, \"#f0f921\"]], \"sequentialminus\": [[0.0, \"#0d0887\"], [0.1111111111111111, \"#46039f\"], [0.2222222222222222, \"#7201a8\"], [0.3333333333333333, \"#9c179e\"], [0.4444444444444444, \"#bd3786\"], [0.5555555555555556, \"#d8576b\"], [0.6666666666666666, \"#ed7953\"], [0.7777777777777778, \"#fb9f3a\"], [0.8888888888888888, \"#fdca26\"], [1.0, \"#f0f921\"]]}, \"colorway\": [\"#636efa\", \"#EF553B\", \"#00cc96\", \"#ab63fa\", \"#FFA15A\", \"#19d3f3\", \"#FF6692\", \"#B6E880\", \"#FF97FF\", \"#FECB52\"], \"font\": {\"color\": \"#2a3f5f\"}, \"geo\": {\"bgcolor\": \"white\", \"lakecolor\": \"white\", \"landcolor\": \"#E5ECF6\", \"showlakes\": true, \"showland\": true, \"subunitcolor\": \"white\"}, \"hoverlabel\": {\"align\": \"left\"}, \"hovermode\": \"closest\", \"mapbox\": {\"style\": \"light\"}, \"paper_bgcolor\": \"white\", \"plot_bgcolor\": \"#E5ECF6\", \"polar\": {\"angularaxis\": {\"gridcolor\": \"white\", \"linecolor\": \"white\", \"ticks\": \"\"}, \"bgcolor\": \"#E5ECF6\", \"radialaxis\": {\"gridcolor\": \"white\", \"linecolor\": \"white\", \"ticks\": \"\"}}, \"scene\": {\"xaxis\": {\"backgroundcolor\": \"#E5ECF6\", \"gridcolor\": \"white\", \"gridwidth\": 2, \"linecolor\": \"white\", \"showbackground\": true, \"ticks\": \"\", \"zerolinecolor\": \"white\"}, \"yaxis\": {\"backgroundcolor\": \"#E5ECF6\", \"gridcolor\": \"white\", \"gridwidth\": 2, \"linecolor\": \"white\", \"showbackground\": true, \"ticks\": \"\", \"zerolinecolor\": \"white\"}, \"zaxis\": {\"backgroundcolor\": \"#E5ECF6\", \"gridcolor\": \"white\", \"gridwidth\": 2, \"linecolor\": \"white\", \"showbackground\": true, \"ticks\": \"\", \"zerolinecolor\": \"white\"}}, \"shapedefaults\": {\"line\": {\"color\": \"#2a3f5f\"}}, \"ternary\": {\"aaxis\": {\"gridcolor\": \"white\", \"linecolor\": \"white\", \"ticks\": \"\"}, \"baxis\": {\"gridcolor\": \"white\", \"linecolor\": \"white\", \"ticks\": \"\"}, \"bgcolor\": \"#E5ECF6\", \"caxis\": {\"gridcolor\": \"white\", \"linecolor\": \"white\", \"ticks\": \"\"}}, \"title\": {\"x\": 0.05}, \"xaxis\": {\"automargin\": true, \"gridcolor\": \"white\", \"linecolor\": \"white\", \"ticks\": \"\", \"title\": {\"standoff\": 15}, \"zerolinecolor\": \"white\", \"zerolinewidth\": 2}, \"yaxis\": {\"automargin\": true, \"gridcolor\": \"white\", \"linecolor\": \"white\", \"ticks\": \"\", \"title\": {\"standoff\": 15}, \"zerolinecolor\": \"white\", \"zerolinewidth\": 2}}}},\n",
       "                        {\"responsive\": true}\n",
       "                    ).then(function(){\n",
       "                            \n",
       "var gd = document.getElementById('f4952766-3460-4e6c-acbc-52b10e824fe8');\n",
       "var x = new MutationObserver(function (mutations, observer) {{\n",
       "        var display = window.getComputedStyle(gd).display;\n",
       "        if (!display || display === 'none') {{\n",
       "            console.log([gd, 'removed!']);\n",
       "            Plotly.purge(gd);\n",
       "            observer.disconnect();\n",
       "        }}\n",
       "}});\n",
       "\n",
       "// Listen for the removal of the full notebook cells\n",
       "var notebookContainer = gd.closest('#notebook-container');\n",
       "if (notebookContainer) {{\n",
       "    x.observe(notebookContainer, {childList: true});\n",
       "}}\n",
       "\n",
       "// Listen for the clearing of the current output cell\n",
       "var outputEl = gd.closest('.output');\n",
       "if (outputEl) {{\n",
       "    x.observe(outputEl, {childList: true});\n",
       "}}\n",
       "\n",
       "                        })\n",
       "                };\n",
       "                });\n",
       "            </script>\n",
       "        </div>"
      ]
     },
     "metadata": {},
     "output_type": "display_data"
    }
   ],
   "source": [
    "fig = go.Figure()\n",
    "fig.add_trace(go.Scatter(\n",
    "    y=time_series2,\n",
    "    mode='lines+markers',\n",
    "    name='Original Plot'\n",
    "))\n",
    "fig.add_trace(go.Scatter(\n",
    "    x=indices2,\n",
    "    y=[time_series2[j] for j in indices2],\n",
    "    mode='markers',\n",
    "    marker=dict(\n",
    "        size=8,\n",
    "        color='red',\n",
    "        symbol='cross'\n",
    "    ),\n",
    "    name='Detected Peaks'\n",
    "))\n",
    "\n",
    "fig.show()"
   ]
  },
  {
   "cell_type": "code",
   "execution_count": null,
   "metadata": {},
   "outputs": [],
   "source": []
  }
 ],
 "metadata": {
  "kernelspec": {
   "display_name": "Python 3",
   "language": "python",
   "name": "python3"
  },
  "language_info": {
   "codemirror_mode": {
    "name": "ipython",
    "version": 3
   },
   "file_extension": ".py",
   "mimetype": "text/x-python",
   "name": "python",
   "nbconvert_exporter": "python",
   "pygments_lexer": "ipython3",
   "version": "3.7.4"
  }
 },
 "nbformat": 4,
 "nbformat_minor": 2
}
